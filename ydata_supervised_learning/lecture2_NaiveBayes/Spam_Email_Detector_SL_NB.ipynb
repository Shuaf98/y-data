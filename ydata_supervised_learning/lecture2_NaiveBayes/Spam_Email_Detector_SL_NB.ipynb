{
 "cells": [
  {
   "cell_type": "markdown",
   "metadata": {
    "id": "WbTSPR0dR9Ul"
   },
   "source": [
    "# Automated Spam Filtering using Naive Bayes"
   ]
  },
  {
   "cell_type": "markdown",
   "metadata": {
    "id": "95n5INsVR9Um"
   },
   "source": [
    "Credit: [@RadimRehurek](https://twitter.com/radimrehurek).\n",
    "\n",
    "Let's create an app to classify phone SMS messages in English (well, the \"SMS kind\" of English...) as either \"spam\" or \"ham\" (=not spam)."
   ]
  },
  {
   "cell_type": "code",
   "execution_count": 105,
   "metadata": {
    "ExecuteTime": {
     "end_time": "2020-05-05T19:34:14.006903Z",
     "start_time": "2020-05-05T19:34:10.315589Z"
    },
    "id": "-H4RkkDjR9Un"
   },
   "outputs": [],
   "source": [
    "%matplotlib inline\n",
    "import matplotlib.pyplot as plt\n",
    "import numpy as np\n",
    "import pandas\n",
    "import sklearn\n",
    "import pickle\n",
    "import csv\n",
    "\n",
    "from sklearn.feature_extraction.text import CountVectorizer, TfidfTransformer\n",
    "from sklearn.naive_bayes import MultinomialNB\n",
    "from sklearn.svm import SVC, LinearSVC\n",
    "from sklearn.metrics import classification_report, f1_score, accuracy_score, confusion_matrix\n",
    "from sklearn.pipeline import Pipeline\n",
    "from sklearn.model_selection import GridSearchCV\n",
    "from sklearn.model_selection import StratifiedKFold, cross_val_score, train_test_split \n",
    "from sklearn.tree import DecisionTreeClassifier \n",
    "from sklearn.model_selection import learning_curve"
   ]
  },
  {
   "cell_type": "code",
   "execution_count": 106,
   "metadata": {
    "ExecuteTime": {
     "end_time": "2020-05-05T19:34:20.394070Z",
     "start_time": "2020-05-05T19:34:14.010870Z"
    },
    "id": "JytGjtDDR9Up",
    "outputId": "e276fb7a-7e48-4d30-d8d7-60dfe0e0c016"
   },
   "outputs": [
    {
     "name": "stdout",
     "output_type": "stream",
     "text": [
      "Requirement already satisfied: nltk in c:\\users\\sfrie\\anaconda3\\envs\\py4dp\\lib\\site-packages (3.6.5)\n",
      "Requirement already satisfied: joblib in c:\\users\\sfrie\\anaconda3\\envs\\py4dp\\lib\\site-packages (from nltk) (1.1.0)\n",
      "Requirement already satisfied: click in c:\\users\\sfrie\\anaconda3\\envs\\py4dp\\lib\\site-packages (from nltk) (8.0.3)\n",
      "Requirement already satisfied: tqdm in c:\\users\\sfrie\\anaconda3\\envs\\py4dp\\lib\\site-packages (from nltk) (4.62.3)\n",
      "Requirement already satisfied: regex>=2021.8.3 in c:\\users\\sfrie\\anaconda3\\envs\\py4dp\\lib\\site-packages (from nltk) (2021.10.8)\n",
      "Requirement already satisfied: colorama in c:\\users\\sfrie\\anaconda3\\envs\\py4dp\\lib\\site-packages (from click->nltk) (0.4.4)\n",
      "Requirement already satisfied: importlib-metadata in c:\\users\\sfrie\\anaconda3\\envs\\py4dp\\lib\\site-packages (from click->nltk) (4.8.1)\n",
      "Requirement already satisfied: zipp>=0.5 in c:\\users\\sfrie\\anaconda3\\envs\\py4dp\\lib\\site-packages (from importlib-metadata->click->nltk) (3.6.0)\n",
      "Requirement already satisfied: typing-extensions>=3.6.4 in c:\\users\\sfrie\\anaconda3\\envs\\py4dp\\lib\\site-packages (from importlib-metadata->click->nltk) (3.10.0.2)\n"
     ]
    },
    {
     "name": "stderr",
     "output_type": "stream",
     "text": [
      "[nltk_data] Downloading package punkt to\n",
      "[nltk_data]     C:\\Users\\sfrie\\AppData\\Roaming\\nltk_data...\n",
      "[nltk_data]   Package punkt is already up-to-date!\n"
     ]
    },
    {
     "name": "stdout",
     "output_type": "stream",
     "text": [
      "Requirement already satisfied: textblob in c:\\users\\sfrie\\anaconda3\\envs\\py4dp\\lib\\site-packages (0.17.1)\n",
      "Requirement already satisfied: nltk>=3.1 in c:\\users\\sfrie\\anaconda3\\envs\\py4dp\\lib\\site-packages (from textblob) (3.6.5)\n",
      "Requirement already satisfied: tqdm in c:\\users\\sfrie\\anaconda3\\envs\\py4dp\\lib\\site-packages (from nltk>=3.1->textblob) (4.62.3)\n",
      "Requirement already satisfied: regex>=2021.8.3 in c:\\users\\sfrie\\anaconda3\\envs\\py4dp\\lib\\site-packages (from nltk>=3.1->textblob) (2021.10.8)\n",
      "Requirement already satisfied: click in c:\\users\\sfrie\\anaconda3\\envs\\py4dp\\lib\\site-packages (from nltk>=3.1->textblob) (8.0.3)\n",
      "Requirement already satisfied: joblib in c:\\users\\sfrie\\anaconda3\\envs\\py4dp\\lib\\site-packages (from nltk>=3.1->textblob) (1.1.0)\n",
      "Requirement already satisfied: colorama in c:\\users\\sfrie\\anaconda3\\envs\\py4dp\\lib\\site-packages (from click->nltk>=3.1->textblob) (0.4.4)\n",
      "Requirement already satisfied: importlib-metadata in c:\\users\\sfrie\\anaconda3\\envs\\py4dp\\lib\\site-packages (from click->nltk>=3.1->textblob) (4.8.1)\n",
      "Requirement already satisfied: typing-extensions>=3.6.4 in c:\\users\\sfrie\\anaconda3\\envs\\py4dp\\lib\\site-packages (from importlib-metadata->click->nltk>=3.1->textblob) (3.10.0.2)\n",
      "Requirement already satisfied: zipp>=0.5 in c:\\users\\sfrie\\anaconda3\\envs\\py4dp\\lib\\site-packages (from importlib-metadata->click->nltk>=3.1->textblob) (3.6.0)\n"
     ]
    }
   ],
   "source": [
    "# Install NLP packages\n",
    "!pip install nltk\n",
    "import nltk\n",
    "nltk.download('punkt')\n",
    "!pip install textblob\n",
    "from textblob import TextBlob"
   ]
  },
  {
   "cell_type": "markdown",
   "metadata": {
    "id": "bGHLJUCGR9Uq"
   },
   "source": [
    "## Step 1: Load data, look around"
   ]
  },
  {
   "cell_type": "markdown",
   "metadata": {
    "id": "n_9wNmZMR9Uq"
   },
   "source": [
    "Let's first download the dataset we'll be using - go to https://archive.ics.uci.edu/ml/datasets/SMS+Spam+Collection and download the zip file. Unzip it under `data` subdirectory. You should see a file called `SMSSpamCollection`, about 0.5MB in size:"
   ]
  },
  {
   "cell_type": "markdown",
   "metadata": {
    "id": "AThf-0QpR9Ur"
   },
   "source": [
    "```bash\n",
    "$ ls -l data\n",
    "total 1352\n",
    "-rw-r--r--@ 1 kofola  staff  477907 Mar 15  2011 SMSSpamCollection\n",
    "-rw-r--r--@ 1 kofola  staff    5868 Apr 18  2011 readme\n",
    "-rw-r-----@ 1 kofola  staff  203415 Dec  1 15:30 smsspamcollection.zip\n",
    "```"
   ]
  },
  {
   "cell_type": "markdown",
   "metadata": {
    "id": "p68u7iBiR9Us"
   },
   "source": [
    "This file contains **a collection of more than 5 thousand SMS phone messages** (see the `readme` file for more info)."
   ]
  },
  {
   "cell_type": "markdown",
   "metadata": {
    "id": "JRm5WyiWR9Us"
   },
   "source": [
    "We see that this is a [TSV](http://en.wikipedia.org/wiki/Tab-separated_values) (\"tab separated values\") file, where the first column is a label saying whether the given message is a normal message (\"ham\") or \"spam\". The second column is the message itself.\n",
    "\n",
    "This corpus will be our labeled training set."
   ]
  },
  {
   "cell_type": "markdown",
   "metadata": {
    "id": "IFpD1TnfR9Ut"
   },
   "source": [
    "[![](http://radimrehurek.com/data_science_python/plot_ML_flow_chart_11.png)](http://www.astroml.org/sklearn_tutorial/general_concepts.html#supervised-learning-model-fit-x-y)"
   ]
  },
  {
   "cell_type": "markdown",
   "metadata": {
    "id": "opeZoQfYR9Uu"
   },
   "source": [
    "Instead of parsing TSV (or CSV, or Excel...) files by hand, we can use Python's `pandas` library to do the work for us:"
   ]
  },
  {
   "cell_type": "code",
   "execution_count": 107,
   "metadata": {
    "ExecuteTime": {
     "end_time": "2020-05-05T19:34:20.440312Z",
     "start_time": "2020-05-05T19:34:20.397072Z"
    },
    "id": "vf7yVhvbR9Uu",
    "outputId": "a3b333ae-ef85-4142-9677-294b81a69eb6"
   },
   "outputs": [
    {
     "name": "stdout",
     "output_type": "stream",
     "text": [
      "     label                                            message\n",
      "0      ham  Go until jurong point, crazy.. Available only ...\n",
      "1      ham                      Ok lar... Joking wif u oni...\n",
      "2     spam  Free entry in 2 a wkly comp to win FA Cup fina...\n",
      "3      ham  U dun say so early hor... U c already then say...\n",
      "4      ham  Nah I don't think he goes to usf, he lives aro...\n",
      "...    ...                                                ...\n",
      "5569  spam  This is the 2nd time we have tried 2 contact u...\n",
      "5570   ham               Will ü b going to esplanade fr home?\n",
      "5571   ham  Pity, * was in mood for that. So...any other s...\n",
      "5572   ham  The guy did some bitching but I acted like i'd...\n",
      "5573   ham                         Rofl. Its true to its name\n",
      "\n",
      "[5574 rows x 2 columns]\n"
     ]
    }
   ],
   "source": [
    "messages = pandas.read_csv(r'C:\\Users\\sfrie\\Ydata\\ydata_supervised_learning\\lecture2_NaiveBayes\\data\\SMSSpamCollection', sep='\\t', quoting=csv.QUOTE_NONE,\n",
    "                           names=[\"label\", \"message\"])\n",
    "print(messages)"
   ]
  },
  {
   "cell_type": "markdown",
   "metadata": {
    "id": "8mW9j0ajR9Uu"
   },
   "source": [
    "With `pandas`, we can also view aggregate statistics easily:"
   ]
  },
  {
   "cell_type": "code",
   "execution_count": 108,
   "metadata": {
    "ExecuteTime": {
     "end_time": "2020-05-05T19:34:20.489071Z",
     "start_time": "2020-05-05T19:34:20.444074Z"
    },
    "id": "1E3eD3YoR9Uv",
    "outputId": "951bb39b-c51d-4c93-dd72-52eb284b652e"
   },
   "outputs": [
    {
     "data": {
      "text/html": [
       "<div>\n",
       "<style scoped>\n",
       "    .dataframe tbody tr th:only-of-type {\n",
       "        vertical-align: middle;\n",
       "    }\n",
       "\n",
       "    .dataframe tbody tr th {\n",
       "        vertical-align: top;\n",
       "    }\n",
       "\n",
       "    .dataframe thead th {\n",
       "        text-align: right;\n",
       "    }\n",
       "</style>\n",
       "<table border=\"1\" class=\"dataframe\">\n",
       "  <thead>\n",
       "    <tr style=\"text-align: right;\">\n",
       "      <th></th>\n",
       "      <th>label</th>\n",
       "      <th>ham</th>\n",
       "      <th>spam</th>\n",
       "    </tr>\n",
       "  </thead>\n",
       "  <tbody>\n",
       "    <tr>\n",
       "      <th rowspan=\"4\" valign=\"top\">message</th>\n",
       "      <th>count</th>\n",
       "      <td>4827</td>\n",
       "      <td>747</td>\n",
       "    </tr>\n",
       "    <tr>\n",
       "      <th>unique</th>\n",
       "      <td>4518</td>\n",
       "      <td>653</td>\n",
       "    </tr>\n",
       "    <tr>\n",
       "      <th>top</th>\n",
       "      <td>Sorry, I'll call later</td>\n",
       "      <td>Please call our customer service representativ...</td>\n",
       "    </tr>\n",
       "    <tr>\n",
       "      <th>freq</th>\n",
       "      <td>30</td>\n",
       "      <td>4</td>\n",
       "    </tr>\n",
       "  </tbody>\n",
       "</table>\n",
       "</div>"
      ],
      "text/plain": [
       "label                              ham  \\\n",
       "message count                     4827   \n",
       "        unique                    4518   \n",
       "        top     Sorry, I'll call later   \n",
       "        freq                        30   \n",
       "\n",
       "label                                                        spam  \n",
       "message count                                                 747  \n",
       "        unique                                                653  \n",
       "        top     Please call our customer service representativ...  \n",
       "        freq                                                    4  "
      ]
     },
     "execution_count": 108,
     "metadata": {},
     "output_type": "execute_result"
    }
   ],
   "source": [
    "messages.groupby('label').describe().T"
   ]
  },
  {
   "cell_type": "markdown",
   "metadata": {
    "id": "_amFFw6LR9Uv"
   },
   "source": [
    "How long are the messages?"
   ]
  },
  {
   "cell_type": "code",
   "execution_count": 109,
   "metadata": {
    "ExecuteTime": {
     "end_time": "2020-05-05T19:34:20.507076Z",
     "start_time": "2020-05-05T19:34:20.491071Z"
    },
    "id": "85GF1RyDR9Uw",
    "outputId": "8d25bc75-1d36-4a55-b23f-9750fa06e3d6"
   },
   "outputs": [
    {
     "data": {
      "text/html": [
       "<div>\n",
       "<style scoped>\n",
       "    .dataframe tbody tr th:only-of-type {\n",
       "        vertical-align: middle;\n",
       "    }\n",
       "\n",
       "    .dataframe tbody tr th {\n",
       "        vertical-align: top;\n",
       "    }\n",
       "\n",
       "    .dataframe thead th {\n",
       "        text-align: right;\n",
       "    }\n",
       "</style>\n",
       "<table border=\"1\" class=\"dataframe\">\n",
       "  <thead>\n",
       "    <tr style=\"text-align: right;\">\n",
       "      <th></th>\n",
       "      <th>label</th>\n",
       "      <th>message</th>\n",
       "      <th>length</th>\n",
       "    </tr>\n",
       "  </thead>\n",
       "  <tbody>\n",
       "    <tr>\n",
       "      <th>0</th>\n",
       "      <td>ham</td>\n",
       "      <td>Go until jurong point, crazy.. Available only ...</td>\n",
       "      <td>111</td>\n",
       "    </tr>\n",
       "    <tr>\n",
       "      <th>1</th>\n",
       "      <td>ham</td>\n",
       "      <td>Ok lar... Joking wif u oni...</td>\n",
       "      <td>29</td>\n",
       "    </tr>\n",
       "    <tr>\n",
       "      <th>2</th>\n",
       "      <td>spam</td>\n",
       "      <td>Free entry in 2 a wkly comp to win FA Cup fina...</td>\n",
       "      <td>155</td>\n",
       "    </tr>\n",
       "    <tr>\n",
       "      <th>3</th>\n",
       "      <td>ham</td>\n",
       "      <td>U dun say so early hor... U c already then say...</td>\n",
       "      <td>49</td>\n",
       "    </tr>\n",
       "    <tr>\n",
       "      <th>4</th>\n",
       "      <td>ham</td>\n",
       "      <td>Nah I don't think he goes to usf, he lives aro...</td>\n",
       "      <td>61</td>\n",
       "    </tr>\n",
       "  </tbody>\n",
       "</table>\n",
       "</div>"
      ],
      "text/plain": [
       "  label                                            message  length\n",
       "0   ham  Go until jurong point, crazy.. Available only ...     111\n",
       "1   ham                      Ok lar... Joking wif u oni...      29\n",
       "2  spam  Free entry in 2 a wkly comp to win FA Cup fina...     155\n",
       "3   ham  U dun say so early hor... U c already then say...      49\n",
       "4   ham  Nah I don't think he goes to usf, he lives aro...      61"
      ]
     },
     "execution_count": 109,
     "metadata": {},
     "output_type": "execute_result"
    }
   ],
   "source": [
    "messages['length'] = messages['message'].map(lambda text: len(text)) #take each text, calculate length (amount of letters)\n",
    "messages.head()"
   ]
  },
  {
   "cell_type": "code",
   "execution_count": 110,
   "metadata": {
    "ExecuteTime": {
     "end_time": "2020-05-05T19:34:20.791444Z",
     "start_time": "2020-05-05T19:34:20.510076Z"
    },
    "id": "DomAv8QER9Uw",
    "outputId": "828e76b8-d7d4-41fa-b7a5-4a1b506bc118"
   },
   "outputs": [
    {
     "data": {
      "text/plain": [
       "<AxesSubplot:ylabel='Frequency'>"
      ]
     },
     "execution_count": 110,
     "metadata": {},
     "output_type": "execute_result"
    },
    {
     "data": {
      "image/png": "[encoded data removed]",
      "text/plain": [
       "<Figure size 432x288 with 1 Axes>"
      ]
     },
     "metadata": {
      "needs_background": "light"
     },
     "output_type": "display_data"
    }
   ],
   "source": [
    "messages.length.plot(bins=20, kind='hist')"
   ]
  },
  {
   "cell_type": "code",
   "execution_count": 111,
   "metadata": {
    "ExecuteTime": {
     "end_time": "2020-05-05T19:34:20.857363Z",
     "start_time": "2020-05-05T19:34:20.793388Z"
    },
    "id": "MXzhSSpmR9Ux",
    "outputId": "56171f8a-e9c8-4c0b-b5c2-d981935d0be0"
   },
   "outputs": [
    {
     "data": {
      "text/plain": [
       "count    5574.000000\n",
       "mean       80.478292\n",
       "std        59.848302\n",
       "min         2.000000\n",
       "25%        36.000000\n",
       "50%        62.000000\n",
       "75%       122.000000\n",
       "max       910.000000\n",
       "Name: length, dtype: float64"
      ]
     },
     "execution_count": 111,
     "metadata": {},
     "output_type": "execute_result"
    }
   ],
   "source": [
    "messages.length.describe()"
   ]
  },
  {
   "cell_type": "markdown",
   "metadata": {
    "id": "F1yO0JexR9Ux"
   },
   "source": [
    "What is that super long message?"
   ]
  },
  {
   "cell_type": "code",
   "execution_count": 112,
   "metadata": {
    "ExecuteTime": {
     "end_time": "2020-05-05T19:34:20.871363Z",
     "start_time": "2020-05-05T19:34:20.862643Z"
    },
    "id": "tGhePn3gR9Ux",
    "outputId": "62610192-e005-430c-c179-a2eedbe4deb0"
   },
   "outputs": [
    {
     "name": "stdout",
     "output_type": "stream",
     "text": [
      "[\"For me the love should start with attraction.i should feel that I need her every time around me.she should be the first thing which comes in my thoughts.I would start the day and end it with her.she should be there every time I dream.love will be then when my every breath has her name.my life should happen around her.my life will be named to her.I would cry for her.will give all my happiness and take all her sorrows.I will be ready to fight with anyone for her.I will be in love when I will be doing the craziest things for her.love will be when I don't have to proove anyone that my girl is the most beautiful lady on the whole planet.I will always be singing praises for her.love will be when I start up making chicken curry and end up makiing sambar.life will be the most beautiful then.will get every morning and thank god for the day because she is with me.I would like to say a lot..will tell later..\"]\n"
     ]
    }
   ],
   "source": [
    "print(list(messages.message[messages.length == 910]))"
   ]
  },
  {
   "cell_type": "markdown",
   "metadata": {
    "id": "jSAbtjVyR9Uy"
   },
   "source": [
    "Is there any difference in message length between spam and ham?"
   ]
  },
  {
   "cell_type": "code",
   "execution_count": 113,
   "metadata": {
    "ExecuteTime": {
     "end_time": "2020-05-05T19:34:21.580709Z",
     "start_time": "2020-05-05T19:34:20.875470Z"
    },
    "id": "5flrVlM9R9Uy",
    "outputId": "101bf0e0-777b-4dc8-9c50-d88fa9431e12"
   },
   "outputs": [
    {
     "data": {
      "text/plain": [
       "array([<AxesSubplot:title={'center':'ham'}>,\n",
       "       <AxesSubplot:title={'center':'spam'}>], dtype=object)"
      ]
     },
     "execution_count": 113,
     "metadata": {},
     "output_type": "execute_result"
    },
    {
     "data": {
      "image/png": "[encoded data removed]",
      "text/plain": [
       "<Figure size 432x288 with 2 Axes>"
      ]
     },
     "metadata": {
      "needs_background": "light"
     },
     "output_type": "display_data"
    }
   ],
   "source": [
    "messages.hist(column='length', by='label', bins=50)"
   ]
  },
  {
   "cell_type": "markdown",
   "metadata": {
    "id": "LPERwAvWR9Uy"
   },
   "source": [
    "Good fun, but how do we make computer understand the plain text messages themselves? Or can it under such malformed gibberish at all?"
   ]
  },
  {
   "cell_type": "markdown",
   "metadata": {
    "id": "6x5QpOuiR9Uz"
   },
   "source": [
    "## Step 2: Data preprocessing"
   ]
  },
  {
   "cell_type": "markdown",
   "metadata": {
    "id": "ab32qOE2R9Uz"
   },
   "source": [
    "In this section we'll massage the raw messages (sequence of characters) into vectors (sequences of numbers).\n",
    "\n",
    "The mapping is not 1-to-1; we'll use the [bag-of-words](http://en.wikipedia.org/wiki/Bag-of-words_model) approach, where each unique word in a text will be represented by one number.\n",
    "\n",
    "As a first step, let's write a function that will split a message into its individual words:"
   ]
  },
  {
   "cell_type": "code",
   "execution_count": 114,
   "metadata": {
    "ExecuteTime": {
     "end_time": "2020-05-05T19:34:21.592742Z",
     "start_time": "2020-05-05T19:34:21.585708Z"
    },
    "id": "-WKreBFKR9Uz"
   },
   "outputs": [],
   "source": [
    "def split_into_tokens(message): #split into words\n",
    "    message = message.encode('utf8').decode()  # convert bytes into proper unicode\n",
    "    return TextBlob(message).words"
   ]
  },
  {
   "cell_type": "markdown",
   "metadata": {
    "id": "TMP_bgDyR9Uz"
   },
   "source": [
    "Here are some of the original texts again:\n",
    "    "
   ]
  },
  {
   "cell_type": "code",
   "execution_count": 115,
   "metadata": {
    "ExecuteTime": {
     "end_time": "2020-05-05T19:34:21.646154Z",
     "start_time": "2020-05-05T19:34:21.595555Z"
    },
    "id": "Kg5-hJgbR9Uz",
    "outputId": "7d9f0578-a204-4f98-f05e-7826b4c29efa"
   },
   "outputs": [
    {
     "data": {
      "text/plain": [
       "0    Go until jurong point, crazy.. Available only ...\n",
       "1                        Ok lar... Joking wif u oni...\n",
       "2    Free entry in 2 a wkly comp to win FA Cup fina...\n",
       "3    U dun say so early hor... U c already then say...\n",
       "4    Nah I don't think he goes to usf, he lives aro...\n",
       "Name: message, dtype: object"
      ]
     },
     "execution_count": 115,
     "metadata": {},
     "output_type": "execute_result"
    }
   ],
   "source": [
    "messages.message.head()"
   ]
  },
  {
   "cell_type": "markdown",
   "metadata": {
    "id": "MVUDu39xR9U0"
   },
   "source": [
    "...and here are the same messages, tokenized:"
   ]
  },
  {
   "cell_type": "code",
   "execution_count": 116,
   "metadata": {
    "ExecuteTime": {
     "end_time": "2020-05-05T19:34:21.685154Z",
     "start_time": "2020-05-05T19:34:21.649146Z"
    },
    "id": "3IkOYEGaR9U0",
    "outputId": "07087cb5-d3a1-48c2-cd27-b002505598d0"
   },
   "outputs": [
    {
     "data": {
      "text/plain": [
       "0    [Go, until, jurong, point, crazy, Available, o...\n",
       "1                       [Ok, lar, Joking, wif, u, oni]\n",
       "2    [Free, entry, in, 2, a, wkly, comp, to, win, F...\n",
       "3    [U, dun, say, so, early, hor, U, c, already, t...\n",
       "4    [Nah, I, do, n't, think, he, goes, to, usf, he...\n",
       "Name: message, dtype: object"
      ]
     },
     "execution_count": 116,
     "metadata": {},
     "output_type": "execute_result"
    }
   ],
   "source": [
    "messages.message.head().apply(split_into_tokens)"
   ]
  },
  {
   "cell_type": "markdown",
   "metadata": {
    "id": "epVh-28CR9U1"
   },
   "source": [
    "NLP questions:\n",
    "\n",
    "1. Do capital letters carry information?\n",
    "2. Does distinguishing inflected form (\"goes\" vs. \"go\") carry information?\n",
    "3. Do interjections, determiners carry information?\n",
    "\n",
    "In other words, we want to better \"normalize\" the text.\n",
    "\n",
    "With textblob, we'd detect [part-of-speech (POS)](http://www.ling.upenn.edu/courses/Fall_2007/ling001/penn_treebank_pos.html) tags with:"
   ]
  },
  {
   "cell_type": "markdown",
   "metadata": {
    "id": "Ie4WrpVIR9U1"
   },
   "source": [
    "and normalize words into their base form ([lemmas](http://en.wikipedia.org/wiki/Lemmatisation)) with:\n",
    "\n",
    "We want to not distniguish between different forms of the same verb. This is called lemetizing."
   ]
  },
  {
   "cell_type": "code",
   "execution_count": 117,
   "metadata": {
    "ExecuteTime": {
     "end_time": "2020-05-05T19:34:21.885173Z",
     "start_time": "2020-05-05T19:34:21.827145Z"
    },
    "id": "WCbljhcTR9U1",
    "outputId": "7ea18139-7d9f-44f3-ffc2-e971ab016298"
   },
   "outputs": [
    {
     "name": "stderr",
     "output_type": "stream",
     "text": [
      "[nltk_data] Downloading package wordnet to\n",
      "[nltk_data]     C:\\Users\\sfrie\\AppData\\Roaming\\nltk_data...\n",
      "[nltk_data]   Package wordnet is already up-to-date!\n"
     ]
    },
    {
     "data": {
      "text/plain": [
       "True"
      ]
     },
     "execution_count": 117,
     "metadata": {},
     "output_type": "execute_result"
    }
   ],
   "source": [
    "import nltk\n",
    "nltk.download('wordnet')"
   ]
  },
  {
   "cell_type": "code",
   "execution_count": 118,
   "metadata": {
    "ExecuteTime": {
     "end_time": "2020-05-05T19:34:24.671127Z",
     "start_time": "2020-05-05T19:34:21.887145Z"
    },
    "id": "pwKXEIZ4R9U2",
    "outputId": "d195981b-10f6-48f4-b220-12f7ca36abb8"
   },
   "outputs": [
    {
     "data": {
      "text/plain": [
       "0    [go, until, jurong, point, crazy, available, o...\n",
       "1                       [ok, lar, joking, wif, u, oni]\n",
       "2    [free, entry, in, 2, a, wkly, comp, to, win, f...\n",
       "3    [u, dun, say, so, early, hor, u, c, already, t...\n",
       "4    [nah, i, do, n't, think, he, go, to, usf, he, ...\n",
       "Name: message, dtype: object"
      ]
     },
     "execution_count": 118,
     "metadata": {},
     "output_type": "execute_result"
    }
   ],
   "source": [
    "def split_into_lemmas(message): \n",
    "    message = message.encode('utf8').decode().lower()\n",
    "    words = TextBlob(message).words\n",
    "    # for each word, take its \"base form\" = lemma \n",
    "    return [word.lemma for word in words]\n",
    "\n",
    "messages.message.head(5).apply(split_into_lemmas)"
   ]
  },
  {
   "cell_type": "markdown",
   "metadata": {
    "id": "NLcDwS6YR9U2"
   },
   "source": [
    "Better. You can probably think of many more ways to improve the preprocessing: decoding HTML entities (those `&amp;` and `&lt;` we saw above); filtering out stop words (pronouns etc); adding more features, such as an word-in-all-caps indicator and so on."
   ]
  },
  {
   "cell_type": "markdown",
   "metadata": {
    "id": "Yd6sSGVyR9U2"
   },
   "source": [
    "## Step 3: Data to vectors"
   ]
  },
  {
   "cell_type": "markdown",
   "metadata": {
    "id": "YRMRlm7zR9U2"
   },
   "source": [
    "Now we'll convert each message, represented as a list of tokens (lemmas) above, into a vector that machine learning models can understand.\n",
    "\n",
    "Doing that requires essentially three steps, in the bag-of-words model:\n",
    "\n",
    "1. counting how many times does a word occur in each message (term frequency)\n",
    "2. weighting the counts, so that frequent tokens get lower weight (inverse document frequency)\n",
    "3. normalizing the vectors to unit length, to abstract from the original text length (L2 norm)"
   ]
  },
  {
   "cell_type": "markdown",
   "metadata": {
    "id": "dPyPZxOGR9U3"
   },
   "source": [
    "Each vector has as many dimensions as there are unique words in the SMS corpus:"
   ]
  },
  {
   "cell_type": "code",
   "execution_count": 171,
   "metadata": {},
   "outputs": [
    {
     "name": "stdout",
     "output_type": "stream",
     "text": [
      "4459 1115 5574\n"
     ]
    }
   ],
   "source": [
    "msg_train, msg_test, label_train, label_test = \\\n",
    "    train_test_split(messages['message'], messages['label'], test_size=0.2)\n",
    "    #for simplicity we don't have a validation set, because validation is used to train hypterparameters.\n",
    "    #\n",
    "print( len(msg_train), len(msg_test), len(msg_train) + len(msg_test) )\n"
   ]
  },
  {
   "cell_type": "code",
   "execution_count": 172,
   "metadata": {
    "ExecuteTime": {
     "end_time": "2020-05-05T19:34:28.349134Z",
     "start_time": "2020-05-05T19:34:24.677076Z"
    },
    "id": "MMTGPXWxR9U3",
    "outputId": "a51fa3da-d4a6-411f-e6d6-5f776fd530fc"
   },
   "outputs": [
    {
     "name": "stdout",
     "output_type": "stream",
     "text": [
      "7773\n"
     ]
    }
   ],
   "source": [
    "bow_transformer = CountVectorizer(analyzer=split_into_lemmas).fit(msg_train)\n",
    "print(len(bow_transformer.vocabulary_)) #This value will change every time you spliot the training and test data."
   ]
  },
  {
   "cell_type": "code",
   "execution_count": null,
   "metadata": {},
   "outputs": [],
   "source": [
    "# print(bow_transformer.vocabulary_)"
   ]
  },
  {
   "cell_type": "markdown",
   "metadata": {
    "id": "B4WbQSeHR9U3"
   },
   "source": [
    "Here we used `scikit-learn` (`sklearn`), a powerful Python library for teaching machine learning. It contains a multitude of various methods and options.\n",
    "\n",
    "Let's take one text message and get its bag-of-words counts as a vector, putting to use our new `bow_transformer`:"
   ]
  },
  {
   "cell_type": "code",
   "execution_count": 142,
   "metadata": {
    "ExecuteTime": {
     "end_time": "2020-05-05T19:34:28.368393Z",
     "start_time": "2020-05-05T19:34:28.356073Z"
    },
    "id": "aLVdOiONR9U3",
    "outputId": "d12262a9-b960-4435-e4c8-4be5746c75e1"
   },
   "outputs": [
    {
     "name": "stdout",
     "output_type": "stream",
     "text": [
      "U dun say so early hor... U c already then say...\n"
     ]
    }
   ],
   "source": [
    "message4 = messages['message'][3]\n",
    "print(message4)"
   ]
  },
  {
   "cell_type": "code",
   "execution_count": 143,
   "metadata": {
    "ExecuteTime": {
     "end_time": "2020-05-05T19:34:28.389067Z",
     "start_time": "2020-05-05T19:34:28.375068Z"
    },
    "id": "w2t3uTGLR9U4",
    "outputId": "74f3a99c-d01e-4c59-f598-fdf8e27fb53e"
   },
   "outputs": [
    {
     "name": "stdout",
     "output_type": "stream",
     "text": [
      "  (0, 1025)\t1\n",
      "  (0, 1694)\t1\n",
      "  (0, 2556)\t1\n",
      "  (0, 2581)\t1\n",
      "  (0, 3535)\t1\n",
      "  (0, 5921)\t2\n",
      "  (0, 6264)\t1\n",
      "  (0, 6796)\t1\n",
      "  (0, 7081)\t2\n",
      "(1, 7831)\n"
     ]
    }
   ],
   "source": [
    "bow4 = bow_transformer.transform([message4])\n",
    "print(bow4)\n",
    "print(bow4.shape)"
   ]
  },
  {
   "cell_type": "markdown",
   "metadata": {
    "id": "rTTc_tmJR9U4"
   },
   "source": [
    "7902 is the vocabulary size. This shows...\n",
    "\n",
    "So, nine unique words in message nr. 4, two of them appear twice, the rest only once. Sanity check: what are these words the appear twice?"
   ]
  },
  {
   "cell_type": "markdown",
   "metadata": {
    "id": "ZGYFr8vtR9U4"
   },
   "source": [
    "The bag-of-words counts for the entire SMS corpus are a large, sparse matrix:"
   ]
  },
  {
   "cell_type": "code",
   "execution_count": 123,
   "metadata": {
    "ExecuteTime": {
     "end_time": "2020-05-05T19:34:31.923955Z",
     "start_time": "2020-05-05T19:34:28.445119Z"
    },
    "id": "qaa_kscNR9U4",
    "outputId": "9d2c9c03-f92c-4efb-e9fd-bb071a4a325b"
   },
   "outputs": [
    {
     "name": "stdout",
     "output_type": "stream",
     "text": [
      "sparse matrix shape: (4459, 7831)\n",
      "number of non-zeros: 64749\n",
      "sparsity: 0.19%\n"
     ]
    }
   ],
   "source": [
    "messages_bow_train = bow_transformer.transform(msg_train)\n",
    "messages_bow_test = bow_transformer.transform(msg_test)\n",
    "\n",
    "print( 'sparse matrix shape:', messages_bow_train.shape)\n",
    "print( 'number of non-zeros:', messages_bow_train.nnz)\n",
    "print( 'sparsity: %.2f%%' % (100.0 * messages_bow_train.nnz / (messages_bow_train.shape[0] * messages_bow_train.shape[1])))\n",
    "#Sparsity of the vectors is equal to how non zero entries we have, divided by the... "
   ]
  },
  {
   "cell_type": "markdown",
   "metadata": {
    "id": "PNraAd-GR9U6"
   },
   "source": [
    "There are a multitude of ways in which data can be proprocessed and vectorized. These two steps, also called \"feature engineering\", are typically the most time consuming and \"unsexy\" parts of building a predictive pipeline, but they are very important and require some experience. The trick is to evaluate constantly: analyze model for the errors it makes, improve data cleaning & preprocessing, brainstorm for new features, evaluate..."
   ]
  },
  {
   "cell_type": "markdown",
   "metadata": {
    "id": "mBQWrgGIR9U6"
   },
   "source": [
    "## Step 4: Training a model, detecting spam"
   ]
  },
  {
   "cell_type": "markdown",
   "metadata": {
    "id": "WLS-D4xjR9U6"
   },
   "source": [
    "With messages represented as vectors, we can finally train our spam/ham classifier. This part is pretty straightforward, and there are many libraries that realize the training algorithms."
   ]
  },
  {
   "cell_type": "markdown",
   "metadata": {
    "id": "Z9Rmjgr1R9U6"
   },
   "source": [
    "We'll be using scikit-learn here, choosing the [Naive Bayes](http://en.wikipedia.org/wiki/Naive_Bayes_classifier) classifier to start with:"
   ]
  },
  {
   "cell_type": "code",
   "execution_count": 144,
   "metadata": {
    "ExecuteTime": {
     "end_time": "2020-05-05T19:34:32.021914Z",
     "start_time": "2020-05-05T19:34:31.987893Z"
    },
    "id": "no_6huPFR9U6",
    "outputId": "d55e6214-0579-4161-df32-8280c1d130f7"
   },
   "outputs": [
    {
     "name": "stdout",
     "output_type": "stream",
     "text": [
      "Wall time: 17.6 ms\n"
     ]
    }
   ],
   "source": [
    "%time spam_detector = MultinomialNB().fit(messages_bow_train, label_train)\n",
    "#multinomialNB does all of the calculations for us."
   ]
  },
  {
   "cell_type": "markdown",
   "metadata": {
    "id": "zKHevG6bR9U7"
   },
   "source": [
    "Hooray! You can try it with your own texts, too.\n",
    "\n",
    "A natural question is to ask, how many messages do we classify correctly overall?"
   ]
  },
  {
   "cell_type": "code",
   "execution_count": 146,
   "metadata": {
    "ExecuteTime": {
     "end_time": "2020-05-05T19:34:32.041895Z",
     "start_time": "2020-05-05T19:34:32.033893Z"
    },
    "id": "H6HKixQrR9U7",
    "outputId": "60b825b7-9067-42ab-df10-4bb4568ed7b4"
   },
   "outputs": [
    {
     "name": "stdout",
     "output_type": "stream",
     "text": [
      "['ham' 'ham' 'ham' ... 'ham' 'ham' 'ham']\n"
     ]
    }
   ],
   "source": [
    "all_predictions = spam_detector.predict(messages_bow_test)\n",
    "print( all_predictions)"
   ]
  },
  {
   "cell_type": "code",
   "execution_count": 126,
   "metadata": {
    "ExecuteTime": {
     "end_time": "2020-05-05T19:34:32.101893Z",
     "start_time": "2020-05-05T19:34:32.043893Z"
    },
    "id": "zYpKBhchR9U7",
    "outputId": "e339f013-d67b-468e-85ef-1c5010dabfe1"
   },
   "outputs": [
    {
     "name": "stdout",
     "output_type": "stream",
     "text": [
      "accuracy 0.9910313901345291\n",
      "confusion matrix\n",
      " [[960   1]\n",
      " [  9 145]]\n",
      "(row=expected, col=predicted)\n"
     ]
    }
   ],
   "source": [
    "print( 'accuracy', accuracy_score(label_test, all_predictions)) #Everything we were right on, divided by everything.\n",
    "print( 'confusion matrix\\n', confusion_matrix(label_test, all_predictions))\n",
    "#confusion matrix labels: Top row are positive samples which are ham, second row is Spam. Frist column looks \n",
    "# at positives, second looks at negatives. So there were 3 False positives, and 17 False negatives.\n",
    "print( '(row=expected, col=predicted)')\n",
    "\n",
    "#Here, we care more for precision than we do recall- we don't want to accidentally get rid of important emails."
   ]
  },
  {
   "cell_type": "code",
   "execution_count": 149,
   "metadata": {
    "ExecuteTime": {
     "end_time": "2020-05-05T19:34:32.533200Z",
     "start_time": "2020-05-05T19:34:32.105896Z"
    },
    "id": "PoXbXY7rR9U8",
    "outputId": "48bdfd16-60f8-430c-c470-d52b76b4e8c9"
   },
   "outputs": [
    {
     "data": {
      "text/plain": [
       "Text(0.5, 0, 'predicted label')"
      ]
     },
     "execution_count": 149,
     "metadata": {},
     "output_type": "execute_result"
    },
    {
     "data": {
      "image/png": "[encoded data removed]",
      "text/plain": [
       "<Figure size 288x288 with 2 Axes>"
      ]
     },
     "metadata": {
      "needs_background": "light"
     },
     "output_type": "display_data"
    }
   ],
   "source": [
    "plt.matshow(confusion_matrix(label_test, all_predictions), cmap=plt.cm.binary, interpolation='nearest')\n",
    "plt.title('confusion matrix')\n",
    "plt.colorbar()\n",
    "plt.ylabel('expected label')\n",
    "plt.xlabel('predicted label')"
   ]
  },
  {
   "cell_type": "markdown",
   "metadata": {
    "id": "Ux0t_9NgR9U8"
   },
   "source": [
    "From this confusion matrix, we can compute precision and recall, or their combination (harmonic mean) F1:"
   ]
  },
  {
   "cell_type": "code",
   "execution_count": 128,
   "metadata": {
    "ExecuteTime": {
     "end_time": "2020-05-05T19:34:32.750289Z",
     "start_time": "2020-05-05T19:34:29.741Z"
    },
    "id": "D3rOLkrKR9U8"
   },
   "outputs": [
    {
     "name": "stdout",
     "output_type": "stream",
     "text": [
      "              precision    recall  f1-score   support\n",
      "\n",
      "         ham       0.99      1.00      0.99       961\n",
      "        spam       0.99      0.94      0.97       154\n",
      "\n",
      "    accuracy                           0.99      1115\n",
      "   macro avg       0.99      0.97      0.98      1115\n",
      "weighted avg       0.99      0.99      0.99      1115\n",
      "\n"
     ]
    }
   ],
   "source": [
    "print(classification_report(label_test, all_predictions))"
   ]
  },
  {
   "cell_type": "markdown",
   "metadata": {
    "id": "3KRbtkZ_R9U9"
   },
   "source": [
    "There are quite a few possible metrics for evaluating model performance. Which one is the most suitable depends on the task. For example, the cost of mispredicting \"spam\" as \"ham\" is probably much lower than mispredicting \"ham\" as \"spam\"."
   ]
  }
 ],
 "metadata": {
  "colab": {
   "name": "Spam Email Detector.ipynb",
   "provenance": []
  },
  "kernelspec": {
   "display_name": "Python 3",
   "language": "python",
   "name": "python3"
  },
  "language_info": {
   "codemirror_mode": {
    "name": "ipython",
    "version": 3
   },
   "file_extension": ".py",
   "mimetype": "text/x-python",
   "name": "python",
   "nbconvert_exporter": "python",
   "pygments_lexer": "ipython3",
   "version": "3.7.10"
  }
 },
 "nbformat": 4,
 "nbformat_minor": 1
}
