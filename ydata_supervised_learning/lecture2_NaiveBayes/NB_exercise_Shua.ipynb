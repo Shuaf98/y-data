{
 "cells": [
  {
   "cell_type": "markdown",
   "metadata": {
    "id": "Uq_3t_tluNmU"
   },
   "source": [
    "# Naive Bayes"
   ]
  },
  {
   "cell_type": "markdown",
   "metadata": {
    "id": "TQVMUZkQHlm2"
   },
   "source": [
    "## 1. Classifying Digits\n",
    "In this part we will test digits classification on the MNIST dataset, using Bernoulli Naive Bayes (a generative model).\n",
    "\n",
    "The MNIST dataset contains 28x28 grayscale images of handwritten digits between 0 and 9 (10 classes). For mathmatical analysis clarity, and for matching expected API, flatten each image to create a 1D array with 784 elements."
   ]
  },
  {
   "cell_type": "markdown",
   "metadata": {
    "id": "Cjwjk6pzLE-y"
   },
   "source": [
    "### Loading the MNIST dataset\n",
    "Load the MNIST data set. The digits dataset is one of datasets scikit-learn comes with that do not require the downloading of any file from some external website. Use \n",
    ">```\n",
    "mnist = sklearn.datasets.fetch_mldata('MNIST original')\n",
    "```\n",
    "\n",
    "to fetch the original data. You may set the `data_home` to where you wish to download your data for caching. Each image is already transformed into a 1D integer array $x\\in \n",
    "[0,255]^{784}$, and the corresponding label is an integer $y\\in [0,9]$.\n",
    "\n",
    "Plot a single sample of each digit as the original image, so you get a feeling how the data looks like.\n",
    "\n",
    "Finally, divide your data into train and test sets, using 1/7 of the data for testing.\n",
    "\n",
    "---\n",
    "**Note 1:** Using `digits = sklearn.datasets.load_digits()` will only fetch a very small sample of the original set, with images resized to 8x8. \n",
    "This preprocessing of the data reduces dimensionality and gives invariance to small distortions - however, we will use the original data in this exercise. \n",
    "Feel free to test the proformance of the algorithms below on the preprocessed data as well.\n",
    "\n",
    "**Note 2:**\n",
    "Since ML-Data is deprecated, you may wish to use something like this:\n",
    ">```\n",
    "from keras.datasets import mnist\n",
    "(x_train, y_train), (x_test, y_test) = mnist.load_data()\n",
    "x_train = x_train.reshape(x_train.shape[0], 784)\n",
    "x_test = x_test.reshape(x_test.shape[0], 784)\n",
    "  ```\n",
    "\n"
   ]
  },
  {
   "cell_type": "code",
   "execution_count": 9,
   "metadata": {},
   "outputs": [],
   "source": [
    "import sklearn\n",
    "import numpy as np\n",
    "import matplotlib.pyplot as plt\n",
    "%matplotlib inline\n"
   ]
  },
  {
   "cell_type": "code",
   "execution_count": 2,
   "metadata": {
    "id": "05Om0QLxBvvT"
   },
   "outputs": [],
   "source": [
    "# data = sklearn.datasets.fetch_openml('mnist_784')"
   ]
  },
  {
   "cell_type": "code",
   "execution_count": 3,
   "metadata": {},
   "outputs": [
    {
     "name": "stderr",
     "output_type": "stream",
     "text": [
      "Using TensorFlow backend.\n",
      "C:\\Users\\sfrie\\anaconda3\\envs\\py4dp\\lib\\site-packages\\tensorflow\\python\\framework\\dtypes.py:516: FutureWarning: Passing (type, 1) or '1type' as a synonym of type is deprecated; in a future version of numpy, it will be understood as (type, (1,)) / '(1,)type'.\n",
      "  _np_qint8 = np.dtype([(\"qint8\", np.int8, 1)])\n",
      "C:\\Users\\sfrie\\anaconda3\\envs\\py4dp\\lib\\site-packages\\tensorflow\\python\\framework\\dtypes.py:517: FutureWarning: Passing (type, 1) or '1type' as a synonym of type is deprecated; in a future version of numpy, it will be understood as (type, (1,)) / '(1,)type'.\n",
      "  _np_quint8 = np.dtype([(\"quint8\", np.uint8, 1)])\n",
      "C:\\Users\\sfrie\\anaconda3\\envs\\py4dp\\lib\\site-packages\\tensorflow\\python\\framework\\dtypes.py:518: FutureWarning: Passing (type, 1) or '1type' as a synonym of type is deprecated; in a future version of numpy, it will be understood as (type, (1,)) / '(1,)type'.\n",
      "  _np_qint16 = np.dtype([(\"qint16\", np.int16, 1)])\n",
      "C:\\Users\\sfrie\\anaconda3\\envs\\py4dp\\lib\\site-packages\\tensorflow\\python\\framework\\dtypes.py:519: FutureWarning: Passing (type, 1) or '1type' as a synonym of type is deprecated; in a future version of numpy, it will be understood as (type, (1,)) / '(1,)type'.\n",
      "  _np_quint16 = np.dtype([(\"quint16\", np.uint16, 1)])\n",
      "C:\\Users\\sfrie\\anaconda3\\envs\\py4dp\\lib\\site-packages\\tensorflow\\python\\framework\\dtypes.py:520: FutureWarning: Passing (type, 1) or '1type' as a synonym of type is deprecated; in a future version of numpy, it will be understood as (type, (1,)) / '(1,)type'.\n",
      "  _np_qint32 = np.dtype([(\"qint32\", np.int32, 1)])\n",
      "C:\\Users\\sfrie\\anaconda3\\envs\\py4dp\\lib\\site-packages\\tensorflow\\python\\framework\\dtypes.py:525: FutureWarning: Passing (type, 1) or '1type' as a synonym of type is deprecated; in a future version of numpy, it will be understood as (type, (1,)) / '(1,)type'.\n",
      "  np_resource = np.dtype([(\"resource\", np.ubyte, 1)])\n",
      "C:\\Users\\sfrie\\anaconda3\\envs\\py4dp\\lib\\site-packages\\tensorboard\\compat\\tensorflow_stub\\dtypes.py:541: FutureWarning: Passing (type, 1) or '1type' as a synonym of type is deprecated; in a future version of numpy, it will be understood as (type, (1,)) / '(1,)type'.\n",
      "  _np_qint8 = np.dtype([(\"qint8\", np.int8, 1)])\n",
      "C:\\Users\\sfrie\\anaconda3\\envs\\py4dp\\lib\\site-packages\\tensorboard\\compat\\tensorflow_stub\\dtypes.py:542: FutureWarning: Passing (type, 1) or '1type' as a synonym of type is deprecated; in a future version of numpy, it will be understood as (type, (1,)) / '(1,)type'.\n",
      "  _np_quint8 = np.dtype([(\"quint8\", np.uint8, 1)])\n",
      "C:\\Users\\sfrie\\anaconda3\\envs\\py4dp\\lib\\site-packages\\tensorboard\\compat\\tensorflow_stub\\dtypes.py:543: FutureWarning: Passing (type, 1) or '1type' as a synonym of type is deprecated; in a future version of numpy, it will be understood as (type, (1,)) / '(1,)type'.\n",
      "  _np_qint16 = np.dtype([(\"qint16\", np.int16, 1)])\n",
      "C:\\Users\\sfrie\\anaconda3\\envs\\py4dp\\lib\\site-packages\\tensorboard\\compat\\tensorflow_stub\\dtypes.py:544: FutureWarning: Passing (type, 1) or '1type' as a synonym of type is deprecated; in a future version of numpy, it will be understood as (type, (1,)) / '(1,)type'.\n",
      "  _np_quint16 = np.dtype([(\"quint16\", np.uint16, 1)])\n",
      "C:\\Users\\sfrie\\anaconda3\\envs\\py4dp\\lib\\site-packages\\tensorboard\\compat\\tensorflow_stub\\dtypes.py:545: FutureWarning: Passing (type, 1) or '1type' as a synonym of type is deprecated; in a future version of numpy, it will be understood as (type, (1,)) / '(1,)type'.\n",
      "  _np_qint32 = np.dtype([(\"qint32\", np.int32, 1)])\n",
      "C:\\Users\\sfrie\\anaconda3\\envs\\py4dp\\lib\\site-packages\\tensorboard\\compat\\tensorflow_stub\\dtypes.py:550: FutureWarning: Passing (type, 1) or '1type' as a synonym of type is deprecated; in a future version of numpy, it will be understood as (type, (1,)) / '(1,)type'.\n",
      "  np_resource = np.dtype([(\"resource\", np.ubyte, 1)])\n"
     ]
    }
   ],
   "source": [
    "from keras.datasets import mnist; "
   ]
  },
  {
   "cell_type": "code",
   "execution_count": 4,
   "metadata": {},
   "outputs": [],
   "source": [
    "(x_train, y_train), (x_test, y_test) = mnist.load_data()\n",
    "#automatically splits 6:1."
   ]
  },
  {
   "cell_type": "code",
   "execution_count": 5,
   "metadata": {},
   "outputs": [
    {
     "data": {
      "text/plain": [
       "((60000, 28, 28), (10000, 28, 28))"
      ]
     },
     "execution_count": 5,
     "metadata": {},
     "output_type": "execute_result"
    }
   ],
   "source": [
    "x_train.shape, x_test.shape"
   ]
  },
  {
   "cell_type": "code",
   "execution_count": 6,
   "metadata": {},
   "outputs": [
    {
     "data": {
      "text/plain": [
       "(28, 28)"
      ]
     },
     "execution_count": 6,
     "metadata": {},
     "output_type": "execute_result"
    },
    {
     "data": {
      "image/png": "[encoded data removed]",
      "text/plain": [
       "<Figure size 432x288 with 1 Axes>"
      ]
     },
     "metadata": {
      "needs_background": "light"
     },
     "output_type": "display_data"
    }
   ],
   "source": [
    "image = x_train[1]\n",
    "fig = plt.figure()\n",
    "plt.imshow(image, cmap = 'gray')\n",
    "image.shape #(28 by 28, so 784 pixels)"
   ]
  },
  {
   "cell_type": "code",
   "execution_count": 7,
   "metadata": {},
   "outputs": [],
   "source": [
    "x_train = x_train.reshape(x_train.shape[0], 784) #flattent the arrays for analysis\n",
    "x_test = x_test.reshape(x_test.shape[0], 784)"
   ]
  },
  {
   "cell_type": "code",
   "execution_count": null,
   "metadata": {},
   "outputs": [],
   "source": []
  },
  {
   "cell_type": "markdown",
   "metadata": {
    "id": "WTGjjSKaFfE6"
   },
   "source": [
    "### Bernoulli Naive Bayes\n",
    "If we know how the digits are generated, then we know how to classify them (simply choose the digit class which will maximize the posterior probability, P(y\\x)) --- but which model should we use for describing the digits generation?\n",
    "\n",
    "In this part we will try a very simplified model of digits creation (which is obviously not the same as the \"real\" model), using a Naive Bayes over an underlying Bernoulli distribution --- that is, we will assume that given a digit class, the pixels of the images are the result of independent coin flips, each with its own \"head\" probability.\n",
    "\n",
    "Note that since we assume each pixl is either 0 (black) or 1 (white), we will need to adjust (preprocess) our data accrodingly (see below).\n",
    "\n",
    "So, the model is stated as follows:\n",
    "$$\n",
    "\\begin{align}\n",
    "\\text{Domain} && x \\in \\{0,1\\}^{784} \\\\\n",
    "\\text{Prior} && \\pi_j = \\Pr(y=j) \\\\\n",
    "\\text{Likelihood} && P_j(x) = \\Pr(x | y=j) \\\\\n",
    "\\end{align}\n",
    "$$\n",
    "\n",
    "Where for each $i\\in 0\\ldots 784$ it holds that\n",
    "$$\n",
    "P_{ji}(x_i) = \\Pr(x_i | y=j) =\n",
    "\\begin{cases}\n",
    "p_{ji} & \\text{if } x_i=1 \\\\\n",
    "1-p_{ji} & \\text{if } x_i=0 \\\\\n",
    "\\end{cases}\n",
    "$$\n"
   ]
  },
  {
   "cell_type": "markdown",
   "metadata": {
    "id": "WNjhD3IpL5bC"
   },
   "source": [
    "#### Question 1\n",
    "Write the classification rule based on this Naive Bayes model. \n",
    "How would you esitmate each of the parameters of the model based on the trainning data? \n",
    "\n",
    "\n",
    "**Bonus:** Think of edge cases which may effect your estimator in an undesired way."
   ]
  },
  {
   "cell_type": "markdown",
   "metadata": {},
   "source": [
    "#### Answer 1\n",
    "Any value above 0 will be converted to a 1, and all 0's will remain a 0. This means though, that many of our values will be \"0\", which the regular Bayes algorithm wouldn't handle well without laplace. Therefore, our updated probability is equal to:\n",
    "\n",
    "P(Xi\\y) = P(i\\y)Xi + (1-P(i\\y))(1-Xi), where Xi is either 1 or 0.\n",
    "\n",
    "P(y\\x) = argmax( P(x1\\y)*P(x2\\y) .... *P(xn\\y)*P(y) ) for each class.\n",
    "\n",
    "Prior: Probability of getting any given label (how many 1's are in the data set?)\n",
    "Likelihood: Each xi is a position in the array (the features are the positions). So given label = 3, and looking at position 0: We look at all of the position 0's for label 1, and calculate amount of 1's which appear in position 0 for 3, and calculate the amount of 0's which appear in position 0 for label 3. Each of these are the likelihoods.\n",
    "\n",
    "(We don't need the Evidence, because we are just looking for an argmax)"
   ]
  },
  {
   "cell_type": "markdown",
   "metadata": {
    "id": "0pN1prGcMqwZ"
   },
   "source": [
    "#### Answer 1\n",
    "Any value above 0 will be converted to a 1, and all 0's will remain a 0.\n",
    "\n",
    "\n",
    "P(Xi\\y) = P(i\\y)Xi + (1-P(i\\y))(1-Xi), where Xi is either 1 or 0.\n",
    "\n",
    "Prior: Probability of getting any given label (how many 1's are in the data set?)\n",
    "Likelihood: Each xi is a position in the array (the features are the positions). So given label = 3, and looking at position 0: We look at all of the position 0's for label 1, and calculate amount of 1's which appear in position 0 for 3, and calculate the amount of 0's which appear in position 0 for label 3. Each of these are the likelihoods.\n",
    "\n",
    "(We don't need the Evidence, because we are just looking for an argmax)"
   ]
  },
  {
   "cell_type": "code",
   "execution_count": 8,
   "metadata": {},
   "outputs": [
    {
     "data": {
      "text/plain": [
       "0.10218333333333333"
      ]
     },
     "execution_count": 8,
     "metadata": {},
     "output_type": "execute_result"
    }
   ],
   "source": [
    "#For label = 3:\n",
    "prior = len(y_train[y_train == 3]) / len(y_train)\n",
    "prior"
   ]
  },
  {
   "cell_type": "code",
   "execution_count": 9,
   "metadata": {},
   "outputs": [
    {
     "data": {
      "text/plain": [
       "6131"
      ]
     },
     "execution_count": 9,
     "metadata": {},
     "output_type": "execute_result"
    }
   ],
   "source": [
    "#convert values greater than 0 to 1.\n",
    "x_example = x_train.copy()\n",
    "x_example[x_example > 0] =1\n",
    "\n",
    "#Looking at the 200th position\n",
    "\n",
    "samp_space = x_example[y_train== 3]\n",
    "len(samp_space)"
   ]
  },
  {
   "cell_type": "code",
   "execution_count": 10,
   "metadata": {},
   "outputs": [
    {
     "data": {
      "text/plain": [
       "(5633, 498)"
      ]
     },
     "execution_count": 10,
     "metadata": {},
     "output_type": "execute_result"
    }
   ],
   "source": [
    "loc = 350\n",
    "ones = len(samp_space[samp_space[:,loc] ==1])\n",
    "\n",
    "zeros = len(samp_space[samp_space[:,loc] ==0])\n",
    "ones, zeros\n"
   ]
  },
  {
   "cell_type": "code",
   "execution_count": 11,
   "metadata": {},
   "outputs": [
    {
     "data": {
      "text/plain": [
       "0.9187734464198336"
      ]
     },
     "execution_count": 11,
     "metadata": {},
     "output_type": "execute_result"
    }
   ],
   "source": [
    "tot = len(samp_space[:, loc])\n",
    "ones_prob = ones/tot\n",
    "zeros_prob = zeros/tot\n",
    "likelihood = ones_prob\n",
    "likelihood"
   ]
  },
  {
   "cell_type": "code",
   "execution_count": 12,
   "metadata": {},
   "outputs": [
    {
     "data": {
      "text/plain": [
       "0.08122655358016637"
      ]
     },
     "execution_count": 12,
     "metadata": {},
     "output_type": "execute_result"
    }
   ],
   "source": [
    "zeros_prob"
   ]
  },
  {
   "cell_type": "code",
   "execution_count": 13,
   "metadata": {},
   "outputs": [
    {
     "data": {
      "text/plain": [
       "0.09388333333333333"
      ]
     },
     "execution_count": 13,
     "metadata": {},
     "output_type": "execute_result"
    }
   ],
   "source": [
    "likelihood*prior"
   ]
  },
  {
   "cell_type": "markdown",
   "metadata": {},
   "source": [
    "However, this was just the calculation of the likelihood for one feature. Naive Bayes says that we can calculate the likelihood by doing\n",
    "P(x1\\y)*P(x2\\y)*P(xn\\y)*P(y).\n",
    "Therefore we would calculate the likelihood of each x, multiply them together, then multiply by the prior. \n",
    "\n",
    "We would do this for every label. We would then have 10 probabilities, and our choice would be that with the maximum likelihood."
   ]
  },
  {
   "cell_type": "markdown",
   "metadata": {
    "id": "nOnkgDIXTMCQ"
   },
   "source": [
    "#### Question 2\n",
    "Run a Naive Bayes classifier on the training data and apply predictions on the test data. Use the [sklearn.naive_bayes.BernoulliNB](http://scikit-learn.org/stable/modules/generated/sklearn.naive_bayes.BernoulliNB.html) implementation (see the [source code for sklearn.naive_bayes](https://github.com/scikit-learn/scikit-learn/blob/master/sklearn/naive_bayes.py) for details).\n",
    "\n",
    "Remember we need to preprocess the data in this case such that each pixel would become either black (0) or white (1). For this, use the `binarize` parameter of the implementation. Set this value to $0$ (this is the default), which in this case would mean every pixel with non-zero value will be set to 1.\n",
    "\n",
    "1. Plot the mean image of each class (estimated $\\hat{p}_{ji}$) and generate one sample of each class (remember, you can do this since this is a generative model). You will need to access the `feature_log_prob_` attribute of the trained model.\n",
    "\n",
    "2. Plot the confusion matrix of your classifier, as claculated on the test data (it is recommended to use [sklearn.metrics.confusion_matrix](http://scikit-learn.org/stable/modules/generated/sklearn.metrics.confusion_matrix.html)). Calculate the total accuracy (fraction of correctly classified images), and summarize the results in your own words.\n",
    "\n",
    "3. Think of a way you can find the optimal threshold of the binarization part. **There is no need to actually perform this task --- just describe what you would have done.**\n"
   ]
  },
  {
   "cell_type": "markdown",
   "metadata": {
    "id": "ZKdsdegDWaO_"
   },
   "source": [
    "#### Answer 2\n",
    "Put you answer here..."
   ]
  },
  {
   "cell_type": "markdown",
   "metadata": {},
   "source": [
    "Bayes uses log probabilities, a thorough explanation is found in this article. The basic reason is, because the multiplication of probabilities between 0 and 1 can become unworkable, and difficult copmutationally (lots of float digits).\n",
    "\n",
    "https://www.cs.rhodes.edu/~kirlinp/courses/ai/f18/projects/proj3/naive-bayes-log-probs.pdf\n",
    "\n",
    "Notice that the log probabilites are negative probabilies. This is okay, and we don't need to swich from argmax to argmin.\n",
    "\n",
    "Example: say you have the probabilities 0.2 and 0.3. Note that ln(0.2) =  −1.6 and  ln(0.3) −1.2. The comparisons are preserved: 0.2 < 0.3 and −1.6 < −1.2."
   ]
  },
  {
   "cell_type": "code",
   "execution_count": 14,
   "metadata": {
    "id": "XalqjRWXWS-Y"
   },
   "outputs": [
    {
     "data": {
      "text/plain": [
       "BernoulliNB(binarize=0)"
      ]
     },
     "execution_count": 14,
     "metadata": {},
     "output_type": "execute_result"
    }
   ],
   "source": [
    "from sklearn.naive_bayes import BernoulliNB\n",
    "clf = BernoulliNB(binarize= 0)\n",
    "clf.fit(x_train, y_train) \n",
    "#Fit here doesn't do any prediction, rather it just creates a \"bag\" of counts and probabilities for each feature and each label.\n",
    "#predict is what actually uses the Naive Bayes model, to calculate the likelihoods for each feature in the given vector(s)."
   ]
  },
  {
   "cell_type": "markdown",
   "metadata": {},
   "source": [
    "#### 1) Average Picture:"
   ]
  },
  {
   "cell_type": "code",
   "execution_count": 15,
   "metadata": {},
   "outputs": [
    {
     "data": {
      "image/png": "[encoded data removed]",
      "text/plain": [
       "<Figure size 1152x432 with 10 Axes>"
      ]
     },
     "metadata": {
      "needs_background": "light"
     },
     "output_type": "display_data"
    }
   ],
   "source": [
    "fig = plt.figure(figsize=(16,6))\n",
    "for i in range(10):\n",
    "    plt.subplot(2,5,i+1)\n",
    "    plt.imshow(clf.feature_log_prob_[i].reshape(28,28), cmap= 'gray')"
   ]
  },
  {
   "cell_type": "markdown",
   "metadata": {},
   "source": [
    "#### 2) Random Generation"
   ]
  },
  {
   "cell_type": "code",
   "execution_count": 16,
   "metadata": {},
   "outputs": [
    {
     "data": {
      "text/plain": [
       "<matplotlib.image.AxesImage at 0x1af39a94708>"
      ]
     },
     "execution_count": 16,
     "metadata": {},
     "output_type": "execute_result"
    },
    {
     "data": {
      "image/png": "[encoded data removed]",
      "text/plain": [
       "<Figure size 432x288 with 1 Axes>"
      ]
     },
     "metadata": {
      "needs_background": "light"
     },
     "output_type": "display_data"
    }
   ],
   "source": [
    "#need to generate an image\n",
    "prob = np.exp(clf.feature_log_prob_[0])\n",
    "random_nums = np.random.rand(len(clf.feature_log_prob_[0]))\n",
    "digits = []\n",
    "\n",
    "for i in range(len(prob)):\n",
    "    #The probability of a pixel being black in a digit class is high (likely part of a given class). Given a random number 'i', \n",
    "    # the more likely that this area is to be part of a class, the more likely that a random number 'i' will be smaller than that probability.\n",
    "    if random_nums[i] <= prob[i]:\n",
    "        digits.append(1)\n",
    "    else:\n",
    "        digits.append(0)\n",
    "plt.imshow(np.array(digits).reshape(28,28), cmap= 'gray')"
   ]
  },
  {
   "cell_type": "code",
   "execution_count": 17,
   "metadata": {},
   "outputs": [],
   "source": [
    "# def gen_images(feature_log_prob):\n",
    "#     shape_n = feature_log_prob.shape[0]\n",
    "#     random_nums = np.round(np.random.rand(784), 3)\n",
    "#     pixels = np.zeros(shape_n)\n",
    "#     for i in range(shape_n):\n",
    "#         #The probability of a pixel being black in a digit class is high (likely part of a given class). Given a random number 'i', \n",
    "#         # the more likely that this area is to be part of a class, the more likely that a random number 'i' will be smaller than that probability.\n",
    "#         if random_nums[i] <= np.exp(feature_log_prob[i]):\n",
    "#             pixels[i] = 1\n",
    "#     return pixels\n",
    "\n",
    "# # plot the images\n",
    "# fig, ax = plt.subplots(10,20, figsize = (10,10))\n",
    "# for i in range(0, 20):\n",
    "#     for j in range(0, 10):\n",
    "#         temp_pix = gen_images(clf.feature_log_prob_[j])\n",
    "#         temp_pix = temp_pix.reshape(28, 28)\n",
    "#         temp_pix = 1 - temp_pix # give it a white background\n",
    "#         ax[j,i].imshow(temp_pix, cmap = 'gray')\n",
    "#         ax[j,i].set_xticks([])\n",
    "#         ax[j,i].set_yticks([])"
   ]
  },
  {
   "cell_type": "markdown",
   "metadata": {},
   "source": [
    "#### 3) Prediction and Accuracy"
   ]
  },
  {
   "cell_type": "code",
   "execution_count": 18,
   "metadata": {},
   "outputs": [
    {
     "name": "stdout",
     "output_type": "stream",
     "text": [
      "accuracy: 0.8413,\n",
      "confusion matrix: \n",
      "[[ 887    0    4    7    2   41   16    1   22    0]\n",
      " [   0 1085   10    5    0    9    6    0   19    1]\n",
      " [  19    8  852   29   17    4   32   14   55    2]\n",
      " [   5   15   34  844    0   13    9   15   49   26]\n",
      " [   2    6    4    0  795    4   21    1   23  126]\n",
      " [  23   12    7  129   30  627   16    8   21   19]\n",
      " [  18   18   15    2   13   35  851    0    6    0]\n",
      " [   1   24   14    4   15    0    0  871   27   72]\n",
      " [  16   23   13   76   17   22    7    6  758   36]\n",
      " [   9   13    5    9   74    8    0   24   24  843]]\n"
     ]
    }
   ],
   "source": [
    "from sklearn.metrics import confusion_matrix, accuracy_score\n",
    "y_pred = clf.predict(x_test)\n",
    "conf = confusion_matrix(y_test, y_pred)\n",
    "acc = accuracy_score(y_test, y_pred)\n",
    "#accuracy = np.diagonal(conf).sum() / len(y_test)\n",
    "print(f'accuracy: {acc},\\nconfusion matrix: \\n{conf}')"
   ]
  },
  {
   "cell_type": "markdown",
   "metadata": {},
   "source": [
    "Results Summary:\n",
    "\n",
    "Our classifier correctly classified each image 84% of the time. This is good, however, imporvements could be made. We made an assumption that any digit above 0 should be converted into a 1. However, we can make a better threshold for our binomial conversion, to make our model more accurate. By raising the threshold (even for each individual class) we can remove outliers for each class, and more heavily weigh the pixels which are more \"solidly\" a part of each class, as opposed to the edges."
   ]
  },
  {
   "cell_type": "markdown",
   "metadata": {
    "id": "lKSgnectrTJ1"
   },
   "source": [
    "## 2. Classifing Text Documents using Multinomial Naive Bayes\n",
    "In this exercise you will classify the \"20 newsgroups\" data set using your own naive bayes classifier and compare to the scikit learn built in version.\n",
    "\n",
    "The 20 newsgroups dataset comprises around 18000 newsgroups posts on 20 topics split in two subsets: one for training (or development) and the other one for testing (or for performance evaluation). The split between the train and test set is based upon messages posted before and after a specific date.\n",
    "\n",
    "\n",
    "* Load the **train** data using `from sklearn.datasets import fetch_20newsgroups`. remove headers, footers and quotes (see documentation)\n",
    "* Use `sklearn.feature_extraction.text import CountVectorizer` to count words (stop_words='english')\n",
    "* Write a class `NaiveBayes(BaseEstimator, ClassifierMixin)` and implement its `fit`, `predict` and `predict_proba` methods.\n",
    "* use `sklearn.pipeline.make_pipeline` to chain the vectroizer and model.\n",
    "* note: limit the vocuabolary size if you suffer memory issues\n",
    "* compare the accuracy over the **test** data. You can use `accuracy_score, classification_report`\n",
    "* compare to the built in `sklearn.naive_bayes.MultinomialNB`. If there are differences try to think why\n",
    "* plot the learning curve - is the model in the bias or variance regime (you can use the built in model for doing the analysis)\n",
    "* optimize performance in respect to vectorizer hyper parameters (e.g. max_features, max_df etc.).\n",
    "\n",
    "### Optional: Model interpretability\n",
    "Find the most important features for a **specific** decision of a NB classifier.\n",
    "Because the model has learned the prior $p(x_i|c)$ during the training, the contribution of an individual feature value can be easily measured by the posterior, $p(c|x_i)=p(c)p(x_i|c)/p(x_i)$\n",
    "Implement a function which gets a scikit-learn NB model as input and returns $P(c|x_i)$:\n",
    "\n",
    "`def calc_p_c_given_xi(model)`\n",
    "\n",
    "Hint: Use the following model properties:\n",
    "\n",
    "* `model.class_log_prior_`\n",
    "* `model.feature_log_prob_`\n",
    "\n",
    "Note: remember these are logs and you need to use np.exp and normalize to get $P(c|x_i)$ \n",
    "Another hint: use numpy built-in broadcasting property.\n",
    "\n",
    "* Use the interpretation to examine errors of the classifier where $\\hat{c}\\ne c$. Which top words support the correct class and which support the wrong class? You can use the `print_txt` below to color words. \n",
    "\n",
    "Bonus: How can you correct the analyzed error? \n",
    "\n",
    "To read more about model interpretation, see the blogpost below and my tutorial:\n",
    "* https://lilianweng.github.io/lil-log/2017/08/01/how-to-explain-the-prediction-of-a-machine-learning-model.html\n",
    "* https://github.com/chanansh/right_but_why"
   ]
  },
  {
   "cell_type": "code",
   "execution_count": 19,
   "metadata": {
    "colab": {
     "base_uri": "https://localhost:8080/",
     "height": 35
    },
    "id": "WrTOhkHV9msW",
    "outputId": "c69cb41c-5ed6-4e43-ef3f-6ccaa4980c1d"
   },
   "outputs": [
    {
     "name": "stdout",
     "output_type": "stream",
     "text": [
      "This \u001b[42;37mword\u001b[0m support the first class but this the \u001b[41;37mother\u001b[0m\n"
     ]
    }
   ],
   "source": [
    "import string\n",
    "def print_txt(txt, hot, cold):\n",
    "  \"\"\"\n",
    "  print the text, coloring hot and cold words with colors\n",
    "  \"\"\"\n",
    "  cold_color='\\x1b[41;37m{}\\x1b[0m'\n",
    "  hot_color='\\x1b[42;37m{}\\x1b[0m'\n",
    "  def color(token):\n",
    "    lower = str(token).lower()\n",
    "    lower = lower.replace('\\t','').replace('\\n','')\n",
    "    lower = lower.translate(string.punctuation)\n",
    "    if (lower in hot) and (lower in cold):\n",
    "      return mid_color.format(token)\n",
    "    elif lower in hot:\n",
    "      return hot_color.format(token)\n",
    "    elif lower in cold:\n",
    "      return cold_color.format(token)\n",
    "    else:\n",
    "      return token\n",
    "  colored_txt = \" \".join([color(token) for token in txt.split(' ')])\n",
    "  print(colored_txt)\n",
    "print_txt('This word support the first class but this the other', ['word'],['other'])"
   ]
  },
  {
   "cell_type": "code",
   "execution_count": 8,
   "metadata": {},
   "outputs": [],
   "source": [
    "from sklearn.datasets import fetch_20newsgroups\n",
    "from sklearn.feature_extraction.text import CountVectorizer\n",
    "from sklearn.feature_extraction.text import TfidfVectorizer\n",
    "from sklearn.pipeline import make_pipeline\n",
    "from sklearn.naive_bayes import MultinomialNB\n",
    "from sklearn.metrics import accuracy_score, classification_report\n"
   ]
  },
  {
   "cell_type": "code",
   "execution_count": 3,
   "metadata": {},
   "outputs": [],
   "source": [
    "train_news = fetch_20newsgroups(remove = ('headers', 'footers', 'quotes'))\n",
    "test_news = fetch_20newsgroups(subset= 'test', remove = ('headers', 'footers', 'quotes'))"
   ]
  },
  {
   "cell_type": "code",
   "execution_count": 10,
   "metadata": {},
   "outputs": [],
   "source": [
    "class NaiveBayes():\n",
    "    \"\"\" DIY binary Naive Bayes classifier based on categorical data \"\"\"\n",
    "\n",
    "    def __init__(self, alpha=1.0):\n",
    "        \"\"\" \"\"\"\n",
    "        # self.prior = None\n",
    "        # self.word_counts = None\n",
    "        # self.lk_word = None\n",
    "        self.alpha = alpha\n",
    "        # self.is_fitted_ = False\n",
    "\n",
    "    def fit(self, X: np.ndarray, y: np.ndarray):\n",
    "\n",
    "        self.classes = np.unique(y) #len(classes)\n",
    "        self.X_by_class = np.array([X[y == c] for c in self.classes])\n",
    "        self.prior = np.array([X_class.shape[0] / len(self.classes) for X_class in self.X_by_class])\n",
    "\n",
    "        self.word_counts = []\n",
    "        self.lk_words = []\n",
    "        for matrix_per_class in self.X_by_class:\n",
    "            word_count = np.array(np.sum(matrix_per_class, axis=0)  + self.alpha).reshape(-1,1) #added dimension while creating array, reshape gets rid of it.\n",
    "            self.word_counts.append(word_count)\n",
    "\n",
    "            lk_word = word_count / np.sum(word_count)\n",
    "            self.lk_words.append(lk_word)\n",
    "\n",
    "\n",
    "    def predict_log_proba(self, x):\n",
    "        self.log_probs_perClass = [] #Not sure which order to do htis in. Getting the wrong shape of 300,20. Not sure where 300 comes from.\n",
    "        for i, text in enumerate(x.toarray()): #input is \n",
    "            text_probs = []\n",
    "            for c in self.classes:\n",
    "                word_exists = text.astype(bool)\n",
    "                lk_words_present = self.lk_words[c].reshape(1,-1)[word_exists.reshape(1,-1)] #get the value in location where there is a value (as opposed to 0)\n",
    "                text_probs.append(np.sum(np.log(lk_words_present)) + np.log(self.prior[c])) \n",
    "            self.log_probs_perClass.append(text_probs)\n",
    "        return self.log_probs_perClass\n",
    "\n",
    "\n",
    "    def predict(self, x):\n",
    "        log_probabilities = self.predict_log_proba(x) #take out self?\n",
    "        return np.argmax(log_probabilities, axis = 1)"
   ]
  },
  {
   "cell_type": "code",
   "execution_count": 46,
   "metadata": {},
   "outputs": [],
   "source": [
    "train_CV = CountVectorizer(stop_words= 'english')\n",
    "X = train_CV.fit_transform(train_news.data) #matrix\n",
    "y = train_news.target\n",
    "# vocab = count.vocabulary_\n",
    "\n",
    "test_CV = CountVectorizer(stop_words= 'english')\n",
    "test_x = train_CV.transform(test_news.data) #transform fits the dimensions to the fit_transform above.\n",
    "                                            #unseen words are just passed as 0 in the Naive Bayes, with laplace over it.\n",
    "test_y = test_news.target"
   ]
  },
  {
   "cell_type": "code",
   "execution_count": 47,
   "metadata": {},
   "outputs": [
    {
     "name": "stdout",
     "output_type": "stream",
     "text": [
      "(11314, 101322) (7532, 101322)\n"
     ]
    }
   ],
   "source": [
    "print(X.shape, test_x.shape)"
   ]
  },
  {
   "cell_type": "code",
   "execution_count": 11,
   "metadata": {},
   "outputs": [],
   "source": [
    "NB = NaiveBayes()\n",
    "NB.fit(X, y)\n",
    "# NB.predict(test_x[:150])"
   ]
  },
  {
   "cell_type": "code",
   "execution_count": 316,
   "metadata": {},
   "outputs": [],
   "source": [
    "#This is correct.\n",
    "# classes = len(np.unique(y))\n",
    "# X_by_class = np.array([X[y == c] for c in classes])\n",
    "# prior = np.array([X_class.shape[0] / len(classes) for X_class in X_by_class])\n",
    "\n",
    "# word_counts = []\n",
    "# lk_words = []\n",
    "# for matrix_per_class in X_by_class:\n",
    "#     word_count = np.array(np.sum(matrix_per_class, axis=0)  + 0.01).reshape(-1,1) #added dimension, get rid of it.\n",
    "#     word_counts.append(word_count)\n",
    "\n",
    "#     lk_word = word_count / np.sum(word_count)\n",
    "#     lk_words.append(lk_word)\n",
    "\n",
    "# log_probs_perClass = [] #Not sure which order to do htis in. Getting the wrong shape of 300,20. Not sure where 300 comes from.\n",
    "# for i, text in enumerate(test_x[:15].toarray()): #input is \n",
    "#     text_probs = []\n",
    "#     for c in classes:\n",
    "#         word_exists = text.astype(bool)\n",
    "#         lk_words_present = lk_words[c].reshape(1,-1)[word_exists.reshape(1,-1)] #get the value in location where there is a value (as opposed to 0)\n",
    "#         lk_message = np.log(lk_words_present)\n",
    "#         text_probs.append(np.sum(lk_message) + np.log(prior[c]))\n",
    "#     log_probs_perClass.append(text_probs)\n",
    "#     np.argmax(log_probs_perClass, axis = 1)"
   ]
  },
  {
   "cell_type": "code",
   "execution_count": 45,
   "metadata": {},
   "outputs": [
    {
     "data": {
      "text/plain": [
       "0.0"
      ]
     },
     "execution_count": 45,
     "metadata": {},
     "output_type": "execute_result"
    }
   ],
   "source": [
    "t_test = train_CV.transform(['prostoglandin, veisodilation, amoxicintamin'])\n",
    "accuracy_score([2], NB.predict(t_test))\n",
    "#even when introducing words that didn't exist in the training set, we return an answer and don't run into an error"
   ]
  },
  {
   "cell_type": "markdown",
   "metadata": {},
   "source": [
    "### Accuracy and Classfication Report"
   ]
  },
  {
   "cell_type": "code",
   "execution_count": 42,
   "metadata": {},
   "outputs": [
    {
     "data": {
      "text/plain": [
       "0.6192246415294742"
      ]
     },
     "execution_count": 42,
     "metadata": {},
     "output_type": "execute_result"
    }
   ],
   "source": [
    "accuracy_score(test_y[:10000], NB.predict(test_x[:10000]))"
   ]
  },
  {
   "cell_type": "code",
   "execution_count": 527,
   "metadata": {},
   "outputs": [
    {
     "name": "stdout",
     "output_type": "stream",
     "text": [
      "              precision    recall  f1-score   support\n",
      "\n",
      "           0       0.94      0.76      0.84       420\n",
      "           1       0.72      0.81      0.76       511\n",
      "           2       1.00      0.04      0.09       517\n",
      "           3       0.69      0.88      0.77       523\n",
      "           4       0.95      0.85      0.90       513\n",
      "           5       0.67      0.94      0.78       531\n",
      "           6       0.93      0.83      0.88       512\n",
      "           7       0.94      0.81      0.87       522\n",
      "           8       0.97      0.82      0.89       532\n",
      "           9       0.97      0.86      0.91       545\n",
      "          10       0.63      0.93      0.75       529\n",
      "          11       0.74      0.92      0.82       518\n",
      "          12       0.93      0.79      0.85       526\n",
      "          13       0.93      0.92      0.92       533\n",
      "          14       0.92      0.88      0.90       517\n",
      "          15       0.66      0.95      0.78       524\n",
      "          16       0.87      0.90      0.89       486\n",
      "          17       0.79      0.88      0.83       505\n",
      "          18       0.78      0.91      0.84       406\n",
      "          19       0.99      0.45      0.62       330\n",
      "\n",
      "    accuracy                           0.81     10000\n",
      "   macro avg       0.85      0.81      0.79     10000\n",
      "weighted avg       0.85      0.81      0.80     10000\n",
      "\n"
     ]
    }
   ],
   "source": [
    "print(classification_report(test_y[:10000], NB.predict(test_x[:10000]), labels = NB.classes))"
   ]
  },
  {
   "cell_type": "code",
   "execution_count": 529,
   "metadata": {},
   "outputs": [
    {
     "data": {
      "text/plain": [
       "0.8184"
      ]
     },
     "execution_count": 529,
     "metadata": {},
     "output_type": "execute_result"
    }
   ],
   "source": [
    "MNB = MultinomialNB()\n",
    "MNB.fit(X,y)\n",
    "accuracy_score(test_y[:10000], MNB.predict(test_x[:10000]))"
   ]
  }
 ],
 "metadata": {
  "colab": {
   "collapsed_sections": [],
   "name": "NB exercise.ipynb",
   "provenance": []
  },
  "kernelspec": {
   "display_name": "Python 3",
   "language": "python",
   "name": "python3"
  },
  "language_info": {
   "codemirror_mode": {
    "name": "ipython",
    "version": 3
   },
   "file_extension": ".py",
   "mimetype": "text/x-python",
   "name": "python",
   "nbconvert_exporter": "python",
   "pygments_lexer": "ipython3",
   "version": "3.7.10"
  }
 },
 "nbformat": 4,
 "nbformat_minor": 1
}
