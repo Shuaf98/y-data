{
 "cells": [
  {
   "cell_type": "markdown",
   "metadata": {
    "id": "chEqqJbLzFew"
   },
   "source": [
    "# Yandex Data Science School\n",
    "## Linear Regression & Regularization Exercise.\n",
    "\n",
    "\n",
    "## Outline\n",
    "In this exercise you will learn the following topics:\n",
    "\n",
    "1. Refresher on how linear regression is solved in batch and in Gradient Descent \n",
    "2. Implementation of Ridge Regression\n",
    "3. Comparing Ridge, Lasso and vanila Linear Regression on a dataset"
   ]
  },
  {
   "cell_type": "markdown",
   "metadata": {
    "id": "mR9UFmk2greT"
   },
   "source": [
    "## Refresher on Ordinary Least Square (OLS) aka Linear Regeression\n",
    "\n",
    "### Lecture Note\n",
    "\n",
    "In Matrix notation, the matrix $X$ is of dimensions $n \\times p$ where each row is an example and each column is a feature dimension. \n",
    "\n",
    "Similarily, $y$ is of dimension $n \\times 1$ and $w$ is of dimensions $p \\times 1$.\n",
    "\n",
    "The model is $\\hat{y}=X\\cdot w$ where we assume for simplicity that $X$'s first columns equals to 1 (one padding), to account for the bias term.\n",
    "\n",
    "Our objective is to optimize the loss $L$ defines as resiudal sum of squares (RSS): \n",
    "\n",
    "$L_{RSS}=\\frac{1}{N}\\left\\Vert Xw-y \\right\\Vert^2$ (notice that in matrix notation this means summing over all examples, so $L$ is scalar.)\n",
    "\n",
    "To find the optimal $w$ one needs to derive the loss with respect to $w$.\n",
    "\n",
    "$\\frac{\\partial{L_{RSS}}}{\\partial{w}}=\\frac{2}{N}X^T(Xw-y)$ (to see why, read about [matrix derivatives](http://www.gatsby.ucl.ac.uk/teaching/courses/sntn/sntn-2017/resources/Matrix_derivatives_cribsheet.pdf) or see class notes )\n",
    "\n",
    "Thus, the gardient descent solution is $w'=w-\\alpha \\frac{2}{N}X^T(Xw-y)$.\n",
    "\n",
    "Solving $\\frac{\\partial{L_{RSS}}}{\\partial{w}}=0$ for $w$ one can also get analytical solution:\n",
    "\n",
    "$w_{OLS}=(X^TX)^{-1}X^Ty$\n",
    "\n",
    "The first term, $(X^TX)^{-1}X^T$ is also called the pseudo inverse of $X$.\n",
    "\n",
    "See [lecture note from Stanford](https://web.stanford.edu/~mrosenfe/soc_meth_proj3/matrix_OLS_NYU_notes.pdf) for more details.\n"
   ]
  },
  {
   "cell_type": "markdown",
   "metadata": {
    "id": "JA3MEKz80vdy"
   },
   "source": [
    "## Exercise 1 - Ordinary Least Square\n",
    "* Get the boston housing dataset by using the scikit-learn package. hint: [load_boston](http://scikit-learn.org/stable/modules/generated/sklearn.datasets.load_boston.html)\n",
    "\n",
    "* What is $p$? what is $n$ in the above notation? hint: [shape](https://docs.scipy.org/doc/numpy-1.15.0/reference/generated/numpy.ndarray.shape.html)\n",
    "\n",
    "* write a model `OrdinaryLinearRegression` which has a propoery $w$ and 3 methods: `fit`, `predict` and `score` (which returns the MSE on a given sample set). Hint: use [numpy.linalg.pinv](https://docs.scipy.org/doc/numpy-1.15.1/reference/generated/numpy.linalg.pinv.html) to be more efficient.\n",
    "\n",
    "* Fit the model. What is the training MSE?\n",
    "\n",
    "* Plot a scatter plot where on x-axis plot $Y$ and in the y-axis $\\hat{Y}_{OLS}$\n",
    "\n",
    "* Split the data to 75% train and 25% test 20 times. What is the average MSE now for train and test? Hint: use [train_test_split](http://scikit-learn.org/stable/modules/generated/sklearn.model_selection.train_test_split.html) or [ShuffleSplit](http://scikit-learn.org/stable/modules/generated/sklearn.model_selection.ShuffleSplit.html).\n",
    "\n",
    "* Use a t-test to proove that the MSE for training is significantly smaller than for testing. What is the p-value? Hint: use [scipy.stats.ttest_rel](https://docs.scipy.org/doc/scipy-0.14.0/reference/generated/scipy.stats.ttest_rel.html). \n",
    "\n",
    "* Write a new class `OrdinaryLinearRegressionGradientDescent` which inherits from `OrdinaryLinearRegression` and solves the problem using gradinet descent. The class should get as a parameter the learning rate and number of iteration. Plot the class convergance. What is the effect of learning rate? How would you find number of iteration automatically? Note: Gradient Descent does not work well when features are not scaled evenly (why?!). Be sure to normalize your features first.\n",
    "\n",
    "* The following parameters are optional (not mandatory to use):\n",
    "    * early_stop - True / False boolean to indicate to stop running when loss stops decaying and False to continue.\n",
    "    * reset - True / False boolean to reset starting w values, relevant in gradient descent OlsCd and OlsGd. Usually its reseted to 0's\n",
    "    * verbose- True/False boolean to turn on / off logging, e.g. print details like iteration number and loss (https://en.wikipedia.org/wiki/Verbose_mode)\n",
    "    * track_loss - True / False boolean when to save loss results to present later in learning curve graphs"
   ]
  },
  {
   "cell_type": "code",
   "execution_count": 33,
   "metadata": {},
   "outputs": [
    {
     "name": "stderr",
     "output_type": "stream",
     "text": [
      "C:\\Users\\sfrie\\anaconda3\\envs\\py4dp\\lib\\site-packages\\sklearn\\utils\\deprecation.py:87: FutureWarning: Function load_boston is deprecated; `load_boston` is deprecated in 1.0 and will be removed in 1.2.\n",
      "\n",
      "    The Boston housing prices dataset has an ethical problem. You can refer to\n",
      "    the documentation of this function for further details.\n",
      "\n",
      "    The scikit-learn maintainers therefore strongly discourage the use of this\n",
      "    dataset unless the purpose of the code is to study and educate about\n",
      "    ethical issues in data science and machine learning.\n",
      "\n",
      "    In this case special case, you can fetch the dataset from the original\n",
      "    source::\n",
      "\n",
      "        import pandas as pd\n",
      "        import numpy as np\n",
      "\n",
      "\n",
      "        data_url = \"http://lib.stat.cmu.edu/datasets/boston\"\n",
      "        raw_df = pd.read_csv(data_url, sep=\"\\s+\", skiprows=22, header=None)\n",
      "        data = np.hstack([raw_df.values[::2, :], raw_df.values[1::2, :2]])\n",
      "        target = raw_df.values[1::2, 2]\n",
      "\n",
      "    Alternative datasets include the California housing dataset (i.e.\n",
      "    func:`~sklearn.datasets.fetch_california_housing`) and the Ames housing\n",
      "    dataset. You can load the datasets as follows:\n",
      "\n",
      "        from sklearn.datasets import fetch_california_housing\n",
      "        housing = fetch_california_housing()\n",
      "\n",
      "    for the California housing dataset and:\n",
      "\n",
      "        from sklearn.datasets import fetch_openml\n",
      "        housing = fetch_openml(name=\"house_prices\", as_frame=True)\n",
      "\n",
      "    for the Ames housing dataset.\n",
      "    \n",
      "  warnings.warn(msg, category=FutureWarning)\n"
     ]
    },
    {
     "data": {
      "text/html": [
       "<div>\n",
       "<style scoped>\n",
       "    .dataframe tbody tr th:only-of-type {\n",
       "        vertical-align: middle;\n",
       "    }\n",
       "\n",
       "    .dataframe tbody tr th {\n",
       "        vertical-align: top;\n",
       "    }\n",
       "\n",
       "    .dataframe thead th {\n",
       "        text-align: right;\n",
       "    }\n",
       "</style>\n",
       "<table border=\"1\" class=\"dataframe\">\n",
       "  <thead>\n",
       "    <tr style=\"text-align: right;\">\n",
       "      <th></th>\n",
       "      <th>CRIM</th>\n",
       "      <th>ZN</th>\n",
       "      <th>INDUS</th>\n",
       "      <th>CHAS</th>\n",
       "      <th>NOX</th>\n",
       "      <th>RM</th>\n",
       "      <th>AGE</th>\n",
       "      <th>DIS</th>\n",
       "      <th>RAD</th>\n",
       "      <th>TAX</th>\n",
       "      <th>PTRATIO</th>\n",
       "      <th>B</th>\n",
       "      <th>LSTAT</th>\n",
       "    </tr>\n",
       "  </thead>\n",
       "  <tbody>\n",
       "    <tr>\n",
       "      <th>0</th>\n",
       "      <td>0.00632</td>\n",
       "      <td>18.0</td>\n",
       "      <td>2.31</td>\n",
       "      <td>0.0</td>\n",
       "      <td>0.538</td>\n",
       "      <td>6.575</td>\n",
       "      <td>65.2</td>\n",
       "      <td>4.0900</td>\n",
       "      <td>1.0</td>\n",
       "      <td>296.0</td>\n",
       "      <td>15.3</td>\n",
       "      <td>396.90</td>\n",
       "      <td>4.98</td>\n",
       "    </tr>\n",
       "    <tr>\n",
       "      <th>1</th>\n",
       "      <td>0.02731</td>\n",
       "      <td>0.0</td>\n",
       "      <td>7.07</td>\n",
       "      <td>0.0</td>\n",
       "      <td>0.469</td>\n",
       "      <td>6.421</td>\n",
       "      <td>78.9</td>\n",
       "      <td>4.9671</td>\n",
       "      <td>2.0</td>\n",
       "      <td>242.0</td>\n",
       "      <td>17.8</td>\n",
       "      <td>396.90</td>\n",
       "      <td>9.14</td>\n",
       "    </tr>\n",
       "    <tr>\n",
       "      <th>2</th>\n",
       "      <td>0.02729</td>\n",
       "      <td>0.0</td>\n",
       "      <td>7.07</td>\n",
       "      <td>0.0</td>\n",
       "      <td>0.469</td>\n",
       "      <td>7.185</td>\n",
       "      <td>61.1</td>\n",
       "      <td>4.9671</td>\n",
       "      <td>2.0</td>\n",
       "      <td>242.0</td>\n",
       "      <td>17.8</td>\n",
       "      <td>392.83</td>\n",
       "      <td>4.03</td>\n",
       "    </tr>\n",
       "    <tr>\n",
       "      <th>3</th>\n",
       "      <td>0.03237</td>\n",
       "      <td>0.0</td>\n",
       "      <td>2.18</td>\n",
       "      <td>0.0</td>\n",
       "      <td>0.458</td>\n",
       "      <td>6.998</td>\n",
       "      <td>45.8</td>\n",
       "      <td>6.0622</td>\n",
       "      <td>3.0</td>\n",
       "      <td>222.0</td>\n",
       "      <td>18.7</td>\n",
       "      <td>394.63</td>\n",
       "      <td>2.94</td>\n",
       "    </tr>\n",
       "    <tr>\n",
       "      <th>4</th>\n",
       "      <td>0.06905</td>\n",
       "      <td>0.0</td>\n",
       "      <td>2.18</td>\n",
       "      <td>0.0</td>\n",
       "      <td>0.458</td>\n",
       "      <td>7.147</td>\n",
       "      <td>54.2</td>\n",
       "      <td>6.0622</td>\n",
       "      <td>3.0</td>\n",
       "      <td>222.0</td>\n",
       "      <td>18.7</td>\n",
       "      <td>396.90</td>\n",
       "      <td>5.33</td>\n",
       "    </tr>\n",
       "  </tbody>\n",
       "</table>\n",
       "</div>"
      ],
      "text/plain": [
       "      CRIM    ZN  INDUS  CHAS    NOX     RM   AGE     DIS  RAD    TAX  \\\n",
       "0  0.00632  18.0   2.31   0.0  0.538  6.575  65.2  4.0900  1.0  296.0   \n",
       "1  0.02731   0.0   7.07   0.0  0.469  6.421  78.9  4.9671  2.0  242.0   \n",
       "2  0.02729   0.0   7.07   0.0  0.469  7.185  61.1  4.9671  2.0  242.0   \n",
       "3  0.03237   0.0   2.18   0.0  0.458  6.998  45.8  6.0622  3.0  222.0   \n",
       "4  0.06905   0.0   2.18   0.0  0.458  7.147  54.2  6.0622  3.0  222.0   \n",
       "\n",
       "   PTRATIO       B  LSTAT  \n",
       "0     15.3  396.90   4.98  \n",
       "1     17.8  396.90   9.14  \n",
       "2     17.8  392.83   4.03  \n",
       "3     18.7  394.63   2.94  \n",
       "4     18.7  396.90   5.33  "
      ]
     },
     "execution_count": 33,
     "metadata": {},
     "output_type": "execute_result"
    }
   ],
   "source": [
    "import pandas as pd\n",
    "import numpy as np\n",
    "from sklearn.datasets import load_boston;\n",
    "X, y = load_boston(return_X_y = True);\n",
    "data = load_boston();\n",
    "df = pd.DataFrame(data.data, columns = data.feature_names);\n",
    "df.head()"
   ]
  },
  {
   "cell_type": "code",
   "execution_count": 34,
   "metadata": {
    "id": "ZuSS8LhcfZdn"
   },
   "outputs": [],
   "source": [
    "# * write a model `Ols` which has a propoery $w$ and 3 methods: `fit`, `predict` and `score`.? hint: use [numpy.linalg.pinv](https://docs.scipy.org/doc/numpy-1.15.1/reference/generated/numpy.linalg.pinv.html) to be more efficient.\n",
    "\n",
    "class Ols(object):\n",
    "  def __init__(self):\n",
    "    self.w = None\n",
    "    \n",
    "  @staticmethod\n",
    "  def pad(X): #The model is $\\hat{y}=X\\cdot w$ where we assume for simplicity that $X$'s first columns equals to 1 (one padding), to account for the bias term.\n",
    "    padding = np.ones(( X.shape[0], 1,))\n",
    "    return np.hstack((padding, X))\n",
    "  \n",
    "  def fit(self, X, Y):\n",
    "    #remeber pad with 1 before fitting\n",
    "    self.X = self.pad(np.array(X))\n",
    "    self.Y = np.array(Y)\n",
    "    self.w = np.linalg.pinv(self.X) @ self.Y\n",
    "  \n",
    "  def _fit(self, X, Y):\n",
    "    # optional to use this\n",
    "    pass\n",
    "  \n",
    "  def predict(self, X):\n",
    "    self.X = self.pad(X) #Pads the new input, now is same dimensionality as w\n",
    "    self.labels = self.X @ self.w\n",
    "    return self.labels\n",
    "    \n",
    "  def _predict(self, X):\n",
    "    # optional to use this\n",
    "    pass\n",
    "    \n",
    "  def score(self, X, Y):\n",
    "    # w = self.fit(X,Y)\n",
    "    self.X = X\n",
    "    self.Y = Y\n",
    "    pred = self.predict(self.X) #predict does the padding for X\n",
    "    return np.square(np.subtract(self.Y ,pred)).mean()\n",
    "    # return np.sum((self.Y - pred)**2) / Y.shape[0]"
   ]
  },
  {
   "cell_type": "code",
   "execution_count": 35,
   "metadata": {},
   "outputs": [],
   "source": [
    "from sklearn.model_selection import train_test_split\n",
    "from sklearn.metrics import mean_squared_error\n",
    "from sklearn.linear_model import LinearRegression"
   ]
  },
  {
   "cell_type": "markdown",
   "metadata": {},
   "source": [
    "a) MSE on the Training Set"
   ]
  },
  {
   "cell_type": "code",
   "execution_count": 36,
   "metadata": {},
   "outputs": [
    {
     "data": {
      "text/plain": [
       "21.894831181729202"
      ]
     },
     "execution_count": 36,
     "metadata": {},
     "output_type": "execute_result"
    }
   ],
   "source": [
    "ols = Ols()\n",
    "ols.fit(X,y)\n",
    "ols.score(X,y)"
   ]
  },
  {
   "cell_type": "code",
   "execution_count": 37,
   "metadata": {},
   "outputs": [
    {
     "data": {
      "text/plain": [
       "21.894831181729206"
      ]
     },
     "execution_count": 37,
     "metadata": {},
     "output_type": "execute_result"
    }
   ],
   "source": [
    "#Checking rsults with sklean\n",
    "reg = LinearRegression()\n",
    "reg.fit(X,y)\n",
    "mean_squared_error(y, reg.predict(X))"
   ]
  },
  {
   "cell_type": "markdown",
   "metadata": {},
   "source": [
    "b) Scatter plot"
   ]
  },
  {
   "cell_type": "code",
   "execution_count": 38,
   "metadata": {},
   "outputs": [
    {
     "data": {
      "text/plain": [
       "<matplotlib.collections.PathCollection at 0x1bcfce1b448>"
      ]
     },
     "execution_count": 38,
     "metadata": {},
     "output_type": "execute_result"
    },
    {
     "data": {
      "image/png": "[encoded data removed]",
      "text/plain": [
       "<Figure size 864x432 with 2 Axes>"
      ]
     },
     "metadata": {
      "needs_background": "light"
     },
     "output_type": "display_data"
    }
   ],
   "source": [
    "import matplotlib.pyplot as plt\n",
    "\n",
    "ols_pred = ols.predict(X)\n",
    "fig = plt.figure(figsize= (12,6))\n",
    "plt.subplot(1,2,1)\n",
    "plt.scatter(y ,ols_pred)\n",
    "\n",
    "plt.subplot(1,2,2)\n",
    "reg = LinearRegression().fit(X,y)\n",
    "pred = reg.predict(X)\n",
    "plt.scatter(y, pred)"
   ]
  },
  {
   "cell_type": "markdown",
   "metadata": {},
   "source": [
    "C) Average over 20 samples"
   ]
  },
  {
   "cell_type": "code",
   "execution_count": 39,
   "metadata": {},
   "outputs": [
    {
     "data": {
      "text/plain": [
       "23.76661062843534"
      ]
     },
     "execution_count": 39,
     "metadata": {},
     "output_type": "execute_result"
    }
   ],
   "source": [
    "avg_mse_test = []\n",
    "for i in range(20):\n",
    "    X_train, X_test, Y_train, Y_test = train_test_split(X, y, test_size= .25, shuffle= True)\n",
    "    GD = Ols()\n",
    "    GD.fit(X_train, Y_train)\n",
    "    GD.predict(X_test)\n",
    "    # avg_mse.append( 1/Y_test.size * np.sum(GD.labels - Y_test)**2)\n",
    "    avg_mse_test.append(GD.score(X_test, Y_test))\n",
    "np.mean(avg_mse_test)"
   ]
  },
  {
   "cell_type": "code",
   "execution_count": 40,
   "metadata": {},
   "outputs": [
    {
     "data": {
      "text/plain": [
       "21.481290042129807"
      ]
     },
     "execution_count": 40,
     "metadata": {},
     "output_type": "execute_result"
    }
   ],
   "source": [
    "#AVerage MSE for the training set\n",
    "avg_mse_train = []\n",
    "for i in range(20):\n",
    "    X_train, X_test, Y_train, Y_test = train_test_split(X, y, test_size= .25, shuffle= True)\n",
    "    reg = LinearRegression()\n",
    "    reg.fit(X_train,Y_train)\n",
    "    avg_mse_train.append(mean_squared_error(Y_train, reg.predict(X_train)))\n",
    "\n",
    "np.mean(avg_mse_train)\n",
    "\n"
   ]
  },
  {
   "cell_type": "markdown",
   "metadata": {},
   "source": [
    "D) T-Test"
   ]
  },
  {
   "cell_type": "code",
   "execution_count": 41,
   "metadata": {},
   "outputs": [
    {
     "name": "stdout",
     "output_type": "stream",
     "text": [
      "Results: We see that the Avg MSE for the training set is less than the Avg MSE for the Test set with a extreme significance level (P value =0.03037225870657512), which lies within the 1% siginificance range\n"
     ]
    }
   ],
   "source": [
    "from scipy import stats\n",
    "stat, p_value = stats.ttest_rel(avg_mse_train, avg_mse_test, alternative= 'less')\n",
    "print(f'Results: We see that the Avg MSE for the training set is less than the Avg MSE for the Test set with a extreme significance level (P value ={p_value}), which lies within the 1% siginificance range')"
   ]
  },
  {
   "cell_type": "code",
   "execution_count": 60,
   "metadata": {},
   "outputs": [],
   "source": [
    "# Write a new class OlsGd which solves the problem using gradient descent. \n",
    "# The class should get as a parameter the learning rate and number of iteration. \n",
    "# Plot the loss convergance. for each alpha, learning rate plot the MSE with respect to number of iterations.\n",
    "# What is the effect of learning rate? \n",
    "# How would you find number of iteration automatically? \n",
    "# Note: Gradient Descent does not work well when features are not scaled evenly (why?!). Be sure to normalize your feature first.\n",
    "class Normalizer(Ols):\n",
    "  def __init__(self):\n",
    "    pass\n",
    "\n",
    "  def fit(self, X):\n",
    "    return np.array(X)\n",
    "\n",
    "  def predict(self, X):\n",
    "    self.X = self.fit(X)\n",
    "    self.norm = self.X = (self.X - self.X.mean()) / self.X.std()\n",
    "    # self.norm = (X - X.min() )/ (X.max() - X.min())\n",
    "\n",
    "    return self.norm\n",
    "\n",
    "class OlsGd(Ols):\n",
    "  \n",
    "  def __init__(self, learning_rate=0.05, \n",
    "               num_iteration=100000, #changed to 10,000 for better results\n",
    "               normalize=True,\n",
    "               early_stop=True,\n",
    "               verbose=True):\n",
    "    \n",
    "    super(OlsGd, self).__init__()\n",
    "    self.learning_rate = learning_rate\n",
    "    self.num_iteration = num_iteration\n",
    "    self.early_stop = early_stop\n",
    "    self.normalize = normalize\n",
    "    self.normalizer = Normalizer()    \n",
    "    self.verbose = verbose\n",
    "    #Would like to have check if numpy was imported already\n",
    "\n",
    "  def _fit(self, X, Y, reset=True, track_loss=True):\n",
    "    #remeber to normalize the data before starting. \"Can set IF normalizer =True do GS, else return OLS\"\n",
    "    self.X = self.pad(self.normalizer.predict(X))  # Add padding after the normalizer\n",
    "    # self.X = self.pad(X)\n",
    "    self.MSE_log = []\n",
    "    self.Y = Y\n",
    "\n",
    "\n",
    "    self.w = np.random.normal(size = (self.X.shape[1])) #random initialization of W's\n",
    "    iteration = 0\n",
    "    while iteration < self.num_iteration:\n",
    "      self.w = self.w - (self.learning_rate * (1/self.Y.size) * self.X.T @ ((self.X @ self.w) - self.Y))\n",
    "                         #                         Normalize           X               Error\n",
    "      iteration +=1\n",
    "\n",
    "     \n",
    "      self.MSE_log.append(1/self.Y.size * np.sum(((self.X @ self.w) - self.Y)**2))\n",
    "    self.MSE = self.MSE_log[-1]\n",
    "\n",
    "\n",
    "  def _predict(self, X):\n",
    "    self.X = X\n",
    "    self.X = self.normalizer.predict(self.X)\n",
    "    self.labels = self.pad(self.X) @ self.w #added padding to make dimensionality equal to 14\n",
    "    \n",
    "  def _step(self, X, Y):\n",
    "    # use w update for gradient descent\n",
    "    pass"
   ]
  },
  {
   "cell_type": "code",
   "execution_count": 61,
   "metadata": {},
   "outputs": [
    {
     "data": {
      "text/plain": [
       "28.683041383319164"
      ]
     },
     "execution_count": 61,
     "metadata": {},
     "output_type": "execute_result"
    }
   ],
   "source": [
    "# X = grad.pad(X)\n",
    "grad = OlsGd()\n",
    "grad._fit(X,y)\n",
    "grad._predict(X)\n",
    "y_pred = grad.labels #Adding a pad here didn't help\n",
    "grad.MSE"
   ]
  },
  {
   "cell_type": "markdown",
   "metadata": {},
   "source": [
    "WARNING TO SELF:\n",
    "\n",
    "Becareful on the name of the methods.\n",
    "\n",
    "'_' before belongs to gradient descent, without the '_' does not!"
   ]
  },
  {
   "cell_type": "markdown",
   "metadata": {},
   "source": [
    "plotting the rate of convergence"
   ]
  },
  {
   "cell_type": "code",
   "execution_count": 62,
   "metadata": {},
   "outputs": [
    {
     "data": {
      "text/plain": [
       "Text(0.5, 0, 'Iterations')"
      ]
     },
     "execution_count": 62,
     "metadata": {},
     "output_type": "execute_result"
    },
    {
     "data": {
      "image/png": "[encoded data removed]",
      "text/plain": [
       "<Figure size 864x432 with 1 Axes>"
      ]
     },
     "metadata": {
      "needs_background": "light"
     },
     "output_type": "display_data"
    }
   ],
   "source": [
    "plt.figure(figsize = (12,6))\n",
    "plt.plot(range(grad.num_iteration), grad.MSE_log);\n",
    "plt.title('Change in Mean Squared Error over the iterations')\n",
    "plt.ylabel('MSE')\n",
    "plt.xlabel('Iterations')"
   ]
  },
  {
   "cell_type": "markdown",
   "metadata": {},
   "source": [
    "a) Effect of the Learning Rate: The learnging rate causes the MSE to decline very steeply in the beginning, while still being small enough to allow it to slowly converge and not \"overshoot\" the local minima. Instead of passing the iterations as an arguement, we could set a threshold level and pass early_stop as true. This would tell the gradient descent to break, after it stops imporving by more than the specified, incremental amount."
   ]
  },
  {
   "cell_type": "code",
   "execution_count": 63,
   "metadata": {},
   "outputs": [
    {
     "data": {
      "text/plain": [
       "<matplotlib.collections.PathCollection at 0x1bcfcc321c8>"
      ]
     },
     "execution_count": 63,
     "metadata": {},
     "output_type": "execute_result"
    },
    {
     "data": {
      "image/png": "[encoded data removed]",
      "text/plain": [
       "<Figure size 864x432 with 2 Axes>"
      ]
     },
     "metadata": {
      "needs_background": "light"
     },
     "output_type": "display_data"
    }
   ],
   "source": [
    "import matplotlib.pyplot as plt\n",
    "\n",
    "fig = plt.figure(figsize= (12,6))\n",
    "plt.subplot(1,2,1)\n",
    "plt.scatter(y ,y_pred)\n",
    "\n",
    "plt.subplot(1,2,2)\n",
    "reg = LinearRegression().fit(X,y)\n",
    "pred = reg.predict(X)\n",
    "plt.scatter(y, pred)"
   ]
  },
  {
   "cell_type": "code",
   "execution_count": 79,
   "metadata": {},
   "outputs": [
    {
     "data": {
      "image/png": "[encoded data removed]",
      "text/plain": [
       "<Figure size 432x288 with 1 Axes>"
      ]
     },
     "metadata": {
      "needs_background": "light"
     },
     "output_type": "display_data"
    }
   ],
   "source": [
    "for i in [0.001,0.005,0.01,0.05, 0.01]:\n",
    "    grad = OlsGd(learning_rate=i,num_iteration=1000)\n",
    "    grad._fit(X,y)\n",
    "    y_pred= grad._predict(X)\n",
    "    lab='rate = '+str(i)\n",
    "    plt.plot(range(grad.num_iteration), np.log(grad.MSE_log), label=lab)\n",
    "    \n",
    "  \n",
    "plt.xlabel('iterations')\n",
    "plt.ylabel('log MSE')\n",
    "plt.title(\"log MSE for Gradient Descent\")\n",
    "  \n",
    "# Adding legend, which helps us recognize the curve according to it's color\n",
    "plt.legend()\n",
    "  \n",
    "# To load the display window\n",
    "plt.show()"
   ]
  },
  {
   "cell_type": "markdown",
   "metadata": {
    "id": "7HVfnXvZFi98"
   },
   "source": [
    "## Exercise 2 - Ridge Linear Regression\n",
    "\n",
    "Recall that ridge regression is identical to OLS but with a L2 penalty over the weights:\n",
    "\n",
    "$L(y,\\hat{y})=\\sum_{i=1}^{i=N}{(y^{(i)}-\\hat{y}^{(i)})^2} + \\lambda \\left\\Vert w \\right\\Vert_2^2$\n",
    "\n",
    "where $y^{(i)}$ is the **true** value and $\\hat{y}^{(i)}$ is the **predicted** value of the $i_{th}$ example, and $N$ is the number of examples\n",
    "\n",
    "* Show, by differentiating the above loss, that the analytical solution is $w_{Ridge}=(X^TX+\\lambda I)^{-1}X^Ty$\n",
    "* Change `OrdinaryLinearRegression` and `OrdinaryLinearRegressionGradientDescent` classes to work also for ridge regression (do not use the random noise analogy but use the analytical derivation). Either add a parameter, or use inheritance.\n",
    "* **Bonus: Noise as a regularizer**: Show that OLS (ordinary least square), if one adds multiplicative noise to the features the **average** solution for $W$ is equivalent to Ridge regression. In other words, if $X'= X*G$ where $G$ is an uncorrelated noise with variance $\\sigma$ and mean 1, then solving for $X'$ with OLS is like solving Ridge for $X$. What is the interpretation? \n",
    "\n"
   ]
  },
  {
   "cell_type": "code",
   "execution_count": 122,
   "metadata": {},
   "outputs": [],
   "source": [
    "class RidgeLs(Ols):\n",
    "  def __init__(self, ridge_lambda = 0.1, *wargs, **kwargs):\n",
    "    super(RidgeLs,self).__init__(*wargs, **kwargs)\n",
    "    self.ridge_lambda = ridge_lambda\n",
    "    self.learning_rate = 1000\n",
    "    \n",
    "  def _fit(self, X, Y):\n",
    "    self.X = self.pad(X)\n",
    "    self.Y = Y\n",
    "    temp=self.X.T@self.X\n",
    "    self.w = (np.linalg.inv(temp +  self.ridge_lambda* np.identity(temp.shape[0])) @ self.X.T@ self.Y)"
   ]
  },
  {
   "cell_type": "code",
   "execution_count": 123,
   "metadata": {},
   "outputs": [
    {
     "data": {
      "text/plain": [
       "array([29.94652583, 24.94073968, 30.62980683, 28.76197318, 28.14261071,\n",
       "       25.28514361, 22.84528029, 19.45856822, 11.42830826, 18.83850041,\n",
       "       19.00726516, 21.45535942, 20.79117513, 19.73245451, 19.45060107,\n",
       "       19.44782556, 20.72290818, 17.09425117, 16.19736875, 18.48941992,\n",
       "       12.61258968, 17.81485   , 16.06141677, 13.96491668, 15.85572448,\n",
       "       13.45536933, 15.61600048, 14.88129679, 19.81649224, 21.17067654,\n",
       "       11.61641995, 18.20283029,  9.00140571, 14.36751506, 13.82656155,\n",
       "       23.67606839, 22.20069732, 23.02584252, 22.88258088, 31.36097809,\n",
       "       34.30094425, 28.07919003, 25.13079416, 24.56928401, 22.83056183,\n",
       "       21.88030034, 20.26982017, 17.93198492,  8.97837142, 17.0489917 ,\n",
       "       21.1572855 , 23.81181819, 27.61501658, 23.92460948, 15.58137519,\n",
       "       31.41400321, 24.98997329, 33.04727578, 21.89941736, 21.09882171,\n",
       "       17.87029779, 18.48841488, 24.0791727 , 22.8316666 , 23.68604396,\n",
       "       30.16506798, 25.25485973, 21.02150942, 17.29042714, 20.68236582,\n",
       "       25.13849798, 21.5869574 , 24.40664532, 23.94660329, 25.36702257,\n",
       "       23.79687841, 22.71839703, 23.14129399, 21.13459714, 22.19005912,\n",
       "       28.4306459 , 26.95181378, 25.98233644, 24.95474153, 24.73684201,\n",
       "       27.72676937, 22.05062489, 25.68958387, 30.65031669, 30.86291187,\n",
       "       27.00540889, 27.27802472, 28.75286877, 28.86438759, 26.79034793,\n",
       "       28.4636751 , 24.51115268, 35.91152485, 35.24642822, 32.27779376,\n",
       "       24.73026624, 25.75900102, 19.66622632, 20.35325357, 21.44705163,\n",
       "       18.49153182, 17.17353691, 20.75644853, 22.71866086, 19.83545704,\n",
       "       20.75877432, 26.51333309, 20.60115512, 20.60203116, 25.02338751,\n",
       "       20.24129575, 23.28075292, 23.52712152, 20.15291883, 20.62490052,\n",
       "       21.82516268, 22.37339507, 20.46450639, 16.30332667, 20.43699115,\n",
       "       22.36942277, 14.50159454, 15.30101702, 19.20744119, 14.1959853 ,\n",
       "       20.30137895, 19.65847228, 20.30447775, 15.93178547, 13.34819376,\n",
       "       17.54550895, 16.06079906, 19.62904677, 14.00278394, 16.67805032,\n",
       "       13.85967947,  4.10733999, 14.88939055, 12.46036396,  8.93904206,\n",
       "       12.36652327, 15.93312601,  8.74038949,  9.97590098, 15.08103244,\n",
       "       21.17214781, 18.44061578, 20.18635478, 17.47490549, 22.69042936,\n",
       "       20.31440903, 13.6244669 , 33.02617724, 28.60145648, 25.92059245,\n",
       "       32.31803323, 36.65892115, 40.5167352 , 41.96170939, 24.44946848,\n",
       "       24.97065855, 37.19897527, 22.6750493 , 26.0725074 , 26.37725064,\n",
       "       22.17788504, 23.92080288, 22.58998169, 28.82715162, 26.18727189,\n",
       "       30.58476375, 25.41513545, 28.90532471, 31.30027786, 32.86619996,\n",
       "       34.81941565, 27.54522549, 33.80143365, 30.78832487, 22.39812807,\n",
       "       24.61266829, 36.0424265 , 33.15041115, 32.13126947, 34.37476631,\n",
       "       30.70971623, 30.1784452 , 32.89613762, 32.01976116, 31.39043426,\n",
       "       40.8419657 , 35.98597729, 32.50160711, 34.57520549, 30.24381315,\n",
       "       30.82335492, 29.02213244, 37.12533053, 41.98339059, 43.17283611,\n",
       "       22.58927349, 23.65473298, 17.73822638, 23.41791772, 16.76984941,\n",
       "       22.24672112, 16.85074087, 22.59516046, 25.18765474, 11.06421494,\n",
       "       24.42458141, 26.37908977, 28.2315097 , 24.67289266, 29.49646717,\n",
       "       33.05795868, 23.59924361, 32.04549217, 29.5674779 , 38.4891688 ,\n",
       "       40.03043077, 37.6528936 , 32.30474267, 35.57386324, 31.09186971,\n",
       "       24.23302166, 33.2758628 , 38.24496116, 37.34248942, 31.59104781,\n",
       "       25.04727658, 30.00453216, 32.74688859, 28.29004852, 28.29289886,\n",
       "       27.25567393, 23.5199266 , 23.99750631, 27.30491895, 16.22812903,\n",
       "       13.38101742, 20.08557605, 19.88344097, 21.38440269, 24.27526965,\n",
       "       24.32438301, 25.12158316, 25.2227562 , 30.54335062, 23.94704509,\n",
       "       21.66856482, 37.47918775, 43.56464492, 36.44725082, 34.8484103 ,\n",
       "       34.81532039, 37.20331317, 41.21375793, 34.47093742, 35.79152882,\n",
       "       27.91553344, 31.23104632, 40.92512147, 39.23454512, 25.54380717,\n",
       "       22.18223606, 27.15309475, 28.43242944, 35.68273654, 35.98206231,\n",
       "       33.68328663, 35.63994267, 34.79570547, 30.20695556, 35.00765986,\n",
       "       38.68762574, 34.12522408, 40.23708507, 44.6389173 , 31.64288721,\n",
       "       27.21372014, 20.22796268, 26.8624934 , 27.03814012, 26.83565058,\n",
       "       33.4496677 , 34.48413784, 31.81713842, 25.52962564, 24.09306772,\n",
       "       28.27822745, 27.12940717, 19.23529844, 28.89981593, 31.86903964,\n",
       "       30.65429691, 28.75058591, 28.69003597, 32.68316466, 33.29186195,\n",
       "       30.66089415, 35.57059996, 32.60889411, 28.63683599, 23.48500691,\n",
       "       18.2452232 , 26.77918826, 23.16437364, 25.48452353, 25.5170937 ,\n",
       "       20.44407903, 17.62567874, 18.35799911, 24.32511751, 21.36923658,\n",
       "       24.94296509, 24.90777463, 22.8612539 , 19.36395352, 25.19370418,\n",
       "       24.82346678, 23.7987401 , 19.44851147, 21.02249426, 24.18833376,\n",
       "       21.51781787, 19.87743701, 23.24756125, 22.3999415 , 21.822791  ,\n",
       "       20.81821245, 20.27098556, 19.40989352, 22.29327344, 21.35876483,\n",
       "       21.50819718, 30.42646159, 22.18190669, 27.79851895, 28.74484664,\n",
       "       16.65535408, 14.86989624, 25.45182182, 27.67667087, 22.58925292,\n",
       "       20.78898635, 20.84853343, 17.09379955, 25.68307687, 14.71694154,\n",
       "       17.02319068, 19.9612268 , 23.07430388, 22.5135104 , 19.50889483,\n",
       "       22.96481614, 19.22496079, 18.28106373, 20.41014122, 38.12293706,\n",
       "       13.74002131, 15.35879955, 10.05302241, 23.29114252, 32.52994558,\n",
       "       34.55999052, 24.76537285, 25.83474543,  6.02230472,  0.54694922,\n",
       "       25.56570378, 17.92816755, 20.4343363 , 16.00122132, 16.92909538,\n",
       "       14.74632979, 18.6438113 , 13.45653832, 13.09101756,  3.0762237 ,\n",
       "        8.11119612,  6.03007966,  5.65194225,  6.40038764, 14.1863072 ,\n",
       "       17.23820749, 17.44347139,  9.85170843, 20.32076146, 17.99028558,\n",
       "       20.46748575, 19.46495651, 16.35815414,  6.66673089, 11.03204792,\n",
       "       12.05726715, 17.98012405, 18.42511937, 12.95776005,  7.47588244,\n",
       "        8.35046741,  7.65878276, 19.75754015, 13.46477452, 19.7469073 ,\n",
       "       14.73906988, 16.73957025,  1.18319794, 11.38172554, -4.47625478,\n",
       "        9.61946313, 13.44381905,  6.73987193,  6.09743338, 14.80175274,\n",
       "       19.75769785, 18.19997818, 18.25204591, 12.91727186, 14.14400452,\n",
       "        9.78960227, 15.94379697, 13.9876803 , 14.23005045, 13.036125  ,\n",
       "       17.87853619, 18.53319404, 21.24155613, 17.09788269, 15.96521603,\n",
       "       13.60160377, 14.62156293,  8.90796135,  5.03044636, 13.23444355,\n",
       "       12.93758535, 17.60904511, 18.97242546, 18.37395276, 11.65337346,\n",
       "       12.1315598 , 17.91801195, 18.38722365, 17.7176763 , 17.42454816,\n",
       "       16.6038956 , 19.68627843, 18.80067334, 22.9403962 , 15.38756101,\n",
       "       15.90412633, 12.63891366, 12.82737825, 17.37227182, 18.70383672,\n",
       "       19.28575571, 20.40226239, 20.01413891, 22.66572171, 20.42945826,\n",
       "       17.89286767, 14.18740014, 16.78991043, 16.87725648, 18.43171047,\n",
       "       20.07692009, 22.73811579, 22.40890177, 25.68970969, 16.08564474,\n",
       "       15.97581784, 20.56023366, 11.33886296, 19.14385885, 21.77349469,\n",
       "       23.28144182, 26.96903999, 28.50523202, 20.86373487, 19.3737006 ,\n",
       "       22.22625626, 19.58946982, 21.19174866, 11.85160955,  8.2238442 ,\n",
       "        3.63810058, 13.86240728, 16.03380574, 20.61928531, 20.68898448,\n",
       "       16.9929673 , 14.02157272, 19.14726414, 21.35209276, 18.41514527,\n",
       "       20.52007441, 23.809314  , 22.5180979 , 27.89436655, 26.37815802,\n",
       "       22.46215538])"
      ]
     },
     "execution_count": 123,
     "metadata": {},
     "output_type": "execute_result"
    }
   ],
   "source": [
    "ridge = RidgeLs(0.1)\n",
    "ridge._fit(X, y)\n",
    "ridge.predict(X)"
   ]
  },
  {
   "cell_type": "code",
   "execution_count": 126,
   "metadata": {},
   "outputs": [],
   "source": [
    "#Use scikitlearn implementation for OLS, Ridge and Lasso\n",
    "from sklearn.linear_model import Ridge, Lasso, ElasticNet\n",
    "from sklearn.preprocessing import normalize\n"
   ]
  },
  {
   "cell_type": "code",
   "execution_count": 127,
   "metadata": {},
   "outputs": [
    {
     "name": "stdout",
     "output_type": "stream",
     "text": [
      "21.895280305617867\n"
     ]
    },
    {
     "data": {
      "text/plain": [
       "<matplotlib.collections.PathCollection at 0x1bcfcdde5c8>"
      ]
     },
     "execution_count": 127,
     "metadata": {},
     "output_type": "execute_result"
    },
    {
     "data": {
      "image/png": "[encoded data removed]",
      "text/plain": [
       "<Figure size 432x288 with 1 Axes>"
      ]
     },
     "metadata": {
      "needs_background": "light"
     },
     "output_type": "display_data"
    }
   ],
   "source": [
    "ridg = RidgeLs(0.01)\n",
    "ridg._fit(X, y)\n",
    "\n",
    "y_pred=(ridg.predict(X))\n",
    "print(ridg.score(X,y))\n",
    "plt.scatter(y,y_pred)"
   ]
  },
  {
   "cell_type": "markdown",
   "metadata": {},
   "source": [
    "OLS comparing "
   ]
  },
  {
   "cell_type": "code",
   "execution_count": 128,
   "metadata": {},
   "outputs": [
    {
     "name": "stdout",
     "output_type": "stream",
     "text": [
      "my OLS score: 0.6518985663437811\n",
      "sklearn OLS score: 0.6518985663437804\n"
     ]
    },
    {
     "data": {
      "text/plain": [
       "<matplotlib.collections.PathCollection at 0x1bcfd0e53c8>"
      ]
     },
     "execution_count": 128,
     "metadata": {},
     "output_type": "execute_result"
    },
    {
     "data": {
      "image/png": "[encoded data removed]",
      "text/plain": [
       "<Figure size 864x432 with 2 Axes>"
      ]
     },
     "metadata": {
      "needs_background": "light"
     },
     "output_type": "display_data"
    }
   ],
   "source": [
    "from sklearn.metrics import r2_score\n",
    "\n",
    "X_test_norm = X_test - X_test.mean() / X_test.std()\n",
    "\n",
    "Grad = Ols()\n",
    "Grad.fit(X_train, Y_train)\n",
    "y_pred=Grad.predict(X_test)\n",
    "print(\"my OLS score:\",r2_score(y_pred,Y_test))\n",
    "\n",
    "fig = plt.figure(figsize= (12,6))\n",
    "plt.subplot(1,2,1)\n",
    "plt.scatter(Y_test ,y_pred)\n",
    "plt.subplot(1,2,2)\n",
    "\n",
    "reg = LinearRegression().fit(X_train, Y_train)\n",
    "pred = reg.predict(X_test)\n",
    "print(\"sklearn OLS score:\" , r2_score(pred,Y_test))\n",
    "plt.scatter(Y_test, pred)"
   ]
  },
  {
   "cell_type": "markdown",
   "metadata": {},
   "source": [
    "comparing Ridge Linear Regression"
   ]
  },
  {
   "cell_type": "code",
   "execution_count": 129,
   "metadata": {},
   "outputs": [
    {
     "name": "stdout",
     "output_type": "stream",
     "text": [
      "my Ridge score: 0.6515405290748641\n",
      "sklearn Ridge score: 0.6517954772210062\n"
     ]
    },
    {
     "data": {
      "text/plain": [
       "<matplotlib.collections.PathCollection at 0x1bcfebc5488>"
      ]
     },
     "execution_count": 129,
     "metadata": {},
     "output_type": "execute_result"
    },
    {
     "data": {
      "image/png": "[encoded data removed]",
      "text/plain": [
       "<Figure size 864x432 with 2 Axes>"
      ]
     },
     "metadata": {
      "needs_background": "light"
     },
     "output_type": "display_data"
    }
   ],
   "source": [
    "from sklearn.linear_model import Ridge\n",
    "\n",
    "\n",
    "ridg = RidgeLs(0.01)\n",
    "ridg._fit(X_train, Y_train)\n",
    "y_pred_myridge=(ridg.predict(X_test))\n",
    "print(\"my Ridge score:\",r2_score(y_pred_myridge,Y_test))\n",
    "\n",
    "fig = plt.figure(figsize= (12,6))\n",
    "plt.subplot(1,2,1)\n",
    "plt.scatter(Y_test, y_pred_myridge)\n",
    "\n",
    "plt.subplot(1,2,2)\n",
    "\n",
    "clf = Ridge(alpha=0.01)\n",
    "clf.fit(X_train, Y_train)\n",
    "y_pred_skl=clf.predict(X_test)\n",
    "print(\"sklearn Ridge score:\",r2_score(y_pred_skl,Y_test))\n",
    "plt.scatter(Y_test ,y_pred_skl)\n"
   ]
  },
  {
   "cell_type": "markdown",
   "metadata": {},
   "source": [
    "compring to Lasso  "
   ]
  },
  {
   "cell_type": "code",
   "execution_count": 130,
   "metadata": {},
   "outputs": [
    {
     "name": "stdout",
     "output_type": "stream",
     "text": [
      "sklearn Lasso score: 0.6060239780281635\n"
     ]
    },
    {
     "data": {
      "text/plain": [
       "<matplotlib.collections.PathCollection at 0x1bcfea2da08>"
      ]
     },
     "execution_count": 130,
     "metadata": {},
     "output_type": "execute_result"
    },
    {
     "data": {
      "image/png": "[encoded data removed]",
      "text/plain": [
       "<Figure size 432x288 with 1 Axes>"
      ]
     },
     "metadata": {
      "needs_background": "light"
     },
     "output_type": "display_data"
    }
   ],
   "source": [
    "from sklearn import linear_model\n",
    "clf = linear_model.Lasso(alpha=0.1)\n",
    "\n",
    "clf.fit(X_train,Y_train)\n",
    "y_pred_lasso= clf.predict(X_test)\n",
    "\n",
    "print(\"sklearn Lasso score:\",r2_score(y_pred_lasso,Y_test))\n",
    "plt.scatter(Y_test ,y_pred_lasso)"
   ]
  },
  {
   "cell_type": "code",
   "execution_count": null,
   "metadata": {},
   "outputs": [],
   "source": []
  }
 ],
 "metadata": {
  "colab": {
   "collapsed_sections": [],
   "name": "Regression & Regularization - Exercise.ipynb",
   "provenance": []
  },
  "kernelspec": {
   "display_name": "Python 3",
   "language": "python",
   "name": "python3"
  },
  "language_info": {
   "codemirror_mode": {
    "name": "ipython",
    "version": 3
   },
   "file_extension": ".py",
   "mimetype": "text/x-python",
   "name": "python",
   "nbconvert_exporter": "python",
   "pygments_lexer": "ipython3",
   "version": "3.7.10"
  }
 },
 "nbformat": 4,
 "nbformat_minor": 1
}
