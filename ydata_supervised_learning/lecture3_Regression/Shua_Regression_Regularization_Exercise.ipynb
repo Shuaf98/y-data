{
 "cells": [
  {
   "cell_type": "markdown",
   "metadata": {
    "id": "chEqqJbLzFew"
   },
   "source": [
    "# Yandex Data Science School\n",
    "## Linear Regression & Regularization Exercise.\n",
    "\n",
    "\n",
    "## Outline\n",
    "In this exercise you will learn the following topics:\n",
    "\n",
    "1. Refresher on how linear regression is solved in batch and in Gradient Descent \n",
    "2. Implementation of Ridge Regression\n",
    "3. Comparing Ridge, Lasso and vanila Linear Regression on a dataset"
   ]
  },
  {
   "cell_type": "markdown",
   "metadata": {
    "id": "mR9UFmk2greT"
   },
   "source": [
    "## Refresher on Ordinary Least Square (OLS) aka Linear Regeression\n",
    "\n",
    "### Lecture Note\n",
    "\n",
    "In Matrix notation, the matrix $X$ is of dimensions $n \\times p$ where each row is an example and each column is a feature dimension. \n",
    "\n",
    "Similarily, $y$ is of dimension $n \\times 1$ and $w$ is of dimensions $p \\times 1$.\n",
    "\n",
    "The model is $\\hat{y}=X\\cdot w$ where we assume for simplicity that $X$'s first columns equals to 1 (one padding), to account for the bias term.\n",
    "\n",
    "Our objective is to optimize the loss $L$ defines as resiudal sum of squares (RSS): \n",
    "\n",
    "$L_{RSS}=\\frac{1}{N}\\left\\Vert Xw-y \\right\\Vert^2$ (notice that in matrix notation this means summing over all examples, so $L$ is scalar.)\n",
    "\n",
    "To find the optimal $w$ one needs to derive the loss with respect to $w$.\n",
    "\n",
    "$\\frac{\\partial{L_{RSS}}}{\\partial{w}}=\\frac{2}{N}X^T(Xw-y)$ (to see why, read about [matrix derivatives](http://www.gatsby.ucl.ac.uk/teaching/courses/sntn/sntn-2017/resources/Matrix_derivatives_cribsheet.pdf) or see class notes )\n",
    "\n",
    "Thus, the gardient descent solution is $w'=w-\\alpha \\frac{2}{N}X^T(Xw-y)$.\n",
    "\n",
    "Solving $\\frac{\\partial{L_{RSS}}}{\\partial{w}}=0$ for $w$ one can also get analytical solution:\n",
    "\n",
    "$w_{OLS}=(X^TX)^{-1}X^Ty$\n",
    "\n",
    "The first term, $(X^TX)^{-1}X^T$ is also called the pseudo inverse of $X$.\n",
    "\n",
    "See [lecture note from Stanford](https://web.stanford.edu/~mrosenfe/soc_meth_proj3/matrix_OLS_NYU_notes.pdf) for more details.\n"
   ]
  },
  {
   "cell_type": "markdown",
   "metadata": {
    "id": "JA3MEKz80vdy"
   },
   "source": [
    "## Exercise 1 - Ordinary Least Square\n",
    "* Get the boston housing dataset by using the scikit-learn package. hint: [load_boston](http://scikit-learn.org/stable/modules/generated/sklearn.datasets.load_boston.html)\n",
    "\n",
    "* What is $p$? what is $n$ in the above notation? hint: [shape](https://docs.scipy.org/doc/numpy-1.15.0/reference/generated/numpy.ndarray.shape.html)\n",
    "\n",
    "* write a model `OrdinaryLinearRegression` which has a propoery $w$ and 3 methods: `fit`, `predict` and `score` (which returns the MSE on a given sample set). Hint: use [numpy.linalg.pinv](https://docs.scipy.org/doc/numpy-1.15.1/reference/generated/numpy.linalg.pinv.html) to be more efficient.\n",
    "\n",
    "* Fit the model. What is the training MSE?\n",
    "\n",
    "* Plot a scatter plot where on x-axis plot $Y$ and in the y-axis $\\hat{Y}_{OLS}$\n",
    "\n",
    "* Split the data to 75% train and 25% test 20 times. What is the average MSE now for train and test? Hint: use [train_test_split](http://scikit-learn.org/stable/modules/generated/sklearn.model_selection.train_test_split.html) or [ShuffleSplit](http://scikit-learn.org/stable/modules/generated/sklearn.model_selection.ShuffleSplit.html).\n",
    "\n",
    "* Use a t-test to proove that the MSE for training is significantly smaller than for testing. What is the p-value? Hint: use [scipy.stats.ttest_rel](https://docs.scipy.org/doc/scipy-0.14.0/reference/generated/scipy.stats.ttest_rel.html). \n",
    "\n",
    "* Write a new class `OrdinaryLinearRegressionGradientDescent` which inherits from `OrdinaryLinearRegression` and solves the problem using gradinet descent. The class should get as a parameter the learning rate and number of iteration. Plot the class convergance. What is the effect of learning rate? How would you find number of iteration automatically? Note: Gradient Descent does not work well when features are not scaled evenly (why?!). Be sure to normalize your features first.\n",
    "\n",
    "* The following parameters are optional (not mandatory to use):\n",
    "    * early_stop - True / False boolean to indicate to stop running when loss stops decaying and False to continue.\n",
    "    * reset - True / False boolean to reset starting w values, relevant in gradient descent OlsCd and OlsGd. Usually its reseted to 0's\n",
    "    * verbose- True/False boolean to turn on / off logging, e.g. print details like iteration number and loss (https://en.wikipedia.org/wiki/Verbose_mode)\n",
    "    * track_loss - True / False boolean when to save loss results to present later in learning curve graphs"
   ]
  },
  {
   "cell_type": "code",
   "execution_count": 5,
   "metadata": {},
   "outputs": [
    {
     "name": "stderr",
     "output_type": "stream",
     "text": [
      "C:\\Users\\sfrie\\anaconda3\\envs\\py4dp\\lib\\site-packages\\sklearn\\utils\\deprecation.py:87: FutureWarning: Function load_boston is deprecated; `load_boston` is deprecated in 1.0 and will be removed in 1.2.\n",
      "\n",
      "    The Boston housing prices dataset has an ethical problem. You can refer to\n",
      "    the documentation of this function for further details.\n",
      "\n",
      "    The scikit-learn maintainers therefore strongly discourage the use of this\n",
      "    dataset unless the purpose of the code is to study and educate about\n",
      "    ethical issues in data science and machine learning.\n",
      "\n",
      "    In this case special case, you can fetch the dataset from the original\n",
      "    source::\n",
      "\n",
      "        import pandas as pd\n",
      "        import numpy as np\n",
      "\n",
      "\n",
      "        data_url = \"http://lib.stat.cmu.edu/datasets/boston\"\n",
      "        raw_df = pd.read_csv(data_url, sep=\"\\s+\", skiprows=22, header=None)\n",
      "        data = np.hstack([raw_df.values[::2, :], raw_df.values[1::2, :2]])\n",
      "        target = raw_df.values[1::2, 2]\n",
      "\n",
      "    Alternative datasets include the California housing dataset (i.e.\n",
      "    func:`~sklearn.datasets.fetch_california_housing`) and the Ames housing\n",
      "    dataset. You can load the datasets as follows:\n",
      "\n",
      "        from sklearn.datasets import fetch_california_housing\n",
      "        housing = fetch_california_housing()\n",
      "\n",
      "    for the California housing dataset and:\n",
      "\n",
      "        from sklearn.datasets import fetch_openml\n",
      "        housing = fetch_openml(name=\"house_prices\", as_frame=True)\n",
      "\n",
      "    for the Ames housing dataset.\n",
      "    \n",
      "  warnings.warn(msg, category=FutureWarning)\n"
     ]
    },
    {
     "data": {
      "text/html": [
       "<div>\n",
       "<style scoped>\n",
       "    .dataframe tbody tr th:only-of-type {\n",
       "        vertical-align: middle;\n",
       "    }\n",
       "\n",
       "    .dataframe tbody tr th {\n",
       "        vertical-align: top;\n",
       "    }\n",
       "\n",
       "    .dataframe thead th {\n",
       "        text-align: right;\n",
       "    }\n",
       "</style>\n",
       "<table border=\"1\" class=\"dataframe\">\n",
       "  <thead>\n",
       "    <tr style=\"text-align: right;\">\n",
       "      <th></th>\n",
       "      <th>CRIM</th>\n",
       "      <th>ZN</th>\n",
       "      <th>INDUS</th>\n",
       "      <th>CHAS</th>\n",
       "      <th>NOX</th>\n",
       "      <th>RM</th>\n",
       "      <th>AGE</th>\n",
       "      <th>DIS</th>\n",
       "      <th>RAD</th>\n",
       "      <th>TAX</th>\n",
       "      <th>PTRATIO</th>\n",
       "      <th>B</th>\n",
       "      <th>LSTAT</th>\n",
       "    </tr>\n",
       "  </thead>\n",
       "  <tbody>\n",
       "    <tr>\n",
       "      <th>0</th>\n",
       "      <td>0.00632</td>\n",
       "      <td>18.0</td>\n",
       "      <td>2.31</td>\n",
       "      <td>0.0</td>\n",
       "      <td>0.538</td>\n",
       "      <td>6.575</td>\n",
       "      <td>65.2</td>\n",
       "      <td>4.0900</td>\n",
       "      <td>1.0</td>\n",
       "      <td>296.0</td>\n",
       "      <td>15.3</td>\n",
       "      <td>396.90</td>\n",
       "      <td>4.98</td>\n",
       "    </tr>\n",
       "    <tr>\n",
       "      <th>1</th>\n",
       "      <td>0.02731</td>\n",
       "      <td>0.0</td>\n",
       "      <td>7.07</td>\n",
       "      <td>0.0</td>\n",
       "      <td>0.469</td>\n",
       "      <td>6.421</td>\n",
       "      <td>78.9</td>\n",
       "      <td>4.9671</td>\n",
       "      <td>2.0</td>\n",
       "      <td>242.0</td>\n",
       "      <td>17.8</td>\n",
       "      <td>396.90</td>\n",
       "      <td>9.14</td>\n",
       "    </tr>\n",
       "    <tr>\n",
       "      <th>2</th>\n",
       "      <td>0.02729</td>\n",
       "      <td>0.0</td>\n",
       "      <td>7.07</td>\n",
       "      <td>0.0</td>\n",
       "      <td>0.469</td>\n",
       "      <td>7.185</td>\n",
       "      <td>61.1</td>\n",
       "      <td>4.9671</td>\n",
       "      <td>2.0</td>\n",
       "      <td>242.0</td>\n",
       "      <td>17.8</td>\n",
       "      <td>392.83</td>\n",
       "      <td>4.03</td>\n",
       "    </tr>\n",
       "    <tr>\n",
       "      <th>3</th>\n",
       "      <td>0.03237</td>\n",
       "      <td>0.0</td>\n",
       "      <td>2.18</td>\n",
       "      <td>0.0</td>\n",
       "      <td>0.458</td>\n",
       "      <td>6.998</td>\n",
       "      <td>45.8</td>\n",
       "      <td>6.0622</td>\n",
       "      <td>3.0</td>\n",
       "      <td>222.0</td>\n",
       "      <td>18.7</td>\n",
       "      <td>394.63</td>\n",
       "      <td>2.94</td>\n",
       "    </tr>\n",
       "    <tr>\n",
       "      <th>4</th>\n",
       "      <td>0.06905</td>\n",
       "      <td>0.0</td>\n",
       "      <td>2.18</td>\n",
       "      <td>0.0</td>\n",
       "      <td>0.458</td>\n",
       "      <td>7.147</td>\n",
       "      <td>54.2</td>\n",
       "      <td>6.0622</td>\n",
       "      <td>3.0</td>\n",
       "      <td>222.0</td>\n",
       "      <td>18.7</td>\n",
       "      <td>396.90</td>\n",
       "      <td>5.33</td>\n",
       "    </tr>\n",
       "  </tbody>\n",
       "</table>\n",
       "</div>"
      ],
      "text/plain": [
       "      CRIM    ZN  INDUS  CHAS    NOX     RM   AGE     DIS  RAD    TAX  \\\n",
       "0  0.00632  18.0   2.31   0.0  0.538  6.575  65.2  4.0900  1.0  296.0   \n",
       "1  0.02731   0.0   7.07   0.0  0.469  6.421  78.9  4.9671  2.0  242.0   \n",
       "2  0.02729   0.0   7.07   0.0  0.469  7.185  61.1  4.9671  2.0  242.0   \n",
       "3  0.03237   0.0   2.18   0.0  0.458  6.998  45.8  6.0622  3.0  222.0   \n",
       "4  0.06905   0.0   2.18   0.0  0.458  7.147  54.2  6.0622  3.0  222.0   \n",
       "\n",
       "   PTRATIO       B  LSTAT  \n",
       "0     15.3  396.90   4.98  \n",
       "1     17.8  396.90   9.14  \n",
       "2     17.8  392.83   4.03  \n",
       "3     18.7  394.63   2.94  \n",
       "4     18.7  396.90   5.33  "
      ]
     },
     "execution_count": 5,
     "metadata": {},
     "output_type": "execute_result"
    }
   ],
   "source": [
    "import pandas as pd\n",
    "import numpy as np\n",
    "from sklearn.datasets import load_boston;\n",
    "X, y = load_boston(return_X_y = True);\n",
    "data = load_boston();\n",
    "df = pd.DataFrame(data.data, columns = data.feature_names);\n",
    "df.head()"
   ]
  },
  {
   "cell_type": "code",
   "execution_count": 47,
   "metadata": {
    "id": "ZuSS8LhcfZdn"
   },
   "outputs": [],
   "source": [
    "# * write a model `Ols` which has a propoery $w$ and 3 methods: `fit`, `predict` and `score`.? hint: use [numpy.linalg.pinv](https://docs.scipy.org/doc/numpy-1.15.1/reference/generated/numpy.linalg.pinv.html) to be more efficient.\n",
    "\n",
    "class Ols(object):\n",
    "  def __init__(self):\n",
    "    self.w = None\n",
    "    \n",
    "  @staticmethod\n",
    "  def pad(X): #The model is $\\hat{y}=X\\cdot w$ where we assume for simplicity that $X$'s first columns equals to 1 (one padding), to account for the bias term.\n",
    "    padding = np.ones(( X.shape[0], 1,))\n",
    "    return np.hstack((padding, X))\n",
    "  \n",
    "  def fit(self, X, Y):\n",
    "    #remeber pad with 1 before fitting\n",
    "    self.X = self.pad(np.array(X))\n",
    "    self.Y = np.array(Y)\n",
    "    self.w = np.linalg.pinv(self.X) @ self.Y\n",
    "  \n",
    "  def _fit(self, X, Y):\n",
    "    # optional to use this\n",
    "    pass\n",
    "  \n",
    "  def predict(self, X):\n",
    "    self.X = self.pad(X) #Pads the new input, now is same dimensionality as w\n",
    "    self.labels = self.X @ self.w\n",
    "    return self.labels\n",
    "    \n",
    "  def _predict(self, X):\n",
    "    # optional to use this\n",
    "    pass\n",
    "    \n",
    "  def score(self, X, Y):\n",
    "    # w = self.fit(X,Y)\n",
    "    self.X = X\n",
    "    self.Y = Y\n",
    "    pred = self.predict(self.X) #predict does the padding for X\n",
    "    return np.square(np.subtract(self.Y ,pred)).mean()\n",
    "    # return np.sum((self.Y - pred)**2) / Y.shape[0]"
   ]
  },
  {
   "cell_type": "code",
   "execution_count": 48,
   "metadata": {},
   "outputs": [],
   "source": [
    "from sklearn.model_selection import train_test_split\n",
    "from sklearn.metrics import mean_squared_error\n",
    "from sklearn.linear_model import LinearRegression"
   ]
  },
  {
   "cell_type": "markdown",
   "metadata": {},
   "source": [
    "a) MSE on the Training Set"
   ]
  },
  {
   "cell_type": "code",
   "execution_count": 49,
   "metadata": {},
   "outputs": [
    {
     "data": {
      "text/plain": [
       "21.894831181729202"
      ]
     },
     "execution_count": 49,
     "metadata": {},
     "output_type": "execute_result"
    }
   ],
   "source": [
    "ols = Ols()\n",
    "ols.fit(X,y)\n",
    "ols.score(X,y)"
   ]
  },
  {
   "cell_type": "code",
   "execution_count": 52,
   "metadata": {},
   "outputs": [
    {
     "data": {
      "text/plain": [
       "21.894831181729206"
      ]
     },
     "execution_count": 52,
     "metadata": {},
     "output_type": "execute_result"
    }
   ],
   "source": [
    "#Checking rsults with sklean\n",
    "reg = LinearRegression()\n",
    "reg.fit(X,y)\n",
    "mean_squared_error(y, reg.predict(X))"
   ]
  },
  {
   "cell_type": "markdown",
   "metadata": {},
   "source": [
    "b) Scatter plot"
   ]
  },
  {
   "cell_type": "code",
   "execution_count": 24,
   "metadata": {},
   "outputs": [
    {
     "data": {
      "text/plain": [
       "<matplotlib.collections.PathCollection at 0x22732e1f6c8>"
      ]
     },
     "execution_count": 24,
     "metadata": {},
     "output_type": "execute_result"
    },
    {
     "data": {
      "image/png": "[encoded data removed]",
      "text/plain": [
       "<Figure size 864x432 with 2 Axes>"
      ]
     },
     "metadata": {
      "needs_background": "light"
     },
     "output_type": "display_data"
    }
   ],
   "source": [
    "import matplotlib.pyplot as plt\n",
    "\n",
    "ols_pred = ols.predict(X)\n",
    "fig = plt.figure(figsize= (12,6))\n",
    "plt.subplot(1,2,1)\n",
    "plt.scatter(y ,ols_pred)\n",
    "\n",
    "plt.subplot(1,2,2)\n",
    "reg = LinearRegression().fit(X,y)\n",
    "pred = reg.predict(X)\n",
    "plt.scatter(y, pred)"
   ]
  },
  {
   "cell_type": "markdown",
   "metadata": {},
   "source": [
    "C) Average over 20 samples"
   ]
  },
  {
   "cell_type": "code",
   "execution_count": 40,
   "metadata": {},
   "outputs": [
    {
     "data": {
      "text/plain": [
       "26.612750999140218"
      ]
     },
     "execution_count": 40,
     "metadata": {},
     "output_type": "execute_result"
    }
   ],
   "source": [
    "avg_mse_test = []\n",
    "for i in range(20):\n",
    "    X_train, X_test, Y_train, Y_test = train_test_split(X, y, test_size= .25, shuffle= True)\n",
    "    GD = Ols()\n",
    "    GD.fit(X_train, Y_train)\n",
    "    GD.predict(X_test)\n",
    "    # avg_mse.append( 1/Y_test.size * np.sum(GD.labels - Y_test)**2)\n",
    "    avg_mse_test.append(GD.score(X_test, Y_test))\n",
    "np.mean(avg_mse_test)"
   ]
  },
  {
   "cell_type": "code",
   "execution_count": 41,
   "metadata": {},
   "outputs": [
    {
     "data": {
      "text/plain": [
       "21.78066795890814"
      ]
     },
     "execution_count": 41,
     "metadata": {},
     "output_type": "execute_result"
    }
   ],
   "source": [
    "#AVerage MSE for the training set\n",
    "avg_mse_train = []\n",
    "for i in range(20):\n",
    "    X_train, X_test, Y_train, Y_test = train_test_split(X, y, test_size= .25, shuffle= True)\n",
    "    reg = LinearRegression()\n",
    "    reg.fit(X_train,Y_train)\n",
    "    avg_mse_train.append(mean_squared_error(Y_train, reg.predict(X_train)))\n",
    "\n",
    "np.mean(avg_mse_train)"
   ]
  },
  {
   "cell_type": "markdown",
   "metadata": {},
   "source": [
    "D) T-Test"
   ]
  },
  {
   "cell_type": "code",
   "execution_count": 54,
   "metadata": {},
   "outputs": [
    {
     "name": "stdout",
     "output_type": "stream",
     "text": [
      "Results: We see that the Avg MSE for the training set is less than the Avg MSE for the Test set with a extreme significance level (P value =0.000488681651314638), which lies within the 1% siginificance range\n"
     ]
    }
   ],
   "source": [
    "from scipy import stats\n",
    "stat, p_value = stats.ttest_rel(avg_mse_train, avg_mse_test, alternative= 'less')\n",
    "print(f'Results: We see that the Avg MSE for the training set is less than the Avg MSE for the Test set with a extreme significance level (P value ={p_value}), which lies within the 1% siginificance range')"
   ]
  },
  {
   "cell_type": "code",
   "execution_count": 57,
   "metadata": {},
   "outputs": [],
   "source": [
    "# Write a new class OlsGd which solves the problem using gradient descent. \n",
    "# The class should get as a parameter the learning rate and number of iteration. \n",
    "# Plot the loss convergance. for each alpha, learning rate plot the MSE with respect to number of iterations.\n",
    "# What is the effect of learning rate? \n",
    "# How would you find number of iteration automatically? \n",
    "# Note: Gradient Descent does not work well when features are not scaled evenly (why?!). Be sure to normalize your feature first.\n",
    "class Normalizer(Ols):\n",
    "  def __init__(self):\n",
    "    pass\n",
    "\n",
    "  def fit(self, X):\n",
    "    return np.array(X)\n",
    "\n",
    "  def predict(self, X):\n",
    "    self.X = self.fit(X)\n",
    "    self.norm = self.X = (self.X - self.X.mean()) / self.X.std()\n",
    "    # self.norm = (X - X.min() )/ (X.max() - X.min())\n",
    "\n",
    "    return self.norm\n",
    "\n",
    "class OlsGd(Ols):\n",
    "  \n",
    "  def __init__(self, learning_rate=.05, \n",
    "               num_iteration=100000, #changed to 10,000 for better results\n",
    "               normalize=True,\n",
    "               early_stop=True,\n",
    "               verbose=True):\n",
    "    \n",
    "    super(OlsGd, self).__init__()\n",
    "    self.learning_rate = learning_rate\n",
    "    self.num_iteration = num_iteration\n",
    "    self.early_stop = early_stop\n",
    "    self.normalize = normalize\n",
    "    self.normalizer = Normalizer()    \n",
    "    self.verbose = verbose\n",
    "    #Would like to have check if numpy was imported already\n",
    "\n",
    "  def _fit(self, X, Y, reset=True, track_loss=True):\n",
    "    #remeber to normalize the data before starting. \"Can set IF normalizer =True do GS, else return OLS\"\n",
    "    self.X = self.pad(self.normalizer.predict(X))  # Add padding after the normalizer\n",
    "    # self.X = self.pad(X)\n",
    "    self.MSE_log = []\n",
    "    self.Y = Y\n",
    "\n",
    "\n",
    "    self.w = np.random.normal(size = (self.X.shape[1])) #random initialization of W's\n",
    "    iteration = 0\n",
    "    while iteration < self.num_iteration:\n",
    "      self.w = self.w - (self.learning_rate * (1/self.Y.size) * self.X.T @ ((self.X @ self.w) - self.Y))\n",
    "                         #                         Normalize           X               Error\n",
    "      iteration +=1\n",
    "\n",
    "     \n",
    "      self.MSE_log.append(1/self.Y.size * np.sum(((self.X @ self.w) - self.Y)**2))\n",
    "\n",
    "\n",
    "  def _predict(self, X):\n",
    "    self.X = X\n",
    "    self.X = self.normalizer.predict(self.X)\n",
    "    self.labels = self.pad(self.X) @ self.w #added padding to make dimensionality equal to 14\n",
    "    \n",
    "  def _step(self, X, Y):\n",
    "    # use w update for gradient descent\n",
    "    pass"
   ]
  },
  {
   "cell_type": "code",
   "execution_count": 58,
   "metadata": {},
   "outputs": [],
   "source": [
    "# X = grad.pad(X)\n",
    "grad = OlsGd()\n",
    "grad._fit(X,y)\n",
    "grad._predict(X)\n",
    "y_pred = grad.labels #Adding a pad here didn't help"
   ]
  },
  {
   "cell_type": "markdown",
   "metadata": {},
   "source": [
    "WARNING TO SELF:\n",
    "\n",
    "Becareful on the name of the methods.\n",
    "\n",
    "'_' before belongs to gradient descent, without the '_' does not!"
   ]
  },
  {
   "cell_type": "markdown",
   "metadata": {},
   "source": [
    "plotting the rate of convergence"
   ]
  },
  {
   "cell_type": "code",
   "execution_count": 61,
   "metadata": {},
   "outputs": [
    {
     "data": {
      "text/plain": [
       "Text(0.5, 0, 'Iterations')"
      ]
     },
     "execution_count": 61,
     "metadata": {},
     "output_type": "execute_result"
    },
    {
     "data": {
      "image/png": "[encoded data removed]",
      "text/plain": [
       "<Figure size 864x432 with 1 Axes>"
      ]
     },
     "metadata": {
      "needs_background": "light"
     },
     "output_type": "display_data"
    }
   ],
   "source": [
    "plt.figure(figsize = (12,6))\n",
    "plt.plot(range(grad.num_iteration), grad.MSE_log);\n",
    "plt.title('Change in Mean Squared Error over the iterations')\n",
    "plt.ylabel('MSE')\n",
    "plt.xlabel('Iterations')"
   ]
  },
  {
   "cell_type": "markdown",
   "metadata": {},
   "source": [
    "a) Effect of the Learning Rate: The learnging rate causes the MSE to decline very steeply in the beginning, while still being small enough to allow it to slowly converge and not \"overshoot\" the local minima. Instead of passing the iterations as an arguement, we could set a threshold level and pass early_stop as true. This would tell the gradient descent to break, after it stops imporving by more than the specified, incremental amount."
   ]
  },
  {
   "cell_type": "code",
   "execution_count": null,
   "metadata": {},
   "outputs": [
    {
     "data": {
      "text/plain": [
       "<matplotlib.collections.PathCollection at 0x1f34c01fe48>"
      ]
     },
     "execution_count": 629,
     "metadata": {},
     "output_type": "execute_result"
    },
    {
     "data": {
      "image/png": "[encoded data removed]",
      "text/plain": [
       "<Figure size 864x432 with 2 Axes>"
      ]
     },
     "metadata": {
      "needs_background": "light"
     },
     "output_type": "display_data"
    }
   ],
   "source": [
    "import matplotlib.pyplot as plt\n",
    "\n",
    "fig = plt.figure(figsize= (12,6))\n",
    "plt.subplot(1,2,1)\n",
    "plt.scatter(y ,y_pred)\n",
    "\n",
    "plt.subplot(1,2,2)\n",
    "reg = LinearRegression().fit(X,y)\n",
    "pred = reg.predict(X)\n",
    "plt.scatter(y, pred)"
   ]
  },
  {
   "cell_type": "markdown",
   "metadata": {
    "id": "7HVfnXvZFi98"
   },
   "source": [
    "## Exercise 2 - Ridge Linear Regression\n",
    "\n",
    "Recall that ridge regression is identical to OLS but with a L2 penalty over the weights:\n",
    "\n",
    "$L(y,\\hat{y})=\\sum_{i=1}^{i=N}{(y^{(i)}-\\hat{y}^{(i)})^2} + \\lambda \\left\\Vert w \\right\\Vert_2^2$\n",
    "\n",
    "where $y^{(i)}$ is the **true** value and $\\hat{y}^{(i)}$ is the **predicted** value of the $i_{th}$ example, and $N$ is the number of examples\n",
    "\n",
    "* Show, by differentiating the above loss, that the analytical solution is $w_{Ridge}=(X^TX+\\lambda I)^{-1}X^Ty$\n",
    "* Change `OrdinaryLinearRegression` and `OrdinaryLinearRegressionGradientDescent` classes to work also for ridge regression (do not use the random noise analogy but use the analytical derivation). Either add a parameter, or use inheritance.\n",
    "* **Bonus: Noise as a regularizer**: Show that OLS (ordinary least square), if one adds multiplicative noise to the features the **average** solution for $W$ is equivalent to Ridge regression. In other words, if $X'= X*G$ where $G$ is an uncorrelated noise with variance $\\sigma$ and mean 1, then solving for $X'$ with OLS is like solving Ridge for $X$. What is the interpretation? \n",
    "\n"
   ]
  },
  {
   "cell_type": "code",
   "execution_count": 115,
   "metadata": {},
   "outputs": [],
   "source": [
    "class RidgeLs(Ols):\n",
    "  def __init__(self, ridge_lambda, *wargs, **kwargs):\n",
    "    super(RidgeLs,self).__init__(*wargs, **kwargs)\n",
    "    self.ridge_lambda = ridge_lambda\n",
    "    \n",
    "  def _fit(self, X, Y):\n",
    "    self.X = X\n",
    "    self.Y = Y\n",
    "    self.w = (np.linalg.pinv(self.X + self.ridge_lambda) @ self.Y)\n",
    "    "
   ]
  },
  {
   "cell_type": "code",
   "execution_count": 116,
   "metadata": {},
   "outputs": [
    {
     "ename": "ValueError",
     "evalue": "matmul: Input operand 1 has a mismatch in its core dimension 0, with gufunc signature (n?,k),(k,m?)->(n?,m?) (size 13 is different from 14)",
     "output_type": "error",
     "traceback": [
      "\u001b[1;31m---------------------------------------------------------------------------\u001b[0m",
      "\u001b[1;31mValueError\u001b[0m                                Traceback (most recent call last)",
      "\u001b[1;32m~\\AppData\\Local\\Temp/ipykernel_17672/2848138127.py\u001b[0m in \u001b[0;36m<module>\u001b[1;34m\u001b[0m\n\u001b[0;32m      1\u001b[0m \u001b[0mridge\u001b[0m \u001b[1;33m=\u001b[0m \u001b[0mRidgeLs\u001b[0m\u001b[1;33m(\u001b[0m\u001b[1;36m2\u001b[0m\u001b[1;33m)\u001b[0m\u001b[1;33m\u001b[0m\u001b[1;33m\u001b[0m\u001b[0m\n\u001b[0;32m      2\u001b[0m \u001b[0mridge\u001b[0m\u001b[1;33m.\u001b[0m\u001b[0m_fit\u001b[0m\u001b[1;33m(\u001b[0m\u001b[0mX\u001b[0m\u001b[1;33m,\u001b[0m \u001b[0my\u001b[0m\u001b[1;33m)\u001b[0m\u001b[1;33m\u001b[0m\u001b[1;33m\u001b[0m\u001b[0m\n\u001b[1;32m----> 3\u001b[1;33m \u001b[0mridge\u001b[0m\u001b[1;33m.\u001b[0m\u001b[0mpredict\u001b[0m\u001b[1;33m(\u001b[0m\u001b[0mX\u001b[0m\u001b[1;33m)\u001b[0m\u001b[1;33m\u001b[0m\u001b[1;33m\u001b[0m\u001b[0m\n\u001b[0m",
      "\u001b[1;32m~\\AppData\\Local\\Temp/ipykernel_17672/1522366648.py\u001b[0m in \u001b[0;36mpredict\u001b[1;34m(self, X)\u001b[0m\n\u001b[0;32m     22\u001b[0m   \u001b[1;32mdef\u001b[0m \u001b[0mpredict\u001b[0m\u001b[1;33m(\u001b[0m\u001b[0mself\u001b[0m\u001b[1;33m,\u001b[0m \u001b[0mX\u001b[0m\u001b[1;33m)\u001b[0m\u001b[1;33m:\u001b[0m\u001b[1;33m\u001b[0m\u001b[1;33m\u001b[0m\u001b[0m\n\u001b[0;32m     23\u001b[0m     \u001b[0mself\u001b[0m\u001b[1;33m.\u001b[0m\u001b[0mX\u001b[0m \u001b[1;33m=\u001b[0m \u001b[0mself\u001b[0m\u001b[1;33m.\u001b[0m\u001b[0mpad\u001b[0m\u001b[1;33m(\u001b[0m\u001b[0mX\u001b[0m\u001b[1;33m)\u001b[0m \u001b[1;31m#Pads the new input, now is same dimensionality as w\u001b[0m\u001b[1;33m\u001b[0m\u001b[1;33m\u001b[0m\u001b[0m\n\u001b[1;32m---> 24\u001b[1;33m     \u001b[0mself\u001b[0m\u001b[1;33m.\u001b[0m\u001b[0mlabels\u001b[0m \u001b[1;33m=\u001b[0m \u001b[0mself\u001b[0m\u001b[1;33m.\u001b[0m\u001b[0mX\u001b[0m \u001b[1;33m@\u001b[0m \u001b[0mself\u001b[0m\u001b[1;33m.\u001b[0m\u001b[0mw\u001b[0m\u001b[1;33m\u001b[0m\u001b[1;33m\u001b[0m\u001b[0m\n\u001b[0m\u001b[0;32m     25\u001b[0m     \u001b[1;32mreturn\u001b[0m \u001b[0mself\u001b[0m\u001b[1;33m.\u001b[0m\u001b[0mlabels\u001b[0m\u001b[1;33m\u001b[0m\u001b[1;33m\u001b[0m\u001b[0m\n\u001b[0;32m     26\u001b[0m \u001b[1;33m\u001b[0m\u001b[0m\n",
      "\u001b[1;31mValueError\u001b[0m: matmul: Input operand 1 has a mismatch in its core dimension 0, with gufunc signature (n?,k),(k,m?)->(n?,m?) (size 13 is different from 14)"
     ]
    }
   ],
   "source": [
    "ridge = RidgeLs(2)\n",
    "ridge._fit(X, y)\n",
    "ridge.predict(X)"
   ]
  },
  {
   "cell_type": "code",
   "execution_count": 96,
   "metadata": {},
   "outputs": [
    {
     "data": {
      "text/plain": [
       "array([30.36946066, 24.71575161, 30.51453733, 29.04228508, 28.28257249,\n",
       "       25.52240165, 22.94957939, 19.20504344, 11.00175045, 18.78644297,\n",
       "       18.7328403 , 21.48195494, 21.0226999 , 20.23968336, 19.7099533 ,\n",
       "       19.99002394, 21.48206298, 17.27121547, 16.82245147, 18.83805819,\n",
       "       12.56559237, 17.94354255, 16.02493414, 13.91058073, 15.93088091,\n",
       "       13.65493446, 15.79644179, 14.96289806, 19.876953  , 21.25204479,\n",
       "       11.57190858, 18.27292993,  8.87377912, 14.38236839, 13.72325664,\n",
       "       23.73105836, 22.28185405, 23.34825228, 23.22455409, 31.57712249,\n",
       "       34.53842227, 28.33802005, 25.44668211, 24.83918428, 22.84448218,\n",
       "       21.93811723, 20.22059278, 17.41844851,  8.24024104, 16.86588   ,\n",
       "       21.08699057, 23.6895019 , 27.8103381 , 24.13375267, 15.36074144,\n",
       "       31.66204885, 25.27504278, 33.15388174, 22.32621648, 21.31113313,\n",
       "       17.91579311, 18.24480196, 24.13871166, 23.00332965, 23.72661502,\n",
       "       30.12972807, 25.08494731, 20.95843764, 17.05365668, 20.52175472,\n",
       "       24.92211312, 21.30176922, 24.27091679, 23.74484813, 25.07515983,\n",
       "       23.20400625, 21.81592292, 22.50324452, 20.45252472, 21.72224699,\n",
       "       28.37020728, 26.60985101, 25.97171137, 24.84954539, 24.66253766,\n",
       "       27.59934274, 21.95725937, 25.54507632, 30.4807164 , 30.83604668,\n",
       "       26.97482886, 27.20969034, 28.30365405, 28.6720243 , 26.14960307,\n",
       "       28.23027198, 24.16338852, 35.35264549, 35.01690391, 31.88000502,\n",
       "       24.54679541, 25.67281014, 19.50201965, 20.12193644, 21.19456308,\n",
       "       18.12515577, 16.80008366, 20.47908082, 22.3654117 , 19.4989553 ,\n",
       "       20.76091824, 26.26161438, 20.24345002, 20.19101625, 24.7940549 ,\n",
       "       19.93840491, 23.14684165, 23.39256531, 19.9751723 , 20.58514747,\n",
       "       21.71577444, 22.13957745, 20.08253646, 15.72538732, 20.05081422,\n",
       "       22.07916853, 13.91905663, 15.19776571, 18.99955094, 14.10141592,\n",
       "       20.17865302, 19.58972601, 20.25711576, 15.91686662, 13.27547004,\n",
       "       17.34695364, 15.95428372, 19.44206692, 13.74903307, 16.44229885,\n",
       "       13.51163976,  3.66554945, 16.02582598, 13.83768079, 10.35410086,\n",
       "       13.61517375, 17.5386706 , 10.16909641, 11.40980816, 16.59781526,\n",
       "       22.75506881, 20.15038799, 21.84187707, 19.09568578, 24.03936434,\n",
       "       21.78463459, 15.37302305, 32.70608074, 28.36522613, 27.58654809,\n",
       "       31.8939983 , 36.36314776, 39.88230751, 41.23310551, 24.23726763,\n",
       "       24.7568369 , 36.75086573, 22.55109082, 25.74614734, 26.04761646,\n",
       "       21.88554296, 23.65931078, 22.4136721 , 28.67018195, 26.22499062,\n",
       "       30.88492429, 25.63192402, 28.95911758, 31.20474731, 32.95999586,\n",
       "       34.53751022, 27.63680173, 33.6258204 , 30.68425858, 22.31946819,\n",
       "       24.62685765, 36.0650089 , 32.73245985, 31.95030307, 33.99488991,\n",
       "       30.65596059, 30.10570647, 32.82036361, 32.00026805, 31.36062791,\n",
       "       40.69520631, 35.72227507, 32.15043352, 34.22566724, 30.28841937,\n",
       "       30.8535301 , 28.89571656, 37.00372094, 41.70985882, 42.8986284 ,\n",
       "       22.73398609, 23.54589181, 17.41905291, 22.98113145, 15.94792107,\n",
       "       21.50794298, 16.05922444, 22.1592885 , 25.21461274, 10.91767155,\n",
       "       24.41264256, 26.17568675, 28.04300603, 24.07513258, 29.04747862,\n",
       "       32.45056442, 22.8496764 , 31.55459656, 29.38805438, 38.0668863 ,\n",
       "       39.48475518, 37.26321506, 32.04014703, 35.7222895 , 31.41209048,\n",
       "       24.16969322, 33.0513472 , 37.9841656 , 37.06766646, 31.28214468,\n",
       "       25.04987582, 29.64578075, 32.64076892, 28.30508932, 28.09797519,\n",
       "       26.84330478, 23.1488488 , 23.75180643, 27.50636537, 16.0424116 ,\n",
       "       13.09528318, 20.18259837, 19.63117467, 21.30035646, 24.42745868,\n",
       "       24.52814938, 25.41867738, 25.56674946, 30.64791713, 24.01350529,\n",
       "       21.80177174, 37.20844592, 43.95784057, 36.93551873, 35.45196868,\n",
       "       35.42644658, 37.76372225, 41.64992142, 34.93159973, 36.3549604 ,\n",
       "       28.91582402, 31.73727507, 40.98182917, 39.67189401, 25.13974393,\n",
       "       22.21475647, 27.44595436, 28.31143547, 35.23871455, 35.71312594,\n",
       "       33.59087768, 35.17027178, 34.60115774, 30.14457922, 34.91795769,\n",
       "       38.27258133, 34.07298694, 39.78259618, 44.18913812, 31.51212405,\n",
       "       26.99394581, 20.28950282, 26.75505402, 26.80244816, 26.67117363,\n",
       "       33.42244248, 34.40281827, 31.82935141, 25.21194604, 23.58799662,\n",
       "       27.86786432, 26.57788194, 18.5991726 , 28.89548641, 31.81784606,\n",
       "       30.34081501, 28.40605359, 28.53524765, 32.53663034, 33.41058956,\n",
       "       30.67046614, 35.37930369, 32.51044926, 28.73412768, 23.59327941,\n",
       "       18.69853418, 27.08360571, 23.10577164, 25.56082148, 25.5049562 ,\n",
       "       20.62466404, 17.57669792, 18.46954459, 24.45355917, 21.58566364,\n",
       "       25.08870626, 25.05619901, 23.09447587, 19.39232345, 25.46631423,\n",
       "       25.34996351, 24.22269063, 19.65429752, 21.07943793, 24.28585116,\n",
       "       21.55794612, 19.93127873, 23.39097956, 23.19124347, 22.58728848,\n",
       "       21.58926175, 20.88632889, 19.94234899, 22.93382178, 21.92736142,\n",
       "       21.99969189, 30.41765914, 22.47290813, 27.91794355, 29.14992008,\n",
       "       16.73627553, 14.89696443, 25.69625368, 28.03452984, 22.90416866,\n",
       "       21.1111884 , 21.0991588 , 17.53019367, 26.24180666, 15.41840692,\n",
       "       17.75252828, 20.39025345, 23.63254994, 23.23425673, 20.43271944,\n",
       "       23.90987525, 20.00667478, 19.25750573, 21.00982405, 38.06946764,\n",
       "       14.73469582, 15.93574263, 10.15088962, 23.36698612, 32.08802229,\n",
       "       34.06109545, 24.47602971, 25.73346608,  5.65143866,  0.25302329,\n",
       "       25.34616275, 17.6207536 , 20.09261352, 15.73336027, 16.69137783,\n",
       "       14.74205587, 18.3773518 , 13.50594584, 13.11353163,  3.25674781,\n",
       "        8.05875579,  6.15764963,  5.70347715,  6.41764689, 14.34247988,\n",
       "       17.45180127, 17.67629397,  9.98271645, 20.46700988, 18.16029413,\n",
       "       20.47187278, 19.43507623, 16.41231725,  6.58810526, 10.97949361,\n",
       "       11.94571532, 17.92611722, 18.3552133 , 13.15819615,  7.58548198,\n",
       "        8.488544  ,  7.65240425, 19.74506515, 12.66696893, 18.90851679,\n",
       "       14.43575765, 15.92077733,  0.42722081, 10.87961966, -4.47423976,\n",
       "        9.31058797, 13.19326404,  6.75667353,  6.22289606, 15.00570307,\n",
       "       20.02693297, 18.54645172, 17.99226432, 12.40214924, 13.74931461,\n",
       "        9.71787796, 15.61345014, 14.26519818, 14.26234107, 12.86657478,\n",
       "       17.21820455, 17.69072249, 20.78223384, 17.42569209, 16.32397804,\n",
       "       13.88626974, 15.07483582,  9.16885762,  5.21746031, 13.64801938,\n",
       "       13.38608038, 17.96456121, 19.3926944 , 18.70550761, 12.01967895,\n",
       "       12.42249084, 18.32914827, 18.85732755, 17.94455087, 17.58447254,\n",
       "       16.83020199, 19.84494506, 19.07396401, 22.99915297, 15.59858343,\n",
       "       16.19396119, 13.01032593, 13.33368071, 17.77847709, 19.15835867,\n",
       "       19.55240008, 20.7583156 , 20.45467323, 23.11443126, 20.61404357,\n",
       "       18.25582439, 14.21210638, 16.04771769, 16.41297142, 18.16576804,\n",
       "       19.4995299 , 21.8269989 , 21.87882823, 25.41044663, 15.51141658,\n",
       "       15.10184711, 20.00308443, 10.83311096, 18.63852778, 21.42917942,\n",
       "       22.62918112, 26.22019537, 27.7108224 , 20.51875786, 19.28469208,\n",
       "       22.07914335, 19.14967384, 21.02131524, 11.13386104,  7.33596134,\n",
       "        2.6828586 , 13.01391913, 15.42082988, 21.06646487, 21.13999096,\n",
       "       17.52433081, 14.21372672, 19.45728925, 21.64758756, 18.68072468,\n",
       "       20.68870185, 24.12216226, 22.85879412, 28.05726277, 26.58351433,\n",
       "       22.8360911 ])"
      ]
     },
     "execution_count": 96,
     "metadata": {},
     "output_type": "execute_result"
    }
   ],
   "source": [
    "#Use scikitlearn implementation for OLS, Ridge and Lasso\n",
    "from sklearn.linear_model import Ridge, Lasso, ElasticNet\n",
    "from sklearn.preprocessing import normalize\n",
    "\n",
    "rdge = Ridge(2)\n",
    "rdge.fit(X,y)\n",
    "rdge.predict(X)"
   ]
  },
  {
   "cell_type": "code",
   "execution_count": 97,
   "metadata": {},
   "outputs": [
    {
     "data": {
      "text/plain": [
       "22.20417582514686"
      ]
     },
     "execution_count": 97,
     "metadata": {},
     "output_type": "execute_result"
    }
   ],
   "source": [
    "mean_squared_error(y, rdge.predict(X))"
   ]
  },
  {
   "cell_type": "code",
   "execution_count": 98,
   "metadata": {},
   "outputs": [
    {
     "data": {
      "text/plain": [
       "21.894831181729202"
      ]
     },
     "execution_count": 98,
     "metadata": {},
     "output_type": "execute_result"
    }
   ],
   "source": [
    "mean_squared_error(y, ols.predict(X))"
   ]
  },
  {
   "cell_type": "code",
   "execution_count": null,
   "metadata": {},
   "outputs": [],
   "source": []
  }
 ],
 "metadata": {
  "colab": {
   "collapsed_sections": [],
   "name": "Regression & Regularization - Exercise.ipynb",
   "provenance": []
  },
  "kernelspec": {
   "display_name": "Python 3",
   "language": "python",
   "name": "python3"
  },
  "language_info": {
   "codemirror_mode": {
    "name": "ipython",
    "version": 3
   },
   "file_extension": ".py",
   "mimetype": "text/x-python",
   "name": "python",
   "nbconvert_exporter": "python",
   "pygments_lexer": "ipython3",
   "version": "3.7.10"
  }
 },
 "nbformat": 4,
 "nbformat_minor": 1
}
