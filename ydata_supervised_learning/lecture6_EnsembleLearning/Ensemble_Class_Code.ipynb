{
 "cells": [
  {
   "cell_type": "markdown",
   "metadata": {},
   "source": [
    "# Ensemble Class code"
   ]
  },
  {
   "cell_type": "code",
   "execution_count": 2,
   "metadata": {},
   "outputs": [],
   "source": [
    "from sklearn.datasets import load_digits\n",
    "from sklearn.model_selection import train_test_split\n",
    "data_digit = load_digits()\n",
    "X = data_digit['data']\n",
    "y = data_digit['target']\n",
    "X_train, X_test, y_train, y_test = train_test_split(X, y, test_size=0.30, random_state=101)"
   ]
  },
  {
   "cell_type": "code",
   "execution_count": 7,
   "metadata": {},
   "outputs": [
    {
     "name": "stdout",
     "output_type": "stream",
     "text": [
      "Naive Bayes\n",
      "f1 train - 0.849402587965802\n",
      "f1 test - 0.8451174159675487\n",
      "accuracy = 0.8462962962962963\n",
      "Decision Tree\n",
      "f1 train - 1.0\n",
      "f1 test - 0.8432539783847799\n",
      "accuracy = 0.8425925925925926\n"
     ]
    }
   ],
   "source": [
    "from sklearn.naive_bayes import GaussianNB\n",
    "from sklearn.tree import DecisionTreeClassifier\n",
    "from sklearn.metrics import f1_score\n",
    "from sklearn.metrics import accuracy_score\n",
    "\n",
    "regular_clfs = [\n",
    "    (\n",
    "        \"Naive Bayes\",GaussianNB()\n",
    "            \n",
    "        ),\n",
    "    (\n",
    "        \"Decision Tree\",DecisionTreeClassifier())\n",
    "        ]\n",
    "for name, clf in regular_clfs :\n",
    "    print(name)\n",
    "    clf.fit(X_train,y_train)\n",
    "    print(f\"f1 train - {f1_score(clf.predict(X_train),y_train, average = 'macro')}\")\n",
    "    print(f\"f1 test - {f1_score(clf.predict(X_test),y_test, average = 'macro')}\" )\n",
    "    print(f'accuracy = {accuracy_score(clf.predict(X_test),y_test)}')"
   ]
  },
  {
   "cell_type": "markdown",
   "metadata": {},
   "source": [
    "We can see that Decision tree on the training set is super accurate-- overfitting."
   ]
  },
  {
   "cell_type": "markdown",
   "metadata": {},
   "source": [
    "## Bagging"
   ]
  },
  {
   "cell_type": "code",
   "execution_count": 8,
   "metadata": {},
   "outputs": [],
   "source": [
    "from sklearn.svm import SVC\n",
    "from sklearn.ensemble import BaggingClassifier, RandomForestClassifier, AdaBoostClassifier\n",
    "bagging_nb = BaggingClassifier(base_estimator=GaussianNB(), max_samples = 0.2, #\n",
    "                               n_estimators=100,oob_score = True).fit(X_train,y_train) #estimators-- amount of classifiers to use.\n",
    "                                                                                     #oob score- out of the box score-- the samples which werent used, their generaliztion error.\n"
   ]
  },
  {
   "cell_type": "code",
   "execution_count": 9,
   "metadata": {},
   "outputs": [
    {
     "data": {
      "text/plain": [
       "0.8719172633253779"
      ]
     },
     "execution_count": 9,
     "metadata": {},
     "output_type": "execute_result"
    }
   ],
   "source": [
    "bagging_nb.oob_score_ #Out f bag score-- testing the samples which weren't sampled by the bagging, against the training data (used as a sort of validation set)"
   ]
  },
  {
   "cell_type": "markdown",
   "metadata": {},
   "source": [
    "making the right oob evaluation metric and not just accuracy"
   ]
  },
  {
   "cell_type": "code",
   "execution_count": 12,
   "metadata": {},
   "outputs": [
    {
     "data": {
      "text/plain": [
       "0.8722679997970155"
      ]
     },
     "execution_count": 12,
     "metadata": {},
     "output_type": "execute_result"
    }
   ],
   "source": [
    "import numpy as np\n",
    "\n",
    "def macro_f1_score_oob(bagging_model,y_train_):\n",
    "    oob_preds = np.argmax(bagging_model.oob_decision_function_,axis=1)\n",
    "    return f1_score(y_train_, oob_preds,average = 'macro') #https://tomaxent.com/2018/04/27/Micro-and-Macro-average-of-Precision-Recall-and-F-Score/\n",
    "                                                            #macro average-- Take the average precision among all classifiers, and the average recal among all classifiers, and find the harmonic mean (F1)\n",
    "    \n",
    "macro_f1_score_oob(bagging_nb,y_train)"
   ]
  },
  {
   "cell_type": "code",
   "execution_count": 13,
   "metadata": {},
   "outputs": [],
   "source": [
    "RANDOM_STATE = 21"
   ]
  },
  {
   "cell_type": "code",
   "execution_count": 14,
   "metadata": {},
   "outputs": [
    {
     "name": "stderr",
     "output_type": "stream",
     "text": [
      "C:\\Users\\sfrie\\anaconda3\\envs\\py4dp\\lib\\site-packages\\sklearn\\ensemble\\_bagging.py:707: UserWarning: Some inputs do not have OOB scores. This probably means too few estimators were used to compute any reliable oob estimates.\n",
      "  \"Some inputs do not have OOB scores. \"\n",
      "C:\\Users\\sfrie\\anaconda3\\envs\\py4dp\\lib\\site-packages\\sklearn\\ensemble\\_bagging.py:712: RuntimeWarning: invalid value encountered in true_divide\n",
      "  oob_decision_function = predictions / predictions.sum(axis=1)[:, np.newaxis]\n",
      "C:\\Users\\sfrie\\anaconda3\\envs\\py4dp\\lib\\site-packages\\sklearn\\ensemble\\_bagging.py:707: UserWarning: Some inputs do not have OOB scores. This probably means too few estimators were used to compute any reliable oob estimates.\n",
      "  \"Some inputs do not have OOB scores. \"\n",
      "C:\\Users\\sfrie\\anaconda3\\envs\\py4dp\\lib\\site-packages\\sklearn\\ensemble\\_bagging.py:712: RuntimeWarning: invalid value encountered in true_divide\n",
      "  oob_decision_function = predictions / predictions.sum(axis=1)[:, np.newaxis]\n",
      "C:\\Users\\sfrie\\anaconda3\\envs\\py4dp\\lib\\site-packages\\sklearn\\ensemble\\_forest.py:553: UserWarning: Some inputs do not have OOB scores. This probably means too few trees were used to compute any reliable OOB estimates.\n",
      "  UserWarning,\n"
     ]
    }
   ],
   "source": [
    "from collections import OrderedDict\n",
    "import matplotlib.pyplot as plt\n",
    "\n",
    "ensemble_clfs = [\n",
    "    (\n",
    "        \"Bagging Naive Bayes\",\n",
    "        BaggingClassifier(base_estimator=GaussianNB(),\n",
    "                               n_estimators=100,oob_score = True, random_state=RANDOM_STATE)\n",
    "            \n",
    "        ),\n",
    "    (\n",
    "        \"Bagging Decision Tree\",\n",
    "        BaggingClassifier(base_estimator=DecisionTreeClassifier(),\n",
    "                               n_estimators=100,oob_score = True, random_state=RANDOM_STATE)\n",
    "    ),\n",
    "    (\n",
    "        \"Random Forest Classifier\",RandomForestClassifier( #WE don't implement the Bagging Classifier, because RandForest itself is a bagging method\n",
    "                               n_estimators=100,oob_score = True, random_state=RANDOM_STATE) #Difference between bagging of decision tree and random forest is the feature selection.\n",
    "                                                                                            #\n",
    "    )]\n",
    "\n",
    "macro_f1_score_oobs = OrderedDict((label, []) for label, _ in ensemble_clfs)\n",
    "macro_f1_score_test = OrderedDict((label, []) for label, _ in ensemble_clfs)\n",
    "\n",
    "# Range of `n_estimators` values to explore.\n",
    "min_estimators = 15\n",
    "max_estimators = 150\n",
    "\n",
    "for label, clf in ensemble_clfs:\n",
    "    for i in range(min_estimators, max_estimators + 1, 5):\n",
    "        clf.set_params(n_estimators=i)\n",
    "        clf.fit(X_train,y_train)\n",
    "\n",
    "        oob_f1 =  macro_f1_score_oob(clf,y_train) \n",
    "        macro_f1_score_oobs[label].append((i, oob_f1))\n",
    "\n"
   ]
  },
  {
   "cell_type": "code",
   "execution_count": 10,
   "metadata": {},
   "outputs": [
    {
     "data": {
      "image/png": "[encoded data removed]",
      "text/plain": [
       "<Figure size 432x288 with 1 Axes>"
      ]
     },
     "metadata": {
      "needs_background": "light"
     },
     "output_type": "display_data"
    }
   ],
   "source": [
    "# Generate the \"OOB f1\" vs. \"n_estimators\" plot.\n",
    "for label, clf_f1 in macro_f1_score_oobs.items():\n",
    "    xs, ys = zip(*clf_f1)\n",
    "    plt.plot(xs, ys, label=label)\n",
    "\n",
    "plt.xlim(min_estimators, max_estimators)\n",
    "plt.xlabel(\"n_estimators\")\n",
    "plt.ylabel(\"OOB f1 score\")\n",
    "plt.legend(loc=\"upper right\")\n",
    "plt.show()"
   ]
  },
  {
   "cell_type": "code",
   "execution_count": 19,
   "metadata": {},
   "outputs": [
    {
     "name": "stdout",
     "output_type": "stream",
     "text": [
      "Bagging Naive Bayes\n",
      "f1 oob - 0.8432523708768767\n",
      "f1 test - 0.8659671109998677\n",
      "f1 accuracy - 0.8648148148148148\n",
      "oob0.8440731901352426\n",
      "Bagging Decision Tree\n",
      "f1 oob - 0.9444429454829016\n",
      "f1 test - 0.9474247378975702\n",
      "f1 accuracy - 0.9462962962962963\n",
      "oob0.9451073985680191\n",
      "Random Forest Classifier\n",
      "f1 oob - 0.9742929476572982\n",
      "f1 test - 0.9747603187465869\n",
      "f1 accuracy - 0.9740740740740741\n",
      "oob0.9745425616547335\n"
     ]
    }
   ],
   "source": [
    "for name, clf in ensemble_clfs :\n",
    "    print(name)\n",
    "    clf.fit(X_train,y_train)\n",
    "    predictions = clf.predict(X_test)\n",
    "    \n",
    "    print(f\"f1 oob - {macro_f1_score_oob(clf,y_train)}\")\n",
    "    print(f'regular oob {clf.oob_score_}')\n",
    "    print(f\"f1 test - {f1_score(predictions,y_test, average = 'macro')}\" )\n",
    "    print((f\"f1 accuracy - {accuracy_score(predictions,y_test)}\"))\n"
   ]
  },
  {
   "cell_type": "markdown",
   "metadata": {},
   "source": [
    "## Boosting"
   ]
  },
  {
   "cell_type": "code",
   "execution_count": 12,
   "metadata": {},
   "outputs": [
    {
     "name": "stdout",
     "output_type": "stream",
     "text": [
      "f1 train - 0.09808603965450775\n",
      "f1 train - 0.21138880084268127\n",
      "f1 train - 0.21138880084268127\n",
      "f1 train - 0.21138880084268127\n",
      "f1 train - 0.21138880084268127\n",
      "f1 test - 0.18136823308349898\n"
     ]
    }
   ],
   "source": [
    "ada = AdaBoostClassifier(random_state=0)\n",
    "min_estimators = 1\n",
    "max_estimators = 5\n",
    "for i in range(min_estimators, max_estimators + 1, 1):\n",
    "        ada.set_params(n_estimators=i)\n",
    "        ada.fit(X_train,y_train)\n",
    "        predictions = ada.predict(X_train)\n",
    "        print(f\"f1 train - {f1_score(predictions,y_train, average = 'macro')}\" )\n",
    "predictions = ada.predict(X_test)\n",
    "print(f\"f1 test - {f1_score(predictions,y_test, average = 'macro')}\" )"
   ]
  },
  {
   "cell_type": "code",
   "execution_count": null,
   "metadata": {},
   "outputs": [],
   "source": [
    "We can see that adaboost has a really hard time ion this kind of data. "
   ]
  },
  {
   "cell_type": "code",
   "execution_count": 1,
   "metadata": {},
   "outputs": [
    {
     "ename": "NameError",
     "evalue": "name 'X_train' is not defined",
     "output_type": "error",
     "traceback": [
      "\u001b[1;31m---------------------------------------------------------------------------\u001b[0m",
      "\u001b[1;31mNameError\u001b[0m                                 Traceback (most recent call last)",
      "\u001b[1;32m~\\AppData\\Local\\Temp/ipykernel_21396/4225672638.py\u001b[0m in \u001b[0;36m<module>\u001b[1;34m\u001b[0m\n\u001b[1;32m----> 1\u001b[1;33m \u001b[0mX_train\u001b[0m\u001b[1;33m.\u001b[0m\u001b[0mshape\u001b[0m\u001b[1;33m\u001b[0m\u001b[1;33m\u001b[0m\u001b[0m\n\u001b[0m",
      "\u001b[1;31mNameError\u001b[0m: name 'X_train' is not defined"
     ]
    }
   ],
   "source": [
    "X_train.shape"
   ]
  }
 ],
 "metadata": {
  "colab": {
   "name": "Decision_Trees_Class_Code.ipynb",
   "provenance": []
  },
  "kernelspec": {
   "display_name": "Python 3",
   "language": "python",
   "name": "python3"
  },
  "language_info": {
   "codemirror_mode": {
    "name": "ipython",
    "version": 3
   },
   "file_extension": ".py",
   "mimetype": "text/x-python",
   "name": "python",
   "nbconvert_exporter": "python",
   "pygments_lexer": "ipython3",
   "version": "3.7.11"
  }
 },
 "nbformat": 4,
 "nbformat_minor": 1
}
