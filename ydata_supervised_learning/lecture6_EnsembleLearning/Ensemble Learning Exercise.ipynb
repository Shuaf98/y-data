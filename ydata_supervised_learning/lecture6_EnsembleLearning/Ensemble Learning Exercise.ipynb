{
 "cells": [
  {
   "cell_type": "markdown",
   "metadata": {},
   "source": [
    "# Ensemble Learning Exercise"
   ]
  },
  {
   "cell_type": "code",
   "execution_count": 9,
   "metadata": {},
   "outputs": [],
   "source": [
    "import pandas as pd\n",
    "import numpy as np\n",
    "import matplotlib.pyplot as plt\n",
    "import sklearn\n",
    "import collections\n",
    "from sklearn.tree import DecisionTreeRegressor\n",
    "from sklearn.metrics import mean_squared_error\n"
   ]
  },
  {
   "cell_type": "code",
   "execution_count": 10,
   "metadata": {},
   "outputs": [
    {
     "name": "stderr",
     "output_type": "stream",
     "text": [
      "C:\\Users\\sfrie\\anaconda3\\envs\\py4dp\\lib\\site-packages\\sklearn\\utils\\deprecation.py:87: FutureWarning: Function load_boston is deprecated; `load_boston` is deprecated in 1.0 and will be removed in 1.2.\n",
      "\n",
      "    The Boston housing prices dataset has an ethical problem. You can refer to\n",
      "    the documentation of this function for further details.\n",
      "\n",
      "    The scikit-learn maintainers therefore strongly discourage the use of this\n",
      "    dataset unless the purpose of the code is to study and educate about\n",
      "    ethical issues in data science and machine learning.\n",
      "\n",
      "    In this case special case, you can fetch the dataset from the original\n",
      "    source::\n",
      "\n",
      "        import pandas as pd\n",
      "        import numpy as np\n",
      "\n",
      "\n",
      "        data_url = \"http://lib.stat.cmu.edu/datasets/boston\"\n",
      "        raw_df = pd.read_csv(data_url, sep=\"\\s+\", skiprows=22, header=None)\n",
      "        data = np.hstack([raw_df.values[::2, :], raw_df.values[1::2, :2]])\n",
      "        target = raw_df.values[1::2, 2]\n",
      "\n",
      "    Alternative datasets include the California housing dataset (i.e.\n",
      "    func:`~sklearn.datasets.fetch_california_housing`) and the Ames housing\n",
      "    dataset. You can load the datasets as follows:\n",
      "\n",
      "        from sklearn.datasets import fetch_california_housing\n",
      "        housing = fetch_california_housing()\n",
      "\n",
      "    for the California housing dataset and:\n",
      "\n",
      "        from sklearn.datasets import fetch_openml\n",
      "        housing = fetch_openml(name=\"house_prices\", as_frame=True)\n",
      "\n",
      "    for the Ames housing dataset.\n",
      "    \n",
      "  warnings.warn(msg, category=FutureWarning)\n"
     ]
    },
    {
     "data": {
      "text/html": [
       "<div>\n",
       "<style scoped>\n",
       "    .dataframe tbody tr th:only-of-type {\n",
       "        vertical-align: middle;\n",
       "    }\n",
       "\n",
       "    .dataframe tbody tr th {\n",
       "        vertical-align: top;\n",
       "    }\n",
       "\n",
       "    .dataframe thead th {\n",
       "        text-align: right;\n",
       "    }\n",
       "</style>\n",
       "<table border=\"1\" class=\"dataframe\">\n",
       "  <thead>\n",
       "    <tr style=\"text-align: right;\">\n",
       "      <th></th>\n",
       "      <th>CRIM</th>\n",
       "      <th>ZN</th>\n",
       "      <th>INDUS</th>\n",
       "      <th>CHAS</th>\n",
       "      <th>NOX</th>\n",
       "      <th>RM</th>\n",
       "      <th>AGE</th>\n",
       "      <th>DIS</th>\n",
       "      <th>RAD</th>\n",
       "      <th>TAX</th>\n",
       "      <th>PTRATIO</th>\n",
       "      <th>B</th>\n",
       "      <th>LSTAT</th>\n",
       "    </tr>\n",
       "  </thead>\n",
       "  <tbody>\n",
       "    <tr>\n",
       "      <th>0</th>\n",
       "      <td>0.00632</td>\n",
       "      <td>18.0</td>\n",
       "      <td>2.31</td>\n",
       "      <td>0.0</td>\n",
       "      <td>0.538</td>\n",
       "      <td>6.575</td>\n",
       "      <td>65.2</td>\n",
       "      <td>4.0900</td>\n",
       "      <td>1.0</td>\n",
       "      <td>296.0</td>\n",
       "      <td>15.3</td>\n",
       "      <td>396.90</td>\n",
       "      <td>4.98</td>\n",
       "    </tr>\n",
       "    <tr>\n",
       "      <th>1</th>\n",
       "      <td>0.02731</td>\n",
       "      <td>0.0</td>\n",
       "      <td>7.07</td>\n",
       "      <td>0.0</td>\n",
       "      <td>0.469</td>\n",
       "      <td>6.421</td>\n",
       "      <td>78.9</td>\n",
       "      <td>4.9671</td>\n",
       "      <td>2.0</td>\n",
       "      <td>242.0</td>\n",
       "      <td>17.8</td>\n",
       "      <td>396.90</td>\n",
       "      <td>9.14</td>\n",
       "    </tr>\n",
       "    <tr>\n",
       "      <th>2</th>\n",
       "      <td>0.02729</td>\n",
       "      <td>0.0</td>\n",
       "      <td>7.07</td>\n",
       "      <td>0.0</td>\n",
       "      <td>0.469</td>\n",
       "      <td>7.185</td>\n",
       "      <td>61.1</td>\n",
       "      <td>4.9671</td>\n",
       "      <td>2.0</td>\n",
       "      <td>242.0</td>\n",
       "      <td>17.8</td>\n",
       "      <td>392.83</td>\n",
       "      <td>4.03</td>\n",
       "    </tr>\n",
       "    <tr>\n",
       "      <th>3</th>\n",
       "      <td>0.03237</td>\n",
       "      <td>0.0</td>\n",
       "      <td>2.18</td>\n",
       "      <td>0.0</td>\n",
       "      <td>0.458</td>\n",
       "      <td>6.998</td>\n",
       "      <td>45.8</td>\n",
       "      <td>6.0622</td>\n",
       "      <td>3.0</td>\n",
       "      <td>222.0</td>\n",
       "      <td>18.7</td>\n",
       "      <td>394.63</td>\n",
       "      <td>2.94</td>\n",
       "    </tr>\n",
       "    <tr>\n",
       "      <th>4</th>\n",
       "      <td>0.06905</td>\n",
       "      <td>0.0</td>\n",
       "      <td>2.18</td>\n",
       "      <td>0.0</td>\n",
       "      <td>0.458</td>\n",
       "      <td>7.147</td>\n",
       "      <td>54.2</td>\n",
       "      <td>6.0622</td>\n",
       "      <td>3.0</td>\n",
       "      <td>222.0</td>\n",
       "      <td>18.7</td>\n",
       "      <td>396.90</td>\n",
       "      <td>5.33</td>\n",
       "    </tr>\n",
       "  </tbody>\n",
       "</table>\n",
       "</div>"
      ],
      "text/plain": [
       "      CRIM    ZN  INDUS  CHAS    NOX     RM   AGE     DIS  RAD    TAX  \\\n",
       "0  0.00632  18.0   2.31   0.0  0.538  6.575  65.2  4.0900  1.0  296.0   \n",
       "1  0.02731   0.0   7.07   0.0  0.469  6.421  78.9  4.9671  2.0  242.0   \n",
       "2  0.02729   0.0   7.07   0.0  0.469  7.185  61.1  4.9671  2.0  242.0   \n",
       "3  0.03237   0.0   2.18   0.0  0.458  6.998  45.8  6.0622  3.0  222.0   \n",
       "4  0.06905   0.0   2.18   0.0  0.458  7.147  54.2  6.0622  3.0  222.0   \n",
       "\n",
       "   PTRATIO       B  LSTAT  \n",
       "0     15.3  396.90   4.98  \n",
       "1     17.8  396.90   9.14  \n",
       "2     17.8  392.83   4.03  \n",
       "3     18.7  394.63   2.94  \n",
       "4     18.7  396.90   5.33  "
      ]
     },
     "execution_count": 10,
     "metadata": {},
     "output_type": "execute_result"
    }
   ],
   "source": [
    "from sklearn.datasets import load_boston\n",
    "X, y = load_boston(return_X_y = True);\n",
    "data = load_boston();\n",
    "df = pd.DataFrame(data.data, columns = data.feature_names);\n",
    "df.head()"
   ]
  },
  {
   "cell_type": "markdown",
   "metadata": {},
   "source": [
    "## 1. Implementing Random Forest From Scratch (30 points)\n",
    "In this exercise you will need to implement a simple version of Random Forest Regressor from scratch. Your model will handle **continuous input and output**. \n",
    "\n",
    "* Compelete the skeleton class below (you should use scikit-learn's `DecisionTreeRegressor` model that the `TreeEnsemble` will use)\n",
    "  - `X` is a matrix of data values (rows are samples, columns are attributes)\n",
    "  - `y` is a vector of corresponding target values\n",
    "  - `n_trees` is the number of trees to create\n",
    "  - `sample_sz` is the size of the sample set to use of each of the trees in the forest (chose the samples randomly, with or without repetition)\n",
    "  - `n_features` is the size of features to sample. This can be a natrual number > 0, or a ratio of the features as a number in range (0,1]\n",
    "  - `min_leaf` is the minimal number of samples in each leaf node of each tree in the forest\n",
    "  \n",
    "\n",
    "* The `predict` function will use mean of the target values of the trees. The result is a vector of predictions matching the number of rows in `X`.\n",
    "\n",
    "* The `oob_mse` function will compute the mean squared error over all **out of bag (oob)** samples. That is, for each sample calculate the squared error using  predictions from the trees that do not contain x in their respective bootstrap sample, then average this score for all samples. See:  [OOB Errors for Random Forests](https://scikit-learn.org/stable/auto_examples/ensemble/plot_ensemble_oob.html).\n",
    "\n",
    "* To check your random forest implementation, use the boston dataset (`from sklearn.datasets import load_boston`)\n",
    "\n",
    "  - Use the following to estimate what are the best hyper parameters to use for your model\n",
    "```\n",
    "for n in [1,5,10,20,50,100]:\n",
    "  for sz in [50,100,300,500]:\n",
    "    for min_leaf in [1,5]:\n",
    "      forest = TreeEnsemble(X, y, n, sz, min_leaf)\n",
    "      mse = forest.oob_mse()\n",
    "      print(\"n_trees:{0}, sz:{1}, min_leaf:{2} --- oob mse: {3}\".format(n, sz, min_leaf, mse))\n",
    "```\n",
    "  \n",
    "  - Using your chosen hyperparameters as a final model, plot the predictions vs. true values of all the samples in the training set . Use something like:\n",
    "  ```\n",
    "  y_hat = forest.predict(X)  # forest is the chosen model\n",
    "  plt.scatter(y_hat, y)\n",
    "  ```\n",
    " \n"
   ]
  },
  {
   "cell_type": "code",
   "execution_count": 11,
   "metadata": {},
   "outputs": [],
   "source": [
    "class Tree():\n",
    "    def __init__(self, dt, X, y, oob):\n",
    "        self.dt = dt\n",
    "        self.X = X\n",
    "        self.y = y\n",
    "        self.oob = oob\n",
    "        self.columns = X.columns\n",
    "\n",
    "class TreeEnsemble():\n",
    "    def __init__(self, n_trees, sample_sz, n_features, min_leaf):\n",
    "        self.n_trees = n_trees\n",
    "        self.sample_sz = sample_sz\n",
    "        self.n_features = n_features\n",
    "        self.min_leaf = min_leaf\n",
    "\n",
    "    def fit(self, X, y):\n",
    "        self.X = X\n",
    "        self.y = y\n",
    "\n",
    "        self.df = pd.DataFrame(np.append(X, y.reshape(-1,1), axis =1)) #restore X and y to one data frame, to make sampling and oob easier\n",
    "        self.estimators = []\n",
    "\n",
    "        for i in range(self.n_trees):\n",
    "        #Random sampling, with replacement, of the data.\n",
    "            x = self.df.iloc[:, :-1]\n",
    "            y = self.df.iloc[:, -1]\n",
    "            x_n_features = x.sample(self.n_features, axis = 1) #Take sample of the features, from our df_n_samples\n",
    "            \n",
    "            df_n_features = x_n_features.join(y)\n",
    "            df_n_samps = df_n_features.sample(self.sample_sz, replace= True)\n",
    "\n",
    "            samp_x = df_n_samps.iloc[:, :-1]\n",
    "            samp_y = df_n_samps.iloc[:, -1]\n",
    "        # #Random sampling of the features\n",
    "        #     samp_x = samp_x.sample(self.n_features, axis = 1) #Take sample of the features, from our df_n_samples\n",
    "\n",
    "            oob = df_n_features.drop(samp_x.index) # oob is all of the samples that weren't used, per tree.\n",
    "           \n",
    "        #Create tree (with min_leaf)\n",
    "            dt = DecisionTreeRegressor(min_samples_leaf= self.min_leaf).fit(samp_x, samp_y)\n",
    "\n",
    "            tree = Tree(dt = dt, X = samp_x, y = samp_y, oob = oob)\n",
    "            \n",
    "        #add tree to the total amount of classifiers.\n",
    "            self.estimators.append(tree)\n",
    "\n",
    "\n",
    "    def predict(self, X):\n",
    "        \n",
    "        predictions = []\n",
    "        for tree in self.estimators:\n",
    "            x = X[:, tree.columns]\n",
    "            \n",
    "            predictions.append(tree.dt.predict(x))\n",
    "        \n",
    "        return np.mean(predictions, axis = 0)\n",
    "\n",
    "    def oob_mse(self):\n",
    "        dict = collections.defaultdict(list)\n",
    "        for tree in self.estimators:\n",
    "            oob_x = tree.oob.iloc[:, :-1] #Just take the X of the oob; don't need the current y's.\n",
    "            # oob_y = self.oob.iloc[:, -1]\n",
    "\n",
    "            oob_pred = tree.dt.predict(oob_x)\n",
    "            # mse = mean_squared_error(oob_y, oob_pred)\n",
    "\n",
    "            for i, idx in enumerate(oob_x.index):\n",
    "                dict[idx].append(oob_pred[i])\n",
    "\n",
    "        mean_oob_predictions = []\n",
    "        for x in dict.values():\n",
    "            mean_oob_predictions.append(np.mean(x))\n",
    "\n",
    "        oob_y = self.df.iloc[list(dict.keys()), -1] #return y, in order of the keys (indexes) of our oob dictionary\n",
    "        self.oob_mse = mean_squared_error(oob_y, mean_oob_predictions)\n",
    "        \n",
    "        return self.oob_mse\n",
    "\n"
   ]
  },
  {
   "cell_type": "code",
   "execution_count": 12,
   "metadata": {},
   "outputs": [],
   "source": [
    "from sklearn.model_selection import train_test_split\n",
    "x_train, x_test, y_train, y_test = train_test_split(X, y, test_size= 0.2)\n",
    "\n",
    "rf = TreeEnsemble(200, 200, 5, 1)\n",
    "rf.fit(x_train,y_train)"
   ]
  },
  {
   "cell_type": "code",
   "execution_count": 13,
   "metadata": {},
   "outputs": [
    {
     "data": {
      "text/plain": [
       "22.922830118064148"
      ]
     },
     "execution_count": 13,
     "metadata": {},
     "output_type": "execute_result"
    }
   ],
   "source": [
    "mean_squared_error(y_test, rf.predict(x_test))"
   ]
  },
  {
   "cell_type": "code",
   "execution_count": 14,
   "metadata": {},
   "outputs": [
    {
     "data": {
      "text/plain": [
       "16.629181178972924"
      ]
     },
     "execution_count": 14,
     "metadata": {},
     "output_type": "execute_result"
    }
   ],
   "source": [
    "rf.oob_mse()"
   ]
  },
  {
   "cell_type": "code",
   "execution_count": 15,
   "metadata": {},
   "outputs": [
    {
     "name": "stdout",
     "output_type": "stream",
     "text": [
      "n_trees:1, sz:50, min_leaf:1 --- oob mse: 29.30994413407821\n",
      "n_trees:1, sz:50, min_leaf:5 --- oob mse: 38.447335498097544\n",
      "n_trees:1, sz:100, min_leaf:1 --- oob mse: 37.88282051282051\n",
      "n_trees:1, sz:100, min_leaf:5 --- oob mse: 35.82602481670446\n",
      "n_trees:1, sz:300, min_leaf:1 --- oob mse: 36.62895833333334\n",
      "n_trees:1, sz:300, min_leaf:5 --- oob mse: 25.73990894642654\n",
      "n_trees:1, sz:500, min_leaf:1 --- oob mse: 22.405284552845526\n",
      "n_trees:1, sz:500, min_leaf:5 --- oob mse: 15.31978541238872\n",
      "n_trees:5, sz:50, min_leaf:1 --- oob mse: 21.35931599972497\n",
      "n_trees:5, sz:50, min_leaf:5 --- oob mse: 26.7248070887836\n",
      "n_trees:5, sz:100, min_leaf:1 --- oob mse: 19.90286316515026\n",
      "n_trees:5, sz:100, min_leaf:5 --- oob mse: 18.20289425992912\n",
      "n_trees:5, sz:300, min_leaf:1 --- oob mse: 14.268833196956644\n",
      "n_trees:5, sz:300, min_leaf:5 --- oob mse: 17.424041583814223\n",
      "n_trees:5, sz:500, min_leaf:1 --- oob mse: 24.848599023569026\n",
      "n_trees:5, sz:500, min_leaf:5 --- oob mse: 25.876459199157182\n",
      "n_trees:10, sz:50, min_leaf:1 --- oob mse: 16.930009700979312\n",
      "n_trees:10, sz:50, min_leaf:5 --- oob mse: 22.264204337813684\n",
      "n_trees:10, sz:100, min_leaf:1 --- oob mse: 18.59529702396154\n",
      "n_trees:10, sz:100, min_leaf:5 --- oob mse: 16.464989256413794\n",
      "n_trees:10, sz:300, min_leaf:1 --- oob mse: 15.639895094925803\n",
      "n_trees:10, sz:300, min_leaf:5 --- oob mse: 15.729888923305278\n",
      "n_trees:10, sz:500, min_leaf:1 --- oob mse: 20.807009771789055\n",
      "n_trees:10, sz:500, min_leaf:5 --- oob mse: 15.750401658664355\n",
      "n_trees:20, sz:50, min_leaf:1 --- oob mse: 16.971807511515266\n",
      "n_trees:20, sz:50, min_leaf:5 --- oob mse: 20.55926531337295\n",
      "n_trees:20, sz:100, min_leaf:1 --- oob mse: 15.888870693641797\n",
      "n_trees:20, sz:100, min_leaf:5 --- oob mse: 15.975448182756281\n",
      "n_trees:20, sz:300, min_leaf:1 --- oob mse: 14.210957607970442\n",
      "n_trees:20, sz:300, min_leaf:5 --- oob mse: 16.071580786919586\n",
      "n_trees:20, sz:500, min_leaf:1 --- oob mse: 15.887077122165708\n",
      "n_trees:20, sz:500, min_leaf:5 --- oob mse: 15.66138732778132\n",
      "n_trees:50, sz:50, min_leaf:1 --- oob mse: 17.17002756785444\n",
      "n_trees:50, sz:50, min_leaf:5 --- oob mse: 21.023486166985382\n",
      "n_trees:50, sz:100, min_leaf:1 --- oob mse: 13.328823616177033\n",
      "n_trees:50, sz:100, min_leaf:5 --- oob mse: 16.177415675527328\n",
      "n_trees:50, sz:300, min_leaf:1 --- oob mse: 13.597743271828834\n",
      "n_trees:50, sz:300, min_leaf:5 --- oob mse: 14.416663292505966\n",
      "n_trees:50, sz:500, min_leaf:1 --- oob mse: 13.873283642981853\n",
      "n_trees:50, sz:500, min_leaf:5 --- oob mse: 13.265230911098053\n",
      "n_trees:100, sz:50, min_leaf:1 --- oob mse: 15.889068040939973\n",
      "n_trees:100, sz:50, min_leaf:5 --- oob mse: 18.963347944748\n",
      "n_trees:100, sz:100, min_leaf:1 --- oob mse: 14.032273741780267\n",
      "n_trees:100, sz:100, min_leaf:5 --- oob mse: 16.098977747698775\n",
      "n_trees:100, sz:300, min_leaf:1 --- oob mse: 12.204595923586504\n",
      "n_trees:100, sz:300, min_leaf:5 --- oob mse: 14.060052899327179\n",
      "n_trees:100, sz:500, min_leaf:1 --- oob mse: 11.817070290285315\n",
      "n_trees:100, sz:500, min_leaf:5 --- oob mse: 13.737802489337396\n"
     ]
    }
   ],
   "source": [
    "for n in [1,5,10,20,50,100]:\n",
    "  for sz in [50,100,300,500]:\n",
    "    for min_leaf in [1,5]:\n",
    "      forest = TreeEnsemble(n, sz, 12, min_leaf)\n",
    "      forest.fit(x_train, y_train)\n",
    "      mse = forest.oob_mse()\n",
    "      print(\"n_trees:{0}, sz:{1}, min_leaf:{2} --- oob mse: {3}\".format(n, sz, min_leaf, mse))\n",
    "  \n"
   ]
  },
  {
   "cell_type": "code",
   "execution_count": 16,
   "metadata": {},
   "outputs": [
    {
     "data": {
      "text/plain": [
       "<matplotlib.collections.PathCollection at 0x1e367ded308>"
      ]
     },
     "execution_count": 16,
     "metadata": {},
     "output_type": "execute_result"
    },
    {
     "data": {
      "image/png": "[encoded data removed]",
      "text/plain": [
       "<Figure size 432x288 with 1 Axes>"
      ]
     },
     "metadata": {
      "needs_background": "light"
     },
     "output_type": "display_data"
    }
   ],
   "source": [
    "forest = TreeEnsemble(50, 500, 7, 1)\n",
    "forest.fit(X, y)\n",
    "y_hat = forest.predict(x_test)  # forest is the chosen model\n",
    "plt.scatter(y_hat, y_test)"
   ]
  },
  {
   "cell_type": "markdown",
   "metadata": {},
   "source": [
    "## 2. Implementing AdaBoost From Scratch (30 points)\n",
    "\n",
    "\n",
    "*   Implement the AdaBoost algorithm for classification task. Your `AdaBoost` class should receive a method for creating a weak learner, which has a fit and predict methods (**hint**: you can simulate re-weighting of the samples by an appropriate re-sampling of the train set).\n",
    "*   Use your model to find a strong classifier on the sample set given below, using $n$ weak learners:\n",
    "    - For the base weak learners, use a ***linear*** SVM classifier (use `LinearSVC` with the default parameters). \n",
    "    - Split the sample set into train and test sets.\n",
    "    - Plot the final decision plane of your classifier for $n\\in \\{1, 2, 3, 5, 10, 50\\}$, and visualize the final iteration weights of the samples in those plots.\n",
    "    - How does the overall train set accuracy changes with $n$?\n",
    "    - Does you model starts to overfit at some point?\n",
    "\n"
   ]
  },
  {
   "cell_type": "code",
   "execution_count": 493,
   "metadata": {},
   "outputs": [
    {
     "data": {
      "image/png": "[encoded data removed]",
      "text/plain": [
       "<Figure size 432x288 with 1 Axes>"
      ]
     },
     "metadata": {
      "needs_background": "light"
     },
     "output_type": "display_data"
    }
   ],
   "source": [
    "from sklearn.datasets import make_circles\n",
    "from matplotlib import pyplot\n",
    "from pandas import DataFrame\n",
    "\n",
    "# generate 2d classification dataset\n",
    "X, y = make_circles(n_samples=1500, noise=0.2, random_state=101, factor=0.5)\n",
    "# scatter plot, dots colored by class value\n",
    "df = DataFrame(dict(x=X[:,0], y=X[:,1], label=y))\n",
    "colors = {0:'red', 1:'blue'}\n",
    "fig, ax = pyplot.subplots()\n",
    "grouped = df.groupby('label')\n",
    "for key, group in grouped:\n",
    "    group.plot(ax=ax, kind='scatter', x='x', y='y', label=key, color=colors[key])\n",
    "pyplot.show()"
   ]
  },
  {
   "cell_type": "code",
   "execution_count": 494,
   "metadata": {},
   "outputs": [],
   "source": [
    "y[y==0] =-1"
   ]
  },
  {
   "cell_type": "code",
   "execution_count": null,
   "metadata": {},
   "outputs": [],
   "source": [
    "#Step 1: Intialize weights for each sample\n",
    "#Step 2: For each classifier:\n",
    "    #a) fit the classifier with the calculated weights of the previous classifier (either througha weighted gini index, or random weighted resampling).\n",
    "        #Note: Make sure to resample each time from the original dataframe, but with the most recent weights.\n",
    "    #b) Calculate the error\n",
    "    #c) compute the significance of the classifier to the final prediction.\n",
    "    #d) Create new, normalized weights\n",
    "    #d) update the weights\n",
    "#Step 3: Predict-- weighted majority vote of the models"
   ]
  },
  {
   "cell_type": "code",
   "execution_count": 675,
   "metadata": {},
   "outputs": [],
   "source": [
    "class CustomAdaBoost():\n",
    "    def __init__(self, classifier, n_classifiers, params = None):\n",
    "        self.classifier = classifier\n",
    "        self.all_classifiers = []\n",
    "        self.n_classifiers = n_classifiers\n",
    "        self.alphas = []\n",
    "        self.weights = None\n",
    "        self.params = params\n",
    "    \n",
    "    def _check_X_y(self, X, y):\n",
    "        \"\"\" Validate assumptions about format of input data\"\"\"\n",
    "        assert set(y) == {-1, 1}, 'Response variable must be ±1'\n",
    "        return X, y\n",
    "\n",
    "    def fit(self, X, Y):\n",
    "        X, Y = self._check_X_y(X, Y)\n",
    "        self.X = X #Used for error calculation\n",
    "        self.Y = Y #Used for error calculation\n",
    "        self.weights =  np.ones(X.shape[0]) / X.shape[0] #Consider trying a different amount of sampling and taking out replace\n",
    "        # iter = 1\n",
    "        for clf_idx in range(self.n_classifiers):\n",
    "            # print(iter)\n",
    "            # iter +=1\n",
    "            if self.params:\n",
    "                clf = self.classifier(**self.params).fit(self.X,self.Y, sample_weight = self.weights)\n",
    "            else:\n",
    "                clf = self.classifier().fit(self.X,self.Y, sample_weight = self.weights)\n",
    "            pred = clf.predict(self.X) #See how this classifier did on the whole training set.\n",
    "\n",
    "            #Error calculation\n",
    "            \n",
    "            total_error = self.weights[pred != self.Y].sum() #total amount incorrect\n",
    "\n",
    "            alpha = np.log((1-total_error)/total_error) /2 \n",
    "            new_weights = self.weights* np.exp(-alpha*self.Y*pred)\n",
    "            self.weights = new_weights/ sum(new_weights)\n",
    "\n",
    "            self.all_classifiers.append(clf) \n",
    "            self.alphas.append(alpha)\n",
    "            \n",
    "        return self\n",
    "\n",
    "    def predict(self, X):\n",
    "        X = pd.DataFrame(X)\n",
    "        predictions = []\n",
    "        for idx in range(len(self.all_classifiers)):\n",
    "            clf = self.all_classifiers[idx]\n",
    "            alpha = self.alphas[idx]\n",
    "            pred = clf.predict(X)\n",
    "\n",
    "            predictions.append(alpha * pred)\n",
    "        return np.sign(np.sum(predictions, axis = 0))\n",
    "        "
   ]
  },
  {
   "cell_type": "code",
   "execution_count": 664,
   "metadata": {},
   "outputs": [],
   "source": [
    "from sklearn.model_selection import train_test_split\n",
    "x_train, x_test, y_train, y_test = train_test_split(X, y, test_size= 0.2)"
   ]
  },
  {
   "cell_type": "code",
   "execution_count": 665,
   "metadata": {},
   "outputs": [
    {
     "data": {
      "text/plain": [
       "0.8533333333333334"
      ]
     },
     "execution_count": 665,
     "metadata": {},
     "output_type": "execute_result"
    }
   ],
   "source": [
    "from sklearn.ensemble import AdaBoostClassifier\n",
    "from sklearn.ensemble import DecisionTreeClassifier\n",
    "from sklearn.metrics import accuracy_score\n",
    "from sklearn.svm import LinearSVC, SVC\n",
    "# clf = Adaboost(DecisionTreeClassifier(max_depth= 1, max_leaf_nodes= 2), 20)\n",
    "clf = CustomAdaBoost(DecisionTreeClassifier, 20, params = {'max_depth': 1})\n",
    "\n",
    "clf.fit(x_train, y_train)\n",
    "accuracy_score(y_test, clf.predict(x_test))"
   ]
  },
  {
   "cell_type": "code",
   "execution_count": null,
   "metadata": {},
   "outputs": [],
   "source": [
    "ada =AdaBoostClassifier(n_estimators=200, learning_rate= 0.1)\n",
    "ada.fit(x_train, y_train)\n",
    "accuracy_score(y_test, ada.predict(x_test))"
   ]
  },
  {
   "cell_type": "code",
   "execution_count": 674,
   "metadata": {},
   "outputs": [
    {
     "data": {
      "text/plain": [
       "0.5566666666666666"
      ]
     },
     "execution_count": 674,
     "metadata": {},
     "output_type": "execute_result"
    }
   ],
   "source": [
    "clf = CustomAdaBoost(LinearSVC, 5)  #Doesn't change with any number\n",
    "\n",
    "clf.fit(x_train, y_train)\n",
    "accuracy_score(y_test, clf.predict(x_test))"
   ]
  },
  {
   "cell_type": "code",
   "execution_count": 261,
   "metadata": {},
   "outputs": [
    {
     "data": {
      "text/plain": [
       "0.88"
      ]
     },
     "execution_count": 261,
     "metadata": {},
     "output_type": "execute_result"
    }
   ],
   "source": []
  },
  {
   "cell_type": "markdown",
   "metadata": {},
   "source": [
    "## 3. Boosting Trees from Scratch (40 points)\n",
    "* Use the scikit-learn's DecisionTreeRegressor (again :) with `max_depth = 1` (stumps)  to write a L2Boost model which minimize the L2 square loss iteration by iteration.\n",
    "Reminder: in each step, build a decision tree to minimize the error between the true label and the accumulated (sum) of the previous step predictions.\n",
    "![alt text](https://explained.ai/gradient-boosting/images/latex-321A7951E78381FB73D2A6874916134D.svg)\n",
    "* Use the Boston dataset to plot the MSE as a function of the number of trees for a logspace of `n_trees` up to 1,000. What is the optimal value of `n_trees`? of learning rate?\n",
    "* Compare the performance with a deep DecisionTreeRegressor (find the optimal `max_depth`).  Who wins?\n",
    "* Add an early-stopping mechanisim to the GBTL2 model to use a validation set to detect over-fit."
   ]
  },
  {
   "cell_type": "code",
   "execution_count": null,
   "metadata": {},
   "outputs": [],
   "source": []
  }
 ],
 "metadata": {
  "kernelspec": {
   "display_name": "Python 3",
   "language": "python",
   "name": "python3"
  },
  "language_info": {
   "codemirror_mode": {
    "name": "ipython",
    "version": 3
   },
   "file_extension": ".py",
   "mimetype": "text/x-python",
   "name": "python",
   "nbconvert_exporter": "python",
   "pygments_lexer": "ipython3",
   "version": "3.7.10"
  }
 },
 "nbformat": 4,
 "nbformat_minor": 2
}
