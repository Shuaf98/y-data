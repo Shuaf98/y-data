{
 "cells": [
  {
   "cell_type": "markdown",
   "metadata": {
    "colab_type": "text",
    "id": "Cg047ujRBmtU"
   },
   "source": [
    "# Decision Trees Exercise\n",
    "In this exercise you will show that ID3 is sub-optimal. Implement a simple version of Decision Tree, and will then apply a Decision Tree classsifier on the MNIST hand written digits dataset that we already saw.\n"
   ]
  },
  {
   "cell_type": "markdown",
   "metadata": {
    "colab_type": "text",
    "id": "osXAmT5y4iM8"
   },
   "source": [
    "## Suboptimality of ID3\n",
    "Consider the following training set, where $\\mathcal{X} = \\{0, 1\\}^3$ and $\\mathcal{Y} =\\{0, 1\\}$:\n",
    "\n",
    "$$\n",
    "\\begin{aligned}\n",
    "((1, 1, 1), 1)\\\\\n",
    "((1, 0, 0), 1)\\\\\n",
    "((1, 1, 0), 0)\\\\\n",
    "((0, 0, 1), 0)\n",
    "\\end{aligned}\n",
    "$$\n",
    "\n",
    "Suppose we wish to use this training set in order to build a decision tree of depth 2 (i.e. for each\n",
    "input we are allowed to ask two questions of the form \"$x_i = 0$?\" before deciding on the label).\n",
    "\n",
    "1. Suppose we run the ID3 algorithm up to depth 2 (namely, we pick the root node and its\n",
    "children according to the algorithm, but instead of keeping on with the recursion, we stop\n",
    "and pick leaves according to the majority label in each subtree, once we reach depth 2). \n",
    "Assume that the subroutine used to measure the quality of each feature is based on the information gain, and that if two features get the same score, one of them is picked arbitrarily. \n",
    "Show that the training error of the resulting decision tree is at least 1/4.\n",
    "2. Find a decision tree of depth 2, which attains zero training error.\n"
   ]
  },
  {
   "cell_type": "markdown",
   "metadata": {
    "colab_type": "text",
    "id": "xC7Anlwu50XD"
   },
   "source": [
    "#### Answer\n",
    "Put your answer here..."
   ]
  },
  {
   "cell_type": "markdown",
   "metadata": {
    "colab_type": "text",
    "id": "tLXpoHg64HlD"
   },
   "source": [
    "## Implementing Decision Tree From Scratch\n",
    "In this exercise you will need to implement a simple version of Decision Tree from scratch. Your decision tree will handle **continuous input and output** (this should actually work also for binary input attributes).\n",
    "\n",
    "* Compelete the skeleton class below\n",
    "  - `X` is a matrix of data values (rows are samples, columns are attributes)\n",
    "  - `y` is a vector of corresponding target values\n",
    "  - `min_leaf` is the minimal number of samples in each leaf node\n",
    "  \n",
    "* For splitting criterion, use either **\"Train Squared Error Minimization (Reduction in Variance)\"** or **\"Train Absolute Error Minimization\"** (choose one). Whatever you choose, make sure you implement the splitting point decision efficiently (in $O(nlgn)$ time).\n",
    "\n",
    "* The `predict` function will use mean of the target values in the leaf node matching each row of the given `X`. The result is a vector of predictions matching the number of rows in `X`.\n",
    "\n",
    "* To check your decision tree implementation, use the boston dataset (`from sklearn.datasets import load_boston`) split the data set into train and test using (`from sklearn.model_selection import train_test_split`)\n",
    "\n",
    "  - Use the following to estimate what are the best hyper parameters to use for your model\n",
    "```\n",
    "    for min_leaf in [1,5,10,100]:\n",
    "      dt = DecisionTree(X, y, n, sz, min_leaf)\n",
    "      mse = # mean square error over test set\n",
    "      print(\"min_leaf:{0} --- oob mse: {1}\".format(min_leaf, mse))\n",
    "```\n",
    "  \n",
    "  - Using your chosen hyperparameters as a final model, plot the predictions vs. true values of all the samples in the training set . Use something like:\n",
    "  ```\n",
    "  y_hat = dt.predict(X_train)  # forest is the chosen model\n",
    "  plt.scatter(y_hat, y_test)\n",
    "  ```"
   ]
  },
  {
   "cell_type": "code",
   "execution_count": 39,
   "metadata": {},
   "outputs": [],
   "source": [
    "import pandas as pd\n",
    "import numpy as np\n",
    "from sklearn.datasets import load_boston;\n"
   ]
  },
  {
   "cell_type": "code",
   "execution_count": 40,
   "metadata": {},
   "outputs": [
    {
     "name": "stderr",
     "output_type": "stream",
     "text": [
      "C:\\Users\\sfrie\\anaconda3\\envs\\py4dp\\lib\\site-packages\\sklearn\\utils\\deprecation.py:87: FutureWarning: Function load_boston is deprecated; `load_boston` is deprecated in 1.0 and will be removed in 1.2.\n",
      "\n",
      "    The Boston housing prices dataset has an ethical problem. You can refer to\n",
      "    the documentation of this function for further details.\n",
      "\n",
      "    The scikit-learn maintainers therefore strongly discourage the use of this\n",
      "    dataset unless the purpose of the code is to study and educate about\n",
      "    ethical issues in data science and machine learning.\n",
      "\n",
      "    In this case special case, you can fetch the dataset from the original\n",
      "    source::\n",
      "\n",
      "        import pandas as pd\n",
      "        import numpy as np\n",
      "\n",
      "\n",
      "        data_url = \"http://lib.stat.cmu.edu/datasets/boston\"\n",
      "        raw_df = pd.read_csv(data_url, sep=\"\\s+\", skiprows=22, header=None)\n",
      "        data = np.hstack([raw_df.values[::2, :], raw_df.values[1::2, :2]])\n",
      "        target = raw_df.values[1::2, 2]\n",
      "\n",
      "    Alternative datasets include the California housing dataset (i.e.\n",
      "    func:`~sklearn.datasets.fetch_california_housing`) and the Ames housing\n",
      "    dataset. You can load the datasets as follows:\n",
      "\n",
      "        from sklearn.datasets import fetch_california_housing\n",
      "        housing = fetch_california_housing()\n",
      "\n",
      "    for the California housing dataset and:\n",
      "\n",
      "        from sklearn.datasets import fetch_openml\n",
      "        housing = fetch_openml(name=\"house_prices\", as_frame=True)\n",
      "\n",
      "    for the Ames housing dataset.\n",
      "    \n",
      "  warnings.warn(msg, category=FutureWarning)\n"
     ]
    },
    {
     "data": {
      "text/html": [
       "<div>\n",
       "<style scoped>\n",
       "    .dataframe tbody tr th:only-of-type {\n",
       "        vertical-align: middle;\n",
       "    }\n",
       "\n",
       "    .dataframe tbody tr th {\n",
       "        vertical-align: top;\n",
       "    }\n",
       "\n",
       "    .dataframe thead th {\n",
       "        text-align: right;\n",
       "    }\n",
       "</style>\n",
       "<table border=\"1\" class=\"dataframe\">\n",
       "  <thead>\n",
       "    <tr style=\"text-align: right;\">\n",
       "      <th></th>\n",
       "      <th>CRIM</th>\n",
       "      <th>ZN</th>\n",
       "      <th>INDUS</th>\n",
       "      <th>CHAS</th>\n",
       "      <th>NOX</th>\n",
       "      <th>RM</th>\n",
       "      <th>AGE</th>\n",
       "      <th>DIS</th>\n",
       "      <th>RAD</th>\n",
       "      <th>TAX</th>\n",
       "      <th>PTRATIO</th>\n",
       "      <th>B</th>\n",
       "      <th>LSTAT</th>\n",
       "    </tr>\n",
       "  </thead>\n",
       "  <tbody>\n",
       "    <tr>\n",
       "      <th>0</th>\n",
       "      <td>0.00632</td>\n",
       "      <td>18.0</td>\n",
       "      <td>2.31</td>\n",
       "      <td>0.0</td>\n",
       "      <td>0.538</td>\n",
       "      <td>6.575</td>\n",
       "      <td>65.2</td>\n",
       "      <td>4.0900</td>\n",
       "      <td>1.0</td>\n",
       "      <td>296.0</td>\n",
       "      <td>15.3</td>\n",
       "      <td>396.90</td>\n",
       "      <td>4.98</td>\n",
       "    </tr>\n",
       "    <tr>\n",
       "      <th>1</th>\n",
       "      <td>0.02731</td>\n",
       "      <td>0.0</td>\n",
       "      <td>7.07</td>\n",
       "      <td>0.0</td>\n",
       "      <td>0.469</td>\n",
       "      <td>6.421</td>\n",
       "      <td>78.9</td>\n",
       "      <td>4.9671</td>\n",
       "      <td>2.0</td>\n",
       "      <td>242.0</td>\n",
       "      <td>17.8</td>\n",
       "      <td>396.90</td>\n",
       "      <td>9.14</td>\n",
       "    </tr>\n",
       "    <tr>\n",
       "      <th>2</th>\n",
       "      <td>0.02729</td>\n",
       "      <td>0.0</td>\n",
       "      <td>7.07</td>\n",
       "      <td>0.0</td>\n",
       "      <td>0.469</td>\n",
       "      <td>7.185</td>\n",
       "      <td>61.1</td>\n",
       "      <td>4.9671</td>\n",
       "      <td>2.0</td>\n",
       "      <td>242.0</td>\n",
       "      <td>17.8</td>\n",
       "      <td>392.83</td>\n",
       "      <td>4.03</td>\n",
       "    </tr>\n",
       "    <tr>\n",
       "      <th>3</th>\n",
       "      <td>0.03237</td>\n",
       "      <td>0.0</td>\n",
       "      <td>2.18</td>\n",
       "      <td>0.0</td>\n",
       "      <td>0.458</td>\n",
       "      <td>6.998</td>\n",
       "      <td>45.8</td>\n",
       "      <td>6.0622</td>\n",
       "      <td>3.0</td>\n",
       "      <td>222.0</td>\n",
       "      <td>18.7</td>\n",
       "      <td>394.63</td>\n",
       "      <td>2.94</td>\n",
       "    </tr>\n",
       "    <tr>\n",
       "      <th>4</th>\n",
       "      <td>0.06905</td>\n",
       "      <td>0.0</td>\n",
       "      <td>2.18</td>\n",
       "      <td>0.0</td>\n",
       "      <td>0.458</td>\n",
       "      <td>7.147</td>\n",
       "      <td>54.2</td>\n",
       "      <td>6.0622</td>\n",
       "      <td>3.0</td>\n",
       "      <td>222.0</td>\n",
       "      <td>18.7</td>\n",
       "      <td>396.90</td>\n",
       "      <td>5.33</td>\n",
       "    </tr>\n",
       "  </tbody>\n",
       "</table>\n",
       "</div>"
      ],
      "text/plain": [
       "      CRIM    ZN  INDUS  CHAS    NOX     RM   AGE     DIS  RAD    TAX  \\\n",
       "0  0.00632  18.0   2.31   0.0  0.538  6.575  65.2  4.0900  1.0  296.0   \n",
       "1  0.02731   0.0   7.07   0.0  0.469  6.421  78.9  4.9671  2.0  242.0   \n",
       "2  0.02729   0.0   7.07   0.0  0.469  7.185  61.1  4.9671  2.0  242.0   \n",
       "3  0.03237   0.0   2.18   0.0  0.458  6.998  45.8  6.0622  3.0  222.0   \n",
       "4  0.06905   0.0   2.18   0.0  0.458  7.147  54.2  6.0622  3.0  222.0   \n",
       "\n",
       "   PTRATIO       B  LSTAT  \n",
       "0     15.3  396.90   4.98  \n",
       "1     17.8  396.90   9.14  \n",
       "2     17.8  392.83   4.03  \n",
       "3     18.7  394.63   2.94  \n",
       "4     18.7  396.90   5.33  "
      ]
     },
     "execution_count": 40,
     "metadata": {},
     "output_type": "execute_result"
    }
   ],
   "source": [
    "X, y = load_boston(return_X_y = True);\n",
    "data = load_boston();\n",
    "df = pd.DataFrame(data.data, columns = data.feature_names);\n",
    "df.head()"
   ]
  },
  {
   "cell_type": "code",
   "execution_count": 41,
   "metadata": {},
   "outputs": [],
   "source": [
    "class Make_Node():\n",
    "    def __init__(self, feature_idx = None, threshold = None, left = None, right = None, variance = None, value = None):\n",
    "        self.feature_idx = feature_idx\n",
    "        self.threshold = threshold\n",
    "        self.left = left\n",
    "        self.right = right\n",
    "        self.variance = variance\n",
    "        self.value = value #For leaf node\n",
    "\n",
    "class RegressionTree():\n",
    "    def __init__(self, max_depth, min_split):\n",
    "        self.root = None\n",
    "        self.min_split = min_split\n",
    "        self.max_depth = max_depth\n",
    "\n",
    "\n",
    "    def split(self, df, feature_idx, threshold):\n",
    "        left_child = np.array([sample for sample in df if sample[feature_idx] <= threshold])\n",
    "        right_child = np.array([sample for sample in df if sample[feature_idx] > threshold])\n",
    "        return left_child, right_child\n",
    "\n",
    "    def train_squared_error(self, y, y_left, y_right):\n",
    "\n",
    "        weight_left = len(y_left) / len(y)\n",
    "        weight_right = len(y_right)/ len(y)\n",
    "        variance = weight_left * np.var(y_left) + weight_right * np.var(y_right)\n",
    "\n",
    "        #code says to subtract the parents error by the error fo the children. Not sure why we aren't just returning the variance of the children.\n",
    "        return variance \n",
    "\n",
    "\n",
    "\n",
    "    def get_leaf(self, y):\n",
    "        return np.mean(y)\n",
    "\n",
    "    def best_feature(self, df, n_samples, n_features):\n",
    "        best_split_dict = {}\n",
    "        max_reduction = np.inf #Change variable to max_trained_squared_error?\n",
    "\n",
    "        for feat_idx in range(n_features):\n",
    "            feat_vals = df[:, feat_idx]\n",
    "            threshold_options = np.unique(feat_vals)\n",
    "\n",
    "            for threshold in threshold_options:\n",
    "                left_child, right_child = self.split(df, feat_idx, threshold)\n",
    "            \n",
    "                if len(left_child) > 0 and len(right_child) > 0:\n",
    "                    y, left_y, right_y = df[:, -1], left_child[:, -1], right_child[:, -1]\n",
    "\n",
    "                    trained_squared_error = self.train_squared_error(y, left_y, right_y)\n",
    "\n",
    "                    if trained_squared_error < max_reduction: #We want minimum variance. (If the trained_error function were to subtract frm the variance of the parent, flip to greater than).\n",
    "                            best_split_dict[\"feature_idx\"] = feat_idx\n",
    "                            best_split_dict[\"threshold\"] = threshold\n",
    "                            best_split_dict[\"left_child\"] = left_child\n",
    "                            best_split_dict[\"right_child\"] = right_child\n",
    "                            best_split_dict[\"variance\"] = trained_squared_error\n",
    "                            max_reduction = trained_squared_error\n",
    "        \n",
    "        return best_split_dict\n",
    "\n",
    "\n",
    "    def fit(self, X, y):\n",
    "        df = np.concatenate((X, y), axis =1)\n",
    "        self.root = self.build_tree(df)\n",
    "\n",
    "\n",
    "\n",
    "    def build_tree(self, df, level = 0):\n",
    "        X, y = df[:, :-1], df[:,-1]\n",
    "        n_samples, n_features = np.shape(X)\n",
    "        best_split = {} #hold all features of the split in  dict.\n",
    "        if n_samples>= self.min_split and level <=self.max_depth:    #a1) Find the best feature for our tree to split on, if we haven't reached past our required tree size.\n",
    "\n",
    "            best_split = self.best_feature(df, n_samples, n_features)\n",
    "\n",
    "            if best_split['variance'] > 0:                          #a2) Split the tree based off this best feature into left and right subtrees\n",
    "                left_tree = self.build_tree(best_split['left_child'], level +1)\n",
    "                right_tree = self.build_tree(best_split['right_child'], level+1)\n",
    "\n",
    "                return Make_Node(best_split['feature_idx'], best_split['threshold'], left_tree, right_tree, best_split['variance']) #a3) Make current split into Parent Node\n",
    "        \n",
    "        leaf = self.get_leaf(y)                                      #b1) if tree size has already been reached, (or reduction = 0), then create and return a Leaf Node.\n",
    "\n",
    "        return Make_Node(value = leaf)\n",
    "\n",
    "\n",
    "  \n",
    "\n",
    "    def print_tree(self, tree=None, indent=\" \", columns = None, level = 0, child = 'root' ):\n",
    "            ''' function to print the tree '''\n",
    "            self.columns = columns\n",
    "            level+= 1\n",
    "\n",
    "            if not tree:\n",
    "                tree = self.root\n",
    "\n",
    "            if tree.value is not None: #If there is value, this means it is a leaf node: return the regression value in this leaf node.\n",
    "                print(' '*level*3, child, ': ',np.round(tree.value, 4))\n",
    "\n",
    "            else: #Perform Pre-order traversal-- Root, Left, Right, (leaf).\n",
    "                if self.columns is None: #If no column names were given, just print by column idx\n",
    "                    print(f'{child}: X_{str(tree.feature_idx)}, \"<=\", {tree.threshold}, \"?\", {tree.variance}')\n",
    "                    \n",
    "                else:\n",
    "                    print(' '*level*3, f'{child}: X_{self.columns[tree.feature_idx]}, \"<=\", {tree.threshold}, \"?\", {np.round(tree.variance, 4)}')\n",
    "\n",
    "                    # print(indent, \" |%sleft: \" % (indent))\n",
    "                    self.print_tree(tree.left, indent + indent, self.columns, level, child = 'left')\n",
    "                    # print(indent, \" |%sright :\" % (indent), end)\n",
    "                    self.print_tree(tree.right, indent + indent, self.columns, level, child = 'right')\n",
    "\n",
    "\n",
    "    def make_prediction(self, x, root):\n",
    "\n",
    "        if root.value:\n",
    "            return root.value\n",
    "        \n",
    "        if x[root.feature_idx] < root.threshold:\n",
    "            return self.make_prediction(x, root.left)\n",
    "\n",
    "        else:\n",
    "            return self.make_prediction(x, root.right)\n",
    "\n",
    "\n",
    "\n",
    "    def predict(self, X):\n",
    "        ''' function to predict a single data point '''\n",
    "        \n",
    "        predictions = [self.make_prediction(x, self.root) for x in X]\n",
    "        return predictions\n"
   ]
  },
  {
   "cell_type": "code",
   "execution_count": 42,
   "metadata": {},
   "outputs": [],
   "source": [
    "X = df.iloc[:, :-1].values\n",
    "Y = df.iloc[:, -1].values.reshape(-1,1)\n",
    "from sklearn.model_selection import train_test_split\n",
    "X_train, X_test, Y_train, Y_test = train_test_split(X, Y, test_size=.2, random_state=41)"
   ]
  },
  {
   "cell_type": "code",
   "execution_count": 43,
   "metadata": {},
   "outputs": [
    {
     "name": "stdout",
     "output_type": "stream",
     "text": [
      "    root: X_INDUS, \"<=\", 7.38, \"?\", 32.2873\n",
      "       left: X_RM, \"<=\", 6.23, \"?\", 8.5301\n",
      "          left: X_AGE, \"<=\", 89.8, \"?\", 7.7302\n",
      "             left: X_AGE, \"<=\", 69.6, \"?\", 5.0009\n",
      "                left: X_AGE, \"<=\", 29.2, \"?\", 3.4346\n",
      "                   left: X_CRIM, \"<=\", 0.05789, \"?\", 0.3838\n",
      "                      left: X_NOX, \"<=\", 0.392, \"?\", 0.0369\n",
      "                         left :  9.25\n",
      "                         right: X_NOX, \"<=\", 0.4379, \"?\", 0.0103\n",
      "                            left: X_CRIM, \"<=\", 0.03466, \"?\", 0.0004\n",
      "                               left :  7.83\n",
      "                               right :  8.075\n",
      "                            right :  8.43\n",
      "                      right: X_CRIM, \"<=\", 0.10659, \"?\", 0.0561\n",
      "                         left :  5.57\n",
      "                         right :  7.15\n",
      "                   right: X_CRIM, \"<=\", 0.08447, \"?\", 3.1561\n",
      "                      left: X_B, \"<=\", 364.61, \"?\", 1.8736\n",
      "                         left :  12.8\n",
      "                         right: X_RM, \"<=\", 6.02, \"?\", 1.0295\n",
      "                            left: X_RAD, \"<=\", 3.0, \"?\", 0.547\n",
      "                               left :  11.695\n",
      "                               right: X_INDUS, \"<=\", 5.19, \"?\", 0.1479\n",
      "                                  left: X_DIS, \"<=\", 5.2311, \"?\", 0.0668\n",
      "                                     left: X_AGE, \"<=\", 47.2, \"?\", 0.0273\n",
      "                                        left :  9.955\n",
      "                                        right :  9.465\n",
      "                                     right :  10.4\n",
      "                                  right :  8.77\n",
      "                            right: X_ZN, \"<=\", 21.0, \"?\", 0.2282\n",
      "                               left: X_PTRATIO, \"<=\", 17.8, \"?\", 0.0381\n",
      "                                  left: X_AGE, \"<=\", 32.2, \"?\", 0.0001\n",
      "                                     left :  9.09\n",
      "                                     right :  9.44\n",
      "                                  right: X_RM, \"<=\", 6.037, \"?\", 0.0008\n",
      "                                     left :  8.01\n",
      "                                     right :  8.475\n",
      "                               right: X_CRIM, \"<=\", 0.03871, \"?\", 0.019\n",
      "                                  left: X_CRIM, \"<=\", 0.03551, \"?\", 0.0011\n",
      "                                     left :  7.47\n",
      "                                     right :  7.14\n",
      "                                  right :  6.57\n",
      "                      right: X_CRIM, \"<=\", 0.09065, \"?\", 2.6443\n",
      "                         left :  13.55\n",
      "                         right: X_RM, \"<=\", 5.856, \"?\", 2.2758\n",
      "                            left: X_AGE, \"<=\", 33.3, \"?\", 1.2443\n",
      "                               left :  14.15\n",
      "                               right: X_PTRATIO, \"<=\", 17.9, \"?\", 0.363\n",
      "                                  left :  10.33\n",
      "                                  right: X_CRIM, \"<=\", 0.09744, \"?\", 0.0013\n",
      "                                     left :  11.41\n",
      "                                     right :  13.045\n",
      "                            right: X_AGE, \"<=\", 49.9, \"?\", 1.4805\n",
      "                               left: X_RM, \"<=\", 6.069, \"?\", 1.4171\n",
      "                                  left: X_CRIM, \"<=\", 0.17505, \"?\", 0.1916\n",
      "                                     left: X_ZN, \"<=\", 0.0, \"?\", 0.0652\n",
      "                                        left :  9.84\n",
      "                                        right :  9.005\n",
      "                                     right :  7.7\n",
      "                                  right :  10.975\n",
      "                               right: X_CRIM, \"<=\", 0.10612, \"?\", 0.075\n",
      "                                  left :  12.4\n",
      "                                  right: X_NOX, \"<=\", 0.504, \"?\", 0.016\n",
      "                                     left :  11.495\n",
      "                                     right :  10.88\n",
      "                right: X_B, \"<=\", 376.14, \"?\", 5.6445\n",
      "                   left :  11.325\n",
      "                   right: X_NOX, \"<=\", 0.448, \"?\", 0.9598\n",
      "                      left :  18.63\n",
      "                      right: X_CRIM, \"<=\", 0.13914, \"?\", 0.084\n",
      "                         left :  14.335\n",
      "                         right :  11.74\n",
      "             right :  26.135\n",
      "          right: X_CRIM, \"<=\", 0.61154, \"?\", 3.7945\n",
      "             left: X_RM, \"<=\", 6.726, \"?\", 3.0943\n",
      "                left: X_AGE, \"<=\", 40.1, \"?\", 1.8813\n",
      "                   left: X_ZN, \"<=\", 55.0, \"?\", 1.5195\n",
      "                      left: X_CRIM, \"<=\", 0.09266, \"?\", 1.1526\n",
      "                         left: X_PTRATIO, \"<=\", 16.6, \"?\", 0.4381\n",
      "                            left: X_RM, \"<=\", 6.495, \"?\", 0.0323\n",
      "                               left :  8.45\n",
      "                               right :  9.51\n",
      "                            right: X_RM, \"<=\", 6.482, \"?\", 0.0585\n",
      "                               left: X_CRIM, \"<=\", 0.03738, \"?\", 0.0029\n",
      "                                  left :  6.735\n",
      "                                  right :  7.265\n",
      "                               right :  5.28\n",
      "                         right: X_B, \"<=\", 393.68, \"?\", 0.1819\n",
      "                            left: X_CRIM, \"<=\", 0.19186, \"?\", 0.0566\n",
      "                               left: X_CRIM, \"<=\", 0.12579, \"?\", 0.002\n",
      "                                  left :  4.56\n",
      "                                  right :  5.135\n",
      "                               right :  3.76\n",
      "                            right: X_CRIM, \"<=\", 0.1403, \"?\", 0.0389\n",
      "                               left :  5.9\n",
      "                               right: X_CRIM, \"<=\", 0.19073, \"?\", 0.0002\n",
      "                                  left :  6.575\n",
      "                                  right :  6.135\n",
      "                      right: X_INDUS, \"<=\", 2.01, \"?\", 0.0505\n",
      "                         left: X_CRIM, \"<=\", 0.02055, \"?\", 0.0081\n",
      "                            left :  5.88\n",
      "                            right :  5.49\n",
      "                         right: X_CRIM, \"<=\", 0.02763, \"?\", 0.0113\n",
      "                            left :  4.35\n",
      "                            right: X_CRIM, \"<=\", 0.03615, \"?\", 0.0002\n",
      "                               left :  4.685\n",
      "                               right :  4.97\n",
      "                   right: X_TAX, \"<=\", 222.0, \"?\", 1.1487\n",
      "                      left :  5.445\n",
      "                      right: X_TAX, \"<=\", 300.0, \"?\", 0.8586\n",
      "                         left: X_CRIM, \"<=\", 0.05059, \"?\", 0.4243\n",
      "                            left: X_ZN, \"<=\", 0.0, \"?\", 0.1898\n",
      "                               left: X_INDUS, \"<=\", 3.41, \"?\", 0.0753\n",
      "                                  left :  8.505\n",
      "                                  right :  9.38\n",
      "                               right :  7.41\n",
      "                            right: X_AGE, \"<=\", 52.3, \"?\", 0.0342\n",
      "                               left :  7.285\n",
      "                               right: X_CRIM, \"<=\", 0.05735, \"?\", 0.0097\n",
      "                                  left :  6.41\n",
      "                                  right :  6.8\n",
      "                         right: X_RM, \"<=\", 6.631, \"?\", 0.1137\n",
      "                            left: X_CRIM, \"<=\", 0.02498, \"?\", 0.0002\n",
      "                               left :  8.65\n",
      "                               right: X_CRIM, \"<=\", 0.03537, \"?\", 0.0001\n",
      "                                  left :  9.5\n",
      "                                  right :  9.53\n",
      "                            right :  8.05\n",
      "                right: X_AGE, \"<=\", 34.2, \"?\", 2.7132\n",
      "                   left: X_CRIM, \"<=\", 0.00906, \"?\", 0.662\n",
      "                      left :  7.85\n",
      "                      right: X_RM, \"<=\", 6.982, \"?\", 0.4773\n",
      "                         left: X_PTRATIO, \"<=\", 19.0, \"?\", 0.2209\n",
      "                            left: X_CHAS, \"<=\", 0.0, \"?\", 0.074\n",
      "                               left: X_CRIM, \"<=\", 0.0315, \"?\", 0.0231\n",
      "                                  left :  4.585\n",
      "                                  right: X_CRIM, \"<=\", 0.09068, \"?\", 0.0046\n",
      "                                     left :  5.195\n",
      "                                     right :  4.85\n",
      "                               right :  3.845\n",
      "                            right :  3.43\n",
      "                         right: X_DIS, \"<=\", 6.4798, \"?\", 0.2596\n",
      "                            left: X_RM, \"<=\", 7.024, \"?\", 0.1263\n",
      "                               left :  1.98\n",
      "                               right: X_INDUS, \"<=\", 3.75, \"?\", 0.0761\n",
      "                                  left: X_AGE, \"<=\", 32.0, \"?\", 0.045\n",
      "                                     left: X_NOX, \"<=\", 0.415, \"?\", 0.0015\n",
      "                                        left :  3.135\n",
      "                                        right: X_CRIM, \"<=\", 0.01381, \"?\", 0.0\n",
      "                                           left :  2.97\n",
      "                                           right :  2.875\n",
      "                                     right :  3.46\n",
      "                                  right :  3.74\n",
      "                            right: X_CRIM, \"<=\", 0.01778, \"?\", 0.0526\n",
      "                               left :  4.63\n",
      "                               right :  3.81\n",
      "                   right: X_RM, \"<=\", 7.765, \"?\", 2.9048\n",
      "                      left: X_AGE, \"<=\", 54.2, \"?\", 2.8644\n",
      "                         left: X_TAX, \"<=\", 284.0, \"?\", 1.6386\n",
      "                            left: X_PTRATIO, \"<=\", 17.6, \"?\", 0.7195\n",
      "                               left: X_CRIM, \"<=\", 0.01709, \"?\", 0.2061\n",
      "                                  left: X_CRIM, \"<=\", 0.01301, \"?\", 0.0504\n",
      "                                     left :  5.49\n",
      "                                     right :  4.225\n",
      "                                  right: X_CRIM, \"<=\", 0.09604, \"?\", 0.0001\n",
      "                                     left :  2.995\n",
      "                                     right :  3.16\n",
      "                               right: X_ZN, \"<=\", 0.0, \"?\", 0.0204\n",
      "                                  left :  5.33\n",
      "                                  right :  6.755\n",
      "                            right: X_B, \"<=\", 354.31, \"?\", 0.1919\n",
      "                               left :  8.61\n",
      "                               right: X_CRIM, \"<=\", 0.07875, \"?\", 0.0934\n",
      "                                  left: X_DIS, \"<=\", 7.309, \"?\", 0.0045\n",
      "                                     left :  6.65\n",
      "                                     right :  5.98\n",
      "                                  right :  5.39\n",
      "                         right: X_ZN, \"<=\", 0.0, \"?\", 1.6158\n",
      "                            left: X_AGE, \"<=\", 61.1, \"?\", 0.6145\n",
      "                               left :  4.535\n",
      "                               right: X_AGE, \"<=\", 83.3, \"?\", 0.3252\n",
      "                                  left: X_DIS, \"<=\", 2.9153, \"?\", 0.0879\n",
      "                                     left :  7.24\n",
      "                                     right: X_CRIM, \"<=\", 0.05302, \"?\", 0.0048\n",
      "                                        left :  5.7\n",
      "                                        right :  6.275\n",
      "                                  right :  5.16\n",
      "                            right: X_INDUS, \"<=\", 3.97, \"?\", 0.7833\n",
      "                               left: X_CRIM, \"<=\", 0.53412, \"?\", 0.4022\n",
      "                                  left: X_CRIM, \"<=\", 0.04932, \"?\", 0.1118\n",
      "                                     left :  7.79\n",
      "                                     right :  6.865\n",
      "                                  right :  8.845\n",
      "                               right :  11.38\n",
      "                      right: X_NOX, \"<=\", 0.507, \"?\", 0.5393\n",
      "                         left: X_CRIM, \"<=\", 0.52693, \"?\", 0.1846\n",
      "                            left: X_DIS, \"<=\", 3.1992, \"?\", 0.0985\n",
      "                               left: X_CRIM, \"<=\", 0.31533, \"?\", 0.016\n",
      "                                  left :  4.295\n",
      "                                  right :  4.63\n",
      "                               right: X_CRIM, \"<=\", 0.33147, \"?\", 0.0448\n",
      "                                  left: X_CRIM, \"<=\", 0.08187, \"?\", 0.013\n",
      "                                     left :  3.665\n",
      "                                     right :  4.08\n",
      "                                  right :  3.13\n",
      "                            right :  2.47\n",
      "                         right: X_NOX, \"<=\", 0.575, \"?\", 0.104\n",
      "                            left :  7.44\n",
      "                            right :  5.515\n",
      "             right: X_B, \"<=\", 384.07, \"?\", 0.2904\n",
      "                left :  14.79\n",
      "                right :  10.59\n",
      "       right: X_RM, \"<=\", 5.631, \"?\", 34.2067\n",
      "          left: X_AGE, \"<=\", 87.9, \"?\", 44.9497\n",
      "             left: X_NOX, \"<=\", 0.584, \"?\", 4.2712\n",
      "                left: X_CRIM, \"<=\", 2.63548, \"?\", 0.1504\n",
      "                   left :  12.165\n",
      "                   right :  17.16\n",
      "                right :  7.12\n",
      "             right: X_CRIM, \"<=\", 15.0234, \"?\", 42.3454\n",
      "                left: X_DIS, \"<=\", 1.3325, \"?\", 33.1879\n",
      "                   left: X_CRIM, \"<=\", 3.32105, \"?\", 13.1128\n",
      "                      left :  26.82\n",
      "                      right :  7.695\n",
      "                   right: X_B, \"<=\", 131.42, \"?\", 11.3978\n",
      "                      left :  14.735\n",
      "                      right: X_RM, \"<=\", 5.186, \"?\", 6.189\n",
      "                         left: X_AGE, \"<=\", 98.0, \"?\", 1.8437\n",
      "                            left: X_CRIM, \"<=\", 2.77974, \"?\", 0.2243\n",
      "                               left: X_RM, \"<=\", 5.093, \"?\", 0.0194\n",
      "                                  left: X_CRIM, \"<=\", 2.36862, \"?\", 0.0037\n",
      "                                     left :  29.605\n",
      "                                     right :  29.29\n",
      "                                  right :  28.32\n",
      "                               right :  25.68\n",
      "                            right :  34.41\n",
      "                         right: X_ZN, \"<=\", 0.0, \"?\", 2.6589\n",
      "                            left: X_RAD, \"<=\", 2.0, \"?\", 1.4808\n",
      "                               left :  27.26\n",
      "                               right: X_NOX, \"<=\", 0.614, \"?\", 1.2154\n",
      "                                  left: X_CRIM, \"<=\", 0.43571, \"?\", 0.1305\n",
      "                                     left: X_CRIM, \"<=\", 0.37578, \"?\", 0.0\n",
      "                                        left :  23.975\n",
      "                                        right :  23.09\n",
      "                                     right :  24.91\n",
      "                                  right: X_AGE, \"<=\", 98.9, \"?\", 0.5272\n",
      "                                     left: X_CRIM, \"<=\", 8.15174, \"?\", 0.06\n",
      "                                        left :  21.15\n",
      "                                        right :  22.88\n",
      "                                     right :  24.08\n",
      "                            right :  29.93\n",
      "                right: X_NOX, \"<=\", 0.659, \"?\", 21.8481\n",
      "                   left :  21.71\n",
      "                   right: X_DIS, \"<=\", 1.6582, \"?\", 11.9704\n",
      "                      left: X_RM, \"<=\", 4.519, \"?\", 6.2959\n",
      "                         left: X_NOX, \"<=\", 0.693, \"?\", 0.1634\n",
      "                            left :  37.475\n",
      "                            right :  30.63\n",
      "                         right: X_NOX, \"<=\", 0.679, \"?\", 1.4451\n",
      "                            left :  26.64\n",
      "                            right: X_RM, \"<=\", 4.652, \"?\", 0.2834\n",
      "                               left :  28.28\n",
      "                               right: X_RM, \"<=\", 5.0, \"?\", 0.0081\n",
      "                                  left :  31.99\n",
      "                                  right :  30.7\n",
      "                      right :  19.77\n",
      "          right: X_NOX, \"<=\", 0.668, \"?\", 21.8383\n",
      "             left: X_RM, \"<=\", 6.495, \"?\", 16.5862\n",
      "                left: X_AGE, \"<=\", 53.6, \"?\", 13.6035\n",
      "                   left: X_NOX, \"<=\", 0.489, \"?\", 2.4391\n",
      "                      left: X_AGE, \"<=\", 7.8, \"?\", 1.4241\n",
      "                         left: X_RM, \"<=\", 6.065, \"?\", 0.0963\n",
      "                            left :  5.52\n",
      "                            right :  7.16\n",
      "                         right: X_CRIM, \"<=\", 0.04203, \"?\", 0.667\n",
      "                            left :  7.185\n",
      "                            right: X_AGE, \"<=\", 45.0, \"?\", 0.4364\n",
      "                               left: X_RM, \"<=\", 6.009, \"?\", 0.2796\n",
      "                                  left: X_TAX, \"<=\", 289.0, \"?\", 0.1037\n",
      "                                     left :  10.635\n",
      "                                     right :  9.49\n",
      "                                  right: X_CRIM, \"<=\", 0.09512, \"?\", 0.0172\n",
      "                                     left :  8.76\n",
      "                                     right :  9.425\n",
      "                               right :  10.62\n",
      "                      right: X_CRIM, \"<=\", 3.1636, \"?\", 0.6793\n",
      "                         left: X_CRIM, \"<=\", 0.09378, \"?\", 0.0815\n",
      "                            left :  15.71\n",
      "                            right: X_CRIM, \"<=\", 2.37857, \"?\", 0.0104\n",
      "                               left :  13.465\n",
      "                               right :  14.13\n",
      "                         right :  11.45\n",
      "                   right: X_RM, \"<=\", 6.004, \"?\", 13.3192\n",
      "                      left: X_AGE, \"<=\", 91.8, \"?\", 10.7433\n",
      "                         left: X_B, \"<=\", 232.6, \"?\", 9.0674\n",
      "                            left: X_CRIM, \"<=\", 1.38799, \"?\", 0.3553\n",
      "                               left :  27.71\n",
      "                               right :  16.42\n",
      "                            right: X_B, \"<=\", 390.94, \"?\", 5.1084\n",
      "                               left: X_NOX, \"<=\", 0.614, \"?\", 2.081\n",
      "                                  left: X_DIS, \"<=\", 2.4775, \"?\", 1.4037\n",
      "                                     left: X_INDUS, \"<=\", 10.01, \"?\", 0.0702\n",
      "                                        left :  15.565\n",
      "                                        right: X_AGE, \"<=\", 87.6, \"?\", 0.0048\n",
      "                                           left :  14.185\n",
      "                                           right :  14.81\n",
      "                                     right: X_PTRATIO, \"<=\", 20.2, \"?\", 0.5322\n",
      "                                        left: X_CRIM, \"<=\", 0.21719, \"?\", 0.1223\n",
      "                                           left :  16.565\n",
      "                                           right: X_INDUS, \"<=\", 9.9, \"?\", 0.0008\n",
      "                                              left :  18.33\n",
      "                                              right :  18.095\n",
      "                                        right :  14.74\n",
      "                                  right :  8.88\n",
      "                               right: X_B, \"<=\", 396.42, \"?\", 2.7226\n",
      "                                  left: X_B, \"<=\", 395.11, \"?\", 1.308\n",
      "                                     left: X_RM, \"<=\", 5.727, \"?\", 0.6167\n",
      "                                        left :  11.28\n",
      "                                        right: X_CRIM, \"<=\", 0.85204, \"?\", 0.0134\n",
      "                                           left: X_CRIM, \"<=\", 0.14476, \"?\", 0.0017\n",
      "                                              left :  13.56\n",
      "                                              right :  13.83\n",
      "                                           right :  11.64\n",
      "                                     right: X_CRIM, \"<=\", 0.25356, \"?\", 0.375\n",
      "                                        left :  11.5\n",
      "                                        right :  9.22\n",
      "                                  right: X_RM, \"<=\", 5.707, \"?\", 0.4709\n",
      "                                     left :  12.01\n",
      "                                     right: X_CRIM, \"<=\", 0.24522, \"?\", 0.0557\n",
      "                                        left :  15.89\n",
      "                                        right :  14.43\n",
      "                         right: X_CRIM, \"<=\", 4.42228, \"?\", 4.9674\n",
      "                            left: X_PTRATIO, \"<=\", 14.7, \"?\", 3.1441\n",
      "                               left :  12.03\n",
      "                               right: X_CRIM, \"<=\", 0.97617, \"?\", 1.8638\n",
      "                                  left: X_DIS, \"<=\", 1.6686, \"?\", 0.5598\n",
      "                                     left :  21.32\n",
      "                                     right: X_B, \"<=\", 394.95, \"?\", 0.3207\n",
      "                                        left: X_INDUS, \"<=\", 10.01, \"?\", 0.1191\n",
      "                                           left: X_NOX, \"<=\", 0.52, \"?\", 0.0013\n",
      "                                              left :  16.47\n",
      "                                              right :  16.255\n",
      "                                           right: X_CRIM, \"<=\", 0.10574, \"?\", 0.0188\n",
      "                                              left :  18.0\n",
      "                                              right: X_DIS, \"<=\", 1.9669, \"?\", 0.0107\n",
      "                                                 left :  17.045\n",
      "                                                 right :  17.29\n",
      "                                        right: X_CRIM, \"<=\", 0.11069, \"?\", 0.0171\n",
      "                                           left :  17.92\n",
      "                                           right :  18.5\n",
      "                                  right: X_AGE, \"<=\", 94.5, \"?\", 0.4974\n",
      "                                     left :  21.96\n",
      "                                     right :  19.115\n",
      "                            right :  10.11\n",
      "                      right: X_DIS, \"<=\", 1.7984, \"?\", 11.4621\n",
      "                         left: X_CRIM, \"<=\", 1.34284, \"?\", 0.1441\n",
      "                            left :  5.965\n",
      "                            right :  9.53\n",
      "                         right: X_AGE, \"<=\", 90.7, \"?\", 8.7141\n",
      "                            left: X_NOX, \"<=\", 0.573, \"?\", 3.3738\n",
      "                               left: X_NOX, \"<=\", 0.532, \"?\", 1.9143\n",
      "                                  left: X_RM, \"<=\", 6.232, \"?\", 0.5017\n",
      "                                     left: X_CHAS, \"<=\", 0.0, \"?\", 0.2971\n",
      "                                        left: X_DIS, \"<=\", 2.1224, \"?\", 0.1555\n",
      "                                           left :  14.09\n",
      "                                           right: X_B, \"<=\", 392.69, \"?\", 0.0869\n",
      "                                              left :  12.335\n",
      "                                              right: X_CRIM, \"<=\", 0.08829, \"?\", 0.0399\n",
      "                                                 left :  12.43\n",
      "                                                 right: X_RM, \"<=\", 6.137, \"?\", 0.0057\n",
      "                                                    left :  13.355\n",
      "                                                    right :  12.935\n",
      "                                        right :  14.66\n",
      "                                     right: X_NOX, \"<=\", 0.437, \"?\", 0.003\n",
      "                                        left :  11.97\n",
      "                                        right: X_CRIM, \"<=\", 0.22876, \"?\", 0.0003\n",
      "                                           left :  10.61\n",
      "                                           right :  10.74\n",
      "                                  right: X_CRIM, \"<=\", 0.40202, \"?\", 1.5461\n",
      "                                     left: X_AGE, \"<=\", 82.8, \"?\", 0.9661\n",
      "                                        left: X_CRIM, \"<=\", 0.26938, \"?\", 0.7969\n",
      "                                           left: X_RM, \"<=\", 6.021, \"?\", 0.2361\n",
      "                                              left :  10.3\n",
      "                                              right: X_CRIM, \"<=\", 0.04527, \"?\", 0.0001\n",
      "                                                 left :  9.08\n",
      "                                                 right :  7.89\n",
      "                                           right :  10.36\n",
      "                                        right :  11.085\n",
      "                                     right :  12.73\n",
      "                               right: X_B, \"<=\", 83.45, \"?\", 1.0371\n",
      "                                  left :  17.64\n",
      "                                  right: X_CRIM, \"<=\", 5.69175, \"?\", 0.1939\n",
      "                                     left :  14.67\n",
      "                                     right :  12.57\n",
      "                            right: X_RM, \"<=\", 6.185, \"?\", 9.5707\n",
      "                               left: X_RM, \"<=\", 6.072, \"?\", 4.3621\n",
      "                                  left :  13.04\n",
      "                                  right: X_AGE, \"<=\", 96.9, \"?\", 0.988\n",
      "                                     left: X_INDUS, \"<=\", 8.14, \"?\", 0.3701\n",
      "                                        left: X_CRIM, \"<=\", 1.23247, \"?\", 0.0308\n",
      "                                           left :  18.935\n",
      "                                           right :  20.34\n",
      "                                        right :  17.56\n",
      "                                     right :  24.1\n",
      "                               right: X_ZN, \"<=\", 0.0, \"?\", 5.9421\n",
      "                                  left: X_CRIM, \"<=\", 2.3004, \"?\", 3.8674\n",
      "                                     left: X_AGE, \"<=\", 97.9, \"?\", 2.6605\n",
      "                                        left: X_RM, \"<=\", 6.229, \"?\", 0.5687\n",
      "                                           left :  15.55\n",
      "                                           right: X_PTRATIO, \"<=\", 16.4, \"?\", 0.2807\n",
      "                                              left :  10.8\n",
      "                                              right: X_AGE, \"<=\", 97.7, \"?\", 0.0477\n",
      "                                                 left: X_INDUS, \"<=\", 8.14, \"?\", 0.0\n",
      "                                                    left :  12.8\n",
      "                                                    right :  12.265\n",
      "                                                 right :  11.12\n",
      "                                        right: X_RM, \"<=\", 6.431, \"?\", 0.4108\n",
      "                                           left :  16.175\n",
      "                                           right :  12.6\n",
      "                                     right :  18.68\n",
      "                                  right :  20.45\n",
      "                right: X_CRIM, \"<=\", 6.53876, \"?\", 8.4401\n",
      "                   left: X_AGE, \"<=\", 89.3, \"?\", 3.0416\n",
      "                      left: X_B, \"<=\", 395.69, \"?\", 2.2848\n",
      "                         left: X_RM, \"<=\", 6.727, \"?\", 1.1699\n",
      "                            left: X_CRIM, \"<=\", 0.3692, \"?\", 0.6694\n",
      "                               left: X_CRIM, \"<=\", 0.05372, \"?\", 0.0753\n",
      "                                  left :  7.39\n",
      "                                  right: X_RAD, \"<=\", 5.0, \"?\", 0.0238\n",
      "                                     left: X_CRIM, \"<=\", 0.07013, \"?\", 0.0025\n",
      "                                        left :  9.68\n",
      "                                        right :  9.35\n",
      "                                     right :  10.16\n",
      "                               right :  11.98\n",
      "                            right: X_INDUS, \"<=\", 8.56, \"?\", 0.0468\n",
      "                               left :  7.67\n",
      "                               right :  6.745\n",
      "                         right :  5.405\n",
      "                      right: X_CRIM, \"<=\", 0.06076, \"?\", 0.5483\n",
      "                         left :  5.64\n",
      "                         right: X_CRIM, \"<=\", 1.83377, \"?\", 0.3148\n",
      "                            left: X_RM, \"<=\", 7.802, \"?\", 0.006\n",
      "                               left :  1.825\n",
      "                               right :  3.32\n",
      "                            right: X_CRIM, \"<=\", 5.66998, \"?\", 0.0001\n",
      "                               left :  3.715\n",
      "                               right :  2.96\n",
      "                   right :  19.69\n",
      "             right: X_CRIM, \"<=\", 9.51363, \"?\", 14.5268\n",
      "                left: X_DIS, \"<=\", 1.4191, \"?\", 6.4444\n",
      "                   left :  27.8\n",
      "                   right: X_CRIM, \"<=\", 4.26131, \"?\", 4.4125\n",
      "                      left: X_RM, \"<=\", 6.395, \"?\", 0.9066\n",
      "                         left: X_CRIM, \"<=\", 3.69311, \"?\", 0.2473\n",
      "                            left: X_B, \"<=\", 321.02, \"?\", 0.1004\n",
      "                               left: X_CHAS, \"<=\", 0.0, \"?\", 0.0017\n",
      "                                  left :  15.79\n",
      "                                  right :  15.07\n",
      "                               right :  14.375\n",
      "                            right :  12.97\n",
      "                         right :  7.39\n",
      "                      right: X_DIS, \"<=\", 2.7831, \"?\", 2.0406\n",
      "                         left: X_DIS, \"<=\", 2.5806, \"?\", 1.4596\n",
      "                            left: X_DIS, \"<=\", 1.6768, \"?\", 1.0877\n",
      "                               left :  19.645\n",
      "                               right: X_DIS, \"<=\", 2.0048, \"?\", 0.7039\n",
      "                                  left: X_AGE, \"<=\", 95.3, \"?\", 0.0648\n",
      "                                     left :  15.435\n",
      "                                     right: X_CRIM, \"<=\", 5.66637, \"?\", 0.0\n",
      "                                        left :  16.59\n",
      "                                        right :  17.115\n",
      "                                  right: X_RM, \"<=\", 6.051, \"?\", 0.568\n",
      "                                     left :  18.885\n",
      "                                     right: X_DIS, \"<=\", 2.2616, \"?\", 0.5401\n",
      "                                        left: X_RM, \"<=\", 6.341, \"?\", 0.036\n",
      "                                           left: X_CRIM, \"<=\", 8.98296, \"?\", 0.006\n",
      "                                              left :  17.695\n",
      "                                              right :  18.13\n",
      "                                           right :  19.31\n",
      "                                        right: X_B, \"<=\", 50.92, \"?\", 0.2986\n",
      "                                           left: X_RM, \"<=\", 6.728, \"?\", 0.0561\n",
      "                                              left :  18.42\n",
      "                                              right :  17.44\n",
      "                                           right: X_CRIM, \"<=\", 5.44114, \"?\", 0.0603\n",
      "                                              left :  17.5\n",
      "                                              right :  16.48\n",
      "                            right: X_B, \"<=\", 272.21, \"?\", 0.1044\n",
      "                               left: X_CRIM, \"<=\", 7.75223, \"?\", 0.006\n",
      "                                  left :  16.325\n",
      "                                  right :  16.94\n",
      "                               right :  14.345\n",
      "                         right :  10.29\n",
      "                right: X_RM, \"<=\", 5.987, \"?\", 16.3121\n",
      "                   left: X_AGE, \"<=\", 87.9, \"?\", 9.1278\n",
      "                      left :  31.995\n",
      "                      right: X_AGE, \"<=\", 94.7, \"?\", 5.9727\n",
      "                         left :  19.23\n",
      "                         right: X_CRIM, \"<=\", 25.0461, \"?\", 1.2421\n",
      "                            left: X_CRIM, \"<=\", 15.8603, \"?\", 0.06\n",
      "                               left :  24.09\n",
      "                               right :  26.77\n",
      "                            right :  20.62\n",
      "                   right: X_DIS, \"<=\", 1.8195, \"?\", 5.9536\n",
      "                      left: X_AGE, \"<=\", 96.2, \"?\", 0.7765\n",
      "                         left: X_CRIM, \"<=\", 10.8342, \"?\", 0.1129\n",
      "                            left :  25.79\n",
      "                            right: X_CRIM, \"<=\", 11.8123, \"?\", 0.0338\n",
      "                               left :  22.74\n",
      "                               right :  23.465\n",
      "                         right: X_NOX, \"<=\", 0.671, \"?\", 0.0538\n",
      "                            left: X_CRIM, \"<=\", 15.8744, \"?\", 0.0043\n",
      "                               left :  21.16\n",
      "                               right :  21.78\n",
      "                            right :  20.315\n",
      "                      right: X_RM, \"<=\", 6.411, \"?\", 4.2132\n",
      "                         left: X_CRIM, \"<=\", 9.72418, \"?\", 0.4005\n",
      "                            left :  19.52\n",
      "                            right: X_CRIM, \"<=\", 9.92485, \"?\", 0.0579\n",
      "                               left :  16.44\n",
      "                               right: X_CRIM, \"<=\", 13.9134, \"?\", 0.0038\n",
      "                                  left :  15.095\n",
      "                                  right :  14.52\n",
      "                         right :  21.415\n"
     ]
    }
   ],
   "source": [
    "regressor = RegressionTree(min_split=2, max_depth=20)\n",
    "regressor.fit(X_train, Y_train)\n",
    "regressor.print_tree(columns= df.columns)"
   ]
  },
  {
   "cell_type": "code",
   "execution_count": 44,
   "metadata": {},
   "outputs": [
    {
     "name": "stdout",
     "output_type": "stream",
     "text": [
      "min_leaf:2 --- oob mse: 55.08662720588235\n",
      "min_leaf:5 --- oob mse: 48.14092386982571\n",
      "min_leaf:10 --- oob mse: 50.37255103040444\n",
      "min_leaf:100 --- oob mse: 29.07709343474029\n"
     ]
    }
   ],
   "source": [
    "import matplotlib.pyplot as plt\n",
    "from sklearn.metrics import mean_squared_error\n",
    "for min_leaf in [2,5,10,100]: #Not working for values of 1 -- Need to fix this. Also, what should max depth be?\n",
    "      regressor = RegressionTree(min_split=min_leaf, max_depth=20)\n",
    "      regressor.fit(X_train, Y_train)\n",
    "      mse = mean_squared_error(Y_test, regressor.predict(X_test)) # mean square error over test set\n",
    "      print(\"min_leaf:{0} --- oob mse: {1}\".format(min_leaf, mse))\n",
    "\n"
   ]
  },
  {
   "cell_type": "code",
   "execution_count": 45,
   "metadata": {},
   "outputs": [
    {
     "data": {
      "text/plain": [
       "<matplotlib.collections.PathCollection at 0x1e2077e7288>"
      ]
     },
     "execution_count": 45,
     "metadata": {},
     "output_type": "execute_result"
    },
    {
     "data": {
      "image/png": "[encoded data removed]",
      "text/plain": [
       "<Figure size 432x288 with 1 Axes>"
      ]
     },
     "metadata": {
      "needs_background": "light"
     },
     "output_type": "display_data"
    }
   ],
   "source": [
    "regressor = RegressionTree(min_split=100, max_depth=100)\n",
    "regressor.fit(X_train, Y_train)\n",
    "y_hat = regressor.predict(X_test)  # forest is the chosen model\n",
    "plt.scatter(y_hat, Y_test)"
   ]
  },
  {
   "cell_type": "markdown",
   "metadata": {
    "colab_type": "text",
    "id": "TF5TjNuvTKof"
   },
   "source": [
    "## Using Decision Treefor Digits Classification\n",
    "Remeber the MNIST dataset used - you will now test the power of decision trees on this problem.\n",
    "This time you are given a free hand in choosing the test and train set sizes, model parameters (such as gain function and constraints over the trees) and features (whether to use binary pixel values or the original continous gray value).\n",
    "- Choose which model parameters you wish to optimize, explain how would you do that, and find a model which you believe would have the minimal generalization error --- do this for both a single decision tree model, and a random forest.\n",
    "  - You can use `sklearn.tree.DecisionTreeClassifier`\n",
    "- Once you are satisfied with the model parameters, plot the importance of each of the pixels to the final decision.\n",
    "- Last, estimate the class assignment probabilities for all the correctly classified and misclassified examples in your test data. (confusion matrix)\n",
    "- Discuss your results."
   ]
  },
  {
   "cell_type": "code",
   "execution_count": 46,
   "metadata": {
    "colab": {},
    "colab_type": "code",
    "id": "8-k9WpIV_n7Y",
    "pycharm": {
     "name": "#%%\n"
    }
   },
   "outputs": [],
   "source": [
    "# code and answer go he\n",
    "\n",
    "from sklearn.tree import DecisionTreeClassifier\n",
    "from keras.datasets import mnist; "
   ]
  },
  {
   "cell_type": "code",
   "execution_count": 135,
   "metadata": {},
   "outputs": [],
   "source": [
    "(x_train, y_train), (x_test, y_test) = mnist.load_data()\n",
    "x_train = [x.flatten() for x in x_train]\n",
    "x_test = [x.flatten() for x in x_test]\n"
   ]
  },
  {
   "cell_type": "code",
   "execution_count": 136,
   "metadata": {},
   "outputs": [
    {
     "data": {
      "text/plain": [
       "(60000, 784)"
      ]
     },
     "execution_count": 136,
     "metadata": {},
     "output_type": "execute_result"
    }
   ],
   "source": [
    "np.shape(x_train)"
   ]
  },
  {
   "cell_type": "code",
   "execution_count": 137,
   "metadata": {},
   "outputs": [],
   "source": [
    "x_train = x_train[:30000]\n",
    "y_train = y_train[:30000]"
   ]
  },
  {
   "cell_type": "code",
   "execution_count": 48,
   "metadata": {},
   "outputs": [],
   "source": [
    "from sklearn.tree import plot_tree\n",
    "from sklearn.metrics import accuracy_score\n",
    "from sklearn.model_selection import cross_validate, cross_val_score"
   ]
  },
  {
   "cell_type": "markdown",
   "metadata": {},
   "source": [
    "### Decision Tree"
   ]
  },
  {
   "cell_type": "code",
   "execution_count": 49,
   "metadata": {},
   "outputs": [
    {
     "data": {
      "text/plain": [
       "<matplotlib.legend.Legend at 0x1e2076408c8>"
      ]
     },
     "execution_count": 49,
     "metadata": {},
     "output_type": "execute_result"
    },
    {
     "data": {
      "image/png": "[encoded data removed]",
      "text/plain": [
       "<Figure size 432x288 with 1 Axes>"
      ]
     },
     "metadata": {
      "needs_background": "light"
     },
     "output_type": "display_data"
    }
   ],
   "source": [
    "min_samples_split = list(range(2,21))\n",
    "split_entropy_accuracy = []\n",
    "for x in min_samples_split:\n",
    "    \n",
    "    DT = DecisionTreeClassifier(min_samples_split = x, criterion='entropy') #With no other hyperparamters, 'entropy is higher than gini.\n",
    "    DT.fit(x_train, y_train)\n",
    "    split_entropy_accuracy.append(accuracy_score(y_test, DT.predict(x_test)))\n",
    "\n",
    "plt.plot(min_samples_split, split_entropy_accuracy)\n",
    "\n",
    "split_gini_accuracy = []\n",
    "for x in min_samples_split:\n",
    "    DT = DecisionTreeClassifier(min_samples_split = x, criterion='gini') #With no other hyperparamters, 'entropy is higher than gini.\n",
    "    DT.fit(x_train, y_train)\n",
    "    split_gini_accuracy.append(accuracy_score(y_test, DT.predict(x_test)))\n",
    "\n",
    "plt.plot(min_samples_split, split_gini_accuracy)\n",
    "plt.legend(['entropy', 'gini'])"
   ]
  },
  {
   "cell_type": "code",
   "execution_count": 50,
   "metadata": {},
   "outputs": [
    {
     "data": {
      "text/plain": [
       "GridSearchCV(cv=5, estimator=DecisionTreeClassifier(),\n",
       "             param_grid={'criterion': ['gini'], 'max_depth': [10, 20, 40],\n",
       "                         'min_samples_split': [5, 10, 20]})"
      ]
     },
     "execution_count": 50,
     "metadata": {},
     "output_type": "execute_result"
    }
   ],
   "source": [
    "from sklearn.model_selection import GridSearchCV\n",
    "\n",
    "min_samples_split = [5,10,20]\n",
    "max_depth = [10,20,40]\n",
    "criterion = ['gini']\n",
    "\n",
    "parameters = dict(min_samples_split = min_samples_split,\n",
    "                      criterion=criterion,\n",
    "                      max_depth=max_depth)\n",
    "\n",
    "CV = GridSearchCV(DecisionTreeClassifier(), parameters, cv = 5 )\n",
    "\n",
    "CV.fit(x_train, y_train)\n",
    "\n",
    "\n"
   ]
  },
  {
   "cell_type": "code",
   "execution_count": 51,
   "metadata": {},
   "outputs": [
    {
     "name": "stdout",
     "output_type": "stream",
     "text": [
      "Best Criterion: 5\n",
      "Best max_depth: gini\n",
      "Best Number Of Components: 20\n",
      "\n",
      "{'ccp_alpha': 0.0, 'class_weight': None, 'criterion': 'gini', 'max_depth': 20, 'max_features': None, 'max_leaf_nodes': None, 'min_impurity_decrease': 0.0, 'min_samples_leaf': 1, 'min_samples_split': 5, 'min_weight_fraction_leaf': 0.0, 'random_state': None, 'splitter': 'best'}\n"
     ]
    }
   ],
   "source": [
    "print('Best Criterion:', CV.best_estimator_.get_params()['min_samples_split'])\n",
    "print('Best max_depth:', CV.best_estimator_.get_params()['criterion'])\n",
    "print('Best Number Of Components:', CV.best_estimator_.get_params()['max_depth'])\n",
    "print(); print(CV.best_estimator_.get_params())"
   ]
  },
  {
   "cell_type": "code",
   "execution_count": 52,
   "metadata": {},
   "outputs": [
    {
     "data": {
      "text/html": [
       "<div>\n",
       "<style scoped>\n",
       "    .dataframe tbody tr th:only-of-type {\n",
       "        vertical-align: middle;\n",
       "    }\n",
       "\n",
       "    .dataframe tbody tr th {\n",
       "        vertical-align: top;\n",
       "    }\n",
       "\n",
       "    .dataframe thead th {\n",
       "        text-align: right;\n",
       "    }\n",
       "</style>\n",
       "<table border=\"1\" class=\"dataframe\">\n",
       "  <thead>\n",
       "    <tr style=\"text-align: right;\">\n",
       "      <th></th>\n",
       "      <th>param_min_samples_split</th>\n",
       "      <th>param_max_depth</th>\n",
       "      <th>mean_test_score</th>\n",
       "    </tr>\n",
       "  </thead>\n",
       "  <tbody>\n",
       "    <tr>\n",
       "      <th>0</th>\n",
       "      <td>5</td>\n",
       "      <td>10</td>\n",
       "      <td>0.848867</td>\n",
       "    </tr>\n",
       "    <tr>\n",
       "      <th>1</th>\n",
       "      <td>10</td>\n",
       "      <td>10</td>\n",
       "      <td>0.849433</td>\n",
       "    </tr>\n",
       "    <tr>\n",
       "      <th>2</th>\n",
       "      <td>20</td>\n",
       "      <td>10</td>\n",
       "      <td>0.847817</td>\n",
       "    </tr>\n",
       "    <tr>\n",
       "      <th>3</th>\n",
       "      <td>5</td>\n",
       "      <td>20</td>\n",
       "      <td>0.868017</td>\n",
       "    </tr>\n",
       "    <tr>\n",
       "      <th>4</th>\n",
       "      <td>10</td>\n",
       "      <td>20</td>\n",
       "      <td>0.867417</td>\n",
       "    </tr>\n",
       "    <tr>\n",
       "      <th>5</th>\n",
       "      <td>20</td>\n",
       "      <td>20</td>\n",
       "      <td>0.863450</td>\n",
       "    </tr>\n",
       "    <tr>\n",
       "      <th>6</th>\n",
       "      <td>5</td>\n",
       "      <td>40</td>\n",
       "      <td>0.866433</td>\n",
       "    </tr>\n",
       "    <tr>\n",
       "      <th>7</th>\n",
       "      <td>10</td>\n",
       "      <td>40</td>\n",
       "      <td>0.865517</td>\n",
       "    </tr>\n",
       "    <tr>\n",
       "      <th>8</th>\n",
       "      <td>20</td>\n",
       "      <td>40</td>\n",
       "      <td>0.861950</td>\n",
       "    </tr>\n",
       "  </tbody>\n",
       "</table>\n",
       "</div>"
      ],
      "text/plain": [
       "  param_min_samples_split param_max_depth  mean_test_score\n",
       "0                       5              10         0.848867\n",
       "1                      10              10         0.849433\n",
       "2                      20              10         0.847817\n",
       "3                       5              20         0.868017\n",
       "4                      10              20         0.867417\n",
       "5                      20              20         0.863450\n",
       "6                       5              40         0.866433\n",
       "7                      10              40         0.865517\n",
       "8                      20              40         0.861950"
      ]
     },
     "execution_count": 52,
     "metadata": {},
     "output_type": "execute_result"
    }
   ],
   "source": [
    "df = pd.DataFrame(CV.cv_results_)\n",
    "df[['param_min_samples_split', 'param_max_depth', 'mean_test_score']]"
   ]
  },
  {
   "cell_type": "code",
   "execution_count": 139,
   "metadata": {},
   "outputs": [
    {
     "data": {
      "text/plain": [
       "<sklearn.metrics._plot.confusion_matrix.ConfusionMatrixDisplay at 0x1e22421bb08>"
      ]
     },
     "execution_count": 139,
     "metadata": {},
     "output_type": "execute_result"
    },
    {
     "data": {
      "image/png": "[encoded data removed]",
      "text/plain": [
       "<Figure size 864x432 with 2 Axes>"
      ]
     },
     "metadata": {
      "needs_background": "light"
     },
     "output_type": "display_data"
    }
   ],
   "source": [
    "from sklearn.metrics import ConfusionMatrixDisplay\n",
    "clf = DecisionTreeClassifier(random_state= 0)\n",
    "clf.fit(x_train, y_train)\n",
    "fig, ax = plt.subplots(figsize=(12, 6))\n",
    "ConfusionMatrixDisplay.from_predictions(y_test, clf.predict(x_test), ax = ax)"
   ]
  },
  {
   "cell_type": "code",
   "execution_count": null,
   "metadata": {},
   "outputs": [],
   "source": [
    "# plot_tree(clf, rounded = True) #takes too long"
   ]
  },
  {
   "cell_type": "code",
   "execution_count": 146,
   "metadata": {},
   "outputs": [],
   "source": [
    "path =clf.cost_complexity_pruning_path(x_train, y_train)\n",
    "prunes= path.ccp_alphas"
   ]
  },
  {
   "cell_type": "code",
   "execution_count": 141,
   "metadata": {},
   "outputs": [
    {
     "data": {
      "text/plain": [
       "(1951,)"
      ]
     },
     "execution_count": 141,
     "metadata": {},
     "output_type": "execute_result"
    }
   ],
   "source": [
    "prune_alphas = prunes[:-1]\n",
    "prune_alphas.shape"
   ]
  },
  {
   "cell_type": "code",
   "execution_count": 142,
   "metadata": {},
   "outputs": [],
   "source": [
    "prune_alphas = prunes[:-1]\n",
    "clf_trees = []\n",
    "for alpha in prune_alphas:\n",
    "    clf_dt = DecisionTreeClassifier(random_state = 0, ccp_alpha = alpha)\n",
    "    clf_dt.fit(x_train, y_train)\n",
    "    clf_trees.append(clf_dt)\n"
   ]
  },
  {
   "cell_type": "code",
   "execution_count": 143,
   "metadata": {},
   "outputs": [
    {
     "data": {
      "text/plain": [
       "[<matplotlib.lines.Line2D at 0x1e223b71348>]"
      ]
     },
     "execution_count": 143,
     "metadata": {},
     "output_type": "execute_result"
    },
    {
     "data": {
      "image/png": "[encoded data removed]",
      "text/plain": [
       "<Figure size 432x288 with 1 Axes>"
      ]
     },
     "metadata": {
      "needs_background": "light"
     },
     "output_type": "display_data"
    }
   ],
   "source": [
    "train_scores = [clf_dt.score(x_train, y_train) for clf_dt in clf_trees]\n",
    "test_scores = [clf_dt.score(x_test, y_test) for clf_dt in clf_trees]\n",
    "\n",
    "fig = plt.gca()\n",
    "plt.plot(prune_alphas, train_scores, marker = 'o', label = 'train', drawstyle = 'steps-post')\n",
    "plt.plot(prune_alphas, test_scores, marker = 'o', label = 'test', drawstyle = 'steps-post')\n"
   ]
  },
  {
   "cell_type": "markdown",
   "metadata": {},
   "source": [
    "### Random Forest"
   ]
  },
  {
   "cell_type": "code",
   "execution_count": 53,
   "metadata": {},
   "outputs": [
    {
     "data": {
      "text/plain": [
       "0.9695"
      ]
     },
     "execution_count": 53,
     "metadata": {},
     "output_type": "execute_result"
    }
   ],
   "source": [
    "from sklearn.ensemble import RandomForestClassifier\n",
    "rf = RandomForestClassifier(random_state= 21)\n",
    "rf.fit(x_train, y_train)\n",
    "rf.predict(x_test)\n",
    "\n",
    "accuracy_score(y_test, rf.predict(x_test))"
   ]
  },
  {
   "cell_type": "code",
   "execution_count": 54,
   "metadata": {},
   "outputs": [
    {
     "data": {
      "text/plain": [
       "GridSearchCV(cv=5, estimator=RandomForestClassifier(),\n",
       "             param_grid={'criterion': ['gini'], 'max_depth': [10, 20, 40],\n",
       "                         'min_samples_split': [5, 10, 20]})"
      ]
     },
     "execution_count": 54,
     "metadata": {},
     "output_type": "execute_result"
    }
   ],
   "source": [
    "min_samples_split = [5,10,20]\n",
    "max_depth = [10,20,40]\n",
    "criterion = ['gini']\n",
    "\n",
    "parameters = dict(min_samples_split = min_samples_split,\n",
    "                      criterion=criterion,\n",
    "                      max_depth=max_depth)\n",
    "\n",
    "CV = GridSearchCV(RandomForestClassifier(), parameters, cv = 5 )\n",
    "\n",
    "CV.fit(x_train, y_train)\n"
   ]
  },
  {
   "cell_type": "code",
   "execution_count": 55,
   "metadata": {},
   "outputs": [
    {
     "data": {
      "text/plain": [
       "RandomForestClassifier(max_depth=20, min_samples_split=5, oob_score=True)"
      ]
     },
     "execution_count": 55,
     "metadata": {},
     "output_type": "execute_result"
    }
   ],
   "source": [
    "clf = RandomForestClassifier(n_estimators= 100, max_depth = 20, min_samples_split= 5, oob_score=True)\n",
    "clf.fit(x_train, y_train)"
   ]
  },
  {
   "cell_type": "code",
   "execution_count": 56,
   "metadata": {},
   "outputs": [
    {
     "data": {
      "text/plain": [
       "<matplotlib.image.AxesImage at 0x1e20aca7688>"
      ]
     },
     "execution_count": 56,
     "metadata": {},
     "output_type": "execute_result"
    },
    {
     "data": {
      "image/png": "[encoded data removed]",
      "text/plain": [
       "<Figure size 432x288 with 1 Axes>"
      ]
     },
     "metadata": {
      "needs_background": "light"
     },
     "output_type": "display_data"
    }
   ],
   "source": [
    "plt.imshow(clf.feature_importances_.reshape(28,28), cmap= 'inferno')\n"
   ]
  },
  {
   "cell_type": "markdown",
   "metadata": {},
   "source": [
    "## Confusion Matrix"
   ]
  },
  {
   "cell_type": "code",
   "execution_count": 57,
   "metadata": {},
   "outputs": [
    {
     "data": {
      "text/plain": [
       "array([[ 970,    0,    1,    0,    0,    2,    2,    1,    4,    0],\n",
       "       [   0, 1122,    3,    2,    0,    2,    2,    1,    3,    0],\n",
       "       [   6,    0,  998,    6,    2,    0,    3,    9,    8,    0],\n",
       "       [   0,    0,   11,  972,    0,    8,    0,    8,    8,    3],\n",
       "       [   1,    0,    0,    0,  951,    0,    6,    0,    3,   21],\n",
       "       [   3,    1,    1,   13,    3,  857,    4,    3,    5,    2],\n",
       "       [   6,    3,    1,    0,    3,    5,  937,    0,    3,    0],\n",
       "       [   1,    5,   18,    1,    1,    0,    0,  989,    1,   12],\n",
       "       [   5,    0,    5,    4,    5,    5,    3,    3,  934,   10],\n",
       "       [   6,    6,    2,   12,   13,    1,    1,    4,    6,  958]],\n",
       "      dtype=int64)"
      ]
     },
     "execution_count": 57,
     "metadata": {},
     "output_type": "execute_result"
    }
   ],
   "source": [
    "from sklearn.metrics import confusion_matrix\n",
    "confusion_matrix(y_test, clf.predict(x_test) )"
   ]
  },
  {
   "cell_type": "code",
   "execution_count": 58,
   "metadata": {},
   "outputs": [
    {
     "name": "stdout",
     "output_type": "stream",
     "text": [
      "accuracy:  0.9688\n",
      "oob:  0.9644166666666667\n",
      "F1:  0.9685990681430139\n"
     ]
    }
   ],
   "source": [
    "from sklearn.metrics import f1_score, accuracy_score\n",
    "print('accuracy: ', accuracy_score(y_test, clf.predict(x_test)))\n",
    "print('oob: ', clf.oob_score_)\n",
    "print('F1: ', f1_score(y_test, clf.predict(x_test), average = 'macro'))"
   ]
  }
 ],
 "metadata": {
  "colab": {
   "collapsed_sections": [],
   "name": "Decision Trees - Exercise.ipynb",
   "provenance": []
  },
  "kernelspec": {
   "display_name": "Python 3",
   "language": "python",
   "name": "python3"
  },
  "language_info": {
   "codemirror_mode": {
    "name": "ipython",
    "version": 3
   },
   "file_extension": ".py",
   "mimetype": "text/x-python",
   "name": "python",
   "nbconvert_exporter": "python",
   "pygments_lexer": "ipython3",
   "version": "3.7.10"
  }
 },
 "nbformat": 4,
 "nbformat_minor": 1
}
