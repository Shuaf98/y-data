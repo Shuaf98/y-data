{
 "cells": [
  {
   "cell_type": "markdown",
   "metadata": {},
   "source": [
    "## Inheritance"
   ]
  },
  {
   "cell_type": "code",
   "execution_count": 30,
   "metadata": {},
   "outputs": [],
   "source": [
    "class Person:\n",
    "    def speak(self):\n",
    "        print('I can speak')\n",
    "class Man(Person): #HEre, and by woman, is the inheritance. We give the superclass \"person\" to Man as an initation argument.\n",
    "    def wear(self):\n",
    "        print( 'I wear a shirt')\n",
    "class Woman(Person):\n",
    "    def wear(self):\n",
    "        print( 'I wear a skirt')"
   ]
  },
  {
   "cell_type": "code",
   "execution_count": 34,
   "metadata": {},
   "outputs": [
    {
     "name": "stdout",
     "output_type": "stream",
     "text": [
      "I can speak\n",
      "I can speak\n",
      "I wear a shirt\n"
     ]
    }
   ],
   "source": [
    "person = Person()\n",
    "person.speak()\n",
    "\n",
    "man = Man()\n",
    "man.speak() #HEre we can see the inheritance in use: Man inherits Person's \"Speak\" method\n",
    "man.wear()"
   ]
  },
  {
   "cell_type": "markdown",
   "metadata": {},
   "source": [
    "## Multiple Inheritance"
   ]
  },
  {
   "cell_type": "markdown",
   "metadata": {},
   "source": [
    "A class definition with multiple base classes looks as follows:\n",
    "\n",
    "                class DerivedClass(Base1, Base2, Base3 …)\n",
    "\n",
    "                        statement-1\n",
    "\n",
    "                        statement-2\n"
   ]
  },
  {
   "cell_type": "code",
   "execution_count": 35,
   "metadata": {},
   "outputs": [],
   "source": [
    "class A:\n",
    "    def A(self):\n",
    "        print('I am A')\n",
    "class B:\n",
    "    def A(self): #NOTE: The name of this function is the same as 'A' in class A (will explain significance below)\n",
    "        print('I am a')\n",
    "    def B(self):\n",
    "        print('I am B')\n",
    "class C(A,B): #Inherit both classes A and B\n",
    "    def C(self):\n",
    "        print('I am C')"
   ]
  },
  {
   "cell_type": "code",
   "execution_count": 36,
   "metadata": {},
   "outputs": [
    {
     "name": "stdout",
     "output_type": "stream",
     "text": [
      "I am A\n",
      "I am B\n",
      "I am C\n"
     ]
    }
   ],
   "source": [
    "C= C() #When instantiating C, it inherits from both of our classes.\n",
    "C.A() #Notice how in both Class B and A, there is an A function. If C inherits from both, how does it know which one to call?\n",
    "        #Inheritance inherits from left to right (A and B were passed to C as A, then B). Therefore it takes the functions, from left to right.\n",
    "        #So here, method A from Class A was called, and not class B.\n",
    "C.B()\n",
    "C.C()"
   ]
  },
  {
   "cell_type": "markdown",
   "metadata": {},
   "source": [
    "## Encapsulation"
   ]
  },
  {
   "cell_type": "markdown",
   "metadata": {},
   "source": [
    "Python, there are no keywords like ‘public’, ‘protected’  and ‘private’ to define the accessibility.\n",
    "\n",
    "In other words, In  Python, it acquiesce that all attributes are public.\n",
    "\n",
    "But there is a method in Python to define Private:\n",
    "Add “__” in front of the variable and function name  can hide them when accessing them from out of  class.\n"
   ]
  },
  {
   "cell_type": "code",
   "execution_count": 37,
   "metadata": {},
   "outputs": [],
   "source": [
    "class Person:\n",
    "    def __init__(self):\n",
    "        self.A = 'Shua'\n",
    "        self.__B = 'Friedman'\n",
    "    def PrintName(self):\n",
    "        print(self.A)\n",
    "        print(self.__B)"
   ]
  },
  {
   "cell_type": "code",
   "execution_count": 39,
   "metadata": {},
   "outputs": [
    {
     "name": "stdout",
     "output_type": "stream",
     "text": [
      "Shua\n"
     ]
    },
    {
     "ename": "AttributeError",
     "evalue": "'Person' object has no attribute '__B'",
     "output_type": "error",
     "traceback": [
      "\u001b[1;31m---------------------------------------------------------------------------\u001b[0m",
      "\u001b[1;31mAttributeError\u001b[0m                            Traceback (most recent call last)",
      "\u001b[1;32m~\\AppData\\Local\\Temp/ipykernel_18232/1546286066.py\u001b[0m in \u001b[0;36m<module>\u001b[1;34m\u001b[0m\n\u001b[0;32m      1\u001b[0m \u001b[0mP\u001b[0m \u001b[1;33m=\u001b[0m \u001b[0mPerson\u001b[0m\u001b[1;33m(\u001b[0m\u001b[1;33m)\u001b[0m\u001b[1;33m\u001b[0m\u001b[1;33m\u001b[0m\u001b[0m\n\u001b[0;32m      2\u001b[0m \u001b[0mprint\u001b[0m\u001b[1;33m(\u001b[0m\u001b[0mP\u001b[0m\u001b[1;33m.\u001b[0m\u001b[0mA\u001b[0m\u001b[1;33m)\u001b[0m\u001b[1;33m\u001b[0m\u001b[1;33m\u001b[0m\u001b[0m\n\u001b[1;32m----> 3\u001b[1;33m \u001b[0mprint\u001b[0m\u001b[1;33m(\u001b[0m\u001b[0mP\u001b[0m\u001b[1;33m.\u001b[0m\u001b[0m__B\u001b[0m\u001b[1;33m)\u001b[0m\u001b[1;33m\u001b[0m\u001b[1;33m\u001b[0m\u001b[0m\n\u001b[0m",
      "\u001b[1;31mAttributeError\u001b[0m: 'Person' object has no attribute '__B'"
     ]
    }
   ],
   "source": [
    "P = Person()\n",
    "print(P.A) #HEre, we can access the public variable outside of the class\n",
    "print(P.__B) #HEre, we can not access the private variable, because it is outside the class."
   ]
  },
  {
   "cell_type": "code",
   "execution_count": 41,
   "metadata": {},
   "outputs": [
    {
     "name": "stdout",
     "output_type": "stream",
     "text": [
      "Shua\n",
      "Friedman\n"
     ]
    }
   ],
   "source": [
    "P.PrintName() #Both the public and private variables are invoked, because it is invoked from within the class."
   ]
  },
  {
   "cell_type": "markdown",
   "metadata": {},
   "source": [
    "## Polymorphism with Inheritance\n",
    "\n",
    "Polymorphism in python defines methods in the child class that have the same name as the methods in the parent class. In inheritance, the child class inherits the methods from the parent class. Also, it is possible to modify a method in a child class that it has inherited from the parent class.\n",
    "\n",
    "This is mostly used in cases where the method inherited from the parent class doesn’t fit the child class. This process of re-implementing a method in the child class is known as Method Overriding. Here is an example that shows polymorphism with inheritance:"
   ]
  },
  {
   "cell_type": "code",
   "execution_count": 42,
   "metadata": {},
   "outputs": [
    {
     "name": "stdout",
     "output_type": "stream",
     "text": [
      "There are different types of birds\n",
      "Most of the birds can fly but some cannot\n",
      "There are different types of birds\n",
      "Parrots can fly\n",
      "There are different types of birds\n",
      "Penguins do not fly\n"
     ]
    }
   ],
   "source": [
    "class Bird:\n",
    "     def intro(self):\n",
    "       print(\"There are different types of birds\")\n",
    " \n",
    "     def flight(self):\n",
    "       print(\"Most of the birds can fly but some cannot\")\n",
    " \n",
    "class parrot(Bird):\n",
    "     def flight(self):\n",
    "       print(\"Parrots can fly\")\n",
    " \n",
    "class penguin(Bird):\n",
    "     def flight(self):\n",
    "       print(\"Penguins do not fly\")\n",
    " \n",
    "obj_bird = Bird()\n",
    "obj_parr = parrot()\n",
    "obj_peng = penguin()\n",
    "\n",
    "for obj in [obj_bird, obj_parr, obj_peng]:\n",
    "  obj.intro()\n",
    "  obj.flight()"
   ]
  },
  {
   "cell_type": "markdown",
   "metadata": {},
   "source": [
    "So, in Python, many operators have the property of  polymorphism. Like the following example:"
   ]
  },
  {
   "cell_type": "code",
   "execution_count": 44,
   "metadata": {},
   "outputs": [
    {
     "name": "stdout",
     "output_type": "stream",
     "text": [
      "3\n",
      "keyboard\n",
      "[1, 2, 3, 4, 5, 6, 7]\n"
     ]
    }
   ],
   "source": [
    "print(1+2)\n",
    "print('key' + 'board')\n",
    "print([1,2,3] + [4,5,6,7])"
   ]
  },
  {
   "cell_type": "markdown",
   "metadata": {},
   "source": [
    "Looks stupid, but the key is that variables can support  any objects which support ‘add’ operation. Not only  integer but also string, list, tuple and dictionary can  realize their relative ‘add’ operation.\n"
   ]
  },
  {
   "cell_type": "markdown",
   "metadata": {},
   "source": [
    "## Super\n",
    "\n",
    "(Need more notes)"
   ]
  },
  {
   "cell_type": "code",
   "execution_count": 45,
   "metadata": {},
   "outputs": [
    {
     "name": "stdout",
     "output_type": "stream",
     "text": [
      "The mobile is: Apple\n",
      "The RAM is: 2\n",
      "The storage is: 64\n",
      "The model is: iPhone X\n"
     ]
    }
   ],
   "source": [
    "class Computer():\n",
    "    def __init__(self, computer, ram, storage):\n",
    "        self.computer = computer\n",
    "        self.ram = ram\n",
    "        self.storage = storage\n",
    "\n",
    "# Class Mobile inherits Computer\n",
    "class Mobile(Computer):\n",
    "    def __init__(self, computer, ram, storage, model):\n",
    "        super().__init__(computer, ram, storage)\n",
    "        self.model = model\n",
    "\n",
    "Apple = Mobile('Apple', 2, 64, 'iPhone X')\n",
    "print('The mobile is:', Apple.computer)\n",
    "print('The RAM is:', Apple.ram)\n",
    "print('The storage is:', Apple.storage)\n",
    "print('The model is:', Apple.model)\n"
   ]
  },
  {
   "cell_type": "code",
   "execution_count": 9,
   "metadata": {},
   "outputs": [
    {
     "name": "stdout",
     "output_type": "stream",
     "text": [
      "MRO: ['E', 'C', 'A', 'D', 'B', 'Base', 'object']\n",
      "E arg= 10\n",
      "C arg= 10\n",
      "A\n",
      "D arg= 10\n",
      "B\n"
     ]
    },
    {
     "data": {
      "text/plain": [
       "<__main__.E at 0x15a492dd248>"
      ]
     },
     "execution_count": 9,
     "metadata": {},
     "output_type": "execute_result"
    }
   ],
   "source": [
    "class Base(object):\n",
    "    def __init__(self, *args, **kwargs): pass\n",
    "\n",
    "class A(Base):\n",
    "    def __init__(self, *args, **kwargs):\n",
    "        print(\"A\")\n",
    "        super(A, self).__init__(*args, **kwargs)\n",
    "\n",
    "class B(Base):\n",
    "    def __init__(self, *args, **kwargs):\n",
    "        print (\"B\")\n",
    "        super(B, self).__init__(*args, **kwargs)\n",
    "\n",
    "class C(A):\n",
    "    def __init__(self, arg, *args, **kwargs):\n",
    "        print (\"C\",\"arg=\",arg)\n",
    "        super(C, self).__init__(arg, *args, **kwargs)\n",
    "\n",
    "class D(B):\n",
    "    def __init__(self, arg, *args, **kwargs):\n",
    "        print (\"D\", \"arg=\",arg)\n",
    "        super(D, self).__init__(arg, *args, **kwargs)\n",
    "\n",
    "class E(C,D):\n",
    "    def __init__(self, arg, *args, **kwargs):\n",
    "        print (\"E\", \"arg=\",arg)\n",
    "        super(E, self).__init__(arg, *args, **kwargs) #Not sure why we need to pass E and self to super (and the rest of the letters). \n",
    "                                                      # I deleted, them, gives the same result.\n",
    "\n",
    "print (\"MRO:\", [x.__name__ for x in E.__mro__])\n",
    "E(10)\n",
    "\n",
    "#First, 10 is passed to E. E gets printed. Then, sup"
   ]
  }
 ],
 "metadata": {
  "interpreter": {
   "hash": "b162208df198174479ad95a41e45bdbc61ac18b751563f663467e26bbab6bd1e"
  },
  "kernelspec": {
   "display_name": "Python 3.7.10 64-bit ('py4dp': conda)",
   "language": "python",
   "name": "python3"
  },
  "language_info": {
   "codemirror_mode": {
    "name": "ipython",
    "version": 3
   },
   "file_extension": ".py",
   "mimetype": "text/x-python",
   "name": "python",
   "nbconvert_exporter": "python",
   "pygments_lexer": "ipython3",
   "version": "3.7.10"
  },
  "orig_nbformat": 4
 },
 "nbformat": 4,
 "nbformat_minor": 2
}
