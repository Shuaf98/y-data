{
 "cells": [
  {
   "cell_type": "markdown",
   "metadata": {},
   "source": [
    "# Notes\n",
    "\n",
    "Different problems give different number of points: 2, 3 or 4.\n",
    "\n",
    "Please, fill `STUDENT` variable with your name, so that we call collect the results automatically. Each problem contains specific validation details. We will do our best to review your assignments, but please keep in mind, that for this assignment automatic grade (between $0$ an $1$) is the primary source of ground truth."
   ]
  },
  {
   "cell_type": "code",
   "execution_count": 1,
   "metadata": {
    "ExecuteTime": {
     "end_time": "2019-11-13T22:00:31.331179Z",
     "start_time": "2019-11-13T22:00:30.492519Z"
    },
    "scrolled": true
   },
   "outputs": [
    {
     "name": "stdout",
     "output_type": "stream",
     "text": [
      "Populating the interactive namespace from numpy and matplotlib\n"
     ]
    }
   ],
   "source": [
    "%pylab inline\n",
    "plt.style.use(\"bmh\")"
   ]
  },
  {
   "cell_type": "code",
   "execution_count": 2,
   "metadata": {
    "ExecuteTime": {
     "end_time": "2019-11-13T22:00:32.020415Z",
     "start_time": "2019-11-13T22:00:32.015416Z"
    }
   },
   "outputs": [],
   "source": [
    "plt.rcParams[\"figure.figsize\"] = (6,6)"
   ]
  },
  {
   "cell_type": "code",
   "execution_count": 3,
   "metadata": {
    "ExecuteTime": {
     "end_time": "2019-11-13T22:00:34.357252Z",
     "start_time": "2019-11-13T22:00:32.305471Z"
    },
    "scrolled": true
   },
   "outputs": [],
   "source": [
    "import numpy as np\n",
    "import torch"
   ]
  },
  {
   "cell_type": "code",
   "execution_count": 4,
   "metadata": {
    "ExecuteTime": {
     "end_time": "2019-11-13T22:11:54.201123Z",
     "start_time": "2019-11-13T22:11:54.196430Z"
    }
   },
   "outputs": [],
   "source": [
    "STUDENT = \"Yehoshua Friedman\"\n",
    "ASSIGNMENT = 3\n",
    "TEST = False"
   ]
  },
  {
   "cell_type": "code",
   "execution_count": 5,
   "metadata": {},
   "outputs": [],
   "source": [
    "if TEST:\n",
    "    import solutions\n",
    "    total_grade = 0\n",
    "    MAX_POINTS = 11"
   ]
  },
  {
   "cell_type": "markdown",
   "metadata": {},
   "source": [
    "# Basic PyTorch"
   ]
  },
  {
   "cell_type": "markdown",
   "metadata": {
    "tags": [
     "problem"
    ]
   },
   "source": [
    "### 1. ReLU activation (2 points).\n",
    "\n",
    "ReLU is the most commonly used activation function in many deep learning application. It's defined as\n",
    "\n",
    "$$\n",
    "ReLU(x) = \\max(0, x).\n",
    "$$\n",
    "\n",
    "Outpu must be of the same shape as input, and **will be tested against three random combinations of input array dimensions ($100 \\leq n < 1000 $)**, while values of the input are drawn from standard normal distribution. Number of dimensions of the input will also be selected randomly and is either 1, 2 or 3.\n",
    "\n",
    "For many reasons, ReLU is better than the sigmoid function, as it is simple and consists of simple computation, therefore taking less time to run. Additionally, sigmoid (and tanh) saturate, which does inneficient things to the gradients. ReLU, however, doesn't ave a plateuing slope, and therefore converges faster.\n",
    "\n",
    " https://www.mygreatlearning.com/blog/relu-activation-function/"
   ]
  },
  {
   "cell_type": "code",
   "execution_count": 6,
   "metadata": {
    "tags": [
     "solution"
    ]
   },
   "outputs": [],
   "source": [
    "def relu(arr):\n",
    "    tens = torch.tensor(arr, dtype = torch.float)\n",
    "    tens[tens<=0] = 0\n",
    "    return tens #np.maximum(arr, 0)"
   ]
  },
  {
   "cell_type": "code",
   "execution_count": 7,
   "metadata": {
    "tags": [
     "validation"
    ]
   },
   "outputs": [],
   "source": [
    "PROBLEM_ID = 1\n",
    "\n",
    "if TEST:\n",
    "    total_grade += solutions.check(STUDENT, PROBLEM_ID, relu)"
   ]
  },
  {
   "cell_type": "markdown",
   "metadata": {
    "tags": [
     "problem"
    ]
   },
   "source": [
    "### 2. Mean squared error (2 points).\n",
    "\n",
    "In this problem you need to calculate MSE for a pair of tensors `y_true` and `y_pred`. MSE is defined as usual:\n",
    "\n",
    "$$\n",
    "L_{MSE} = \\frac{1}{N} \\sum_i \\left(y_i - \\hat y_i\\right)^2\n",
    "$$\n",
    "\n",
    "Note, however, that `y_true` and `y_pred`may be of **different shape**. While `y_true` is always $(N,)$, `y_pred` may be $(N,1)$, $(1, N)$ or $(N,)$. Input values are drawn from standard normal distribution and **shape is selected randomly ($100 \\leq n < 1000 $)**."
   ]
  },
  {
   "cell_type": "code",
   "execution_count": 117,
   "metadata": {
    "tags": [
     "solution"
    ]
   },
   "outputs": [],
   "source": [
    "def mse(y_true, y_pred):\n",
    "        return ((y_true - y_pred.reshape(y_true.shape))**2).float().mean()\n",
    "        # (y_true - y_pred.flatten()).pow(2).mean()\n",
    "        "
   ]
  },
  {
   "cell_type": "code",
   "execution_count": 123,
   "metadata": {},
   "outputs": [
    {
     "name": "stdout",
     "output_type": "stream",
     "text": [
      "arr: tensor([0, 2, 1, 1])\n",
      "arrn1 tensor([[0],\n",
      "        [2],\n",
      "        [1],\n",
      "        [1]])\n",
      "arrn1, reshaped: tensor([0, 2, 1, 1])\n",
      "arr1n: tensor([[0, 2, 1, 1]])\n",
      "tensor([3, 2, 2, 4])\n",
      "tensor(4.7500)\n",
      "tensor(4.7500)\n",
      "tensor(4.7500)\n"
     ]
    }
   ],
   "source": [
    "# def generate_db(N):\n",
    "#     arr = torch.randint(0,5, size = (N,))\n",
    "#     print('arr:' , arr)\n",
    "#     print('arrn1', arr.reshape(N,1))\n",
    "#     print('arrn1, reshaped:', arr.reshape(N,1).reshape(arr.shape))\n",
    "#     print('arr1n:', arr.reshape(1,N))\n",
    "#     return arr, arr.reshape(N,1), arr.reshape(1,N), torch.randint(0,5, size =(N,))\n",
    "\n",
    "# torch.manual_seed(7)\n",
    "# yn, yn1, y1n, y_true = generate_db(4)\n",
    "\n",
    "# print(y_true)\n",
    "# print(mse(y_true,yn))\n",
    "# print(mse(y_true,yn1))\n",
    "# print(mse(y_true,y1n))"
   ]
  },
  {
   "cell_type": "code",
   "execution_count": 119,
   "metadata": {
    "tags": [
     "validation"
    ]
   },
   "outputs": [],
   "source": [
    "PROBLEM_ID = 2\n",
    "\n",
    "if TEST:\n",
    "    total_grade += solutions.check(STUDENT, PROBLEM_ID, mse)"
   ]
  },
  {
   "cell_type": "markdown",
   "metadata": {
    "tags": [
     "problem"
    ]
   },
   "source": [
    "### 3. Character-level encoding (4 points).\n",
    "\n",
    "In computations in general and in machine learning specifically letters cannot be used directly, as computers only know aboun numbers. Text data may be encoded in many different ways in natural language processing tasks.\n",
    "\n",
    "One of the simplest ways to encode letters is to use one-hot encoded representation, with letters being \"class labels\". A letter is represented by a tensor of shape $(26,)$.\n",
    "\n",
    "Then, for example, word \"python\" would be transformed into a tensor of shape $(6, 26)$ with all elements being $0$, except $(0, 15)\\sim p , \\,(1, 24)\\sim y ,  \\,(2, 19)\\sim t,...$ being $1$. A phrase would be represented with 3-dimensional tensor.\n",
    "\n",
    "In this problem you need to create a tensor, which represents a list of words `words` of length $N$. The only characters used are those from `string.ascii_lowercase`, and words are of different length $L_i$. Output must be of shape $(N, \\max(L_i), 26)$.\n",
    "\n",
    "Dimension 0 corresponds to words themselves, with `tensor[0]` being a represetation of `words[0]`. Note, that you need to use padding: although trivial in this case, you must remember, that tensor must accomodate for a longest word, thus dimension 1 is $\\max(L_i)$.\n",
    "\n",
    "Note also, that the only loop you need here is a loop over `words`, there's no need to loop over the resulting tensor.\n",
    "\n",
    "The result will be tested against three predefined lists of word, with all words being lowercase and containing only ASCII characters."
   ]
  },
  {
   "cell_type": "code",
   "execution_count": 29,
   "metadata": {
    "tags": [
     "solution"
    ]
   },
   "outputs": [],
   "source": [
    "def encode(words):\n",
    "    max_word = max([len(x) for x in words])\n",
    "    tensor = torch.zeros(size = ((len(words), max_word, 26)))\n",
    "    \n",
    "    for word_index, word in enumerate(words):\n",
    "        for letter_index, letter in enumerate(word):\n",
    "            abc_index = ord(letter)-97 #ascii value of a = 97. a-97 = 0, the index. Any letter - 0 gives the index\n",
    "            tensor[word_index, letter_index, abc_index] = 1\n",
    "    return tensor\n",
    "# from string import ascii_lowercase\n",
    "# words = ['python', 'abc', 'acdf']\n",
    "# max_word = max([len(x) for x in words])\n",
    "\n",
    "# tensor = torch.zeros(size = ((len(words), max_word, 26)))\n",
    "# for word_index, word in enumerate(words):\n",
    "#     for letter_index, letter in enumerate(word):\n",
    "#         for abc_index, abc in enumerate(ascii_lowercase):\n",
    "#             if letter == abc:\n",
    "#                 tensor[word_index,letter_index,abc_index] = 1\n",
    "# tensor"
   ]
  },
  {
   "cell_type": "code",
   "execution_count": 30,
   "metadata": {},
   "outputs": [
    {
     "name": "stdout",
     "output_type": "stream",
     "text": [
      "tensor([[1., 0., 0., 0., 0., 0., 0., 0., 0., 0., 0., 0., 0., 0., 0., 0., 0., 0.,\n",
      "         0., 0., 0., 0., 0., 0., 0., 0.],\n",
      "        [0., 1., 0., 0., 0., 0., 0., 0., 0., 0., 0., 0., 0., 0., 0., 0., 0., 0.,\n",
      "         0., 0., 0., 0., 0., 0., 0., 0.],\n",
      "        [0., 0., 1., 0., 0., 0., 0., 0., 0., 0., 0., 0., 0., 0., 0., 0., 0., 0.,\n",
      "         0., 0., 0., 0., 0., 0., 0., 0.],\n",
      "        [0., 0., 0., 0., 0., 0., 0., 0., 0., 0., 0., 0., 0., 0., 0., 0., 0., 0.,\n",
      "         0., 0., 0., 0., 0., 0., 0., 0.],\n",
      "        [0., 0., 0., 0., 0., 0., 0., 0., 0., 0., 0., 0., 0., 0., 0., 0., 0., 0.,\n",
      "         0., 0., 0., 0., 0., 0., 0., 0.],\n",
      "        [0., 0., 0., 0., 0., 0., 0., 0., 0., 0., 0., 0., 0., 0., 0., 0., 0., 0.,\n",
      "         0., 0., 0., 0., 0., 0., 0., 0.]])\n"
     ]
    }
   ],
   "source": [
    "# words = ['python', 'abc', 'acdf']\n",
    "\n",
    "\n",
    "# def encode(words):\n",
    "#     max_word = max([len(x) for x in words])\n",
    "#     tensor = torch.zeros(size = ((len(words), max_word, 26)))\n",
    "    \n",
    "#     for word_index, word in enumerate(words):\n",
    "#         for letter_index, letter in enumerate(word):\n",
    "#             abc_index = ord(letter)-97 #ascii value of a = 97. a-97 = 0, the index. Any letter - 0 gives the index\n",
    "#             tensor[word_index, letter_index, abc_index] = 1\n",
    "#     return tensor\n",
    "\n",
    "# print(encode(words)[1])"
   ]
  },
  {
   "cell_type": "code",
   "execution_count": 31,
   "metadata": {
    "tags": [
     "validation"
    ]
   },
   "outputs": [],
   "source": [
    "PROBLEM_ID = 3\n",
    "\n",
    "if TEST:\n",
    "    total_grade += solutions.check(STUDENT, PROBLEM_ID, encode)"
   ]
  },
  {
   "cell_type": "markdown",
   "metadata": {},
   "source": [
    "# Gradients"
   ]
  },
  {
   "cell_type": "markdown",
   "metadata": {},
   "source": [
    "### 4. Generate gradient (1 point).\n",
    "\n",
    "For 2-dimensional tensor `tr`, calculate a gradient of $\\sum\\log tr_{ij}$. Note, that you're provided with dimensions and interval, and not the `tr` inself:\n",
    "\n",
    "- `dims` is a tuple, so that `tr.size()` equals `dims`,\n",
    "- `lims` is an interval, so that elements of `tr` are integers, uniformly sampled from `[lims[0], lims[1])` interval (note, that lims[1] is **not** included).\n",
    "\n",
    "Result must be a tensor of the same shape as `tr` (namely, `dims`), containing gradients of the following function:\n",
    "\n",
    "$$\\sum_{ij}\\log tr_{ij}.$$\n",
    "\n",
    "and generated `tr` itself.\n",
    "\n",
    "Result **will be tested against multiple random combinations of input tensor dimensions ($10 \\leq n < 100 $) and sampling interval (`lims[0]=1`, `10 <= lims[1] < 100`)**.\n",
    "\n",
    "**Hint**: think on how you can validate the solution yourself, given that gradient can be computed manually on paper."
   ]
  },
  {
   "cell_type": "code",
   "execution_count": 58,
   "metadata": {
    "tags": [
     "solution"
    ]
   },
   "outputs": [],
   "source": [
    "torch.manual_seed(8)\n",
    "def generate_grad(dims, lims):\n",
    "    \"\"\"Generate gradient of `log(x)`.\"\"\"\n",
    "    # generate tr first\n",
    "    tr = torch.randint(lims[0], lims[1], size = dims, dtype= torch.float, requires_grad= True)\n",
    "    # gradient calculation\n",
    "    funct = tr.log().sum()\n",
    "    funct.backward()\n",
    "    return tr.grad, tr"
   ]
  },
  {
   "cell_type": "code",
   "execution_count": 129,
   "metadata": {},
   "outputs": [
    {
     "name": "stdout",
     "output_type": "stream",
     "text": [
      "tensor([[0.0000, 1.6094, 0.0000],\n",
      "        [1.3863, 2.0794, 1.6094]], grad_fn=<LogBackward>) tensor(6.6846, grad_fn=<SumBackward0>)\n"
     ]
    },
    {
     "data": {
      "text/plain": [
       "(tensor([[1.0000, 0.2000, 1.0000],\n",
       "         [0.2500, 0.1250, 0.2000]]),\n",
       " tensor([[1., 5., 1.],\n",
       "         [4., 8., 5.]], requires_grad=True))"
      ]
     },
     "execution_count": 129,
     "metadata": {},
     "output_type": "execute_result"
    }
   ],
   "source": [
    "# dims = (2,3)\n",
    "# lims = [1,10]\n",
    "\n",
    "# torch.manual_seed(8)\n",
    "# def generate_grad(dims, lims):\n",
    "#     \"\"\"Generate gradient of `log(x)`.\"\"\"\n",
    "#     # generate tr first\n",
    "#     tr = torch.randint(lims[0], lims[1], size = dims, dtype= torch.float, requires_grad= True)\n",
    "#     # gradient calculation\n",
    "#     funct = tr.log().sum()\n",
    "#     funct.backward()\n",
    "#     print(tr.log(), tr.log().sum())\n",
    "#     return tr.grad, tr\n",
    "# generate_grad(dims, lims)"
   ]
  },
  {
   "cell_type": "code",
   "execution_count": 33,
   "metadata": {
    "tags": [
     "validation"
    ]
   },
   "outputs": [],
   "source": [
    "PROBLEM_ID = 4\n",
    "\n",
    "if TEST:\n",
    "    total_grade += solutions.check(STUDENT, PROBLEM_ID, generate_grad)"
   ]
  },
  {
   "cell_type": "markdown",
   "metadata": {},
   "source": [
    "#### Comment and review\n",
    "\n",
    "Gradient for the function we use can be calculated analytically:\n",
    "\n",
    "$$\n",
    "\\frac{\\partial}{\\partial x_{km}}\\sum_{ij}\\log x_{ij}\n",
    "= \\sum_{ij} \\frac{\\partial}{\\partial x_{km}} \\log x_{ij}\n",
    "= \\sum_{ij} \\frac{\\delta_{ik}\\delta_{jm}}{x_{ij}}\n",
    "= \\frac{1}{x_{km}}\n",
    "$$\n",
    "\n",
    "We can now easily check, if gradient is correct by modifying the function we use:"
   ]
  },
  {
   "cell_type": "markdown",
   "metadata": {
    "tags": [
     "problem"
    ]
   },
   "source": [
    "### 5. Find a minimum (2 points, manually graded).\n",
    "\n",
    "Consider the following scalar function:\n",
    "\n",
    "$$\n",
    "f(x) = ax^2 + bx + c\n",
    "$$\n",
    "\n",
    "Given the $a,b,c$, find $x$, which minimizes $f(x)$. Note this:\n",
    "\n",
    "- $a,b,c$ are fixed, and generated in such a way, that minimum always exists ($f(x)$ is convex),\n",
    "- $x$ is a scalar value, i.e. 0-dimensional tensor.\n",
    "\n",
    "**Hint:** stop for a second to think about which tensor must contain `requires_grad` and on which scalar should `.backward()` be called."
   ]
  },
  {
   "cell_type": "code",
   "execution_count": 131,
   "metadata": {
    "ExecuteTime": {
     "end_time": "2019-11-13T23:15:11.348224Z",
     "start_time": "2019-11-13T23:15:11.334569Z"
    },
    "tags": [
     "solution"
    ]
   },
   "outputs": [],
   "source": [
    "def generate_coeffs():\n",
    "    a = torch.rand(size=()) * 10\n",
    "    b = -10 + torch.rand(size=()) * 10\n",
    "    c = -10 + torch.rand(size=()) * 10\n",
    "    return a, b, c\n",
    "\n",
    "def func(x, a, b, c):\n",
    "    return x.pow(2) * a + x * b + c\n"
   ]
  },
  {
   "cell_type": "code",
   "execution_count": 134,
   "metadata": {
    "ExecuteTime": {
     "end_time": "2019-11-13T23:25:50.106449Z",
     "start_time": "2019-11-13T23:25:50.095086Z"
    },
    "tags": [
     "solution"
    ]
   },
   "outputs": [
    {
     "name": "stdout",
     "output_type": "stream",
     "text": [
      "Epoch 0: loss = 152.86959552764893\n",
      "Epoch 1: loss = -7.637350365639199\n",
      "Epoch 2: loss = -9.92089044240806\n",
      "Epoch 3: loss = -9.95337847744722\n",
      "Epoch 4: loss = -9.953840686291919\n",
      "tensor(0.3941, dtype=torch.float64, requires_grad=True)\n"
     ]
    }
   ],
   "source": [
    "torch.manual_seed(4)\n",
    "EPOCHS = 20\n",
    "LR = 1e-1\n",
    "STARTING_VAL = -5. # Consider choosing different starting values for x to speed-up the optimization\n",
    "DELTA = 0.00001\n",
    "\n",
    "\n",
    "# Initialize x, a, b, c\n",
    "x = torch.tensor(STARTING_VAL, dtype=float, requires_grad= True)\n",
    "a, b, c = generate_coeffs()\n",
    "# Collect f(x) values during training for visuzalition later on\n",
    "f_vals = []\n",
    "\n",
    "for i in range(EPOCHS):\n",
    "    # print('x:', x)\n",
    "    funct = func(x,a,b,c)\n",
    "    funct.backward()\n",
    "    # print('grad:', x.grad)\n",
    "    f_vals.append(funct.item())\n",
    "    with torch.no_grad(): #context manager, saying to torch that this is just an update step, and we dont need to record it.\n",
    "        #                  Do to not keep track of it for gradient computations.\n",
    "        x.sub_(LR * x.grad) #Subtract LR*the gradient from W (if a negative number then add).\n",
    "    x.grad.zero_()\n",
    "    print(f\"Epoch {i}: loss = {f_vals[-1]}\")\n",
    "    \n",
    "    try:\n",
    "        if f_vals[-2] - f_vals[-1] < 0.01: #If loss isnt improved anymore, then break out of the function\n",
    "            break\n",
    "    except:\n",
    "        pass\n",
    "# if (x.grad is not None):\n",
    "#         x.grad.data.zero_()\n",
    "#     # calculate grad    \n",
    "#     g = func(x,a,b,c)\n",
    "#     g.backward()\n",
    "#     # take step the size of LR against the gradient\n",
    "#     x.data  = x.data - LR*x.grad.data\n",
    "\n",
    "\n",
    "#     f_vals.append(func(x.data,a,b,c))\n",
    "\n",
    "print(x)\n"
   ]
  },
  {
   "cell_type": "code",
   "execution_count": 36,
   "metadata": {
    "ExecuteTime": {
     "end_time": "2019-11-13T23:26:15.085855Z",
     "start_time": "2019-11-13T23:26:15.078760Z"
    },
    "tags": [
     "solution"
    ]
   },
   "outputs": [
    {
     "data": {
      "image/png": "[encoded data removed]",
      "text/plain": [
       "<Figure size 432x432 with 1 Axes>"
      ]
     },
     "metadata": {
      "needs_background": "light"
     },
     "output_type": "display_data"
    }
   ],
   "source": [
    "if f_vals:\n",
    "    grid = np.linspace(-5, 5, 100)\n",
    "    plt.plot(grid, np.square(grid) * a.item() + grid * b.item() + c.item())\n",
    "    plt.hlines(f_vals[-1], -5, 5, \"firebrick\", \"--\", linewidth=1)"
   ]
  },
  {
   "cell_type": "code",
   "execution_count": 37,
   "metadata": {
    "tags": [
     "validation"
    ]
   },
   "outputs": [],
   "source": [
    "PROBLEM_ID = 5\n",
    "GRADE = 0\n",
    "\n",
    "if TEST:\n",
    "    total_grade += GRADE"
   ]
  },
  {
   "cell_type": "code",
   "execution_count": 38,
   "metadata": {
    "ExecuteTime": {
     "end_time": "2019-11-13T23:48:26.479012Z",
     "start_time": "2019-11-13T23:48:26.459417Z"
    },
    "tags": [
     "validation"
    ]
   },
   "outputs": [],
   "source": [
    "if TEST:\n",
    "    print(f\"{STUDENT}: {int(100 * total_grade / MAX_POINTS)}\")"
   ]
  },
  {
   "cell_type": "code",
   "execution_count": null,
   "metadata": {},
   "outputs": [],
   "source": []
  }
 ],
 "metadata": {
  "@webio": {
   "lastCommId": null,
   "lastKernelId": null
  },
  "celltoolbar": "Tags",
  "interpreter": {
   "hash": "b162208df198174479ad95a41e45bdbc61ac18b751563f663467e26bbab6bd1e"
  },
  "kernelspec": {
   "display_name": "Python 3.7.10 64-bit ('py4dp': conda)",
   "name": "python3"
  },
  "language_info": {
   "codemirror_mode": {
    "name": "ipython",
    "version": 3
   },
   "file_extension": ".py",
   "mimetype": "text/x-python",
   "name": "python",
   "nbconvert_exporter": "python",
   "pygments_lexer": "ipython3",
   "version": "3.7.10"
  }
 },
 "nbformat": 4,
 "nbformat_minor": 2
}
