{
 "cells": [
  {
   "cell_type": "markdown",
   "metadata": {},
   "source": [
    "# Linear algebra"
   ]
  },
  {
   "cell_type": "code",
   "execution_count": 1,
   "metadata": {},
   "outputs": [],
   "source": [
    "import numpy as np"
   ]
  },
  {
   "cell_type": "code",
   "execution_count": 2,
   "metadata": {
    "ExecuteTime": {
     "end_time": "2019-11-08T09:30:38.481728Z",
     "start_time": "2019-11-08T09:30:38.477839Z"
    }
   },
   "outputs": [],
   "source": [
    "v = np.random.randint(10, size=(3,))\n",
    "m = np.random.randint(10, size=(5, 3))"
   ]
  },
  {
   "cell_type": "code",
   "execution_count": 3,
   "metadata": {
    "ExecuteTime": {
     "end_time": "2019-11-08T09:31:10.791146Z",
     "start_time": "2019-11-08T09:31:10.783018Z"
    }
   },
   "outputs": [
    {
     "data": {
      "text/plain": [
       "array([[1, 6, 9],\n",
       "       [9, 5, 2],\n",
       "       [9, 4, 6],\n",
       "       [8, 0, 7],\n",
       "       [0, 4, 2]])"
      ]
     },
     "execution_count": 3,
     "metadata": {},
     "output_type": "execute_result"
    }
   ],
   "source": [
    "m"
   ]
  },
  {
   "cell_type": "code",
   "execution_count": 4,
   "metadata": {
    "ExecuteTime": {
     "end_time": "2019-11-08T09:31:19.482501Z",
     "start_time": "2019-11-08T09:31:19.474663Z"
    }
   },
   "outputs": [
    {
     "data": {
      "text/plain": [
       "array([3, 6, 4])"
      ]
     },
     "execution_count": 4,
     "metadata": {},
     "output_type": "execute_result"
    }
   ],
   "source": [
    "v"
   ]
  },
  {
   "cell_type": "markdown",
   "metadata": {},
   "source": [
    "## Dot products, determinants, traces"
   ]
  },
  {
   "cell_type": "markdown",
   "metadata": {},
   "source": [
    "Dot product is available through `np` itself (as it's very common). Note the ordering and dimensions:"
   ]
  },
  {
   "cell_type": "code",
   "execution_count": 5,
   "metadata": {
    "ExecuteTime": {
     "end_time": "2019-11-08T09:31:27.498296Z",
     "start_time": "2019-11-08T09:31:27.489976Z"
    }
   },
   "outputs": [
    {
     "data": {
      "text/plain": [
       "array([75, 65, 75, 52, 32])"
      ]
     },
     "execution_count": 5,
     "metadata": {},
     "output_type": "execute_result"
    }
   ],
   "source": [
    "np.dot(m, v)\n",
    "#Even though the unit dimensions don't match, numpy transforms for the right dimensions for us so that it works."
   ]
  },
  {
   "cell_type": "code",
   "execution_count": 6,
   "metadata": {
    "ExecuteTime": {
     "end_time": "2019-11-08T09:33:37.293416Z",
     "start_time": "2019-11-08T09:33:37.286136Z"
    }
   },
   "outputs": [
    {
     "data": {
      "text/plain": [
       "array([[75],\n",
       "       [65],\n",
       "       [75],\n",
       "       [52],\n",
       "       [32]])"
      ]
     },
     "execution_count": 6,
     "metadata": {},
     "output_type": "execute_result"
    }
   ],
   "source": [
    "np.dot(m, v[:, np.newaxis]) #np.newaxis adds a new dimension"
   ]
  },
  {
   "cell_type": "code",
   "execution_count": 8,
   "metadata": {},
   "outputs": [
    {
     "data": {
      "text/plain": [
       "array([[1, 9, 9, 8, 0],\n",
       "       [6, 5, 4, 0, 4],\n",
       "       [9, 2, 6, 7, 2]])"
      ]
     },
     "execution_count": 8,
     "metadata": {},
     "output_type": "execute_result"
    }
   ],
   "source": [
    "m.T"
   ]
  },
  {
   "cell_type": "code",
   "execution_count": 9,
   "metadata": {
    "ExecuteTime": {
     "end_time": "2019-11-08T09:34:29.088679Z",
     "start_time": "2019-11-08T09:34:29.082827Z"
    }
   },
   "outputs": [
    {
     "data": {
      "text/plain": [
       "array([75, 65, 75, 52, 32])"
      ]
     },
     "execution_count": 9,
     "metadata": {},
     "output_type": "execute_result"
    }
   ],
   "source": [
    "np.dot(v, m.T)\n",
    "#This one is mathematically correct, as m  has been transformed and is now the right dimensions"
   ]
  },
  {
   "cell_type": "markdown",
   "metadata": {},
   "source": [
    "Inverse matrix is straighforward (as almost any other LA operation):"
   ]
  },
  {
   "cell_type": "code",
   "execution_count": 10,
   "metadata": {
    "ExecuteTime": {
     "end_time": "2019-11-08T09:35:35.378006Z",
     "start_time": "2019-11-08T09:35:35.367976Z"
    }
   },
   "outputs": [],
   "source": [
    "s = np.random.randint(10, size=(3,3))\n",
    "s_inv = np.linalg.inv(s)"
   ]
  },
  {
   "cell_type": "code",
   "execution_count": 11,
   "metadata": {
    "ExecuteTime": {
     "end_time": "2019-11-08T09:35:37.546657Z",
     "start_time": "2019-11-08T09:35:37.540287Z"
    }
   },
   "outputs": [
    {
     "data": {
      "text/plain": [
       "array([[5, 7, 2],\n",
       "       [8, 5, 8],\n",
       "       [2, 1, 3]])"
      ]
     },
     "execution_count": 11,
     "metadata": {},
     "output_type": "execute_result"
    }
   ],
   "source": [
    "s"
   ]
  },
  {
   "cell_type": "code",
   "execution_count": 12,
   "metadata": {
    "ExecuteTime": {
     "end_time": "2019-11-08T09:35:37.712933Z",
     "start_time": "2019-11-08T09:35:37.708002Z"
    }
   },
   "outputs": [
    {
     "data": {
      "text/plain": [
       "array([[-0.28,  0.76, -1.84],\n",
       "       [ 0.32, -0.44,  0.96],\n",
       "       [ 0.08, -0.36,  1.24]])"
      ]
     },
     "execution_count": 12,
     "metadata": {},
     "output_type": "execute_result"
    }
   ],
   "source": [
    "s_inv"
   ]
  },
  {
   "cell_type": "code",
   "execution_count": 14,
   "metadata": {
    "ExecuteTime": {
     "end_time": "2019-11-08T09:35:41.488632Z",
     "start_time": "2019-11-08T09:35:41.483335Z"
    }
   },
   "outputs": [
    {
     "data": {
      "text/plain": [
       "dtype('float64')"
      ]
     },
     "execution_count": 14,
     "metadata": {},
     "output_type": "execute_result"
    }
   ],
   "source": [
    "s_inv.dtype\n",
    "#We see that our dtpye changed in the inreverse matrix."
   ]
  },
  {
   "cell_type": "code",
   "execution_count": 13,
   "metadata": {
    "ExecuteTime": {
     "end_time": "2019-11-08T09:35:42.532821Z",
     "start_time": "2019-11-08T09:35:42.526481Z"
    }
   },
   "outputs": [
    {
     "data": {
      "text/plain": [
       "array([[ 1.00000000e+00, -2.22044605e-16,  0.00000000e+00],\n",
       "       [ 0.00000000e+00,  1.00000000e+00,  0.00000000e+00],\n",
       "       [-4.44089210e-16, -2.22044605e-16,  1.00000000e+00]])"
      ]
     },
     "execution_count": 13,
     "metadata": {},
     "output_type": "execute_result"
    }
   ],
   "source": [
    "np.dot(s_inv, s)\n",
    "#this gives us the identity matrix, it just looks weird because of the floating point data type."
   ]
  },
  {
   "cell_type": "markdown",
   "metadata": {},
   "source": [
    "Determinants and traces are available as well:"
   ]
  },
  {
   "cell_type": "code",
   "execution_count": 15,
   "metadata": {
    "ExecuteTime": {
     "end_time": "2019-11-08T09:38:26.817489Z",
     "start_time": "2019-11-08T09:38:26.811282Z"
    }
   },
   "outputs": [
    {
     "data": {
      "text/plain": [
       "(-24.999999999999996, -0.03999999999999999)"
      ]
     },
     "execution_count": 15,
     "metadata": {},
     "output_type": "execute_result"
    }
   ],
   "source": [
    "np.linalg.det(s), np.linalg.det(s_inv)  # det(s) == 1 / det(s_inv), btw"
   ]
  },
  {
   "cell_type": "code",
   "execution_count": 16,
   "metadata": {
    "ExecuteTime": {
     "end_time": "2019-11-08T09:39:02.819638Z",
     "start_time": "2019-11-08T09:39:02.814251Z"
    }
   },
   "outputs": [
    {
     "data": {
      "text/plain": [
       "(13, 0.52)"
      ]
     },
     "execution_count": 16,
     "metadata": {},
     "output_type": "execute_result"
    }
   ],
   "source": [
    "np.trace(s), np.trace(s_inv)\n",
    "#Sums of the diagonal values"
   ]
  },
  {
   "cell_type": "markdown",
   "metadata": {},
   "source": [
    "## Eigenvalues, eigenvectors"
   ]
  },
  {
   "cell_type": "markdown",
   "metadata": {},
   "source": [
    "Eigenvalue decomposition (and other decompositions as well) are available via `eig` and `eigh` functions:"
   ]
  },
  {
   "cell_type": "code",
   "execution_count": 17,
   "metadata": {
    "ExecuteTime": {
     "end_time": "2019-11-08T09:39:36.424580Z",
     "start_time": "2019-11-08T09:39:36.407446Z"
    }
   },
   "outputs": [],
   "source": [
    "evals, evectors = np.linalg.eig(s)\n",
    "#Eigenvalues sum up to the trace of the original matrix"
   ]
  },
  {
   "cell_type": "code",
   "execution_count": 18,
   "metadata": {},
   "outputs": [
    {
     "data": {
      "text/plain": [
       "array([-1.81024968, 13.81024968,  1.        ])"
      ]
     },
     "execution_count": 18,
     "metadata": {},
     "output_type": "execute_result"
    }
   ],
   "source": [
    "evals"
   ]
  },
  {
   "cell_type": "code",
   "execution_count": 19,
   "metadata": {},
   "outputs": [
    {
     "data": {
      "text/plain": [
       "array([[-0.73009094,  0.6367793 , -0.74420841],\n",
       "       [ 0.66294688,  0.74802461,  0.24806947],\n",
       "       [ 0.16573672,  0.18700615,  0.62017367]])"
      ]
     },
     "execution_count": 19,
     "metadata": {},
     "output_type": "execute_result"
    }
   ],
   "source": [
    "evectors"
   ]
  },
  {
   "cell_type": "code",
   "execution_count": 20,
   "metadata": {
    "ExecuteTime": {
     "end_time": "2019-11-08T09:40:24.079866Z",
     "start_time": "2019-11-08T09:40:24.075326Z"
    }
   },
   "outputs": [
    {
     "data": {
      "text/plain": [
       "True"
      ]
     },
     "execution_count": 20,
     "metadata": {},
     "output_type": "execute_result"
    }
   ],
   "source": [
    "np.allclose(evals.sum(), np.trace(s))  # some simple LA and correct way of comparing floating point numbers\n",
    "#We don't compare these with the normal operator, because there is a miniscule difference between the two, \n",
    "#when dealing with floating point numbers"
   ]
  },
  {
   "cell_type": "markdown",
   "metadata": {},
   "source": [
    "Creating a diagonal matrix from a `1D` array:"
   ]
  },
  {
   "cell_type": "code",
   "execution_count": 21,
   "metadata": {
    "ExecuteTime": {
     "end_time": "2019-11-08T09:41:07.864680Z",
     "start_time": "2019-11-08T09:41:07.860625Z"
    }
   },
   "outputs": [],
   "source": [
    "s_diagonal = np.diag(evals)"
   ]
  },
  {
   "cell_type": "code",
   "execution_count": 22,
   "metadata": {
    "ExecuteTime": {
     "end_time": "2019-11-08T09:41:13.424758Z",
     "start_time": "2019-11-08T09:41:13.418283Z"
    }
   },
   "outputs": [
    {
     "data": {
      "text/plain": [
       "array([[-1.81024968,  0.        ,  0.        ],\n",
       "       [ 0.        , 13.81024968,  0.        ],\n",
       "       [ 0.        ,  0.        ,  1.        ]])"
      ]
     },
     "execution_count": 22,
     "metadata": {},
     "output_type": "execute_result"
    }
   ],
   "source": [
    "s_diagonal"
   ]
  },
  {
   "cell_type": "markdown",
   "metadata": {},
   "source": [
    "And now our matrix can be decomposed as:\n",
    "    \n",
    "$$\n",
    "s = VEV^{-1}\n",
    "$$\n",
    "\n",
    "where $E$ is a diagonal matrix (with eigenvalues on main diagonal), and $V$ is a matrix where columns are eigenvectors."
   ]
  },
  {
   "cell_type": "code",
   "execution_count": 24,
   "metadata": {
    "ExecuteTime": {
     "end_time": "2019-11-08T09:42:02.889611Z",
     "start_time": "2019-11-08T09:42:02.881841Z"
    }
   },
   "outputs": [
    {
     "data": {
      "text/plain": [
       "array([[5., 7., 2.],\n",
       "       [8., 5., 8.],\n",
       "       [2., 1., 3.]])"
      ]
     },
     "execution_count": 24,
     "metadata": {},
     "output_type": "execute_result"
    }
   ],
   "source": [
    "np.dot(evectors, np.dot(s_diagonal, np.linalg.inv(evectors)))\n",
    "#Putting these all together gives us the original array"
   ]
  },
  {
   "cell_type": "code",
   "execution_count": 25,
   "metadata": {
    "ExecuteTime": {
     "end_time": "2019-11-08T09:42:05.052208Z",
     "start_time": "2019-11-08T09:42:05.046922Z"
    }
   },
   "outputs": [
    {
     "data": {
      "text/plain": [
       "array([[5, 7, 2],\n",
       "       [8, 5, 8],\n",
       "       [2, 1, 3]])"
      ]
     },
     "execution_count": 25,
     "metadata": {},
     "output_type": "execute_result"
    }
   ],
   "source": [
    "s"
   ]
  },
  {
   "cell_type": "code",
   "execution_count": 26,
   "metadata": {},
   "outputs": [
    {
     "data": {
      "text/plain": [
       "True"
      ]
     },
     "execution_count": 26,
     "metadata": {},
     "output_type": "execute_result"
    }
   ],
   "source": [
    "np.allclose(np.dot(evectors, np.dot(s_diagonal, np.linalg.inv(evectors))), s)"
   ]
  },
  {
   "cell_type": "code",
   "execution_count": null,
   "metadata": {},
   "outputs": [],
   "source": []
  }
 ],
 "metadata": {
  "@webio": {
   "lastCommId": null,
   "lastKernelId": null
  },
  "kernelspec": {
   "display_name": "Python 3",
   "language": "python",
   "name": "python3"
  },
  "language_info": {
   "codemirror_mode": {
    "name": "ipython",
    "version": 3
   },
   "file_extension": ".py",
   "mimetype": "text/x-python",
   "name": "python",
   "nbconvert_exporter": "python",
   "pygments_lexer": "ipython3",
   "version": "3.8.5"
  }
 },
 "nbformat": 4,
 "nbformat_minor": 2
}
