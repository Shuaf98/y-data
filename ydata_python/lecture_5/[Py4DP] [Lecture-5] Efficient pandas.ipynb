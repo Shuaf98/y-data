{
 "cells": [
  {
   "cell_type": "markdown",
   "metadata": {},
   "source": [
    "# Efficient `pandas`"
   ]
  },
  {
   "cell_type": "code",
   "execution_count": 1,
   "metadata": {
    "ExecuteTime": {
     "end_time": "2019-11-29T09:53:18.189481Z",
     "start_time": "2019-11-29T09:53:17.396541Z"
    }
   },
   "outputs": [
    {
     "name": "stdout",
     "output_type": "stream",
     "text": [
      "Populating the interactive namespace from numpy and matplotlib\n"
     ]
    }
   ],
   "source": [
    "%pylab inline\n",
    "plt.style.use(\"bmh\")"
   ]
  },
  {
   "cell_type": "code",
   "execution_count": 2,
   "metadata": {
    "ExecuteTime": {
     "end_time": "2019-11-29T09:53:18.670335Z",
     "start_time": "2019-11-29T09:53:18.195478Z"
    }
   },
   "outputs": [],
   "source": [
    "import numpy as np\n",
    "import pandas as pd"
   ]
  },
  {
   "cell_type": "code",
   "execution_count": 3,
   "metadata": {
    "ExecuteTime": {
     "end_time": "2019-11-29T09:53:18.681064Z",
     "start_time": "2019-11-29T09:53:18.675172Z"
    }
   },
   "outputs": [],
   "source": [
    "import string"
   ]
  },
  {
   "cell_type": "markdown",
   "metadata": {},
   "source": [
    "# Data"
   ]
  },
  {
   "cell_type": "code",
   "execution_count": 4,
   "metadata": {
    "ExecuteTime": {
     "end_time": "2019-11-29T09:53:23.113793Z",
     "start_time": "2019-11-29T09:53:23.101618Z"
    }
   },
   "outputs": [],
   "source": [
    "df = pd.DataFrame(np.arange(2000).reshape((1000,2)),\n",
    "                  columns=['a', 'b'],\n",
    "                  index=np.random.choice(list(string.ascii_lowercase), 1000, replace=True))"
   ]
  },
  {
   "cell_type": "code",
   "execution_count": 5,
   "metadata": {
    "ExecuteTime": {
     "end_time": "2019-11-29T09:53:24.096963Z",
     "start_time": "2019-11-29T09:53:24.068487Z"
    }
   },
   "outputs": [
    {
     "data": {
      "text/html": [
       "<div>\n",
       "<style scoped>\n",
       "    .dataframe tbody tr th:only-of-type {\n",
       "        vertical-align: middle;\n",
       "    }\n",
       "\n",
       "    .dataframe tbody tr th {\n",
       "        vertical-align: top;\n",
       "    }\n",
       "\n",
       "    .dataframe thead th {\n",
       "        text-align: right;\n",
       "    }\n",
       "</style>\n",
       "<table border=\"1\" class=\"dataframe\">\n",
       "  <thead>\n",
       "    <tr style=\"text-align: right;\">\n",
       "      <th></th>\n",
       "      <th>a</th>\n",
       "      <th>b</th>\n",
       "    </tr>\n",
       "  </thead>\n",
       "  <tbody>\n",
       "    <tr>\n",
       "      <th>w</th>\n",
       "      <td>0</td>\n",
       "      <td>1</td>\n",
       "    </tr>\n",
       "    <tr>\n",
       "      <th>e</th>\n",
       "      <td>2</td>\n",
       "      <td>3</td>\n",
       "    </tr>\n",
       "    <tr>\n",
       "      <th>k</th>\n",
       "      <td>4</td>\n",
       "      <td>5</td>\n",
       "    </tr>\n",
       "    <tr>\n",
       "      <th>l</th>\n",
       "      <td>6</td>\n",
       "      <td>7</td>\n",
       "    </tr>\n",
       "    <tr>\n",
       "      <th>d</th>\n",
       "      <td>8</td>\n",
       "      <td>9</td>\n",
       "    </tr>\n",
       "  </tbody>\n",
       "</table>\n",
       "</div>"
      ],
      "text/plain": [
       "   a  b\n",
       "w  0  1\n",
       "e  2  3\n",
       "k  4  5\n",
       "l  6  7\n",
       "d  8  9"
      ]
     },
     "execution_count": 5,
     "metadata": {},
     "output_type": "execute_result"
    }
   ],
   "source": [
    "df.head()"
   ]
  },
  {
   "cell_type": "markdown",
   "metadata": {},
   "source": [
    "# Loops"
   ]
  },
  {
   "cell_type": "markdown",
   "metadata": {},
   "source": [
    "## Naive"
   ]
  },
  {
   "cell_type": "code",
   "execution_count": 6,
   "metadata": {
    "ExecuteTime": {
     "end_time": "2019-11-29T09:54:58.228323Z",
     "start_time": "2019-11-29T09:54:58.218928Z"
    }
   },
   "outputs": [],
   "source": [
    "def iterate_df(df):\n",
    "    \"\"\"Iterate over df in Python loop.\"\"\"\n",
    "\n",
    "    result = []\n",
    "    \n",
    "    for i in range(df.shape[0]):\n",
    "        row = df.iloc[i]\n",
    "        result.append(row['a']/row['b'])\n",
    "    return pd.Series(result, name=\"div_result\", index=df.index)"
   ]
  },
  {
   "cell_type": "code",
   "execution_count": 7,
   "metadata": {
    "ExecuteTime": {
     "end_time": "2019-11-29T09:55:24.926350Z",
     "start_time": "2019-11-29T09:55:12.526399Z"
    }
   },
   "outputs": [
    {
     "name": "stdout",
     "output_type": "stream",
     "text": [
      "126 ms ± 12.2 ms per loop (mean ± std. dev. of 5 runs, 10 loops each)\n"
     ]
    }
   ],
   "source": [
    "%timeit -n 10 -r 5 iterate_df(df)"
   ]
  },
  {
   "cell_type": "markdown",
   "metadata": {},
   "source": [
    "## Using `iterrows`"
   ]
  },
  {
   "cell_type": "code",
   "execution_count": 8,
   "metadata": {
    "ExecuteTime": {
     "end_time": "2019-11-29T09:56:23.384569Z",
     "start_time": "2019-11-29T09:56:23.377248Z"
    }
   },
   "outputs": [],
   "source": [
    "def iterate_df_rows(df):\n",
    "    \"\"\"Iterate over df in Python loop.\"\"\"\n",
    "\n",
    "    result = []\n",
    "    \n",
    "    for ri, row in df.iterrows():\n",
    "        result.append(row['a']/row['b'])\n",
    "    return pd.Series(result, name=\"AgeGroup\", index=df.index)"
   ]
  },
  {
   "cell_type": "code",
   "execution_count": 9,
   "metadata": {
    "ExecuteTime": {
     "end_time": "2019-11-29T09:56:41.041391Z",
     "start_time": "2019-11-29T09:56:24.156987Z"
    }
   },
   "outputs": [
    {
     "name": "stdout",
     "output_type": "stream",
     "text": [
      "88.9 ms ± 5.42 ms per loop (mean ± std. dev. of 5 runs, 20 loops each)\n"
     ]
    }
   ],
   "source": [
    "%timeit -n 20 -r 5 iterate_df_rows(df)"
   ]
  },
  {
   "cell_type": "markdown",
   "metadata": {},
   "source": [
    "## Using `apply`"
   ]
  },
  {
   "cell_type": "code",
   "execution_count": 10,
   "metadata": {
    "ExecuteTime": {
     "end_time": "2019-11-29T09:56:59.563658Z",
     "start_time": "2019-11-29T09:56:55.880688Z"
    }
   },
   "outputs": [
    {
     "name": "stdout",
     "output_type": "stream",
     "text": [
      "15.6 ms ± 1.27 ms per loop (mean ± std. dev. of 5 runs, 20 loops each)\n"
     ]
    }
   ],
   "source": [
    "%timeit -n 20 -r 5 df.apply(lambda x: x['a']/x['b'], axis=1)\n",
    "#This is significantly faster than the above two options"
   ]
  },
  {
   "cell_type": "markdown",
   "metadata": {},
   "source": [
    "## Using vectorization"
   ]
  },
  {
   "cell_type": "code",
   "execution_count": 13,
   "metadata": {
    "ExecuteTime": {
     "end_time": "2019-11-29T09:57:38.788029Z",
     "start_time": "2019-11-29T09:57:38.707545Z"
    }
   },
   "outputs": [
    {
     "name": "stdout",
     "output_type": "stream",
     "text": [
      "264 µs ± 108 µs per loop (mean ± std. dev. of 5 runs, 20 loops each)\n"
     ]
    }
   ],
   "source": [
    "%timeit -n 20 -r 5 df['a']/df['b']\n",
    "#This is almost 100 times faster"
   ]
  },
  {
   "cell_type": "code",
   "execution_count": 12,
   "metadata": {
    "ExecuteTime": {
     "end_time": "2019-11-29T09:59:05.933117Z",
     "start_time": "2019-11-29T09:59:05.924396Z"
    }
   },
   "outputs": [
    {
     "data": {
      "text/plain": [
       "w    0.000000\n",
       "e    0.666667\n",
       "k    0.800000\n",
       "l    0.857143\n",
       "d    0.888889\n",
       "       ...   \n",
       "j    0.999498\n",
       "i    0.999498\n",
       "t    0.999499\n",
       "q    0.999499\n",
       "o    0.999500\n",
       "Length: 1000, dtype: float64"
      ]
     },
     "execution_count": 12,
     "metadata": {},
     "output_type": "execute_result"
    }
   ],
   "source": [
    "df['a']/df['b']"
   ]
  },
  {
   "cell_type": "code",
   "execution_count": 53,
   "metadata": {
    "ExecuteTime": {
     "end_time": "2019-11-29T09:58:53.297392Z",
     "start_time": "2019-11-29T09:58:53.285068Z"
    }
   },
   "outputs": [
    {
     "name": "stdout",
     "output_type": "stream",
     "text": [
      "The slowest run took 7.53 times longer than the fastest. This could mean that an intermediate result is being cached.\n",
      "29 µs ± 25.3 µs per loop (mean ± std. dev. of 5 runs, 20 loops each)\n"
     ]
    }
   ],
   "source": [
    "%timeit -n 20 -r 5 df['a'].values/df['b'].values\n",
    "#And this was almost instant, utilizing numpy-> In numpy, a and b are both in the same array, if they are the same dtype.\n",
    "#If they weren't the same dtype, it may return the same speed as the pandas vectorization."
   ]
  },
  {
   "cell_type": "code",
   "execution_count": 18,
   "metadata": {
    "ExecuteTime": {
     "end_time": "2019-11-29T09:59:19.328004Z",
     "start_time": "2019-11-29T09:59:19.303958Z"
    }
   },
   "outputs": [
    {
     "data": {
      "text/plain": [
       "array([0.        , 0.66666667, 0.8       , 0.85714286, 0.88888889,\n",
       "       0.90909091, 0.92307692, 0.93333333, 0.94117647, 0.94736842,\n",
       "       0.95238095, 0.95652174, 0.96      , 0.96296296, 0.96551724,\n",
       "       0.96774194, 0.96969697, 0.97142857, 0.97297297, 0.97435897,\n",
       "       0.97560976, 0.97674419, 0.97777778, 0.9787234 , 0.97959184,\n",
       "       0.98039216, 0.98113208, 0.98181818, 0.98245614, 0.98305085,\n",
       "       0.98360656, 0.98412698, 0.98461538, 0.98507463, 0.98550725,\n",
       "       0.98591549, 0.98630137, 0.98666667, 0.98701299, 0.98734177,\n",
       "       0.98765432, 0.98795181, 0.98823529, 0.98850575, 0.98876404,\n",
       "       0.98901099, 0.98924731, 0.98947368, 0.98969072, 0.98989899,\n",
       "       0.99009901, 0.99029126, 0.99047619, 0.99065421, 0.99082569,\n",
       "       0.99099099, 0.99115044, 0.99130435, 0.99145299, 0.99159664,\n",
       "       0.99173554, 0.99186992, 0.992     , 0.99212598, 0.99224806,\n",
       "       0.99236641, 0.9924812 , 0.99259259, 0.99270073, 0.99280576,\n",
       "       0.9929078 , 0.99300699, 0.99310345, 0.99319728, 0.99328859,\n",
       "       0.99337748, 0.99346405, 0.99354839, 0.99363057, 0.99371069,\n",
       "       0.99378882, 0.99386503, 0.99393939, 0.99401198, 0.99408284,\n",
       "       0.99415205, 0.99421965, 0.99428571, 0.99435028, 0.99441341,\n",
       "       0.99447514, 0.99453552, 0.99459459, 0.99465241, 0.99470899,\n",
       "       0.9947644 , 0.99481865, 0.99487179, 0.99492386, 0.99497487,\n",
       "       0.99502488, 0.99507389, 0.99512195, 0.99516908, 0.99521531,\n",
       "       0.99526066, 0.99530516, 0.99534884, 0.99539171, 0.99543379,\n",
       "       0.99547511, 0.9955157 , 0.99555556, 0.99559471, 0.99563319,\n",
       "       0.995671  , 0.99570815, 0.99574468, 0.99578059, 0.9958159 ,\n",
       "       0.99585062, 0.99588477, 0.99591837, 0.99595142, 0.99598394,\n",
       "       0.99601594, 0.99604743, 0.99607843, 0.99610895, 0.996139  ,\n",
       "       0.99616858, 0.99619772, 0.99622642, 0.99625468, 0.99628253,\n",
       "       0.99630996, 0.996337  , 0.99636364, 0.99638989, 0.99641577,\n",
       "       0.99644128, 0.99646643, 0.99649123, 0.99651568, 0.99653979,\n",
       "       0.99656357, 0.99658703, 0.99661017, 0.996633  , 0.99665552,\n",
       "       0.99667774, 0.99669967, 0.99672131, 0.99674267, 0.99676375,\n",
       "       0.99678457, 0.99680511, 0.9968254 , 0.99684543, 0.9968652 ,\n",
       "       0.99688474, 0.99690402, 0.99692308, 0.9969419 , 0.99696049,\n",
       "       0.99697885, 0.996997  , 0.99701493, 0.99703264, 0.99705015,\n",
       "       0.99706745, 0.99708455, 0.99710145, 0.99711816, 0.99713467,\n",
       "       0.997151  , 0.99716714, 0.9971831 , 0.99719888, 0.99721448,\n",
       "       0.99722992, 0.99724518, 0.99726027, 0.9972752 , 0.99728997,\n",
       "       0.99730458, 0.99731903, 0.99733333, 0.99734748, 0.99736148,\n",
       "       0.99737533, 0.99738903, 0.9974026 , 0.99741602, 0.99742931,\n",
       "       0.99744246, 0.99745547, 0.99746835, 0.99748111, 0.99749373,\n",
       "       0.99750623, 0.99751861, 0.99753086, 0.997543  , 0.99755501,\n",
       "       0.99756691, 0.99757869, 0.99759036, 0.99760192, 0.99761337,\n",
       "       0.9976247 , 0.99763593, 0.99764706, 0.99765808, 0.997669  ,\n",
       "       0.99767981, 0.99769053, 0.99770115, 0.99771167, 0.9977221 ,\n",
       "       0.99773243, 0.99774266, 0.99775281, 0.99776286, 0.99777283,\n",
       "       0.99778271, 0.99779249, 0.9978022 , 0.99781182, 0.99782135,\n",
       "       0.9978308 , 0.99784017, 0.99784946, 0.99785867, 0.9978678 ,\n",
       "       0.99787686, 0.99788584, 0.99789474, 0.99790356, 0.99791232,\n",
       "       0.997921  , 0.99792961, 0.99793814, 0.99794661, 0.99795501,\n",
       "       0.99796334, 0.9979716 , 0.9979798 , 0.99798793, 0.99799599,\n",
       "       0.99800399, 0.99801193, 0.9980198 , 0.99802761, 0.99803536,\n",
       "       0.99804305, 0.99805068, 0.99805825, 0.99806576, 0.99807322,\n",
       "       0.99808061, 0.99808795, 0.99809524, 0.99810247, 0.99810964,\n",
       "       0.99811676, 0.99812383, 0.99813084, 0.9981378 , 0.99814471,\n",
       "       0.99815157, 0.99815838, 0.99816514, 0.99817185, 0.99817851,\n",
       "       0.99818512, 0.99819168, 0.9981982 , 0.99820467, 0.99821109,\n",
       "       0.99821747, 0.9982238 , 0.99823009, 0.99823633, 0.99824253,\n",
       "       0.99824869, 0.9982548 , 0.99826087, 0.9982669 , 0.99827288,\n",
       "       0.99827883, 0.99828473, 0.9982906 , 0.99829642, 0.99830221,\n",
       "       0.99830795, 0.99831366, 0.99831933, 0.99832496, 0.99833055,\n",
       "       0.99833611, 0.99834163, 0.99834711, 0.99835255, 0.99835796,\n",
       "       0.99836334, 0.99836868, 0.99837398, 0.99837925, 0.99838449,\n",
       "       0.99838969, 0.99839486, 0.9984    , 0.9984051 , 0.99841017,\n",
       "       0.99841521, 0.99842022, 0.9984252 , 0.99843014, 0.99843505,\n",
       "       0.99843994, 0.99844479, 0.99844961, 0.9984544 , 0.99845917,\n",
       "       0.9984639 , 0.99846861, 0.99847328, 0.99847793, 0.99848255,\n",
       "       0.99848714, 0.9984917 , 0.99849624, 0.99850075, 0.99850523,\n",
       "       0.99850969, 0.99851412, 0.99851852, 0.9985229 , 0.99852725,\n",
       "       0.99853157, 0.99853587, 0.99854015, 0.9985444 , 0.99854862,\n",
       "       0.99855282, 0.998557  , 0.99856115, 0.99856528, 0.99856938,\n",
       "       0.99857347, 0.99857752, 0.99858156, 0.99858557, 0.99858956,\n",
       "       0.99859353, 0.99859748, 0.9986014 , 0.9986053 , 0.99860918,\n",
       "       0.99861304, 0.99861687, 0.99862069, 0.99862448, 0.99862826,\n",
       "       0.99863201, 0.99863574, 0.99863946, 0.99864315, 0.99864682,\n",
       "       0.99865047, 0.9986541 , 0.99865772, 0.99866131, 0.99866489,\n",
       "       0.99866844, 0.99867198, 0.9986755 , 0.998679  , 0.99868248,\n",
       "       0.99868594, 0.99868938, 0.99869281, 0.99869622, 0.99869961,\n",
       "       0.99870298, 0.99870634, 0.99870968, 0.998713  , 0.9987163 ,\n",
       "       0.99871959, 0.99872286, 0.99872611, 0.99872935, 0.99873257,\n",
       "       0.99873578, 0.99873897, 0.99874214, 0.99874529, 0.99874844,\n",
       "       0.99875156, 0.99875467, 0.99875776, 0.99876084, 0.99876391,\n",
       "       0.99876695, 0.99876999, 0.99877301, 0.99877601, 0.998779  ,\n",
       "       0.99878197, 0.99878493, 0.99878788, 0.99879081, 0.99879373,\n",
       "       0.99879663, 0.99879952, 0.9988024 , 0.99880526, 0.9988081 ,\n",
       "       0.99881094, 0.99881376, 0.99881657, 0.99881936, 0.99882214,\n",
       "       0.99882491, 0.99882767, 0.99883041, 0.99883314, 0.99883586,\n",
       "       0.99883856, 0.99884125, 0.99884393, 0.9988466 , 0.99884925,\n",
       "       0.99885189, 0.99885452, 0.99885714, 0.99885975, 0.99886234,\n",
       "       0.99886493, 0.9988675 , 0.99887006, 0.9988726 , 0.99887514,\n",
       "       0.99887767, 0.99888018, 0.99888268, 0.99888517, 0.99888765,\n",
       "       0.99889012, 0.99889258, 0.99889503, 0.99889746, 0.99889989,\n",
       "       0.99890231, 0.99890471, 0.9989071 , 0.99890949, 0.99891186,\n",
       "       0.99891422, 0.99891658, 0.99891892, 0.99892125, 0.99892357,\n",
       "       0.99892589, 0.99892819, 0.99893048, 0.99893276, 0.99893504,\n",
       "       0.9989373 , 0.99893955, 0.9989418 , 0.99894403, 0.99894626,\n",
       "       0.99894848, 0.99895068, 0.99895288, 0.99895507, 0.99895725,\n",
       "       0.99895942, 0.99896158, 0.99896373, 0.99896587, 0.99896801,\n",
       "       0.99897013, 0.99897225, 0.99897436, 0.99897646, 0.99897855,\n",
       "       0.99898063, 0.99898271, 0.99898477, 0.99898683, 0.99898888,\n",
       "       0.99899092, 0.99899295, 0.99899497, 0.99899699, 0.998999  ,\n",
       "       0.999001  , 0.99900299, 0.99900498, 0.99900695, 0.99900892,\n",
       "       0.99901088, 0.99901283, 0.99901478, 0.99901672, 0.99901865,\n",
       "       0.99902057, 0.99902248, 0.99902439, 0.99902629, 0.99902818,\n",
       "       0.99903007, 0.99903195, 0.99903382, 0.99903568, 0.99903754,\n",
       "       0.99903939, 0.99904123, 0.99904306, 0.99904489, 0.99904671,\n",
       "       0.99904853, 0.99905033, 0.99905213, 0.99905393, 0.99905571,\n",
       "       0.99905749, 0.99905927, 0.99906103, 0.99906279, 0.99906455,\n",
       "       0.99906629, 0.99906803, 0.99906977, 0.99907149, 0.99907322,\n",
       "       0.99907493, 0.99907664, 0.99907834, 0.99908004, 0.99908173,\n",
       "       0.99908341, 0.99908509, 0.99908676, 0.99908842, 0.99909008,\n",
       "       0.99909173, 0.99909338, 0.99909502, 0.99909666, 0.99909829,\n",
       "       0.99909991, 0.99910153, 0.99910314, 0.99910474, 0.99910634,\n",
       "       0.99910794, 0.99910953, 0.99911111, 0.99911269, 0.99911426,\n",
       "       0.99911583, 0.99911739, 0.99911894, 0.99912049, 0.99912204,\n",
       "       0.99912358, 0.99912511, 0.99912664, 0.99912816, 0.99912968,\n",
       "       0.99913119, 0.9991327 , 0.9991342 , 0.9991357 , 0.99913719,\n",
       "       0.99913867, 0.99914015, 0.99914163, 0.9991431 , 0.99914457,\n",
       "       0.99914603, 0.99914749, 0.99914894, 0.99915038, 0.99915182,\n",
       "       0.99915326, 0.99915469, 0.99915612, 0.99915754, 0.99915896,\n",
       "       0.99916037, 0.99916178, 0.99916318, 0.99916458, 0.99916597,\n",
       "       0.99916736, 0.99916874, 0.99917012, 0.9991715 , 0.99917287,\n",
       "       0.99917424, 0.9991756 , 0.99917695, 0.99917831, 0.99917966,\n",
       "       0.999181  , 0.99918234, 0.99918367, 0.999185  , 0.99918633,\n",
       "       0.99918765, 0.99918897, 0.99919028, 0.99919159, 0.9991929 ,\n",
       "       0.9991942 , 0.99919549, 0.99919679, 0.99919808, 0.99919936,\n",
       "       0.99920064, 0.99920192, 0.99920319, 0.99920446, 0.99920572,\n",
       "       0.99920698, 0.99920823, 0.99920949, 0.99921073, 0.99921198,\n",
       "       0.99921322, 0.99921445, 0.99921569, 0.99921691, 0.99921814,\n",
       "       0.99921936, 0.99922058, 0.99922179, 0.999223  , 0.9992242 ,\n",
       "       0.99922541, 0.9992266 , 0.9992278 , 0.99922899, 0.99923018,\n",
       "       0.99923136, 0.99923254, 0.99923372, 0.99923489, 0.99923606,\n",
       "       0.99923722, 0.99923839, 0.99923954, 0.9992407 , 0.99924185,\n",
       "       0.999243  , 0.99924414, 0.99924528, 0.99924642, 0.99924755,\n",
       "       0.99924869, 0.99924981, 0.99925094, 0.99925206, 0.99925317,\n",
       "       0.99925429, 0.9992554 , 0.99925651, 0.99925761, 0.99925871,\n",
       "       0.99925981, 0.9992609 , 0.99926199, 0.99926308, 0.99926416,\n",
       "       0.99926525, 0.99926632, 0.9992674 , 0.99926847, 0.99926954,\n",
       "       0.99927061, 0.99927167, 0.99927273, 0.99927378, 0.99927484,\n",
       "       0.99927589, 0.99927693, 0.99927798, 0.99927902, 0.99928006,\n",
       "       0.99928109, 0.99928212, 0.99928315, 0.99928418, 0.9992852 ,\n",
       "       0.99928622, 0.99928724, 0.99928826, 0.99928927, 0.99929028,\n",
       "       0.99929128, 0.99929229, 0.99929329, 0.99929428, 0.99929528,\n",
       "       0.99929627, 0.99929726, 0.99929825, 0.99929923, 0.99930021,\n",
       "       0.99930119, 0.99930216, 0.99930314, 0.99930411, 0.99930507,\n",
       "       0.99930604, 0.999307  , 0.99930796, 0.99930891, 0.99930987,\n",
       "       0.99931082, 0.99931177, 0.99931271, 0.99931366, 0.9993146 ,\n",
       "       0.99931554, 0.99931647, 0.99931741, 0.99931834, 0.99931926,\n",
       "       0.99932019, 0.99932111, 0.99932203, 0.99932295, 0.99932387,\n",
       "       0.99932478, 0.99932569, 0.9993266 , 0.99932751, 0.99932841,\n",
       "       0.99932931, 0.99933021, 0.9993311 , 0.999332  , 0.99933289,\n",
       "       0.99933378, 0.99933466, 0.99933555, 0.99933643, 0.99933731,\n",
       "       0.99933819, 0.99933906, 0.99933993, 0.9993408 , 0.99934167,\n",
       "       0.99934254, 0.9993434 , 0.99934426, 0.99934512, 0.99934598,\n",
       "       0.99934683, 0.99934768, 0.99934853, 0.99934938, 0.99935023,\n",
       "       0.99935107, 0.99935191, 0.99935275, 0.99935359, 0.99935442,\n",
       "       0.99935525, 0.99935608, 0.99935691, 0.99935774, 0.99935856,\n",
       "       0.99935939, 0.9993602 , 0.99936102, 0.99936184, 0.99936265,\n",
       "       0.99936346, 0.99936427, 0.99936508, 0.99936588, 0.99936669,\n",
       "       0.99936749, 0.99936829, 0.99936909, 0.99936988, 0.99937067,\n",
       "       0.99937146, 0.99937225, 0.99937304, 0.99937383, 0.99937461,\n",
       "       0.99937539, 0.99937617, 0.99937695, 0.99937772, 0.9993785 ,\n",
       "       0.99937927, 0.99938004, 0.9993808 , 0.99938157, 0.99938233,\n",
       "       0.9993831 , 0.99938386, 0.99938462, 0.99938537, 0.99938613,\n",
       "       0.99938688, 0.99938763, 0.99938838, 0.99938913, 0.99938987,\n",
       "       0.99939062, 0.99939136, 0.9993921 , 0.99939284, 0.99939357,\n",
       "       0.99939431, 0.99939504, 0.99939577, 0.9993965 , 0.99939723,\n",
       "       0.99939795, 0.99939868, 0.9993994 , 0.99940012, 0.99940084,\n",
       "       0.99940156, 0.99940227, 0.99940299, 0.9994037 , 0.99940441,\n",
       "       0.99940512, 0.99940582, 0.99940653, 0.99940723, 0.99940793,\n",
       "       0.99940863, 0.99940933, 0.99941003, 0.99941072, 0.99941142,\n",
       "       0.99941211, 0.9994128 , 0.99941349, 0.99941418, 0.99941486,\n",
       "       0.99941555, 0.99941623, 0.99941691, 0.99941759, 0.99941827,\n",
       "       0.99941894, 0.99941962, 0.99942029, 0.99942096, 0.99942163,\n",
       "       0.9994223 , 0.99942297, 0.99942363, 0.99942429, 0.99942496,\n",
       "       0.99942562, 0.99942628, 0.99942693, 0.99942759, 0.99942824,\n",
       "       0.9994289 , 0.99942955, 0.9994302 , 0.99943085, 0.9994315 ,\n",
       "       0.99943214, 0.99943279, 0.99943343, 0.99943407, 0.99943471,\n",
       "       0.99943535, 0.99943598, 0.99943662, 0.99943725, 0.99943789,\n",
       "       0.99943852, 0.99943915, 0.99943978, 0.9994404 , 0.99944103,\n",
       "       0.99944165, 0.99944228, 0.9994429 , 0.99944352, 0.99944414,\n",
       "       0.99944475, 0.99944537, 0.99944598, 0.9994466 , 0.99944721,\n",
       "       0.99944782, 0.99944843, 0.99944904, 0.99944964, 0.99945025,\n",
       "       0.99945085, 0.99945145, 0.99945205, 0.99945265, 0.99945325,\n",
       "       0.99945385, 0.99945445, 0.99945504, 0.99945563, 0.99945623,\n",
       "       0.99945682, 0.99945741, 0.99945799, 0.99945858, 0.99945917,\n",
       "       0.99945975, 0.99946033, 0.99946092, 0.9994615 , 0.99946208,\n",
       "       0.99946265, 0.99946323, 0.99946381, 0.99946438, 0.99946495,\n",
       "       0.99946553, 0.9994661 , 0.99946667, 0.99946723, 0.9994678 ,\n",
       "       0.99946837, 0.99946893, 0.9994695 , 0.99947006, 0.99947062,\n",
       "       0.99947118, 0.99947174, 0.9994723 , 0.99947285, 0.99947341,\n",
       "       0.99947396, 0.99947451, 0.99947507, 0.99947562, 0.99947617,\n",
       "       0.99947671, 0.99947726, 0.99947781, 0.99947835, 0.9994789 ,\n",
       "       0.99947944, 0.99947998, 0.99948052, 0.99948106, 0.9994816 ,\n",
       "       0.99948213, 0.99948267, 0.9994832 , 0.99948374, 0.99948427,\n",
       "       0.9994848 , 0.99948533, 0.99948586, 0.99948639, 0.99948692,\n",
       "       0.99948744, 0.99948797, 0.99948849, 0.99948901, 0.99948954,\n",
       "       0.99949006, 0.99949058, 0.99949109, 0.99949161, 0.99949213,\n",
       "       0.99949264, 0.99949316, 0.99949367, 0.99949418, 0.99949469,\n",
       "       0.9994952 , 0.99949571, 0.99949622, 0.99949673, 0.99949723,\n",
       "       0.99949774, 0.99949824, 0.99949875, 0.99949925, 0.99949975])"
      ]
     },
     "execution_count": 18,
     "metadata": {},
     "output_type": "execute_result"
    }
   ],
   "source": [
    "df['a'].values/df['b'].values"
   ]
  },
  {
   "cell_type": "markdown",
   "metadata": {},
   "source": [
    "Moral of the story-- Never use loops."
   ]
  },
  {
   "cell_type": "markdown",
   "metadata": {},
   "source": [
    "# Memory"
   ]
  },
  {
   "cell_type": "code",
   "execution_count": 54,
   "metadata": {
    "ExecuteTime": {
     "end_time": "2019-11-29T10:15:43.142791Z",
     "start_time": "2019-11-29T10:15:43.078684Z"
    }
   },
   "outputs": [
    {
     "data": {
      "text/html": [
       "<div>\n",
       "<style scoped>\n",
       "    .dataframe tbody tr th:only-of-type {\n",
       "        vertical-align: middle;\n",
       "    }\n",
       "\n",
       "    .dataframe tbody tr th {\n",
       "        vertical-align: top;\n",
       "    }\n",
       "\n",
       "    .dataframe thead th {\n",
       "        text-align: right;\n",
       "    }\n",
       "</style>\n",
       "<table border=\"1\" class=\"dataframe\">\n",
       "  <thead>\n",
       "    <tr style=\"text-align: right;\">\n",
       "      <th></th>\n",
       "      <th>Survived</th>\n",
       "      <th>Pclass</th>\n",
       "      <th>Name</th>\n",
       "      <th>Sex</th>\n",
       "      <th>Age</th>\n",
       "      <th>SibSp</th>\n",
       "      <th>Parch</th>\n",
       "      <th>Ticket</th>\n",
       "      <th>Fare</th>\n",
       "      <th>Cabin</th>\n",
       "      <th>Embarked</th>\n",
       "    </tr>\n",
       "    <tr>\n",
       "      <th>PassengerId</th>\n",
       "      <th></th>\n",
       "      <th></th>\n",
       "      <th></th>\n",
       "      <th></th>\n",
       "      <th></th>\n",
       "      <th></th>\n",
       "      <th></th>\n",
       "      <th></th>\n",
       "      <th></th>\n",
       "      <th></th>\n",
       "      <th></th>\n",
       "    </tr>\n",
       "  </thead>\n",
       "  <tbody>\n",
       "    <tr>\n",
       "      <th>1</th>\n",
       "      <td>0.0</td>\n",
       "      <td>3</td>\n",
       "      <td>Braund, Mr. Owen Harris</td>\n",
       "      <td>male</td>\n",
       "      <td>22.0</td>\n",
       "      <td>1</td>\n",
       "      <td>0</td>\n",
       "      <td>A/5 21171</td>\n",
       "      <td>7.2500</td>\n",
       "      <td>NaN</td>\n",
       "      <td>S</td>\n",
       "    </tr>\n",
       "    <tr>\n",
       "      <th>2</th>\n",
       "      <td>1.0</td>\n",
       "      <td>1</td>\n",
       "      <td>Cumings, Mrs. John Bradley (Florence Briggs Th...</td>\n",
       "      <td>female</td>\n",
       "      <td>38.0</td>\n",
       "      <td>1</td>\n",
       "      <td>0</td>\n",
       "      <td>PC 17599</td>\n",
       "      <td>71.2833</td>\n",
       "      <td>C85</td>\n",
       "      <td>C</td>\n",
       "    </tr>\n",
       "    <tr>\n",
       "      <th>3</th>\n",
       "      <td>1.0</td>\n",
       "      <td>3</td>\n",
       "      <td>Heikkinen, Miss. Laina</td>\n",
       "      <td>female</td>\n",
       "      <td>26.0</td>\n",
       "      <td>0</td>\n",
       "      <td>0</td>\n",
       "      <td>STON/O2. 3101282</td>\n",
       "      <td>7.9250</td>\n",
       "      <td>NaN</td>\n",
       "      <td>S</td>\n",
       "    </tr>\n",
       "    <tr>\n",
       "      <th>4</th>\n",
       "      <td>1.0</td>\n",
       "      <td>1</td>\n",
       "      <td>Futrelle, Mrs. Jacques Heath (Lily May Peel)</td>\n",
       "      <td>female</td>\n",
       "      <td>35.0</td>\n",
       "      <td>1</td>\n",
       "      <td>0</td>\n",
       "      <td>113803</td>\n",
       "      <td>53.1000</td>\n",
       "      <td>C123</td>\n",
       "      <td>S</td>\n",
       "    </tr>\n",
       "    <tr>\n",
       "      <th>5</th>\n",
       "      <td>0.0</td>\n",
       "      <td>3</td>\n",
       "      <td>Allen, Mr. William Henry</td>\n",
       "      <td>male</td>\n",
       "      <td>35.0</td>\n",
       "      <td>0</td>\n",
       "      <td>0</td>\n",
       "      <td>373450</td>\n",
       "      <td>8.0500</td>\n",
       "      <td>NaN</td>\n",
       "      <td>S</td>\n",
       "    </tr>\n",
       "  </tbody>\n",
       "</table>\n",
       "</div>"
      ],
      "text/plain": [
       "             Survived  Pclass  \\\n",
       "PassengerId                     \n",
       "1                 0.0       3   \n",
       "2                 1.0       1   \n",
       "3                 1.0       3   \n",
       "4                 1.0       1   \n",
       "5                 0.0       3   \n",
       "\n",
       "                                                          Name     Sex   Age  \\\n",
       "PassengerId                                                                    \n",
       "1                                      Braund, Mr. Owen Harris    male  22.0   \n",
       "2            Cumings, Mrs. John Bradley (Florence Briggs Th...  female  38.0   \n",
       "3                                       Heikkinen, Miss. Laina  female  26.0   \n",
       "4                 Futrelle, Mrs. Jacques Heath (Lily May Peel)  female  35.0   \n",
       "5                                     Allen, Mr. William Henry    male  35.0   \n",
       "\n",
       "             SibSp  Parch            Ticket     Fare Cabin Embarked  \n",
       "PassengerId                                                          \n",
       "1                1      0         A/5 21171   7.2500   NaN        S  \n",
       "2                1      0          PC 17599  71.2833   C85        C  \n",
       "3                0      0  STON/O2. 3101282   7.9250   NaN        S  \n",
       "4                1      0            113803  53.1000  C123        S  \n",
       "5                0      0            373450   8.0500   NaN        S  "
      ]
     },
     "execution_count": 54,
     "metadata": {},
     "output_type": "execute_result"
    }
   ],
   "source": [
    "titanic_train = pd.read_csv(\"train.csv\", index_col=\"PassengerId\")\n",
    "titanic_test = pd.read_csv(\"test.csv\", index_col=\"PassengerId\")\n",
    "titanic = pd.concat([titanic_train, titanic_test], sort=False)\n",
    "\n",
    "titanic.head(5)"
   ]
  },
  {
   "cell_type": "code",
   "execution_count": 55,
   "metadata": {
    "ExecuteTime": {
     "end_time": "2019-11-29T10:16:02.794080Z",
     "start_time": "2019-11-29T10:16:02.776517Z"
    }
   },
   "outputs": [
    {
     "data": {
      "text/plain": [
       "Survived    float64\n",
       "Pclass        int64\n",
       "Name         object\n",
       "Sex          object\n",
       "Age         float64\n",
       "SibSp         int64\n",
       "Parch         int64\n",
       "Ticket       object\n",
       "Fare        float64\n",
       "Cabin        object\n",
       "Embarked     object\n",
       "dtype: object"
      ]
     },
     "execution_count": 55,
     "metadata": {},
     "output_type": "execute_result"
    }
   ],
   "source": [
    "titanic.dtypes #Alof of inneficiency comes from the data types used to store our data. For example, no reason Pclass neads to be an int64"
   ]
  },
  {
   "cell_type": "code",
   "execution_count": 56,
   "metadata": {
    "ExecuteTime": {
     "end_time": "2019-11-29T10:17:11.460872Z",
     "start_time": "2019-11-29T10:17:11.426914Z"
    }
   },
   "outputs": [
    {
     "name": "stdout",
     "output_type": "stream",
     "text": [
      "<class 'pandas.core.frame.DataFrame'>\n",
      "Int64Index: 1309 entries, 1 to 1309\n",
      "Data columns (total 11 columns):\n",
      " #   Column    Non-Null Count  Dtype  \n",
      "---  ------    --------------  -----  \n",
      " 0   Survived  891 non-null    float64\n",
      " 1   Pclass    1309 non-null   int64  \n",
      " 2   Name      1309 non-null   object \n",
      " 3   Sex       1309 non-null   object \n",
      " 4   Age       1046 non-null   float64\n",
      " 5   SibSp     1309 non-null   int64  \n",
      " 6   Parch     1309 non-null   int64  \n",
      " 7   Ticket    1309 non-null   object \n",
      " 8   Fare      1308 non-null   float64\n",
      " 9   Cabin     295 non-null    object \n",
      " 10  Embarked  1307 non-null   object \n",
      "dtypes: float64(3), int64(3), object(5)\n",
      "memory usage: 462.8 KB\n"
     ]
    }
   ],
   "source": [
    "titanic.info(memory_usage=\"deep\")"
   ]
  },
  {
   "cell_type": "markdown",
   "metadata": {},
   "source": [
    "Our memory is small, but so is our data. With larger data sets, we may need to cut down this memory usage"
   ]
  },
  {
   "cell_type": "code",
   "execution_count": 57,
   "metadata": {
    "ExecuteTime": {
     "end_time": "2019-11-29T10:18:09.033904Z",
     "start_time": "2019-11-29T10:18:09.022854Z"
    }
   },
   "outputs": [],
   "source": [
    "titanic[\"Pclass\"] = pd.to_numeric(titanic[\"Pclass\"], downcast=\"unsigned\") #Downcast as much as possible, and make it unsigned (never going to be negative)"
   ]
  },
  {
   "cell_type": "code",
   "execution_count": 58,
   "metadata": {
    "ExecuteTime": {
     "end_time": "2019-11-29T10:18:16.695774Z",
     "start_time": "2019-11-29T10:18:16.687786Z"
    }
   },
   "outputs": [
    {
     "data": {
      "text/plain": [
       "Survived    float64\n",
       "Pclass        uint8\n",
       "Name         object\n",
       "Sex          object\n",
       "Age         float64\n",
       "SibSp         int64\n",
       "Parch         int64\n",
       "Ticket       object\n",
       "Fare        float64\n",
       "Cabin        object\n",
       "Embarked     object\n",
       "dtype: object"
      ]
     },
     "execution_count": 58,
     "metadata": {},
     "output_type": "execute_result"
    }
   ],
   "source": [
    "titanic.dtypes"
   ]
  },
  {
   "cell_type": "code",
   "execution_count": 59,
   "metadata": {
    "ExecuteTime": {
     "end_time": "2019-11-29T10:19:10.616374Z",
     "start_time": "2019-11-29T10:19:10.588055Z"
    }
   },
   "outputs": [
    {
     "name": "stdout",
     "output_type": "stream",
     "text": [
      "<class 'pandas.core.frame.DataFrame'>\n",
      "Int64Index: 1309 entries, 1 to 1309\n",
      "Data columns (total 11 columns):\n",
      " #   Column    Non-Null Count  Dtype  \n",
      "---  ------    --------------  -----  \n",
      " 0   Survived  891 non-null    float64\n",
      " 1   Pclass    1309 non-null   uint8  \n",
      " 2   Name      1309 non-null   object \n",
      " 3   Sex       1309 non-null   object \n",
      " 4   Age       1046 non-null   float64\n",
      " 5   SibSp     1309 non-null   int64  \n",
      " 6   Parch     1309 non-null   int64  \n",
      " 7   Ticket    1309 non-null   object \n",
      " 8   Fare      1308 non-null   float64\n",
      " 9   Cabin     295 non-null    object \n",
      " 10  Embarked  1307 non-null   object \n",
      "dtypes: float64(3), int64(2), object(5), uint8(1)\n",
      "memory usage: 453.9 KB\n"
     ]
    }
   ],
   "source": [
    "titanic.info(memory_usage=\"deep\")"
   ]
  },
  {
   "cell_type": "markdown",
   "metadata": {},
   "source": [
    "Didn't make such a big dent in our memory"
   ]
  },
  {
   "cell_type": "code",
   "execution_count": 60,
   "metadata": {
    "ExecuteTime": {
     "end_time": "2019-11-26T17:31:02.414109Z",
     "start_time": "2019-11-26T17:31:02.395722Z"
    }
   },
   "outputs": [],
   "source": [
    "titanic[\"SibSp\"] = pd.to_numeric(titanic[\"SibSp\"], downcast=\"unsigned\")\n",
    "titanic[\"Parch\"] = pd.to_numeric(titanic[\"Parch\"], downcast=\"unsigned\")"
   ]
  },
  {
   "cell_type": "code",
   "execution_count": 61,
   "metadata": {
    "ExecuteTime": {
     "end_time": "2019-11-26T17:31:03.583705Z",
     "start_time": "2019-11-26T17:31:03.540252Z"
    }
   },
   "outputs": [
    {
     "name": "stdout",
     "output_type": "stream",
     "text": [
      "<class 'pandas.core.frame.DataFrame'>\n",
      "Int64Index: 1309 entries, 1 to 1309\n",
      "Data columns (total 11 columns):\n",
      " #   Column    Non-Null Count  Dtype  \n",
      "---  ------    --------------  -----  \n",
      " 0   Survived  891 non-null    float64\n",
      " 1   Pclass    1309 non-null   uint8  \n",
      " 2   Name      1309 non-null   object \n",
      " 3   Sex       1309 non-null   object \n",
      " 4   Age       1046 non-null   float64\n",
      " 5   SibSp     1309 non-null   uint8  \n",
      " 6   Parch     1309 non-null   uint8  \n",
      " 7   Ticket    1309 non-null   object \n",
      " 8   Fare      1308 non-null   float64\n",
      " 9   Cabin     295 non-null    object \n",
      " 10  Embarked  1307 non-null   object \n",
      "dtypes: float64(3), object(5), uint8(3)\n",
      "memory usage: 436.0 KB\n"
     ]
    }
   ],
   "source": [
    "titanic.info(memory_usage=\"deep\")"
   ]
  },
  {
   "cell_type": "markdown",
   "metadata": {},
   "source": [
    "## How to read it with correct `dtype`s right away?"
   ]
  },
  {
   "cell_type": "code",
   "execution_count": 62,
   "metadata": {
    "ExecuteTime": {
     "end_time": "2019-11-29T10:21:52.922488Z",
     "start_time": "2019-11-29T10:21:52.836353Z"
    }
   },
   "outputs": [
    {
     "name": "stdout",
     "output_type": "stream",
     "text": [
      "<class 'pandas.core.frame.DataFrame'>\n",
      "Int64Index: 1309 entries, 1 to 1309\n",
      "Data columns (total 11 columns):\n",
      " #   Column    Non-Null Count  Dtype  \n",
      "---  ------    --------------  -----  \n",
      " 0   Survived  891 non-null    float32\n",
      " 1   Pclass    1309 non-null   uint8  \n",
      " 2   Name      1309 non-null   object \n",
      " 3   Sex       1309 non-null   int64  \n",
      " 4   Age       1046 non-null   float32\n",
      " 5   SibSp     1309 non-null   uint8  \n",
      " 6   Parch     1309 non-null   uint8  \n",
      " 7   Ticket    1309 non-null   object \n",
      " 8   Fare      1308 non-null   float32\n",
      " 9   Cabin     295 non-null    object \n",
      " 10  Embarked  1309 non-null   int64  \n",
      "dtypes: float32(3), int64(2), object(3), uint8(3)\n",
      "memory usage: 288.1 KB\n"
     ]
    }
   ],
   "source": [
    "titanic_train_trunc = pd.read_csv(\"train.csv\", index_col=\"PassengerId\",\n",
    "                                  dtype={\"Pclass\":np.uint8,\n",
    "                                         \"SibSp\":np.uint8,\n",
    "                                         \"Parch\":np.uint8,\n",
    "                                         \"Survived\":np.float32,\n",
    "                                         \"Age\":np.float32,\n",
    "                                         \"Fare\":np.float32},\n",
    "                                  converters={\"Sex\": lambda x: (np.uint8(1)\n",
    "                                                                if x==\"female\" else np.uint8(0)),\n",
    "                                              \"Embarked\": lambda x: 0 if x==\"S\" else (1 if x==\"C\" else 2)})\n",
    "titanic_test_trunc = pd.read_csv(\"test.csv\", index_col=\"PassengerId\",\n",
    "                                 dtype={\"Pclass\":np.uint8,\n",
    "                                        \"SibSp\":np.uint8,\n",
    "                                        \"Parch\":np.uint8,\n",
    "                                        \"Survived\":np.float32,\n",
    "                                        \"Age\":np.float32,\n",
    "                                        \"Fare\":np.float32},\n",
    "                                 converters={\"Sex\": lambda x: np.uint8(1) if x==\"female\" else np.uint8(0),\n",
    "                                             \"Embarked\": lambda x: 0 if x==\"S\" else (1 if x==\"C\" else 2)})\n",
    "titanic_trunc = pd.concat([titanic_train_trunc, titanic_test_trunc], sort=False)\n",
    "\n",
    "titanic_trunc.info(memory_usage=\"deep\")"
   ]
  },
  {
   "cell_type": "markdown",
   "metadata": {},
   "source": [
    "THe memory is almost half the size that it was before"
   ]
  },
  {
   "cell_type": "code",
   "execution_count": 63,
   "metadata": {
    "ExecuteTime": {
     "end_time": "2019-11-29T10:23:17.497613Z",
     "start_time": "2019-11-29T10:23:17.462134Z"
    }
   },
   "outputs": [
    {
     "data": {
      "text/html": [
       "<div>\n",
       "<style scoped>\n",
       "    .dataframe tbody tr th:only-of-type {\n",
       "        vertical-align: middle;\n",
       "    }\n",
       "\n",
       "    .dataframe tbody tr th {\n",
       "        vertical-align: top;\n",
       "    }\n",
       "\n",
       "    .dataframe thead th {\n",
       "        text-align: right;\n",
       "    }\n",
       "</style>\n",
       "<table border=\"1\" class=\"dataframe\">\n",
       "  <thead>\n",
       "    <tr style=\"text-align: right;\">\n",
       "      <th></th>\n",
       "      <th>Pclass</th>\n",
       "      <th>SibSp</th>\n",
       "      <th>Parch</th>\n",
       "    </tr>\n",
       "    <tr>\n",
       "      <th>PassengerId</th>\n",
       "      <th></th>\n",
       "      <th></th>\n",
       "      <th></th>\n",
       "    </tr>\n",
       "  </thead>\n",
       "  <tbody>\n",
       "    <tr>\n",
       "      <th>1</th>\n",
       "      <td>3</td>\n",
       "      <td>1</td>\n",
       "      <td>0</td>\n",
       "    </tr>\n",
       "    <tr>\n",
       "      <th>2</th>\n",
       "      <td>1</td>\n",
       "      <td>1</td>\n",
       "      <td>0</td>\n",
       "    </tr>\n",
       "    <tr>\n",
       "      <th>3</th>\n",
       "      <td>3</td>\n",
       "      <td>0</td>\n",
       "      <td>0</td>\n",
       "    </tr>\n",
       "    <tr>\n",
       "      <th>4</th>\n",
       "      <td>1</td>\n",
       "      <td>1</td>\n",
       "      <td>0</td>\n",
       "    </tr>\n",
       "    <tr>\n",
       "      <th>5</th>\n",
       "      <td>3</td>\n",
       "      <td>0</td>\n",
       "      <td>0</td>\n",
       "    </tr>\n",
       "  </tbody>\n",
       "</table>\n",
       "</div>"
      ],
      "text/plain": [
       "             Pclass  SibSp  Parch\n",
       "PassengerId                      \n",
       "1                 3      1      0\n",
       "2                 1      1      0\n",
       "3                 3      0      0\n",
       "4                 1      1      0\n",
       "5                 3      0      0"
      ]
     },
     "execution_count": 63,
     "metadata": {},
     "output_type": "execute_result"
    }
   ],
   "source": [
    "titanic_trunc.select_dtypes(np.uint8).head()"
   ]
  },
  {
   "cell_type": "code",
   "execution_count": 64,
   "metadata": {
    "ExecuteTime": {
     "end_time": "2019-11-29T10:24:04.198123Z",
     "start_time": "2019-11-29T10:24:04.114013Z"
    }
   },
   "outputs": [
    {
     "data": {
      "text/html": [
       "<div>\n",
       "<style scoped>\n",
       "    .dataframe tbody tr th:only-of-type {\n",
       "        vertical-align: middle;\n",
       "    }\n",
       "\n",
       "    .dataframe tbody tr th {\n",
       "        vertical-align: top;\n",
       "    }\n",
       "\n",
       "    .dataframe thead th {\n",
       "        text-align: right;\n",
       "    }\n",
       "</style>\n",
       "<table border=\"1\" class=\"dataframe\">\n",
       "  <thead>\n",
       "    <tr style=\"text-align: right;\">\n",
       "      <th></th>\n",
       "      <th>Survived</th>\n",
       "      <th>Pclass</th>\n",
       "      <th>Name</th>\n",
       "      <th>Sex</th>\n",
       "      <th>Age</th>\n",
       "      <th>SibSp</th>\n",
       "      <th>Parch</th>\n",
       "      <th>Ticket</th>\n",
       "      <th>Fare</th>\n",
       "      <th>Cabin</th>\n",
       "      <th>Embarked</th>\n",
       "    </tr>\n",
       "    <tr>\n",
       "      <th>PassengerId</th>\n",
       "      <th></th>\n",
       "      <th></th>\n",
       "      <th></th>\n",
       "      <th></th>\n",
       "      <th></th>\n",
       "      <th></th>\n",
       "      <th></th>\n",
       "      <th></th>\n",
       "      <th></th>\n",
       "      <th></th>\n",
       "      <th></th>\n",
       "    </tr>\n",
       "  </thead>\n",
       "  <tbody>\n",
       "    <tr>\n",
       "      <th>1</th>\n",
       "      <td>0.0</td>\n",
       "      <td>3</td>\n",
       "      <td>Braund, Mr. Owen Harris</td>\n",
       "      <td>0</td>\n",
       "      <td>22.0</td>\n",
       "      <td>1</td>\n",
       "      <td>0</td>\n",
       "      <td>A/5 21171</td>\n",
       "      <td>7.250000</td>\n",
       "      <td>NaN</td>\n",
       "      <td>0</td>\n",
       "    </tr>\n",
       "    <tr>\n",
       "      <th>2</th>\n",
       "      <td>1.0</td>\n",
       "      <td>1</td>\n",
       "      <td>Cumings, Mrs. John Bradley (Florence Briggs Th...</td>\n",
       "      <td>1</td>\n",
       "      <td>38.0</td>\n",
       "      <td>1</td>\n",
       "      <td>0</td>\n",
       "      <td>PC 17599</td>\n",
       "      <td>71.283302</td>\n",
       "      <td>C85</td>\n",
       "      <td>1</td>\n",
       "    </tr>\n",
       "    <tr>\n",
       "      <th>3</th>\n",
       "      <td>1.0</td>\n",
       "      <td>3</td>\n",
       "      <td>Heikkinen, Miss. Laina</td>\n",
       "      <td>1</td>\n",
       "      <td>26.0</td>\n",
       "      <td>0</td>\n",
       "      <td>0</td>\n",
       "      <td>STON/O2. 3101282</td>\n",
       "      <td>7.925000</td>\n",
       "      <td>NaN</td>\n",
       "      <td>0</td>\n",
       "    </tr>\n",
       "    <tr>\n",
       "      <th>4</th>\n",
       "      <td>1.0</td>\n",
       "      <td>1</td>\n",
       "      <td>Futrelle, Mrs. Jacques Heath (Lily May Peel)</td>\n",
       "      <td>1</td>\n",
       "      <td>35.0</td>\n",
       "      <td>1</td>\n",
       "      <td>0</td>\n",
       "      <td>113803</td>\n",
       "      <td>53.099998</td>\n",
       "      <td>C123</td>\n",
       "      <td>0</td>\n",
       "    </tr>\n",
       "    <tr>\n",
       "      <th>5</th>\n",
       "      <td>0.0</td>\n",
       "      <td>3</td>\n",
       "      <td>Allen, Mr. William Henry</td>\n",
       "      <td>0</td>\n",
       "      <td>35.0</td>\n",
       "      <td>0</td>\n",
       "      <td>0</td>\n",
       "      <td>373450</td>\n",
       "      <td>8.050000</td>\n",
       "      <td>NaN</td>\n",
       "      <td>0</td>\n",
       "    </tr>\n",
       "    <tr>\n",
       "      <th>...</th>\n",
       "      <td>...</td>\n",
       "      <td>...</td>\n",
       "      <td>...</td>\n",
       "      <td>...</td>\n",
       "      <td>...</td>\n",
       "      <td>...</td>\n",
       "      <td>...</td>\n",
       "      <td>...</td>\n",
       "      <td>...</td>\n",
       "      <td>...</td>\n",
       "      <td>...</td>\n",
       "    </tr>\n",
       "    <tr>\n",
       "      <th>1305</th>\n",
       "      <td>NaN</td>\n",
       "      <td>3</td>\n",
       "      <td>Spector, Mr. Woolf</td>\n",
       "      <td>0</td>\n",
       "      <td>NaN</td>\n",
       "      <td>0</td>\n",
       "      <td>0</td>\n",
       "      <td>A.5. 3236</td>\n",
       "      <td>8.050000</td>\n",
       "      <td>NaN</td>\n",
       "      <td>0</td>\n",
       "    </tr>\n",
       "    <tr>\n",
       "      <th>1306</th>\n",
       "      <td>NaN</td>\n",
       "      <td>1</td>\n",
       "      <td>Oliva y Ocana, Dona. Fermina</td>\n",
       "      <td>1</td>\n",
       "      <td>39.0</td>\n",
       "      <td>0</td>\n",
       "      <td>0</td>\n",
       "      <td>PC 17758</td>\n",
       "      <td>108.900002</td>\n",
       "      <td>C105</td>\n",
       "      <td>1</td>\n",
       "    </tr>\n",
       "    <tr>\n",
       "      <th>1307</th>\n",
       "      <td>NaN</td>\n",
       "      <td>3</td>\n",
       "      <td>Saether, Mr. Simon Sivertsen</td>\n",
       "      <td>0</td>\n",
       "      <td>38.5</td>\n",
       "      <td>0</td>\n",
       "      <td>0</td>\n",
       "      <td>SOTON/O.Q. 3101262</td>\n",
       "      <td>7.250000</td>\n",
       "      <td>NaN</td>\n",
       "      <td>0</td>\n",
       "    </tr>\n",
       "    <tr>\n",
       "      <th>1308</th>\n",
       "      <td>NaN</td>\n",
       "      <td>3</td>\n",
       "      <td>Ware, Mr. Frederick</td>\n",
       "      <td>0</td>\n",
       "      <td>NaN</td>\n",
       "      <td>0</td>\n",
       "      <td>0</td>\n",
       "      <td>359309</td>\n",
       "      <td>8.050000</td>\n",
       "      <td>NaN</td>\n",
       "      <td>0</td>\n",
       "    </tr>\n",
       "    <tr>\n",
       "      <th>1309</th>\n",
       "      <td>NaN</td>\n",
       "      <td>3</td>\n",
       "      <td>Peter, Master. Michael J</td>\n",
       "      <td>0</td>\n",
       "      <td>NaN</td>\n",
       "      <td>1</td>\n",
       "      <td>1</td>\n",
       "      <td>2668</td>\n",
       "      <td>22.358299</td>\n",
       "      <td>NaN</td>\n",
       "      <td>1</td>\n",
       "    </tr>\n",
       "  </tbody>\n",
       "</table>\n",
       "<p>1309 rows × 11 columns</p>\n",
       "</div>"
      ],
      "text/plain": [
       "             Survived  Pclass  \\\n",
       "PassengerId                     \n",
       "1                 0.0       3   \n",
       "2                 1.0       1   \n",
       "3                 1.0       3   \n",
       "4                 1.0       1   \n",
       "5                 0.0       3   \n",
       "...               ...     ...   \n",
       "1305              NaN       3   \n",
       "1306              NaN       1   \n",
       "1307              NaN       3   \n",
       "1308              NaN       3   \n",
       "1309              NaN       3   \n",
       "\n",
       "                                                          Name  Sex   Age  \\\n",
       "PassengerId                                                                 \n",
       "1                                      Braund, Mr. Owen Harris    0  22.0   \n",
       "2            Cumings, Mrs. John Bradley (Florence Briggs Th...    1  38.0   \n",
       "3                                       Heikkinen, Miss. Laina    1  26.0   \n",
       "4                 Futrelle, Mrs. Jacques Heath (Lily May Peel)    1  35.0   \n",
       "5                                     Allen, Mr. William Henry    0  35.0   \n",
       "...                                                        ...  ...   ...   \n",
       "1305                                        Spector, Mr. Woolf    0   NaN   \n",
       "1306                              Oliva y Ocana, Dona. Fermina    1  39.0   \n",
       "1307                              Saether, Mr. Simon Sivertsen    0  38.5   \n",
       "1308                                       Ware, Mr. Frederick    0   NaN   \n",
       "1309                                  Peter, Master. Michael J    0   NaN   \n",
       "\n",
       "             SibSp  Parch              Ticket        Fare Cabin  Embarked  \n",
       "PassengerId                                                                \n",
       "1                1      0           A/5 21171    7.250000   NaN         0  \n",
       "2                1      0            PC 17599   71.283302   C85         1  \n",
       "3                0      0    STON/O2. 3101282    7.925000   NaN         0  \n",
       "4                1      0              113803   53.099998  C123         0  \n",
       "5                0      0              373450    8.050000   NaN         0  \n",
       "...            ...    ...                 ...         ...   ...       ...  \n",
       "1305             0      0           A.5. 3236    8.050000   NaN         0  \n",
       "1306             0      0            PC 17758  108.900002  C105         1  \n",
       "1307             0      0  SOTON/O.Q. 3101262    7.250000   NaN         0  \n",
       "1308             0      0              359309    8.050000   NaN         0  \n",
       "1309             1      1                2668   22.358299   NaN         1  \n",
       "\n",
       "[1309 rows x 11 columns]"
      ]
     },
     "execution_count": 64,
     "metadata": {},
     "output_type": "execute_result"
    }
   ],
   "source": [
    "titanic_trunc"
   ]
  },
  {
   "cell_type": "code",
   "execution_count": null,
   "metadata": {},
   "outputs": [],
   "source": []
  }
 ],
 "metadata": {
  "@webio": {
   "lastCommId": null,
   "lastKernelId": null
  },
  "kernelspec": {
   "display_name": "Python 3",
   "language": "python",
   "name": "python3"
  },
  "language_info": {
   "codemirror_mode": {
    "name": "ipython",
    "version": 3
   },
   "file_extension": ".py",
   "mimetype": "text/x-python",
   "name": "python",
   "nbconvert_exporter": "python",
   "pygments_lexer": "ipython3",
   "version": "3.9.1"
  }
 },
 "nbformat": 4,
 "nbformat_minor": 2
}
