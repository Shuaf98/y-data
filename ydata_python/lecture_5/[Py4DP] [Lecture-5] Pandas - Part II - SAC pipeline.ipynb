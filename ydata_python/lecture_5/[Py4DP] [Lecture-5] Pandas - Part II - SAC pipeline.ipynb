{
 "cells": [
  {
   "cell_type": "markdown",
   "metadata": {},
   "source": [
    "# Advanced `pandas`\n",
    "\n",
    "The following notebook is dedicated to more advanved opeartions in Pandas:\n",
    "\n",
    "- `split-apply-combine` pipeline,\n",
    "- operations on string columns (string operations, replacement),\n",
    "- joins on Pandas dataframes."
   ]
  },
  {
   "cell_type": "code",
   "execution_count": 1,
   "metadata": {
    "ExecuteTime": {
     "end_time": "2019-12-12T07:43:16.491934Z",
     "start_time": "2019-12-12T07:43:15.943849Z"
    }
   },
   "outputs": [
    {
     "name": "stdout",
     "output_type": "stream",
     "text": [
      "Populating the interactive namespace from numpy and matplotlib\n"
     ]
    }
   ],
   "source": [
    "%pylab inline\n",
    "plt.style.use(\"bmh\")"
   ]
  },
  {
   "cell_type": "code",
   "execution_count": 2,
   "metadata": {
    "ExecuteTime": {
     "end_time": "2019-12-12T07:43:16.820457Z",
     "start_time": "2019-12-12T07:43:16.496128Z"
    }
   },
   "outputs": [],
   "source": [
    "import numpy as np\n",
    "import pandas as pd"
   ]
  },
  {
   "cell_type": "code",
   "execution_count": 3,
   "metadata": {
    "ExecuteTime": {
     "end_time": "2019-12-12T07:43:17.834408Z",
     "start_time": "2019-12-12T07:43:17.804296Z"
    }
   },
   "outputs": [],
   "source": [
    "titanic_train = pd.read_csv(\"train.csv\", index_col=\"PassengerId\")\n",
    "titanic_test = pd.read_csv(\"test.csv\", index_col=\"PassengerId\")\n",
    "titanic = pd.concat([titanic_train, titanic_test], sort=False)"
   ]
  },
  {
   "cell_type": "code",
   "execution_count": 4,
   "metadata": {
    "ExecuteTime": {
     "end_time": "2019-12-12T07:43:18.522469Z",
     "start_time": "2019-12-12T07:43:18.487798Z"
    }
   },
   "outputs": [
    {
     "data": {
      "text/html": [
       "<div>\n",
       "<style scoped>\n",
       "    .dataframe tbody tr th:only-of-type {\n",
       "        vertical-align: middle;\n",
       "    }\n",
       "\n",
       "    .dataframe tbody tr th {\n",
       "        vertical-align: top;\n",
       "    }\n",
       "\n",
       "    .dataframe thead th {\n",
       "        text-align: right;\n",
       "    }\n",
       "</style>\n",
       "<table border=\"1\" class=\"dataframe\">\n",
       "  <thead>\n",
       "    <tr style=\"text-align: right;\">\n",
       "      <th></th>\n",
       "      <th>Survived</th>\n",
       "      <th>Pclass</th>\n",
       "      <th>Name</th>\n",
       "      <th>Sex</th>\n",
       "      <th>Age</th>\n",
       "      <th>SibSp</th>\n",
       "      <th>Parch</th>\n",
       "      <th>Ticket</th>\n",
       "      <th>Fare</th>\n",
       "      <th>Cabin</th>\n",
       "      <th>Embarked</th>\n",
       "    </tr>\n",
       "    <tr>\n",
       "      <th>PassengerId</th>\n",
       "      <th></th>\n",
       "      <th></th>\n",
       "      <th></th>\n",
       "      <th></th>\n",
       "      <th></th>\n",
       "      <th></th>\n",
       "      <th></th>\n",
       "      <th></th>\n",
       "      <th></th>\n",
       "      <th></th>\n",
       "      <th></th>\n",
       "    </tr>\n",
       "  </thead>\n",
       "  <tbody>\n",
       "    <tr>\n",
       "      <th>1</th>\n",
       "      <td>0.0</td>\n",
       "      <td>3</td>\n",
       "      <td>Braund, Mr. Owen Harris</td>\n",
       "      <td>male</td>\n",
       "      <td>22.0</td>\n",
       "      <td>1</td>\n",
       "      <td>0</td>\n",
       "      <td>A/5 21171</td>\n",
       "      <td>7.2500</td>\n",
       "      <td>NaN</td>\n",
       "      <td>S</td>\n",
       "    </tr>\n",
       "    <tr>\n",
       "      <th>2</th>\n",
       "      <td>1.0</td>\n",
       "      <td>1</td>\n",
       "      <td>Cumings, Mrs. John Bradley (Florence Briggs Th...</td>\n",
       "      <td>female</td>\n",
       "      <td>38.0</td>\n",
       "      <td>1</td>\n",
       "      <td>0</td>\n",
       "      <td>PC 17599</td>\n",
       "      <td>71.2833</td>\n",
       "      <td>C85</td>\n",
       "      <td>C</td>\n",
       "    </tr>\n",
       "    <tr>\n",
       "      <th>3</th>\n",
       "      <td>1.0</td>\n",
       "      <td>3</td>\n",
       "      <td>Heikkinen, Miss. Laina</td>\n",
       "      <td>female</td>\n",
       "      <td>26.0</td>\n",
       "      <td>0</td>\n",
       "      <td>0</td>\n",
       "      <td>STON/O2. 3101282</td>\n",
       "      <td>7.9250</td>\n",
       "      <td>NaN</td>\n",
       "      <td>S</td>\n",
       "    </tr>\n",
       "    <tr>\n",
       "      <th>4</th>\n",
       "      <td>1.0</td>\n",
       "      <td>1</td>\n",
       "      <td>Futrelle, Mrs. Jacques Heath (Lily May Peel)</td>\n",
       "      <td>female</td>\n",
       "      <td>35.0</td>\n",
       "      <td>1</td>\n",
       "      <td>0</td>\n",
       "      <td>113803</td>\n",
       "      <td>53.1000</td>\n",
       "      <td>C123</td>\n",
       "      <td>S</td>\n",
       "    </tr>\n",
       "    <tr>\n",
       "      <th>5</th>\n",
       "      <td>0.0</td>\n",
       "      <td>3</td>\n",
       "      <td>Allen, Mr. William Henry</td>\n",
       "      <td>male</td>\n",
       "      <td>35.0</td>\n",
       "      <td>0</td>\n",
       "      <td>0</td>\n",
       "      <td>373450</td>\n",
       "      <td>8.0500</td>\n",
       "      <td>NaN</td>\n",
       "      <td>S</td>\n",
       "    </tr>\n",
       "  </tbody>\n",
       "</table>\n",
       "</div>"
      ],
      "text/plain": [
       "             Survived  Pclass  \\\n",
       "PassengerId                     \n",
       "1                 0.0       3   \n",
       "2                 1.0       1   \n",
       "3                 1.0       3   \n",
       "4                 1.0       1   \n",
       "5                 0.0       3   \n",
       "\n",
       "                                                          Name     Sex   Age  \\\n",
       "PassengerId                                                                    \n",
       "1                                      Braund, Mr. Owen Harris    male  22.0   \n",
       "2            Cumings, Mrs. John Bradley (Florence Briggs Th...  female  38.0   \n",
       "3                                       Heikkinen, Miss. Laina  female  26.0   \n",
       "4                 Futrelle, Mrs. Jacques Heath (Lily May Peel)  female  35.0   \n",
       "5                                     Allen, Mr. William Henry    male  35.0   \n",
       "\n",
       "             SibSp  Parch            Ticket     Fare Cabin Embarked  \n",
       "PassengerId                                                          \n",
       "1                1      0         A/5 21171   7.2500   NaN        S  \n",
       "2                1      0          PC 17599  71.2833   C85        C  \n",
       "3                0      0  STON/O2. 3101282   7.9250   NaN        S  \n",
       "4                1      0            113803  53.1000  C123        S  \n",
       "5                0      0            373450   8.0500   NaN        S  "
      ]
     },
     "execution_count": 4,
     "metadata": {},
     "output_type": "execute_result"
    }
   ],
   "source": [
    "titanic.head()"
   ]
  },
  {
   "cell_type": "code",
   "execution_count": null,
   "metadata": {},
   "outputs": [],
   "source": []
  },
  {
   "cell_type": "code",
   "execution_count": 6,
   "metadata": {},
   "outputs": [
    {
     "data": {
      "text/plain": [
       "1     713\n",
       "2     132\n",
       "3      49\n",
       "4      16\n",
       "5       7\n",
       "7       5\n",
       "6       4\n",
       "8       2\n",
       "11      1\n",
       "dtype: int64"
      ]
     },
     "execution_count": 6,
     "metadata": {},
     "output_type": "execute_result"
    }
   ],
   "source": [
    "titanic.groupby(\"Ticket\").size().value_counts()"
   ]
  },
  {
   "cell_type": "code",
   "execution_count": 7,
   "metadata": {},
   "outputs": [
    {
     "data": {
      "text/plain": [
       "Ticket\n",
       "110152         28.833333\n",
       "110413         26.550000\n",
       "110465         26.000000\n",
       "110469         26.000000\n",
       "110489         26.550000\n",
       "                 ...    \n",
       "W./C. 6608      6.875000\n",
       "W./C. 6609      7.550000\n",
       "W.E.P. 5734    30.587500\n",
       "W/C 14208      10.500000\n",
       "WE/P 5735      35.500000\n",
       "Length: 929, dtype: float64"
      ]
     },
     "execution_count": 7,
     "metadata": {},
     "output_type": "execute_result"
    }
   ],
   "source": [
    "titanic.groupby(\"Ticket\")[\"Fare\"].mean() / titanic.groupby(\"Ticket\").size()"
   ]
  },
  {
   "cell_type": "code",
   "execution_count": 8,
   "metadata": {},
   "outputs": [
    {
     "data": {
      "text/plain": [
       "Pclass\n",
       "1    33.910500\n",
       "2    11.411010\n",
       "3     7.329146\n",
       "Name: fare_per_pass, dtype: float64"
      ]
     },
     "execution_count": 8,
     "metadata": {},
     "output_type": "execute_result"
    }
   ],
   "source": [
    "titanic.merge((titanic.groupby(\"Ticket\")[\"Fare\"].mean() / titanic.groupby(\"Ticket\").size()).rename(\"fare_per_pass\"),\n",
    "              left_on=\"Ticket\", right_index=True, how=\"left\").groupby(\"Pclass\")[\"fare_per_pass\"].mean()"
   ]
  },
  {
   "cell_type": "markdown",
   "metadata": {},
   "source": [
    "# Split-apply-combine (`GROUP BY` in Pandas)\n",
    "\n",
    "Depending on how the result of `apply` part of the pipeline is structured, Pandas will `combine` differently. Many common operations have shortcuts, making them extremely concise. We start with the most simple case: `apply` results in a single scalar per group."
   ]
  },
  {
   "cell_type": "markdown",
   "metadata": {},
   "source": [
    "Entry point to Pandas grouping:"
   ]
  },
  {
   "cell_type": "code",
   "execution_count": 9,
   "metadata": {
    "ExecuteTime": {
     "end_time": "2019-11-29T07:50:20.487421Z",
     "start_time": "2019-11-29T07:50:20.481318Z"
    }
   },
   "outputs": [],
   "source": [
    "class_groups = titanic.groupby(\"Pclass\")"
   ]
  },
  {
   "cell_type": "code",
   "execution_count": 10,
   "metadata": {
    "ExecuteTime": {
     "end_time": "2019-11-29T07:50:37.186561Z",
     "start_time": "2019-11-29T07:50:37.179041Z"
    }
   },
   "outputs": [
    {
     "data": {
      "text/plain": [
       "<pandas.core.groupby.generic.DataFrameGroupBy object at 0x0000012EB76B0AF0>"
      ]
     },
     "execution_count": 10,
     "metadata": {},
     "output_type": "execute_result"
    }
   ],
   "source": [
    "class_groups"
   ]
  },
  {
   "cell_type": "markdown",
   "metadata": {},
   "source": [
    "Pandas is smart enough to provide some common operations automatically:"
   ]
  },
  {
   "cell_type": "code",
   "execution_count": 11,
   "metadata": {
    "ExecuteTime": {
     "end_time": "2019-11-29T07:51:05.758834Z",
     "start_time": "2019-11-29T07:51:05.722600Z"
    }
   },
   "outputs": [
    {
     "data": {
      "text/html": [
       "<div>\n",
       "<style scoped>\n",
       "    .dataframe tbody tr th:only-of-type {\n",
       "        vertical-align: middle;\n",
       "    }\n",
       "\n",
       "    .dataframe tbody tr th {\n",
       "        vertical-align: top;\n",
       "    }\n",
       "\n",
       "    .dataframe thead th {\n",
       "        text-align: right;\n",
       "    }\n",
       "</style>\n",
       "<table border=\"1\" class=\"dataframe\">\n",
       "  <thead>\n",
       "    <tr style=\"text-align: right;\">\n",
       "      <th></th>\n",
       "      <th>Survived</th>\n",
       "      <th>Age</th>\n",
       "      <th>SibSp</th>\n",
       "      <th>Parch</th>\n",
       "      <th>Fare</th>\n",
       "    </tr>\n",
       "    <tr>\n",
       "      <th>Pclass</th>\n",
       "      <th></th>\n",
       "      <th></th>\n",
       "      <th></th>\n",
       "      <th></th>\n",
       "      <th></th>\n",
       "    </tr>\n",
       "  </thead>\n",
       "  <tbody>\n",
       "    <tr>\n",
       "      <th>1</th>\n",
       "      <td>0.629630</td>\n",
       "      <td>39.159930</td>\n",
       "      <td>0.436533</td>\n",
       "      <td>0.365325</td>\n",
       "      <td>87.508992</td>\n",
       "    </tr>\n",
       "    <tr>\n",
       "      <th>2</th>\n",
       "      <td>0.472826</td>\n",
       "      <td>29.506705</td>\n",
       "      <td>0.393502</td>\n",
       "      <td>0.368231</td>\n",
       "      <td>21.179196</td>\n",
       "    </tr>\n",
       "    <tr>\n",
       "      <th>3</th>\n",
       "      <td>0.242363</td>\n",
       "      <td>24.816367</td>\n",
       "      <td>0.568406</td>\n",
       "      <td>0.400564</td>\n",
       "      <td>13.302889</td>\n",
       "    </tr>\n",
       "  </tbody>\n",
       "</table>\n",
       "</div>"
      ],
      "text/plain": [
       "        Survived        Age     SibSp     Parch       Fare\n",
       "Pclass                                                    \n",
       "1       0.629630  39.159930  0.436533  0.365325  87.508992\n",
       "2       0.472826  29.506705  0.393502  0.368231  21.179196\n",
       "3       0.242363  24.816367  0.568406  0.400564  13.302889"
      ]
     },
     "execution_count": 11,
     "metadata": {},
     "output_type": "execute_result"
    }
   ],
   "source": [
    "class_groups.mean()\n",
    "#It is smart enough to not try and calculate mean on columns which it wouldn't work on, like string"
   ]
  },
  {
   "cell_type": "markdown",
   "metadata": {},
   "source": [
    "We can group (only a single column) by a synthetic key:"
   ]
  },
  {
   "cell_type": "code",
   "execution_count": 12,
   "metadata": {},
   "outputs": [
    {
     "data": {
      "text/plain": [
       "PassengerId\n",
       "1       25.0\n",
       "2       35.0\n",
       "3       25.0\n",
       "4       35.0\n",
       "5       35.0\n",
       "        ... \n",
       "1305     NaN\n",
       "1306    35.0\n",
       "1307    35.0\n",
       "1308     NaN\n",
       "1309     NaN\n",
       "Name: Age, Length: 1309, dtype: float64"
      ]
     },
     "execution_count": 12,
     "metadata": {},
     "output_type": "execute_result"
    }
   ],
   "source": [
    "5+ 10*(titanic.Age//10)"
   ]
  },
  {
   "cell_type": "code",
   "execution_count": 13,
   "metadata": {},
   "outputs": [
    {
     "data": {
      "text/html": [
       "<div>\n",
       "<style scoped>\n",
       "    .dataframe tbody tr th:only-of-type {\n",
       "        vertical-align: middle;\n",
       "    }\n",
       "\n",
       "    .dataframe tbody tr th {\n",
       "        vertical-align: top;\n",
       "    }\n",
       "\n",
       "    .dataframe thead th {\n",
       "        text-align: right;\n",
       "    }\n",
       "</style>\n",
       "<table border=\"1\" class=\"dataframe\">\n",
       "  <thead>\n",
       "    <tr style=\"text-align: right;\">\n",
       "      <th></th>\n",
       "      <th>Age</th>\n",
       "      <th>AgeGroup</th>\n",
       "    </tr>\n",
       "    <tr>\n",
       "      <th>PassengerId</th>\n",
       "      <th></th>\n",
       "      <th></th>\n",
       "    </tr>\n",
       "  </thead>\n",
       "  <tbody>\n",
       "    <tr>\n",
       "      <th>1</th>\n",
       "      <td>22.0</td>\n",
       "      <td>25.0</td>\n",
       "    </tr>\n",
       "    <tr>\n",
       "      <th>2</th>\n",
       "      <td>38.0</td>\n",
       "      <td>35.0</td>\n",
       "    </tr>\n",
       "    <tr>\n",
       "      <th>3</th>\n",
       "      <td>26.0</td>\n",
       "      <td>25.0</td>\n",
       "    </tr>\n",
       "    <tr>\n",
       "      <th>4</th>\n",
       "      <td>35.0</td>\n",
       "      <td>35.0</td>\n",
       "    </tr>\n",
       "    <tr>\n",
       "      <th>5</th>\n",
       "      <td>35.0</td>\n",
       "      <td>35.0</td>\n",
       "    </tr>\n",
       "    <tr>\n",
       "      <th>...</th>\n",
       "      <td>...</td>\n",
       "      <td>...</td>\n",
       "    </tr>\n",
       "    <tr>\n",
       "      <th>1305</th>\n",
       "      <td>NaN</td>\n",
       "      <td>NaN</td>\n",
       "    </tr>\n",
       "    <tr>\n",
       "      <th>1306</th>\n",
       "      <td>39.0</td>\n",
       "      <td>35.0</td>\n",
       "    </tr>\n",
       "    <tr>\n",
       "      <th>1307</th>\n",
       "      <td>38.5</td>\n",
       "      <td>35.0</td>\n",
       "    </tr>\n",
       "    <tr>\n",
       "      <th>1308</th>\n",
       "      <td>NaN</td>\n",
       "      <td>NaN</td>\n",
       "    </tr>\n",
       "    <tr>\n",
       "      <th>1309</th>\n",
       "      <td>NaN</td>\n",
       "      <td>NaN</td>\n",
       "    </tr>\n",
       "  </tbody>\n",
       "</table>\n",
       "<p>1309 rows × 2 columns</p>\n",
       "</div>"
      ],
      "text/plain": [
       "              Age  AgeGroup\n",
       "PassengerId                \n",
       "1            22.0      25.0\n",
       "2            38.0      35.0\n",
       "3            26.0      25.0\n",
       "4            35.0      35.0\n",
       "5            35.0      35.0\n",
       "...           ...       ...\n",
       "1305          NaN       NaN\n",
       "1306         39.0      35.0\n",
       "1307         38.5      35.0\n",
       "1308          NaN       NaN\n",
       "1309          NaN       NaN\n",
       "\n",
       "[1309 rows x 2 columns]"
      ]
     },
     "execution_count": 13,
     "metadata": {},
     "output_type": "execute_result"
    }
   ],
   "source": [
    "titanic[\"AgeGroup\"] = 5 + 10*(titanic.Age//10)\n",
    "titanic[[\"Age\", \"AgeGroup\"]]"
   ]
  },
  {
   "cell_type": "code",
   "execution_count": 14,
   "metadata": {
    "ExecuteTime": {
     "end_time": "2019-11-29T07:53:26.929109Z",
     "start_time": "2019-11-29T07:53:26.901458Z"
    }
   },
   "outputs": [],
   "source": [
    "age_groups = titanic.Parch.groupby((5 + 10*(titanic.Age//10)))\n",
    "#We  can also provide a sequence"
   ]
  },
  {
   "cell_type": "code",
   "execution_count": 15,
   "metadata": {
    "ExecuteTime": {
     "end_time": "2019-11-29T07:53:44.038386Z",
     "start_time": "2019-11-29T07:53:44.032189Z"
    }
   },
   "outputs": [
    {
     "data": {
      "text/plain": [
       "<pandas.core.groupby.generic.SeriesGroupBy object at 0x0000012EB76C54C0>"
      ]
     },
     "execution_count": 15,
     "metadata": {},
     "output_type": "execute_result"
    }
   ],
   "source": [
    "age_groups"
   ]
  },
  {
   "cell_type": "code",
   "execution_count": 16,
   "metadata": {
    "ExecuteTime": {
     "end_time": "2019-11-29T07:55:52.493946Z",
     "start_time": "2019-11-29T07:55:52.481828Z"
    }
   },
   "outputs": [
    {
     "data": {
      "text/html": [
       "<div>\n",
       "<style scoped>\n",
       "    .dataframe tbody tr th:only-of-type {\n",
       "        vertical-align: middle;\n",
       "    }\n",
       "\n",
       "    .dataframe tbody tr th {\n",
       "        vertical-align: top;\n",
       "    }\n",
       "\n",
       "    .dataframe thead th {\n",
       "        text-align: right;\n",
       "    }\n",
       "</style>\n",
       "<table border=\"1\" class=\"dataframe\">\n",
       "  <thead>\n",
       "    <tr style=\"text-align: right;\">\n",
       "      <th></th>\n",
       "      <th>Parch</th>\n",
       "    </tr>\n",
       "    <tr>\n",
       "      <th>Age</th>\n",
       "      <th></th>\n",
       "    </tr>\n",
       "  </thead>\n",
       "  <tbody>\n",
       "    <tr>\n",
       "      <th>5.0</th>\n",
       "      <td>1.390244</td>\n",
       "    </tr>\n",
       "    <tr>\n",
       "      <th>15.0</th>\n",
       "      <td>0.482517</td>\n",
       "    </tr>\n",
       "    <tr>\n",
       "      <th>25.0</th>\n",
       "      <td>0.223837</td>\n",
       "    </tr>\n",
       "    <tr>\n",
       "      <th>35.0</th>\n",
       "      <td>0.314655</td>\n",
       "    </tr>\n",
       "    <tr>\n",
       "      <th>45.0</th>\n",
       "      <td>0.503704</td>\n",
       "    </tr>\n",
       "    <tr>\n",
       "      <th>55.0</th>\n",
       "      <td>0.300000</td>\n",
       "    </tr>\n",
       "    <tr>\n",
       "      <th>65.0</th>\n",
       "      <td>0.531250</td>\n",
       "    </tr>\n",
       "    <tr>\n",
       "      <th>75.0</th>\n",
       "      <td>0.142857</td>\n",
       "    </tr>\n",
       "    <tr>\n",
       "      <th>85.0</th>\n",
       "      <td>0.000000</td>\n",
       "    </tr>\n",
       "  </tbody>\n",
       "</table>\n",
       "</div>"
      ],
      "text/plain": [
       "         Parch\n",
       "Age           \n",
       "5.0   1.390244\n",
       "15.0  0.482517\n",
       "25.0  0.223837\n",
       "35.0  0.314655\n",
       "45.0  0.503704\n",
       "55.0  0.300000\n",
       "65.0  0.531250\n",
       "75.0  0.142857\n",
       "85.0  0.000000"
      ]
     },
     "execution_count": 16,
     "metadata": {},
     "output_type": "execute_result"
    }
   ],
   "source": [
    "age_groups.mean().to_frame() # Note index name\n",
    "#This is being transformed to a data frame."
   ]
  },
  {
   "cell_type": "markdown",
   "metadata": {},
   "source": [
    "NumPy arrays can also be used as grouping keys:"
   ]
  },
  {
   "cell_type": "code",
   "execution_count": 17,
   "metadata": {
    "ExecuteTime": {
     "end_time": "2019-11-29T07:59:50.908766Z",
     "start_time": "2019-11-29T07:59:50.900768Z"
    }
   },
   "outputs": [],
   "source": [
    "age_groups_npy = titanic.Parch.groupby((5 + 10*(titanic.Age//10)).values)\n",
    "#external key can be any sequence, generally, as long as it is the same shape as the dataframe we are grouping."
   ]
  },
  {
   "cell_type": "code",
   "execution_count": 18,
   "metadata": {
    "ExecuteTime": {
     "end_time": "2019-11-29T07:59:51.360904Z",
     "start_time": "2019-11-29T07:59:51.336917Z"
    }
   },
   "outputs": [
    {
     "data": {
      "text/html": [
       "<div>\n",
       "<style scoped>\n",
       "    .dataframe tbody tr th:only-of-type {\n",
       "        vertical-align: middle;\n",
       "    }\n",
       "\n",
       "    .dataframe tbody tr th {\n",
       "        vertical-align: top;\n",
       "    }\n",
       "\n",
       "    .dataframe thead th {\n",
       "        text-align: right;\n",
       "    }\n",
       "</style>\n",
       "<table border=\"1\" class=\"dataframe\">\n",
       "  <thead>\n",
       "    <tr style=\"text-align: right;\">\n",
       "      <th></th>\n",
       "      <th>Parch</th>\n",
       "    </tr>\n",
       "  </thead>\n",
       "  <tbody>\n",
       "    <tr>\n",
       "      <th>5.0</th>\n",
       "      <td>1.390244</td>\n",
       "    </tr>\n",
       "    <tr>\n",
       "      <th>15.0</th>\n",
       "      <td>0.482517</td>\n",
       "    </tr>\n",
       "    <tr>\n",
       "      <th>25.0</th>\n",
       "      <td>0.223837</td>\n",
       "    </tr>\n",
       "    <tr>\n",
       "      <th>35.0</th>\n",
       "      <td>0.314655</td>\n",
       "    </tr>\n",
       "    <tr>\n",
       "      <th>45.0</th>\n",
       "      <td>0.503704</td>\n",
       "    </tr>\n",
       "    <tr>\n",
       "      <th>55.0</th>\n",
       "      <td>0.300000</td>\n",
       "    </tr>\n",
       "    <tr>\n",
       "      <th>65.0</th>\n",
       "      <td>0.531250</td>\n",
       "    </tr>\n",
       "    <tr>\n",
       "      <th>75.0</th>\n",
       "      <td>0.142857</td>\n",
       "    </tr>\n",
       "    <tr>\n",
       "      <th>85.0</th>\n",
       "      <td>0.000000</td>\n",
       "    </tr>\n",
       "  </tbody>\n",
       "</table>\n",
       "</div>"
      ],
      "text/plain": [
       "         Parch\n",
       "5.0   1.390244\n",
       "15.0  0.482517\n",
       "25.0  0.223837\n",
       "35.0  0.314655\n",
       "45.0  0.503704\n",
       "55.0  0.300000\n",
       "65.0  0.531250\n",
       "75.0  0.142857\n",
       "85.0  0.000000"
      ]
     },
     "execution_count": 18,
     "metadata": {},
     "output_type": "execute_result"
    }
   ],
   "source": [
    "age_groups_npy.mean().to_frame()\n",
    "#In this example, this index name was not preserved (age), as opposed to above"
   ]
  },
  {
   "cell_type": "markdown",
   "metadata": {},
   "source": [
    "### Multi-Indexing"
   ]
  },
  {
   "cell_type": "code",
   "execution_count": 24,
   "metadata": {
    "ExecuteTime": {
     "end_time": "2019-11-29T08:01:35.896722Z",
     "start_time": "2019-11-29T08:01:35.881737Z"
    }
   },
   "outputs": [],
   "source": [
    "age_groups_multi = titanic.Parch.groupby([(5 + 10*(titanic.Age//10)), titanic.Pclass])"
   ]
  },
  {
   "cell_type": "code",
   "execution_count": 25,
   "metadata": {
    "ExecuteTime": {
     "end_time": "2019-11-29T08:00:54.105556Z",
     "start_time": "2019-11-29T08:00:54.089776Z"
    }
   },
   "outputs": [],
   "source": [
    "age_groups_multi = titanic.Parch.groupby([titanic.Pclass, (5 + 10*(titanic.Age//10))])"
   ]
  },
  {
   "cell_type": "code",
   "execution_count": 26,
   "metadata": {
    "ExecuteTime": {
     "end_time": "2019-11-29T08:01:02.459319Z",
     "start_time": "2019-11-29T08:01:02.447132Z"
    }
   },
   "outputs": [
    {
     "data": {
      "text/plain": [
       "<pandas.core.groupby.generic.SeriesGroupBy object at 0x000001DD1D34D100>"
      ]
     },
     "execution_count": 26,
     "metadata": {},
     "output_type": "execute_result"
    }
   ],
   "source": [
    "age_groups_multi"
   ]
  },
  {
   "cell_type": "code",
   "execution_count": 22,
   "metadata": {
    "ExecuteTime": {
     "end_time": "2019-11-29T08:01:40.220470Z",
     "start_time": "2019-11-29T08:01:40.200459Z"
    }
   },
   "outputs": [
    {
     "data": {
      "text/plain": [
       "Pclass  Age \n",
       "1       5.0     2.000000\n",
       "        15.0    0.863636\n",
       "        25.0    0.480769\n",
       "        35.0    0.250000\n",
       "        45.0    0.209677\n",
       "        55.0    0.369565\n",
       "        65.0    0.761905\n",
       "        75.0    0.250000\n",
       "        85.0    0.000000\n",
       "2       5.0     1.409091\n",
       "        15.0    0.310345\n",
       "        25.0    0.288889\n",
       "        35.0    0.265625\n",
       "        45.0    0.451613\n",
       "        55.0    0.235294\n",
       "        65.0    0.142857\n",
       "        75.0    0.000000\n",
       "3       5.0     1.339286\n",
       "        15.0    0.445652\n",
       "        25.0    0.128713\n",
       "        35.0    0.395833\n",
       "        45.0    0.976190\n",
       "        55.0    0.000000\n",
       "        65.0    0.000000\n",
       "        75.0    0.000000\n",
       "Name: Parch, dtype: float64"
      ]
     },
     "execution_count": 22,
     "metadata": {},
     "output_type": "execute_result"
    }
   ],
   "source": [
    "age_groups_multi.mean()\n",
    "#We returned a multi-index series, based off two groupings."
   ]
  },
  {
   "cell_type": "markdown",
   "metadata": {},
   "source": [
    "We can restructure the result:"
   ]
  },
  {
   "cell_type": "code",
   "execution_count": 23,
   "metadata": {
    "ExecuteTime": {
     "end_time": "2019-11-29T08:03:08.281919Z",
     "start_time": "2019-11-29T08:03:08.259963Z"
    }
   },
   "outputs": [
    {
     "data": {
      "text/html": [
       "<div>\n",
       "<style scoped>\n",
       "    .dataframe tbody tr th:only-of-type {\n",
       "        vertical-align: middle;\n",
       "    }\n",
       "\n",
       "    .dataframe tbody tr th {\n",
       "        vertical-align: top;\n",
       "    }\n",
       "\n",
       "    .dataframe thead th {\n",
       "        text-align: right;\n",
       "    }\n",
       "</style>\n",
       "<table border=\"1\" class=\"dataframe\">\n",
       "  <thead>\n",
       "    <tr style=\"text-align: right;\">\n",
       "      <th>Age</th>\n",
       "      <th>5.0</th>\n",
       "      <th>15.0</th>\n",
       "      <th>25.0</th>\n",
       "      <th>35.0</th>\n",
       "      <th>45.0</th>\n",
       "      <th>55.0</th>\n",
       "      <th>65.0</th>\n",
       "      <th>75.0</th>\n",
       "      <th>85.0</th>\n",
       "    </tr>\n",
       "    <tr>\n",
       "      <th>Pclass</th>\n",
       "      <th></th>\n",
       "      <th></th>\n",
       "      <th></th>\n",
       "      <th></th>\n",
       "      <th></th>\n",
       "      <th></th>\n",
       "      <th></th>\n",
       "      <th></th>\n",
       "      <th></th>\n",
       "    </tr>\n",
       "  </thead>\n",
       "  <tbody>\n",
       "    <tr>\n",
       "      <th>1</th>\n",
       "      <td>2.000000</td>\n",
       "      <td>0.863636</td>\n",
       "      <td>0.480769</td>\n",
       "      <td>0.250000</td>\n",
       "      <td>0.209677</td>\n",
       "      <td>0.369565</td>\n",
       "      <td>0.761905</td>\n",
       "      <td>0.25</td>\n",
       "      <td>0.0</td>\n",
       "    </tr>\n",
       "    <tr>\n",
       "      <th>2</th>\n",
       "      <td>1.409091</td>\n",
       "      <td>0.310345</td>\n",
       "      <td>0.288889</td>\n",
       "      <td>0.265625</td>\n",
       "      <td>0.451613</td>\n",
       "      <td>0.235294</td>\n",
       "      <td>0.142857</td>\n",
       "      <td>0.00</td>\n",
       "      <td>NaN</td>\n",
       "    </tr>\n",
       "    <tr>\n",
       "      <th>3</th>\n",
       "      <td>1.339286</td>\n",
       "      <td>0.445652</td>\n",
       "      <td>0.128713</td>\n",
       "      <td>0.395833</td>\n",
       "      <td>0.976190</td>\n",
       "      <td>0.000000</td>\n",
       "      <td>0.000000</td>\n",
       "      <td>0.00</td>\n",
       "      <td>NaN</td>\n",
       "    </tr>\n",
       "  </tbody>\n",
       "</table>\n",
       "</div>"
      ],
      "text/plain": [
       "Age         5.0       15.0      25.0      35.0      45.0      55.0      65.0  \\\n",
       "Pclass                                                                         \n",
       "1       2.000000  0.863636  0.480769  0.250000  0.209677  0.369565  0.761905   \n",
       "2       1.409091  0.310345  0.288889  0.265625  0.451613  0.235294  0.142857   \n",
       "3       1.339286  0.445652  0.128713  0.395833  0.976190  0.000000  0.000000   \n",
       "\n",
       "Age     75.0  85.0  \n",
       "Pclass              \n",
       "1       0.25   0.0  \n",
       "2       0.00   NaN  \n",
       "3       0.00   NaN  "
      ]
     },
     "execution_count": 23,
     "metadata": {},
     "output_type": "execute_result"
    }
   ],
   "source": [
    "age_groups_multi.mean().unstack() #unstack will move one of the levels and make it a column.\n",
    "#Very often this is convenient, as it makes plotting very simple, as we will see."
   ]
  },
  {
   "cell_type": "markdown",
   "metadata": {},
   "source": [
    "We can mix column names with a real iterables:"
   ]
  },
  {
   "cell_type": "code",
   "execution_count": 27,
   "metadata": {
    "ExecuteTime": {
     "end_time": "2019-11-29T08:03:47.499719Z",
     "start_time": "2019-11-29T08:03:47.491562Z"
    }
   },
   "outputs": [],
   "source": [
    "age_groups_mixed = titanic.groupby([(5 + 10*(titanic.Age//10)), \"Pclass\", \"Embarked\"])"
   ]
  },
  {
   "cell_type": "code",
   "execution_count": 28,
   "metadata": {},
   "outputs": [
    {
     "data": {
      "text/plain": [
       "<pandas.core.groupby.generic.DataFrameGroupBy object at 0x000001DD1D34DA00>"
      ]
     },
     "execution_count": 28,
     "metadata": {},
     "output_type": "execute_result"
    }
   ],
   "source": [
    "age_groups_mixed"
   ]
  },
  {
   "cell_type": "code",
   "execution_count": 29,
   "metadata": {},
   "outputs": [
    {
     "data": {
      "text/plain": [
       "Age   Pclass  Embarked\n",
       "5.0   1       C           2.000000\n",
       "              S           2.000000\n",
       "      2       C           2.000000\n",
       "              S           1.315789\n",
       "      3       C           1.100000\n",
       "              Q           1.000000\n",
       "              S           1.428571\n",
       "15.0  1       C           0.875000\n",
       "              S           0.857143\n",
       "      2       C           0.000000\n",
       "              S           0.333333\n",
       "      3       C           0.312500\n",
       "              Q           0.100000\n",
       "              S           0.530303\n",
       "25.0  1       C           0.481481\n",
       "              S           0.480000\n",
       "      2       C           0.416667\n",
       "              S           0.269231\n",
       "      3       C           0.285714\n",
       "              Q           0.000000\n",
       "              S           0.119048\n",
       "35.0  1       C           0.156250\n",
       "              Q           0.000000\n",
       "              S           0.351351\n",
       "      2       C           0.166667\n",
       "              Q           0.000000\n",
       "              S           0.285714\n",
       "      3       C           0.333333\n",
       "              Q           0.545455\n",
       "              S           0.381579\n",
       "45.0  1       C           0.357143\n",
       "              Q           0.000000\n",
       "              S           0.090909\n",
       "      2       C           0.000000\n",
       "              S           0.466667\n",
       "      3       C           0.250000\n",
       "              Q           0.500000\n",
       "              S           1.083333\n",
       "55.0  1       C           0.347826\n",
       "              S           0.391304\n",
       "      2       Q           0.000000\n",
       "              S           0.250000\n",
       "      3       S           0.000000\n",
       "65.0  1       C           1.000000\n",
       "              S           0.692308\n",
       "      2       Q           0.000000\n",
       "              S           0.200000\n",
       "      3       Q           0.000000\n",
       "              S           0.000000\n",
       "75.0  1       C           0.000000\n",
       "              S           0.500000\n",
       "      2       S           0.000000\n",
       "      3       Q           0.000000\n",
       "              S           0.000000\n",
       "85.0  1       S           0.000000\n",
       "Name: Parch, dtype: float64"
      ]
     },
     "execution_count": 29,
     "metadata": {},
     "output_type": "execute_result"
    }
   ],
   "source": [
    "age_groups_mixed.Parch.mean()"
   ]
  },
  {
   "cell_type": "code",
   "execution_count": 27,
   "metadata": {
    "ExecuteTime": {
     "end_time": "2019-11-29T08:08:57.500914Z",
     "start_time": "2019-11-29T08:08:57.486089Z"
    }
   },
   "outputs": [
    {
     "data": {
      "text/html": [
       "<div>\n",
       "<style scoped>\n",
       "    .dataframe tbody tr th:only-of-type {\n",
       "        vertical-align: middle;\n",
       "    }\n",
       "\n",
       "    .dataframe tbody tr th {\n",
       "        vertical-align: top;\n",
       "    }\n",
       "\n",
       "    .dataframe thead tr th {\n",
       "        text-align: left;\n",
       "    }\n",
       "\n",
       "    .dataframe thead tr:last-of-type th {\n",
       "        text-align: right;\n",
       "    }\n",
       "</style>\n",
       "<table border=\"1\" class=\"dataframe\">\n",
       "  <thead>\n",
       "    <tr>\n",
       "      <th>Age</th>\n",
       "      <th colspan=\"3\" halign=\"left\">5.0</th>\n",
       "      <th colspan=\"3\" halign=\"left\">15.0</th>\n",
       "      <th colspan=\"3\" halign=\"left\">25.0</th>\n",
       "      <th>35.0</th>\n",
       "      <th>...</th>\n",
       "      <th colspan=\"3\" halign=\"left\">55.0</th>\n",
       "      <th colspan=\"3\" halign=\"left\">65.0</th>\n",
       "      <th colspan=\"3\" halign=\"left\">75.0</th>\n",
       "      <th>85.0</th>\n",
       "    </tr>\n",
       "    <tr>\n",
       "      <th>Embarked</th>\n",
       "      <th>C</th>\n",
       "      <th>S</th>\n",
       "      <th>Q</th>\n",
       "      <th>C</th>\n",
       "      <th>S</th>\n",
       "      <th>Q</th>\n",
       "      <th>C</th>\n",
       "      <th>S</th>\n",
       "      <th>Q</th>\n",
       "      <th>C</th>\n",
       "      <th>...</th>\n",
       "      <th>C</th>\n",
       "      <th>S</th>\n",
       "      <th>Q</th>\n",
       "      <th>C</th>\n",
       "      <th>S</th>\n",
       "      <th>Q</th>\n",
       "      <th>C</th>\n",
       "      <th>S</th>\n",
       "      <th>Q</th>\n",
       "      <th>S</th>\n",
       "    </tr>\n",
       "    <tr>\n",
       "      <th>Pclass</th>\n",
       "      <th></th>\n",
       "      <th></th>\n",
       "      <th></th>\n",
       "      <th></th>\n",
       "      <th></th>\n",
       "      <th></th>\n",
       "      <th></th>\n",
       "      <th></th>\n",
       "      <th></th>\n",
       "      <th></th>\n",
       "      <th></th>\n",
       "      <th></th>\n",
       "      <th></th>\n",
       "      <th></th>\n",
       "      <th></th>\n",
       "      <th></th>\n",
       "      <th></th>\n",
       "      <th></th>\n",
       "      <th></th>\n",
       "      <th></th>\n",
       "      <th></th>\n",
       "    </tr>\n",
       "  </thead>\n",
       "  <tbody>\n",
       "    <tr>\n",
       "      <th>1</th>\n",
       "      <td>2.0</td>\n",
       "      <td>2.000000</td>\n",
       "      <td>NaN</td>\n",
       "      <td>0.8750</td>\n",
       "      <td>0.857143</td>\n",
       "      <td>NaN</td>\n",
       "      <td>0.481481</td>\n",
       "      <td>0.480000</td>\n",
       "      <td>NaN</td>\n",
       "      <td>0.156250</td>\n",
       "      <td>...</td>\n",
       "      <td>0.347826</td>\n",
       "      <td>0.391304</td>\n",
       "      <td>NaN</td>\n",
       "      <td>1.0</td>\n",
       "      <td>0.692308</td>\n",
       "      <td>NaN</td>\n",
       "      <td>0.0</td>\n",
       "      <td>0.5</td>\n",
       "      <td>NaN</td>\n",
       "      <td>0.0</td>\n",
       "    </tr>\n",
       "    <tr>\n",
       "      <th>2</th>\n",
       "      <td>2.0</td>\n",
       "      <td>1.315789</td>\n",
       "      <td>NaN</td>\n",
       "      <td>0.0000</td>\n",
       "      <td>0.333333</td>\n",
       "      <td>NaN</td>\n",
       "      <td>0.416667</td>\n",
       "      <td>0.269231</td>\n",
       "      <td>NaN</td>\n",
       "      <td>0.166667</td>\n",
       "      <td>...</td>\n",
       "      <td>NaN</td>\n",
       "      <td>0.250000</td>\n",
       "      <td>0.0</td>\n",
       "      <td>NaN</td>\n",
       "      <td>0.200000</td>\n",
       "      <td>0.0</td>\n",
       "      <td>NaN</td>\n",
       "      <td>0.0</td>\n",
       "      <td>NaN</td>\n",
       "      <td>NaN</td>\n",
       "    </tr>\n",
       "    <tr>\n",
       "      <th>3</th>\n",
       "      <td>1.1</td>\n",
       "      <td>1.428571</td>\n",
       "      <td>1.0</td>\n",
       "      <td>0.3125</td>\n",
       "      <td>0.530303</td>\n",
       "      <td>0.1</td>\n",
       "      <td>0.285714</td>\n",
       "      <td>0.119048</td>\n",
       "      <td>0.0</td>\n",
       "      <td>0.333333</td>\n",
       "      <td>...</td>\n",
       "      <td>NaN</td>\n",
       "      <td>0.000000</td>\n",
       "      <td>NaN</td>\n",
       "      <td>NaN</td>\n",
       "      <td>0.000000</td>\n",
       "      <td>0.0</td>\n",
       "      <td>NaN</td>\n",
       "      <td>0.0</td>\n",
       "      <td>0.0</td>\n",
       "      <td>NaN</td>\n",
       "    </tr>\n",
       "  </tbody>\n",
       "</table>\n",
       "<p>3 rows × 25 columns</p>\n",
       "</div>"
      ],
      "text/plain": [
       "Age      5.0                    15.0                     25.0                 \\\n",
       "Embarked    C         S    Q       C         S    Q         C         S    Q   \n",
       "Pclass                                                                         \n",
       "1         2.0  2.000000  NaN  0.8750  0.857143  NaN  0.481481  0.480000  NaN   \n",
       "2         2.0  1.315789  NaN  0.0000  0.333333  NaN  0.416667  0.269231  NaN   \n",
       "3         1.1  1.428571  1.0  0.3125  0.530303  0.1  0.285714  0.119048  0.0   \n",
       "\n",
       "Age           35.0  ...      55.0                65.0                75.0  \\\n",
       "Embarked         C  ...         C         S    Q    C         S    Q    C   \n",
       "Pclass              ...                                                     \n",
       "1         0.156250  ...  0.347826  0.391304  NaN  1.0  0.692308  NaN  0.0   \n",
       "2         0.166667  ...       NaN  0.250000  0.0  NaN  0.200000  0.0  NaN   \n",
       "3         0.333333  ...       NaN  0.000000  NaN  NaN  0.000000  0.0  NaN   \n",
       "\n",
       "Age                85.0  \n",
       "Embarked    S    Q    S  \n",
       "Pclass                   \n",
       "1         0.5  NaN  0.0  \n",
       "2         0.0  NaN  NaN  \n",
       "3         0.0  0.0  NaN  \n",
       "\n",
       "[3 rows x 25 columns]"
      ]
     },
     "execution_count": 27,
     "metadata": {},
     "output_type": "execute_result"
    }
   ],
   "source": [
    "age_groups_mixed.Parch.mean().unstack(level=(0,2)) #level 0 is age, level 2 is embarked"
   ]
  },
  {
   "cell_type": "markdown",
   "metadata": {},
   "source": [
    "## `apply` outputs series"
   ]
  },
  {
   "cell_type": "code",
   "execution_count": 28,
   "metadata": {
    "ExecuteTime": {
     "end_time": "2019-11-29T08:09:20.872029Z",
     "start_time": "2019-11-29T08:09:20.867749Z"
    }
   },
   "outputs": [],
   "source": [
    "class_groups = titanic.groupby(\"Pclass\") # Nothing is calculated yet"
   ]
  },
  {
   "cell_type": "code",
   "execution_count": 29,
   "metadata": {},
   "outputs": [
    {
     "data": {
      "text/html": [
       "<div>\n",
       "<style scoped>\n",
       "    .dataframe tbody tr th:only-of-type {\n",
       "        vertical-align: middle;\n",
       "    }\n",
       "\n",
       "    .dataframe tbody tr th {\n",
       "        vertical-align: top;\n",
       "    }\n",
       "\n",
       "    .dataframe thead th {\n",
       "        text-align: right;\n",
       "    }\n",
       "</style>\n",
       "<table border=\"1\" class=\"dataframe\">\n",
       "  <thead>\n",
       "    <tr style=\"text-align: right;\">\n",
       "      <th></th>\n",
       "      <th>Survived</th>\n",
       "      <th>Age</th>\n",
       "      <th>SibSp</th>\n",
       "      <th>Parch</th>\n",
       "      <th>Fare</th>\n",
       "      <th>AgeGroup</th>\n",
       "    </tr>\n",
       "    <tr>\n",
       "      <th>Pclass</th>\n",
       "      <th></th>\n",
       "      <th></th>\n",
       "      <th></th>\n",
       "      <th></th>\n",
       "      <th></th>\n",
       "      <th></th>\n",
       "    </tr>\n",
       "  </thead>\n",
       "  <tbody>\n",
       "    <tr>\n",
       "      <th>1</th>\n",
       "      <td>0.629630</td>\n",
       "      <td>39.159930</td>\n",
       "      <td>0.436533</td>\n",
       "      <td>0.365325</td>\n",
       "      <td>87.508992</td>\n",
       "      <td>39.577465</td>\n",
       "    </tr>\n",
       "    <tr>\n",
       "      <th>2</th>\n",
       "      <td>0.472826</td>\n",
       "      <td>29.506705</td>\n",
       "      <td>0.393502</td>\n",
       "      <td>0.368231</td>\n",
       "      <td>21.179196</td>\n",
       "      <td>30.249042</td>\n",
       "    </tr>\n",
       "    <tr>\n",
       "      <th>3</th>\n",
       "      <td>0.242363</td>\n",
       "      <td>24.816367</td>\n",
       "      <td>0.568406</td>\n",
       "      <td>0.400564</td>\n",
       "      <td>13.302889</td>\n",
       "      <td>25.459082</td>\n",
       "    </tr>\n",
       "  </tbody>\n",
       "</table>\n",
       "</div>"
      ],
      "text/plain": [
       "        Survived        Age     SibSp     Parch       Fare   AgeGroup\n",
       "Pclass                                                               \n",
       "1       0.629630  39.159930  0.436533  0.365325  87.508992  39.577465\n",
       "2       0.472826  29.506705  0.393502  0.368231  21.179196  30.249042\n",
       "3       0.242363  24.816367  0.568406  0.400564  13.302889  25.459082"
      ]
     },
     "execution_count": 29,
     "metadata": {},
     "output_type": "execute_result"
    }
   ],
   "source": [
    "class_groups.mean()"
   ]
  },
  {
   "cell_type": "markdown",
   "metadata": {},
   "source": [
    "Let's simulate series output of `apply` stage:"
   ]
  },
  {
   "cell_type": "code",
   "execution_count": 30,
   "metadata": {
    "ExecuteTime": {
     "end_time": "2019-11-29T08:09:47.026203Z",
     "start_time": "2019-11-29T08:09:47.012818Z"
    }
   },
   "outputs": [
    {
     "data": {
      "text/plain": [
       "count    1308.000000\n",
       "mean       33.295479\n",
       "std        51.758668\n",
       "min         0.000000\n",
       "25%         7.895800\n",
       "50%        14.454200\n",
       "75%        31.275000\n",
       "max       512.329200\n",
       "Name: Fare, dtype: float64"
      ]
     },
     "execution_count": 30,
     "metadata": {},
     "output_type": "execute_result"
    }
   ],
   "source": [
    "titanic.Fare.describe()"
   ]
  },
  {
   "cell_type": "code",
   "execution_count": 31,
   "metadata": {
    "ExecuteTime": {
     "end_time": "2019-11-29T08:11:41.685150Z",
     "start_time": "2019-11-29T08:11:41.632705Z"
    }
   },
   "outputs": [
    {
     "data": {
      "text/html": [
       "<div>\n",
       "<style scoped>\n",
       "    .dataframe tbody tr th:only-of-type {\n",
       "        vertical-align: middle;\n",
       "    }\n",
       "\n",
       "    .dataframe tbody tr th {\n",
       "        vertical-align: top;\n",
       "    }\n",
       "\n",
       "    .dataframe thead th {\n",
       "        text-align: right;\n",
       "    }\n",
       "</style>\n",
       "<table border=\"1\" class=\"dataframe\">\n",
       "  <thead>\n",
       "    <tr style=\"text-align: right;\">\n",
       "      <th></th>\n",
       "      <th>count</th>\n",
       "      <th>mean</th>\n",
       "      <th>std</th>\n",
       "      <th>min</th>\n",
       "      <th>25%</th>\n",
       "      <th>50%</th>\n",
       "      <th>75%</th>\n",
       "      <th>max</th>\n",
       "    </tr>\n",
       "    <tr>\n",
       "      <th>Pclass</th>\n",
       "      <th></th>\n",
       "      <th></th>\n",
       "      <th></th>\n",
       "      <th></th>\n",
       "      <th></th>\n",
       "      <th></th>\n",
       "      <th></th>\n",
       "      <th></th>\n",
       "    </tr>\n",
       "  </thead>\n",
       "  <tbody>\n",
       "    <tr>\n",
       "      <th>1</th>\n",
       "      <td>323.0</td>\n",
       "      <td>87.508992</td>\n",
       "      <td>80.447178</td>\n",
       "      <td>0.0</td>\n",
       "      <td>30.6958</td>\n",
       "      <td>60.0000</td>\n",
       "      <td>107.6625</td>\n",
       "      <td>512.3292</td>\n",
       "    </tr>\n",
       "    <tr>\n",
       "      <th>2</th>\n",
       "      <td>277.0</td>\n",
       "      <td>21.179196</td>\n",
       "      <td>13.607122</td>\n",
       "      <td>0.0</td>\n",
       "      <td>13.0000</td>\n",
       "      <td>15.0458</td>\n",
       "      <td>26.0000</td>\n",
       "      <td>73.5000</td>\n",
       "    </tr>\n",
       "    <tr>\n",
       "      <th>3</th>\n",
       "      <td>708.0</td>\n",
       "      <td>13.302889</td>\n",
       "      <td>11.494358</td>\n",
       "      <td>0.0</td>\n",
       "      <td>7.7500</td>\n",
       "      <td>8.0500</td>\n",
       "      <td>15.2458</td>\n",
       "      <td>69.5500</td>\n",
       "    </tr>\n",
       "  </tbody>\n",
       "</table>\n",
       "</div>"
      ],
      "text/plain": [
       "        count       mean        std  min      25%      50%       75%       max\n",
       "Pclass                                                                        \n",
       "1       323.0  87.508992  80.447178  0.0  30.6958  60.0000  107.6625  512.3292\n",
       "2       277.0  21.179196  13.607122  0.0  13.0000  15.0458   26.0000   73.5000\n",
       "3       708.0  13.302889  11.494358  0.0   7.7500   8.0500   15.2458   69.5500"
      ]
     },
     "execution_count": 31,
     "metadata": {},
     "output_type": "execute_result"
    }
   ],
   "source": [
    "class_groups.Fare.describe()"
   ]
  },
  {
   "cell_type": "code",
   "execution_count": 32,
   "metadata": {
    "ExecuteTime": {
     "end_time": "2019-11-29T08:10:47.209137Z",
     "start_time": "2019-11-29T08:10:47.168717Z"
    }
   },
   "outputs": [
    {
     "data": {
      "text/html": [
       "<div>\n",
       "<style scoped>\n",
       "    .dataframe tbody tr th:only-of-type {\n",
       "        vertical-align: middle;\n",
       "    }\n",
       "\n",
       "    .dataframe tbody tr th {\n",
       "        vertical-align: top;\n",
       "    }\n",
       "\n",
       "    .dataframe thead th {\n",
       "        text-align: right;\n",
       "    }\n",
       "</style>\n",
       "<table border=\"1\" class=\"dataframe\">\n",
       "  <thead>\n",
       "    <tr style=\"text-align: right;\">\n",
       "      <th>Fare</th>\n",
       "      <th>count</th>\n",
       "      <th>mean</th>\n",
       "      <th>std</th>\n",
       "      <th>min</th>\n",
       "      <th>25%</th>\n",
       "      <th>50%</th>\n",
       "      <th>75%</th>\n",
       "      <th>max</th>\n",
       "    </tr>\n",
       "    <tr>\n",
       "      <th>Pclass</th>\n",
       "      <th></th>\n",
       "      <th></th>\n",
       "      <th></th>\n",
       "      <th></th>\n",
       "      <th></th>\n",
       "      <th></th>\n",
       "      <th></th>\n",
       "      <th></th>\n",
       "    </tr>\n",
       "  </thead>\n",
       "  <tbody>\n",
       "    <tr>\n",
       "      <th>1</th>\n",
       "      <td>323.0</td>\n",
       "      <td>87.508992</td>\n",
       "      <td>80.447178</td>\n",
       "      <td>0.0</td>\n",
       "      <td>30.6958</td>\n",
       "      <td>60.0000</td>\n",
       "      <td>107.6625</td>\n",
       "      <td>512.3292</td>\n",
       "    </tr>\n",
       "    <tr>\n",
       "      <th>2</th>\n",
       "      <td>277.0</td>\n",
       "      <td>21.179196</td>\n",
       "      <td>13.607122</td>\n",
       "      <td>0.0</td>\n",
       "      <td>13.0000</td>\n",
       "      <td>15.0458</td>\n",
       "      <td>26.0000</td>\n",
       "      <td>73.5000</td>\n",
       "    </tr>\n",
       "    <tr>\n",
       "      <th>3</th>\n",
       "      <td>708.0</td>\n",
       "      <td>13.302889</td>\n",
       "      <td>11.494358</td>\n",
       "      <td>0.0</td>\n",
       "      <td>7.7500</td>\n",
       "      <td>8.0500</td>\n",
       "      <td>15.2458</td>\n",
       "      <td>69.5500</td>\n",
       "    </tr>\n",
       "  </tbody>\n",
       "</table>\n",
       "</div>"
      ],
      "text/plain": [
       "Fare    count       mean        std  min      25%      50%       75%       max\n",
       "Pclass                                                                        \n",
       "1       323.0  87.508992  80.447178  0.0  30.6958  60.0000  107.6625  512.3292\n",
       "2       277.0  21.179196  13.607122  0.0  13.0000  15.0458   26.0000   73.5000\n",
       "3       708.0  13.302889  11.494358  0.0   7.7500   8.0500   15.2458   69.5500"
      ]
     },
     "execution_count": 32,
     "metadata": {},
     "output_type": "execute_result"
    }
   ],
   "source": [
    "class_groups.apply(lambda x: x.Fare.describe()) # Note column index name\n",
    "#x is a subset of the original dataframe, and we take its fare column and do describe on it.\n",
    "#We see that we get the same result as the above cell, except here, the Index name is kept, because we are providing\n",
    "#A Series directly to the groupby."
   ]
  },
  {
   "cell_type": "code",
   "execution_count": 33,
   "metadata": {
    "ExecuteTime": {
     "end_time": "2019-11-29T08:12:07.683328Z",
     "start_time": "2019-11-29T08:12:07.672683Z"
    }
   },
   "outputs": [
    {
     "data": {
      "text/plain": [
       "Sex\n",
       "female    0.633047\n",
       "male      0.247924\n",
       "Name: Parch, dtype: float64"
      ]
     },
     "execution_count": 33,
     "metadata": {},
     "output_type": "execute_result"
    }
   ],
   "source": [
    "titanic.groupby(\"Sex\").Parch.mean()"
   ]
  },
  {
   "cell_type": "code",
   "execution_count": 34,
   "metadata": {
    "ExecuteTime": {
     "end_time": "2019-11-29T08:13:07.831114Z",
     "start_time": "2019-11-29T08:13:07.795466Z"
    }
   },
   "outputs": [
    {
     "data": {
      "text/html": [
       "<div>\n",
       "<style scoped>\n",
       "    .dataframe tbody tr th:only-of-type {\n",
       "        vertical-align: middle;\n",
       "    }\n",
       "\n",
       "    .dataframe tbody tr th {\n",
       "        vertical-align: top;\n",
       "    }\n",
       "\n",
       "    .dataframe thead th {\n",
       "        text-align: right;\n",
       "    }\n",
       "</style>\n",
       "<table border=\"1\" class=\"dataframe\">\n",
       "  <thead>\n",
       "    <tr style=\"text-align: right;\">\n",
       "      <th>Sex</th>\n",
       "      <th>female</th>\n",
       "      <th>male</th>\n",
       "    </tr>\n",
       "    <tr>\n",
       "      <th>Pclass</th>\n",
       "      <th></th>\n",
       "      <th></th>\n",
       "    </tr>\n",
       "  </thead>\n",
       "  <tbody>\n",
       "    <tr>\n",
       "      <th>1</th>\n",
       "      <td>0.472222</td>\n",
       "      <td>0.279330</td>\n",
       "    </tr>\n",
       "    <tr>\n",
       "      <th>2</th>\n",
       "      <td>0.650943</td>\n",
       "      <td>0.192982</td>\n",
       "    </tr>\n",
       "    <tr>\n",
       "      <th>3</th>\n",
       "      <td>0.731481</td>\n",
       "      <td>0.255578</td>\n",
       "    </tr>\n",
       "  </tbody>\n",
       "</table>\n",
       "</div>"
      ],
      "text/plain": [
       "Sex       female      male\n",
       "Pclass                    \n",
       "1       0.472222  0.279330\n",
       "2       0.650943  0.192982\n",
       "3       0.731481  0.255578"
      ]
     },
     "execution_count": 34,
     "metadata": {},
     "output_type": "execute_result"
    }
   ],
   "source": [
    "class_groups.apply(lambda x: x.groupby(\"Sex\").Parch.mean()) # Note column index name"
   ]
  },
  {
   "cell_type": "code",
   "execution_count": 35,
   "metadata": {
    "ExecuteTime": {
     "end_time": "2019-11-29T08:14:53.540370Z",
     "start_time": "2019-11-29T08:14:53.486423Z"
    }
   },
   "outputs": [
    {
     "data": {
      "text/html": [
       "<div>\n",
       "<style scoped>\n",
       "    .dataframe tbody tr th:only-of-type {\n",
       "        vertical-align: middle;\n",
       "    }\n",
       "\n",
       "    .dataframe tbody tr th {\n",
       "        vertical-align: top;\n",
       "    }\n",
       "\n",
       "    .dataframe thead th {\n",
       "        text-align: right;\n",
       "    }\n",
       "</style>\n",
       "<table border=\"1\" class=\"dataframe\">\n",
       "  <thead>\n",
       "    <tr style=\"text-align: right;\">\n",
       "      <th>Sex</th>\n",
       "      <th>female</th>\n",
       "      <th>male</th>\n",
       "    </tr>\n",
       "    <tr>\n",
       "      <th>Pclass</th>\n",
       "      <th></th>\n",
       "      <th></th>\n",
       "    </tr>\n",
       "  </thead>\n",
       "  <tbody>\n",
       "    <tr>\n",
       "      <th>1</th>\n",
       "      <td>97</td>\n",
       "      <td>145</td>\n",
       "    </tr>\n",
       "    <tr>\n",
       "      <th>2</th>\n",
       "      <td>61</td>\n",
       "      <td>145</td>\n",
       "    </tr>\n",
       "    <tr>\n",
       "      <th>3</th>\n",
       "      <td>135</td>\n",
       "      <td>419</td>\n",
       "    </tr>\n",
       "  </tbody>\n",
       "</table>\n",
       "</div>"
      ],
      "text/plain": [
       "Sex     female  male\n",
       "Pclass              \n",
       "1           97   145\n",
       "2           61   145\n",
       "3          135   419"
      ]
     },
     "execution_count": 35,
     "metadata": {},
     "output_type": "execute_result"
    }
   ],
   "source": [
    "class_groups.apply(lambda x: x[x.Parch==0].groupby(\"Sex\").size()) #remove those who don'y have parents or children"
   ]
  },
  {
   "cell_type": "markdown",
   "metadata": {},
   "source": [
    "The same can be achieved differently, of course:"
   ]
  },
  {
   "cell_type": "code",
   "execution_count": 36,
   "metadata": {},
   "outputs": [
    {
     "data": {
      "text/html": [
       "<div>\n",
       "<style scoped>\n",
       "    .dataframe tbody tr th:only-of-type {\n",
       "        vertical-align: middle;\n",
       "    }\n",
       "\n",
       "    .dataframe tbody tr th {\n",
       "        vertical-align: top;\n",
       "    }\n",
       "\n",
       "    .dataframe thead th {\n",
       "        text-align: right;\n",
       "    }\n",
       "</style>\n",
       "<table border=\"1\" class=\"dataframe\">\n",
       "  <thead>\n",
       "    <tr style=\"text-align: right;\">\n",
       "      <th>Sex</th>\n",
       "      <th>female</th>\n",
       "      <th>male</th>\n",
       "    </tr>\n",
       "    <tr>\n",
       "      <th>Pclass</th>\n",
       "      <th></th>\n",
       "      <th></th>\n",
       "    </tr>\n",
       "  </thead>\n",
       "  <tbody>\n",
       "    <tr>\n",
       "      <th>1</th>\n",
       "      <td>97</td>\n",
       "      <td>145</td>\n",
       "    </tr>\n",
       "    <tr>\n",
       "      <th>2</th>\n",
       "      <td>61</td>\n",
       "      <td>145</td>\n",
       "    </tr>\n",
       "    <tr>\n",
       "      <th>3</th>\n",
       "      <td>135</td>\n",
       "      <td>419</td>\n",
       "    </tr>\n",
       "  </tbody>\n",
       "</table>\n",
       "</div>"
      ],
      "text/plain": [
       "Sex     female  male\n",
       "Pclass              \n",
       "1           97   145\n",
       "2           61   145\n",
       "3          135   419"
      ]
     },
     "execution_count": 36,
     "metadata": {},
     "output_type": "execute_result"
    }
   ],
   "source": [
    "titanic[titanic.Parch==0].groupby([\"Pclass\", \"Sex\"]).size().unstack()\n",
    "#Remove the ones who don't have childten, group by pclass and then sex, do the size function on it, then unstack."
   ]
  },
  {
   "cell_type": "markdown",
   "metadata": {},
   "source": [
    "What if `apply` result has multi-index on it's own?"
   ]
  },
  {
   "cell_type": "code",
   "execution_count": 37,
   "metadata": {
    "ExecuteTime": {
     "end_time": "2019-11-29T08:15:49.628182Z",
     "start_time": "2019-11-29T08:15:49.611140Z"
    }
   },
   "outputs": [
    {
     "data": {
      "text/plain": [
       "Sex     Embarked\n",
       "female  C            42\n",
       "        Q             3\n",
       "        S           128\n",
       "male    C            32\n",
       "        Q             6\n",
       "        S            96\n",
       "dtype: int64"
      ]
     },
     "execution_count": 37,
     "metadata": {},
     "output_type": "execute_result"
    }
   ],
   "source": [
    "titanic[titanic.Parch!=0].groupby([\"Sex\", \"Embarked\"]).size()"
   ]
  },
  {
   "cell_type": "code",
   "execution_count": 38,
   "metadata": {
    "ExecuteTime": {
     "end_time": "2019-11-29T08:16:38.189816Z",
     "start_time": "2019-11-29T08:16:38.153973Z"
    }
   },
   "outputs": [
    {
     "data": {
      "text/plain": [
       "Pclass  Sex     Embarked\n",
       "1       female  C           21\n",
       "                S           26\n",
       "        male    C           18\n",
       "                S           16\n",
       "2       female  C            4\n",
       "                S           41\n",
       "        male    C            3\n",
       "                S           23\n",
       "3       female  C           17\n",
       "                Q            3\n",
       "                S           61\n",
       "        male    C           11\n",
       "                Q            6\n",
       "                S           57\n",
       "dtype: int64"
      ]
     },
     "execution_count": 38,
     "metadata": {},
     "output_type": "execute_result"
    }
   ],
   "source": [
    "class_groups.apply(lambda x: x[x.Parch!=0].groupby([\"Sex\", \"Embarked\"]).size())"
   ]
  },
  {
   "cell_type": "code",
   "execution_count": 39,
   "metadata": {},
   "outputs": [],
   "source": [
    "result_s = (class_groups\n",
    "            .apply(lambda x: x[x.Parch!=0].groupby([\"Sex\", \"Embarked\"]).size()))"
   ]
  },
  {
   "cell_type": "code",
   "execution_count": 40,
   "metadata": {
    "ExecuteTime": {
     "end_time": "2019-11-29T08:19:36.832730Z",
     "start_time": "2019-11-29T08:19:36.784401Z"
    }
   },
   "outputs": [],
   "source": [
    "result = (class_groups\n",
    "          .apply(lambda x: x[x.Parch!=0].groupby([\"Sex\", \"Embarked\"]).size())\n",
    "          .unstack([1,2]))\n",
    "          #We unstack on level 1 and level 2"
   ]
  },
  {
   "cell_type": "code",
   "execution_count": 41,
   "metadata": {
    "ExecuteTime": {
     "end_time": "2019-11-29T08:19:37.550713Z",
     "start_time": "2019-11-29T08:19:37.518241Z"
    }
   },
   "outputs": [
    {
     "data": {
      "text/html": [
       "<div>\n",
       "<style scoped>\n",
       "    .dataframe tbody tr th:only-of-type {\n",
       "        vertical-align: middle;\n",
       "    }\n",
       "\n",
       "    .dataframe tbody tr th {\n",
       "        vertical-align: top;\n",
       "    }\n",
       "\n",
       "    .dataframe thead tr th {\n",
       "        text-align: left;\n",
       "    }\n",
       "\n",
       "    .dataframe thead tr:last-of-type th {\n",
       "        text-align: right;\n",
       "    }\n",
       "</style>\n",
       "<table border=\"1\" class=\"dataframe\">\n",
       "  <thead>\n",
       "    <tr>\n",
       "      <th>Sex</th>\n",
       "      <th colspan=\"2\" halign=\"left\">female</th>\n",
       "      <th colspan=\"2\" halign=\"left\">male</th>\n",
       "      <th>female</th>\n",
       "      <th>male</th>\n",
       "    </tr>\n",
       "    <tr>\n",
       "      <th>Embarked</th>\n",
       "      <th>C</th>\n",
       "      <th>S</th>\n",
       "      <th>C</th>\n",
       "      <th>S</th>\n",
       "      <th>Q</th>\n",
       "      <th>Q</th>\n",
       "    </tr>\n",
       "    <tr>\n",
       "      <th>Pclass</th>\n",
       "      <th></th>\n",
       "      <th></th>\n",
       "      <th></th>\n",
       "      <th></th>\n",
       "      <th></th>\n",
       "      <th></th>\n",
       "    </tr>\n",
       "  </thead>\n",
       "  <tbody>\n",
       "    <tr>\n",
       "      <th>1</th>\n",
       "      <td>21.0</td>\n",
       "      <td>26.0</td>\n",
       "      <td>18.0</td>\n",
       "      <td>16.0</td>\n",
       "      <td>NaN</td>\n",
       "      <td>NaN</td>\n",
       "    </tr>\n",
       "    <tr>\n",
       "      <th>2</th>\n",
       "      <td>4.0</td>\n",
       "      <td>41.0</td>\n",
       "      <td>3.0</td>\n",
       "      <td>23.0</td>\n",
       "      <td>NaN</td>\n",
       "      <td>NaN</td>\n",
       "    </tr>\n",
       "    <tr>\n",
       "      <th>3</th>\n",
       "      <td>17.0</td>\n",
       "      <td>61.0</td>\n",
       "      <td>11.0</td>\n",
       "      <td>57.0</td>\n",
       "      <td>3.0</td>\n",
       "      <td>6.0</td>\n",
       "    </tr>\n",
       "  </tbody>\n",
       "</table>\n",
       "</div>"
      ],
      "text/plain": [
       "Sex      female        male       female male\n",
       "Embarked      C     S     C     S      Q    Q\n",
       "Pclass                                       \n",
       "1          21.0  26.0  18.0  16.0    NaN  NaN\n",
       "2           4.0  41.0   3.0  23.0    NaN  NaN\n",
       "3          17.0  61.0  11.0  57.0    3.0  6.0"
      ]
     },
     "execution_count": 41,
     "metadata": {},
     "output_type": "execute_result"
    }
   ],
   "source": [
    "result"
   ]
  },
  {
   "cell_type": "markdown",
   "metadata": {},
   "source": [
    "### Intermezzo: indexing a multi-indexed dataframe"
   ]
  },
  {
   "cell_type": "markdown",
   "metadata": {},
   "source": [
    "the general rule is that for multi index, you need to provide a tuple. THen, if you want to take specific columns based off that tuple, you provide a list and then tuples within it."
   ]
  },
  {
   "cell_type": "code",
   "execution_count": 42,
   "metadata": {
    "ExecuteTime": {
     "end_time": "2019-11-29T08:21:20.758367Z",
     "start_time": "2019-11-29T08:21:20.739653Z"
    }
   },
   "outputs": [
    {
     "data": {
      "text/plain": [
       "Pclass\n",
       "1    21.0\n",
       "2     4.0\n",
       "3    17.0\n",
       "Name: (female, C), dtype: float64"
      ]
     },
     "execution_count": 42,
     "metadata": {},
     "output_type": "execute_result"
    }
   ],
   "source": [
    "result.loc[:, (\"female\", \"C\")]"
   ]
  },
  {
   "cell_type": "code",
   "execution_count": 43,
   "metadata": {
    "ExecuteTime": {
     "end_time": "2019-11-29T08:22:40.080463Z",
     "start_time": "2019-11-29T08:22:40.049475Z"
    }
   },
   "outputs": [
    {
     "data": {
      "text/html": [
       "<div>\n",
       "<style scoped>\n",
       "    .dataframe tbody tr th:only-of-type {\n",
       "        vertical-align: middle;\n",
       "    }\n",
       "\n",
       "    .dataframe tbody tr th {\n",
       "        vertical-align: top;\n",
       "    }\n",
       "\n",
       "    .dataframe thead tr th {\n",
       "        text-align: left;\n",
       "    }\n",
       "\n",
       "    .dataframe thead tr:last-of-type th {\n",
       "        text-align: right;\n",
       "    }\n",
       "</style>\n",
       "<table border=\"1\" class=\"dataframe\">\n",
       "  <thead>\n",
       "    <tr>\n",
       "      <th>Sex</th>\n",
       "      <th colspan=\"2\" halign=\"left\">female</th>\n",
       "    </tr>\n",
       "    <tr>\n",
       "      <th>Embarked</th>\n",
       "      <th>C</th>\n",
       "      <th>S</th>\n",
       "    </tr>\n",
       "    <tr>\n",
       "      <th>Pclass</th>\n",
       "      <th></th>\n",
       "      <th></th>\n",
       "    </tr>\n",
       "  </thead>\n",
       "  <tbody>\n",
       "    <tr>\n",
       "      <th>1</th>\n",
       "      <td>21.0</td>\n",
       "      <td>26.0</td>\n",
       "    </tr>\n",
       "    <tr>\n",
       "      <th>2</th>\n",
       "      <td>4.0</td>\n",
       "      <td>41.0</td>\n",
       "    </tr>\n",
       "    <tr>\n",
       "      <th>3</th>\n",
       "      <td>17.0</td>\n",
       "      <td>61.0</td>\n",
       "    </tr>\n",
       "  </tbody>\n",
       "</table>\n",
       "</div>"
      ],
      "text/plain": [
       "Sex      female      \n",
       "Embarked      C     S\n",
       "Pclass               \n",
       "1          21.0  26.0\n",
       "2           4.0  41.0\n",
       "3          17.0  61.0"
      ]
     },
     "execution_count": 43,
     "metadata": {},
     "output_type": "execute_result"
    }
   ],
   "source": [
    "result.loc[:, [(\"female\", \"C\"), (\"female\", \"S\")]]"
   ]
  },
  {
   "cell_type": "markdown",
   "metadata": {},
   "source": [
    "Positional index is slightly different, as it known nothing about multi-index *per se*:"
   ]
  },
  {
   "cell_type": "code",
   "execution_count": 44,
   "metadata": {
    "ExecuteTime": {
     "end_time": "2019-11-29T08:22:46.652744Z",
     "start_time": "2019-11-29T08:22:46.629164Z"
    }
   },
   "outputs": [
    {
     "data": {
      "text/html": [
       "<div>\n",
       "<style scoped>\n",
       "    .dataframe tbody tr th:only-of-type {\n",
       "        vertical-align: middle;\n",
       "    }\n",
       "\n",
       "    .dataframe tbody tr th {\n",
       "        vertical-align: top;\n",
       "    }\n",
       "\n",
       "    .dataframe thead tr th {\n",
       "        text-align: left;\n",
       "    }\n",
       "\n",
       "    .dataframe thead tr:last-of-type th {\n",
       "        text-align: right;\n",
       "    }\n",
       "</style>\n",
       "<table border=\"1\" class=\"dataframe\">\n",
       "  <thead>\n",
       "    <tr>\n",
       "      <th>Sex</th>\n",
       "      <th colspan=\"2\" halign=\"left\">female</th>\n",
       "    </tr>\n",
       "    <tr>\n",
       "      <th>Embarked</th>\n",
       "      <th>C</th>\n",
       "      <th>S</th>\n",
       "    </tr>\n",
       "    <tr>\n",
       "      <th>Pclass</th>\n",
       "      <th></th>\n",
       "      <th></th>\n",
       "    </tr>\n",
       "  </thead>\n",
       "  <tbody>\n",
       "    <tr>\n",
       "      <th>1</th>\n",
       "      <td>21.0</td>\n",
       "      <td>26.0</td>\n",
       "    </tr>\n",
       "    <tr>\n",
       "      <th>2</th>\n",
       "      <td>4.0</td>\n",
       "      <td>41.0</td>\n",
       "    </tr>\n",
       "    <tr>\n",
       "      <th>3</th>\n",
       "      <td>17.0</td>\n",
       "      <td>61.0</td>\n",
       "    </tr>\n",
       "  </tbody>\n",
       "</table>\n",
       "</div>"
      ],
      "text/plain": [
       "Sex      female      \n",
       "Embarked      C     S\n",
       "Pclass               \n",
       "1          21.0  26.0\n",
       "2           4.0  41.0\n",
       "3          17.0  61.0"
      ]
     },
     "execution_count": 44,
     "metadata": {},
     "output_type": "execute_result"
    }
   ],
   "source": [
    "result.iloc[:, [0, 1]]"
   ]
  },
  {
   "cell_type": "markdown",
   "metadata": {},
   "source": [
    "## DataFrame output"
   ]
  },
  {
   "cell_type": "code",
   "execution_count": 45,
   "metadata": {
    "ExecuteTime": {
     "end_time": "2019-11-29T08:24:10.739951Z",
     "start_time": "2019-11-29T08:24:10.725364Z"
    }
   },
   "outputs": [
    {
     "data": {
      "text/html": [
       "<div>\n",
       "<style scoped>\n",
       "    .dataframe tbody tr th:only-of-type {\n",
       "        vertical-align: middle;\n",
       "    }\n",
       "\n",
       "    .dataframe tbody tr th {\n",
       "        vertical-align: top;\n",
       "    }\n",
       "\n",
       "    .dataframe thead th {\n",
       "        text-align: right;\n",
       "    }\n",
       "</style>\n",
       "<table border=\"1\" class=\"dataframe\">\n",
       "  <thead>\n",
       "    <tr style=\"text-align: right;\">\n",
       "      <th></th>\n",
       "      <th>SibSp</th>\n",
       "      <th>Parch</th>\n",
       "    </tr>\n",
       "    <tr>\n",
       "      <th>PassengerId</th>\n",
       "      <th></th>\n",
       "      <th></th>\n",
       "    </tr>\n",
       "  </thead>\n",
       "  <tbody>\n",
       "    <tr>\n",
       "      <th>1</th>\n",
       "      <td>1</td>\n",
       "      <td>0</td>\n",
       "    </tr>\n",
       "    <tr>\n",
       "      <th>2</th>\n",
       "      <td>1</td>\n",
       "      <td>0</td>\n",
       "    </tr>\n",
       "    <tr>\n",
       "      <th>3</th>\n",
       "      <td>0</td>\n",
       "      <td>0</td>\n",
       "    </tr>\n",
       "    <tr>\n",
       "      <th>4</th>\n",
       "      <td>1</td>\n",
       "      <td>0</td>\n",
       "    </tr>\n",
       "    <tr>\n",
       "      <th>5</th>\n",
       "      <td>0</td>\n",
       "      <td>0</td>\n",
       "    </tr>\n",
       "  </tbody>\n",
       "</table>\n",
       "</div>"
      ],
      "text/plain": [
       "             SibSp  Parch\n",
       "PassengerId              \n",
       "1                1      0\n",
       "2                1      0\n",
       "3                0      0\n",
       "4                1      0\n",
       "5                0      0"
      ]
     },
     "execution_count": 45,
     "metadata": {},
     "output_type": "execute_result"
    }
   ],
   "source": [
    "titanic[[\"SibSp\", \"Parch\"]].head()\n"
   ]
  },
  {
   "cell_type": "code",
   "execution_count": 46,
   "metadata": {
    "ExecuteTime": {
     "end_time": "2019-11-29T08:24:29.149454Z",
     "start_time": "2019-11-29T08:24:29.121194Z"
    }
   },
   "outputs": [
    {
     "data": {
      "text/html": [
       "<div>\n",
       "<style scoped>\n",
       "    .dataframe tbody tr th:only-of-type {\n",
       "        vertical-align: middle;\n",
       "    }\n",
       "\n",
       "    .dataframe tbody tr th {\n",
       "        vertical-align: top;\n",
       "    }\n",
       "\n",
       "    .dataframe thead th {\n",
       "        text-align: right;\n",
       "    }\n",
       "</style>\n",
       "<table border=\"1\" class=\"dataframe\">\n",
       "  <thead>\n",
       "    <tr style=\"text-align: right;\">\n",
       "      <th></th>\n",
       "      <th></th>\n",
       "      <th>SibSp</th>\n",
       "      <th>Parch</th>\n",
       "    </tr>\n",
       "    <tr>\n",
       "      <th>Sex</th>\n",
       "      <th>Embarked</th>\n",
       "      <th></th>\n",
       "      <th></th>\n",
       "    </tr>\n",
       "  </thead>\n",
       "  <tbody>\n",
       "    <tr>\n",
       "      <th rowspan=\"3\" valign=\"top\">female</th>\n",
       "      <th>C</th>\n",
       "      <td>0.619048</td>\n",
       "      <td>1.380952</td>\n",
       "    </tr>\n",
       "    <tr>\n",
       "      <th>Q</th>\n",
       "      <td>0.333333</td>\n",
       "      <td>2.666667</td>\n",
       "    </tr>\n",
       "    <tr>\n",
       "      <th>S</th>\n",
       "      <td>1.304688</td>\n",
       "      <td>1.789062</td>\n",
       "    </tr>\n",
       "    <tr>\n",
       "      <th rowspan=\"3\" valign=\"top\">male</th>\n",
       "      <th>C</th>\n",
       "      <td>0.562500</td>\n",
       "      <td>1.312500</td>\n",
       "    </tr>\n",
       "    <tr>\n",
       "      <th>Q</th>\n",
       "      <td>3.500000</td>\n",
       "      <td>1.000000</td>\n",
       "    </tr>\n",
       "    <tr>\n",
       "      <th>S</th>\n",
       "      <td>1.833333</td>\n",
       "      <td>1.677083</td>\n",
       "    </tr>\n",
       "  </tbody>\n",
       "</table>\n",
       "</div>"
      ],
      "text/plain": [
       "                    SibSp     Parch\n",
       "Sex    Embarked                    \n",
       "female C         0.619048  1.380952\n",
       "       Q         0.333333  2.666667\n",
       "       S         1.304688  1.789062\n",
       "male   C         0.562500  1.312500\n",
       "       Q         3.500000  1.000000\n",
       "       S         1.833333  1.677083"
      ]
     },
     "execution_count": 46,
     "metadata": {},
     "output_type": "execute_result"
    }
   ],
   "source": [
    "#To simulate  a dataframe result from an apply operation, we will take columns and apply averages on them\n",
    "(titanic[titanic.Parch!=0]\n",
    " .groupby([\"Sex\", \"Embarked\"])[[\"SibSp\", \"Parch\"]] #group by sex and embarked, and then take the mean of sibsip and parch\n",
    " .mean())"
   ]
  },
  {
   "cell_type": "code",
   "execution_count": 47,
   "metadata": {},
   "outputs": [
    {
     "data": {
      "text/plain": [
       "<pandas.core.groupby.generic.DataFrameGroupBy object at 0x0000012EB76EAA90>"
      ]
     },
     "execution_count": 47,
     "metadata": {},
     "output_type": "execute_result"
    }
   ],
   "source": [
    "class_groups"
   ]
  },
  {
   "cell_type": "code",
   "execution_count": 48,
   "metadata": {
    "ExecuteTime": {
     "end_time": "2019-11-29T08:25:42.885679Z",
     "start_time": "2019-11-29T08:25:42.817193Z"
    }
   },
   "outputs": [
    {
     "data": {
      "text/html": [
       "<div>\n",
       "<style scoped>\n",
       "    .dataframe tbody tr th:only-of-type {\n",
       "        vertical-align: middle;\n",
       "    }\n",
       "\n",
       "    .dataframe tbody tr th {\n",
       "        vertical-align: top;\n",
       "    }\n",
       "\n",
       "    .dataframe thead th {\n",
       "        text-align: right;\n",
       "    }\n",
       "</style>\n",
       "<table border=\"1\" class=\"dataframe\">\n",
       "  <thead>\n",
       "    <tr style=\"text-align: right;\">\n",
       "      <th></th>\n",
       "      <th></th>\n",
       "      <th></th>\n",
       "      <th>SibSp</th>\n",
       "      <th>Parch</th>\n",
       "    </tr>\n",
       "    <tr>\n",
       "      <th>Pclass</th>\n",
       "      <th>Sex</th>\n",
       "      <th>Embarked</th>\n",
       "      <th></th>\n",
       "      <th></th>\n",
       "    </tr>\n",
       "  </thead>\n",
       "  <tbody>\n",
       "    <tr>\n",
       "      <th rowspan=\"4\" valign=\"top\">1</th>\n",
       "      <th rowspan=\"2\" valign=\"top\">female</th>\n",
       "      <th>C</th>\n",
       "      <td>0.523810</td>\n",
       "      <td>1.285714</td>\n",
       "    </tr>\n",
       "    <tr>\n",
       "      <th>S</th>\n",
       "      <td>0.807692</td>\n",
       "      <td>1.576923</td>\n",
       "    </tr>\n",
       "    <tr>\n",
       "      <th rowspan=\"2\" valign=\"top\">male</th>\n",
       "      <th>C</th>\n",
       "      <td>0.444444</td>\n",
       "      <td>1.388889</td>\n",
       "    </tr>\n",
       "    <tr>\n",
       "      <th>S</th>\n",
       "      <td>0.875000</td>\n",
       "      <td>1.562500</td>\n",
       "    </tr>\n",
       "    <tr>\n",
       "      <th rowspan=\"4\" valign=\"top\">2</th>\n",
       "      <th rowspan=\"2\" valign=\"top\">female</th>\n",
       "      <th>C</th>\n",
       "      <td>1.000000</td>\n",
       "      <td>1.750000</td>\n",
       "    </tr>\n",
       "    <tr>\n",
       "      <th>S</th>\n",
       "      <td>0.682927</td>\n",
       "      <td>1.512195</td>\n",
       "    </tr>\n",
       "    <tr>\n",
       "      <th rowspan=\"2\" valign=\"top\">male</th>\n",
       "      <th>C</th>\n",
       "      <td>0.666667</td>\n",
       "      <td>1.666667</td>\n",
       "    </tr>\n",
       "    <tr>\n",
       "      <th>S</th>\n",
       "      <td>0.869565</td>\n",
       "      <td>1.217391</td>\n",
       "    </tr>\n",
       "    <tr>\n",
       "      <th rowspan=\"6\" valign=\"top\">3</th>\n",
       "      <th rowspan=\"3\" valign=\"top\">female</th>\n",
       "      <th>C</th>\n",
       "      <td>0.647059</td>\n",
       "      <td>1.411765</td>\n",
       "    </tr>\n",
       "    <tr>\n",
       "      <th>Q</th>\n",
       "      <td>0.333333</td>\n",
       "      <td>2.666667</td>\n",
       "    </tr>\n",
       "    <tr>\n",
       "      <th>S</th>\n",
       "      <td>1.934426</td>\n",
       "      <td>2.065574</td>\n",
       "    </tr>\n",
       "    <tr>\n",
       "      <th rowspan=\"3\" valign=\"top\">male</th>\n",
       "      <th>C</th>\n",
       "      <td>0.727273</td>\n",
       "      <td>1.090909</td>\n",
       "    </tr>\n",
       "    <tr>\n",
       "      <th>Q</th>\n",
       "      <td>3.500000</td>\n",
       "      <td>1.000000</td>\n",
       "    </tr>\n",
       "    <tr>\n",
       "      <th>S</th>\n",
       "      <td>2.491228</td>\n",
       "      <td>1.894737</td>\n",
       "    </tr>\n",
       "  </tbody>\n",
       "</table>\n",
       "</div>"
      ],
      "text/plain": [
       "                           SibSp     Parch\n",
       "Pclass Sex    Embarked                    \n",
       "1      female C         0.523810  1.285714\n",
       "              S         0.807692  1.576923\n",
       "       male   C         0.444444  1.388889\n",
       "              S         0.875000  1.562500\n",
       "2      female C         1.000000  1.750000\n",
       "              S         0.682927  1.512195\n",
       "       male   C         0.666667  1.666667\n",
       "              S         0.869565  1.217391\n",
       "3      female C         0.647059  1.411765\n",
       "              Q         0.333333  2.666667\n",
       "              S         1.934426  2.065574\n",
       "       male   C         0.727273  1.090909\n",
       "              Q         3.500000  1.000000\n",
       "              S         2.491228  1.894737"
      ]
     },
     "execution_count": 48,
     "metadata": {},
     "output_type": "execute_result"
    }
   ],
   "source": [
    "#Same operation, just per group\n",
    "(class_groups\n",
    " .apply(lambda x: x[x.Parch!=0].groupby([\"Sex\", \"Embarked\"])[[\"SibSp\", \"Parch\"]]\n",
    "        .mean()))"
   ]
  },
  {
   "cell_type": "code",
   "execution_count": 49,
   "metadata": {},
   "outputs": [
    {
     "data": {
      "text/html": [
       "<div>\n",
       "<style scoped>\n",
       "    .dataframe tbody tr th:only-of-type {\n",
       "        vertical-align: middle;\n",
       "    }\n",
       "\n",
       "    .dataframe tbody tr th {\n",
       "        vertical-align: top;\n",
       "    }\n",
       "\n",
       "    .dataframe thead th {\n",
       "        text-align: right;\n",
       "    }\n",
       "</style>\n",
       "<table border=\"1\" class=\"dataframe\">\n",
       "  <thead>\n",
       "    <tr style=\"text-align: right;\">\n",
       "      <th></th>\n",
       "      <th></th>\n",
       "      <th></th>\n",
       "      <th>SibSp</th>\n",
       "      <th>Parch</th>\n",
       "    </tr>\n",
       "    <tr>\n",
       "      <th>Pclass</th>\n",
       "      <th>Sex</th>\n",
       "      <th>Embarked</th>\n",
       "      <th></th>\n",
       "      <th></th>\n",
       "    </tr>\n",
       "  </thead>\n",
       "  <tbody>\n",
       "    <tr>\n",
       "      <th rowspan=\"4\" valign=\"top\">1</th>\n",
       "      <th rowspan=\"2\" valign=\"top\">female</th>\n",
       "      <th>C</th>\n",
       "      <td>0.523810</td>\n",
       "      <td>1.285714</td>\n",
       "    </tr>\n",
       "    <tr>\n",
       "      <th>S</th>\n",
       "      <td>0.807692</td>\n",
       "      <td>1.576923</td>\n",
       "    </tr>\n",
       "    <tr>\n",
       "      <th rowspan=\"2\" valign=\"top\">male</th>\n",
       "      <th>C</th>\n",
       "      <td>0.444444</td>\n",
       "      <td>1.388889</td>\n",
       "    </tr>\n",
       "    <tr>\n",
       "      <th>S</th>\n",
       "      <td>0.875000</td>\n",
       "      <td>1.562500</td>\n",
       "    </tr>\n",
       "    <tr>\n",
       "      <th rowspan=\"4\" valign=\"top\">2</th>\n",
       "      <th rowspan=\"2\" valign=\"top\">female</th>\n",
       "      <th>C</th>\n",
       "      <td>1.000000</td>\n",
       "      <td>1.750000</td>\n",
       "    </tr>\n",
       "    <tr>\n",
       "      <th>S</th>\n",
       "      <td>0.682927</td>\n",
       "      <td>1.512195</td>\n",
       "    </tr>\n",
       "    <tr>\n",
       "      <th rowspan=\"2\" valign=\"top\">male</th>\n",
       "      <th>C</th>\n",
       "      <td>0.666667</td>\n",
       "      <td>1.666667</td>\n",
       "    </tr>\n",
       "    <tr>\n",
       "      <th>S</th>\n",
       "      <td>0.869565</td>\n",
       "      <td>1.217391</td>\n",
       "    </tr>\n",
       "    <tr>\n",
       "      <th rowspan=\"6\" valign=\"top\">3</th>\n",
       "      <th rowspan=\"3\" valign=\"top\">female</th>\n",
       "      <th>C</th>\n",
       "      <td>0.647059</td>\n",
       "      <td>1.411765</td>\n",
       "    </tr>\n",
       "    <tr>\n",
       "      <th>Q</th>\n",
       "      <td>0.333333</td>\n",
       "      <td>2.666667</td>\n",
       "    </tr>\n",
       "    <tr>\n",
       "      <th>S</th>\n",
       "      <td>1.934426</td>\n",
       "      <td>2.065574</td>\n",
       "    </tr>\n",
       "    <tr>\n",
       "      <th rowspan=\"3\" valign=\"top\">male</th>\n",
       "      <th>C</th>\n",
       "      <td>0.727273</td>\n",
       "      <td>1.090909</td>\n",
       "    </tr>\n",
       "    <tr>\n",
       "      <th>Q</th>\n",
       "      <td>3.500000</td>\n",
       "      <td>1.000000</td>\n",
       "    </tr>\n",
       "    <tr>\n",
       "      <th>S</th>\n",
       "      <td>2.491228</td>\n",
       "      <td>1.894737</td>\n",
       "    </tr>\n",
       "  </tbody>\n",
       "</table>\n",
       "</div>"
      ],
      "text/plain": [
       "                           SibSp     Parch\n",
       "Pclass Sex    Embarked                    \n",
       "1      female C         0.523810  1.285714\n",
       "              S         0.807692  1.576923\n",
       "       male   C         0.444444  1.388889\n",
       "              S         0.875000  1.562500\n",
       "2      female C         1.000000  1.750000\n",
       "              S         0.682927  1.512195\n",
       "       male   C         0.666667  1.666667\n",
       "              S         0.869565  1.217391\n",
       "3      female C         0.647059  1.411765\n",
       "              Q         0.333333  2.666667\n",
       "              S         1.934426  2.065574\n",
       "       male   C         0.727273  1.090909\n",
       "              Q         3.500000  1.000000\n",
       "              S         2.491228  1.894737"
      ]
     },
     "execution_count": 49,
     "metadata": {},
     "output_type": "execute_result"
    }
   ],
   "source": [
    "#Same result as above, just without apply. Adds in pclass to the groupby\n",
    "(titanic[titanic.Parch!=0]\n",
    " .groupby(['Pclass', \"Sex\", \"Embarked\"])[[\"SibSp\", \"Parch\"]] #group by sex and embarked, and then take the mean of sibsip and parch\n",
    " .mean())"
   ]
  },
  {
   "cell_type": "markdown",
   "metadata": {},
   "source": [
    "## Mixing group keys"
   ]
  },
  {
   "cell_type": "markdown",
   "metadata": {},
   "source": [
    "Often we need to mix the keys..."
   ]
  },
  {
   "cell_type": "code",
   "execution_count": 50,
   "metadata": {
    "ExecuteTime": {
     "end_time": "2019-11-29T08:29:06.999894Z",
     "start_time": "2019-11-29T08:29:06.966667Z"
    }
   },
   "outputs": [
    {
     "data": {
      "text/html": [
       "<div>\n",
       "<style scoped>\n",
       "    .dataframe tbody tr th:only-of-type {\n",
       "        vertical-align: middle;\n",
       "    }\n",
       "\n",
       "    .dataframe tbody tr th {\n",
       "        vertical-align: top;\n",
       "    }\n",
       "\n",
       "    .dataframe thead th {\n",
       "        text-align: right;\n",
       "    }\n",
       "</style>\n",
       "<table border=\"1\" class=\"dataframe\">\n",
       "  <thead>\n",
       "    <tr style=\"text-align: right;\">\n",
       "      <th></th>\n",
       "      <th>Survived</th>\n",
       "      <th>Pclass</th>\n",
       "      <th>Name</th>\n",
       "      <th>Sex</th>\n",
       "      <th>Age</th>\n",
       "      <th>SibSp</th>\n",
       "      <th>Parch</th>\n",
       "      <th>Ticket</th>\n",
       "      <th>Fare</th>\n",
       "      <th>Cabin</th>\n",
       "      <th>Embarked</th>\n",
       "      <th>AgeGroup</th>\n",
       "    </tr>\n",
       "    <tr>\n",
       "      <th>PassengerId</th>\n",
       "      <th></th>\n",
       "      <th></th>\n",
       "      <th></th>\n",
       "      <th></th>\n",
       "      <th></th>\n",
       "      <th></th>\n",
       "      <th></th>\n",
       "      <th></th>\n",
       "      <th></th>\n",
       "      <th></th>\n",
       "      <th></th>\n",
       "      <th></th>\n",
       "    </tr>\n",
       "  </thead>\n",
       "  <tbody>\n",
       "    <tr>\n",
       "      <th>1</th>\n",
       "      <td>0.0</td>\n",
       "      <td>3</td>\n",
       "      <td>Braund, Mr. Owen Harris</td>\n",
       "      <td>male</td>\n",
       "      <td>22.0</td>\n",
       "      <td>1</td>\n",
       "      <td>0</td>\n",
       "      <td>A/5 21171</td>\n",
       "      <td>7.2500</td>\n",
       "      <td>NaN</td>\n",
       "      <td>S</td>\n",
       "      <td>25.0</td>\n",
       "    </tr>\n",
       "    <tr>\n",
       "      <th>2</th>\n",
       "      <td>1.0</td>\n",
       "      <td>1</td>\n",
       "      <td>Cumings, Mrs. John Bradley (Florence Briggs Th...</td>\n",
       "      <td>female</td>\n",
       "      <td>38.0</td>\n",
       "      <td>1</td>\n",
       "      <td>0</td>\n",
       "      <td>PC 17599</td>\n",
       "      <td>71.2833</td>\n",
       "      <td>C85</td>\n",
       "      <td>C</td>\n",
       "      <td>35.0</td>\n",
       "    </tr>\n",
       "    <tr>\n",
       "      <th>3</th>\n",
       "      <td>1.0</td>\n",
       "      <td>3</td>\n",
       "      <td>Heikkinen, Miss. Laina</td>\n",
       "      <td>female</td>\n",
       "      <td>26.0</td>\n",
       "      <td>0</td>\n",
       "      <td>0</td>\n",
       "      <td>STON/O2. 3101282</td>\n",
       "      <td>7.9250</td>\n",
       "      <td>NaN</td>\n",
       "      <td>S</td>\n",
       "      <td>25.0</td>\n",
       "    </tr>\n",
       "    <tr>\n",
       "      <th>4</th>\n",
       "      <td>1.0</td>\n",
       "      <td>1</td>\n",
       "      <td>Futrelle, Mrs. Jacques Heath (Lily May Peel)</td>\n",
       "      <td>female</td>\n",
       "      <td>35.0</td>\n",
       "      <td>1</td>\n",
       "      <td>0</td>\n",
       "      <td>113803</td>\n",
       "      <td>53.1000</td>\n",
       "      <td>C123</td>\n",
       "      <td>S</td>\n",
       "      <td>35.0</td>\n",
       "    </tr>\n",
       "    <tr>\n",
       "      <th>5</th>\n",
       "      <td>0.0</td>\n",
       "      <td>3</td>\n",
       "      <td>Allen, Mr. William Henry</td>\n",
       "      <td>male</td>\n",
       "      <td>35.0</td>\n",
       "      <td>0</td>\n",
       "      <td>0</td>\n",
       "      <td>373450</td>\n",
       "      <td>8.0500</td>\n",
       "      <td>NaN</td>\n",
       "      <td>S</td>\n",
       "      <td>35.0</td>\n",
       "    </tr>\n",
       "  </tbody>\n",
       "</table>\n",
       "</div>"
      ],
      "text/plain": [
       "             Survived  Pclass  \\\n",
       "PassengerId                     \n",
       "1                 0.0       3   \n",
       "2                 1.0       1   \n",
       "3                 1.0       3   \n",
       "4                 1.0       1   \n",
       "5                 0.0       3   \n",
       "\n",
       "                                                          Name     Sex   Age  \\\n",
       "PassengerId                                                                    \n",
       "1                                      Braund, Mr. Owen Harris    male  22.0   \n",
       "2            Cumings, Mrs. John Bradley (Florence Briggs Th...  female  38.0   \n",
       "3                                       Heikkinen, Miss. Laina  female  26.0   \n",
       "4                 Futrelle, Mrs. Jacques Heath (Lily May Peel)  female  35.0   \n",
       "5                                     Allen, Mr. William Henry    male  35.0   \n",
       "\n",
       "             SibSp  Parch            Ticket     Fare Cabin Embarked  AgeGroup  \n",
       "PassengerId                                                                    \n",
       "1                1      0         A/5 21171   7.2500   NaN        S      25.0  \n",
       "2                1      0          PC 17599  71.2833   C85        C      35.0  \n",
       "3                0      0  STON/O2. 3101282   7.9250   NaN        S      25.0  \n",
       "4                1      0            113803  53.1000  C123        S      35.0  \n",
       "5                0      0            373450   8.0500   NaN        S      35.0  "
      ]
     },
     "execution_count": 50,
     "metadata": {},
     "output_type": "execute_result"
    }
   ],
   "source": [
    "titanic.head()"
   ]
  },
  {
   "cell_type": "code",
   "execution_count": 51,
   "metadata": {
    "ExecuteTime": {
     "end_time": "2019-11-29T08:30:08.103918Z",
     "start_time": "2019-11-29T08:30:08.093677Z"
    }
   },
   "outputs": [],
   "source": [
    "titanic_idx = titanic.reset_index().set_index((5 + 10*(titanic.Age//10)))\n",
    "#remove the original index, and set a new one."
   ]
  },
  {
   "cell_type": "code",
   "execution_count": 52,
   "metadata": {
    "ExecuteTime": {
     "end_time": "2019-11-29T08:30:12.959766Z",
     "start_time": "2019-11-29T08:30:12.932544Z"
    }
   },
   "outputs": [
    {
     "data": {
      "text/html": [
       "<div>\n",
       "<style scoped>\n",
       "    .dataframe tbody tr th:only-of-type {\n",
       "        vertical-align: middle;\n",
       "    }\n",
       "\n",
       "    .dataframe tbody tr th {\n",
       "        vertical-align: top;\n",
       "    }\n",
       "\n",
       "    .dataframe thead th {\n",
       "        text-align: right;\n",
       "    }\n",
       "</style>\n",
       "<table border=\"1\" class=\"dataframe\">\n",
       "  <thead>\n",
       "    <tr style=\"text-align: right;\">\n",
       "      <th></th>\n",
       "      <th>PassengerId</th>\n",
       "      <th>Survived</th>\n",
       "      <th>Pclass</th>\n",
       "      <th>Name</th>\n",
       "      <th>Sex</th>\n",
       "      <th>Age</th>\n",
       "      <th>SibSp</th>\n",
       "      <th>Parch</th>\n",
       "      <th>Ticket</th>\n",
       "      <th>Fare</th>\n",
       "      <th>Cabin</th>\n",
       "      <th>Embarked</th>\n",
       "      <th>AgeGroup</th>\n",
       "    </tr>\n",
       "    <tr>\n",
       "      <th>Age</th>\n",
       "      <th></th>\n",
       "      <th></th>\n",
       "      <th></th>\n",
       "      <th></th>\n",
       "      <th></th>\n",
       "      <th></th>\n",
       "      <th></th>\n",
       "      <th></th>\n",
       "      <th></th>\n",
       "      <th></th>\n",
       "      <th></th>\n",
       "      <th></th>\n",
       "      <th></th>\n",
       "    </tr>\n",
       "  </thead>\n",
       "  <tbody>\n",
       "    <tr>\n",
       "      <th>25.0</th>\n",
       "      <td>1</td>\n",
       "      <td>0.0</td>\n",
       "      <td>3</td>\n",
       "      <td>Braund, Mr. Owen Harris</td>\n",
       "      <td>male</td>\n",
       "      <td>22.0</td>\n",
       "      <td>1</td>\n",
       "      <td>0</td>\n",
       "      <td>A/5 21171</td>\n",
       "      <td>7.2500</td>\n",
       "      <td>NaN</td>\n",
       "      <td>S</td>\n",
       "      <td>25.0</td>\n",
       "    </tr>\n",
       "    <tr>\n",
       "      <th>35.0</th>\n",
       "      <td>2</td>\n",
       "      <td>1.0</td>\n",
       "      <td>1</td>\n",
       "      <td>Cumings, Mrs. John Bradley (Florence Briggs Th...</td>\n",
       "      <td>female</td>\n",
       "      <td>38.0</td>\n",
       "      <td>1</td>\n",
       "      <td>0</td>\n",
       "      <td>PC 17599</td>\n",
       "      <td>71.2833</td>\n",
       "      <td>C85</td>\n",
       "      <td>C</td>\n",
       "      <td>35.0</td>\n",
       "    </tr>\n",
       "    <tr>\n",
       "      <th>25.0</th>\n",
       "      <td>3</td>\n",
       "      <td>1.0</td>\n",
       "      <td>3</td>\n",
       "      <td>Heikkinen, Miss. Laina</td>\n",
       "      <td>female</td>\n",
       "      <td>26.0</td>\n",
       "      <td>0</td>\n",
       "      <td>0</td>\n",
       "      <td>STON/O2. 3101282</td>\n",
       "      <td>7.9250</td>\n",
       "      <td>NaN</td>\n",
       "      <td>S</td>\n",
       "      <td>25.0</td>\n",
       "    </tr>\n",
       "    <tr>\n",
       "      <th>35.0</th>\n",
       "      <td>4</td>\n",
       "      <td>1.0</td>\n",
       "      <td>1</td>\n",
       "      <td>Futrelle, Mrs. Jacques Heath (Lily May Peel)</td>\n",
       "      <td>female</td>\n",
       "      <td>35.0</td>\n",
       "      <td>1</td>\n",
       "      <td>0</td>\n",
       "      <td>113803</td>\n",
       "      <td>53.1000</td>\n",
       "      <td>C123</td>\n",
       "      <td>S</td>\n",
       "      <td>35.0</td>\n",
       "    </tr>\n",
       "    <tr>\n",
       "      <th>35.0</th>\n",
       "      <td>5</td>\n",
       "      <td>0.0</td>\n",
       "      <td>3</td>\n",
       "      <td>Allen, Mr. William Henry</td>\n",
       "      <td>male</td>\n",
       "      <td>35.0</td>\n",
       "      <td>0</td>\n",
       "      <td>0</td>\n",
       "      <td>373450</td>\n",
       "      <td>8.0500</td>\n",
       "      <td>NaN</td>\n",
       "      <td>S</td>\n",
       "      <td>35.0</td>\n",
       "    </tr>\n",
       "  </tbody>\n",
       "</table>\n",
       "</div>"
      ],
      "text/plain": [
       "      PassengerId  Survived  Pclass  \\\n",
       "Age                                   \n",
       "25.0            1       0.0       3   \n",
       "35.0            2       1.0       1   \n",
       "25.0            3       1.0       3   \n",
       "35.0            4       1.0       1   \n",
       "35.0            5       0.0       3   \n",
       "\n",
       "                                                   Name     Sex   Age  SibSp  \\\n",
       "Age                                                                            \n",
       "25.0                            Braund, Mr. Owen Harris    male  22.0      1   \n",
       "35.0  Cumings, Mrs. John Bradley (Florence Briggs Th...  female  38.0      1   \n",
       "25.0                             Heikkinen, Miss. Laina  female  26.0      0   \n",
       "35.0       Futrelle, Mrs. Jacques Heath (Lily May Peel)  female  35.0      1   \n",
       "35.0                           Allen, Mr. William Henry    male  35.0      0   \n",
       "\n",
       "      Parch            Ticket     Fare Cabin Embarked  AgeGroup  \n",
       "Age                                                              \n",
       "25.0      0         A/5 21171   7.2500   NaN        S      25.0  \n",
       "35.0      0          PC 17599  71.2833   C85        C      35.0  \n",
       "25.0      0  STON/O2. 3101282   7.9250   NaN        S      25.0  \n",
       "35.0      0            113803  53.1000  C123        S      35.0  \n",
       "35.0      0            373450   8.0500   NaN        S      35.0  "
      ]
     },
     "execution_count": 52,
     "metadata": {},
     "output_type": "execute_result"
    }
   ],
   "source": [
    "titanic_idx.head()\n",
    "#Now, we have a grouping key"
   ]
  },
  {
   "cell_type": "markdown",
   "metadata": {},
   "source": [
    "`pd.Grouper` is an entry point to complex mixed groupings:"
   ]
  },
  {
   "cell_type": "code",
   "execution_count": 53,
   "metadata": {},
   "outputs": [
    {
     "name": "stdout",
     "output_type": "stream",
     "text": [
      "\u001b[1;31mInit signature:\u001b[0m \u001b[0mpd\u001b[0m\u001b[1;33m.\u001b[0m\u001b[0mGrouper\u001b[0m\u001b[1;33m(\u001b[0m\u001b[1;33m*\u001b[0m\u001b[0margs\u001b[0m\u001b[1;33m,\u001b[0m \u001b[1;33m**\u001b[0m\u001b[0mkwargs\u001b[0m\u001b[1;33m)\u001b[0m\u001b[1;33m\u001b[0m\u001b[1;33m\u001b[0m\u001b[0m\n",
      "\u001b[1;31mDocstring:\u001b[0m     \n",
      "A Grouper allows the user to specify a groupby instruction for an object.\n",
      "\n",
      "This specification will select a column via the key parameter, or if the\n",
      "level and/or axis parameters are given, a level of the index of the target\n",
      "object.\n",
      "\n",
      "If `axis` and/or `level` are passed as keywords to both `Grouper` and\n",
      "`groupby`, the values passed to `Grouper` take precedence.\n",
      "\n",
      "Parameters\n",
      "----------\n",
      "key : str, defaults to None\n",
      "    Groupby key, which selects the grouping column of the target.\n",
      "level : name/number, defaults to None\n",
      "    The level for the target index.\n",
      "freq : str / frequency object, defaults to None\n",
      "    This will groupby the specified frequency if the target selection\n",
      "    (via key or level) is a datetime-like object. For full specification\n",
      "    of available frequencies, please see `here\n",
      "    <https://pandas.pydata.org/pandas-docs/stable/user_guide/timeseries.html#offset-aliases>`_.\n",
      "axis : str, int, defaults to 0\n",
      "    Number/name of the axis.\n",
      "sort : bool, default to False\n",
      "    Whether to sort the resulting labels.\n",
      "closed : {'left' or 'right'}\n",
      "    Closed end of interval. Only when `freq` parameter is passed.\n",
      "label : {'left' or 'right'}\n",
      "    Interval boundary to use for labeling.\n",
      "    Only when `freq` parameter is passed.\n",
      "convention : {'start', 'end', 'e', 's'}\n",
      "    If grouper is PeriodIndex and `freq` parameter is passed.\n",
      "base : int, default 0\n",
      "    Only when `freq` parameter is passed.\n",
      "    For frequencies that evenly subdivide 1 day, the \"origin\" of the\n",
      "    aggregated intervals. For example, for '5min' frequency, base could\n",
      "    range from 0 through 4. Defaults to 0.\n",
      "\n",
      "    .. deprecated:: 1.1.0\n",
      "        The new arguments that you should use are 'offset' or 'origin'.\n",
      "\n",
      "loffset : str, DateOffset, timedelta object\n",
      "    Only when `freq` parameter is passed.\n",
      "\n",
      "    .. deprecated:: 1.1.0\n",
      "        loffset is only working for ``.resample(...)`` and not for\n",
      "        Grouper (:issue:`28302`).\n",
      "        However, loffset is also deprecated for ``.resample(...)``\n",
      "        See: :class:`DataFrame.resample`\n",
      "\n",
      "origin : {'epoch', 'start', 'start_day'}, Timestamp or str, default 'start_day'\n",
      "    The timestamp on which to adjust the grouping. The timezone of origin must\n",
      "    match the timezone of the index.\n",
      "    If a timestamp is not used, these values are also supported:\n",
      "\n",
      "    - 'epoch': `origin` is 1970-01-01\n",
      "    - 'start': `origin` is the first value of the timeseries\n",
      "    - 'start_day': `origin` is the first day at midnight of the timeseries\n",
      "\n",
      "    .. versionadded:: 1.1.0\n",
      "\n",
      "offset : Timedelta or str, default is None\n",
      "    An offset timedelta added to the origin.\n",
      "\n",
      "    .. versionadded:: 1.1.0\n",
      "\n",
      "dropna : bool, default True\n",
      "    If True, and if group keys contain NA values, NA values together with\n",
      "    row/column will be dropped. If False, NA values will also be treated as\n",
      "    the key in groups.\n",
      "\n",
      "    .. versionadded:: 1.2.0\n",
      "\n",
      "Returns\n",
      "-------\n",
      "A specification for a groupby instruction\n",
      "\n",
      "Examples\n",
      "--------\n",
      "Syntactic sugar for ``df.groupby('A')``\n",
      "\n",
      ">>> df = pd.DataFrame(\n",
      "...     {\n",
      "...         \"Animal\": [\"Falcon\", \"Parrot\", \"Falcon\", \"Falcon\", \"Parrot\"],\n",
      "...         \"Speed\": [100, 5, 200, 300, 15],\n",
      "...     }\n",
      "... )\n",
      ">>> df\n",
      "   Animal  Speed\n",
      "0  Falcon    100\n",
      "1  Parrot      5\n",
      "2  Falcon    200\n",
      "3  Falcon    300\n",
      "4  Parrot     15\n",
      ">>> df.groupby(pd.Grouper(key=\"Animal\")).mean()\n",
      "        Speed\n",
      "Animal\n",
      "Falcon    200\n",
      "Parrot     10\n",
      "\n",
      "Specify a resample operation on the column 'Publish date'\n",
      "\n",
      ">>> df = pd.DataFrame(\n",
      "...    {\n",
      "...        \"Publish date\": [\n",
      "...             pd.Timestamp(\"2000-01-02\"),\n",
      "...             pd.Timestamp(\"2000-01-02\"),\n",
      "...             pd.Timestamp(\"2000-01-09\"),\n",
      "...             pd.Timestamp(\"2000-01-16\")\n",
      "...         ],\n",
      "...         \"ID\": [0, 1, 2, 3],\n",
      "...         \"Price\": [10, 20, 30, 40]\n",
      "...     }\n",
      "... )\n",
      ">>> df\n",
      "  Publish date  ID  Price\n",
      "0   2000-01-02   0     10\n",
      "1   2000-01-02   1     20\n",
      "2   2000-01-09   2     30\n",
      "3   2000-01-16   3     40\n",
      ">>> df.groupby(pd.Grouper(key=\"Publish date\", freq=\"1W\")).mean()\n",
      "               ID  Price\n",
      "Publish date\n",
      "2000-01-02    0.5   15.0\n",
      "2000-01-09    2.0   30.0\n",
      "2000-01-16    3.0   40.0\n",
      "\n",
      "If you want to adjust the start of the bins based on a fixed timestamp:\n",
      "\n",
      ">>> start, end = '2000-10-01 23:30:00', '2000-10-02 00:30:00'\n",
      ">>> rng = pd.date_range(start, end, freq='7min')\n",
      ">>> ts = pd.Series(np.arange(len(rng)) * 3, index=rng)\n",
      ">>> ts\n",
      "2000-10-01 23:30:00     0\n",
      "2000-10-01 23:37:00     3\n",
      "2000-10-01 23:44:00     6\n",
      "2000-10-01 23:51:00     9\n",
      "2000-10-01 23:58:00    12\n",
      "2000-10-02 00:05:00    15\n",
      "2000-10-02 00:12:00    18\n",
      "2000-10-02 00:19:00    21\n",
      "2000-10-02 00:26:00    24\n",
      "Freq: 7T, dtype: int64\n",
      "\n",
      ">>> ts.groupby(pd.Grouper(freq='17min')).sum()\n",
      "2000-10-01 23:14:00     0\n",
      "2000-10-01 23:31:00     9\n",
      "2000-10-01 23:48:00    21\n",
      "2000-10-02 00:05:00    54\n",
      "2000-10-02 00:22:00    24\n",
      "Freq: 17T, dtype: int64\n",
      "\n",
      ">>> ts.groupby(pd.Grouper(freq='17min', origin='epoch')).sum()\n",
      "2000-10-01 23:18:00     0\n",
      "2000-10-01 23:35:00    18\n",
      "2000-10-01 23:52:00    27\n",
      "2000-10-02 00:09:00    39\n",
      "2000-10-02 00:26:00    24\n",
      "Freq: 17T, dtype: int64\n",
      "\n",
      ">>> ts.groupby(pd.Grouper(freq='17min', origin='2000-01-01')).sum()\n",
      "2000-10-01 23:24:00     3\n",
      "2000-10-01 23:41:00    15\n",
      "2000-10-01 23:58:00    45\n",
      "2000-10-02 00:15:00    45\n",
      "Freq: 17T, dtype: int64\n",
      "\n",
      "If you want to adjust the start of the bins with an `offset` Timedelta, the two\n",
      "following lines are equivalent:\n",
      "\n",
      ">>> ts.groupby(pd.Grouper(freq='17min', origin='start')).sum()\n",
      "2000-10-01 23:30:00     9\n",
      "2000-10-01 23:47:00    21\n",
      "2000-10-02 00:04:00    54\n",
      "2000-10-02 00:21:00    24\n",
      "Freq: 17T, dtype: int64\n",
      "\n",
      ">>> ts.groupby(pd.Grouper(freq='17min', offset='23h30min')).sum()\n",
      "2000-10-01 23:30:00     9\n",
      "2000-10-01 23:47:00    21\n",
      "2000-10-02 00:04:00    54\n",
      "2000-10-02 00:21:00    24\n",
      "Freq: 17T, dtype: int64\n",
      "\n",
      "To replace the use of the deprecated `base` argument, you can now use `offset`,\n",
      "in this example it is equivalent to have `base=2`:\n",
      "\n",
      ">>> ts.groupby(pd.Grouper(freq='17min', offset='2min')).sum()\n",
      "2000-10-01 23:16:00     0\n",
      "2000-10-01 23:33:00     9\n",
      "2000-10-01 23:50:00    36\n",
      "2000-10-02 00:07:00    39\n",
      "2000-10-02 00:24:00    24\n",
      "Freq: 17T, dtype: int64\n",
      "\u001b[1;31mFile:\u001b[0m           c:\\users\\sfrie\\appdata\\local\\programs\\python\\python39\\lib\\site-packages\\pandas\\core\\groupby\\grouper.py\n",
      "\u001b[1;31mType:\u001b[0m           type\n",
      "\u001b[1;31mSubclasses:\u001b[0m     \n"
     ]
    }
   ],
   "source": [
    "pd.Grouper?\n",
    "#pd.Grouper is a shortcut to combining more or less what you want. It allows you to make grouping keys on datatime, levels, columns, whatever.\n",
    "#So if something can't be represtned as a list of keys, it can be represtned as a grouper. For example, I want a weekly key\n",
    "#on a column, and we on our own don't do any calculations.\n",
    "#We use it more or less striaghtifrowadly"
   ]
  },
  {
   "cell_type": "code",
   "execution_count": 54,
   "metadata": {
    "ExecuteTime": {
     "end_time": "2019-11-29T08:32:13.977127Z",
     "start_time": "2019-11-29T08:32:13.957383Z"
    }
   },
   "outputs": [
    {
     "data": {
      "text/plain": [
       "Age   Pclass\n",
       "5.0   1         2.000000\n",
       "      2         1.409091\n",
       "      3         1.339286\n",
       "15.0  1         0.863636\n",
       "      2         0.310345\n",
       "      3         0.445652\n",
       "25.0  1         0.480769\n",
       "      2         0.288889\n",
       "      3         0.128713\n",
       "35.0  1         0.250000\n",
       "      2         0.265625\n",
       "      3         0.395833\n",
       "45.0  1         0.209677\n",
       "      2         0.451613\n",
       "      3         0.976190\n",
       "55.0  1         0.369565\n",
       "      2         0.235294\n",
       "      3         0.000000\n",
       "65.0  1         0.761905\n",
       "      2         0.142857\n",
       "      3         0.000000\n",
       "75.0  1         0.250000\n",
       "      2         0.000000\n",
       "      3         0.000000\n",
       "85.0  1         0.000000\n",
       "Name: Parch, dtype: float64"
      ]
     },
     "execution_count": 54,
     "metadata": {},
     "output_type": "execute_result"
    }
   ],
   "source": [
    "titanic_idx.groupby([pd.Grouper(level=\"Age\"), \"Pclass\"]).Parch.mean()"
   ]
  },
  {
   "cell_type": "code",
   "execution_count": 55,
   "metadata": {},
   "outputs": [
    {
     "data": {
      "text/plain": [
       "Float64Index([25.0, 35.0, 25.0, 35.0, 35.0,  nan, 55.0,  5.0, 25.0, 15.0,\n",
       "              ...\n",
       "               nan,  5.0,  nan, 35.0, 25.0,  nan, 35.0, 35.0,  nan,  nan],\n",
       "             dtype='float64', name='Age', length=1309)"
      ]
     },
     "execution_count": 55,
     "metadata": {},
     "output_type": "execute_result"
    }
   ],
   "source": [
    "titanic_idx.index"
   ]
  },
  {
   "cell_type": "code",
   "execution_count": 56,
   "metadata": {
    "ExecuteTime": {
     "end_time": "2019-11-29T08:32:17.895479Z",
     "start_time": "2019-11-29T08:32:17.875655Z"
    }
   },
   "outputs": [
    {
     "data": {
      "text/plain": [
       "Age   Pclass\n",
       "5.0   1         2.000000\n",
       "      2         1.409091\n",
       "      3         1.339286\n",
       "15.0  1         0.863636\n",
       "      2         0.310345\n",
       "      3         0.445652\n",
       "25.0  1         0.480769\n",
       "      2         0.288889\n",
       "      3         0.128713\n",
       "35.0  1         0.250000\n",
       "      2         0.265625\n",
       "      3         0.395833\n",
       "45.0  1         0.209677\n",
       "      2         0.451613\n",
       "      3         0.976190\n",
       "55.0  1         0.369565\n",
       "      2         0.235294\n",
       "      3         0.000000\n",
       "65.0  1         0.761905\n",
       "      2         0.142857\n",
       "      3         0.000000\n",
       "75.0  1         0.250000\n",
       "      2         0.000000\n",
       "      3         0.000000\n",
       "85.0  1         0.000000\n",
       "Name: Parch, dtype: float64"
      ]
     },
     "execution_count": 56,
     "metadata": {},
     "output_type": "execute_result"
    }
   ],
   "source": [
    "titanic_idx.groupby([titanic_idx.index, \"Pclass\"]).Parch.mean()"
   ]
  },
  {
   "cell_type": "markdown",
   "metadata": {},
   "source": [
    "### Intermezzo: on `size` vs. `count`"
   ]
  },
  {
   "cell_type": "markdown",
   "metadata": {},
   "source": [
    "`size` is a method to get, you name it, **size** of something, in this case, of a group:"
   ]
  },
  {
   "cell_type": "code",
   "execution_count": 57,
   "metadata": {},
   "outputs": [
    {
     "data": {
      "text/plain": [
       "Pclass\n",
       "1    323\n",
       "2    277\n",
       "3    709\n",
       "dtype: int64"
      ]
     },
     "execution_count": 57,
     "metadata": {},
     "output_type": "execute_result"
    }
   ],
   "source": [
    "titanic.groupby('Pclass').size()  ## how many elements are in each group"
   ]
  },
  {
   "cell_type": "markdown",
   "metadata": {},
   "source": [
    "But you **count** only something specific:"
   ]
  },
  {
   "cell_type": "code",
   "execution_count": 58,
   "metadata": {},
   "outputs": [
    {
     "data": {
      "text/html": [
       "<div>\n",
       "<style scoped>\n",
       "    .dataframe tbody tr th:only-of-type {\n",
       "        vertical-align: middle;\n",
       "    }\n",
       "\n",
       "    .dataframe tbody tr th {\n",
       "        vertical-align: top;\n",
       "    }\n",
       "\n",
       "    .dataframe thead th {\n",
       "        text-align: right;\n",
       "    }\n",
       "</style>\n",
       "<table border=\"1\" class=\"dataframe\">\n",
       "  <thead>\n",
       "    <tr style=\"text-align: right;\">\n",
       "      <th></th>\n",
       "      <th>Survived</th>\n",
       "      <th>Name</th>\n",
       "      <th>Sex</th>\n",
       "      <th>Age</th>\n",
       "      <th>SibSp</th>\n",
       "      <th>Parch</th>\n",
       "      <th>Ticket</th>\n",
       "      <th>Fare</th>\n",
       "      <th>Cabin</th>\n",
       "      <th>Embarked</th>\n",
       "      <th>AgeGroup</th>\n",
       "    </tr>\n",
       "    <tr>\n",
       "      <th>Pclass</th>\n",
       "      <th></th>\n",
       "      <th></th>\n",
       "      <th></th>\n",
       "      <th></th>\n",
       "      <th></th>\n",
       "      <th></th>\n",
       "      <th></th>\n",
       "      <th></th>\n",
       "      <th></th>\n",
       "      <th></th>\n",
       "      <th></th>\n",
       "    </tr>\n",
       "  </thead>\n",
       "  <tbody>\n",
       "    <tr>\n",
       "      <th>1</th>\n",
       "      <td>216</td>\n",
       "      <td>323</td>\n",
       "      <td>323</td>\n",
       "      <td>284</td>\n",
       "      <td>323</td>\n",
       "      <td>323</td>\n",
       "      <td>323</td>\n",
       "      <td>323</td>\n",
       "      <td>256</td>\n",
       "      <td>321</td>\n",
       "      <td>284</td>\n",
       "    </tr>\n",
       "    <tr>\n",
       "      <th>2</th>\n",
       "      <td>184</td>\n",
       "      <td>277</td>\n",
       "      <td>277</td>\n",
       "      <td>261</td>\n",
       "      <td>277</td>\n",
       "      <td>277</td>\n",
       "      <td>277</td>\n",
       "      <td>277</td>\n",
       "      <td>23</td>\n",
       "      <td>277</td>\n",
       "      <td>261</td>\n",
       "    </tr>\n",
       "    <tr>\n",
       "      <th>3</th>\n",
       "      <td>491</td>\n",
       "      <td>709</td>\n",
       "      <td>709</td>\n",
       "      <td>501</td>\n",
       "      <td>709</td>\n",
       "      <td>709</td>\n",
       "      <td>709</td>\n",
       "      <td>708</td>\n",
       "      <td>16</td>\n",
       "      <td>709</td>\n",
       "      <td>501</td>\n",
       "    </tr>\n",
       "  </tbody>\n",
       "</table>\n",
       "</div>"
      ],
      "text/plain": [
       "        Survived  Name  Sex  Age  SibSp  Parch  Ticket  Fare  Cabin  Embarked  \\\n",
       "Pclass                                                                          \n",
       "1            216   323  323  284    323    323     323   323    256       321   \n",
       "2            184   277  277  261    277    277     277   277     23       277   \n",
       "3            491   709  709  501    709    709     709   708     16       709   \n",
       "\n",
       "        AgeGroup  \n",
       "Pclass            \n",
       "1            284  \n",
       "2            261  \n",
       "3            501  "
      ]
     },
     "execution_count": 58,
     "metadata": {},
     "output_type": "execute_result"
    }
   ],
   "source": [
    "titanic.groupby('Pclass').count()"
   ]
  },
  {
   "cell_type": "markdown",
   "metadata": {},
   "source": [
    "As you can see, `count` only counts non-missing values, i.e. something, that is present in the dataframe. Hence, a bit more elaborated way of getting (almost) the same is:"
   ]
  },
  {
   "cell_type": "code",
   "execution_count": 59,
   "metadata": {},
   "outputs": [
    {
     "data": {
      "text/html": [
       "<div>\n",
       "<style scoped>\n",
       "    .dataframe tbody tr th:only-of-type {\n",
       "        vertical-align: middle;\n",
       "    }\n",
       "\n",
       "    .dataframe tbody tr th {\n",
       "        vertical-align: top;\n",
       "    }\n",
       "\n",
       "    .dataframe thead th {\n",
       "        text-align: right;\n",
       "    }\n",
       "</style>\n",
       "<table border=\"1\" class=\"dataframe\">\n",
       "  <thead>\n",
       "    <tr style=\"text-align: right;\">\n",
       "      <th></th>\n",
       "      <th>Survived</th>\n",
       "      <th>Pclass</th>\n",
       "      <th>Name</th>\n",
       "      <th>Sex</th>\n",
       "      <th>Age</th>\n",
       "      <th>SibSp</th>\n",
       "      <th>Parch</th>\n",
       "      <th>Ticket</th>\n",
       "      <th>Fare</th>\n",
       "      <th>Cabin</th>\n",
       "      <th>Embarked</th>\n",
       "      <th>AgeGroup</th>\n",
       "    </tr>\n",
       "    <tr>\n",
       "      <th>PassengerId</th>\n",
       "      <th></th>\n",
       "      <th></th>\n",
       "      <th></th>\n",
       "      <th></th>\n",
       "      <th></th>\n",
       "      <th></th>\n",
       "      <th></th>\n",
       "      <th></th>\n",
       "      <th></th>\n",
       "      <th></th>\n",
       "      <th></th>\n",
       "      <th></th>\n",
       "    </tr>\n",
       "  </thead>\n",
       "  <tbody>\n",
       "    <tr>\n",
       "      <th>1</th>\n",
       "      <td>False</td>\n",
       "      <td>False</td>\n",
       "      <td>False</td>\n",
       "      <td>False</td>\n",
       "      <td>False</td>\n",
       "      <td>False</td>\n",
       "      <td>False</td>\n",
       "      <td>False</td>\n",
       "      <td>False</td>\n",
       "      <td>True</td>\n",
       "      <td>False</td>\n",
       "      <td>False</td>\n",
       "    </tr>\n",
       "    <tr>\n",
       "      <th>2</th>\n",
       "      <td>False</td>\n",
       "      <td>False</td>\n",
       "      <td>False</td>\n",
       "      <td>False</td>\n",
       "      <td>False</td>\n",
       "      <td>False</td>\n",
       "      <td>False</td>\n",
       "      <td>False</td>\n",
       "      <td>False</td>\n",
       "      <td>False</td>\n",
       "      <td>False</td>\n",
       "      <td>False</td>\n",
       "    </tr>\n",
       "    <tr>\n",
       "      <th>3</th>\n",
       "      <td>False</td>\n",
       "      <td>False</td>\n",
       "      <td>False</td>\n",
       "      <td>False</td>\n",
       "      <td>False</td>\n",
       "      <td>False</td>\n",
       "      <td>False</td>\n",
       "      <td>False</td>\n",
       "      <td>False</td>\n",
       "      <td>True</td>\n",
       "      <td>False</td>\n",
       "      <td>False</td>\n",
       "    </tr>\n",
       "    <tr>\n",
       "      <th>4</th>\n",
       "      <td>False</td>\n",
       "      <td>False</td>\n",
       "      <td>False</td>\n",
       "      <td>False</td>\n",
       "      <td>False</td>\n",
       "      <td>False</td>\n",
       "      <td>False</td>\n",
       "      <td>False</td>\n",
       "      <td>False</td>\n",
       "      <td>False</td>\n",
       "      <td>False</td>\n",
       "      <td>False</td>\n",
       "    </tr>\n",
       "    <tr>\n",
       "      <th>5</th>\n",
       "      <td>False</td>\n",
       "      <td>False</td>\n",
       "      <td>False</td>\n",
       "      <td>False</td>\n",
       "      <td>False</td>\n",
       "      <td>False</td>\n",
       "      <td>False</td>\n",
       "      <td>False</td>\n",
       "      <td>False</td>\n",
       "      <td>True</td>\n",
       "      <td>False</td>\n",
       "      <td>False</td>\n",
       "    </tr>\n",
       "    <tr>\n",
       "      <th>...</th>\n",
       "      <td>...</td>\n",
       "      <td>...</td>\n",
       "      <td>...</td>\n",
       "      <td>...</td>\n",
       "      <td>...</td>\n",
       "      <td>...</td>\n",
       "      <td>...</td>\n",
       "      <td>...</td>\n",
       "      <td>...</td>\n",
       "      <td>...</td>\n",
       "      <td>...</td>\n",
       "      <td>...</td>\n",
       "    </tr>\n",
       "    <tr>\n",
       "      <th>1305</th>\n",
       "      <td>True</td>\n",
       "      <td>False</td>\n",
       "      <td>False</td>\n",
       "      <td>False</td>\n",
       "      <td>True</td>\n",
       "      <td>False</td>\n",
       "      <td>False</td>\n",
       "      <td>False</td>\n",
       "      <td>False</td>\n",
       "      <td>True</td>\n",
       "      <td>False</td>\n",
       "      <td>True</td>\n",
       "    </tr>\n",
       "    <tr>\n",
       "      <th>1306</th>\n",
       "      <td>True</td>\n",
       "      <td>False</td>\n",
       "      <td>False</td>\n",
       "      <td>False</td>\n",
       "      <td>False</td>\n",
       "      <td>False</td>\n",
       "      <td>False</td>\n",
       "      <td>False</td>\n",
       "      <td>False</td>\n",
       "      <td>False</td>\n",
       "      <td>False</td>\n",
       "      <td>False</td>\n",
       "    </tr>\n",
       "    <tr>\n",
       "      <th>1307</th>\n",
       "      <td>True</td>\n",
       "      <td>False</td>\n",
       "      <td>False</td>\n",
       "      <td>False</td>\n",
       "      <td>False</td>\n",
       "      <td>False</td>\n",
       "      <td>False</td>\n",
       "      <td>False</td>\n",
       "      <td>False</td>\n",
       "      <td>True</td>\n",
       "      <td>False</td>\n",
       "      <td>False</td>\n",
       "    </tr>\n",
       "    <tr>\n",
       "      <th>1308</th>\n",
       "      <td>True</td>\n",
       "      <td>False</td>\n",
       "      <td>False</td>\n",
       "      <td>False</td>\n",
       "      <td>True</td>\n",
       "      <td>False</td>\n",
       "      <td>False</td>\n",
       "      <td>False</td>\n",
       "      <td>False</td>\n",
       "      <td>True</td>\n",
       "      <td>False</td>\n",
       "      <td>True</td>\n",
       "    </tr>\n",
       "    <tr>\n",
       "      <th>1309</th>\n",
       "      <td>True</td>\n",
       "      <td>False</td>\n",
       "      <td>False</td>\n",
       "      <td>False</td>\n",
       "      <td>True</td>\n",
       "      <td>False</td>\n",
       "      <td>False</td>\n",
       "      <td>False</td>\n",
       "      <td>False</td>\n",
       "      <td>True</td>\n",
       "      <td>False</td>\n",
       "      <td>True</td>\n",
       "    </tr>\n",
       "  </tbody>\n",
       "</table>\n",
       "<p>1309 rows × 12 columns</p>\n",
       "</div>"
      ],
      "text/plain": [
       "             Survived  Pclass   Name    Sex    Age  SibSp  Parch  Ticket  \\\n",
       "PassengerId                                                                \n",
       "1               False   False  False  False  False  False  False   False   \n",
       "2               False   False  False  False  False  False  False   False   \n",
       "3               False   False  False  False  False  False  False   False   \n",
       "4               False   False  False  False  False  False  False   False   \n",
       "5               False   False  False  False  False  False  False   False   \n",
       "...               ...     ...    ...    ...    ...    ...    ...     ...   \n",
       "1305             True   False  False  False   True  False  False   False   \n",
       "1306             True   False  False  False  False  False  False   False   \n",
       "1307             True   False  False  False  False  False  False   False   \n",
       "1308             True   False  False  False   True  False  False   False   \n",
       "1309             True   False  False  False   True  False  False   False   \n",
       "\n",
       "              Fare  Cabin  Embarked  AgeGroup  \n",
       "PassengerId                                    \n",
       "1            False   True     False     False  \n",
       "2            False  False     False     False  \n",
       "3            False   True     False     False  \n",
       "4            False  False     False     False  \n",
       "5            False   True     False     False  \n",
       "...            ...    ...       ...       ...  \n",
       "1305         False   True     False      True  \n",
       "1306         False  False     False     False  \n",
       "1307         False   True     False     False  \n",
       "1308         False   True     False      True  \n",
       "1309         False   True     False      True  \n",
       "\n",
       "[1309 rows x 12 columns]"
      ]
     },
     "execution_count": 59,
     "metadata": {},
     "output_type": "execute_result"
    }
   ],
   "source": [
    "titanic.isnull()"
   ]
  },
  {
   "cell_type": "code",
   "execution_count": 60,
   "metadata": {},
   "outputs": [
    {
     "data": {
      "text/html": [
       "<div>\n",
       "<style scoped>\n",
       "    .dataframe tbody tr th:only-of-type {\n",
       "        vertical-align: middle;\n",
       "    }\n",
       "\n",
       "    .dataframe tbody tr th {\n",
       "        vertical-align: top;\n",
       "    }\n",
       "\n",
       "    .dataframe thead th {\n",
       "        text-align: right;\n",
       "    }\n",
       "</style>\n",
       "<table border=\"1\" class=\"dataframe\">\n",
       "  <thead>\n",
       "    <tr style=\"text-align: right;\">\n",
       "      <th></th>\n",
       "      <th>Survived</th>\n",
       "      <th>Pclass</th>\n",
       "      <th>Name</th>\n",
       "      <th>Sex</th>\n",
       "      <th>Age</th>\n",
       "      <th>SibSp</th>\n",
       "      <th>Parch</th>\n",
       "      <th>Ticket</th>\n",
       "      <th>Fare</th>\n",
       "      <th>Cabin</th>\n",
       "      <th>Embarked</th>\n",
       "      <th>AgeGroup</th>\n",
       "    </tr>\n",
       "    <tr>\n",
       "      <th>Pclass</th>\n",
       "      <th></th>\n",
       "      <th></th>\n",
       "      <th></th>\n",
       "      <th></th>\n",
       "      <th></th>\n",
       "      <th></th>\n",
       "      <th></th>\n",
       "      <th></th>\n",
       "      <th></th>\n",
       "      <th></th>\n",
       "      <th></th>\n",
       "      <th></th>\n",
       "    </tr>\n",
       "  </thead>\n",
       "  <tbody>\n",
       "    <tr>\n",
       "      <th>1</th>\n",
       "      <td>216</td>\n",
       "      <td>323</td>\n",
       "      <td>323</td>\n",
       "      <td>323</td>\n",
       "      <td>284</td>\n",
       "      <td>323</td>\n",
       "      <td>323</td>\n",
       "      <td>323</td>\n",
       "      <td>323</td>\n",
       "      <td>256</td>\n",
       "      <td>321</td>\n",
       "      <td>284</td>\n",
       "    </tr>\n",
       "    <tr>\n",
       "      <th>2</th>\n",
       "      <td>184</td>\n",
       "      <td>277</td>\n",
       "      <td>277</td>\n",
       "      <td>277</td>\n",
       "      <td>261</td>\n",
       "      <td>277</td>\n",
       "      <td>277</td>\n",
       "      <td>277</td>\n",
       "      <td>277</td>\n",
       "      <td>23</td>\n",
       "      <td>277</td>\n",
       "      <td>261</td>\n",
       "    </tr>\n",
       "    <tr>\n",
       "      <th>3</th>\n",
       "      <td>491</td>\n",
       "      <td>709</td>\n",
       "      <td>709</td>\n",
       "      <td>709</td>\n",
       "      <td>501</td>\n",
       "      <td>709</td>\n",
       "      <td>709</td>\n",
       "      <td>709</td>\n",
       "      <td>708</td>\n",
       "      <td>16</td>\n",
       "      <td>709</td>\n",
       "      <td>501</td>\n",
       "    </tr>\n",
       "  </tbody>\n",
       "</table>\n",
       "</div>"
      ],
      "text/plain": [
       "        Survived  Pclass  Name  Sex  Age  SibSp  Parch  Ticket  Fare  Cabin  \\\n",
       "Pclass                                                                        \n",
       "1            216     323   323  323  284    323    323     323   323    256   \n",
       "2            184     277   277  277  261    277    277     277   277     23   \n",
       "3            491     709   709  709  501    709    709     709   708     16   \n",
       "\n",
       "        Embarked  AgeGroup  \n",
       "Pclass                      \n",
       "1            321       284  \n",
       "2            277       261  \n",
       "3            709       501  "
      ]
     },
     "execution_count": 60,
     "metadata": {},
     "output_type": "execute_result"
    }
   ],
   "source": [
    "titanic.groupby('Pclass').apply(lambda group: group.notnull().sum())\n",
    "#This is the same as .count()-- sums all of the non-null values"
   ]
  },
  {
   "cell_type": "markdown",
   "metadata": {},
   "source": [
    "# How `S-A-C` is important in exploratory data analysis"
   ]
  },
  {
   "cell_type": "markdown",
   "metadata": {},
   "source": [
    "There are no exact methods for explaratory analysis- anything you can do with a data set to understand it better, works. Its all subjective to what you are trying to understand from your data."
   ]
  },
  {
   "cell_type": "code",
   "execution_count": 61,
   "metadata": {},
   "outputs": [
    {
     "data": {
      "text/plain": [
       "3    709\n",
       "1    323\n",
       "2    277\n",
       "Name: Pclass, dtype: int64"
      ]
     },
     "execution_count": 61,
     "metadata": {},
     "output_type": "execute_result"
    }
   ],
   "source": [
    "titanic.Pclass.value_counts()"
   ]
  },
  {
   "cell_type": "code",
   "execution_count": 62,
   "metadata": {},
   "outputs": [
    {
     "data": {
      "text/html": [
       "<div>\n",
       "<style scoped>\n",
       "    .dataframe tbody tr th:only-of-type {\n",
       "        vertical-align: middle;\n",
       "    }\n",
       "\n",
       "    .dataframe tbody tr th {\n",
       "        vertical-align: top;\n",
       "    }\n",
       "\n",
       "    .dataframe thead th {\n",
       "        text-align: right;\n",
       "    }\n",
       "</style>\n",
       "<table border=\"1\" class=\"dataframe\">\n",
       "  <thead>\n",
       "    <tr style=\"text-align: right;\">\n",
       "      <th></th>\n",
       "      <th>Age</th>\n",
       "      <th>AgeGroup</th>\n",
       "    </tr>\n",
       "    <tr>\n",
       "      <th>PassengerId</th>\n",
       "      <th></th>\n",
       "      <th></th>\n",
       "    </tr>\n",
       "  </thead>\n",
       "  <tbody>\n",
       "    <tr>\n",
       "      <th>1</th>\n",
       "      <td>22.0</td>\n",
       "      <td>25.0</td>\n",
       "    </tr>\n",
       "    <tr>\n",
       "      <th>2</th>\n",
       "      <td>38.0</td>\n",
       "      <td>35.0</td>\n",
       "    </tr>\n",
       "    <tr>\n",
       "      <th>3</th>\n",
       "      <td>26.0</td>\n",
       "      <td>25.0</td>\n",
       "    </tr>\n",
       "    <tr>\n",
       "      <th>4</th>\n",
       "      <td>35.0</td>\n",
       "      <td>35.0</td>\n",
       "    </tr>\n",
       "    <tr>\n",
       "      <th>5</th>\n",
       "      <td>35.0</td>\n",
       "      <td>35.0</td>\n",
       "    </tr>\n",
       "    <tr>\n",
       "      <th>...</th>\n",
       "      <td>...</td>\n",
       "      <td>...</td>\n",
       "    </tr>\n",
       "    <tr>\n",
       "      <th>1305</th>\n",
       "      <td>NaN</td>\n",
       "      <td>NaN</td>\n",
       "    </tr>\n",
       "    <tr>\n",
       "      <th>1306</th>\n",
       "      <td>39.0</td>\n",
       "      <td>35.0</td>\n",
       "    </tr>\n",
       "    <tr>\n",
       "      <th>1307</th>\n",
       "      <td>38.5</td>\n",
       "      <td>35.0</td>\n",
       "    </tr>\n",
       "    <tr>\n",
       "      <th>1308</th>\n",
       "      <td>NaN</td>\n",
       "      <td>NaN</td>\n",
       "    </tr>\n",
       "    <tr>\n",
       "      <th>1309</th>\n",
       "      <td>NaN</td>\n",
       "      <td>NaN</td>\n",
       "    </tr>\n",
       "  </tbody>\n",
       "</table>\n",
       "<p>1309 rows × 2 columns</p>\n",
       "</div>"
      ],
      "text/plain": [
       "              Age  AgeGroup\n",
       "PassengerId                \n",
       "1            22.0      25.0\n",
       "2            38.0      35.0\n",
       "3            26.0      25.0\n",
       "4            35.0      35.0\n",
       "5            35.0      35.0\n",
       "...           ...       ...\n",
       "1305          NaN       NaN\n",
       "1306         39.0      35.0\n",
       "1307         38.5      35.0\n",
       "1308          NaN       NaN\n",
       "1309          NaN       NaN\n",
       "\n",
       "[1309 rows x 2 columns]"
      ]
     },
     "execution_count": 62,
     "metadata": {},
     "output_type": "execute_result"
    }
   ],
   "source": [
    "#We won't work on the original age, because there is no reasonable grouping of it-- its float, and too find grained.\n",
    "titanic[\"AgeGroup\"] = 5 + 10*(titanic.Age//10)\n",
    "titanic[[\"Age\", \"AgeGroup\"]]"
   ]
  },
  {
   "cell_type": "markdown",
   "metadata": {},
   "source": [
    "Let's calculate something non-trivial. For example, percentage of each age group and sex combination, per class:"
   ]
  },
  {
   "cell_type": "code",
   "execution_count": 63,
   "metadata": {},
   "outputs": [
    {
     "data": {
      "text/plain": [
       "Pclass  AgeGroup  Sex   \n",
       "1       5.0       female    0.003521\n",
       "                  male      0.010563\n",
       "        15.0      female    0.052817\n",
       "                  male      0.024648\n",
       "        25.0      female    0.095070\n",
       "dtype: float64"
      ]
     },
     "execution_count": 63,
     "metadata": {},
     "output_type": "execute_result"
    }
   ],
   "source": [
    "titanic_dna = titanic[titanic.Age.notnull()]  #remove all rows that have null values in age.\n",
    "# it's a matter of discussion, if we need this: think on it a bit\n",
    "group_counts = titanic_dna.groupby(['Pclass', 'AgeGroup', 'Sex']).size()/titanic_dna.groupby('Pclass').size()\n",
    "#calculate a ratio between each group and each Pclass. \n",
    "group_counts.head()\n",
    "#the percentages, for example the 0.0528, is the amount of females of 15 specifically in Pclass 1, not all pasengers."
   ]
  },
  {
   "cell_type": "code",
   "execution_count": 64,
   "metadata": {},
   "outputs": [
    {
     "data": {
      "text/html": [
       "<div>\n",
       "<style scoped>\n",
       "    .dataframe tbody tr th:only-of-type {\n",
       "        vertical-align: middle;\n",
       "    }\n",
       "\n",
       "    .dataframe tbody tr th {\n",
       "        vertical-align: top;\n",
       "    }\n",
       "\n",
       "    .dataframe thead th {\n",
       "        text-align: right;\n",
       "    }\n",
       "</style>\n",
       "<table border=\"1\" class=\"dataframe\">\n",
       "  <thead>\n",
       "    <tr style=\"text-align: right;\">\n",
       "      <th></th>\n",
       "      <th>AgeGroup</th>\n",
       "      <th>5.0</th>\n",
       "      <th>15.0</th>\n",
       "      <th>25.0</th>\n",
       "      <th>35.0</th>\n",
       "      <th>45.0</th>\n",
       "      <th>55.0</th>\n",
       "      <th>65.0</th>\n",
       "      <th>75.0</th>\n",
       "      <th>85.0</th>\n",
       "    </tr>\n",
       "    <tr>\n",
       "      <th>Pclass</th>\n",
       "      <th>Sex</th>\n",
       "      <th></th>\n",
       "      <th></th>\n",
       "      <th></th>\n",
       "      <th></th>\n",
       "      <th></th>\n",
       "      <th></th>\n",
       "      <th></th>\n",
       "      <th></th>\n",
       "      <th></th>\n",
       "    </tr>\n",
       "  </thead>\n",
       "  <tbody>\n",
       "    <tr>\n",
       "      <th rowspan=\"2\" valign=\"top\">1</th>\n",
       "      <th>female</th>\n",
       "      <td>0.003521</td>\n",
       "      <td>0.052817</td>\n",
       "      <td>0.095070</td>\n",
       "      <td>0.133803</td>\n",
       "      <td>0.077465</td>\n",
       "      <td>0.073944</td>\n",
       "      <td>0.028169</td>\n",
       "      <td>0.003521</td>\n",
       "      <td>NaN</td>\n",
       "    </tr>\n",
       "    <tr>\n",
       "      <th>male</th>\n",
       "      <td>0.010563</td>\n",
       "      <td>0.024648</td>\n",
       "      <td>0.088028</td>\n",
       "      <td>0.119718</td>\n",
       "      <td>0.140845</td>\n",
       "      <td>0.088028</td>\n",
       "      <td>0.045775</td>\n",
       "      <td>0.010563</td>\n",
       "      <td>0.003521</td>\n",
       "    </tr>\n",
       "    <tr>\n",
       "      <th rowspan=\"2\" valign=\"top\">2</th>\n",
       "      <th>female</th>\n",
       "      <td>0.042146</td>\n",
       "      <td>0.049808</td>\n",
       "      <td>0.145594</td>\n",
       "      <td>0.084291</td>\n",
       "      <td>0.045977</td>\n",
       "      <td>0.022989</td>\n",
       "      <td>0.003831</td>\n",
       "      <td>NaN</td>\n",
       "      <td>NaN</td>\n",
       "    </tr>\n",
       "    <tr>\n",
       "      <th>male</th>\n",
       "      <td>0.042146</td>\n",
       "      <td>0.061303</td>\n",
       "      <td>0.199234</td>\n",
       "      <td>0.160920</td>\n",
       "      <td>0.072797</td>\n",
       "      <td>0.042146</td>\n",
       "      <td>0.022989</td>\n",
       "      <td>0.003831</td>\n",
       "      <td>NaN</td>\n",
       "    </tr>\n",
       "    <tr>\n",
       "      <th rowspan=\"2\" valign=\"top\">3</th>\n",
       "      <th>female</th>\n",
       "      <td>0.053892</td>\n",
       "      <td>0.071856</td>\n",
       "      <td>0.099800</td>\n",
       "      <td>0.051896</td>\n",
       "      <td>0.023952</td>\n",
       "      <td>NaN</td>\n",
       "      <td>0.001996</td>\n",
       "      <td>NaN</td>\n",
       "      <td>NaN</td>\n",
       "    </tr>\n",
       "    <tr>\n",
       "      <th>male</th>\n",
       "      <td>0.057884</td>\n",
       "      <td>0.111776</td>\n",
       "      <td>0.303393</td>\n",
       "      <td>0.139721</td>\n",
       "      <td>0.059880</td>\n",
       "      <td>0.013972</td>\n",
       "      <td>0.005988</td>\n",
       "      <td>0.003992</td>\n",
       "      <td>NaN</td>\n",
       "    </tr>\n",
       "  </tbody>\n",
       "</table>\n",
       "</div>"
      ],
      "text/plain": [
       "AgeGroup           5.0       15.0      25.0      35.0      45.0      55.0  \\\n",
       "Pclass Sex                                                                  \n",
       "1      female  0.003521  0.052817  0.095070  0.133803  0.077465  0.073944   \n",
       "       male    0.010563  0.024648  0.088028  0.119718  0.140845  0.088028   \n",
       "2      female  0.042146  0.049808  0.145594  0.084291  0.045977  0.022989   \n",
       "       male    0.042146  0.061303  0.199234  0.160920  0.072797  0.042146   \n",
       "3      female  0.053892  0.071856  0.099800  0.051896  0.023952       NaN   \n",
       "       male    0.057884  0.111776  0.303393  0.139721  0.059880  0.013972   \n",
       "\n",
       "AgeGroup           65.0      75.0      85.0  \n",
       "Pclass Sex                                   \n",
       "1      female  0.028169  0.003521       NaN  \n",
       "       male    0.045775  0.010563  0.003521  \n",
       "2      female  0.003831       NaN       NaN  \n",
       "       male    0.022989  0.003831       NaN  \n",
       "3      female  0.001996       NaN       NaN  \n",
       "       male    0.005988  0.003992       NaN  "
      ]
     },
     "execution_count": 64,
     "metadata": {},
     "output_type": "execute_result"
    }
   ],
   "source": [
    "group_counts.unstack(level=1) #We can also do level 2 to unstack on sex, depending on what you want to see."
   ]
  },
  {
   "cell_type": "markdown",
   "metadata": {},
   "source": [
    "A simple way to validate the calculation:"
   ]
  },
  {
   "cell_type": "code",
   "execution_count": 65,
   "metadata": {},
   "outputs": [
    {
     "data": {
      "text/plain": [
       "Pclass\n",
       "1    1.0\n",
       "2    1.0\n",
       "3    1.0\n",
       "dtype: float64"
      ]
     },
     "execution_count": 65,
     "metadata": {},
     "output_type": "execute_result"
    }
   ],
   "source": [
    "group_counts.groupby(level=0).sum()"
   ]
  },
  {
   "cell_type": "markdown",
   "metadata": {},
   "source": [
    "Main advantage of Pandas for EDA comes from very flexible inter-operability of analytics and plotting:"
   ]
  },
  {
   "cell_type": "code",
   "execution_count": 66,
   "metadata": {},
   "outputs": [],
   "source": [
    "group_counts = group_counts.unstack()"
   ]
  },
  {
   "cell_type": "code",
   "execution_count": 67,
   "metadata": {},
   "outputs": [
    {
     "data": {
      "text/html": [
       "<div>\n",
       "<style scoped>\n",
       "    .dataframe tbody tr th:only-of-type {\n",
       "        vertical-align: middle;\n",
       "    }\n",
       "\n",
       "    .dataframe tbody tr th {\n",
       "        vertical-align: top;\n",
       "    }\n",
       "\n",
       "    .dataframe thead th {\n",
       "        text-align: right;\n",
       "    }\n",
       "</style>\n",
       "<table border=\"1\" class=\"dataframe\">\n",
       "  <thead>\n",
       "    <tr style=\"text-align: right;\">\n",
       "      <th></th>\n",
       "      <th>Sex</th>\n",
       "      <th>female</th>\n",
       "      <th>male</th>\n",
       "    </tr>\n",
       "    <tr>\n",
       "      <th>Pclass</th>\n",
       "      <th>AgeGroup</th>\n",
       "      <th></th>\n",
       "      <th></th>\n",
       "    </tr>\n",
       "  </thead>\n",
       "  <tbody>\n",
       "    <tr>\n",
       "      <th rowspan=\"9\" valign=\"top\">1</th>\n",
       "      <th>5.0</th>\n",
       "      <td>0.003521</td>\n",
       "      <td>0.010563</td>\n",
       "    </tr>\n",
       "    <tr>\n",
       "      <th>15.0</th>\n",
       "      <td>0.052817</td>\n",
       "      <td>0.024648</td>\n",
       "    </tr>\n",
       "    <tr>\n",
       "      <th>25.0</th>\n",
       "      <td>0.095070</td>\n",
       "      <td>0.088028</td>\n",
       "    </tr>\n",
       "    <tr>\n",
       "      <th>35.0</th>\n",
       "      <td>0.133803</td>\n",
       "      <td>0.119718</td>\n",
       "    </tr>\n",
       "    <tr>\n",
       "      <th>45.0</th>\n",
       "      <td>0.077465</td>\n",
       "      <td>0.140845</td>\n",
       "    </tr>\n",
       "    <tr>\n",
       "      <th>55.0</th>\n",
       "      <td>0.073944</td>\n",
       "      <td>0.088028</td>\n",
       "    </tr>\n",
       "    <tr>\n",
       "      <th>65.0</th>\n",
       "      <td>0.028169</td>\n",
       "      <td>0.045775</td>\n",
       "    </tr>\n",
       "    <tr>\n",
       "      <th>75.0</th>\n",
       "      <td>0.003521</td>\n",
       "      <td>0.010563</td>\n",
       "    </tr>\n",
       "    <tr>\n",
       "      <th>85.0</th>\n",
       "      <td>NaN</td>\n",
       "      <td>0.003521</td>\n",
       "    </tr>\n",
       "    <tr>\n",
       "      <th rowspan=\"8\" valign=\"top\">2</th>\n",
       "      <th>5.0</th>\n",
       "      <td>0.042146</td>\n",
       "      <td>0.042146</td>\n",
       "    </tr>\n",
       "    <tr>\n",
       "      <th>15.0</th>\n",
       "      <td>0.049808</td>\n",
       "      <td>0.061303</td>\n",
       "    </tr>\n",
       "    <tr>\n",
       "      <th>25.0</th>\n",
       "      <td>0.145594</td>\n",
       "      <td>0.199234</td>\n",
       "    </tr>\n",
       "    <tr>\n",
       "      <th>35.0</th>\n",
       "      <td>0.084291</td>\n",
       "      <td>0.160920</td>\n",
       "    </tr>\n",
       "    <tr>\n",
       "      <th>45.0</th>\n",
       "      <td>0.045977</td>\n",
       "      <td>0.072797</td>\n",
       "    </tr>\n",
       "    <tr>\n",
       "      <th>55.0</th>\n",
       "      <td>0.022989</td>\n",
       "      <td>0.042146</td>\n",
       "    </tr>\n",
       "    <tr>\n",
       "      <th>65.0</th>\n",
       "      <td>0.003831</td>\n",
       "      <td>0.022989</td>\n",
       "    </tr>\n",
       "    <tr>\n",
       "      <th>75.0</th>\n",
       "      <td>NaN</td>\n",
       "      <td>0.003831</td>\n",
       "    </tr>\n",
       "    <tr>\n",
       "      <th rowspan=\"8\" valign=\"top\">3</th>\n",
       "      <th>5.0</th>\n",
       "      <td>0.053892</td>\n",
       "      <td>0.057884</td>\n",
       "    </tr>\n",
       "    <tr>\n",
       "      <th>15.0</th>\n",
       "      <td>0.071856</td>\n",
       "      <td>0.111776</td>\n",
       "    </tr>\n",
       "    <tr>\n",
       "      <th>25.0</th>\n",
       "      <td>0.099800</td>\n",
       "      <td>0.303393</td>\n",
       "    </tr>\n",
       "    <tr>\n",
       "      <th>35.0</th>\n",
       "      <td>0.051896</td>\n",
       "      <td>0.139721</td>\n",
       "    </tr>\n",
       "    <tr>\n",
       "      <th>45.0</th>\n",
       "      <td>0.023952</td>\n",
       "      <td>0.059880</td>\n",
       "    </tr>\n",
       "    <tr>\n",
       "      <th>55.0</th>\n",
       "      <td>NaN</td>\n",
       "      <td>0.013972</td>\n",
       "    </tr>\n",
       "    <tr>\n",
       "      <th>65.0</th>\n",
       "      <td>0.001996</td>\n",
       "      <td>0.005988</td>\n",
       "    </tr>\n",
       "    <tr>\n",
       "      <th>75.0</th>\n",
       "      <td>NaN</td>\n",
       "      <td>0.003992</td>\n",
       "    </tr>\n",
       "  </tbody>\n",
       "</table>\n",
       "</div>"
      ],
      "text/plain": [
       "Sex                female      male\n",
       "Pclass AgeGroup                    \n",
       "1      5.0       0.003521  0.010563\n",
       "       15.0      0.052817  0.024648\n",
       "       25.0      0.095070  0.088028\n",
       "       35.0      0.133803  0.119718\n",
       "       45.0      0.077465  0.140845\n",
       "       55.0      0.073944  0.088028\n",
       "       65.0      0.028169  0.045775\n",
       "       75.0      0.003521  0.010563\n",
       "       85.0           NaN  0.003521\n",
       "2      5.0       0.042146  0.042146\n",
       "       15.0      0.049808  0.061303\n",
       "       25.0      0.145594  0.199234\n",
       "       35.0      0.084291  0.160920\n",
       "       45.0      0.045977  0.072797\n",
       "       55.0      0.022989  0.042146\n",
       "       65.0      0.003831  0.022989\n",
       "       75.0           NaN  0.003831\n",
       "3      5.0       0.053892  0.057884\n",
       "       15.0      0.071856  0.111776\n",
       "       25.0      0.099800  0.303393\n",
       "       35.0      0.051896  0.139721\n",
       "       45.0      0.023952  0.059880\n",
       "       55.0           NaN  0.013972\n",
       "       65.0      0.001996  0.005988\n",
       "       75.0           NaN  0.003992"
      ]
     },
     "execution_count": 67,
     "metadata": {},
     "output_type": "execute_result"
    }
   ],
   "source": [
    "group_counts"
   ]
  },
  {
   "cell_type": "code",
   "execution_count": 68,
   "metadata": {},
   "outputs": [
    {
     "name": "stderr",
     "output_type": "stream",
     "text": [
      "C:\\Users\\sfrie\\AppData\\Local\\Programs\\Python\\Python39\\lib\\site-packages\\pandas\\plotting\\_matplotlib\\tools.py:400: MatplotlibDeprecationWarning: \n",
      "The is_first_col function was deprecated in Matplotlib 3.4 and will be removed two minor releases later. Use ax.get_subplotspec().is_first_col() instead.\n",
      "  if ax.is_first_col():\n",
      "C:\\Users\\sfrie\\AppData\\Local\\Programs\\Python\\Python39\\lib\\site-packages\\pandas\\plotting\\_matplotlib\\tools.py:400: MatplotlibDeprecationWarning: \n",
      "The is_first_col function was deprecated in Matplotlib 3.4 and will be removed two minor releases later. Use ax.get_subplotspec().is_first_col() instead.\n",
      "  if ax.is_first_col():\n"
     ]
    },
    {
     "data": {
      "image/png": "[encoded data removed]",
      "text/plain": [
       "<Figure size 1080x360 with 3 Axes>"
      ]
     },
     "metadata": {
      "needs_background": "light"
     },
     "output_type": "display_data"
    }
   ],
   "source": [
    "#This is the manual way to plot. Later, we will do this in a much simpler way\n",
    "plt.figure(figsize=(15, 5))\n",
    "\n",
    "for pclass in [1, 2, 3]:\n",
    "    plt.subplot(1, 3, pclass)\n",
    "    group_counts.loc[pclass].plot(ax=plt.gca()) #take groupcounts by the class, and plot it.\n",
    "    plt.ylim(0, 0.35)\n",
    "    plt.title(\"Age distribution for Class %i\" % pclass, fontsize=12)\n",
    "plt.tight_layout()"
   ]
  },
  {
   "cell_type": "markdown",
   "metadata": {},
   "source": [
    "The difference between the plots in class 1 and 2 are not so pronounced.\n",
    "However, 1 and 2 differ with 3 dramatically, with high domination of males, and from the lack of women, we see its a lot of males who travel alone.\n",
    "\n",
    "Also, the average age of the males is very different for each class, with class 1 being pretty semetric, 2 being a bit of an older class, and 3 being very young.\n",
    "\n",
    "Note, its very easy to come to speculative conclusions from these shapes, but its important to not build pre-conceptions right away. Or minimally, be ready to drop them when presented with contradictory data."
   ]
  },
  {
   "cell_type": "code",
   "execution_count": 69,
   "metadata": {},
   "outputs": [
    {
     "data": {
      "text/plain": [
       "Pclass  AgeGroup  Sex   \n",
       "1       5.0       female    0.000000\n",
       "                  male      1.000000\n",
       "        15.0      female    1.000000\n",
       "                  male      0.400000\n",
       "        25.0      female    0.937500\n",
       "                  male      0.500000\n",
       "        35.0      female    1.000000\n",
       "                  male      0.521739\n",
       "        45.0      female    1.000000\n",
       "                  male      0.375000\n",
       "        55.0      female    0.916667\n",
       "                  male      0.266667\n",
       "        65.0      female    1.000000\n",
       "                  male      0.100000\n",
       "        75.0      female         NaN\n",
       "                  male      0.000000\n",
       "        85.0      male      1.000000\n",
       "2       5.0       female    1.000000\n",
       "                  male      1.000000\n",
       "        15.0      female    1.000000\n",
       "                  male      0.100000\n",
       "        25.0      female    0.880000\n",
       "                  male      0.000000\n",
       "        35.0      female    0.941176\n",
       "                  male      0.096774\n",
       "        45.0      female    0.900000\n",
       "                  male      0.125000\n",
       "        55.0      female    0.833333\n",
       "                  male      0.000000\n",
       "        65.0      female         NaN\n",
       "                  male      0.333333\n",
       "        75.0      male      0.000000\n",
       "3       5.0       female    0.523810\n",
       "                  male      0.380952\n",
       "        15.0      female    0.541667\n",
       "                  male      0.095238\n",
       "        25.0      female    0.483871\n",
       "                  male      0.156863\n",
       "        35.0      female    0.437500\n",
       "                  male      0.150943\n",
       "        45.0      female    0.000000\n",
       "                  male      0.080000\n",
       "        55.0      male      0.000000\n",
       "        65.0      female    1.000000\n",
       "                  male      0.000000\n",
       "        75.0      male      0.000000\n",
       "Name: Survived, dtype: float64"
      ]
     },
     "execution_count": 69,
     "metadata": {},
     "output_type": "execute_result"
    }
   ],
   "source": [
    "survival_groups = titanic.groupby(['Pclass', 'AgeGroup', 'Sex']).Survived.mean()\n",
    "survival_groups"
   ]
  },
  {
   "cell_type": "code",
   "execution_count": 70,
   "metadata": {},
   "outputs": [],
   "source": [
    "survival_groups = survival_groups.unstack()\n",
    "#unstacks the same way: by Pclass"
   ]
  },
  {
   "cell_type": "code",
   "execution_count": 71,
   "metadata": {},
   "outputs": [
    {
     "name": "stderr",
     "output_type": "stream",
     "text": [
      "C:\\Users\\sfrie\\AppData\\Local\\Programs\\Python\\Python39\\lib\\site-packages\\pandas\\plotting\\_matplotlib\\tools.py:400: MatplotlibDeprecationWarning: \n",
      "The is_first_col function was deprecated in Matplotlib 3.4 and will be removed two minor releases later. Use ax.get_subplotspec().is_first_col() instead.\n",
      "  if ax.is_first_col():\n",
      "C:\\Users\\sfrie\\AppData\\Local\\Programs\\Python\\Python39\\lib\\site-packages\\pandas\\plotting\\_matplotlib\\tools.py:400: MatplotlibDeprecationWarning: \n",
      "The is_first_col function was deprecated in Matplotlib 3.4 and will be removed two minor releases later. Use ax.get_subplotspec().is_first_col() instead.\n",
      "  if ax.is_first_col():\n"
     ]
    },
    {
     "data": {
      "image/png": "[encoded data removed]",
      "text/plain": [
       "<Figure size 1080x360 with 3 Axes>"
      ]
     },
     "metadata": {
      "needs_background": "light"
     },
     "output_type": "display_data"
    }
   ],
   "source": [
    "plt.figure(figsize=(15, 5))\n",
    "\n",
    "for pclass in [1, 2, 3]:\n",
    "    plt.subplot(1, 3, pclass)\n",
    "    survival_groups.loc[pclass].plot(ax=plt.gca())\n",
    "    plt.ylim(0, 1)\n",
    "    plt.title(\"Survived in class %i\" % pclass, fontsize=12)\n",
    "plt.tight_layout()"
   ]
  },
  {
   "cell_type": "markdown",
   "metadata": {},
   "source": []
  },
  {
   "cell_type": "code",
   "execution_count": 72,
   "metadata": {},
   "outputs": [],
   "source": [
    "siblings_groups = titanic.groupby(['Pclass', 'AgeGroup', 'Sex']).SibSp.mean()\n",
    "siblings_groups = siblings_groups.unstack()"
   ]
  },
  {
   "cell_type": "code",
   "execution_count": 73,
   "metadata": {},
   "outputs": [
    {
     "data": {
      "text/html": [
       "<div>\n",
       "<style scoped>\n",
       "    .dataframe tbody tr th:only-of-type {\n",
       "        vertical-align: middle;\n",
       "    }\n",
       "\n",
       "    .dataframe tbody tr th {\n",
       "        vertical-align: top;\n",
       "    }\n",
       "\n",
       "    .dataframe thead th {\n",
       "        text-align: right;\n",
       "    }\n",
       "</style>\n",
       "<table border=\"1\" class=\"dataframe\">\n",
       "  <thead>\n",
       "    <tr style=\"text-align: right;\">\n",
       "      <th></th>\n",
       "      <th>Sex</th>\n",
       "      <th>female</th>\n",
       "      <th>male</th>\n",
       "    </tr>\n",
       "    <tr>\n",
       "      <th>Pclass</th>\n",
       "      <th>AgeGroup</th>\n",
       "      <th></th>\n",
       "      <th></th>\n",
       "    </tr>\n",
       "  </thead>\n",
       "  <tbody>\n",
       "    <tr>\n",
       "      <th rowspan=\"9\" valign=\"top\">1</th>\n",
       "      <th>5.0</th>\n",
       "      <td>1.000000</td>\n",
       "      <td>0.333333</td>\n",
       "    </tr>\n",
       "    <tr>\n",
       "      <th>15.0</th>\n",
       "      <td>0.600000</td>\n",
       "      <td>1.142857</td>\n",
       "    </tr>\n",
       "    <tr>\n",
       "      <th>25.0</th>\n",
       "      <td>0.703704</td>\n",
       "      <td>0.320000</td>\n",
       "    </tr>\n",
       "    <tr>\n",
       "      <th>35.0</th>\n",
       "      <td>0.394737</td>\n",
       "      <td>0.323529</td>\n",
       "    </tr>\n",
       "    <tr>\n",
       "      <th>45.0</th>\n",
       "      <td>0.500000</td>\n",
       "      <td>0.375000</td>\n",
       "    </tr>\n",
       "    <tr>\n",
       "      <th>55.0</th>\n",
       "      <td>0.619048</td>\n",
       "      <td>0.480000</td>\n",
       "    </tr>\n",
       "    <tr>\n",
       "      <th>65.0</th>\n",
       "      <td>0.625000</td>\n",
       "      <td>0.384615</td>\n",
       "    </tr>\n",
       "    <tr>\n",
       "      <th>75.0</th>\n",
       "      <td>1.000000</td>\n",
       "      <td>0.333333</td>\n",
       "    </tr>\n",
       "    <tr>\n",
       "      <th>85.0</th>\n",
       "      <td>NaN</td>\n",
       "      <td>0.000000</td>\n",
       "    </tr>\n",
       "    <tr>\n",
       "      <th rowspan=\"8\" valign=\"top\">2</th>\n",
       "      <th>5.0</th>\n",
       "      <td>0.818182</td>\n",
       "      <td>0.818182</td>\n",
       "    </tr>\n",
       "    <tr>\n",
       "      <th>15.0</th>\n",
       "      <td>0.384615</td>\n",
       "      <td>0.062500</td>\n",
       "    </tr>\n",
       "    <tr>\n",
       "      <th>25.0</th>\n",
       "      <td>0.631579</td>\n",
       "      <td>0.384615</td>\n",
       "    </tr>\n",
       "    <tr>\n",
       "      <th>35.0</th>\n",
       "      <td>0.363636</td>\n",
       "      <td>0.380952</td>\n",
       "    </tr>\n",
       "    <tr>\n",
       "      <th>45.0</th>\n",
       "      <td>0.416667</td>\n",
       "      <td>0.315789</td>\n",
       "    </tr>\n",
       "    <tr>\n",
       "      <th>55.0</th>\n",
       "      <td>0.166667</td>\n",
       "      <td>0.181818</td>\n",
       "    </tr>\n",
       "    <tr>\n",
       "      <th>65.0</th>\n",
       "      <td>1.000000</td>\n",
       "      <td>0.333333</td>\n",
       "    </tr>\n",
       "    <tr>\n",
       "      <th>75.0</th>\n",
       "      <td>NaN</td>\n",
       "      <td>0.000000</td>\n",
       "    </tr>\n",
       "    <tr>\n",
       "      <th rowspan=\"8\" valign=\"top\">3</th>\n",
       "      <th>5.0</th>\n",
       "      <td>1.666667</td>\n",
       "      <td>2.413793</td>\n",
       "    </tr>\n",
       "    <tr>\n",
       "      <th>15.0</th>\n",
       "      <td>0.777778</td>\n",
       "      <td>0.964286</td>\n",
       "    </tr>\n",
       "    <tr>\n",
       "      <th>25.0</th>\n",
       "      <td>0.300000</td>\n",
       "      <td>0.171053</td>\n",
       "    </tr>\n",
       "    <tr>\n",
       "      <th>35.0</th>\n",
       "      <td>0.653846</td>\n",
       "      <td>0.185714</td>\n",
       "    </tr>\n",
       "    <tr>\n",
       "      <th>45.0</th>\n",
       "      <td>0.583333</td>\n",
       "      <td>0.200000</td>\n",
       "    </tr>\n",
       "    <tr>\n",
       "      <th>55.0</th>\n",
       "      <td>NaN</td>\n",
       "      <td>0.142857</td>\n",
       "    </tr>\n",
       "    <tr>\n",
       "      <th>65.0</th>\n",
       "      <td>0.000000</td>\n",
       "      <td>0.000000</td>\n",
       "    </tr>\n",
       "    <tr>\n",
       "      <th>75.0</th>\n",
       "      <td>NaN</td>\n",
       "      <td>0.000000</td>\n",
       "    </tr>\n",
       "  </tbody>\n",
       "</table>\n",
       "</div>"
      ],
      "text/plain": [
       "Sex                female      male\n",
       "Pclass AgeGroup                    \n",
       "1      5.0       1.000000  0.333333\n",
       "       15.0      0.600000  1.142857\n",
       "       25.0      0.703704  0.320000\n",
       "       35.0      0.394737  0.323529\n",
       "       45.0      0.500000  0.375000\n",
       "       55.0      0.619048  0.480000\n",
       "       65.0      0.625000  0.384615\n",
       "       75.0      1.000000  0.333333\n",
       "       85.0           NaN  0.000000\n",
       "2      5.0       0.818182  0.818182\n",
       "       15.0      0.384615  0.062500\n",
       "       25.0      0.631579  0.384615\n",
       "       35.0      0.363636  0.380952\n",
       "       45.0      0.416667  0.315789\n",
       "       55.0      0.166667  0.181818\n",
       "       65.0      1.000000  0.333333\n",
       "       75.0           NaN  0.000000\n",
       "3      5.0       1.666667  2.413793\n",
       "       15.0      0.777778  0.964286\n",
       "       25.0      0.300000  0.171053\n",
       "       35.0      0.653846  0.185714\n",
       "       45.0      0.583333  0.200000\n",
       "       55.0           NaN  0.142857\n",
       "       65.0      0.000000  0.000000\n",
       "       75.0           NaN  0.000000"
      ]
     },
     "execution_count": 73,
     "metadata": {},
     "output_type": "execute_result"
    }
   ],
   "source": [
    "siblings_groups"
   ]
  },
  {
   "cell_type": "code",
   "execution_count": 74,
   "metadata": {},
   "outputs": [
    {
     "name": "stderr",
     "output_type": "stream",
     "text": [
      "C:\\Users\\sfrie\\AppData\\Local\\Programs\\Python\\Python39\\lib\\site-packages\\pandas\\plotting\\_matplotlib\\tools.py:400: MatplotlibDeprecationWarning: \n",
      "The is_first_col function was deprecated in Matplotlib 3.4 and will be removed two minor releases later. Use ax.get_subplotspec().is_first_col() instead.\n",
      "  if ax.is_first_col():\n",
      "C:\\Users\\sfrie\\AppData\\Local\\Programs\\Python\\Python39\\lib\\site-packages\\pandas\\plotting\\_matplotlib\\tools.py:400: MatplotlibDeprecationWarning: \n",
      "The is_first_col function was deprecated in Matplotlib 3.4 and will be removed two minor releases later. Use ax.get_subplotspec().is_first_col() instead.\n",
      "  if ax.is_first_col():\n"
     ]
    },
    {
     "data": {
      "image/png": "[encoded data removed]",
      "text/plain": [
       "<Figure size 1080x360 with 3 Axes>"
      ]
     },
     "metadata": {
      "needs_background": "light"
     },
     "output_type": "display_data"
    }
   ],
   "source": [
    "plt.figure(figsize=(15, 5))\n",
    "\n",
    "for pclass in [1, 2, 3]:\n",
    "    plt.subplot(1, 3, pclass)\n",
    "    siblings_groups.loc[pclass].plot(ax=plt.gca())\n",
    "    plt.ylim(0, 5)\n",
    "    plt.title(\"Siblings in class %i\" % pclass, fontsize=12)\n",
    "plt.tight_layout()"
   ]
  },
  {
   "cell_type": "markdown",
   "metadata": {},
   "source": [
    "IN class 1: between 20-60, its probably mostly spouses, therefore half the passengers travel with spouses. This is more or less the same for class 2.\n",
    "\n",
    "In class 3 though, we see a nice disparity between male and female, just emphasizing what we saw above: In class 3, there are lots of single males.\n",
    "\n",
    "Note though, that females in class 3 is pretty high. However, we also know that there aren't so many females in class 3, so the data might not be so telling"
   ]
  },
  {
   "cell_type": "code",
   "execution_count": 75,
   "metadata": {},
   "outputs": [
    {
     "data": {
      "text/plain": [
       "Pclass  AgeGroup  Sex     Embarked\n",
       "1       5.0       female  S           0.003096\n",
       "                  male    C           0.003096\n",
       "                          S           0.006192\n",
       "        15.0      female  C           0.015480\n",
       "                          S           0.030960\n",
       "                                        ...   \n",
       "3       65.0      female  S           0.001410\n",
       "                  male    Q           0.001410\n",
       "                          S           0.002821\n",
       "        75.0      male    Q           0.001410\n",
       "                          S           0.001410\n",
       "Length: 94, dtype: float64"
      ]
     },
     "execution_count": 75,
     "metadata": {},
     "output_type": "execute_result"
    }
   ],
   "source": [
    "embark_counts = titanic.groupby(['Pclass', 'AgeGroup', 'Sex', 'Embarked']).size()/titanic.groupby('Pclass').size()\n",
    "\n",
    "embark_counts"
   ]
  },
  {
   "cell_type": "code",
   "execution_count": 76,
   "metadata": {},
   "outputs": [
    {
     "data": {
      "text/html": [
       "<div>\n",
       "<style scoped>\n",
       "    .dataframe tbody tr th:only-of-type {\n",
       "        vertical-align: middle;\n",
       "    }\n",
       "\n",
       "    .dataframe tbody tr th {\n",
       "        vertical-align: top;\n",
       "    }\n",
       "\n",
       "    .dataframe thead tr th {\n",
       "        text-align: left;\n",
       "    }\n",
       "\n",
       "    .dataframe thead tr:last-of-type th {\n",
       "        text-align: right;\n",
       "    }\n",
       "</style>\n",
       "<table border=\"1\" class=\"dataframe\">\n",
       "  <thead>\n",
       "    <tr>\n",
       "      <th></th>\n",
       "      <th>Embarked</th>\n",
       "      <th>S</th>\n",
       "      <th>C</th>\n",
       "      <th>S</th>\n",
       "      <th>C</th>\n",
       "      <th colspan=\"2\" halign=\"left\">Q</th>\n",
       "    </tr>\n",
       "    <tr>\n",
       "      <th></th>\n",
       "      <th>Sex</th>\n",
       "      <th>female</th>\n",
       "      <th>male</th>\n",
       "      <th>male</th>\n",
       "      <th>female</th>\n",
       "      <th>female</th>\n",
       "      <th>male</th>\n",
       "    </tr>\n",
       "    <tr>\n",
       "      <th>Pclass</th>\n",
       "      <th>AgeGroup</th>\n",
       "      <th></th>\n",
       "      <th></th>\n",
       "      <th></th>\n",
       "      <th></th>\n",
       "      <th></th>\n",
       "      <th></th>\n",
       "    </tr>\n",
       "  </thead>\n",
       "  <tbody>\n",
       "    <tr>\n",
       "      <th rowspan=\"9\" valign=\"top\">1</th>\n",
       "      <th>5.0</th>\n",
       "      <td>0.003096</td>\n",
       "      <td>0.003096</td>\n",
       "      <td>0.006192</td>\n",
       "      <td>NaN</td>\n",
       "      <td>NaN</td>\n",
       "      <td>NaN</td>\n",
       "    </tr>\n",
       "    <tr>\n",
       "      <th>15.0</th>\n",
       "      <td>0.030960</td>\n",
       "      <td>0.009288</td>\n",
       "      <td>0.012384</td>\n",
       "      <td>0.015480</td>\n",
       "      <td>NaN</td>\n",
       "      <td>NaN</td>\n",
       "    </tr>\n",
       "    <tr>\n",
       "      <th>25.0</th>\n",
       "      <td>0.043344</td>\n",
       "      <td>0.043344</td>\n",
       "      <td>0.034056</td>\n",
       "      <td>0.040248</td>\n",
       "      <td>NaN</td>\n",
       "      <td>NaN</td>\n",
       "    </tr>\n",
       "    <tr>\n",
       "      <th>35.0</th>\n",
       "      <td>0.052632</td>\n",
       "      <td>0.043344</td>\n",
       "      <td>0.061920</td>\n",
       "      <td>0.055728</td>\n",
       "      <td>0.006192</td>\n",
       "      <td>NaN</td>\n",
       "    </tr>\n",
       "    <tr>\n",
       "      <th>45.0</th>\n",
       "      <td>0.024768</td>\n",
       "      <td>0.043344</td>\n",
       "      <td>0.077399</td>\n",
       "      <td>0.043344</td>\n",
       "      <td>NaN</td>\n",
       "      <td>0.003096</td>\n",
       "    </tr>\n",
       "    <tr>\n",
       "      <th>55.0</th>\n",
       "      <td>0.027864</td>\n",
       "      <td>0.034056</td>\n",
       "      <td>0.043344</td>\n",
       "      <td>0.037152</td>\n",
       "      <td>NaN</td>\n",
       "      <td>NaN</td>\n",
       "    </tr>\n",
       "    <tr>\n",
       "      <th>65.0</th>\n",
       "      <td>0.012384</td>\n",
       "      <td>0.012384</td>\n",
       "      <td>0.027864</td>\n",
       "      <td>0.009288</td>\n",
       "      <td>NaN</td>\n",
       "      <td>NaN</td>\n",
       "    </tr>\n",
       "    <tr>\n",
       "      <th>75.0</th>\n",
       "      <td>0.003096</td>\n",
       "      <td>0.006192</td>\n",
       "      <td>0.003096</td>\n",
       "      <td>NaN</td>\n",
       "      <td>NaN</td>\n",
       "      <td>NaN</td>\n",
       "    </tr>\n",
       "    <tr>\n",
       "      <th>85.0</th>\n",
       "      <td>NaN</td>\n",
       "      <td>NaN</td>\n",
       "      <td>0.003096</td>\n",
       "      <td>NaN</td>\n",
       "      <td>NaN</td>\n",
       "      <td>NaN</td>\n",
       "    </tr>\n",
       "    <tr>\n",
       "      <th rowspan=\"8\" valign=\"top\">2</th>\n",
       "      <th>5.0</th>\n",
       "      <td>0.032491</td>\n",
       "      <td>0.003610</td>\n",
       "      <td>0.036101</td>\n",
       "      <td>0.007220</td>\n",
       "      <td>NaN</td>\n",
       "      <td>NaN</td>\n",
       "    </tr>\n",
       "    <tr>\n",
       "      <th>15.0</th>\n",
       "      <td>0.039711</td>\n",
       "      <td>NaN</td>\n",
       "      <td>0.057762</td>\n",
       "      <td>0.007220</td>\n",
       "      <td>NaN</td>\n",
       "      <td>NaN</td>\n",
       "    </tr>\n",
       "    <tr>\n",
       "      <th>25.0</th>\n",
       "      <td>0.115523</td>\n",
       "      <td>0.021661</td>\n",
       "      <td>0.166065</td>\n",
       "      <td>0.021661</td>\n",
       "      <td>NaN</td>\n",
       "      <td>NaN</td>\n",
       "    </tr>\n",
       "    <tr>\n",
       "      <th>35.0</th>\n",
       "      <td>0.072202</td>\n",
       "      <td>0.018051</td>\n",
       "      <td>0.129964</td>\n",
       "      <td>0.003610</td>\n",
       "      <td>0.003610</td>\n",
       "      <td>0.003610</td>\n",
       "    </tr>\n",
       "    <tr>\n",
       "      <th>45.0</th>\n",
       "      <td>0.043321</td>\n",
       "      <td>0.003610</td>\n",
       "      <td>0.064982</td>\n",
       "      <td>NaN</td>\n",
       "      <td>NaN</td>\n",
       "      <td>NaN</td>\n",
       "    </tr>\n",
       "    <tr>\n",
       "      <th>55.0</th>\n",
       "      <td>0.021661</td>\n",
       "      <td>NaN</td>\n",
       "      <td>0.036101</td>\n",
       "      <td>NaN</td>\n",
       "      <td>NaN</td>\n",
       "      <td>0.003610</td>\n",
       "    </tr>\n",
       "    <tr>\n",
       "      <th>65.0</th>\n",
       "      <td>0.003610</td>\n",
       "      <td>NaN</td>\n",
       "      <td>0.014440</td>\n",
       "      <td>NaN</td>\n",
       "      <td>NaN</td>\n",
       "      <td>0.007220</td>\n",
       "    </tr>\n",
       "    <tr>\n",
       "      <th>75.0</th>\n",
       "      <td>NaN</td>\n",
       "      <td>NaN</td>\n",
       "      <td>0.003610</td>\n",
       "      <td>NaN</td>\n",
       "      <td>NaN</td>\n",
       "      <td>NaN</td>\n",
       "    </tr>\n",
       "    <tr>\n",
       "      <th rowspan=\"8\" valign=\"top\">3</th>\n",
       "      <th>5.0</th>\n",
       "      <td>0.028209</td>\n",
       "      <td>0.004231</td>\n",
       "      <td>0.031030</td>\n",
       "      <td>0.009873</td>\n",
       "      <td>NaN</td>\n",
       "      <td>0.005642</td>\n",
       "    </tr>\n",
       "    <tr>\n",
       "      <th>15.0</th>\n",
       "      <td>0.025388</td>\n",
       "      <td>0.008463</td>\n",
       "      <td>0.067701</td>\n",
       "      <td>0.014104</td>\n",
       "      <td>0.011283</td>\n",
       "      <td>0.002821</td>\n",
       "    </tr>\n",
       "    <tr>\n",
       "      <th>25.0</th>\n",
       "      <td>0.059238</td>\n",
       "      <td>0.026798</td>\n",
       "      <td>0.177715</td>\n",
       "      <td>0.002821</td>\n",
       "      <td>0.008463</td>\n",
       "      <td>0.009873</td>\n",
       "    </tr>\n",
       "    <tr>\n",
       "      <th>35.0</th>\n",
       "      <td>0.025388</td>\n",
       "      <td>0.011283</td>\n",
       "      <td>0.081805</td>\n",
       "      <td>0.001410</td>\n",
       "      <td>0.009873</td>\n",
       "      <td>0.005642</td>\n",
       "    </tr>\n",
       "    <tr>\n",
       "      <th>45.0</th>\n",
       "      <td>0.014104</td>\n",
       "      <td>0.002821</td>\n",
       "      <td>0.036671</td>\n",
       "      <td>0.002821</td>\n",
       "      <td>NaN</td>\n",
       "      <td>0.002821</td>\n",
       "    </tr>\n",
       "    <tr>\n",
       "      <th>55.0</th>\n",
       "      <td>NaN</td>\n",
       "      <td>NaN</td>\n",
       "      <td>0.009873</td>\n",
       "      <td>NaN</td>\n",
       "      <td>NaN</td>\n",
       "      <td>NaN</td>\n",
       "    </tr>\n",
       "    <tr>\n",
       "      <th>65.0</th>\n",
       "      <td>0.001410</td>\n",
       "      <td>NaN</td>\n",
       "      <td>0.002821</td>\n",
       "      <td>NaN</td>\n",
       "      <td>NaN</td>\n",
       "      <td>0.001410</td>\n",
       "    </tr>\n",
       "    <tr>\n",
       "      <th>75.0</th>\n",
       "      <td>NaN</td>\n",
       "      <td>NaN</td>\n",
       "      <td>0.001410</td>\n",
       "      <td>NaN</td>\n",
       "      <td>NaN</td>\n",
       "      <td>0.001410</td>\n",
       "    </tr>\n",
       "  </tbody>\n",
       "</table>\n",
       "</div>"
      ],
      "text/plain": [
       "Embarked                S         C         S         C         Q          \n",
       "Sex                female      male      male    female    female      male\n",
       "Pclass AgeGroup                                                            \n",
       "1      5.0       0.003096  0.003096  0.006192       NaN       NaN       NaN\n",
       "       15.0      0.030960  0.009288  0.012384  0.015480       NaN       NaN\n",
       "       25.0      0.043344  0.043344  0.034056  0.040248       NaN       NaN\n",
       "       35.0      0.052632  0.043344  0.061920  0.055728  0.006192       NaN\n",
       "       45.0      0.024768  0.043344  0.077399  0.043344       NaN  0.003096\n",
       "       55.0      0.027864  0.034056  0.043344  0.037152       NaN       NaN\n",
       "       65.0      0.012384  0.012384  0.027864  0.009288       NaN       NaN\n",
       "       75.0      0.003096  0.006192  0.003096       NaN       NaN       NaN\n",
       "       85.0           NaN       NaN  0.003096       NaN       NaN       NaN\n",
       "2      5.0       0.032491  0.003610  0.036101  0.007220       NaN       NaN\n",
       "       15.0      0.039711       NaN  0.057762  0.007220       NaN       NaN\n",
       "       25.0      0.115523  0.021661  0.166065  0.021661       NaN       NaN\n",
       "       35.0      0.072202  0.018051  0.129964  0.003610  0.003610  0.003610\n",
       "       45.0      0.043321  0.003610  0.064982       NaN       NaN       NaN\n",
       "       55.0      0.021661       NaN  0.036101       NaN       NaN  0.003610\n",
       "       65.0      0.003610       NaN  0.014440       NaN       NaN  0.007220\n",
       "       75.0           NaN       NaN  0.003610       NaN       NaN       NaN\n",
       "3      5.0       0.028209  0.004231  0.031030  0.009873       NaN  0.005642\n",
       "       15.0      0.025388  0.008463  0.067701  0.014104  0.011283  0.002821\n",
       "       25.0      0.059238  0.026798  0.177715  0.002821  0.008463  0.009873\n",
       "       35.0      0.025388  0.011283  0.081805  0.001410  0.009873  0.005642\n",
       "       45.0      0.014104  0.002821  0.036671  0.002821       NaN  0.002821\n",
       "       55.0           NaN       NaN  0.009873       NaN       NaN       NaN\n",
       "       65.0      0.001410       NaN  0.002821       NaN       NaN  0.001410\n",
       "       75.0           NaN       NaN  0.001410       NaN       NaN  0.001410"
      ]
     },
     "execution_count": 76,
     "metadata": {},
     "output_type": "execute_result"
    }
   ],
   "source": [
    "embark_counts = embark_counts.unstack([-1, -2]) #unstack by last two columns\n",
    "embark_counts"
   ]
  },
  {
   "cell_type": "markdown",
   "metadata": {},
   "source": [
    "### Intermezzo: Seaborn in EDA"
   ]
  },
  {
   "cell_type": "code",
   "execution_count": 77,
   "metadata": {},
   "outputs": [],
   "source": [
    "import seaborn as sns"
   ]
  },
  {
   "cell_type": "code",
   "execution_count": 78,
   "metadata": {},
   "outputs": [
    {
     "data": {
      "image/png": "[encoded data removed]",
      "text/plain": [
       "<Figure size 432x432 with 1 Axes>"
      ]
     },
     "metadata": {
      "needs_background": "light"
     },
     "output_type": "display_data"
    }
   ],
   "source": [
    "plt.figure(figsize=(6,6))\n",
    "\n",
    "# We will plot jittered version of the data, hence we remove fliers\n",
    "sns.boxplot(x=\"Pclass\", y=\"Age\", data=titanic,\n",
    "            fliersize=0, width=0.3)\n",
    "sns.stripplot(x=\"Pclass\", y=\"Age\", data=titanic, #stipplot are the individual points. Then, they are just jittered\n",
    "                                                #right and left so that we can actually see them.\n",
    "              color=\"k\", alpha=0.5, size=3)\n",
    "plt.title(\"Age distribution by class\", fontsize=12)\n",
    "plt.tight_layout();"
   ]
  },
  {
   "cell_type": "code",
   "execution_count": 79,
   "metadata": {},
   "outputs": [
    {
     "data": {
      "image/png": "[encoded data removed]",
      "text/plain": [
       "<Figure size 432x432 with 1 Axes>"
      ]
     },
     "metadata": {
      "needs_background": "light"
     },
     "output_type": "display_data"
    }
   ],
   "source": [
    "plt.figure(figsize=(6,6))\n",
    "\n",
    "sns.violinplot(x=\"Age\", y=\"Pclass\", data=titanic,\n",
    "               split=True, hue=\"Sex\", scale=\"count\", orient=\"h\")\n",
    "plt.title(\"Age distribution by class\", fontsize=12)\n",
    "plt.tight_layout();"
   ]
  },
  {
   "cell_type": "code",
   "execution_count": 80,
   "metadata": {},
   "outputs": [
    {
     "data": {
      "image/png": "[encoded data removed]",
      "text/plain": [
       "<Figure size 432x432 with 1 Axes>"
      ]
     },
     "metadata": {},
     "output_type": "display_data"
    }
   ],
   "source": [
    "with plt.style.context(\"seaborn-ticks\"):\n",
    "    plt.figure(figsize=(6,6))\n",
    "\n",
    "    sns.violinplot(x=\"Age\", y=\"Pclass\", data=titanic,\n",
    "                   split=True, hue=\"Sex\", scale=\"count\", orient=\"h\",\n",
    "                   palette={\"male\": \"lightsteelblue\", \"female\": \"firebrick\"})\n",
    "    plt.title(\"Age distribution by class\", fontsize=12)\n",
    "\n",
    "    sns.despine(left=True)\n",
    "\n",
    "    plt.ylabel(\"class\")\n",
    "\n",
    "    plt.tight_layout();"
   ]
  },
  {
   "cell_type": "markdown",
   "metadata": {},
   "source": [
    "For comparison:"
   ]
  },
  {
   "cell_type": "code",
   "execution_count": 81,
   "metadata": {},
   "outputs": [
    {
     "name": "stderr",
     "output_type": "stream",
     "text": [
      "C:\\Users\\sfrie\\AppData\\Local\\Programs\\Python\\Python39\\lib\\site-packages\\pandas\\plotting\\_matplotlib\\tools.py:400: MatplotlibDeprecationWarning: \n",
      "The is_first_col function was deprecated in Matplotlib 3.4 and will be removed two minor releases later. Use ax.get_subplotspec().is_first_col() instead.\n",
      "  if ax.is_first_col():\n",
      "C:\\Users\\sfrie\\AppData\\Local\\Programs\\Python\\Python39\\lib\\site-packages\\pandas\\plotting\\_matplotlib\\tools.py:400: MatplotlibDeprecationWarning: \n",
      "The is_first_col function was deprecated in Matplotlib 3.4 and will be removed two minor releases later. Use ax.get_subplotspec().is_first_col() instead.\n",
      "  if ax.is_first_col():\n"
     ]
    },
    {
     "data": {
      "image/png": "[encoded data removed]",
      "text/plain": [
       "<Figure size 1080x360 with 3 Axes>"
      ]
     },
     "metadata": {
      "needs_background": "light"
     },
     "output_type": "display_data"
    }
   ],
   "source": [
    "plt.figure(figsize=(15, 5))\n",
    "\n",
    "for pclass in [1, 2, 3]:\n",
    "    plt.subplot(1, 3, pclass)\n",
    "    group_counts.loc[pclass].plot(ax=plt.gca())\n",
    "    plt.ylim(0, 0.35)\n",
    "    plt.title(\"Age distribution for Class %i\" % pclass, fontsize=12)\n",
    "plt.tight_layout()"
   ]
  },
  {
   "cell_type": "markdown",
   "metadata": {},
   "source": [
    "This is the same exact information, but seaborn makes it much easier, and much better visually"
   ]
  }
 ],
 "metadata": {
  "@webio": {
   "lastCommId": null,
   "lastKernelId": null
  },
  "kernelspec": {
   "display_name": "Python 3",
   "language": "python",
   "name": "python3"
  },
  "language_info": {
   "codemirror_mode": {
    "name": "ipython",
    "version": 3
   },
   "file_extension": ".py",
   "mimetype": "text/x-python",
   "name": "python",
   "nbconvert_exporter": "python",
   "pygments_lexer": "ipython3",
   "version": "3.9.1"
  }
 },
 "nbformat": 4,
 "nbformat_minor": 2
}
