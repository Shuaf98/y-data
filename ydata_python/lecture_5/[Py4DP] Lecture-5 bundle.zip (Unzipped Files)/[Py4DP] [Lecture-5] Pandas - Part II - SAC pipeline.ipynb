{
 "cells": [
  {
   "cell_type": "markdown",
   "metadata": {},
   "source": [
    "# Advanced `pandas`\n",
    "\n",
    "The following notebook is dedicated to more advanved opeartions in Pandas:\n",
    "\n",
    "- `split-apply-combine` pipeline,\n",
    "- operations on string columns (string operations, replacement),\n",
    "- joins on Pandas dataframes."
   ]
  },
  {
   "cell_type": "code",
   "execution_count": null,
   "metadata": {
    "ExecuteTime": {
     "end_time": "2019-12-12T07:43:16.491934Z",
     "start_time": "2019-12-12T07:43:15.943849Z"
    }
   },
   "outputs": [],
   "source": [
    "%pylab inline\n",
    "plt.style.use(\"bmh\")"
   ]
  },
  {
   "cell_type": "code",
   "execution_count": null,
   "metadata": {
    "ExecuteTime": {
     "end_time": "2019-12-12T07:43:16.820457Z",
     "start_time": "2019-12-12T07:43:16.496128Z"
    }
   },
   "outputs": [],
   "source": [
    "import numpy as np\n",
    "import pandas as pd"
   ]
  },
  {
   "cell_type": "code",
   "execution_count": null,
   "metadata": {
    "ExecuteTime": {
     "end_time": "2019-12-12T07:43:17.834408Z",
     "start_time": "2019-12-12T07:43:17.804296Z"
    }
   },
   "outputs": [],
   "source": [
    "titanic_train = pd.read_csv(\"train.csv\", index_col=\"PassengerId\")\n",
    "titanic_test = pd.read_csv(\"test.csv\", index_col=\"PassengerId\")\n",
    "titanic = pd.concat([titanic_train, titanic_test], sort=False)"
   ]
  },
  {
   "cell_type": "code",
   "execution_count": null,
   "metadata": {
    "ExecuteTime": {
     "end_time": "2019-12-12T07:43:18.522469Z",
     "start_time": "2019-12-12T07:43:18.487798Z"
    }
   },
   "outputs": [],
   "source": [
    "titanic.head()"
   ]
  },
  {
   "cell_type": "code",
   "execution_count": null,
   "metadata": {},
   "outputs": [],
   "source": [
    "titanic.groupby(\"Ticket\").size().value_counts()"
   ]
  },
  {
   "cell_type": "code",
   "execution_count": null,
   "metadata": {},
   "outputs": [],
   "source": [
    "titanic.groupby(\"Ticket\")[\"Fare\"].mean() / titanic.groupby(\"Ticket\").size()"
   ]
  },
  {
   "cell_type": "code",
   "execution_count": null,
   "metadata": {},
   "outputs": [],
   "source": [
    "titanic.merge((titanic.groupby(\"Ticket\")[\"Fare\"].mean() / titanic.groupby(\"Ticket\").size()).rename(\"fare_per_pass\"),\n",
    "              left_on=\"Ticket\", right_index=True, how=\"left\").groupby(\"Pclass\")[\"fare_per_pass\"].mean()"
   ]
  },
  {
   "cell_type": "markdown",
   "metadata": {},
   "source": [
    "# Split-apply-combine (`GROUP BY` in Pandas)\n",
    "\n",
    "Depending on how the result of `apply` part of the pipeline is structured, Pandas will `combine` differently. Many common operations have shortcuts, making them extremely concise. We start with the most simple case: `apply` results in a single scalar per group."
   ]
  },
  {
   "cell_type": "markdown",
   "metadata": {},
   "source": [
    "Entry point to Pandas grouping:"
   ]
  },
  {
   "cell_type": "code",
   "execution_count": null,
   "metadata": {
    "ExecuteTime": {
     "end_time": "2019-11-29T07:50:20.487421Z",
     "start_time": "2019-11-29T07:50:20.481318Z"
    }
   },
   "outputs": [],
   "source": [
    "class_groups = titanic.groupby(\"Pclass\")"
   ]
  },
  {
   "cell_type": "code",
   "execution_count": null,
   "metadata": {
    "ExecuteTime": {
     "end_time": "2019-11-29T07:50:37.186561Z",
     "start_time": "2019-11-29T07:50:37.179041Z"
    }
   },
   "outputs": [],
   "source": [
    "class_groups"
   ]
  },
  {
   "cell_type": "markdown",
   "metadata": {},
   "source": [
    "Pandas is smart enough to provide some common operations automatically:"
   ]
  },
  {
   "cell_type": "code",
   "execution_count": null,
   "metadata": {
    "ExecuteTime": {
     "end_time": "2019-11-29T07:51:05.758834Z",
     "start_time": "2019-11-29T07:51:05.722600Z"
    }
   },
   "outputs": [],
   "source": [
    "class_groups.mean()"
   ]
  },
  {
   "cell_type": "markdown",
   "metadata": {},
   "source": [
    "We can group (only a single column) by a synthetic key:"
   ]
  },
  {
   "cell_type": "code",
   "execution_count": null,
   "metadata": {
    "ExecuteTime": {
     "end_time": "2019-11-29T07:53:26.929109Z",
     "start_time": "2019-11-29T07:53:26.901458Z"
    }
   },
   "outputs": [],
   "source": [
    "age_groups = titanic.Parch.groupby((5 + 10*(titanic.Age//10)))"
   ]
  },
  {
   "cell_type": "code",
   "execution_count": null,
   "metadata": {},
   "outputs": [],
   "source": [
    "5 + 10*(titanic.Age//10)"
   ]
  },
  {
   "cell_type": "code",
   "execution_count": null,
   "metadata": {
    "ExecuteTime": {
     "end_time": "2019-11-29T07:53:44.038386Z",
     "start_time": "2019-11-29T07:53:44.032189Z"
    }
   },
   "outputs": [],
   "source": [
    "age_groups"
   ]
  },
  {
   "cell_type": "code",
   "execution_count": null,
   "metadata": {
    "ExecuteTime": {
     "end_time": "2019-11-29T07:55:52.493946Z",
     "start_time": "2019-11-29T07:55:52.481828Z"
    }
   },
   "outputs": [],
   "source": [
    "age_groups.mean().to_frame() # Note index name"
   ]
  },
  {
   "cell_type": "markdown",
   "metadata": {},
   "source": [
    "NumPy arrays can also be used as grouping keys:"
   ]
  },
  {
   "cell_type": "code",
   "execution_count": null,
   "metadata": {
    "ExecuteTime": {
     "end_time": "2019-11-29T07:59:50.908766Z",
     "start_time": "2019-11-29T07:59:50.900768Z"
    }
   },
   "outputs": [],
   "source": [
    "age_groups_npy = titanic.Parch.groupby((5 + 10*(titanic.Age//10)).values)"
   ]
  },
  {
   "cell_type": "code",
   "execution_count": null,
   "metadata": {
    "ExecuteTime": {
     "end_time": "2019-11-29T07:59:51.360904Z",
     "start_time": "2019-11-29T07:59:51.336917Z"
    }
   },
   "outputs": [],
   "source": [
    "age_groups_npy.mean().to_frame()"
   ]
  },
  {
   "cell_type": "markdown",
   "metadata": {},
   "source": [
    "We can group by a set of keys:"
   ]
  },
  {
   "cell_type": "code",
   "execution_count": null,
   "metadata": {
    "ExecuteTime": {
     "end_time": "2019-11-29T08:01:35.896722Z",
     "start_time": "2019-11-29T08:01:35.881737Z"
    }
   },
   "outputs": [],
   "source": [
    "age_groups_multi = titanic.Parch.groupby([(5 + 10*(titanic.Age//10)), titanic.Pclass])"
   ]
  },
  {
   "cell_type": "code",
   "execution_count": null,
   "metadata": {
    "ExecuteTime": {
     "end_time": "2019-11-29T08:00:54.105556Z",
     "start_time": "2019-11-29T08:00:54.089776Z"
    }
   },
   "outputs": [],
   "source": [
    "age_groups_multi = titanic.Parch.groupby([titanic.Pclass, (5 + 10*(titanic.Age//10))])"
   ]
  },
  {
   "cell_type": "code",
   "execution_count": null,
   "metadata": {
    "ExecuteTime": {
     "end_time": "2019-11-29T08:01:02.459319Z",
     "start_time": "2019-11-29T08:01:02.447132Z"
    }
   },
   "outputs": [],
   "source": [
    "age_groups_multi"
   ]
  },
  {
   "cell_type": "code",
   "execution_count": null,
   "metadata": {
    "ExecuteTime": {
     "end_time": "2019-11-29T08:01:40.220470Z",
     "start_time": "2019-11-29T08:01:40.200459Z"
    }
   },
   "outputs": [],
   "source": [
    "age_groups_multi.mean()"
   ]
  },
  {
   "cell_type": "markdown",
   "metadata": {},
   "source": [
    "We can restructure the result:"
   ]
  },
  {
   "cell_type": "code",
   "execution_count": null,
   "metadata": {
    "ExecuteTime": {
     "end_time": "2019-11-29T08:03:08.281919Z",
     "start_time": "2019-11-29T08:03:08.259963Z"
    }
   },
   "outputs": [],
   "source": [
    "age_groups_multi.mean().unstack()"
   ]
  },
  {
   "cell_type": "markdown",
   "metadata": {},
   "source": [
    "We can mix column names with a real iterables:"
   ]
  },
  {
   "cell_type": "code",
   "execution_count": null,
   "metadata": {
    "ExecuteTime": {
     "end_time": "2019-11-29T08:03:47.499719Z",
     "start_time": "2019-11-29T08:03:47.491562Z"
    }
   },
   "outputs": [],
   "source": [
    "age_groups_mixed = titanic.groupby([(5 + 10*(titanic.Age//10)), \"Pclass\", \"Embarked\"])"
   ]
  },
  {
   "cell_type": "code",
   "execution_count": null,
   "metadata": {},
   "outputs": [],
   "source": [
    "age_groups_mixed"
   ]
  },
  {
   "cell_type": "code",
   "execution_count": null,
   "metadata": {},
   "outputs": [],
   "source": [
    "age_groups_mixed.Parch.mean()"
   ]
  },
  {
   "cell_type": "code",
   "execution_count": null,
   "metadata": {
    "ExecuteTime": {
     "end_time": "2019-11-29T08:08:57.500914Z",
     "start_time": "2019-11-29T08:08:57.486089Z"
    }
   },
   "outputs": [],
   "source": [
    "age_groups_mixed.Parch.mean().unstack(level=(0,2))"
   ]
  },
  {
   "cell_type": "markdown",
   "metadata": {},
   "source": [
    "## `apply` outputs series"
   ]
  },
  {
   "cell_type": "code",
   "execution_count": null,
   "metadata": {
    "ExecuteTime": {
     "end_time": "2019-11-29T08:09:20.872029Z",
     "start_time": "2019-11-29T08:09:20.867749Z"
    }
   },
   "outputs": [],
   "source": [
    "class_groups = titanic.groupby(\"Pclass\") # Nothing is calculated yet"
   ]
  },
  {
   "cell_type": "code",
   "execution_count": null,
   "metadata": {},
   "outputs": [],
   "source": [
    "class_groups.mean()"
   ]
  },
  {
   "cell_type": "markdown",
   "metadata": {},
   "source": [
    "Let's simulate series output of `apply` stage:"
   ]
  },
  {
   "cell_type": "code",
   "execution_count": null,
   "metadata": {
    "ExecuteTime": {
     "end_time": "2019-11-29T08:09:47.026203Z",
     "start_time": "2019-11-29T08:09:47.012818Z"
    }
   },
   "outputs": [],
   "source": [
    "titanic.Fare.describe()"
   ]
  },
  {
   "cell_type": "code",
   "execution_count": null,
   "metadata": {
    "ExecuteTime": {
     "end_time": "2019-11-29T08:11:41.685150Z",
     "start_time": "2019-11-29T08:11:41.632705Z"
    }
   },
   "outputs": [],
   "source": [
    "class_groups.Fare.describe()"
   ]
  },
  {
   "cell_type": "code",
   "execution_count": null,
   "metadata": {
    "ExecuteTime": {
     "end_time": "2019-11-29T08:10:47.209137Z",
     "start_time": "2019-11-29T08:10:47.168717Z"
    }
   },
   "outputs": [],
   "source": [
    "class_groups.apply(lambda x: x.Fare.describe()) # Note column index name"
   ]
  },
  {
   "cell_type": "code",
   "execution_count": null,
   "metadata": {
    "ExecuteTime": {
     "end_time": "2019-11-29T08:12:07.683328Z",
     "start_time": "2019-11-29T08:12:07.672683Z"
    }
   },
   "outputs": [],
   "source": [
    "titanic.groupby(\"Sex\").Parch.mean()"
   ]
  },
  {
   "cell_type": "code",
   "execution_count": null,
   "metadata": {
    "ExecuteTime": {
     "end_time": "2019-11-29T08:13:07.831114Z",
     "start_time": "2019-11-29T08:13:07.795466Z"
    }
   },
   "outputs": [],
   "source": [
    "class_groups.apply(lambda x: x.groupby(\"Sex\").Parch.mean()) # Note column index name"
   ]
  },
  {
   "cell_type": "code",
   "execution_count": null,
   "metadata": {
    "ExecuteTime": {
     "end_time": "2019-11-29T08:14:53.540370Z",
     "start_time": "2019-11-29T08:14:53.486423Z"
    }
   },
   "outputs": [],
   "source": [
    "class_groups.apply(lambda x: x[x.Parch==0].groupby(\"Sex\").size())"
   ]
  },
  {
   "cell_type": "markdown",
   "metadata": {},
   "source": [
    "The same can be achieved differently, of course:"
   ]
  },
  {
   "cell_type": "code",
   "execution_count": null,
   "metadata": {},
   "outputs": [],
   "source": [
    "titanic[titanic.Parch==0].groupby([\"Pclass\", \"Sex\"]).size().unstack()"
   ]
  },
  {
   "cell_type": "markdown",
   "metadata": {},
   "source": [
    "What if `apply` result has multi-index on it's own?"
   ]
  },
  {
   "cell_type": "code",
   "execution_count": null,
   "metadata": {
    "ExecuteTime": {
     "end_time": "2019-11-29T08:15:49.628182Z",
     "start_time": "2019-11-29T08:15:49.611140Z"
    }
   },
   "outputs": [],
   "source": [
    "titanic[titanic.Parch!=0].groupby([\"Sex\", \"Embarked\"]).size()"
   ]
  },
  {
   "cell_type": "code",
   "execution_count": null,
   "metadata": {
    "ExecuteTime": {
     "end_time": "2019-11-29T08:16:38.189816Z",
     "start_time": "2019-11-29T08:16:38.153973Z"
    }
   },
   "outputs": [],
   "source": [
    "class_groups.apply(lambda x: x[x.Parch!=0].groupby([\"Sex\", \"Embarked\"]).size())"
   ]
  },
  {
   "cell_type": "code",
   "execution_count": null,
   "metadata": {},
   "outputs": [],
   "source": [
    "result_s = (class_groups\n",
    "            .apply(lambda x: x[x.Parch!=0].groupby([\"Sex\", \"Embarked\"]).size()))"
   ]
  },
  {
   "cell_type": "code",
   "execution_count": null,
   "metadata": {
    "ExecuteTime": {
     "end_time": "2019-11-29T08:19:36.832730Z",
     "start_time": "2019-11-29T08:19:36.784401Z"
    }
   },
   "outputs": [],
   "source": [
    "result = (class_groups\n",
    "          .apply(lambda x: x[x.Parch!=0].groupby([\"Sex\", \"Embarked\"]).size())\n",
    "          .unstack([1,2]))"
   ]
  },
  {
   "cell_type": "code",
   "execution_count": null,
   "metadata": {
    "ExecuteTime": {
     "end_time": "2019-11-29T08:19:37.550713Z",
     "start_time": "2019-11-29T08:19:37.518241Z"
    }
   },
   "outputs": [],
   "source": [
    "result"
   ]
  },
  {
   "cell_type": "markdown",
   "metadata": {},
   "source": [
    "### Intermezzo: indexing a multi-indexed dataframe"
   ]
  },
  {
   "cell_type": "code",
   "execution_count": null,
   "metadata": {
    "ExecuteTime": {
     "end_time": "2019-11-29T08:21:20.758367Z",
     "start_time": "2019-11-29T08:21:20.739653Z"
    }
   },
   "outputs": [],
   "source": [
    "result.loc[:, (\"female\", \"C\")]"
   ]
  },
  {
   "cell_type": "code",
   "execution_count": null,
   "metadata": {
    "ExecuteTime": {
     "end_time": "2019-11-29T08:22:40.080463Z",
     "start_time": "2019-11-29T08:22:40.049475Z"
    }
   },
   "outputs": [],
   "source": [
    "result.loc[:, [(\"female\", \"C\"), (\"female\", \"S\")]]"
   ]
  },
  {
   "cell_type": "markdown",
   "metadata": {},
   "source": [
    "Positional index is slightly different, as it known nothing about multi-index *per se*:"
   ]
  },
  {
   "cell_type": "code",
   "execution_count": null,
   "metadata": {
    "ExecuteTime": {
     "end_time": "2019-11-29T08:22:46.652744Z",
     "start_time": "2019-11-29T08:22:46.629164Z"
    }
   },
   "outputs": [],
   "source": [
    "result.iloc[:, [0, 1]]"
   ]
  },
  {
   "cell_type": "markdown",
   "metadata": {},
   "source": [
    "## DataFrame output"
   ]
  },
  {
   "cell_type": "code",
   "execution_count": null,
   "metadata": {
    "ExecuteTime": {
     "end_time": "2019-11-29T08:24:10.739951Z",
     "start_time": "2019-11-29T08:24:10.725364Z"
    }
   },
   "outputs": [],
   "source": [
    "titanic[[\"SibSp\", \"Parch\"]].head()"
   ]
  },
  {
   "cell_type": "code",
   "execution_count": null,
   "metadata": {
    "ExecuteTime": {
     "end_time": "2019-11-29T08:24:29.149454Z",
     "start_time": "2019-11-29T08:24:29.121194Z"
    }
   },
   "outputs": [],
   "source": [
    "(titanic[titanic.Parch!=0]\n",
    " .groupby([\"Sex\", \"Embarked\"])[[\"SibSp\", \"Parch\"]]\n",
    " .mean())"
   ]
  },
  {
   "cell_type": "code",
   "execution_count": null,
   "metadata": {},
   "outputs": [],
   "source": [
    "class_groups"
   ]
  },
  {
   "cell_type": "code",
   "execution_count": null,
   "metadata": {
    "ExecuteTime": {
     "end_time": "2019-11-29T08:25:42.885679Z",
     "start_time": "2019-11-29T08:25:42.817193Z"
    }
   },
   "outputs": [],
   "source": [
    "(class_groups\n",
    " .apply(lambda x: x[x.Parch!=0].groupby([\"Sex\", \"Embarked\"])[[\"SibSp\", \"Parch\"]]\n",
    "        .mean()))"
   ]
  },
  {
   "cell_type": "markdown",
   "metadata": {},
   "source": [
    "## Mixing group keys"
   ]
  },
  {
   "cell_type": "code",
   "execution_count": null,
   "metadata": {
    "ExecuteTime": {
     "end_time": "2019-11-29T08:29:06.999894Z",
     "start_time": "2019-11-29T08:29:06.966667Z"
    }
   },
   "outputs": [],
   "source": [
    "titanic.head()"
   ]
  },
  {
   "cell_type": "code",
   "execution_count": null,
   "metadata": {
    "ExecuteTime": {
     "end_time": "2019-11-29T08:30:08.103918Z",
     "start_time": "2019-11-29T08:30:08.093677Z"
    }
   },
   "outputs": [],
   "source": [
    "titanic_idx = titanic.reset_index().set_index((5 + 10*(titanic.Age//10)))"
   ]
  },
  {
   "cell_type": "code",
   "execution_count": null,
   "metadata": {
    "ExecuteTime": {
     "end_time": "2019-11-29T08:30:12.959766Z",
     "start_time": "2019-11-29T08:30:12.932544Z"
    }
   },
   "outputs": [],
   "source": [
    "titanic_idx.head()"
   ]
  },
  {
   "cell_type": "markdown",
   "metadata": {},
   "source": [
    "`pd.Grouper` is an entry point to complex mixed groupings:"
   ]
  },
  {
   "cell_type": "code",
   "execution_count": null,
   "metadata": {},
   "outputs": [],
   "source": [
    "pd.Grouper?"
   ]
  },
  {
   "cell_type": "code",
   "execution_count": null,
   "metadata": {
    "ExecuteTime": {
     "end_time": "2019-11-29T08:32:13.977127Z",
     "start_time": "2019-11-29T08:32:13.957383Z"
    }
   },
   "outputs": [],
   "source": [
    "titanic_idx.groupby([pd.Grouper(level=\"Age\"), \"Pclass\"]).Parch.mean()"
   ]
  },
  {
   "cell_type": "code",
   "execution_count": null,
   "metadata": {},
   "outputs": [],
   "source": [
    "titanic_idx.index"
   ]
  },
  {
   "cell_type": "code",
   "execution_count": null,
   "metadata": {
    "ExecuteTime": {
     "end_time": "2019-11-29T08:32:17.895479Z",
     "start_time": "2019-11-29T08:32:17.875655Z"
    }
   },
   "outputs": [],
   "source": [
    "titanic_idx.groupby([titanic_idx.index, \"Pclass\"]).Parch.mean()"
   ]
  },
  {
   "cell_type": "markdown",
   "metadata": {},
   "source": [
    "### Intermezzo: on `size` vs. `count`"
   ]
  },
  {
   "cell_type": "markdown",
   "metadata": {},
   "source": [
    "`size` is a method to get, you name it, **size** of something, in this case, of a group:"
   ]
  },
  {
   "cell_type": "code",
   "execution_count": null,
   "metadata": {},
   "outputs": [],
   "source": [
    "titanic.groupby('Pclass').size()  ## how many elements are in each group"
   ]
  },
  {
   "cell_type": "markdown",
   "metadata": {},
   "source": [
    "But you **count** only something specific:"
   ]
  },
  {
   "cell_type": "code",
   "execution_count": null,
   "metadata": {},
   "outputs": [],
   "source": [
    "titanic.groupby('Pclass').count()"
   ]
  },
  {
   "cell_type": "markdown",
   "metadata": {},
   "source": [
    "As you can see, `count` only counts non-missing values, i.e. something, that is present in the dataframe. Hence, a bit more elaborated way of getting (almost) the same is:"
   ]
  },
  {
   "cell_type": "code",
   "execution_count": null,
   "metadata": {},
   "outputs": [],
   "source": [
    "titanic.isnull()"
   ]
  },
  {
   "cell_type": "code",
   "execution_count": null,
   "metadata": {},
   "outputs": [],
   "source": [
    "titanic.groupby('Pclass').apply(lambda group: group.notnull().sum())"
   ]
  },
  {
   "cell_type": "markdown",
   "metadata": {},
   "source": [
    "# How `S-A-C` is important in exploratory data analysis"
   ]
  },
  {
   "cell_type": "code",
   "execution_count": null,
   "metadata": {},
   "outputs": [],
   "source": [
    "titanic.Pclass.value_counts()"
   ]
  },
  {
   "cell_type": "code",
   "execution_count": null,
   "metadata": {},
   "outputs": [],
   "source": [
    "titanic[\"AgeGroup\"] = 5 + 10*(titanic.Age//10)\n",
    "titanic[[\"Age\", \"AgeGroup\"]]"
   ]
  },
  {
   "cell_type": "markdown",
   "metadata": {},
   "source": [
    "Let's calculate something non-trivial. For example, percentage of each age group and sex combination, per class:"
   ]
  },
  {
   "cell_type": "code",
   "execution_count": null,
   "metadata": {},
   "outputs": [],
   "source": [
    "titanic_dna = titanic[titanic.Age.notnull()]  # it's a matter of discussion, if we need this: think on it a bit\n",
    "group_counts = titanic_dna.groupby(['Pclass', 'AgeGroup', 'Sex']).size()/titanic_dna.groupby('Pclass').size()\n",
    "group_counts.head()"
   ]
  },
  {
   "cell_type": "code",
   "execution_count": null,
   "metadata": {},
   "outputs": [],
   "source": [
    "group_counts.unstack(level=1)"
   ]
  },
  {
   "cell_type": "markdown",
   "metadata": {},
   "source": [
    "A simple way to validate the calculation:"
   ]
  },
  {
   "cell_type": "code",
   "execution_count": null,
   "metadata": {},
   "outputs": [],
   "source": [
    "group_counts.groupby(level=0).sum()"
   ]
  },
  {
   "cell_type": "markdown",
   "metadata": {},
   "source": [
    "Main advantage of Pandas for EDA comes from very flexible inter-operability of analytics and plotting:"
   ]
  },
  {
   "cell_type": "code",
   "execution_count": null,
   "metadata": {},
   "outputs": [],
   "source": [
    "group_counts = group_counts.unstack()"
   ]
  },
  {
   "cell_type": "code",
   "execution_count": null,
   "metadata": {},
   "outputs": [],
   "source": [
    "group_counts"
   ]
  },
  {
   "cell_type": "code",
   "execution_count": null,
   "metadata": {},
   "outputs": [],
   "source": [
    "plt.figure(figsize=(15, 5))\n",
    "\n",
    "for pclass in [1, 2, 3]:\n",
    "    plt.subplot(1, 3, pclass)\n",
    "    group_counts.loc[pclass].plot(ax=plt.gca())\n",
    "    plt.ylim(0, 0.35)\n",
    "    plt.title(\"Age distribution for Class %i\" % pclass, fontsize=12)\n",
    "plt.tight_layout()"
   ]
  },
  {
   "cell_type": "code",
   "execution_count": null,
   "metadata": {},
   "outputs": [],
   "source": [
    "survival_groups = titanic.groupby(['Pclass', 'AgeGroup', 'Sex']).Survived.mean()\n",
    "survival_groups"
   ]
  },
  {
   "cell_type": "code",
   "execution_count": null,
   "metadata": {},
   "outputs": [],
   "source": [
    "survival_groups = survival_groups.unstack()"
   ]
  },
  {
   "cell_type": "code",
   "execution_count": null,
   "metadata": {},
   "outputs": [],
   "source": [
    "plt.figure(figsize=(15, 5))\n",
    "\n",
    "for pclass in [1, 2, 3]:\n",
    "    plt.subplot(1, 3, pclass)\n",
    "    survival_groups.loc[pclass].plot(ax=plt.gca())\n",
    "    plt.ylim(0, 1)\n",
    "    plt.title(\"Survived in class %i\" % pclass, fontsize=12)\n",
    "plt.tight_layout()"
   ]
  },
  {
   "cell_type": "code",
   "execution_count": null,
   "metadata": {},
   "outputs": [],
   "source": [
    "siblings_groups = titanic.groupby(['Pclass', 'AgeGroup', 'Sex']).SibSp.mean()\n",
    "siblings_groups = siblings_groups.unstack()"
   ]
  },
  {
   "cell_type": "code",
   "execution_count": null,
   "metadata": {},
   "outputs": [],
   "source": [
    "siblings_groups"
   ]
  },
  {
   "cell_type": "code",
   "execution_count": null,
   "metadata": {},
   "outputs": [],
   "source": [
    "plt.figure(figsize=(15, 5))\n",
    "\n",
    "for pclass in [1, 2, 3]:\n",
    "    plt.subplot(1, 3, pclass)\n",
    "    siblings_groups.loc[pclass].plot(ax=plt.gca())\n",
    "    plt.ylim(0, 5)\n",
    "    plt.title(\"Siblings in class %i\" % pclass, fontsize=12)\n",
    "plt.tight_layout()"
   ]
  },
  {
   "cell_type": "code",
   "execution_count": null,
   "metadata": {},
   "outputs": [],
   "source": [
    "embark_counts = titanic.groupby(['Pclass', 'AgeGroup', 'Sex', 'Embarked']).size()/titanic.groupby('Pclass').size()\n",
    "\n",
    "embark_counts"
   ]
  },
  {
   "cell_type": "code",
   "execution_count": null,
   "metadata": {},
   "outputs": [],
   "source": [
    "embark_counts = embark_counts.unstack([-1, -2])\n",
    "embark_counts"
   ]
  },
  {
   "cell_type": "markdown",
   "metadata": {},
   "source": [
    "### Intermezzo: Seaborn in EDA"
   ]
  },
  {
   "cell_type": "code",
   "execution_count": null,
   "metadata": {},
   "outputs": [],
   "source": [
    "import seaborn as sns"
   ]
  },
  {
   "cell_type": "code",
   "execution_count": null,
   "metadata": {},
   "outputs": [],
   "source": [
    "plt.figure(figsize=(6,6))\n",
    "\n",
    "# We will plot jittered version of the data, hence we remove fliers\n",
    "sns.boxplot(x=\"Pclass\", y=\"Age\", data=titanic,\n",
    "            fliersize=0, width=0.3)\n",
    "sns.stripplot(x=\"Pclass\", y=\"Age\", data=titanic,\n",
    "              color=\"k\", alpha=0.5, size=3)\n",
    "plt.title(\"Age distribution by class\", fontsize=12)\n",
    "plt.tight_layout();"
   ]
  },
  {
   "cell_type": "code",
   "execution_count": null,
   "metadata": {},
   "outputs": [],
   "source": [
    "plt.figure(figsize=(6,6))\n",
    "\n",
    "sns.violinplot(x=\"Age\", y=\"Pclass\", data=titanic,\n",
    "               split=True, hue=\"Sex\", scale=\"count\", orient=\"h\")\n",
    "plt.title(\"Age distribution by class\", fontsize=12)\n",
    "plt.tight_layout();"
   ]
  },
  {
   "cell_type": "code",
   "execution_count": null,
   "metadata": {},
   "outputs": [],
   "source": [
    "with plt.style.context(\"seaborn-ticks\"):\n",
    "    plt.figure(figsize=(6,6))\n",
    "\n",
    "    sns.violinplot(x=\"Age\", y=\"Pclass\", data=titanic,\n",
    "                   split=True, hue=\"Sex\", scale=\"count\", orient=\"h\",\n",
    "                   palette={\"male\": \"lightsteelblue\", \"female\": \"firebrick\"})\n",
    "    plt.title(\"Age distribution by class\", fontsize=12)\n",
    "\n",
    "    sns.despine(left=True)\n",
    "\n",
    "    plt.ylabel(\"class\")\n",
    "\n",
    "    plt.tight_layout();"
   ]
  },
  {
   "cell_type": "markdown",
   "metadata": {},
   "source": [
    "For comparison:"
   ]
  },
  {
   "cell_type": "code",
   "execution_count": null,
   "metadata": {},
   "outputs": [],
   "source": [
    "plt.figure(figsize=(15, 5))\n",
    "\n",
    "for pclass in [1, 2, 3]:\n",
    "    plt.subplot(1, 3, pclass)\n",
    "    group_counts.loc[pclass].plot(ax=plt.gca())\n",
    "    plt.ylim(0, 0.35)\n",
    "    plt.title(\"Age distribution for Class %i\" % pclass, fontsize=12)\n",
    "plt.tight_layout()"
   ]
  },
  {
   "cell_type": "code",
   "execution_count": null,
   "metadata": {},
   "outputs": [],
   "source": []
  }
 ],
 "metadata": {
  "@webio": {
   "lastCommId": null,
   "lastKernelId": null
  },
  "kernelspec": {
   "display_name": "Python 3",
   "language": "python",
   "name": "python3"
  },
  "language_info": {
   "codemirror_mode": {
    "name": "ipython",
    "version": 3
   },
   "file_extension": ".py",
   "mimetype": "text/x-python",
   "name": "python",
   "nbconvert_exporter": "python",
   "pygments_lexer": "ipython3",
   "version": "3.8.12"
  }
 },
 "nbformat": 4,
 "nbformat_minor": 2
}
