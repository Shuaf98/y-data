{
 "cells": [
  {
   "cell_type": "markdown",
   "metadata": {},
   "source": [
    "# Efficient `pandas`"
   ]
  },
  {
   "cell_type": "code",
   "execution_count": null,
   "metadata": {
    "ExecuteTime": {
     "end_time": "2019-11-29T09:53:18.189481Z",
     "start_time": "2019-11-29T09:53:17.396541Z"
    }
   },
   "outputs": [],
   "source": [
    "%pylab inline\n",
    "plt.style.use(\"bmh\")"
   ]
  },
  {
   "cell_type": "code",
   "execution_count": null,
   "metadata": {
    "ExecuteTime": {
     "end_time": "2019-11-29T09:53:18.670335Z",
     "start_time": "2019-11-29T09:53:18.195478Z"
    }
   },
   "outputs": [],
   "source": [
    "import numpy as np\n",
    "import pandas as pd"
   ]
  },
  {
   "cell_type": "code",
   "execution_count": null,
   "metadata": {
    "ExecuteTime": {
     "end_time": "2019-11-29T09:53:18.681064Z",
     "start_time": "2019-11-29T09:53:18.675172Z"
    }
   },
   "outputs": [],
   "source": [
    "import string"
   ]
  },
  {
   "cell_type": "markdown",
   "metadata": {},
   "source": [
    "# Data"
   ]
  },
  {
   "cell_type": "code",
   "execution_count": null,
   "metadata": {
    "ExecuteTime": {
     "end_time": "2019-11-29T09:53:23.113793Z",
     "start_time": "2019-11-29T09:53:23.101618Z"
    }
   },
   "outputs": [],
   "source": [
    "df = pd.DataFrame(np.arange(2000).reshape((1000,2)),\n",
    "                  columns=['a', 'b'],\n",
    "                  index=np.random.choice(list(string.ascii_lowercase), 1000, replace=True))"
   ]
  },
  {
   "cell_type": "code",
   "execution_count": null,
   "metadata": {
    "ExecuteTime": {
     "end_time": "2019-11-29T09:53:24.096963Z",
     "start_time": "2019-11-29T09:53:24.068487Z"
    }
   },
   "outputs": [],
   "source": [
    "df.head()"
   ]
  },
  {
   "cell_type": "markdown",
   "metadata": {},
   "source": [
    "# Loops"
   ]
  },
  {
   "cell_type": "markdown",
   "metadata": {},
   "source": [
    "## Naive"
   ]
  },
  {
   "cell_type": "code",
   "execution_count": null,
   "metadata": {
    "ExecuteTime": {
     "end_time": "2019-11-29T09:54:58.228323Z",
     "start_time": "2019-11-29T09:54:58.218928Z"
    }
   },
   "outputs": [],
   "source": [
    "def iterate_df(df):\n",
    "    \"\"\"Iterate over df in Python loop.\"\"\"\n",
    "\n",
    "    result = []\n",
    "    \n",
    "    for i in range(df.shape[0]):\n",
    "        row = df.iloc[i]\n",
    "        result.append(row['a']/row['b'])\n",
    "    return pd.Series(result, name=\"div_result\", index=df.index)"
   ]
  },
  {
   "cell_type": "code",
   "execution_count": null,
   "metadata": {
    "ExecuteTime": {
     "end_time": "2019-11-29T09:55:24.926350Z",
     "start_time": "2019-11-29T09:55:12.526399Z"
    }
   },
   "outputs": [],
   "source": [
    "%timeit -n 10 -r 5 iterate_df(df)"
   ]
  },
  {
   "cell_type": "markdown",
   "metadata": {},
   "source": [
    "## Using `iterrows`"
   ]
  },
  {
   "cell_type": "code",
   "execution_count": null,
   "metadata": {
    "ExecuteTime": {
     "end_time": "2019-11-29T09:56:23.384569Z",
     "start_time": "2019-11-29T09:56:23.377248Z"
    }
   },
   "outputs": [],
   "source": [
    "def iterate_df_rows(df):\n",
    "    \"\"\"Iterate over df in Python loop.\"\"\"\n",
    "\n",
    "    result = []\n",
    "    \n",
    "    for ri, row in df.iterrows():\n",
    "        result.append(row['a']/row['b'])\n",
    "    return pd.Series(result, name=\"AgeGroup\", index=df.index)"
   ]
  },
  {
   "cell_type": "code",
   "execution_count": null,
   "metadata": {
    "ExecuteTime": {
     "end_time": "2019-11-29T09:56:41.041391Z",
     "start_time": "2019-11-29T09:56:24.156987Z"
    }
   },
   "outputs": [],
   "source": [
    "%timeit -n 20 -r 5 iterate_df_rows(df)"
   ]
  },
  {
   "cell_type": "markdown",
   "metadata": {},
   "source": [
    "## Using `apply`"
   ]
  },
  {
   "cell_type": "code",
   "execution_count": null,
   "metadata": {
    "ExecuteTime": {
     "end_time": "2019-11-29T09:56:59.563658Z",
     "start_time": "2019-11-29T09:56:55.880688Z"
    }
   },
   "outputs": [],
   "source": [
    "%timeit -n 20 -r 5 df.apply(lambda x: x['a']/x['b'], axis=1)"
   ]
  },
  {
   "cell_type": "markdown",
   "metadata": {},
   "source": [
    "## Using vectorization"
   ]
  },
  {
   "cell_type": "code",
   "execution_count": null,
   "metadata": {
    "ExecuteTime": {
     "end_time": "2019-11-29T09:57:38.788029Z",
     "start_time": "2019-11-29T09:57:38.707545Z"
    }
   },
   "outputs": [],
   "source": [
    "%timeit -n 20 -r 5 df['a']/df['b']"
   ]
  },
  {
   "cell_type": "code",
   "execution_count": null,
   "metadata": {
    "ExecuteTime": {
     "end_time": "2019-11-29T09:59:05.933117Z",
     "start_time": "2019-11-29T09:59:05.924396Z"
    }
   },
   "outputs": [],
   "source": [
    "df['a']/df['b']"
   ]
  },
  {
   "cell_type": "code",
   "execution_count": null,
   "metadata": {
    "ExecuteTime": {
     "end_time": "2019-11-29T09:58:53.297392Z",
     "start_time": "2019-11-29T09:58:53.285068Z"
    }
   },
   "outputs": [],
   "source": [
    "%timeit -n 20 -r 5 df['a'].values/df['b'].values"
   ]
  },
  {
   "cell_type": "code",
   "execution_count": null,
   "metadata": {
    "ExecuteTime": {
     "end_time": "2019-11-29T09:59:19.328004Z",
     "start_time": "2019-11-29T09:59:19.303958Z"
    }
   },
   "outputs": [],
   "source": [
    "df['a'].values/df['b'].values"
   ]
  },
  {
   "cell_type": "markdown",
   "metadata": {},
   "source": [
    "# Memory"
   ]
  },
  {
   "cell_type": "code",
   "execution_count": null,
   "metadata": {
    "ExecuteTime": {
     "end_time": "2019-11-29T10:15:43.142791Z",
     "start_time": "2019-11-29T10:15:43.078684Z"
    }
   },
   "outputs": [],
   "source": [
    "titanic_train = pd.read_csv(\"train.csv\", index_col=\"PassengerId\")\n",
    "titanic_test = pd.read_csv(\"test.csv\", index_col=\"PassengerId\")\n",
    "titanic = pd.concat([titanic_train, titanic_test], sort=False)\n",
    "\n",
    "titanic.head(5)"
   ]
  },
  {
   "cell_type": "code",
   "execution_count": null,
   "metadata": {
    "ExecuteTime": {
     "end_time": "2019-11-29T10:16:02.794080Z",
     "start_time": "2019-11-29T10:16:02.776517Z"
    }
   },
   "outputs": [],
   "source": [
    "titanic.dtypes"
   ]
  },
  {
   "cell_type": "code",
   "execution_count": null,
   "metadata": {
    "ExecuteTime": {
     "end_time": "2019-11-29T10:17:11.460872Z",
     "start_time": "2019-11-29T10:17:11.426914Z"
    }
   },
   "outputs": [],
   "source": [
    "titanic.info(memory_usage=\"deep\")"
   ]
  },
  {
   "cell_type": "code",
   "execution_count": null,
   "metadata": {
    "ExecuteTime": {
     "end_time": "2019-11-29T10:18:09.033904Z",
     "start_time": "2019-11-29T10:18:09.022854Z"
    }
   },
   "outputs": [],
   "source": [
    "titanic[\"Pclass\"] = pd.to_numeric(titanic[\"Pclass\"], downcast=\"unsigned\")"
   ]
  },
  {
   "cell_type": "code",
   "execution_count": null,
   "metadata": {
    "ExecuteTime": {
     "end_time": "2019-11-29T10:18:16.695774Z",
     "start_time": "2019-11-29T10:18:16.687786Z"
    }
   },
   "outputs": [],
   "source": [
    "titanic.dtypes"
   ]
  },
  {
   "cell_type": "code",
   "execution_count": null,
   "metadata": {
    "ExecuteTime": {
     "end_time": "2019-11-29T10:19:10.616374Z",
     "start_time": "2019-11-29T10:19:10.588055Z"
    }
   },
   "outputs": [],
   "source": [
    "titanic.info(memory_usage=\"deep\")"
   ]
  },
  {
   "cell_type": "code",
   "execution_count": null,
   "metadata": {
    "ExecuteTime": {
     "end_time": "2019-11-26T17:31:02.414109Z",
     "start_time": "2019-11-26T17:31:02.395722Z"
    }
   },
   "outputs": [],
   "source": [
    "titanic[\"SibSp\"] = pd.to_numeric(titanic[\"SibSp\"], downcast=\"unsigned\")\n",
    "titanic[\"Parch\"] = pd.to_numeric(titanic[\"Parch\"], downcast=\"unsigned\")"
   ]
  },
  {
   "cell_type": "code",
   "execution_count": null,
   "metadata": {
    "ExecuteTime": {
     "end_time": "2019-11-26T17:31:03.583705Z",
     "start_time": "2019-11-26T17:31:03.540252Z"
    }
   },
   "outputs": [],
   "source": [
    "titanic.info(memory_usage=\"deep\")"
   ]
  },
  {
   "cell_type": "markdown",
   "metadata": {},
   "source": [
    "## How to read it with correct `dtype`s right away?"
   ]
  },
  {
   "cell_type": "code",
   "execution_count": null,
   "metadata": {
    "ExecuteTime": {
     "end_time": "2019-11-29T10:21:52.922488Z",
     "start_time": "2019-11-29T10:21:52.836353Z"
    }
   },
   "outputs": [],
   "source": [
    "titanic_train_trunc = pd.read_csv(\"train.csv\", index_col=\"PassengerId\",\n",
    "                                  dtype={\"Pclass\":np.uint8,\n",
    "                                         \"SibSp\":np.uint8,\n",
    "                                         \"Parch\":np.uint8,\n",
    "                                         \"Survived\":np.float32,\n",
    "                                         \"Age\":np.float32,\n",
    "                                         \"Fare\":np.float32},\n",
    "                                  converters={\"Sex\": lambda x: (np.uint8(1)\n",
    "                                                                if x==\"female\" else np.uint8(0)),\n",
    "                                              \"Embarked\": lambda x: 0 if x==\"S\" else (1 if x==\"C\" else 2)})\n",
    "titanic_test_trunc = pd.read_csv(\"test.csv\", index_col=\"PassengerId\",\n",
    "                                 dtype={\"Pclass\":np.uint8,\n",
    "                                        \"SibSp\":np.uint8,\n",
    "                                        \"Parch\":np.uint8,\n",
    "                                        \"Survived\":np.float32,\n",
    "                                        \"Age\":np.float32,\n",
    "                                        \"Fare\":np.float32},\n",
    "                                 converters={\"Sex\": lambda x: np.uint8(1) if x==\"female\" else np.uint8(0),\n",
    "                                             \"Embarked\": lambda x: 0 if x==\"S\" else (1 if x==\"C\" else 2)})\n",
    "titanic_trunc = pd.concat([titanic_train_trunc, titanic_test_trunc], sort=False)\n",
    "\n",
    "titanic_trunc.info(memory_usage=\"deep\")"
   ]
  },
  {
   "cell_type": "code",
   "execution_count": null,
   "metadata": {
    "ExecuteTime": {
     "end_time": "2019-11-29T10:23:17.497613Z",
     "start_time": "2019-11-29T10:23:17.462134Z"
    }
   },
   "outputs": [],
   "source": [
    "titanic_trunc.select_dtypes(np.uint8).head()"
   ]
  },
  {
   "cell_type": "code",
   "execution_count": null,
   "metadata": {
    "ExecuteTime": {
     "end_time": "2019-11-29T10:24:04.198123Z",
     "start_time": "2019-11-29T10:24:04.114013Z"
    }
   },
   "outputs": [],
   "source": [
    "titanic_trunc"
   ]
  },
  {
   "cell_type": "code",
   "execution_count": null,
   "metadata": {},
   "outputs": [],
   "source": []
  }
 ],
 "metadata": {
  "@webio": {
   "lastCommId": null,
   "lastKernelId": null
  },
  "kernelspec": {
   "display_name": "Python 3",
   "language": "python",
   "name": "python3"
  },
  "language_info": {
   "codemirror_mode": {
    "name": "ipython",
    "version": 3
   },
   "file_extension": ".py",
   "mimetype": "text/x-python",
   "name": "python",
   "nbconvert_exporter": "python",
   "pygments_lexer": "ipython3",
   "version": "3.8.12"
  }
 },
 "nbformat": 4,
 "nbformat_minor": 2
}
