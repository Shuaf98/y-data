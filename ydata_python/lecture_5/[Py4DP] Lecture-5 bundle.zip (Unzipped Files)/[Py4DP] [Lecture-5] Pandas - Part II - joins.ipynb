{
 "cells": [
  {
   "cell_type": "markdown",
   "metadata": {},
   "source": [
    "# Advanced `pandas`\n",
    "\n",
    "The following notebook is dedicated to more advanved opeartions in Pandas:\n",
    "\n",
    "- `split-apply-combine` pipeline,\n",
    "- operations on string columns (string operations, replacement),\n",
    "- joins on Pandas dataframes."
   ]
  },
  {
   "cell_type": "code",
   "execution_count": null,
   "metadata": {
    "ExecuteTime": {
     "end_time": "2019-12-12T07:43:16.491934Z",
     "start_time": "2019-12-12T07:43:15.943849Z"
    }
   },
   "outputs": [],
   "source": [
    "%pylab inline\n",
    "plt.style.use(\"bmh\")"
   ]
  },
  {
   "cell_type": "code",
   "execution_count": null,
   "metadata": {
    "ExecuteTime": {
     "end_time": "2019-12-12T07:43:16.820457Z",
     "start_time": "2019-12-12T07:43:16.496128Z"
    }
   },
   "outputs": [],
   "source": [
    "import numpy as np\n",
    "import pandas as pd"
   ]
  },
  {
   "cell_type": "code",
   "execution_count": null,
   "metadata": {
    "ExecuteTime": {
     "end_time": "2019-12-12T07:43:17.834408Z",
     "start_time": "2019-12-12T07:43:17.804296Z"
    }
   },
   "outputs": [],
   "source": [
    "titanic_train = pd.read_csv(\"train.csv\", index_col=\"PassengerId\")\n",
    "titanic_test = pd.read_csv(\"test.csv\", index_col=\"PassengerId\")\n",
    "titanic = pd.concat([titanic_train, titanic_test], sort=False)"
   ]
  },
  {
   "cell_type": "code",
   "execution_count": null,
   "metadata": {
    "ExecuteTime": {
     "end_time": "2019-12-12T07:43:18.522469Z",
     "start_time": "2019-12-12T07:43:18.487798Z"
    }
   },
   "outputs": [],
   "source": [
    "titanic.head()"
   ]
  },
  {
   "cell_type": "markdown",
   "metadata": {},
   "source": [
    "# Joining Pandas dataframes (`JOIN` in Pandas)\n",
    "\n",
    "We start with a synthetic example:"
   ]
  },
  {
   "cell_type": "code",
   "execution_count": null,
   "metadata": {
    "ExecuteTime": {
     "end_time": "2019-11-29T09:02:17.425518Z",
     "start_time": "2019-11-29T09:02:17.419145Z"
    }
   },
   "outputs": [],
   "source": [
    "a = pd.DataFrame(np.arange(8).reshape((4,2)),\n",
    "                 columns=[\"a\", \"b\"],\n",
    "                 index=[\"a\", \"b\", \"a\", \"b\"])\n",
    "b = pd.DataFrame(10 + np.arange(4).reshape((4,-1)),\n",
    "                 columns=[\"d\"],\n",
    "                 index=[\"d\", \"b\", \"c\", \"b\"])"
   ]
  },
  {
   "cell_type": "code",
   "execution_count": null,
   "metadata": {
    "ExecuteTime": {
     "end_time": "2019-11-29T09:02:28.646286Z",
     "start_time": "2019-11-29T09:02:28.627623Z"
    }
   },
   "outputs": [],
   "source": [
    "a"
   ]
  },
  {
   "cell_type": "code",
   "execution_count": null,
   "metadata": {},
   "outputs": [],
   "source": [
    "b"
   ]
  },
  {
   "cell_type": "code",
   "execution_count": null,
   "metadata": {
    "ExecuteTime": {
     "end_time": "2019-11-29T09:02:39.808281Z",
     "start_time": "2019-11-29T09:02:39.778962Z"
    }
   },
   "outputs": [],
   "source": [
    "a.join(b) # default is left join"
   ]
  },
  {
   "cell_type": "code",
   "execution_count": null,
   "metadata": {
    "ExecuteTime": {
     "end_time": "2019-11-29T09:04:20.183143Z",
     "start_time": "2019-11-29T09:04:20.162586Z"
    }
   },
   "outputs": [],
   "source": [
    "a.join(b, how=\"inner\")"
   ]
  },
  {
   "cell_type": "code",
   "execution_count": null,
   "metadata": {
    "ExecuteTime": {
     "end_time": "2019-11-29T09:05:06.760353Z",
     "start_time": "2019-11-29T09:05:06.739187Z"
    }
   },
   "outputs": [],
   "source": [
    "a"
   ]
  },
  {
   "cell_type": "code",
   "execution_count": null,
   "metadata": {},
   "outputs": [],
   "source": [
    "b"
   ]
  },
  {
   "cell_type": "code",
   "execution_count": null,
   "metadata": {
    "ExecuteTime": {
     "end_time": "2019-11-29T09:05:09.929789Z",
     "start_time": "2019-11-29T09:05:09.914992Z"
    }
   },
   "outputs": [],
   "source": [
    "b.join(a, how=\"right\")"
   ]
  },
  {
   "cell_type": "code",
   "execution_count": null,
   "metadata": {
    "ExecuteTime": {
     "end_time": "2019-11-29T09:07:35.754036Z",
     "start_time": "2019-11-29T09:07:35.732333Z"
    }
   },
   "outputs": [],
   "source": [
    "a.join(b, how=\"outer\")"
   ]
  },
  {
   "cell_type": "markdown",
   "metadata": {},
   "source": [
    "We can also perform join operation on multi-indexed dataframes:"
   ]
  },
  {
   "cell_type": "code",
   "execution_count": null,
   "metadata": {
    "ExecuteTime": {
     "end_time": "2019-11-29T09:13:37.916288Z",
     "start_time": "2019-11-29T09:13:37.893991Z"
    }
   },
   "outputs": [],
   "source": [
    "c = pd.DataFrame(np.arange(8).reshape((4,2)),\n",
    "                 columns=[\"a\", \"b\"],\n",
    "                 index=pd.MultiIndex.from_tuples([(\"a\", \"A\"), (\"b\", \"E\"), (\"a\", \"Y\"), (\"b\", \"R\")],\n",
    "                                                 names=(\"lower\", \"upper\")))"
   ]
  },
  {
   "cell_type": "code",
   "execution_count": null,
   "metadata": {
    "ExecuteTime": {
     "end_time": "2019-11-29T09:13:39.134741Z",
     "start_time": "2019-11-29T09:13:39.119014Z"
    }
   },
   "outputs": [],
   "source": [
    "c"
   ]
  },
  {
   "cell_type": "code",
   "execution_count": null,
   "metadata": {
    "ExecuteTime": {
     "end_time": "2019-11-29T09:12:30.093321Z",
     "start_time": "2019-11-29T09:12:30.005048Z"
    }
   },
   "outputs": [],
   "source": [
    "a"
   ]
  },
  {
   "cell_type": "code",
   "execution_count": null,
   "metadata": {},
   "outputs": [],
   "source": [
    "c.join(a, on=\"lower\")  # This one will fail"
   ]
  },
  {
   "cell_type": "code",
   "execution_count": null,
   "metadata": {
    "ExecuteTime": {
     "end_time": "2019-11-29T09:14:58.115871Z",
     "start_time": "2019-11-29T09:14:58.082986Z"
    }
   },
   "outputs": [],
   "source": [
    "c.join(a, on=\"lower\", rsuffix=\"_right\")"
   ]
  },
  {
   "cell_type": "markdown",
   "metadata": {},
   "source": [
    "# Joining dataframes for EDA"
   ]
  },
  {
   "cell_type": "markdown",
   "metadata": {},
   "source": [
    "## Problem: get (almost) all couples on board "
   ]
  },
  {
   "cell_type": "code",
   "execution_count": null,
   "metadata": {},
   "outputs": [],
   "source": [
    "titanic[[\"Name\", \"Sex\"]].head()"
   ]
  },
  {
   "cell_type": "markdown",
   "metadata": {},
   "source": [
    "We start by noting the pattern: married females are listed as `<FAMILY_NAME>, Mrs. <HUSBANDS_FIRST_NAME> (<WIFES_FULL_NAME>)`. Let's play with it a bit:"
   ]
  },
  {
   "cell_type": "code",
   "execution_count": null,
   "metadata": {
    "ExecuteTime": {
     "end_time": "2019-11-29T09:22:03.702056Z",
     "start_time": "2019-11-29T09:22:03.602571Z"
    }
   },
   "outputs": [],
   "source": [
    "family_names = (titanic\n",
    "                .replace(re.compile(r'\\s+\\(.*\\)'), '')\n",
    "                .replace(re.compile(\"Mrs.\"), \"Mr.\"))[[\"Name\", \"Sex\"]]"
   ]
  },
  {
   "cell_type": "code",
   "execution_count": null,
   "metadata": {},
   "outputs": [],
   "source": [
    "family_names"
   ]
  },
  {
   "cell_type": "markdown",
   "metadata": {},
   "source": [
    "Replacing wife's name altogether:"
   ]
  },
  {
   "cell_type": "code",
   "execution_count": null,
   "metadata": {},
   "outputs": [],
   "source": [
    "titanic.replace(re.compile(r'\\s+\\(.*\\)'), '')"
   ]
  },
  {
   "cell_type": "code",
   "execution_count": null,
   "metadata": {},
   "outputs": [],
   "source": [
    "family_names"
   ]
  },
  {
   "cell_type": "markdown",
   "metadata": {},
   "source": [
    "We can now get passenger IDs and husbands names (not all of them are on board!) of all married women:"
   ]
  },
  {
   "cell_type": "code",
   "execution_count": null,
   "metadata": {
    "ExecuteTime": {
     "end_time": "2019-11-29T09:23:45.614324Z",
     "start_time": "2019-11-29T09:23:45.599568Z"
    }
   },
   "outputs": [],
   "source": [
    "family_names = family_names[(family_names.Sex==\"female\") & family_names.Name.str.contains(\"Mr.\")]"
   ]
  },
  {
   "cell_type": "code",
   "execution_count": null,
   "metadata": {
    "ExecuteTime": {
     "end_time": "2019-11-29T09:23:47.412326Z",
     "start_time": "2019-11-29T09:23:47.394549Z"
    }
   },
   "outputs": [],
   "source": [
    "family_names.head()"
   ]
  },
  {
   "cell_type": "code",
   "execution_count": null,
   "metadata": {},
   "outputs": [],
   "source": [
    "family_names.shape[0]"
   ]
  },
  {
   "cell_type": "markdown",
   "metadata": {},
   "source": [
    "We now want to join this back to original dataframe (a very common pattern if you need some **pairs**):"
   ]
  },
  {
   "cell_type": "code",
   "execution_count": null,
   "metadata": {
    "ExecuteTime": {
     "end_time": "2019-11-29T09:24:33.221038Z",
     "start_time": "2019-11-29T09:24:33.188739Z"
    }
   },
   "outputs": [],
   "source": [
    "family_names.reset_index().set_index(\"Name\")[\"PassengerId\"]"
   ]
  },
  {
   "cell_type": "code",
   "execution_count": null,
   "metadata": {},
   "outputs": [],
   "source": [
    "titanic.join(family_names.reset_index().set_index(\"Name\")[\"PassengerId\"],\n",
    "             on=\"Name\", how=\"inner\", rsuffix=\"_Spouse\")"
   ]
  },
  {
   "cell_type": "markdown",
   "metadata": {},
   "source": [
    "Note, that `PassengerId` **column** was not renamed!"
   ]
  },
  {
   "cell_type": "code",
   "execution_count": null,
   "metadata": {
    "ExecuteTime": {
     "end_time": "2019-11-29T09:25:38.129076Z",
     "start_time": "2019-11-29T09:25:38.110207Z"
    }
   },
   "outputs": [],
   "source": [
    "couples = (titanic.join(family_names\n",
    "                        .reset_index()\n",
    "                        .set_index(\"Name\")[\"PassengerId\"],\n",
    "                        on=\"Name\", how=\"inner\", rsuffix=\"_Spouse\"))"
   ]
  },
  {
   "cell_type": "code",
   "execution_count": null,
   "metadata": {
    "ExecuteTime": {
     "end_time": "2019-11-29T09:25:40.982780Z",
     "start_time": "2019-11-29T09:25:40.940677Z"
    }
   },
   "outputs": [],
   "source": [
    "couples"
   ]
  },
  {
   "cell_type": "code",
   "execution_count": null,
   "metadata": {
    "ExecuteTime": {
     "end_time": "2019-11-29T09:27:47.417828Z",
     "start_time": "2019-11-29T09:27:47.387456Z"
    }
   },
   "outputs": [],
   "source": [
    "couples.rename({\"PassengerId\":\"PassengerId_Spouse\"},\n",
    "               axis=1, inplace=True)"
   ]
  },
  {
   "cell_type": "code",
   "execution_count": null,
   "metadata": {
    "ExecuteTime": {
     "end_time": "2019-11-29T09:27:53.897957Z",
     "start_time": "2019-11-29T09:27:53.867239Z"
    }
   },
   "outputs": [],
   "source": [
    "couples.head()"
   ]
  },
  {
   "cell_type": "code",
   "execution_count": null,
   "metadata": {
    "ExecuteTime": {
     "end_time": "2019-11-29T09:33:02.350426Z",
     "start_time": "2019-11-29T09:33:02.331439Z"
    }
   },
   "outputs": [],
   "source": [
    "couples = couples.join(titanic[[\"Name\", \"Age\"]],\n",
    "                       on=\"PassengerId_Spouse\", rsuffix=\"_Spouse\")"
   ]
  },
  {
   "cell_type": "code",
   "execution_count": null,
   "metadata": {
    "ExecuteTime": {
     "end_time": "2019-11-29T09:33:04.049800Z",
     "start_time": "2019-11-29T09:33:03.964400Z"
    }
   },
   "outputs": [],
   "source": [
    "couples"
   ]
  },
  {
   "cell_type": "code",
   "execution_count": null,
   "metadata": {},
   "outputs": [],
   "source": [
    "titanic.Pclass.value_counts()"
   ]
  },
  {
   "cell_type": "code",
   "execution_count": null,
   "metadata": {},
   "outputs": [],
   "source": [
    "couples.Pclass.value_counts()"
   ]
  },
  {
   "cell_type": "code",
   "execution_count": null,
   "metadata": {},
   "outputs": [],
   "source": [
    "couples.Sex.value_counts()"
   ]
  },
  {
   "cell_type": "code",
   "execution_count": null,
   "metadata": {
    "ExecuteTime": {
     "end_time": "2019-11-29T09:42:25.274993Z",
     "start_time": "2019-11-29T09:42:25.236617Z"
    }
   },
   "outputs": [],
   "source": [
    "(couples.Age - couples.Age_Spouse).groupby(couples.Pclass).agg([\"min\", \"max\", \"mean\", \"median\", \"std\", \"count\", \"size\"])"
   ]
  },
  {
   "cell_type": "code",
   "execution_count": null,
   "metadata": {},
   "outputs": [],
   "source": [
    "couples[(couples.Age - couples.Age_Spouse)<0][[\"PassengerId_Spouse\", \"Name\", \"Age\", \"Name_Spouse\", \"Age_Spouse\"]]"
   ]
  },
  {
   "cell_type": "code",
   "execution_count": null,
   "metadata": {
    "ExecuteTime": {
     "end_time": "2019-11-29T09:45:06.092796Z",
     "start_time": "2019-11-29T09:45:06.082132Z"
    }
   },
   "outputs": [],
   "source": [
    "titanic.loc[742]"
   ]
  },
  {
   "cell_type": "code",
   "execution_count": null,
   "metadata": {},
   "outputs": [],
   "source": [
    "titanic.loc[988]"
   ]
  },
  {
   "cell_type": "markdown",
   "metadata": {},
   "source": [
    "Although it's only heuristics, and we may need to dig deeper (e.g., to find some uncommon naming patterns), this is already something. Think on which features you may add to quantify a passenger (say, `is wife/husband on board?`, which may complement `SibSp`).\n",
    "\n",
    "Think on how you may find entire **families**, and which features you may extract by knowing those. EDA is about your data driven creativity, so - play with it.\n",
    "\n",
    "P. S. **not a single loop** above."
   ]
  },
  {
   "cell_type": "markdown",
   "metadata": {},
   "source": [
    "### Intermezzo: on self-joins"
   ]
  },
  {
   "cell_type": "code",
   "execution_count": null,
   "metadata": {},
   "outputs": [],
   "source": [
    "cabin_counts = titanic.Cabin.value_counts()\n",
    "cabin_counts[cabin_counts>1]"
   ]
  },
  {
   "cell_type": "code",
   "execution_count": null,
   "metadata": {},
   "outputs": [],
   "source": [
    "cabin_counts = cabin_counts[cabin_counts>1]"
   ]
  },
  {
   "cell_type": "code",
   "execution_count": null,
   "metadata": {},
   "outputs": [],
   "source": [
    "titanic.loc[titanic.Cabin.isin(cabin_counts.index), [\"Name\", \"Cabin\"]]#.merge(titanic, on=\"Cabin\", how=\"inner\")"
   ]
  },
  {
   "cell_type": "code",
   "execution_count": null,
   "metadata": {},
   "outputs": [],
   "source": [
    "cabins = (titanic\n",
    "          .loc[titanic.Cabin.isin(cabin_counts.index),\n",
    "               [\"Name\", \"Cabin\"]]\n",
    "          .reset_index())"
   ]
  },
  {
   "cell_type": "code",
   "execution_count": null,
   "metadata": {},
   "outputs": [],
   "source": [
    "cabins.merge(cabins, on=\"Cabin\", suffixes=(\"_first\", \"_second\"))"
   ]
  },
  {
   "cell_type": "code",
   "execution_count": null,
   "metadata": {},
   "outputs": [],
   "source": [
    "companions = cabins.merge(cabins, on=\"Cabin\", suffixes=(\"_first\", \"_second\"))\n",
    "companions = companions[companions.PassengerId_first != companions.PassengerId_second]"
   ]
  },
  {
   "cell_type": "code",
   "execution_count": null,
   "metadata": {},
   "outputs": [],
   "source": [
    "companions"
   ]
  },
  {
   "cell_type": "markdown",
   "metadata": {},
   "source": [
    "We can now clean this up and get another interesting source of information (`travelling with a family member in the same cabin?`, etc.)."
   ]
  },
  {
   "cell_type": "code",
   "execution_count": null,
   "metadata": {},
   "outputs": [],
   "source": []
  }
 ],
 "metadata": {
  "@webio": {
   "lastCommId": null,
   "lastKernelId": null
  },
  "kernelspec": {
   "display_name": "Python 3",
   "language": "python",
   "name": "python3"
  },
  "language_info": {
   "codemirror_mode": {
    "name": "ipython",
    "version": 3
   },
   "file_extension": ".py",
   "mimetype": "text/x-python",
   "name": "python",
   "nbconvert_exporter": "python",
   "pygments_lexer": "ipython3",
   "version": "3.8.12"
  }
 },
 "nbformat": 4,
 "nbformat_minor": 2
}
