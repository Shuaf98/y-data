{
 "cells": [
  {
   "cell_type": "markdown",
   "metadata": {},
   "source": [
    "# Efficient NumPy"
   ]
  },
  {
   "cell_type": "code",
   "execution_count": 7,
   "metadata": {},
   "outputs": [],
   "source": [
    "import numpy as np"
   ]
  },
  {
   "cell_type": "markdown",
   "metadata": {},
   "source": [
    "## Best practices"
   ]
  },
  {
   "cell_type": "markdown",
   "metadata": {},
   "source": [
    "### Avoid loops\n",
    "\n",
    "Python loops are costly, and were never designed to be efficient. It is significantly more efficient to use Numpy (or Pytorch) vectorized operations"
   ]
  },
  {
   "cell_type": "code",
   "execution_count": 8,
   "metadata": {
    "ExecuteTime": {
     "end_time": "2019-11-08T09:14:38.253302Z",
     "start_time": "2019-11-08T09:14:38.246094Z"
    }
   },
   "outputs": [],
   "source": [
    "def square_loop(a):\n",
    "    \"\"\"Calculate square of an array in loop. We assume 1D array here.\"\"\"\n",
    "\n",
    "    result = np.zeros_like(a)\n",
    "    for i in range(a.shape[0]):\n",
    "        result[i] = a[i]*a[i]\n",
    "    return result\n",
    "    #Here, we are iterating inside the array itself, which will be inneficient"
   ]
  },
  {
   "cell_type": "code",
   "execution_count": 9,
   "metadata": {
    "ExecuteTime": {
     "end_time": "2019-11-08T09:14:46.244993Z",
     "start_time": "2019-11-08T09:14:46.238688Z"
    }
   },
   "outputs": [],
   "source": [
    "large_arr = np.random.randint(100, size=(100000,))"
   ]
  },
  {
   "cell_type": "code",
   "execution_count": 10,
   "metadata": {
    "ExecuteTime": {
     "end_time": "2019-11-08T09:14:49.702244Z",
     "start_time": "2019-11-08T09:14:48.573051Z"
    }
   },
   "outputs": [
    {
     "name": "stdout",
     "output_type": "stream",
     "text": [
      "59.9 ms ± 7.51 ms per loop (mean ± std. dev. of 3 runs, 10 loops each)\n"
     ]
    }
   ],
   "source": [
    "%timeit -n 10 -r 3 square_loop(large_arr)"
   ]
  },
  {
   "cell_type": "code",
   "execution_count": 11,
   "metadata": {
    "ExecuteTime": {
     "end_time": "2019-11-08T09:15:07.042691Z",
     "start_time": "2019-11-08T09:15:07.031728Z"
    }
   },
   "outputs": [
    {
     "name": "stdout",
     "output_type": "stream",
     "text": [
      "119 µs ± 31.4 µs per loop (mean ± std. dev. of 3 runs, 10 loops each)\n"
     ]
    }
   ],
   "source": [
    "%timeit -n 10 -r 3 np.square(large_arr)"
   ]
  },
  {
   "cell_type": "markdown",
   "metadata": {},
   "source": [
    "We see that the np.square is almost three times as fast in just a small amount of usages, rather than loops"
   ]
  },
  {
   "cell_type": "markdown",
   "metadata": {},
   "source": [
    "### Use broadcasting"
   ]
  },
  {
   "cell_type": "markdown",
   "metadata": {},
   "source": [
    "Broadcasting mechanism provides an extremely efficient way of handling operations on arrays of different dimensionality. And it's always way more readable and concise. For example, to add `1D` array `b` to `2D` array `a` row-wise with a loop:"
   ]
  },
  {
   "cell_type": "code",
   "execution_count": 12,
   "metadata": {
    "ExecuteTime": {
     "end_time": "2019-11-08T09:17:21.664217Z",
     "start_time": "2019-11-08T09:17:21.657957Z"
    }
   },
   "outputs": [],
   "source": [
    "def row_loop(a, b): #a is 2-d, b is 1-d\n",
    "    \"\"\"Add a vector to a matrix directly.\"\"\"\n",
    "\n",
    "    result = np.zeros_like(a)\n",
    "    for i in range(a.shape[0]):\n",
    "        result[i] = a[i] + b\n",
    "    return result"
   ]
  },
  {
   "cell_type": "code",
   "execution_count": 13,
   "metadata": {
    "ExecuteTime": {
     "end_time": "2019-11-08T09:17:23.209849Z",
     "start_time": "2019-11-08T09:17:23.192733Z"
    }
   },
   "outputs": [],
   "source": [
    "large_arr = np.random.randint(100, size=(1000,1000))\n",
    "large_b = np.random.randint(100, size=(1000,))"
   ]
  },
  {
   "cell_type": "code",
   "execution_count": 14,
   "metadata": {
    "ExecuteTime": {
     "end_time": "2019-11-08T09:18:23.440760Z",
     "start_time": "2019-11-08T09:18:23.304858Z"
    }
   },
   "outputs": [
    {
     "name": "stdout",
     "output_type": "stream",
     "text": [
      "9.37 ms ± 1.8 ms per loop (mean ± std. dev. of 3 runs, 10 loops each)\n"
     ]
    }
   ],
   "source": [
    "%timeit -n 10 -r 3 row_loop(large_arr, large_b)"
   ]
  },
  {
   "cell_type": "markdown",
   "metadata": {},
   "source": [
    "Broadcasting is about `2X` faster:"
   ]
  },
  {
   "cell_type": "code",
   "execution_count": 15,
   "metadata": {
    "ExecuteTime": {
     "end_time": "2019-11-08T09:18:23.628230Z",
     "start_time": "2019-11-08T09:18:23.544894Z"
    }
   },
   "outputs": [
    {
     "name": "stdout",
     "output_type": "stream",
     "text": [
      "3.88 ms ± 846 µs per loop (mean ± std. dev. of 3 runs, 10 loops each)\n"
     ]
    }
   ],
   "source": [
    "%timeit -n 10 -r 3 large_arr + large_b"
   ]
  },
  {
   "cell_type": "markdown",
   "metadata": {},
   "source": [
    "In-place addition with broadcasting is even faster:"
   ]
  },
  {
   "cell_type": "code",
   "execution_count": null,
   "metadata": {
    "ExecuteTime": {
     "end_time": "2019-11-08T09:18:23.772859Z",
     "start_time": "2019-11-08T09:18:23.718269Z"
    }
   },
   "outputs": [],
   "source": [
    "%timeit -n 10 -r 3 np.add(large_arr, large_b, out=large_arr) #As there is no new allocated memory, it is faster"
   ]
  },
  {
   "cell_type": "markdown",
   "metadata": {},
   "source": [
    "Btw, broadcasting allows for creating fancy structures in just a single line (you may leverage this in one of the problems in Homework #2):"
   ]
  },
  {
   "cell_type": "code",
   "execution_count": 19,
   "metadata": {},
   "outputs": [
    {
     "data": {
      "text/plain": [
       "array([[ 0,  1,  2,  3,  4,  5,  6,  7,  8,  9],\n",
       "       [ 1,  2,  3,  4,  5,  6,  7,  8,  9, 10],\n",
       "       [ 2,  3,  4,  5,  6,  7,  8,  9, 10, 11],\n",
       "       [ 3,  4,  5,  6,  7,  8,  9, 10, 11, 12],\n",
       "       [ 4,  5,  6,  7,  8,  9, 10, 11, 12, 13],\n",
       "       [ 5,  6,  7,  8,  9, 10, 11, 12, 13, 14],\n",
       "       [ 6,  7,  8,  9, 10, 11, 12, 13, 14, 15],\n",
       "       [ 7,  8,  9, 10, 11, 12, 13, 14, 15, 16],\n",
       "       [ 8,  9, 10, 11, 12, 13, 14, 15, 16, 17],\n",
       "       [ 9, 10, 11, 12, 13, 14, 15, 16, 17, 18]])"
      ]
     },
     "execution_count": 19,
     "metadata": {},
     "output_type": "execute_result"
    }
   ],
   "source": [
    "np.arange(10) + np.arange(10)[:, np.newaxis] # (10,) + (10,1) -> (1,10) + (10,1)"
   ]
  },
  {
   "cell_type": "code",
   "execution_count": null,
   "metadata": {
    "ExecuteTime": {
     "end_time": "2019-11-08T09:20:01.310076Z",
     "start_time": "2019-11-08T09:20:01.303690Z"
    }
   },
   "outputs": [],
   "source": [
    "np.arange(10) + np.expand_dims(np.arange(10), axis=-1) #This is the same as above, above is more clear though"
   ]
  },
  {
   "cell_type": "markdown",
   "metadata": {},
   "source": [
    "### Beware!"
   ]
  },
  {
   "cell_type": "markdown",
   "metadata": {},
   "source": [
    "In-place operations are prone to bugs due to incorrect shape of the result container:"
   ]
  },
  {
   "cell_type": "code",
   "execution_count": 20,
   "metadata": {
    "ExecuteTime": {
     "end_time": "2019-11-08T09:20:44.256572Z",
     "start_time": "2019-11-08T09:20:44.251295Z"
    }
   },
   "outputs": [],
   "source": [
    "A = np.random.randint(10, size=(10,10)) #2-D\n",
    "B = np.random.randint(10, size=(10,)) #1-D"
   ]
  },
  {
   "cell_type": "code",
   "execution_count": 21,
   "metadata": {
    "ExecuteTime": {
     "end_time": "2019-11-08T09:20:47.959609Z",
     "start_time": "2019-11-08T09:20:47.954308Z"
    }
   },
   "outputs": [
    {
     "data": {
      "text/plain": [
       "array([[7, 8, 3, 2, 1, 8, 3, 6, 9, 0],\n",
       "       [8, 2, 1, 2, 5, 5, 5, 6, 0, 6],\n",
       "       [8, 0, 4, 8, 1, 3, 3, 6, 6, 7],\n",
       "       [3, 0, 6, 7, 2, 4, 3, 5, 6, 9],\n",
       "       [8, 7, 3, 4, 1, 7, 1, 5, 6, 5],\n",
       "       [1, 8, 3, 1, 6, 3, 2, 0, 8, 8],\n",
       "       [5, 7, 9, 6, 1, 9, 4, 4, 4, 2],\n",
       "       [8, 6, 0, 7, 3, 9, 3, 7, 4, 7],\n",
       "       [7, 6, 8, 8, 1, 5, 8, 7, 3, 9],\n",
       "       [9, 4, 6, 7, 3, 7, 4, 8, 2, 1]])"
      ]
     },
     "execution_count": 21,
     "metadata": {},
     "output_type": "execute_result"
    }
   ],
   "source": [
    "A"
   ]
  },
  {
   "cell_type": "code",
   "execution_count": 22,
   "metadata": {
    "ExecuteTime": {
     "end_time": "2019-11-08T09:21:05.665770Z",
     "start_time": "2019-11-08T09:21:05.659564Z"
    }
   },
   "outputs": [
    {
     "data": {
      "text/plain": [
       "array([8, 2, 0, 5, 7, 7, 0, 6, 4, 9])"
      ]
     },
     "execution_count": 22,
     "metadata": {},
     "output_type": "execute_result"
    }
   ],
   "source": [
    "B"
   ]
  },
  {
   "cell_type": "code",
   "execution_count": 23,
   "metadata": {
    "ExecuteTime": {
     "end_time": "2019-11-08T09:21:07.225503Z",
     "start_time": "2019-11-08T09:21:07.219462Z"
    }
   },
   "outputs": [
    {
     "data": {
      "text/plain": [
       "array([[15, 10,  3,  7,  8, 15,  3, 12, 13,  9],\n",
       "       [16,  4,  1,  7, 12, 12,  5, 12,  4, 15],\n",
       "       [16,  2,  4, 13,  8, 10,  3, 12, 10, 16],\n",
       "       [11,  2,  6, 12,  9, 11,  3, 11, 10, 18],\n",
       "       [16,  9,  3,  9,  8, 14,  1, 11, 10, 14],\n",
       "       [ 9, 10,  3,  6, 13, 10,  2,  6, 12, 17],\n",
       "       [13,  9,  9, 11,  8, 16,  4, 10,  8, 11],\n",
       "       [16,  8,  0, 12, 10, 16,  3, 13,  8, 16],\n",
       "       [15,  8,  8, 13,  8, 12,  8, 13,  7, 18],\n",
       "       [17,  6,  6, 12, 10, 14,  4, 14,  6, 10]])"
      ]
     },
     "execution_count": 23,
     "metadata": {},
     "output_type": "execute_result"
    }
   ],
   "source": [
    "A+B"
   ]
  },
  {
   "cell_type": "code",
   "execution_count": 24,
   "metadata": {
    "ExecuteTime": {
     "end_time": "2019-11-08T09:21:10.362947Z",
     "start_time": "2019-11-08T09:21:10.355975Z"
    }
   },
   "outputs": [
    {
     "data": {
      "text/plain": [
       "array([[15, 10,  3,  7,  8, 15,  3, 12, 13,  9],\n",
       "       [16,  4,  1,  7, 12, 12,  5, 12,  4, 15],\n",
       "       [16,  2,  4, 13,  8, 10,  3, 12, 10, 16],\n",
       "       [11,  2,  6, 12,  9, 11,  3, 11, 10, 18],\n",
       "       [16,  9,  3,  9,  8, 14,  1, 11, 10, 14],\n",
       "       [ 9, 10,  3,  6, 13, 10,  2,  6, 12, 17],\n",
       "       [13,  9,  9, 11,  8, 16,  4, 10,  8, 11],\n",
       "       [16,  8,  0, 12, 10, 16,  3, 13,  8, 16],\n",
       "       [15,  8,  8, 13,  8, 12,  8, 13,  7, 18],\n",
       "       [17,  6,  6, 12, 10, 14,  4, 14,  6, 10]])"
      ]
     },
     "execution_count": 24,
     "metadata": {},
     "output_type": "execute_result"
    }
   ],
   "source": [
    "np.add(A, B)"
   ]
  },
  {
   "cell_type": "markdown",
   "metadata": {},
   "source": [
    "This one will work:"
   ]
  },
  {
   "cell_type": "code",
   "execution_count": 25,
   "metadata": {
    "ExecuteTime": {
     "end_time": "2019-11-08T09:21:12.721279Z",
     "start_time": "2019-11-08T09:21:12.713656Z"
    }
   },
   "outputs": [
    {
     "data": {
      "text/plain": [
       "array([[56, 16,  0, 10,  7, 56,  0, 36, 36,  0],\n",
       "       [64,  4,  0, 10, 35, 35,  0, 36,  0, 54],\n",
       "       [64,  0,  0, 40,  7, 21,  0, 36, 24, 63],\n",
       "       [24,  0,  0, 35, 14, 28,  0, 30, 24, 81],\n",
       "       [64, 14,  0, 20,  7, 49,  0, 30, 24, 45],\n",
       "       [ 8, 16,  0,  5, 42, 21,  0,  0, 32, 72],\n",
       "       [40, 14,  0, 30,  7, 63,  0, 24, 16, 18],\n",
       "       [64, 12,  0, 35, 21, 63,  0, 42, 16, 63],\n",
       "       [56, 12,  0, 40,  7, 35,  0, 42, 12, 81],\n",
       "       [72,  8,  0, 35, 21, 49,  0, 48,  8,  9]])"
      ]
     },
     "execution_count": 25,
     "metadata": {},
     "output_type": "execute_result"
    }
   ],
   "source": [
    "np.multiply(A, B, out=A) #The result is still two dimensional, therefoe it will work"
   ]
  },
  {
   "cell_type": "markdown",
   "metadata": {},
   "source": [
    "This one will not (although broadcasting mechanics is ok for addition):"
   ]
  },
  {
   "cell_type": "code",
   "execution_count": 26,
   "metadata": {
    "ExecuteTime": {
     "end_time": "2019-11-08T09:21:18.555541Z",
     "start_time": "2019-11-08T09:21:18.544047Z"
    }
   },
   "outputs": [
    {
     "ename": "ValueError",
     "evalue": "non-broadcastable output operand with shape (10,) doesn't match the broadcast shape (10,10)",
     "output_type": "error",
     "traceback": [
      "\u001b[1;31m---------------------------------------------------------------------------\u001b[0m",
      "\u001b[1;31mValueError\u001b[0m                                Traceback (most recent call last)",
      "\u001b[1;32m~\\AppData\\Local\\Temp/ipykernel_2596/3493117948.py\u001b[0m in \u001b[0;36m<module>\u001b[1;34m\u001b[0m\n\u001b[1;32m----> 1\u001b[1;33m \u001b[0mnp\u001b[0m\u001b[1;33m.\u001b[0m\u001b[0madd\u001b[0m\u001b[1;33m(\u001b[0m\u001b[0mA\u001b[0m\u001b[1;33m,\u001b[0m \u001b[0mB\u001b[0m\u001b[1;33m,\u001b[0m \u001b[0mout\u001b[0m\u001b[1;33m=\u001b[0m\u001b[0mB\u001b[0m\u001b[1;33m)\u001b[0m\u001b[1;33m\u001b[0m\u001b[1;33m\u001b[0m\u001b[0m\n\u001b[0m",
      "\u001b[1;31mValueError\u001b[0m: non-broadcastable output operand with shape (10,) doesn't match the broadcast shape (10,10)"
     ]
    }
   ],
   "source": [
    "np.add(A, B, out=B) #Here, B is smaller than the result of the operation, therefore the inplace will not work"
   ]
  },
  {
   "cell_type": "code",
   "execution_count": null,
   "metadata": {},
   "outputs": [],
   "source": []
  }
 ],
 "metadata": {
  "@webio": {
   "lastCommId": null,
   "lastKernelId": null
  },
  "interpreter": {
   "hash": "b162208df198174479ad95a41e45bdbc61ac18b751563f663467e26bbab6bd1e"
  },
  "kernelspec": {
   "display_name": "Python 3.7.10 64-bit ('py4dp': conda)",
   "name": "python3"
  },
  "language_info": {
   "codemirror_mode": {
    "name": "ipython",
    "version": 3
   },
   "file_extension": ".py",
   "mimetype": "text/x-python",
   "name": "python",
   "nbconvert_exporter": "python",
   "pygments_lexer": "ipython3",
   "version": "3.7.10"
  }
 },
 "nbformat": 4,
 "nbformat_minor": 2
}
