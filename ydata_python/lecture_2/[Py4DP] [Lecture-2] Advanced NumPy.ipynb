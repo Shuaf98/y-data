{
 "cells": [
  {
   "cell_type": "markdown",
   "metadata": {},
   "source": [
    "# Advanced NumPy"
   ]
  },
  {
   "cell_type": "markdown",
   "metadata": {},
   "source": [
    "## `numpy` internals\n",
    "\n",
    "Under the hood, python is not python, rather C. Numpy array just stores a pointer, towards data (char *data).\n",
    "1) numpy stores data flatly, and one dimensional.\n",
    "2) it has an indexing sheme on top of that.\n",
    "3) It also knows how to step through the memory to get values."
   ]
  },
  {
   "cell_type": "code",
   "execution_count": 1,
   "metadata": {
    "ExecuteTime": {
     "end_time": "2019-11-08T07:43:21.269721Z",
     "start_time": "2019-11-08T07:43:21.150417Z"
    }
   },
   "outputs": [],
   "source": [
    "import numpy as np\n",
    "np.random.seed(2374)"
   ]
  },
  {
   "cell_type": "code",
   "execution_count": 11,
   "metadata": {
    "ExecuteTime": {
     "end_time": "2019-11-08T07:43:26.607556Z",
     "start_time": "2019-11-08T07:43:26.604206Z"
    }
   },
   "outputs": [],
   "source": [
    "arr = np.random.randint(10, size=(8,8), dtype= np.int64)"
   ]
  },
  {
   "cell_type": "code",
   "execution_count": 12,
   "metadata": {},
   "outputs": [
    {
     "data": {
      "text/plain": [
       "array([[3, 5, 1, 7, 6, 4, 0, 9],\n",
       "       [6, 8, 0, 1, 2, 6, 1, 7],\n",
       "       [9, 8, 9, 3, 9, 9, 4, 1],\n",
       "       [2, 0, 6, 0, 1, 7, 2, 7],\n",
       "       [3, 4, 7, 0, 9, 0, 6, 6],\n",
       "       [0, 9, 7, 0, 3, 8, 7, 8],\n",
       "       [5, 6, 8, 8, 4, 4, 1, 6],\n",
       "       [8, 2, 8, 8, 8, 2, 6, 3]], dtype=int64)"
      ]
     },
     "execution_count": 12,
     "metadata": {},
     "output_type": "execute_result"
    }
   ],
   "source": [
    "arr"
   ]
  },
  {
   "cell_type": "markdown",
   "metadata": {},
   "source": [
    "Information about array elements:"
   ]
  },
  {
   "cell_type": "code",
   "execution_count": 13,
   "metadata": {
    "ExecuteTime": {
     "end_time": "2019-11-08T07:43:27.589505Z",
     "start_time": "2019-11-08T07:43:27.577195Z"
    }
   },
   "outputs": [
    {
     "data": {
      "text/plain": [
       "(8, dtype('int64'))"
      ]
     },
     "execution_count": 13,
     "metadata": {},
     "output_type": "execute_result"
    }
   ],
   "source": [
    "arr.itemsize, arr.dtype"
   ]
  },
  {
   "cell_type": "markdown",
   "metadata": {},
   "source": [
    "How to step through array memory? Using `strides` property:"
   ]
  },
  {
   "cell_type": "code",
   "execution_count": 15,
   "metadata": {
    "ExecuteTime": {
     "end_time": "2019-11-08T07:46:40.225501Z",
     "start_time": "2019-11-08T07:46:40.219526Z"
    }
   },
   "outputs": [
    {
     "data": {
      "text/plain": [
       "(64, 8)"
      ]
     },
     "execution_count": 15,
     "metadata": {},
     "output_type": "execute_result"
    }
   ],
   "source": [
    "arr.strides #in int64, each element is 8 bytes. So, to get from arr[0,0] to arr[1,0], we need to skip through all elements in the first row.\n",
    "                #8 elements in the first row, all size 8, 8*8 = 64.\n",
    "            #To move one over in axis =1, we just need to move 8 bytes (arr[0,0] to arr[0,1])"
   ]
  },
  {
   "cell_type": "markdown",
   "metadata": {},
   "source": [
    "I. e. `arr[0, 1]` is 8 bytes away from `arr[0, 0]` (one step along axis `1`), while `arr[1, 0]` is 64 bytes away from `arr[0, 0]` (one step along axis `0`)."
   ]
  },
  {
   "cell_type": "code",
   "execution_count": 86,
   "metadata": {
    "ExecuteTime": {
     "end_time": "2019-11-08T07:47:44.624050Z",
     "start_time": "2019-11-08T07:47:44.615307Z"
    }
   },
   "outputs": [
    {
     "data": {
      "text/plain": [
       "True"
      ]
     },
     "execution_count": 86,
     "metadata": {},
     "output_type": "execute_result"
    }
   ],
   "source": [
    "arr.strides[0] == arr.shape[1] * arr.itemsize #elements in the row, times bytes per element."
   ]
  },
  {
   "cell_type": "markdown",
   "metadata": {},
   "source": [
    "But what about views?"
   ]
  },
  {
   "cell_type": "code",
   "execution_count": 20,
   "metadata": {
    "ExecuteTime": {
     "end_time": "2019-11-08T07:47:58.827402Z",
     "start_time": "2019-11-08T07:47:58.823218Z"
    }
   },
   "outputs": [],
   "source": [
    "arr_view = arr[::2, 1:] #we take a slice of our original array, which is just a view"
   ]
  },
  {
   "cell_type": "code",
   "execution_count": 21,
   "metadata": {
    "ExecuteTime": {
     "end_time": "2019-11-08T07:48:33.438646Z",
     "start_time": "2019-11-08T07:48:33.433273Z"
    }
   },
   "outputs": [
    {
     "data": {
      "text/plain": [
       "array([[3, 5, 1, 7, 6, 4, 0, 9],\n",
       "       [6, 8, 0, 1, 2, 6, 1, 7],\n",
       "       [9, 8, 9, 3, 9, 9, 4, 1],\n",
       "       [2, 0, 6, 0, 1, 7, 2, 7],\n",
       "       [3, 4, 7, 0, 9, 0, 6, 6],\n",
       "       [0, 9, 7, 0, 3, 8, 7, 8],\n",
       "       [5, 6, 8, 8, 4, 4, 1, 6],\n",
       "       [8, 2, 8, 8, 8, 2, 6, 3]], dtype=int64)"
      ]
     },
     "execution_count": 21,
     "metadata": {},
     "output_type": "execute_result"
    }
   ],
   "source": [
    "arr"
   ]
  },
  {
   "cell_type": "code",
   "execution_count": 22,
   "metadata": {
    "ExecuteTime": {
     "end_time": "2019-11-08T07:48:33.628354Z",
     "start_time": "2019-11-08T07:48:33.619586Z"
    }
   },
   "outputs": [
    {
     "data": {
      "text/plain": [
       "array([[5, 1, 7, 6, 4, 0, 9],\n",
       "       [8, 9, 3, 9, 9, 4, 1],\n",
       "       [4, 7, 0, 9, 0, 6, 6],\n",
       "       [6, 8, 8, 4, 4, 1, 6]], dtype=int64)"
      ]
     },
     "execution_count": 22,
     "metadata": {},
     "output_type": "execute_result"
    }
   ],
   "source": [
    "arr_view"
   ]
  },
  {
   "cell_type": "markdown",
   "metadata": {},
   "source": [
    "Information about underlying array structure:"
   ]
  },
  {
   "cell_type": "code",
   "execution_count": 90,
   "metadata": {
    "ExecuteTime": {
     "end_time": "2019-11-08T07:49:17.792495Z",
     "start_time": "2019-11-08T07:49:17.785059Z"
    }
   },
   "outputs": [
    {
     "data": {
      "text/plain": [
       "  C_CONTIGUOUS : True\n",
       "  F_CONTIGUOUS : False\n",
       "  OWNDATA : True\n",
       "  WRITEABLE : True\n",
       "  ALIGNED : True\n",
       "  WRITEBACKIFCOPY : False\n",
       "  UPDATEIFCOPY : False"
      ]
     },
     "execution_count": 90,
     "metadata": {},
     "output_type": "execute_result"
    }
   ],
   "source": [
    "arr.flags"
   ]
  },
  {
   "cell_type": "code",
   "execution_count": 91,
   "metadata": {
    "ExecuteTime": {
     "end_time": "2019-11-08T07:49:17.948314Z",
     "start_time": "2019-11-08T07:49:17.937687Z"
    }
   },
   "outputs": [
    {
     "data": {
      "text/plain": [
       "  C_CONTIGUOUS : False\n",
       "  F_CONTIGUOUS : False\n",
       "  OWNDATA : False\n",
       "  WRITEABLE : True\n",
       "  ALIGNED : True\n",
       "  WRITEBACKIFCOPY : False\n",
       "  UPDATEIFCOPY : False"
      ]
     },
     "execution_count": 91,
     "metadata": {},
     "output_type": "execute_result"
    }
   ],
   "source": [
    "arr_view.flags\n",
    "#c_contiguos means that each next element is stored after the previous one. In arr_view, this is false, because there are gaps we created b/w rows.\n",
    "#f_contiguos...\n",
    "#OWNDATA tells us if this is the original source. This is False for the arr_view. \n"
   ]
  },
  {
   "cell_type": "markdown",
   "metadata": {},
   "source": [
    "Views always have base array:"
   ]
  },
  {
   "cell_type": "code",
   "execution_count": 23,
   "metadata": {},
   "outputs": [
    {
     "data": {
      "text/plain": [
       "array([[3, 5, 1, 7, 6, 4, 0, 9],\n",
       "       [6, 8, 0, 1, 2, 6, 1, 7],\n",
       "       [9, 8, 9, 3, 9, 9, 4, 1],\n",
       "       [2, 0, 6, 0, 1, 7, 2, 7],\n",
       "       [3, 4, 7, 0, 9, 0, 6, 6],\n",
       "       [0, 9, 7, 0, 3, 8, 7, 8],\n",
       "       [5, 6, 8, 8, 4, 4, 1, 6],\n",
       "       [8, 2, 8, 8, 8, 2, 6, 3]], dtype=int64)"
      ]
     },
     "execution_count": 23,
     "metadata": {},
     "output_type": "execute_result"
    }
   ],
   "source": [
    "arr_view.base"
   ]
  },
  {
   "cell_type": "code",
   "execution_count": 24,
   "metadata": {},
   "outputs": [],
   "source": [
    "arr.base #No base, because this array is the base"
   ]
  },
  {
   "cell_type": "code",
   "execution_count": 25,
   "metadata": {
    "ExecuteTime": {
     "end_time": "2019-11-08T07:50:02.971162Z",
     "start_time": "2019-11-08T07:50:02.966256Z"
    }
   },
   "outputs": [
    {
     "data": {
      "text/plain": [
       "True"
      ]
     },
     "execution_count": 25,
     "metadata": {},
     "output_type": "execute_result"
    }
   ],
   "source": [
    "arr_view.base is arr"
   ]
  },
  {
   "cell_type": "markdown",
   "metadata": {},
   "source": [
    "`strides` are provided with respect to the **underlying data** (which is the same between original array `arr` and view array `arr_view`!):"
   ]
  },
  {
   "cell_type": "code",
   "execution_count": 26,
   "metadata": {
    "ExecuteTime": {
     "end_time": "2019-11-08T07:50:20.574935Z",
     "start_time": "2019-11-08T07:50:20.570039Z"
    }
   },
   "outputs": [
    {
     "data": {
      "text/plain": [
       "(128, 8)"
      ]
     },
     "execution_count": 26,
     "metadata": {},
     "output_type": "execute_result"
    }
   ],
   "source": [
    "arr_view.strides\n",
    "#We see that the strides are now different, and doubles, as the view skips every other row."
   ]
  },
  {
   "cell_type": "code",
   "execution_count": 27,
   "metadata": {
    "ExecuteTime": {
     "end_time": "2019-11-08T07:53:03.479686Z",
     "start_time": "2019-11-08T07:53:03.474788Z"
    }
   },
   "outputs": [
    {
     "data": {
      "text/plain": [
       "(4, 7)"
      ]
     },
     "execution_count": 27,
     "metadata": {},
     "output_type": "execute_result"
    }
   ],
   "source": [
    "arr_view.shape"
   ]
  },
  {
   "cell_type": "markdown",
   "metadata": {},
   "source": [
    "Since view is not contiguous, and we are skipping rows, this relation is not True anymore:"
   ]
  },
  {
   "cell_type": "code",
   "execution_count": 28,
   "metadata": {
    "ExecuteTime": {
     "end_time": "2019-11-08T07:53:32.300109Z",
     "start_time": "2019-11-08T07:53:32.293872Z"
    }
   },
   "outputs": [
    {
     "data": {
      "text/plain": [
       "False"
      ]
     },
     "execution_count": 28,
     "metadata": {},
     "output_type": "execute_result"
    }
   ],
   "source": [
    "arr_view.strides[0] == arr_view.shape[1] * arr_view.itemsize"
   ]
  },
  {
   "cell_type": "markdown",
   "metadata": {},
   "source": [
    "Also, view starts not from byte 0 of the data, but steps 8 bytes inside the data:"
   ]
  },
  {
   "cell_type": "code",
   "execution_count": 29,
   "metadata": {
    "ExecuteTime": {
     "end_time": "2019-11-08T07:54:34.572823Z",
     "start_time": "2019-11-08T07:54:34.565486Z"
    }
   },
   "outputs": [
    {
     "data": {
      "text/plain": [
       "8"
      ]
     },
     "execution_count": 29,
     "metadata": {},
     "output_type": "execute_result"
    }
   ],
   "source": [
    "np.byte_bounds(arr_view)[0] - np.byte_bounds(arr)[0] #byte bounds provides the address of the array (start and end)\n",
    "#This cell calculates the difference in addresses between the first element of the arr_view, and the first element of the arr. \n",
    "# We get the result 8, which we can look to see is true, as in the original array, they are just one position away from each other (and each position is 8 bytes)"
   ]
  },
  {
   "cell_type": "code",
   "execution_count": 30,
   "metadata": {},
   "outputs": [
    {
     "data": {
      "text/plain": [
       "(2131996699096, 2131996699536)"
      ]
     },
     "execution_count": 30,
     "metadata": {},
     "output_type": "execute_result"
    }
   ],
   "source": [
    "np.byte_bounds(arr_view) #provides us with thestarting and ending address of the array"
   ]
  },
  {
   "cell_type": "code",
   "execution_count": 31,
   "metadata": {
    "ExecuteTime": {
     "end_time": "2019-11-08T07:54:34.711810Z",
     "start_time": "2019-11-08T07:54:34.701086Z"
    }
   },
   "outputs": [
    {
     "data": {
      "text/plain": [
       "-64"
      ]
     },
     "execution_count": 31,
     "metadata": {},
     "output_type": "execute_result"
    }
   ],
   "source": [
    "np.byte_bounds(arr_view)[1] - np.byte_bounds(arr)[1]"
   ]
  },
  {
   "cell_type": "markdown",
   "metadata": {},
   "source": [
    "The takeaway here is that numpy arrays are one dimensional, and they \"stride\" through that single, flat junk of memory. This gets represented to us as a multi-dimensional array, but indeed it is one dimensional."
   ]
  },
  {
   "cell_type": "code",
   "execution_count": 37,
   "metadata": {
    "ExecuteTime": {
     "end_time": "2019-11-08T07:55:45.304209Z",
     "start_time": "2019-11-08T07:55:45.298991Z"
    }
   },
   "outputs": [
    {
     "data": {
      "text/plain": [
       "array([[3, 5, 1, 7, 6, 4, 0, 9],\n",
       "       [6, 8, 0, 1, 2, 6, 1, 7],\n",
       "       [9, 8, 9, 3, 9, 9, 4, 1],\n",
       "       [2, 0, 6, 0, 1, 7, 2, 7],\n",
       "       [3, 4, 7, 0, 9, 0, 6, 6],\n",
       "       [0, 9, 7, 0, 3, 8, 7, 8],\n",
       "       [5, 6, 8, 8, 4, 4, 1, 6],\n",
       "       [8, 2, 8, 8, 8, 2, 6, 3]], dtype=int64)"
      ]
     },
     "execution_count": 37,
     "metadata": {},
     "output_type": "execute_result"
    }
   ],
   "source": [
    "arr"
   ]
  },
  {
   "cell_type": "code",
   "execution_count": 38,
   "metadata": {
    "ExecuteTime": {
     "end_time": "2019-11-08T07:55:45.712355Z",
     "start_time": "2019-11-08T07:55:45.703355Z"
    }
   },
   "outputs": [
    {
     "data": {
      "text/plain": [
       "array([[5, 1, 7, 6, 4, 0, 9],\n",
       "       [8, 9, 3, 9, 9, 4, 1],\n",
       "       [4, 7, 0, 9, 0, 6, 6],\n",
       "       [6, 8, 8, 4, 4, 1, 6]], dtype=int64)"
      ]
     },
     "execution_count": 38,
     "metadata": {},
     "output_type": "execute_result"
    }
   ],
   "source": [
    "arr_view"
   ]
  },
  {
   "cell_type": "code",
   "execution_count": 39,
   "metadata": {
    "ExecuteTime": {
     "end_time": "2019-11-08T07:55:57.390036Z",
     "start_time": "2019-11-08T07:55:57.385422Z"
    }
   },
   "outputs": [
    {
     "data": {
      "text/plain": [
       "(128, 8)"
      ]
     },
     "execution_count": 39,
     "metadata": {},
     "output_type": "execute_result"
    }
   ],
   "source": [
    "arr_view.strides"
   ]
  },
  {
   "cell_type": "markdown",
   "metadata": {},
   "source": [
    "If the array in relity is one dimensional, then Transpose is just a different indeing scheme on top of it, because we just need to jump differently through the memory- but nothing else actually changes."
   ]
  },
  {
   "cell_type": "code",
   "execution_count": 34,
   "metadata": {},
   "outputs": [
    {
     "data": {
      "text/plain": [
       "array([[3, 6, 9, 2, 3, 0, 5, 8],\n",
       "       [5, 8, 8, 0, 4, 9, 6, 2],\n",
       "       [1, 0, 9, 6, 7, 7, 8, 8],\n",
       "       [7, 1, 3, 0, 0, 0, 8, 8],\n",
       "       [6, 2, 9, 1, 9, 3, 4, 8],\n",
       "       [4, 6, 9, 7, 0, 8, 4, 2],\n",
       "       [0, 1, 4, 2, 6, 7, 1, 6],\n",
       "       [9, 7, 1, 7, 6, 8, 6, 3]], dtype=int64)"
      ]
     },
     "execution_count": 34,
     "metadata": {},
     "output_type": "execute_result"
    }
   ],
   "source": [
    "arr.T"
   ]
  },
  {
   "cell_type": "code",
   "execution_count": 40,
   "metadata": {
    "ExecuteTime": {
     "end_time": "2019-11-08T07:55:59.729995Z",
     "start_time": "2019-11-08T07:55:59.723211Z"
    }
   },
   "outputs": [
    {
     "data": {
      "text/plain": [
       "(8, 64)"
      ]
     },
     "execution_count": 40,
     "metadata": {},
     "output_type": "execute_result"
    }
   ],
   "source": [
    "arr.T.strides #we see that the strides changes for a transposed array, and are exactly swapped. Since numpy is a one dimenisional structure under the hood, \n",
    "                # the position of the data itself doesn't change with a transpose, just the way in which we move around the data."
   ]
  },
  {
   "cell_type": "markdown",
   "metadata": {},
   "source": [
    "Transpose reports similar strides, is it a view?"
   ]
  },
  {
   "cell_type": "code",
   "execution_count": 41,
   "metadata": {
    "ExecuteTime": {
     "end_time": "2019-11-08T07:56:34.931024Z",
     "start_time": "2019-11-08T07:56:34.926308Z"
    }
   },
   "outputs": [
    {
     "data": {
      "text/plain": [
       "(8, 128)"
      ]
     },
     "execution_count": 41,
     "metadata": {},
     "output_type": "execute_result"
    }
   ],
   "source": [
    "arr_view.T.strides #The answer is, yes."
   ]
  },
  {
   "cell_type": "code",
   "execution_count": 42,
   "metadata": {
    "ExecuteTime": {
     "end_time": "2019-11-08T08:05:58.619813Z",
     "start_time": "2019-11-08T08:05:58.613421Z"
    }
   },
   "outputs": [
    {
     "data": {
      "text/plain": [
       "True"
      ]
     },
     "execution_count": 42,
     "metadata": {},
     "output_type": "execute_result"
    }
   ],
   "source": [
    "arr_view.T[::2, 1:].base is arr"
   ]
  },
  {
   "cell_type": "markdown",
   "metadata": {},
   "source": [
    "### Creating views manually"
   ]
  },
  {
   "cell_type": "code",
   "execution_count": 108,
   "metadata": {},
   "outputs": [
    {
     "data": {
      "text/plain": [
       "array([[5, 7, 6, 8, 2, 9, 2, 0],\n",
       "       [3, 1, 5, 8, 7, 5, 3, 1],\n",
       "       [8, 6, 9, 3, 3, 5, 1, 2],\n",
       "       [0, 7, 5, 7, 1, 2, 8, 1],\n",
       "       [4, 3, 9, 5, 2, 4, 5, 2],\n",
       "       [8, 4, 8, 7, 8, 9, 2, 2],\n",
       "       [9, 8, 7, 4, 7, 3, 8, 2],\n",
       "       [0, 3, 6, 6, 4, 0, 9, 4]], dtype=int64)"
      ]
     },
     "execution_count": 108,
     "metadata": {},
     "output_type": "execute_result"
    }
   ],
   "source": [
    "arr"
   ]
  },
  {
   "cell_type": "markdown",
   "metadata": {},
   "source": [
    "Take memory, associated with `arr` (equivelent to a pointer):"
   ]
  },
  {
   "cell_type": "code",
   "execution_count": 109,
   "metadata": {},
   "outputs": [
    {
     "data": {
      "text/plain": [
       "<memory at 0x000001A6F4CFAD40>"
      ]
     },
     "execution_count": 109,
     "metadata": {},
     "output_type": "execute_result"
    }
   ],
   "source": [
    "arr.data"
   ]
  },
  {
   "cell_type": "markdown",
   "metadata": {},
   "source": [
    "Create a new array, pointing to the same memory:"
   ]
  },
  {
   "cell_type": "code",
   "execution_count": 44,
   "metadata": {},
   "outputs": [
    {
     "data": {
      "text/plain": [
       "(8, 8)"
      ]
     },
     "execution_count": 44,
     "metadata": {},
     "output_type": "execute_result"
    }
   ],
   "source": [
    "arr.shape"
   ]
  },
  {
   "cell_type": "code",
   "execution_count": 46,
   "metadata": {},
   "outputs": [
    {
     "data": {
      "text/plain": [
       "array([[3, 5, 1, 7, 6, 4, 0, 9],\n",
       "       [6, 8, 0, 1, 2, 6, 1, 7],\n",
       "       [9, 8, 9, 3, 9, 9, 4, 1],\n",
       "       [2, 0, 6, 0, 1, 7, 2, 7],\n",
       "       [3, 4, 7, 0, 9, 0, 6, 6],\n",
       "       [0, 9, 7, 0, 3, 8, 7, 8],\n",
       "       [5, 6, 8, 8, 4, 4, 1, 6],\n",
       "       [8, 2, 8, 8, 8, 2, 6, 3]], dtype=int64)"
      ]
     },
     "execution_count": 46,
     "metadata": {},
     "output_type": "execute_result"
    }
   ],
   "source": [
    "np.ndarray(buffer=arr.data, shape=arr.shape, dtype=arr.dtype) #buffer is a pointer to the memory. \n",
    "#Here, we are copying all of the original attributes of the array."
   ]
  },
  {
   "cell_type": "markdown",
   "metadata": {},
   "source": [
    "Create a new *view* pointing to the same memory:"
   ]
  },
  {
   "cell_type": "code",
   "execution_count": 48,
   "metadata": {},
   "outputs": [
    {
     "data": {
      "text/plain": [
       "array([[3, 5, 1, 7, 6, 4, 0, 9],\n",
       "       [9, 8, 9, 3, 9, 9, 4, 1],\n",
       "       [3, 4, 7, 0, 9, 0, 6, 6],\n",
       "       [5, 6, 8, 8, 4, 4, 1, 6]], dtype=int64)"
      ]
     },
     "execution_count": 48,
     "metadata": {},
     "output_type": "execute_result"
    }
   ],
   "source": [
    "arr[::2]"
   ]
  },
  {
   "cell_type": "code",
   "execution_count": 47,
   "metadata": {},
   "outputs": [
    {
     "data": {
      "text/plain": [
       "array([[3, 5, 1, 7, 6, 4, 0, 9],\n",
       "       [9, 8, 9, 3, 9, 9, 4, 1],\n",
       "       [3, 4, 7, 0, 9, 0, 6, 6],\n",
       "       [5, 6, 8, 8, 4, 4, 1, 6]], dtype=int64)"
      ]
     },
     "execution_count": 47,
     "metadata": {},
     "output_type": "execute_result"
    }
   ],
   "source": [
    "np.ndarray(buffer=arr.data, shape=(4, 8), dtype=arr.dtype, strides=(128, 8)) #Here, we are making a view on the memory with a different approach"
   ]
  },
  {
   "cell_type": "code",
   "execution_count": 112,
   "metadata": {},
   "outputs": [
    {
     "data": {
      "text/plain": [
       "True"
      ]
     },
     "execution_count": 112,
     "metadata": {},
     "output_type": "execute_result"
    }
   ],
   "source": [
    "np.ndarray(buffer=arr.data, shape=(4, 8), dtype=arr.dtype, strides=(128, 8)).base is arr"
   ]
  },
  {
   "cell_type": "markdown",
   "metadata": {},
   "source": [
    "## Cache effects\n",
    "\n",
    "How does all of this transform to things we actually need to know? Data access is much more costly than data calculations themselves. We want data to be as close to us as possible, which is why we have cache- so we don't need to dig deep to access the data each time from memory.\n",
    "\n"
   ]
  },
  {
   "cell_type": "code",
   "execution_count": 49,
   "metadata": {},
   "outputs": [],
   "source": [
    "#If we want to sum all elements of a large array:\n",
    "large_arr = np.random.randint(100, size=(1000000,))"
   ]
  },
  {
   "cell_type": "code",
   "execution_count": 50,
   "metadata": {},
   "outputs": [],
   "source": [
    "#another array which is 4 times larger\n",
    "STEP = 4\n",
    "larger_arr = np.random.randint(100, size=(1000000*STEP,))"
   ]
  },
  {
   "cell_type": "code",
   "execution_count": 51,
   "metadata": {},
   "outputs": [
    {
     "data": {
      "text/plain": [
       "((4000000,), (1000000,))"
      ]
     },
     "execution_count": 51,
     "metadata": {},
     "output_type": "execute_result"
    }
   ],
   "source": [
    "larger_arr.shape, large_arr.shape"
   ]
  },
  {
   "cell_type": "code",
   "execution_count": 52,
   "metadata": {},
   "outputs": [
    {
     "name": "stdout",
     "output_type": "stream",
     "text": [
      "835 µs ± 112 µs per loop (mean ± std. dev. of 3 runs, 100 loops each)\n"
     ]
    }
   ],
   "source": [
    "%timeit -n 100 -r 3 large_arr.sum()"
   ]
  },
  {
   "cell_type": "code",
   "execution_count": 53,
   "metadata": {},
   "outputs": [
    {
     "name": "stdout",
     "output_type": "stream",
     "text": [
      "1.94 ms ± 201 µs per loop (mean ± std. dev. of 3 runs, 100 loops each)\n"
     ]
    }
   ],
   "source": [
    "%timeit -n 100 -r 3 larger_arr[::STEP].sum() #this one takes each 4th element in the larger array, and the number of calculations is exatly the same."
   ]
  },
  {
   "cell_type": "markdown",
   "metadata": {},
   "source": [
    "We see that the second one is slower. The take away is, that even though we performed the same amount of arithmetic operations, since we had to put in more effort to step through the data in the second one, it took much longer.\n",
    "\n",
    "Whenever working with small data, this isnt so relevent. However, when working with big data, proprocessing is essential"
   ]
  },
  {
   "cell_type": "code",
   "execution_count": 54,
   "metadata": {},
   "outputs": [],
   "source": [
    "del large_arr, larger_arr"
   ]
  },
  {
   "cell_type": "code",
   "execution_count": 55,
   "metadata": {},
   "outputs": [],
   "source": [
    "large_arr = np.random.randint(100, size=(5, 10000000))"
   ]
  },
  {
   "cell_type": "code",
   "execution_count": 57,
   "metadata": {},
   "outputs": [
    {
     "data": {
      "text/plain": [
       "190"
      ]
     },
     "execution_count": 57,
     "metadata": {},
     "output_type": "execute_result"
    }
   ],
   "source": [
    "large_arr.nbytes // (1024*1024)"
   ]
  },
  {
   "cell_type": "code",
   "execution_count": 146,
   "metadata": {},
   "outputs": [
    {
     "data": {
      "text/plain": [
       "array([[74, 71, 64, ..., 83, 70, 54],\n",
       "       [97, 81,  4, ..., 55, 11, 65],\n",
       "       [34, 38, 55, ..., 48,  4, 88],\n",
       "       [24, 43, 92, ..., 96, 49, 86],\n",
       "       [81, 88, 37, ..., 83,  4, 98]])"
      ]
     },
     "execution_count": 146,
     "metadata": {},
     "output_type": "execute_result"
    }
   ],
   "source": [
    "large_arr"
   ]
  },
  {
   "cell_type": "code",
   "execution_count": 147,
   "metadata": {},
   "outputs": [
    {
     "data": {
      "text/plain": [
       "array([[74, 97, 34, 24, 81],\n",
       "       [71, 81, 38, 43, 88],\n",
       "       [64,  4, 55, 92, 37],\n",
       "       ...,\n",
       "       [83, 55, 48, 96, 83],\n",
       "       [70, 11,  4, 49,  4],\n",
       "       [54, 65, 88, 86, 98]])"
      ]
     },
     "execution_count": 147,
     "metadata": {},
     "output_type": "execute_result"
    }
   ],
   "source": [
    "large_arr.T"
   ]
  },
  {
   "cell_type": "code",
   "execution_count": 148,
   "metadata": {},
   "outputs": [
    {
     "data": {
      "text/plain": [
       "  C_CONTIGUOUS : False\n",
       "  F_CONTIGUOUS : True\n",
       "  OWNDATA : False\n",
       "  WRITEABLE : True\n",
       "  ALIGNED : True\n",
       "  WRITEBACKIFCOPY : False\n",
       "  UPDATEIFCOPY : False"
      ]
     },
     "execution_count": 148,
     "metadata": {},
     "output_type": "execute_result"
    }
   ],
   "source": [
    "large_arr.T.flags #the transpose is F-contiguos, and not C-contiguos like before"
   ]
  },
  {
   "cell_type": "code",
   "execution_count": 149,
   "metadata": {},
   "outputs": [
    {
     "data": {
      "text/plain": [
       "  C_CONTIGUOUS : True\n",
       "  F_CONTIGUOUS : False\n",
       "  OWNDATA : True\n",
       "  WRITEABLE : True\n",
       "  ALIGNED : True\n",
       "  WRITEBACKIFCOPY : False\n",
       "  UPDATEIFCOPY : False"
      ]
     },
     "execution_count": 149,
     "metadata": {},
     "output_type": "execute_result"
    }
   ],
   "source": [
    "large_arr.flags"
   ]
  },
  {
   "cell_type": "code",
   "execution_count": 125,
   "metadata": {},
   "outputs": [
    {
     "name": "stdout",
     "output_type": "stream",
     "text": [
      "59 ms ± 6.09 ms per loop (mean ± std. dev. of 3 runs, 50 loops each)\n"
     ]
    }
   ],
   "source": [
    "%timeit -n 50 -r 3 large_arr.sum(axis=1).sum(axis=0)"
   ]
  },
  {
   "cell_type": "code",
   "execution_count": 126,
   "metadata": {},
   "outputs": [
    {
     "name": "stdout",
     "output_type": "stream",
     "text": [
      "123 ms ± 11.5 ms per loop (mean ± std. dev. of 3 runs, 50 loops each)\n"
     ]
    }
   ],
   "source": [
    "%timeit -n 50 -r 3 large_arr.sum(axis=0).sum() #this axis has more jumps (?)"
   ]
  },
  {
   "cell_type": "code",
   "execution_count": 127,
   "metadata": {},
   "outputs": [
    {
     "name": "stdout",
     "output_type": "stream",
     "text": [
      "51.9 ms ± 9.64 ms per loop (mean ± std. dev. of 3 runs, 50 loops each)\n"
     ]
    }
   ],
   "source": [
    "%timeit -n 50 -r 3 large_arr.T.sum(axis=0) #this one is more or less the same as the first one, as it is going over the same row."
   ]
  },
  {
   "cell_type": "code",
   "execution_count": 150,
   "metadata": {},
   "outputs": [
    {
     "data": {
      "text/plain": [
       "True"
      ]
     },
     "execution_count": 150,
     "metadata": {},
     "output_type": "execute_result"
    }
   ],
   "source": [
    "large_arr.T.base is large_arr"
   ]
  },
  {
   "cell_type": "markdown",
   "metadata": {},
   "source": [
    "## Memory allocations in computations"
   ]
  },
  {
   "cell_type": "markdown",
   "metadata": {},
   "source": [
    "How long does it take to create a copy?"
   ]
  },
  {
   "cell_type": "code",
   "execution_count": 129,
   "metadata": {},
   "outputs": [
    {
     "name": "stdout",
     "output_type": "stream",
     "text": [
      "129 ms ± 12.9 ms per loop (mean ± std. dev. of 3 runs, 20 loops each)\n"
     ]
    }
   ],
   "source": [
    "%timeit -n 20 -r 3 large_arr.copy() #we can see that this can take a little bit of time."
   ]
  },
  {
   "cell_type": "markdown",
   "metadata": {},
   "source": [
    "Operations create new arrays as well:"
   ]
  },
  {
   "cell_type": "code",
   "execution_count": 130,
   "metadata": {},
   "outputs": [
    {
     "name": "stdout",
     "output_type": "stream",
     "text": [
      "179 ms ± 2.12 ms per loop (mean ± std. dev. of 3 runs, 20 loops each)\n"
     ]
    }
   ],
   "source": [
    "%timeit -n 20 -r 3 large_arr + 1 #Since operations create new arrays, in place operations can be helpful"
   ]
  },
  {
   "cell_type": "markdown",
   "metadata": {},
   "source": [
    "`np.add` and `+` do more or less the same:"
   ]
  },
  {
   "cell_type": "code",
   "execution_count": 131,
   "metadata": {},
   "outputs": [
    {
     "name": "stdout",
     "output_type": "stream",
     "text": [
      "166 ms ± 4.28 ms per loop (mean ± std. dev. of 3 runs, 20 loops each)\n"
     ]
    }
   ],
   "source": [
    "%timeit -n 20 -r 3 np.add(large_arr, 1)"
   ]
  },
  {
   "cell_type": "markdown",
   "metadata": {},
   "source": [
    "But in-place operations are faster (no allocations):"
   ]
  },
  {
   "cell_type": "code",
   "execution_count": 132,
   "metadata": {},
   "outputs": [
    {
     "name": "stdout",
     "output_type": "stream",
     "text": [
      "70 ms ± 7.07 ms per loop (mean ± std. dev. of 3 runs, 100 loops each)\n"
     ]
    }
   ],
   "source": [
    "%timeit -n 100 -r 3 np.add(large_arr, 1, out=large_arr)"
   ]
  },
  {
   "cell_type": "code",
   "execution_count": 133,
   "metadata": {},
   "outputs": [
    {
     "data": {
      "text/plain": [
       "array([[321, 377, 345, ..., 306, 349, 393],\n",
       "       [339, 363, 371, ..., 344, 373, 391],\n",
       "       [390, 337, 397, ..., 307, 342, 380],\n",
       "       [371, 371, 338, ..., 337, 307, 350],\n",
       "       [337, 318, 392, ..., 306, 388, 366]])"
      ]
     },
     "execution_count": 133,
     "metadata": {},
     "output_type": "execute_result"
    }
   ],
   "source": [
    "large_arr"
   ]
  },
  {
   "cell_type": "code",
   "execution_count": 134,
   "metadata": {},
   "outputs": [
    {
     "data": {
      "text/plain": [
       "array([[322, 378, 346, ..., 307, 350, 394],\n",
       "       [340, 364, 372, ..., 345, 374, 392],\n",
       "       [391, 338, 398, ..., 308, 343, 381],\n",
       "       [372, 372, 339, ..., 338, 308, 351],\n",
       "       [338, 319, 393, ..., 307, 389, 367]])"
      ]
     },
     "execution_count": 134,
     "metadata": {},
     "output_type": "execute_result"
    }
   ],
   "source": [
    "np.add(large_arr, 1, out=large_arr)"
   ]
  },
  {
   "cell_type": "markdown",
   "metadata": {},
   "source": [
    "Important: Indexing always creates a view, but booleana nd fancy always create a copy, as there is no set stride pattern. Making a copy always takes up more data, as we require more allocation and steps."
   ]
  },
  {
   "cell_type": "markdown",
   "metadata": {},
   "source": [
    "# Broadcasting"
   ]
  },
  {
   "cell_type": "markdown",
   "metadata": {},
   "source": [
    "How can we operate on arrays of different shapes? Should we reshape them first to a common shape?"
   ]
  },
  {
   "cell_type": "code",
   "execution_count": 58,
   "metadata": {
    "ExecuteTime": {
     "end_time": "2019-11-08T08:56:58.155069Z",
     "start_time": "2019-11-08T08:56:58.145936Z"
    }
   },
   "outputs": [],
   "source": [
    "arr_2d = np.random.randint(10, size=(10, 3))\n",
    "arr_1d_1 = np.random.randint(10, size=(3, ))\n",
    "arr_1d_2 = np.random.randint(10, size=(10, ))"
   ]
  },
  {
   "cell_type": "code",
   "execution_count": 59,
   "metadata": {
    "ExecuteTime": {
     "end_time": "2019-11-08T08:57:05.429483Z",
     "start_time": "2019-11-08T08:57:05.424157Z"
    }
   },
   "outputs": [
    {
     "data": {
      "text/plain": [
       "array([[1, 9, 6],\n",
       "       [4, 0, 0],\n",
       "       [1, 9, 9],\n",
       "       [7, 4, 9],\n",
       "       [3, 6, 5],\n",
       "       [7, 2, 6],\n",
       "       [3, 6, 8],\n",
       "       [7, 5, 0],\n",
       "       [8, 7, 7],\n",
       "       [9, 0, 3]])"
      ]
     },
     "execution_count": 59,
     "metadata": {},
     "output_type": "execute_result"
    }
   ],
   "source": [
    "arr_2d"
   ]
  },
  {
   "cell_type": "code",
   "execution_count": 60,
   "metadata": {
    "ExecuteTime": {
     "end_time": "2019-11-08T08:57:05.720153Z",
     "start_time": "2019-11-08T08:57:05.713397Z"
    }
   },
   "outputs": [
    {
     "data": {
      "text/plain": [
       "array([6, 6, 8])"
      ]
     },
     "execution_count": 60,
     "metadata": {},
     "output_type": "execute_result"
    }
   ],
   "source": [
    "arr_1d_1"
   ]
  },
  {
   "cell_type": "code",
   "execution_count": 61,
   "metadata": {
    "ExecuteTime": {
     "end_time": "2019-11-08T08:57:05.885997Z",
     "start_time": "2019-11-08T08:57:05.879191Z"
    }
   },
   "outputs": [
    {
     "data": {
      "text/plain": [
       "array([2, 5, 6, 3, 8, 7, 3, 4, 9, 4])"
      ]
     },
     "execution_count": 61,
     "metadata": {},
     "output_type": "execute_result"
    }
   ],
   "source": [
    "arr_1d_2"
   ]
  },
  {
   "cell_type": "code",
   "execution_count": 62,
   "metadata": {
    "ExecuteTime": {
     "end_time": "2019-11-08T08:57:15.524114Z",
     "start_time": "2019-11-08T08:57:15.516679Z"
    }
   },
   "outputs": [
    {
     "data": {
      "text/plain": [
       "(array([[1, 9, 6],\n",
       "        [4, 0, 0],\n",
       "        [1, 9, 9],\n",
       "        [7, 4, 9],\n",
       "        [3, 6, 5],\n",
       "        [7, 2, 6],\n",
       "        [3, 6, 8],\n",
       "        [7, 5, 0],\n",
       "        [8, 7, 7],\n",
       "        [9, 0, 3]]),\n",
       " array([6, 6, 8]))"
      ]
     },
     "execution_count": 62,
     "metadata": {},
     "output_type": "execute_result"
    }
   ],
   "source": [
    "arr_2d, arr_1d_1"
   ]
  },
  {
   "cell_type": "markdown",
   "metadata": {},
   "source": [
    "Can we add the two?"
   ]
  },
  {
   "cell_type": "code",
   "execution_count": 63,
   "metadata": {
    "ExecuteTime": {
     "end_time": "2019-11-08T08:57:27.247400Z",
     "start_time": "2019-11-08T08:57:27.241377Z"
    }
   },
   "outputs": [
    {
     "data": {
      "text/plain": [
       "array([[ 7, 15, 14],\n",
       "       [10,  6,  8],\n",
       "       [ 7, 15, 17],\n",
       "       [13, 10, 17],\n",
       "       [ 9, 12, 13],\n",
       "       [13,  8, 14],\n",
       "       [ 9, 12, 16],\n",
       "       [13, 11,  8],\n",
       "       [14, 13, 15],\n",
       "       [15,  6, 11]])"
      ]
     },
     "execution_count": 63,
     "metadata": {},
     "output_type": "execute_result"
    }
   ],
   "source": [
    "arr_2d + arr_1d_1"
   ]
  },
  {
   "cell_type": "markdown",
   "metadata": {},
   "source": [
    "Seemingly we can.\n",
    "But what was really added to `arr_2d`?"
   ]
  },
  {
   "cell_type": "code",
   "execution_count": 64,
   "metadata": {
    "ExecuteTime": {
     "end_time": "2019-11-08T08:58:12.410031Z",
     "start_time": "2019-11-08T08:58:12.396605Z"
    }
   },
   "outputs": [
    {
     "data": {
      "text/plain": [
       "array([[6, 6, 8],\n",
       "       [6, 6, 8],\n",
       "       [6, 6, 8],\n",
       "       [6, 6, 8],\n",
       "       [6, 6, 8],\n",
       "       [6, 6, 8],\n",
       "       [6, 6, 8],\n",
       "       [6, 6, 8],\n",
       "       [6, 6, 8],\n",
       "       [6, 6, 8]])"
      ]
     },
     "execution_count": 64,
     "metadata": {},
     "output_type": "execute_result"
    }
   ],
   "source": [
    "(arr_2d + arr_1d_1) - arr_2d"
   ]
  },
  {
   "cell_type": "markdown",
   "metadata": {},
   "source": [
    "What we see here, is that through broadcasting, numpy essentialy turned our arr_1d_1 away into an array with the same dimensions as arr_2d (which we see in the above output). sing thatm it then does the arithmetic"
   ]
  },
  {
   "cell_type": "markdown",
   "metadata": {
    "ExecuteTime": {
     "end_time": "2019-11-05T15:45:38.839269Z",
     "start_time": "2019-11-05T15:45:38.821931Z"
    }
   },
   "source": [
    "Can we do the same with `arr_1d_2`?"
   ]
  },
  {
   "cell_type": "code",
   "execution_count": 65,
   "metadata": {},
   "outputs": [
    {
     "ename": "ValueError",
     "evalue": "operands could not be broadcast together with shapes (10,3) (10,) ",
     "output_type": "error",
     "traceback": [
      "\u001b[1;31m---------------------------------------------------------------------------\u001b[0m",
      "\u001b[1;31mValueError\u001b[0m                                Traceback (most recent call last)",
      "\u001b[1;32m<ipython-input-65-6e6cb2b24c09>\u001b[0m in \u001b[0;36m<module>\u001b[1;34m\u001b[0m\n\u001b[1;32m----> 1\u001b[1;33m \u001b[0marr_2d\u001b[0m \u001b[1;33m+\u001b[0m \u001b[0marr_1d_2\u001b[0m\u001b[1;33m\u001b[0m\u001b[1;33m\u001b[0m\u001b[0m\n\u001b[0m",
      "\u001b[1;31mValueError\u001b[0m: operands could not be broadcast together with shapes (10,3) (10,) "
     ]
    }
   ],
   "source": [
    "arr_2d + arr_1d_2"
   ]
  },
  {
   "cell_type": "markdown",
   "metadata": {},
   "source": [
    "We can not. We need to change `arr_1d_2` shape first:"
   ]
  },
  {
   "cell_type": "code",
   "execution_count": 66,
   "metadata": {
    "ExecuteTime": {
     "end_time": "2019-11-08T08:59:12.133878Z",
     "start_time": "2019-11-08T08:59:12.120597Z"
    }
   },
   "outputs": [
    {
     "data": {
      "text/plain": [
       "array([[ 3, 11,  8],\n",
       "       [ 9,  5,  5],\n",
       "       [ 7, 15, 15],\n",
       "       [10,  7, 12],\n",
       "       [11, 14, 13],\n",
       "       [14,  9, 13],\n",
       "       [ 6,  9, 11],\n",
       "       [11,  9,  4],\n",
       "       [17, 16, 16],\n",
       "       [13,  4,  7]])"
      ]
     },
     "execution_count": 66,
     "metadata": {},
     "output_type": "execute_result"
    }
   ],
   "source": [
    "arr_2d + arr_1d_2.reshape((10,1)) #now, it adds each column."
   ]
  },
  {
   "cell_type": "markdown",
   "metadata": {},
   "source": [
    "Alternatively, we can do:"
   ]
  },
  {
   "cell_type": "code",
   "execution_count": 67,
   "metadata": {},
   "outputs": [
    {
     "data": {
      "text/plain": [
       "array([[2],\n",
       "       [5],\n",
       "       [6],\n",
       "       [3],\n",
       "       [8],\n",
       "       [7],\n",
       "       [3],\n",
       "       [4],\n",
       "       [9],\n",
       "       [4]])"
      ]
     },
     "execution_count": 67,
     "metadata": {},
     "output_type": "execute_result"
    }
   ],
   "source": [
    "np.expand_dims(arr_1d_2, axis=1)"
   ]
  },
  {
   "cell_type": "code",
   "execution_count": 68,
   "metadata": {
    "ExecuteTime": {
     "end_time": "2019-11-08T08:59:52.510473Z",
     "start_time": "2019-11-08T08:59:52.503006Z"
    }
   },
   "outputs": [
    {
     "data": {
      "text/plain": [
       "array([[ 3, 11,  8],\n",
       "       [ 9,  5,  5],\n",
       "       [ 7, 15, 15],\n",
       "       [10,  7, 12],\n",
       "       [11, 14, 13],\n",
       "       [14,  9, 13],\n",
       "       [ 6,  9, 11],\n",
       "       [11,  9,  4],\n",
       "       [17, 16, 16],\n",
       "       [13,  4,  7]])"
      ]
     },
     "execution_count": 68,
     "metadata": {},
     "output_type": "execute_result"
    }
   ],
   "source": [
    "arr_2d + np.expand_dims(arr_1d_2, axis=1)"
   ]
  },
  {
   "cell_type": "markdown",
   "metadata": {},
   "source": [
    "It seems `arr_1d_2` was \"replicated\" in the same way as `arr_1d_1` but along different axis:"
   ]
  },
  {
   "cell_type": "code",
   "execution_count": 163,
   "metadata": {
    "ExecuteTime": {
     "end_time": "2019-11-08T09:01:26.643342Z",
     "start_time": "2019-11-08T09:01:26.637492Z"
    }
   },
   "outputs": [
    {
     "data": {
      "text/plain": [
       "array([[1, 1, 1],\n",
       "       [7, 7, 7],\n",
       "       [4, 4, 4],\n",
       "       [7, 7, 7],\n",
       "       [4, 4, 4],\n",
       "       [7, 7, 7],\n",
       "       [7, 7, 7],\n",
       "       [5, 5, 5],\n",
       "       [4, 4, 4],\n",
       "       [4, 4, 4]])"
      ]
     },
     "execution_count": 163,
     "metadata": {},
     "output_type": "execute_result"
    }
   ],
   "source": [
    "(arr_2d + np.expand_dims(arr_1d_2, axis=1)) - arr_2d"
   ]
  },
  {
   "cell_type": "markdown",
   "metadata": {},
   "source": [
    "To reveal the pattern, let's try a `3D` array:"
   ]
  },
  {
   "cell_type": "code",
   "execution_count": 165,
   "metadata": {
    "ExecuteTime": {
     "end_time": "2019-11-08T09:01:55.096334Z",
     "start_time": "2019-11-08T09:01:55.092692Z"
    }
   },
   "outputs": [],
   "source": [
    "arr_3d = np.random.randint(10, size=(7, 10, 3))"
   ]
  },
  {
   "cell_type": "code",
   "execution_count": 167,
   "metadata": {
    "ExecuteTime": {
     "end_time": "2019-11-08T09:02:03.957446Z",
     "start_time": "2019-11-08T09:02:03.949715Z"
    }
   },
   "outputs": [
    {
     "data": {
      "text/plain": [
       "((3,), (7, 10, 3))"
      ]
     },
     "execution_count": 167,
     "metadata": {},
     "output_type": "execute_result"
    }
   ],
   "source": [
    "arr_1d_1.shape, arr_3d.shape"
   ]
  },
  {
   "cell_type": "code",
   "execution_count": null,
   "metadata": {},
   "outputs": [],
   "source": [
    "arr_3d"
   ]
  },
  {
   "cell_type": "code",
   "execution_count": 168,
   "metadata": {
    "ExecuteTime": {
     "end_time": "2019-11-08T09:02:10.212318Z",
     "start_time": "2019-11-08T09:02:10.205968Z"
    }
   },
   "outputs": [
    {
     "data": {
      "text/plain": [
       "array([[[ 3,  7,  8],\n",
       "        [10,  7, 13],\n",
       "        [ 2,  7,  9],\n",
       "        [ 5,  8, 11],\n",
       "        [ 4, 10, 14],\n",
       "        [ 4, 15, 10],\n",
       "        [ 3, 15, 12],\n",
       "        [ 7, 16, 14],\n",
       "        [ 8, 10,  5],\n",
       "        [ 6, 11,  5]],\n",
       "\n",
       "       [[ 4,  7, 13],\n",
       "        [ 9, 14, 14],\n",
       "        [11, 10,  6],\n",
       "        [ 5, 15,  8],\n",
       "        [ 3,  9, 14],\n",
       "        [ 4,  7,  9],\n",
       "        [ 2,  8, 14],\n",
       "        [ 8, 12, 12],\n",
       "        [11, 16, 10],\n",
       "        [10, 15,  9]],\n",
       "\n",
       "       [[ 3,  8,  7],\n",
       "        [ 4, 16, 13],\n",
       "        [ 6, 14,  9],\n",
       "        [ 7, 14, 12],\n",
       "        [ 5, 11,  5],\n",
       "        [ 4, 11, 13],\n",
       "        [11, 13, 11],\n",
       "        [ 4,  7, 14],\n",
       "        [ 8, 10, 14],\n",
       "        [11, 10, 14]],\n",
       "\n",
       "       [[ 2,  7,  5],\n",
       "        [ 6,  8, 11],\n",
       "        [ 2, 13,  7],\n",
       "        [11, 16,  6],\n",
       "        [ 5, 16, 12],\n",
       "        [ 8, 16, 12],\n",
       "        [ 2, 16, 14],\n",
       "        [ 4, 15, 11],\n",
       "        [ 6, 11, 13],\n",
       "        [ 3, 12,  5]],\n",
       "\n",
       "       [[ 4, 13,  5],\n",
       "        [ 5,  8, 11],\n",
       "        [11, 15, 12],\n",
       "        [11, 13, 12],\n",
       "        [10,  9,  9],\n",
       "        [ 3,  7,  7],\n",
       "        [ 6, 14, 11],\n",
       "        [ 9, 12,  6],\n",
       "        [10, 14,  9],\n",
       "        [ 8,  9, 10]],\n",
       "\n",
       "       [[ 4, 11,  5],\n",
       "        [ 3, 16,  6],\n",
       "        [ 7, 14,  8],\n",
       "        [ 6,  9, 10],\n",
       "        [ 5, 15, 10],\n",
       "        [ 9,  9,  7],\n",
       "        [ 4,  7, 11],\n",
       "        [ 9, 15, 11],\n",
       "        [11,  8, 13],\n",
       "        [ 5, 15,  9]],\n",
       "\n",
       "       [[ 4, 13,  8],\n",
       "        [10, 15,  8],\n",
       "        [11, 16, 14],\n",
       "        [ 5, 15, 14],\n",
       "        [ 8,  8, 14],\n",
       "        [11, 12, 13],\n",
       "        [ 3,  9, 11],\n",
       "        [ 6, 12,  9],\n",
       "        [ 8,  8, 14],\n",
       "        [ 4, 16,  9]]])"
      ]
     },
     "execution_count": 168,
     "metadata": {},
     "output_type": "execute_result"
    }
   ],
   "source": [
    "arr_3d + arr_1d_1 # we can add these two together"
   ]
  },
  {
   "cell_type": "code",
   "execution_count": 169,
   "metadata": {},
   "outputs": [
    {
     "data": {
      "text/plain": [
       "array([[[2, 7, 5],\n",
       "        [2, 7, 5],\n",
       "        [2, 7, 5],\n",
       "        [2, 7, 5],\n",
       "        [2, 7, 5],\n",
       "        [2, 7, 5],\n",
       "        [2, 7, 5],\n",
       "        [2, 7, 5],\n",
       "        [2, 7, 5],\n",
       "        [2, 7, 5]],\n",
       "\n",
       "       [[2, 7, 5],\n",
       "        [2, 7, 5],\n",
       "        [2, 7, 5],\n",
       "        [2, 7, 5],\n",
       "        [2, 7, 5],\n",
       "        [2, 7, 5],\n",
       "        [2, 7, 5],\n",
       "        [2, 7, 5],\n",
       "        [2, 7, 5],\n",
       "        [2, 7, 5]],\n",
       "\n",
       "       [[2, 7, 5],\n",
       "        [2, 7, 5],\n",
       "        [2, 7, 5],\n",
       "        [2, 7, 5],\n",
       "        [2, 7, 5],\n",
       "        [2, 7, 5],\n",
       "        [2, 7, 5],\n",
       "        [2, 7, 5],\n",
       "        [2, 7, 5],\n",
       "        [2, 7, 5]],\n",
       "\n",
       "       [[2, 7, 5],\n",
       "        [2, 7, 5],\n",
       "        [2, 7, 5],\n",
       "        [2, 7, 5],\n",
       "        [2, 7, 5],\n",
       "        [2, 7, 5],\n",
       "        [2, 7, 5],\n",
       "        [2, 7, 5],\n",
       "        [2, 7, 5],\n",
       "        [2, 7, 5]],\n",
       "\n",
       "       [[2, 7, 5],\n",
       "        [2, 7, 5],\n",
       "        [2, 7, 5],\n",
       "        [2, 7, 5],\n",
       "        [2, 7, 5],\n",
       "        [2, 7, 5],\n",
       "        [2, 7, 5],\n",
       "        [2, 7, 5],\n",
       "        [2, 7, 5],\n",
       "        [2, 7, 5]],\n",
       "\n",
       "       [[2, 7, 5],\n",
       "        [2, 7, 5],\n",
       "        [2, 7, 5],\n",
       "        [2, 7, 5],\n",
       "        [2, 7, 5],\n",
       "        [2, 7, 5],\n",
       "        [2, 7, 5],\n",
       "        [2, 7, 5],\n",
       "        [2, 7, 5],\n",
       "        [2, 7, 5]],\n",
       "\n",
       "       [[2, 7, 5],\n",
       "        [2, 7, 5],\n",
       "        [2, 7, 5],\n",
       "        [2, 7, 5],\n",
       "        [2, 7, 5],\n",
       "        [2, 7, 5],\n",
       "        [2, 7, 5],\n",
       "        [2, 7, 5],\n",
       "        [2, 7, 5],\n",
       "        [2, 7, 5]]])"
      ]
     },
     "execution_count": 169,
     "metadata": {},
     "output_type": "execute_result"
    }
   ],
   "source": [
    "(arr_3d + arr_1d_1) - arr_3d #This is validated, by seeing arr_1d broadcasted over each with subtraction"
   ]
  },
  {
   "cell_type": "code",
   "execution_count": 170,
   "metadata": {
    "ExecuteTime": {
     "end_time": "2019-11-05T15:52:15.450111Z",
     "start_time": "2019-11-05T15:52:15.434921Z"
    }
   },
   "outputs": [
    {
     "data": {
      "text/plain": [
       "((7, 10, 3), (3,))"
      ]
     },
     "execution_count": 170,
     "metadata": {},
     "output_type": "execute_result"
    }
   ],
   "source": [
    "arr_3d.shape, arr_1d_1.shape"
   ]
  },
  {
   "cell_type": "markdown",
   "metadata": {},
   "source": [
    "Can we do the same with `arr_1d_2`?"
   ]
  },
  {
   "cell_type": "code",
   "execution_count": 171,
   "metadata": {
    "ExecuteTime": {
     "end_time": "2019-11-08T09:02:44.619458Z",
     "start_time": "2019-11-08T09:02:44.609745Z"
    }
   },
   "outputs": [
    {
     "ename": "ValueError",
     "evalue": "operands could not be broadcast together with shapes (7,10,3) (10,) ",
     "output_type": "error",
     "traceback": [
      "\u001b[1;31m---------------------------------------------------------------------------\u001b[0m",
      "\u001b[1;31mValueError\u001b[0m                                Traceback (most recent call last)",
      "\u001b[1;32m<ipython-input-171-2e4124256cf7>\u001b[0m in \u001b[0;36m<module>\u001b[1;34m\u001b[0m\n\u001b[1;32m----> 1\u001b[1;33m \u001b[0marr_3d\u001b[0m \u001b[1;33m+\u001b[0m \u001b[0marr_1d_2\u001b[0m\u001b[1;33m\u001b[0m\u001b[1;33m\u001b[0m\u001b[0m\n\u001b[0m",
      "\u001b[1;31mValueError\u001b[0m: operands could not be broadcast together with shapes (7,10,3) (10,) "
     ]
    }
   ],
   "source": [
    "arr_3d + arr_1d_2"
   ]
  },
  {
   "cell_type": "code",
   "execution_count": 172,
   "metadata": {
    "ExecuteTime": {
     "end_time": "2019-11-05T15:57:04.392250Z",
     "start_time": "2019-11-05T15:57:04.369480Z"
    }
   },
   "outputs": [
    {
     "data": {
      "text/plain": [
       "((7, 10, 3), (10,), (10, 1))"
      ]
     },
     "execution_count": 172,
     "metadata": {},
     "output_type": "execute_result"
    }
   ],
   "source": [
    "arr_3d.shape, arr_1d_2.shape, np.expand_dims(arr_1d_2, axis=1).shape"
   ]
  },
  {
   "cell_type": "raw",
   "metadata": {},
   "source": [
    "(7, 10, 3) + (10,) -> {3 dimensions} -> (7, 10, 3) + (1, 1, 10) -> cannot broadcast together\n",
    "(7, 10, 3) + (10,) -> (7, 10, 3) + (10, 1) -> {3 dimensions} -> (7, 10, 3) + (1, 10, 1) -> works perfectly"
   ]
  },
  {
   "cell_type": "code",
   "execution_count": 173,
   "metadata": {
    "ExecuteTime": {
     "end_time": "2019-11-08T09:03:10.112622Z",
     "start_time": "2019-11-08T09:03:10.106332Z"
    }
   },
   "outputs": [
    {
     "data": {
      "text/plain": [
       "array([[[1, 1, 1],\n",
       "        [7, 7, 7],\n",
       "        [4, 4, 4],\n",
       "        [7, 7, 7],\n",
       "        [4, 4, 4],\n",
       "        [7, 7, 7],\n",
       "        [7, 7, 7],\n",
       "        [5, 5, 5],\n",
       "        [4, 4, 4],\n",
       "        [4, 4, 4]],\n",
       "\n",
       "       [[1, 1, 1],\n",
       "        [7, 7, 7],\n",
       "        [4, 4, 4],\n",
       "        [7, 7, 7],\n",
       "        [4, 4, 4],\n",
       "        [7, 7, 7],\n",
       "        [7, 7, 7],\n",
       "        [5, 5, 5],\n",
       "        [4, 4, 4],\n",
       "        [4, 4, 4]],\n",
       "\n",
       "       [[1, 1, 1],\n",
       "        [7, 7, 7],\n",
       "        [4, 4, 4],\n",
       "        [7, 7, 7],\n",
       "        [4, 4, 4],\n",
       "        [7, 7, 7],\n",
       "        [7, 7, 7],\n",
       "        [5, 5, 5],\n",
       "        [4, 4, 4],\n",
       "        [4, 4, 4]],\n",
       "\n",
       "       [[1, 1, 1],\n",
       "        [7, 7, 7],\n",
       "        [4, 4, 4],\n",
       "        [7, 7, 7],\n",
       "        [4, 4, 4],\n",
       "        [7, 7, 7],\n",
       "        [7, 7, 7],\n",
       "        [5, 5, 5],\n",
       "        [4, 4, 4],\n",
       "        [4, 4, 4]],\n",
       "\n",
       "       [[1, 1, 1],\n",
       "        [7, 7, 7],\n",
       "        [4, 4, 4],\n",
       "        [7, 7, 7],\n",
       "        [4, 4, 4],\n",
       "        [7, 7, 7],\n",
       "        [7, 7, 7],\n",
       "        [5, 5, 5],\n",
       "        [4, 4, 4],\n",
       "        [4, 4, 4]],\n",
       "\n",
       "       [[1, 1, 1],\n",
       "        [7, 7, 7],\n",
       "        [4, 4, 4],\n",
       "        [7, 7, 7],\n",
       "        [4, 4, 4],\n",
       "        [7, 7, 7],\n",
       "        [7, 7, 7],\n",
       "        [5, 5, 5],\n",
       "        [4, 4, 4],\n",
       "        [4, 4, 4]],\n",
       "\n",
       "       [[1, 1, 1],\n",
       "        [7, 7, 7],\n",
       "        [4, 4, 4],\n",
       "        [7, 7, 7],\n",
       "        [4, 4, 4],\n",
       "        [7, 7, 7],\n",
       "        [7, 7, 7],\n",
       "        [5, 5, 5],\n",
       "        [4, 4, 4],\n",
       "        [4, 4, 4]]])"
      ]
     },
     "execution_count": 173,
     "metadata": {},
     "output_type": "execute_result"
    }
   ],
   "source": [
    "(arr_3d + np.expand_dims(arr_1d_2, axis=1)) - arr_3d"
   ]
  },
  {
   "cell_type": "markdown",
   "metadata": {
    "ExecuteTime": {
     "end_time": "2019-10-29T10:33:41.172751Z",
     "start_time": "2019-10-29T10:33:41.165332Z"
    }
   },
   "source": [
    "Broadcasting rules:\n",
    "    \n",
    "- All input arrays with `ndim` smaller than the input array of largest `ndim`, have 1’s **prepended** to their shapes.\n",
    "- The size in each dimension of the output shape is the **maximum** of all the input sizes in that dimension.\n",
    "- An input can be used in the calculation if its size in a particular dimension either **matches** the output size in that dimension, or **is exactly 1**.\n",
    "- If an input has a dimension of size 1 in its shape, the first data entry in that dimension will be used for all calculations along that dimension. In other words, the stepping machinery of a `ufunc` will simply not step along that dimension (stride will be 0 for that dimension)."
   ]
  },
  {
   "cell_type": "markdown",
   "metadata": {},
   "source": [
    "### How broadcasting really works"
   ]
  },
  {
   "cell_type": "markdown",
   "metadata": {},
   "source": [
    "What happens, when we add a unit dimension somewhere?"
   ]
  },
  {
   "cell_type": "code",
   "execution_count": null,
   "metadata": {},
   "outputs": [],
   "source": [
    "arr_1d_1[np.newaxis, :]"
   ]
  },
  {
   "cell_type": "code",
   "execution_count": null,
   "metadata": {},
   "outputs": [],
   "source": [
    "arr_1d_1[np.newaxis, :].strides"
   ]
  },
  {
   "cell_type": "markdown",
   "metadata": {},
   "source": [
    "`strides[0]` is `0`, which means we can use dimension `0` of `arr_1d_1[np.newaxis, :]` in any (underlying, C) loop with any number of iterations. Let's emulate this in pure Python:"
   ]
  },
  {
   "cell_type": "code",
   "execution_count": null,
   "metadata": {},
   "outputs": [],
   "source": [
    "arr_1d_1_bc = arr_1d_1[np.newaxis, :]\n",
    "arr_1d_1_bc"
   ]
  },
  {
   "cell_type": "code",
   "execution_count": null,
   "metadata": {},
   "outputs": [],
   "source": [
    "arr_2d"
   ]
  },
  {
   "cell_type": "code",
   "execution_count": null,
   "metadata": {},
   "outputs": [],
   "source": [
    "for i in range(arr_2d.shape[0]):\n",
    "\n",
    "    print(f\"Adding elements of row {i}\")\n",
    "\n",
    "    for j in range(arr_2d.shape[1]):\n",
    "        arr_2d_address = arr_2d.strides[1] * j + arr_2d.strides[0] * i\n",
    "        arr_1d_address = arr_1d_1_bc.strides[1] * j + arr_1d_1_bc.strides[0] * i\n",
    "\n",
    "        print(f\"\\tarr_2d address: {arr_2d_address}\")\n",
    "        print(f\"\\tarr_1d_1_bc address: {arr_1d_address}\")\n",
    "    print(\"-\" * 80)"
   ]
  },
  {
   "cell_type": "code",
   "execution_count": null,
   "metadata": {},
   "outputs": [],
   "source": []
  }
 ],
 "metadata": {
  "@webio": {
   "lastCommId": null,
   "lastKernelId": null
  },
  "interpreter": {
   "hash": "9b8ab61c9e77274f2d446992832627a1a97087245ff5de8b0d11c3c770be55a5"
  },
  "kernelspec": {
   "display_name": "Python 3.9.1 64-bit",
   "name": "python3"
  },
  "language_info": {
   "codemirror_mode": {
    "name": "ipython",
    "version": 3
   },
   "file_extension": ".py",
   "mimetype": "text/x-python",
   "name": "python",
   "nbconvert_exporter": "python",
   "pygments_lexer": "ipython3",
   "version": "3.9.1"
  }
 },
 "nbformat": 4,
 "nbformat_minor": 2
}
