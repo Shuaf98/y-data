{
 "cells": [
  {
   "cell_type": "markdown",
   "metadata": {},
   "source": [
    "# JIT compilation\n",
    "\n",
    "Julia code is JIT-compiled on a language level:"
   ]
  },
  {
   "cell_type": "code",
   "execution_count": 2,
   "metadata": {},
   "outputs": [
    {
     "name": "stderr",
     "output_type": "stream",
     "text": [
      "\u001b[32m\u001b[1m  Installing\u001b[22m\u001b[39m known registries into `C:\\Users\\sfrie\\.julia`\n"
     ]
    },
    {
     "name": "stderr",
     "output_type": "stream",
     "text": [
      "\u001b[32m\u001b[1m     Cloning\u001b[22m\u001b[39m registry from \"https://github.com/JuliaRegistries/General.git\"\n"
     ]
    },
    {
     "name": "stderr",
     "output_type": "stream",
     "text": [
      "\u001b[32m\u001b[1m       Added\u001b[22m\u001b[39m registry `General` to `C:\\Users\\sfrie\\.julia\\registries\\General`"
     ]
    },
    {
     "name": "stderr",
     "output_type": "stream",
     "text": [
      "\n",
      "\u001b[32m\u001b[1m   Resolving\u001b[22m\u001b[39m package versions..."
     ]
    },
    {
     "name": "stderr",
     "output_type": "stream",
     "text": [
      "\n"
     ]
    },
    {
     "name": "stderr",
     "output_type": "stream",
     "text": [
      "\u001b[32m\u001b[1m   Installed\u001b[22m\u001b[39m JSON ─────────── v0.21.2\n",
      "\u001b[32m\u001b[1m   Installed\u001b[22m\u001b[39m Parsers ──────── v2.1.2\n",
      "\u001b[32m\u001b[1m   Installed\u001b[22m\u001b[39m BenchmarkTools ─ v1.2.0\n"
     ]
    },
    {
     "name": "stderr",
     "output_type": "stream",
     "text": [
      "\u001b[32m\u001b[1m    Updating\u001b[22m\u001b[39m `C:\\Users\\sfrie\\.julia\\environments\\v1.6\\Project.toml`\n",
      " "
     ]
    },
    {
     "name": "stderr",
     "output_type": "stream",
     "text": [
      "\u001b[90m [6e4b80f9] \u001b[39m\u001b[92m+ BenchmarkTools v1.2.0\u001b[39m\n",
      "\u001b[32m\u001b[1m    Updating\u001b[22m\u001b[39m `C:\\Users\\sfrie\\.julia\\environments\\v1.6\\Manifest.toml`\n",
      " \u001b[90m [6e4b80f9] \u001b[39m\u001b[92m+ BenchmarkTools v1.2.0\u001b[39m\n",
      " \u001b[90m [682c06a0] \u001b[39m\u001b[92m+ JSON v0.21.2\u001b[39m\n",
      " \u001b[90m [69de0a69] \u001b[39m\u001b[92m+ Parsers v2.1.2\u001b[39m\n",
      " \u001b[90m [ade2ca70] \u001b[39m\u001b[92m+ Dates\u001b[39m\n",
      " \u001b[90m [8f399da3] \u001b[39m\u001b[92m+ Libdl\u001b[39m\n",
      " \u001b[90m [37e2e46d] \u001b[39m\u001b[92m+ LinearAlgebra\u001b[39m\n",
      " \u001b[90m [56ddb016] \u001b[39m\u001b[92m+ Logging\u001b[39m\n",
      " \u001b[90m [a63ad114] \u001b[39m\u001b[92m+ Mmap\u001b[39m\n",
      " \u001b[90m [de0858da] \u001b[39m\u001b[92m+ Printf\u001b[39m\n",
      " \u001b[90m [9abbd945] \u001b[39m\u001b[92m+ Profile\u001b[39m\n",
      " \u001b[90m [9a3f8284] \u001b[39m\u001b[92m+ Random\u001b[39m\n",
      " \u001b[90m [ea8e919c] \u001b[39m\u001b[92m+ SHA\u001b[39m\n",
      " \u001b[90m [9e88b42a] \u001b[39m\u001b[92m+ Serialization\u001b[39m\n",
      " \u001b[90m [2f01184e] \u001b[39m\u001b[92m+ SparseArrays\u001b[39m\n",
      " \u001b[90m [10745b16] \u001b[39m\u001b[92m+ Statistics\u001b[39m\n",
      " \u001b[90m [cf7118a7] \u001b[39m\u001b[92m+ UUIDs\u001b[39m\n",
      " \u001b[90m [4ec0a83e] \u001b[39m\u001b[92m+ Unicode\u001b[39m"
     ]
    },
    {
     "name": "stderr",
     "output_type": "stream",
     "text": [
      "\n",
      "\u001b[32m\u001b[1mPrecompiling\u001b[22m\u001b[39m project...\n"
     ]
    },
    {
     "name": "stderr",
     "output_type": "stream",
     "text": [
      "\u001b[32m  ✓ \u001b[39m\u001b[90mParsers\u001b[39m\n"
     ]
    },
    {
     "name": "stderr",
     "output_type": "stream",
     "text": [
      "\u001b[32m  ✓ \u001b[39m\u001b[90mJSON\u001b[39m\n"
     ]
    },
    {
     "name": "stderr",
     "output_type": "stream",
     "text": [
      "\u001b[32m  ✓ \u001b[39mBenchmarkTools\n"
     ]
    },
    {
     "name": "stderr",
     "output_type": "stream",
     "text": [
      "  3 dependencies successfully precompiled in 9 seconds\n"
     ]
    }
   ],
   "source": [
    "# import Pkg; Pkg.add(\"BenchmarkTools\")"
   ]
  },
  {
   "cell_type": "code",
   "execution_count": 1,
   "metadata": {},
   "outputs": [],
   "source": [
    "using BenchmarkTools"
   ]
  },
  {
   "cell_type": "markdown",
   "metadata": {},
   "source": [
    "`:` is used to create ranges, both integer and floating point. Note, that Julia uses `1`-based indexing and hence right edge is included:"
   ]
  },
  {
   "cell_type": "code",
   "execution_count": 2,
   "metadata": {},
   "outputs": [
    {
     "data": {
      "text/plain": [
       "Vector{Float64} (alias for Array{Float64, 1})"
      ]
     },
     "metadata": {},
     "output_type": "display_data"
    }
   ],
   "source": [
    "N = 100000\n",
    "# : is used to create ranges\n",
    "a = collect(1.:N)\n",
    "typeof(a)"
   ]
  },
  {
   "cell_type": "code",
   "execution_count": 3,
   "metadata": {},
   "outputs": [
    {
     "data": {
      "text/plain": [
       "5-element Array{Float64,1}:\n",
       " 1.0\n",
       " 2.0\n",
       " 3.0\n",
       " 4.0\n",
       " 5.0"
      ]
     },
     "execution_count": 3,
     "metadata": {},
     "output_type": "execute_result"
    }
   ],
   "source": [
    "a[1:5] #Julia is a 1 based language, not zero like in python"
   ]
  },
  {
   "cell_type": "code",
   "execution_count": 4,
   "metadata": {},
   "outputs": [
    {
     "data": {
      "text/plain": [
       "5-element Array{Float64,1}:\n",
       "  99996.0\n",
       "  99997.0\n",
       "  99998.0\n",
       "  99999.0\n",
       " 100000.0"
      ]
     },
     "execution_count": 4,
     "metadata": {},
     "output_type": "execute_result"
    }
   ],
   "source": [
    "a[end-4:end]"
   ]
  },
  {
   "cell_type": "code",
   "execution_count": 5,
   "metadata": {},
   "outputs": [
    {
     "name": "stdout",
     "output_type": "stream",
     "text": [
      "  12.001 μs (1 allocation: 16 bytes)\n"
     ]
    },
    {
     "data": {
      "text/plain": [
       "5.00005e9"
      ]
     },
     "execution_count": 5,
     "metadata": {},
     "output_type": "execute_result"
    }
   ],
   "source": [
    "@btime sum(a) #@ sign operations just represents a macro for a different code"
   ]
  },
  {
   "cell_type": "code",
   "execution_count": 6,
   "metadata": {},
   "outputs": [
    {
     "name": "stdout",
     "output_type": "stream",
     "text": [
      "  12.154 μs (1 allocation: 16 bytes)\n"
     ]
    },
    {
     "data": {
      "text/plain": [
       "5.00005e9"
      ]
     },
     "execution_count": 6,
     "metadata": {},
     "output_type": "execute_result"
    }
   ],
   "source": [
    "@btime reduce(+, a)"
   ]
  },
  {
   "cell_type": "code",
   "execution_count": 7,
   "metadata": {},
   "outputs": [
    {
     "data": {
      "text/plain": [
       "sum_array (generic function with 1 method)"
      ]
     },
     "execution_count": 7,
     "metadata": {},
     "output_type": "execute_result"
    }
   ],
   "source": [
    "function sum_array(a)\n",
    "    result = 0.\n",
    "\n",
    "    for el in a\n",
    "        result += el\n",
    "    end\n",
    "    return result\n",
    "end"
   ]
  },
  {
   "cell_type": "code",
   "execution_count": 8,
   "metadata": {},
   "outputs": [],
   "source": [
    "@assert sum_array(a) == sum(a)"
   ]
  },
  {
   "cell_type": "code",
   "execution_count": 9,
   "metadata": {},
   "outputs": [
    {
     "name": "stdout",
     "output_type": "stream",
     "text": [
      "  89.134 μs (1 allocation: 16 bytes)\n"
     ]
    },
    {
     "data": {
      "text/plain": [
       "5.00005e9"
      ]
     },
     "execution_count": 9,
     "metadata": {},
     "output_type": "execute_result"
    }
   ],
   "source": [
    "@btime sum_array(a)"
   ]
  },
  {
   "cell_type": "markdown",
   "metadata": {},
   "source": [
    "You can always look inside the code on different levels:"
   ]
  },
  {
   "cell_type": "code",
   "execution_count": 10,
   "metadata": {},
   "outputs": [
    {
     "data": {
      "text/plain": [
       "CodeInfo(\n",
       "\u001b[90m1 ──\u001b[39m %1  = Base.bitcast(UInt64, 1)\u001b[36m::UInt64\u001b[39m\n",
       "\u001b[90m│   \u001b[39m %2  = Base.bitcast(UInt64, 1)\u001b[36m::UInt64\u001b[39m\n",
       "\u001b[90m│   \u001b[39m %3  = Base.sub_int(%1, %2)\u001b[36m::UInt64\u001b[39m\n",
       "\u001b[90m│   \u001b[39m %4  = Base.arraylen(a)\u001b[36m::Int64\u001b[39m\n",
       "\u001b[90m│   \u001b[39m %5  = Base.sle_int(0, %4)\u001b[36m::Bool\u001b[39m\n",
       "\u001b[90m│   \u001b[39m %6  = Base.bitcast(UInt64, %4)\u001b[36m::UInt64\u001b[39m\n",
       "\u001b[90m│   \u001b[39m %7  = Base.ult_int(%3, %6)\u001b[36m::Bool\u001b[39m\n",
       "\u001b[90m│   \u001b[39m %8  = Base.and_int(%5, %7)\u001b[36m::Bool\u001b[39m\n",
       "\u001b[90m└───\u001b[39m       goto #3 if not %8\n",
       "\u001b[90m2 ──\u001b[39m %10 = Base.arrayref(false, a, 1)\u001b[36m::Float64\u001b[39m\n",
       "\u001b[90m│   \u001b[39m %11 = Base.add_int(1, 1)\u001b[36m::Int64\u001b[39m\n",
       "\u001b[90m└───\u001b[39m       goto #4\n",
       "\u001b[90m3 ──\u001b[39m       goto #4\n",
       "\u001b[90m4 ┄─\u001b[39m %14 = φ (#2 => false, #3 => true)\u001b[36m::Bool\u001b[39m\n",
       "\u001b[90m│   \u001b[39m %15 = φ (#2 => %10)\u001b[36m::Float64\u001b[39m\n",
       "\u001b[90m│   \u001b[39m %16 = φ (#2 => %11)\u001b[36m::Int64\u001b[39m\n",
       "\u001b[90m└───\u001b[39m       goto #5\n",
       "\u001b[90m5 ──\u001b[39m %18 = Base.not_int(%14)\u001b[36m::Bool\u001b[39m\n",
       "\u001b[90m└───\u001b[39m       goto #11 if not %18\n",
       "\u001b[90m6 ┄─\u001b[39m %20 = φ (#5 => 0.0, #10 => %23)\u001b[36m::Float64\u001b[39m\n",
       "\u001b[90m│   \u001b[39m %21 = φ (#5 => %15, #10 => %37)\u001b[36m::Float64\u001b[39m\n",
       "\u001b[90m│   \u001b[39m %22 = φ (#5 => %16, #10 => %38)\u001b[36m::Int64\u001b[39m\n",
       "\u001b[90m│   \u001b[39m %23 = Base.add_float(%20, %21)\u001b[36m::Float64\u001b[39m\n",
       "\u001b[90m│   \u001b[39m %24 = Base.bitcast(UInt64, %22)\u001b[36m::UInt64\u001b[39m\n",
       "\u001b[90m│   \u001b[39m %25 = Base.bitcast(UInt64, 1)\u001b[36m::UInt64\u001b[39m\n",
       "\u001b[90m│   \u001b[39m %26 = Base.sub_int(%24, %25)\u001b[36m::UInt64\u001b[39m\n",
       "\u001b[90m│   \u001b[39m %27 = Base.arraylen(a)\u001b[36m::Int64\u001b[39m\n",
       "\u001b[90m│   \u001b[39m %28 = Base.sle_int(0, %27)\u001b[36m::Bool\u001b[39m\n",
       "\u001b[90m│   \u001b[39m %29 = Base.bitcast(UInt64, %27)\u001b[36m::UInt64\u001b[39m\n",
       "\u001b[90m│   \u001b[39m %30 = Base.ult_int(%26, %29)\u001b[36m::Bool\u001b[39m\n",
       "\u001b[90m│   \u001b[39m %31 = Base.and_int(%28, %30)\u001b[36m::Bool\u001b[39m\n",
       "\u001b[90m└───\u001b[39m       goto #8 if not %31\n",
       "\u001b[90m7 ──\u001b[39m %33 = Base.arrayref(false, a, %22)\u001b[36m::Float64\u001b[39m\n",
       "\u001b[90m│   \u001b[39m %34 = Base.add_int(%22, 1)\u001b[36m::Int64\u001b[39m\n",
       "\u001b[90m└───\u001b[39m       goto #9\n",
       "\u001b[90m8 ──\u001b[39m       goto #9\n",
       "\u001b[90m9 ┄─\u001b[39m %37 = φ (#7 => %33)\u001b[36m::Float64\u001b[39m\n",
       "\u001b[90m│   \u001b[39m %38 = φ (#7 => %34)\u001b[36m::Int64\u001b[39m\n",
       "\u001b[90m│   \u001b[39m %39 = φ (#7 => false, #8 => true)\u001b[36m::Bool\u001b[39m\n",
       "\u001b[90m│   \u001b[39m %40 = Base.not_int(%39)\u001b[36m::Bool\u001b[39m\n",
       "\u001b[90m└───\u001b[39m       goto #11 if not %40\n",
       "\u001b[90m10 ─\u001b[39m       goto #6\n",
       "\u001b[90m11 ┄\u001b[39m %43 = φ (#9 => %23, #5 => 0.0)\u001b[36m::Float64\u001b[39m\n",
       "\u001b[90m└───\u001b[39m       return %43\n",
       ") => Float64"
      ]
     },
     "execution_count": 10,
     "metadata": {},
     "output_type": "execute_result"
    }
   ],
   "source": [
    "@code_typed sum_array(a)"
   ]
  },
  {
   "cell_type": "markdown",
   "metadata": {},
   "source": [
    "# Multiple dispatch\n",
    "\n",
    "Custom types are as first-class citizens as built-in's are:\n",
    "\n",
    "In julia, there are no classes, rather \"structs\". They represent types, which are used to dispatch execution of the functions"
   ]
  },
  {
   "cell_type": "code",
   "execution_count": 3,
   "metadata": {},
   "outputs": [],
   "source": [
    "abstract type Geometry end #This creates a type hierarchy\n",
    "\n",
    "mutable struct Point{N<:Number} <: Geometry #Struct point is a child of geometry. We are saying htat X and Y can contain any type, just that it has to be a number\n",
    "    x::N\n",
    "    y::N\n",
    "end"
   ]
  },
  {
   "cell_type": "markdown",
   "metadata": {},
   "source": [
    "Note, that `Point` is a *parametrized* type:"
   ]
  },
  {
   "cell_type": "code",
   "execution_count": 5,
   "metadata": {},
   "outputs": [
    {
     "data": {
      "text/plain": [
       "Point{Int64}(1, 2)"
      ]
     },
     "metadata": {},
     "output_type": "display_data"
    }
   ],
   "source": [
    "Point(1,2)"
   ]
  },
  {
   "cell_type": "code",
   "execution_count": 6,
   "metadata": {},
   "outputs": [
    {
     "data": {
      "text/plain": [
       "Point{Float64}(1.0, 2.0)"
      ]
     },
     "metadata": {},
     "output_type": "display_data"
    }
   ],
   "source": [
    "Point(1., 2.)"
   ]
  },
  {
   "cell_type": "markdown",
   "metadata": {},
   "source": [
    "We can make it look nearly as numbers:"
   ]
  },
  {
   "cell_type": "code",
   "execution_count": 9,
   "metadata": {},
   "outputs": [],
   "source": [
    "import Base: +, -, /, *"
   ]
  },
  {
   "cell_type": "code",
   "execution_count": 10,
   "metadata": {},
   "outputs": [
    {
     "data": {
      "text/plain": [
       "/ (generic function with 107 methods)"
      ]
     },
     "metadata": {},
     "output_type": "display_data"
    }
   ],
   "source": [
    "+(a::Point, b::Point) = Point(a.x + b.x, a.y + b.y) #Define a new method for addition. So whenever we want to add two Points, these two methods will be used.\n",
    "-(a::Point, b::Point) = Point(a.x - b.x, a.y - b.y)\n",
    "/(a::Point, f::Number) = Point(a.x / f, a.y / f)"
   ]
  },
  {
   "cell_type": "code",
   "execution_count": 11,
   "metadata": {},
   "outputs": [
    {
     "data": {
      "text/plain": [
       "Point{Float64}(4.0, 6.0)"
      ]
     },
     "metadata": {},
     "output_type": "display_data"
    }
   ],
   "source": [
    "Point(1., 2.) + Point(3, 4)"
   ]
  },
  {
   "cell_type": "code",
   "execution_count": 12,
   "metadata": {},
   "outputs": [
    {
     "data": {
      "text/plain": [
       "Point{Float64}(-2.0, -2.0)"
      ]
     },
     "metadata": {},
     "output_type": "display_data"
    }
   ],
   "source": [
    "Point(1., 2.) - Point(3, 4)"
   ]
  },
  {
   "cell_type": "code",
   "execution_count": 13,
   "metadata": {},
   "outputs": [
    {
     "data": {
      "text/plain": [
       "Point{Float64}(2.0, 3.0)"
      ]
     },
     "metadata": {},
     "output_type": "display_data"
    }
   ],
   "source": [
    "(Point(1., 2.) + Point(3, 4)) / 2"
   ]
  },
  {
   "cell_type": "markdown",
   "metadata": {},
   "source": [
    "Or create array with it:"
   ]
  },
  {
   "cell_type": "code",
   "execution_count": 19,
   "metadata": {},
   "outputs": [
    {
     "data": {
      "text/plain": [
       "10-element Array{Point{Int64},1}:\n",
       " Point{Int64}(1, 2)\n",
       " Point{Int64}(2, 3)\n",
       " Point{Int64}(3, 4)\n",
       " Point{Int64}(4, 5)\n",
       " Point{Int64}(5, 6)\n",
       " Point{Int64}(6, 7)\n",
       " Point{Int64}(7, 8)\n",
       " Point{Int64}(8, 9)\n",
       " Point{Int64}(9, 10)\n",
       " Point{Int64}(10, 11)"
      ]
     },
     "execution_count": 19,
     "metadata": {},
     "output_type": "execute_result"
    }
   ],
   "source": [
    "[Point(a, a+1) for a in 1:10]"
   ]
  },
  {
   "cell_type": "markdown",
   "metadata": {},
   "source": [
    "Generic programming works nicely:"
   ]
  },
  {
   "cell_type": "code",
   "execution_count": 14,
   "metadata": {},
   "outputs": [
    {
     "data": {
      "text/plain": [
       "Point{Float64}(5.5, 6.5)"
      ]
     },
     "metadata": {},
     "output_type": "display_data"
    }
   ],
   "source": [
    "using Statistics\n",
    "mean([Point(a, a+1) for a in 1:10])"
   ]
  },
  {
   "cell_type": "markdown",
   "metadata": {},
   "source": [
    "Function in Julia have *methods* (i.e. definitions for various type combinations):"
   ]
  },
  {
   "cell_type": "code",
   "execution_count": 15,
   "metadata": {},
   "outputs": [
    {
     "data": {
      "text/html": [
       "# 191 methods for generic function <b>+</b>:<ul><li> +(x::<b>T</b>, y::<b>T</b>)<i> where T<:Union{Int128, Int16, Int32, Int64, Int8, UInt128, UInt16, UInt32, UInt64, UInt8}</i> in Base at <a href=\"https://github.com/JuliaLang/julia/tree/ae8452a9e0b973991c30f27beb2201db1b0ea0d3/base/int.jl#L87\" target=\"_blank\">int.jl:87</a></li> <li> +(c::<b>Union{UInt16, UInt32, UInt8}</b>, x::<b>BigInt</b>) in Base.GMP at <a href=\"https://github.com/JuliaLang/julia/tree/ae8452a9e0b973991c30f27beb2201db1b0ea0d3/base/gmp.jl#L528\" target=\"_blank\">gmp.jl:528</a></li> <li> +(c::<b>Union{Int16, Int32, Int8}</b>, x::<b>BigInt</b>) in Base.GMP at <a href=\"https://github.com/JuliaLang/julia/tree/ae8452a9e0b973991c30f27beb2201db1b0ea0d3/base/gmp.jl#L534\" target=\"_blank\">gmp.jl:534</a></li> <li> +(c::<b>Union{UInt16, UInt32, UInt8}</b>, x::<b>BigFloat</b>) in Base.MPFR at <a href=\"https://github.com/JuliaLang/julia/tree/ae8452a9e0b973991c30f27beb2201db1b0ea0d3/base/mpfr.jl#L376\" target=\"_blank\">mpfr.jl:376</a></li> <li> +(c::<b>Union{Int16, Int32, Int8}</b>, x::<b>BigFloat</b>) in Base.MPFR at <a href=\"https://github.com/JuliaLang/julia/tree/ae8452a9e0b973991c30f27beb2201db1b0ea0d3/base/mpfr.jl#L384\" target=\"_blank\">mpfr.jl:384</a></li> <li> +(c::<b>Union{Float16, Float32, Float64}</b>, x::<b>BigFloat</b>) in Base.MPFR at <a href=\"https://github.com/JuliaLang/julia/tree/ae8452a9e0b973991c30f27beb2201db1b0ea0d3/base/mpfr.jl#L392\" target=\"_blank\">mpfr.jl:392</a></li> <li> +(x::<b>Union{Dates.CompoundPeriod, Dates.Period}</b>) in Dates at <a href=\"file://C:/buildbot/worker/package_win64/build/usr/share/julia/stdlib/v1.6/Dates/src/periods.jl\" target=\"_blank\">C:\\Users\\sfrie\\AppData\\Local\\Programs\\Julia-1.6.3\\share\\julia\\stdlib\\v1.6\\Dates\\src\\periods.jl:362</a></li> <li> +(A::<b>LinearAlgebra.Tridiagonal</b>, B::<b>LinearAlgebra.Tridiagonal</b>) in LinearAlgebra at <a href=\"file://C:/buildbot/worker/package_win64/build/usr/share/julia/stdlib/v1.6/LinearAlgebra/src/tridiag.jl\" target=\"_blank\">C:\\Users\\sfrie\\AppData\\Local\\Programs\\Julia-1.6.3\\share\\julia\\stdlib\\v1.6\\LinearAlgebra\\src\\tridiag.jl:733</a></li> <li> +(A::<b>LinearAlgebra.Tridiagonal</b>, B::<b>LinearAlgebra.SymTridiagonal</b>) in LinearAlgebra at <a href=\"file://C:/buildbot/worker/package_win64/build/usr/share/julia/stdlib/v1.6/LinearAlgebra/src/special.jl\" target=\"_blank\">C:\\Users\\sfrie\\AppData\\Local\\Programs\\Julia-1.6.3\\share\\julia\\stdlib\\v1.6\\LinearAlgebra\\src\\special.jl:157</a></li> <li> +(A::<b>LinearAlgebra.Tridiagonal</b>, B::<b>LinearAlgebra.Diagonal</b>) in LinearAlgebra at <a href=\"file://C:/buildbot/worker/package_win64/build/usr/share/julia/stdlib/v1.6/LinearAlgebra/src/special.jl\" target=\"_blank\">C:\\Users\\sfrie\\AppData\\Local\\Programs\\Julia-1.6.3\\share\\julia\\stdlib\\v1.6\\LinearAlgebra\\src\\special.jl:173</a></li> <li> +(A::<b>LinearAlgebra.Tridiagonal</b>, B::<b>LinearAlgebra.Bidiagonal</b>) in LinearAlgebra at <a href=\"file://C:/buildbot/worker/package_win64/build/usr/share/julia/stdlib/v1.6/LinearAlgebra/src/special.jl\" target=\"_blank\">C:\\Users\\sfrie\\AppData\\Local\\Programs\\Julia-1.6.3\\share\\julia\\stdlib\\v1.6\\LinearAlgebra\\src\\special.jl:193</a></li> <li> +(A::<b>LinearAlgebra.Tridiagonal{var\"#s814\", V} where {var\"#s814\"<:Number, V<:AbstractVector{var\"#s814\"}}</b>, B::<b>LinearAlgebra.UniformScaling</b>) in LinearAlgebra at <a href=\"file://C:/buildbot/worker/package_win64/build/usr/share/julia/stdlib/v1.6/LinearAlgebra/src/special.jl\" target=\"_blank\">C:\\Users\\sfrie\\AppData\\Local\\Programs\\Julia-1.6.3\\share\\julia\\stdlib\\v1.6\\LinearAlgebra\\src\\special.jl:226</a></li> <li> +(A::<b>LinearAlgebra.Hermitian</b>, B::<b>LinearAlgebra.Hermitian</b>) in LinearAlgebra at <a href=\"file://C:/buildbot/worker/package_win64/build/usr/share/julia/stdlib/v1.6/LinearAlgebra/src/symmetric.jl\" target=\"_blank\">C:\\Users\\sfrie\\AppData\\Local\\Programs\\Julia-1.6.3\\share\\julia\\stdlib\\v1.6\\LinearAlgebra\\src\\symmetric.jl:469</a></li> <li> +(H::<b>LinearAlgebra.Hermitian</b>, D::<b>LinearAlgebra.Diagonal{var\"#s814\", V} where {var\"#s814\"<:Real, V<:AbstractVector{var\"#s814\"}}</b>) in LinearAlgebra at <a href=\"file://C:/buildbot/worker/package_win64/build/usr/share/julia/stdlib/v1.6/LinearAlgebra/src/diagonal.jl\" target=\"_blank\">C:\\Users\\sfrie\\AppData\\Local\\Programs\\Julia-1.6.3\\share\\julia\\stdlib\\v1.6\\LinearAlgebra\\src\\diagonal.jl:169</a></li> <li> +(A::<b>LinearAlgebra.Hermitian</b>, J::<b>LinearAlgebra.UniformScaling{var\"#s814\"} where var\"#s814\"<:Complex</b>) in LinearAlgebra at <a href=\"file://C:/buildbot/worker/package_win64/build/usr/share/julia/stdlib/v1.6/LinearAlgebra/src/uniformscaling.jl\" target=\"_blank\">C:\\Users\\sfrie\\AppData\\Local\\Programs\\Julia-1.6.3\\share\\julia\\stdlib\\v1.6\\LinearAlgebra\\src\\uniformscaling.jl:196</a></li> <li> +(A::<b>LinearAlgebra.Hermitian{var\"#s812\", var\"#s811\"} where {var\"#s812\", var\"#s811\"<:(SparseArrays.AbstractSparseMatrix{Tv, Ti} where {Tv, Ti})}</b>, B::<b>SparseArrays.AbstractSparseMatrix{Tv, Ti} where {Tv, Ti}</b>) in SparseArrays at <a href=\"file://C:/buildbot/worker/package_win64/build/usr/share/julia/stdlib/v1.6/SparseArrays/src/linalg.jl\" target=\"_blank\">C:\\Users\\sfrie\\AppData\\Local\\Programs\\Julia-1.6.3\\share\\julia\\stdlib\\v1.6\\SparseArrays\\src\\linalg.jl:15</a></li> <li> +(A::<b>LinearAlgebra.Hermitian</b>, B::<b>SparseArrays.AbstractSparseMatrix{Tv, Ti} where {Tv, Ti}</b>) in SparseArrays at <a href=\"file://C:/buildbot/worker/package_win64/build/usr/share/julia/stdlib/v1.6/SparseArrays/src/linalg.jl\" target=\"_blank\">C:\\Users\\sfrie\\AppData\\Local\\Programs\\Julia-1.6.3\\share\\julia\\stdlib\\v1.6\\SparseArrays\\src\\linalg.jl:18</a></li> <li> +(A::<b>LinearAlgebra.Hermitian{var\"#s802\", var\"#s801\"} where {var\"#s802\", var\"#s801\"<:(SparseArrays.AbstractSparseMatrix{Tv, Ti} where {Tv, Ti})}</b>, B::<b>LinearAlgebra.Symmetric{var\"#s800\", var\"#s799\"} where {var\"#s800\"<:Real, var\"#s799\"<:(SparseArrays.AbstractSparseMatrix{Tv, Ti} where {Tv, Ti})}</b>) in SparseArrays at <a href=\"file://C:/buildbot/worker/package_win64/build/usr/share/julia/stdlib/v1.6/SparseArrays/src/linalg.jl\" target=\"_blank\">C:\\Users\\sfrie\\AppData\\Local\\Programs\\Julia-1.6.3\\share\\julia\\stdlib\\v1.6\\SparseArrays\\src\\linalg.jl:26</a></li> <li> +(A::<b>LinearAlgebra.Hermitian</b>, B::<b>LinearAlgebra.Symmetric{var\"#s814\", S} where {var\"#s814\"<:Real, S<:(AbstractMatrix{var\"#s814\"} where var\"#s814\"<:var\"#s814\")}</b>) in LinearAlgebra at <a href=\"file://C:/buildbot/worker/package_win64/build/usr/share/julia/stdlib/v1.6/LinearAlgebra/src/symmetric.jl\" target=\"_blank\">C:\\Users\\sfrie\\AppData\\Local\\Programs\\Julia-1.6.3\\share\\julia\\stdlib\\v1.6\\LinearAlgebra\\src\\symmetric.jl:483</a></li> <li> +(A::<b>LinearAlgebra.Hermitian{var\"#s810\", var\"#s809\"} where {var\"#s810\", var\"#s809\"<:(SparseArrays.AbstractSparseMatrix{Tv, Ti} where {Tv, Ti})}</b>, B::<b>LinearAlgebra.Symmetric{var\"#s808\", var\"#s807\"} where {var\"#s808\", var\"#s807\"<:(SparseArrays.AbstractSparseMatrix{Tv, Ti} where {Tv, Ti})}</b>) in SparseArrays at <a href=\"file://C:/buildbot/worker/package_win64/build/usr/share/julia/stdlib/v1.6/SparseArrays/src/linalg.jl\" target=\"_blank\">C:\\Users\\sfrie\\AppData\\Local\\Programs\\Julia-1.6.3\\share\\julia\\stdlib\\v1.6\\SparseArrays\\src\\linalg.jl:24</a></li> <li> +(x::<b>T</b>, y::<b>Integer</b>)<i> where T<:AbstractChar</i> in Base at <a href=\"https://github.com/JuliaLang/julia/tree/ae8452a9e0b973991c30f27beb2201db1b0ea0d3/base/char.jl#L223\" target=\"_blank\">char.jl:223</a></li> <li> +(A::<b>LinearAlgebra.Symmetric</b>, B::<b>LinearAlgebra.Symmetric</b>) in LinearAlgebra at <a href=\"file://C:/buildbot/worker/package_win64/build/usr/share/julia/stdlib/v1.6/LinearAlgebra/src/symmetric.jl\" target=\"_blank\">C:\\Users\\sfrie\\AppData\\Local\\Programs\\Julia-1.6.3\\share\\julia\\stdlib\\v1.6\\LinearAlgebra\\src\\symmetric.jl:469</a></li> <li> +(S::<b>LinearAlgebra.Symmetric</b>, D::<b>LinearAlgebra.Diagonal</b>) in LinearAlgebra at <a href=\"file://C:/buildbot/worker/package_win64/build/usr/share/julia/stdlib/v1.6/LinearAlgebra/src/diagonal.jl\" target=\"_blank\">C:\\Users\\sfrie\\AppData\\Local\\Programs\\Julia-1.6.3\\share\\julia\\stdlib\\v1.6\\LinearAlgebra\\src\\diagonal.jl:163</a></li> <li> +(A::<b>LinearAlgebra.Symmetric{var\"#s812\", var\"#s811\"} where {var\"#s812\", var\"#s811\"<:(SparseArrays.AbstractSparseMatrix{Tv, Ti} where {Tv, Ti})}</b>, B::<b>SparseArrays.AbstractSparseMatrix{Tv, Ti} where {Tv, Ti}</b>) in SparseArrays at <a href=\"file://C:/buildbot/worker/package_win64/build/usr/share/julia/stdlib/v1.6/SparseArrays/src/linalg.jl\" target=\"_blank\">C:\\Users\\sfrie\\AppData\\Local\\Programs\\Julia-1.6.3\\share\\julia\\stdlib\\v1.6\\SparseArrays\\src\\linalg.jl:15</a></li> <li> +(A::<b>LinearAlgebra.Symmetric</b>, B::<b>SparseArrays.AbstractSparseMatrix{Tv, Ti} where {Tv, Ti}</b>) in SparseArrays at <a href=\"file://C:/buildbot/worker/package_win64/build/usr/share/julia/stdlib/v1.6/SparseArrays/src/linalg.jl\" target=\"_blank\">C:\\Users\\sfrie\\AppData\\Local\\Programs\\Julia-1.6.3\\share\\julia\\stdlib\\v1.6\\SparseArrays\\src\\linalg.jl:18</a></li> <li> +(A::<b>LinearAlgebra.Symmetric{var\"#s806\", var\"#s805\"} where {var\"#s806\"<:Real, var\"#s805\"<:(SparseArrays.AbstractSparseMatrix{Tv, Ti} where {Tv, Ti})}</b>, B::<b>LinearAlgebra.Hermitian{var\"#s804\", var\"#s803\"} where {var\"#s804\", var\"#s803\"<:(SparseArrays.AbstractSparseMatrix{Tv, Ti} where {Tv, Ti})}</b>) in SparseArrays at <a href=\"file://C:/buildbot/worker/package_win64/build/usr/share/julia/stdlib/v1.6/SparseArrays/src/linalg.jl\" target=\"_blank\">C:\\Users\\sfrie\\AppData\\Local\\Programs\\Julia-1.6.3\\share\\julia\\stdlib\\v1.6\\SparseArrays\\src\\linalg.jl:25</a></li> <li> +(A::<b>LinearAlgebra.Symmetric{var\"#s813\", S} where {var\"#s813\"<:Real, S<:(AbstractMatrix{var\"#s814\"} where var\"#s814\"<:var\"#s813\")}</b>, B::<b>LinearAlgebra.Hermitian</b>) in LinearAlgebra at <a href=\"file://C:/buildbot/worker/package_win64/build/usr/share/julia/stdlib/v1.6/LinearAlgebra/src/symmetric.jl\" target=\"_blank\">C:\\Users\\sfrie\\AppData\\Local\\Programs\\Julia-1.6.3\\share\\julia\\stdlib\\v1.6\\LinearAlgebra\\src\\symmetric.jl:484</a></li> <li> +(A::<b>LinearAlgebra.Symmetric{var\"#s814\", var\"#s813\"} where {var\"#s814\", var\"#s813\"<:(SparseArrays.AbstractSparseMatrix{Tv, Ti} where {Tv, Ti})}</b>, B::<b>LinearAlgebra.Hermitian{var\"#s812\", var\"#s811\"} where {var\"#s812\", var\"#s811\"<:(SparseArrays.AbstractSparseMatrix{Tv, Ti} where {Tv, Ti})}</b>) in SparseArrays at <a href=\"file://C:/buildbot/worker/package_win64/build/usr/share/julia/stdlib/v1.6/SparseArrays/src/linalg.jl\" target=\"_blank\">C:\\Users\\sfrie\\AppData\\Local\\Programs\\Julia-1.6.3\\share\\julia\\stdlib\\v1.6\\SparseArrays\\src\\linalg.jl:23</a></li> <li> +(x::<b>P</b>, y::<b>P</b>)<i> where P<:Dates.Period</i> in Dates at <a href=\"file://C:/buildbot/worker/package_win64/build/usr/share/julia/stdlib/v1.6/Dates/src/periods.jl\" target=\"_blank\">C:\\Users\\sfrie\\AppData\\Local\\Programs\\Julia-1.6.3\\share\\julia\\stdlib\\v1.6\\Dates\\src\\periods.jl:79</a></li> <li> +(x::<b>Dates.Period</b>, y::<b>Dates.Period</b>) in Dates at <a href=\"file://C:/buildbot/worker/package_win64/build/usr/share/julia/stdlib/v1.6/Dates/src/periods.jl\" target=\"_blank\">C:\\Users\\sfrie\\AppData\\Local\\Programs\\Julia-1.6.3\\share\\julia\\stdlib\\v1.6\\Dates\\src\\periods.jl:351</a></li> <li> +(y::<b>Dates.Period</b>, x::<b>Dates.CompoundPeriod</b>) in Dates at <a href=\"file://C:/buildbot/worker/package_win64/build/usr/share/julia/stdlib/v1.6/Dates/src/periods.jl\" target=\"_blank\">C:\\Users\\sfrie\\AppData\\Local\\Programs\\Julia-1.6.3\\share\\julia\\stdlib\\v1.6\\Dates\\src\\periods.jl:353</a></li> <li> +(y::<b>Dates.Period</b>, x::<b>Dates.TimeType</b>) in Dates at <a href=\"file://C:/buildbot/worker/package_win64/build/usr/share/julia/stdlib/v1.6/Dates/src/arithmetic.jl\" target=\"_blank\">C:\\Users\\sfrie\\AppData\\Local\\Programs\\Julia-1.6.3\\share\\julia\\stdlib\\v1.6\\Dates\\src\\arithmetic.jl:85</a></li> <li> +(x::<b>Dates.Period</b>, r::<b>AbstractRange{var\"#s814\"} where var\"#s814\"<:Dates.TimeType</b>) in Dates at <a href=\"file://C:/buildbot/worker/package_win64/build/usr/share/julia/stdlib/v1.6/Dates/src/ranges.jl\" target=\"_blank\">C:\\Users\\sfrie\\AppData\\Local\\Programs\\Julia-1.6.3\\share\\julia\\stdlib\\v1.6\\Dates\\src\\ranges.jl:62</a></li> <li> +(y::<b>Union{Dates.CompoundPeriod, Dates.Period}</b>, x::<b>AbstractArray{var\"#s814\", N} where {var\"#s814\"<:Dates.TimeType, N}</b>) in Dates at <a href=\"file://C:/buildbot/worker/package_win64/build/usr/share/julia/stdlib/v1.6/Dates/src/deprecated.jl\" target=\"_blank\">C:\\Users\\sfrie\\AppData\\Local\\Programs\\Julia-1.6.3\\share\\julia\\stdlib\\v1.6\\Dates\\src\\deprecated.jl:14</a></li> <li> +(x::<b>AbstractIrrational</b>, y::<b>AbstractIrrational</b>) in Base at <a href=\"https://github.com/JuliaLang/julia/tree/ae8452a9e0b973991c30f27beb2201db1b0ea0d3/base/irrationals.jl#L156\" target=\"_blank\">irrationals.jl:156</a></li> <li> +(A::<b>LinearAlgebra.UpperHessenberg</b>, B::<b>LinearAlgebra.UpperHessenberg</b>) in LinearAlgebra at <a href=\"file://C:/buildbot/worker/package_win64/build/usr/share/julia/stdlib/v1.6/LinearAlgebra/src/hessenberg.jl\" target=\"_blank\">C:\\Users\\sfrie\\AppData\\Local\\Programs\\Julia-1.6.3\\share\\julia\\stdlib\\v1.6\\LinearAlgebra\\src\\hessenberg.jl:101</a></li> <li> +(H::<b>LinearAlgebra.UpperHessenberg</b>, J::<b>LinearAlgebra.UniformScaling</b>) in LinearAlgebra at <a href=\"file://C:/buildbot/worker/package_win64/build/usr/share/julia/stdlib/v1.6/LinearAlgebra/src/hessenberg.jl\" target=\"_blank\">C:\\Users\\sfrie\\AppData\\Local\\Programs\\Julia-1.6.3\\share\\julia\\stdlib\\v1.6\\LinearAlgebra\\src\\hessenberg.jl:106</a></li> <li> +(A::<b>LinearAlgebra.Bidiagonal</b>, B::<b>LinearAlgebra.Bidiagonal</b>) in LinearAlgebra at <a href=\"file://C:/buildbot/worker/package_win64/build/usr/share/julia/stdlib/v1.6/LinearAlgebra/src/bidiag.jl\" target=\"_blank\">C:\\Users\\sfrie\\AppData\\Local\\Programs\\Julia-1.6.3\\share\\julia\\stdlib\\v1.6\\LinearAlgebra\\src\\bidiag.jl:354</a></li> <li> +(A::<b>LinearAlgebra.Bidiagonal</b>, B::<b>LinearAlgebra.UpperTriangular</b>) in LinearAlgebra at <a href=\"file://C:/buildbot/worker/package_win64/build/usr/share/julia/stdlib/v1.6/LinearAlgebra/src/special.jl\" target=\"_blank\">C:\\Users\\sfrie\\AppData\\Local\\Programs\\Julia-1.6.3\\share\\julia\\stdlib\\v1.6\\LinearAlgebra\\src\\special.jl:94</a></li> <li> +(A::<b>LinearAlgebra.Bidiagonal</b>, B::<b>LinearAlgebra.UnitUpperTriangular</b>) in LinearAlgebra at <a href=\"file://C:/buildbot/worker/package_win64/build/usr/share/julia/stdlib/v1.6/LinearAlgebra/src/special.jl\" target=\"_blank\">C:\\Users\\sfrie\\AppData\\Local\\Programs\\Julia-1.6.3\\share\\julia\\stdlib\\v1.6\\LinearAlgebra\\src\\special.jl:94</a></li> <li> +(A::<b>LinearAlgebra.Bidiagonal</b>, B::<b>LinearAlgebra.LowerTriangular</b>) in LinearAlgebra at <a href=\"file://C:/buildbot/worker/package_win64/build/usr/share/julia/stdlib/v1.6/LinearAlgebra/src/special.jl\" target=\"_blank\">C:\\Users\\sfrie\\AppData\\Local\\Programs\\Julia-1.6.3\\share\\julia\\stdlib\\v1.6\\LinearAlgebra\\src\\special.jl:94</a></li> <li> +(A::<b>LinearAlgebra.Bidiagonal</b>, B::<b>LinearAlgebra.UnitLowerTriangular</b>) in LinearAlgebra at <a href=\"file://C:/buildbot/worker/package_win64/build/usr/share/julia/stdlib/v1.6/LinearAlgebra/src/special.jl\" target=\"_blank\">C:\\Users\\sfrie\\AppData\\Local\\Programs\\Julia-1.6.3\\share\\julia\\stdlib\\v1.6\\LinearAlgebra\\src\\special.jl:94</a></li> <li> +(A::<b>LinearAlgebra.Bidiagonal</b>, B::<b>LinearAlgebra.Diagonal</b>) in LinearAlgebra at <a href=\"file://C:/buildbot/worker/package_win64/build/usr/share/julia/stdlib/v1.6/LinearAlgebra/src/special.jl\" target=\"_blank\">C:\\Users\\sfrie\\AppData\\Local\\Programs\\Julia-1.6.3\\share\\julia\\stdlib\\v1.6\\LinearAlgebra\\src\\special.jl:115</a></li> <li> +(A::<b>LinearAlgebra.Bidiagonal</b>, B::<b>LinearAlgebra.Tridiagonal</b>) in LinearAlgebra at <a href=\"file://C:/buildbot/worker/package_win64/build/usr/share/julia/stdlib/v1.6/LinearAlgebra/src/special.jl\" target=\"_blank\">C:\\Users\\sfrie\\AppData\\Local\\Programs\\Julia-1.6.3\\share\\julia\\stdlib\\v1.6\\LinearAlgebra\\src\\special.jl:183</a></li> <li> +(A::<b>LinearAlgebra.Bidiagonal</b>, B::<b>LinearAlgebra.SymTridiagonal</b>) in LinearAlgebra at <a href=\"file://C:/buildbot/worker/package_win64/build/usr/share/julia/stdlib/v1.6/LinearAlgebra/src/special.jl\" target=\"_blank\">C:\\Users\\sfrie\\AppData\\Local\\Programs\\Julia-1.6.3\\share\\julia\\stdlib\\v1.6\\LinearAlgebra\\src\\special.jl:203</a></li> <li> +(A::<b>LinearAlgebra.Bidiagonal{var\"#s814\", V} where {var\"#s814\"<:Number, V<:AbstractVector{var\"#s814\"}}</b>, B::<b>LinearAlgebra.UniformScaling</b>) in LinearAlgebra at <a href=\"file://C:/buildbot/worker/package_win64/build/usr/share/julia/stdlib/v1.6/LinearAlgebra/src/special.jl\" target=\"_blank\">C:\\Users\\sfrie\\AppData\\Local\\Programs\\Julia-1.6.3\\share\\julia\\stdlib\\v1.6\\LinearAlgebra\\src\\special.jl:236</a></li> <li> +(A::<b>LinearAlgebra.SymTridiagonal</b>, B::<b>LinearAlgebra.SymTridiagonal</b>) in LinearAlgebra at <a href=\"file://C:/buildbot/worker/package_win64/build/usr/share/julia/stdlib/v1.6/LinearAlgebra/src/tridiag.jl\" target=\"_blank\">C:\\Users\\sfrie\\AppData\\Local\\Programs\\Julia-1.6.3\\share\\julia\\stdlib\\v1.6\\LinearAlgebra\\src\\tridiag.jl:205</a></li> <li> +(A::<b>LinearAlgebra.SymTridiagonal</b>, B::<b>LinearAlgebra.Diagonal</b>) in LinearAlgebra at <a href=\"file://C:/buildbot/worker/package_win64/build/usr/share/julia/stdlib/v1.6/LinearAlgebra/src/special.jl\" target=\"_blank\">C:\\Users\\sfrie\\AppData\\Local\\Programs\\Julia-1.6.3\\share\\julia\\stdlib\\v1.6\\LinearAlgebra\\src\\special.jl:145</a></li> <li> +(A::<b>LinearAlgebra.SymTridiagonal</b>, B::<b>LinearAlgebra.Tridiagonal</b>) in LinearAlgebra at <a href=\"file://C:/buildbot/worker/package_win64/build/usr/share/julia/stdlib/v1.6/LinearAlgebra/src/special.jl\" target=\"_blank\">C:\\Users\\sfrie\\AppData\\Local\\Programs\\Julia-1.6.3\\share\\julia\\stdlib\\v1.6\\LinearAlgebra\\src\\special.jl:159</a></li> <li> +(A::<b>LinearAlgebra.SymTridiagonal</b>, B::<b>LinearAlgebra.Bidiagonal</b>) in LinearAlgebra at <a href=\"file://C:/buildbot/worker/package_win64/build/usr/share/julia/stdlib/v1.6/LinearAlgebra/src/special.jl\" target=\"_blank\">C:\\Users\\sfrie\\AppData\\Local\\Programs\\Julia-1.6.3\\share\\julia\\stdlib\\v1.6\\LinearAlgebra\\src\\special.jl:213</a></li> <li> +(A::<b>LinearAlgebra.SymTridiagonal{var\"#s814\", V} where {var\"#s814\"<:Number, V<:AbstractVector{var\"#s814\"}}</b>, B::<b>LinearAlgebra.UniformScaling</b>) in LinearAlgebra at <a href=\"file://C:/buildbot/worker/package_win64/build/usr/share/julia/stdlib/v1.6/LinearAlgebra/src/special.jl\" target=\"_blank\">C:\\Users\\sfrie\\AppData\\Local\\Programs\\Julia-1.6.3\\share\\julia\\stdlib\\v1.6\\LinearAlgebra\\src\\special.jl:231</a></li> <li> +(y::<b>AbstractFloat</b>, x::<b>Bool</b>) in Base at <a href=\"https://github.com/JuliaLang/julia/tree/ae8452a9e0b973991c30f27beb2201db1b0ea0d3/base/bool.jl#L102\" target=\"_blank\">bool.jl:102</a></li> <li> +(Da::<b>LinearAlgebra.Diagonal</b>, Db::<b>LinearAlgebra.Diagonal</b>) in LinearAlgebra at <a href=\"file://C:/buildbot/worker/package_win64/build/usr/share/julia/stdlib/v1.6/LinearAlgebra/src/diagonal.jl\" target=\"_blank\">C:\\Users\\sfrie\\AppData\\Local\\Programs\\Julia-1.6.3\\share\\julia\\stdlib\\v1.6\\LinearAlgebra\\src\\diagonal.jl:156</a></li> <li> +(D::<b>LinearAlgebra.Diagonal</b>, S::<b>LinearAlgebra.Symmetric</b>) in LinearAlgebra at <a href=\"file://C:/buildbot/worker/package_win64/build/usr/share/julia/stdlib/v1.6/LinearAlgebra/src/diagonal.jl\" target=\"_blank\">C:\\Users\\sfrie\\AppData\\Local\\Programs\\Julia-1.6.3\\share\\julia\\stdlib\\v1.6\\LinearAlgebra\\src\\diagonal.jl:160</a></li> <li> +(D::<b>LinearAlgebra.Diagonal{var\"#s814\", V} where {var\"#s814\"<:Real, V<:AbstractVector{var\"#s814\"}}</b>, H::<b>LinearAlgebra.Hermitian</b>) in LinearAlgebra at <a href=\"file://C:/buildbot/worker/package_win64/build/usr/share/julia/stdlib/v1.6/LinearAlgebra/src/diagonal.jl\" target=\"_blank\">C:\\Users\\sfrie\\AppData\\Local\\Programs\\Julia-1.6.3\\share\\julia\\stdlib\\v1.6\\LinearAlgebra\\src\\diagonal.jl:166</a></li> <li> +(A::<b>LinearAlgebra.Diagonal</b>, B::<b>LinearAlgebra.Bidiagonal</b>) in LinearAlgebra at <a href=\"file://C:/buildbot/worker/package_win64/build/usr/share/julia/stdlib/v1.6/LinearAlgebra/src/special.jl\" target=\"_blank\">C:\\Users\\sfrie\\AppData\\Local\\Programs\\Julia-1.6.3\\share\\julia\\stdlib\\v1.6\\LinearAlgebra\\src\\special.jl:125</a></li> <li> +(A::<b>LinearAlgebra.Diagonal</b>, B::<b>LinearAlgebra.SymTridiagonal</b>) in LinearAlgebra at <a href=\"file://C:/buildbot/worker/package_win64/build/usr/share/julia/stdlib/v1.6/LinearAlgebra/src/special.jl\" target=\"_blank\">C:\\Users\\sfrie\\AppData\\Local\\Programs\\Julia-1.6.3\\share\\julia\\stdlib\\v1.6\\LinearAlgebra\\src\\special.jl:135</a></li> <li> +(A::<b>LinearAlgebra.Diagonal</b>, B::<b>LinearAlgebra.Tridiagonal</b>) in LinearAlgebra at <a href=\"file://C:/buildbot/worker/package_win64/build/usr/share/julia/stdlib/v1.6/LinearAlgebra/src/special.jl\" target=\"_blank\">C:\\Users\\sfrie\\AppData\\Local\\Programs\\Julia-1.6.3\\share\\julia\\stdlib\\v1.6\\LinearAlgebra\\src\\special.jl:163</a></li> <li> +(A::<b>LinearAlgebra.Diagonal{var\"#s814\", V} where {var\"#s814\"<:Number, V<:AbstractVector{var\"#s814\"}}</b>, B::<b>LinearAlgebra.UniformScaling</b>) in LinearAlgebra at <a href=\"file://C:/buildbot/worker/package_win64/build/usr/share/julia/stdlib/v1.6/LinearAlgebra/src/special.jl\" target=\"_blank\">C:\\Users\\sfrie\\AppData\\Local\\Programs\\Julia-1.6.3\\share\\julia\\stdlib\\v1.6\\LinearAlgebra\\src\\special.jl:241</a></li> <li> +(index1::<b>CartesianIndex{N}</b>, index2::<b>CartesianIndex{N}</b>)<i> where N</i> in Base.IteratorsMD at <a href=\"https://github.com/JuliaLang/julia/tree/ae8452a9e0b973991c30f27beb2201db1b0ea0d3/base/multidimensional.jl#L114\" target=\"_blank\">multidimensional.jl:114</a></li> <li> +(r1::<b>OrdinalRange</b>, r2::<b>OrdinalRange</b>) in Base at <a href=\"https://github.com/JuliaLang/julia/tree/ae8452a9e0b973991c30f27beb2201db1b0ea0d3/base/range.jl#L1103\" target=\"_blank\">range.jl:1103</a></li> <li> +(A::<b>SparseArrays.AbstractSparseMatrixCSC</b>, B::<b>SparseArrays.AbstractSparseMatrixCSC</b>) in SparseArrays at <a href=\"file://C:/buildbot/worker/package_win64/build/usr/share/julia/stdlib/v1.6/SparseArrays/src/sparsematrix.jl\" target=\"_blank\">C:\\Users\\sfrie\\AppData\\Local\\Programs\\Julia-1.6.3\\share\\julia\\stdlib\\v1.6\\SparseArrays\\src\\sparsematrix.jl:1741</a></li> <li> +(A::<b>SparseArrays.AbstractSparseMatrixCSC</b>, B::<b>Array</b>) in SparseArrays at <a href=\"file://C:/buildbot/worker/package_win64/build/usr/share/julia/stdlib/v1.6/SparseArrays/src/sparsematrix.jl\" target=\"_blank\">C:\\Users\\sfrie\\AppData\\Local\\Programs\\Julia-1.6.3\\share\\julia\\stdlib\\v1.6\\SparseArrays\\src\\sparsematrix.jl:1744</a></li> <li> +(A::<b>SparseArrays.AbstractSparseMatrixCSC</b>, J::<b>LinearAlgebra.UniformScaling</b>) in SparseArrays at <a href=\"file://C:/buildbot/worker/package_win64/build/usr/share/julia/stdlib/v1.6/SparseArrays/src/sparsematrix.jl\" target=\"_blank\">C:\\Users\\sfrie\\AppData\\Local\\Programs\\Julia-1.6.3\\share\\julia\\stdlib\\v1.6\\SparseArrays\\src\\sparsematrix.jl:3797</a></li> <li> +(F::<b>LinearAlgebra.Hessenberg</b>, J::<b>LinearAlgebra.UniformScaling</b>) in LinearAlgebra at <a href=\"file://C:/buildbot/worker/package_win64/build/usr/share/julia/stdlib/v1.6/LinearAlgebra/src/hessenberg.jl\" target=\"_blank\">C:\\Users\\sfrie\\AppData\\Local\\Programs\\Julia-1.6.3\\share\\julia\\stdlib\\v1.6\\LinearAlgebra\\src\\hessenberg.jl:559</a></li> <li> +(x::<b>Rational</b>, y::<b>Integer</b>) in Base at <a href=\"https://github.com/JuliaLang/julia/tree/ae8452a9e0b973991c30f27beb2201db1b0ea0d3/base/rational.jl#L289\" target=\"_blank\">rational.jl:289</a></li> <li> +(z::<b>Complex</b>, w::<b>Complex</b>) in Base at <a href=\"https://github.com/JuliaLang/julia/tree/ae8452a9e0b973991c30f27beb2201db1b0ea0d3/base/complex.jl#L275\" target=\"_blank\">complex.jl:275</a></li> <li> +(x::<b>Dates.Instant</b>) in Dates at <a href=\"file://C:/buildbot/worker/package_win64/build/usr/share/julia/stdlib/v1.6/Dates/src/arithmetic.jl\" target=\"_blank\">C:\\Users\\sfrie\\AppData\\Local\\Programs\\Julia-1.6.3\\share\\julia\\stdlib\\v1.6\\Dates\\src\\arithmetic.jl:4</a></li> <li> +(A::<b>Array</b>, Bs::<b>Array...</b>) in Base at <a href=\"https://github.com/JuliaLang/julia/tree/ae8452a9e0b973991c30f27beb2201db1b0ea0d3/base/arraymath.jl#L43\" target=\"_blank\">arraymath.jl:43</a></li> <li> +(X::<b>StridedArray{var\"#s814\", N} where {var\"#s814\"<:Union{Dates.CompoundPeriod, Dates.Period}, N}</b>, Y::<b>StridedArray{var\"#s813\", N} where {var\"#s813\"<:Union{Dates.CompoundPeriod, Dates.Period}, N}</b>) in Dates at <a href=\"file://C:/buildbot/worker/package_win64/build/usr/share/julia/stdlib/v1.6/Dates/src/deprecated.jl\" target=\"_blank\">C:\\Users\\sfrie\\AppData\\Local\\Programs\\Julia-1.6.3\\share\\julia\\stdlib\\v1.6\\Dates\\src\\deprecated.jl:62</a></li> <li> +(A::<b>Array</b>, B::<b>SparseArrays.AbstractSparseMatrixCSC</b>) in SparseArrays at <a href=\"file://C:/buildbot/worker/package_win64/build/usr/share/julia/stdlib/v1.6/SparseArrays/src/sparsematrix.jl\" target=\"_blank\">C:\\Users\\sfrie\\AppData\\Local\\Programs\\Julia-1.6.3\\share\\julia\\stdlib\\v1.6\\SparseArrays\\src\\sparsematrix.jl:1745</a></li> <li> +(x::<b>StridedArray{var\"#s814\", N} where {var\"#s814\"<:Union{Dates.CompoundPeriod, Dates.Period}, N}</b>) in Dates at <a href=\"file://C:/buildbot/worker/package_win64/build/usr/share/julia/stdlib/v1.6/Dates/src/deprecated.jl\" target=\"_blank\">C:\\Users\\sfrie\\AppData\\Local\\Programs\\Julia-1.6.3\\share\\julia\\stdlib\\v1.6\\Dates\\src\\deprecated.jl:55</a></li> <li> +(x::<b>StridedArray{var\"#s814\", N} where {var\"#s814\"<:Union{Dates.CompoundPeriod, Dates.Period}, N}</b>, y::<b>Dates.TimeType</b>) in Dates at <a href=\"file://C:/buildbot/worker/package_win64/build/usr/share/julia/stdlib/v1.6/Dates/src/deprecated.jl\" target=\"_blank\">C:\\Users\\sfrie\\AppData\\Local\\Programs\\Julia-1.6.3\\share\\julia\\stdlib\\v1.6\\Dates\\src\\deprecated.jl:10</a></li> <li> +(A::<b>LinearAlgebra.LowerTriangular</b>, B::<b>LinearAlgebra.LowerTriangular</b>) in LinearAlgebra at <a href=\"file://C:/buildbot/worker/package_win64/build/usr/share/julia/stdlib/v1.6/LinearAlgebra/src/triangular.jl\" target=\"_blank\">C:\\Users\\sfrie\\AppData\\Local\\Programs\\Julia-1.6.3\\share\\julia\\stdlib\\v1.6\\LinearAlgebra\\src\\triangular.jl:649</a></li> <li> +(A::<b>LinearAlgebra.LowerTriangular</b>, B::<b>LinearAlgebra.UnitLowerTriangular</b>) in LinearAlgebra at <a href=\"file://C:/buildbot/worker/package_win64/build/usr/share/julia/stdlib/v1.6/LinearAlgebra/src/triangular.jl\" target=\"_blank\">C:\\Users\\sfrie\\AppData\\Local\\Programs\\Julia-1.6.3\\share\\julia\\stdlib\\v1.6\\LinearAlgebra\\src\\triangular.jl:651</a></li> <li> +(A::<b>LinearAlgebra.LowerTriangular</b>, B::<b>LinearAlgebra.Bidiagonal</b>) in LinearAlgebra at <a href=\"file://C:/buildbot/worker/package_win64/build/usr/share/julia/stdlib/v1.6/LinearAlgebra/src/special.jl\" target=\"_blank\">C:\\Users\\sfrie\\AppData\\Local\\Programs\\Julia-1.6.3\\share\\julia\\stdlib\\v1.6\\LinearAlgebra\\src\\special.jl:86</a></li> <li> +(x::<b>SparseArrays.AbstractSparseVector{Tv, Ti} where {Tv, Ti}</b>, y::<b>SparseArrays.AbstractSparseVector{Tv, Ti} where {Tv, Ti}</b>) in SparseArrays at <a href=\"file://C:/buildbot/worker/package_win64/build/usr/share/julia/stdlib/v1.6/SparseArrays/src/sparsevector.jl\" target=\"_blank\">C:\\Users\\sfrie\\AppData\\Local\\Programs\\Julia-1.6.3\\share\\julia\\stdlib\\v1.6\\SparseArrays\\src\\sparsevector.jl:1345</a></li> <li> +(A::<b>SparseArrays.AbstractSparseMatrix{Tv, Ti} where {Tv, Ti}</b>, B::<b>LinearAlgebra.Hermitian{var\"#s814\", var\"#s813\"} where {var\"#s814\", var\"#s813\"<:(SparseArrays.AbstractSparseMatrix{Tv, Ti} where {Tv, Ti})}</b>) in SparseArrays at <a href=\"file://C:/buildbot/worker/package_win64/build/usr/share/julia/stdlib/v1.6/SparseArrays/src/linalg.jl\" target=\"_blank\">C:\\Users\\sfrie\\AppData\\Local\\Programs\\Julia-1.6.3\\share\\julia\\stdlib\\v1.6\\SparseArrays\\src\\linalg.jl:14</a></li> <li> +(A::<b>SparseArrays.AbstractSparseMatrix{Tv, Ti} where {Tv, Ti}</b>, B::<b>LinearAlgebra.Hermitian</b>) in SparseArrays at <a href=\"file://C:/buildbot/worker/package_win64/build/usr/share/julia/stdlib/v1.6/SparseArrays/src/linalg.jl\" target=\"_blank\">C:\\Users\\sfrie\\AppData\\Local\\Programs\\Julia-1.6.3\\share\\julia\\stdlib\\v1.6\\SparseArrays\\src\\linalg.jl:17</a></li> <li> +(A::<b>SparseArrays.AbstractSparseMatrix{Tv, Ti} where {Tv, Ti}</b>, B::<b>LinearAlgebra.Symmetric{var\"#s814\", var\"#s813\"} where {var\"#s814\", var\"#s813\"<:(SparseArrays.AbstractSparseMatrix{Tv, Ti} where {Tv, Ti})}</b>) in SparseArrays at <a href=\"file://C:/buildbot/worker/package_win64/build/usr/share/julia/stdlib/v1.6/SparseArrays/src/linalg.jl\" target=\"_blank\">C:\\Users\\sfrie\\AppData\\Local\\Programs\\Julia-1.6.3\\share\\julia\\stdlib\\v1.6\\SparseArrays\\src\\linalg.jl:14</a></li> <li> +(A::<b>SparseArrays.AbstractSparseMatrix{Tv, Ti} where {Tv, Ti}</b>, B::<b>LinearAlgebra.Symmetric</b>) in SparseArrays at <a href=\"file://C:/buildbot/worker/package_win64/build/usr/share/julia/stdlib/v1.6/SparseArrays/src/linalg.jl\" target=\"_blank\">C:\\Users\\sfrie\\AppData\\Local\\Programs\\Julia-1.6.3\\share\\julia\\stdlib\\v1.6\\SparseArrays\\src\\linalg.jl:17</a></li> <li> +(x::<b>Ptr</b>, y::<b>Integer</b>) in Base at <a href=\"https://github.com/JuliaLang/julia/tree/ae8452a9e0b973991c30f27beb2201db1b0ea0d3/base/pointer.jl#L159\" target=\"_blank\">pointer.jl:159</a></li> <li> +(r::<b>AbstractRange{var\"#s814\"} where var\"#s814\"<:Dates.TimeType</b>, x::<b>Dates.Period</b>) in Dates at <a href=\"file://C:/buildbot/worker/package_win64/build/usr/share/julia/stdlib/v1.6/Dates/src/ranges.jl\" target=\"_blank\">C:\\Users\\sfrie\\AppData\\Local\\Programs\\Julia-1.6.3\\share\\julia\\stdlib\\v1.6\\Dates\\src\\ranges.jl:63</a></li> <li> +(A::<b>LinearAlgebra.UpperTriangular</b>, B::<b>LinearAlgebra.UpperTriangular</b>) in LinearAlgebra at <a href=\"file://C:/buildbot/worker/package_win64/build/usr/share/julia/stdlib/v1.6/LinearAlgebra/src/triangular.jl\" target=\"_blank\">C:\\Users\\sfrie\\AppData\\Local\\Programs\\Julia-1.6.3\\share\\julia\\stdlib\\v1.6\\LinearAlgebra\\src\\triangular.jl:648</a></li> <li> +(A::<b>LinearAlgebra.UpperTriangular</b>, B::<b>LinearAlgebra.UnitUpperTriangular</b>) in LinearAlgebra at <a href=\"file://C:/buildbot/worker/package_win64/build/usr/share/julia/stdlib/v1.6/LinearAlgebra/src/triangular.jl\" target=\"_blank\">C:\\Users\\sfrie\\AppData\\Local\\Programs\\Julia-1.6.3\\share\\julia\\stdlib\\v1.6\\LinearAlgebra\\src\\triangular.jl:650</a></li> <li> +(A::<b>LinearAlgebra.UpperTriangular</b>, B::<b>LinearAlgebra.Bidiagonal</b>) in LinearAlgebra at <a href=\"file://C:/buildbot/worker/package_win64/build/usr/share/julia/stdlib/v1.6/LinearAlgebra/src/special.jl\" target=\"_blank\">C:\\Users\\sfrie\\AppData\\Local\\Programs\\Julia-1.6.3\\share\\julia\\stdlib\\v1.6\\LinearAlgebra\\src\\special.jl:86</a></li> <li> +(x::<b>Base.TwicePrecision</b>, y::<b>Number</b>) in Base at <a href=\"https://github.com/JuliaLang/julia/tree/ae8452a9e0b973991c30f27beb2201db1b0ea0d3/base/twiceprecision.jl#L267\" target=\"_blank\">twiceprecision.jl:267</a></li> <li> +(x::<b>Base.TwicePrecision{T}</b>, y::<b>Base.TwicePrecision{T}</b>)<i> where T</i> in Base at <a href=\"https://github.com/JuliaLang/julia/tree/ae8452a9e0b973991c30f27beb2201db1b0ea0d3/base/twiceprecision.jl#L273\" target=\"_blank\">twiceprecision.jl:273</a></li> <li> +(x::<b>Base.TwicePrecision</b>, y::<b>Base.TwicePrecision</b>) in Base at <a href=\"https://github.com/JuliaLang/julia/tree/ae8452a9e0b973991c30f27beb2201db1b0ea0d3/base/twiceprecision.jl#L278\" target=\"_blank\">twiceprecision.jl:278</a></li> <li> +(r1::<b>StepRangeLen{T, R, S} where S</b>, r2::<b>StepRangeLen{T, R, S} where S</b>)<i> where {R<:Base.TwicePrecision, T}</i> in Base at <a href=\"https://github.com/JuliaLang/julia/tree/ae8452a9e0b973991c30f27beb2201db1b0ea0d3/base/twiceprecision.jl#L574\" target=\"_blank\">twiceprecision.jl:574</a></li> <li> +(r1::<b>StepRangeLen{T, S, S1} where S1</b>, r2::<b>StepRangeLen{T, S, S1} where S1</b>)<i> where {T, S}</i> in Base at <a href=\"https://github.com/JuliaLang/julia/tree/ae8452a9e0b973991c30f27beb2201db1b0ea0d3/base/range.jl#L1126\" target=\"_blank\">range.jl:1126</a></li> <li> +(a::<b>Point</b>, b::<b>Point</b>) in Main at <a href=\"file://c:/Users/sfrie/Ydata/ydata_python/lecture_6/[Py4DP] [Lecture-6] Julia.ipynb\" target=\"_blank\">c:\\Users\\sfrie\\Ydata\\ydata_python\\lecture_6\\[Py4DP] [Lecture-6] Julia.ipynb:1</a></li> <li> +(A::<b>BitArray</b>, B::<b>BitArray</b>) in Base at <a href=\"https://github.com/JuliaLang/julia/tree/ae8452a9e0b973991c30f27beb2201db1b0ea0d3/base/bitarray.jl#L1127\" target=\"_blank\">bitarray.jl:1127</a></li> <li> +(A::<b>LinearAlgebra.UnitUpperTriangular</b>, B::<b>LinearAlgebra.UpperTriangular</b>) in LinearAlgebra at <a href=\"file://C:/buildbot/worker/package_win64/build/usr/share/julia/stdlib/v1.6/LinearAlgebra/src/triangular.jl\" target=\"_blank\">C:\\Users\\sfrie\\AppData\\Local\\Programs\\Julia-1.6.3\\share\\julia\\stdlib\\v1.6\\LinearAlgebra\\src\\triangular.jl:652</a></li> <li> +(A::<b>LinearAlgebra.UnitUpperTriangular</b>, B::<b>LinearAlgebra.UnitUpperTriangular</b>) in LinearAlgebra at <a href=\"file://C:/buildbot/worker/package_win64/build/usr/share/julia/stdlib/v1.6/LinearAlgebra/src/triangular.jl\" target=\"_blank\">C:\\Users\\sfrie\\AppData\\Local\\Programs\\Julia-1.6.3\\share\\julia\\stdlib\\v1.6\\LinearAlgebra\\src\\triangular.jl:654</a></li> <li> +(UL::<b>LinearAlgebra.UnitUpperTriangular</b>, J::<b>LinearAlgebra.UniformScaling</b>) in LinearAlgebra at <a href=\"file://C:/buildbot/worker/package_win64/build/usr/share/julia/stdlib/v1.6/LinearAlgebra/src/uniformscaling.jl\" target=\"_blank\">C:\\Users\\sfrie\\AppData\\Local\\Programs\\Julia-1.6.3\\share\\julia\\stdlib\\v1.6\\LinearAlgebra\\src\\uniformscaling.jl:182</a></li> <li> +(A::<b>LinearAlgebra.UnitUpperTriangular</b>, B::<b>LinearAlgebra.Bidiagonal</b>) in LinearAlgebra at <a href=\"file://C:/buildbot/worker/package_win64/build/usr/share/julia/stdlib/v1.6/LinearAlgebra/src/special.jl\" target=\"_blank\">C:\\Users\\sfrie\\AppData\\Local\\Programs\\Julia-1.6.3\\share\\julia\\stdlib\\v1.6\\LinearAlgebra\\src\\special.jl:86</a></li> <li> +(x::<b>AbstractArray{var\"#s814\", N} where {var\"#s814\"<:Dates.TimeType, N}</b>, y::<b>Union{Dates.CompoundPeriod, Dates.Period}</b>) in Dates at <a href=\"file://C:/buildbot/worker/package_win64/build/usr/share/julia/stdlib/v1.6/Dates/src/deprecated.jl\" target=\"_blank\">C:\\Users\\sfrie\\AppData\\Local\\Programs\\Julia-1.6.3\\share\\julia\\stdlib\\v1.6\\Dates\\src\\deprecated.jl:6</a></li> <li> +(y::<b>Dates.TimeType</b>, x::<b>StridedArray{var\"#s814\", N} where {var\"#s814\"<:Union{Dates.CompoundPeriod, Dates.Period}, N}</b>) in Dates at <a href=\"file://C:/buildbot/worker/package_win64/build/usr/share/julia/stdlib/v1.6/Dates/src/deprecated.jl\" target=\"_blank\">C:\\Users\\sfrie\\AppData\\Local\\Programs\\Julia-1.6.3\\share\\julia\\stdlib\\v1.6\\Dates\\src\\deprecated.jl:18</a></li> <li> +(A::<b>LinearAlgebra.UnitLowerTriangular</b>, B::<b>LinearAlgebra.LowerTriangular</b>) in LinearAlgebra at <a href=\"file://C:/buildbot/worker/package_win64/build/usr/share/julia/stdlib/v1.6/LinearAlgebra/src/triangular.jl\" target=\"_blank\">C:\\Users\\sfrie\\AppData\\Local\\Programs\\Julia-1.6.3\\share\\julia\\stdlib\\v1.6\\LinearAlgebra\\src\\triangular.jl:653</a></li> <li> +(A::<b>LinearAlgebra.UnitLowerTriangular</b>, B::<b>LinearAlgebra.UnitLowerTriangular</b>) in LinearAlgebra at <a href=\"file://C:/buildbot/worker/package_win64/build/usr/share/julia/stdlib/v1.6/LinearAlgebra/src/triangular.jl\" target=\"_blank\">C:\\Users\\sfrie\\AppData\\Local\\Programs\\Julia-1.6.3\\share\\julia\\stdlib\\v1.6\\LinearAlgebra\\src\\triangular.jl:655</a></li> <li> +(A::<b>LinearAlgebra.AbstractTriangular</b>, B::<b>LinearAlgebra.AbstractTriangular</b>) in LinearAlgebra at <a href=\"file://C:/buildbot/worker/package_win64/build/usr/share/julia/stdlib/v1.6/LinearAlgebra/src/triangular.jl\" target=\"_blank\">C:\\Users\\sfrie\\AppData\\Local\\Programs\\Julia-1.6.3\\share\\julia\\stdlib\\v1.6\\LinearAlgebra\\src\\triangular.jl:656</a></li> <li> +(UL::<b>LinearAlgebra.UnitLowerTriangular</b>, J::<b>LinearAlgebra.UniformScaling</b>) in LinearAlgebra at <a href=\"file://C:/buildbot/worker/package_win64/build/usr/share/julia/stdlib/v1.6/LinearAlgebra/src/uniformscaling.jl\" target=\"_blank\">C:\\Users\\sfrie\\AppData\\Local\\Programs\\Julia-1.6.3\\share\\julia\\stdlib\\v1.6\\LinearAlgebra\\src\\uniformscaling.jl:182</a></li> <li> +(A::<b>LinearAlgebra.UnitLowerTriangular</b>, B::<b>LinearAlgebra.Bidiagonal</b>) in LinearAlgebra at <a href=\"file://C:/buildbot/worker/package_win64/build/usr/share/julia/stdlib/v1.6/LinearAlgebra/src/special.jl\" target=\"_blank\">C:\\Users\\sfrie\\AppData\\Local\\Programs\\Julia-1.6.3\\share\\julia\\stdlib\\v1.6\\LinearAlgebra\\src\\special.jl:86</a></li> <li> +(r1::<b>LinRange{T}</b>, r2::<b>LinRange{T}</b>)<i> where T</i> in Base at <a href=\"https://github.com/JuliaLang/julia/tree/ae8452a9e0b973991c30f27beb2201db1b0ea0d3/base/range.jl#L1110\" target=\"_blank\">range.jl:1110</a></li> <li> +(r1::<b>Union{LinRange, OrdinalRange, StepRangeLen}</b>, r2::<b>Union{LinRange, OrdinalRange, StepRangeLen}</b>) in Base at <a href=\"https://github.com/JuliaLang/julia/tree/ae8452a9e0b973991c30f27beb2201db1b0ea0d3/base/range.jl#L1119\" target=\"_blank\">range.jl:1119</a></li> <li> +(A::<b>AbstractArray</b>, B::<b>AbstractArray</b>) in Base at <a href=\"https://github.com/JuliaLang/julia/tree/ae8452a9e0b973991c30f27beb2201db1b0ea0d3/base/arraymath.jl#L37\" target=\"_blank\">arraymath.jl:37</a></li> <li> +(J::<b>LinearAlgebra.UniformScaling</b>) in LinearAlgebra at <a href=\"file://C:/buildbot/worker/package_win64/build/usr/share/julia/stdlib/v1.6/LinearAlgebra/src/uniformscaling.jl\" target=\"_blank\">C:\\Users\\sfrie\\AppData\\Local\\Programs\\Julia-1.6.3\\share\\julia\\stdlib\\v1.6\\LinearAlgebra\\src\\uniformscaling.jl:150</a></li> <li> +(J::<b>LinearAlgebra.UniformScaling</b>, x::<b>Number</b>) in LinearAlgebra at <a href=\"file://C:/buildbot/worker/package_win64/build/usr/share/julia/stdlib/v1.6/LinearAlgebra/src/uniformscaling.jl\" target=\"_blank\">C:\\Users\\sfrie\\AppData\\Local\\Programs\\Julia-1.6.3\\share\\julia\\stdlib\\v1.6\\LinearAlgebra\\src\\uniformscaling.jl:145</a></li> <li> +(J1::<b>LinearAlgebra.UniformScaling</b>, J2::<b>LinearAlgebra.UniformScaling</b>) in LinearAlgebra at <a href=\"file://C:/buildbot/worker/package_win64/build/usr/share/julia/stdlib/v1.6/LinearAlgebra/src/uniformscaling.jl\" target=\"_blank\">C:\\Users\\sfrie\\AppData\\Local\\Programs\\Julia-1.6.3\\share\\julia\\stdlib\\v1.6\\LinearAlgebra\\src\\uniformscaling.jl:151</a></li> <li> +(J::<b>LinearAlgebra.UniformScaling</b>, B::<b>BitMatrix</b>) in LinearAlgebra at <a href=\"file://C:/buildbot/worker/package_win64/build/usr/share/julia/stdlib/v1.6/LinearAlgebra/src/uniformscaling.jl\" target=\"_blank\">C:\\Users\\sfrie\\AppData\\Local\\Programs\\Julia-1.6.3\\share\\julia\\stdlib\\v1.6\\LinearAlgebra\\src\\uniformscaling.jl:153</a></li> <li> +(J::<b>LinearAlgebra.UniformScaling</b>, F::<b>LinearAlgebra.Hessenberg</b>) in LinearAlgebra at <a href=\"file://C:/buildbot/worker/package_win64/build/usr/share/julia/stdlib/v1.6/LinearAlgebra/src/hessenberg.jl\" target=\"_blank\">C:\\Users\\sfrie\\AppData\\Local\\Programs\\Julia-1.6.3\\share\\julia\\stdlib\\v1.6\\LinearAlgebra\\src\\hessenberg.jl:560</a></li> <li> +(A::<b>LinearAlgebra.UniformScaling</b>, B::<b>LinearAlgebra.Tridiagonal{var\"#s814\", V} where {var\"#s814\"<:Number, V<:AbstractVector{var\"#s814\"}}</b>) in LinearAlgebra at <a href=\"file://C:/buildbot/worker/package_win64/build/usr/share/julia/stdlib/v1.6/LinearAlgebra/src/special.jl\" target=\"_blank\">C:\\Users\\sfrie\\AppData\\Local\\Programs\\Julia-1.6.3\\share\\julia\\stdlib\\v1.6\\LinearAlgebra\\src\\special.jl:245</a></li> <li> +(A::<b>LinearAlgebra.UniformScaling</b>, B::<b>LinearAlgebra.SymTridiagonal{var\"#s814\", V} where {var\"#s814\"<:Number, V<:AbstractVector{var\"#s814\"}}</b>) in LinearAlgebra at <a href=\"file://C:/buildbot/worker/package_win64/build/usr/share/julia/stdlib/v1.6/LinearAlgebra/src/special.jl\" target=\"_blank\">C:\\Users\\sfrie\\AppData\\Local\\Programs\\Julia-1.6.3\\share\\julia\\stdlib\\v1.6\\LinearAlgebra\\src\\special.jl:250</a></li> <li> +(A::<b>LinearAlgebra.UniformScaling</b>, B::<b>LinearAlgebra.Bidiagonal{var\"#s814\", V} where {var\"#s814\"<:Number, V<:AbstractVector{var\"#s814\"}}</b>) in LinearAlgebra at <a href=\"file://C:/buildbot/worker/package_win64/build/usr/share/julia/stdlib/v1.6/LinearAlgebra/src/special.jl\" target=\"_blank\">C:\\Users\\sfrie\\AppData\\Local\\Programs\\Julia-1.6.3\\share\\julia\\stdlib\\v1.6\\LinearAlgebra\\src\\special.jl:255</a></li> <li> +(A::<b>LinearAlgebra.UniformScaling</b>, B::<b>LinearAlgebra.Diagonal{var\"#s814\", V} where {var\"#s814\"<:Number, V<:AbstractVector{var\"#s814\"}}</b>) in LinearAlgebra at <a href=\"file://C:/buildbot/worker/package_win64/build/usr/share/julia/stdlib/v1.6/LinearAlgebra/src/special.jl\" target=\"_blank\">C:\\Users\\sfrie\\AppData\\Local\\Programs\\Julia-1.6.3\\share\\julia\\stdlib\\v1.6\\LinearAlgebra\\src\\special.jl:260</a></li> <li> +(J::<b>LinearAlgebra.UniformScaling</b>, A::<b>AbstractMatrix{T} where T</b>) in LinearAlgebra at <a href=\"file://C:/buildbot/worker/package_win64/build/usr/share/julia/stdlib/v1.6/LinearAlgebra/src/uniformscaling.jl\" target=\"_blank\">C:\\Users\\sfrie\\AppData\\Local\\Programs\\Julia-1.6.3\\share\\julia\\stdlib\\v1.6\\LinearAlgebra\\src\\uniformscaling.jl:154</a></li> <li> +(x::<b>Dates.CompoundPeriod</b>, y::<b>Dates.Period</b>) in Dates at <a href=\"file://C:/buildbot/worker/package_win64/build/usr/share/julia/stdlib/v1.6/Dates/src/periods.jl\" target=\"_blank\">C:\\Users\\sfrie\\AppData\\Local\\Programs\\Julia-1.6.3\\share\\julia\\stdlib\\v1.6\\Dates\\src\\periods.jl:352</a></li> <li> +(x::<b>Dates.CompoundPeriod</b>, y::<b>Dates.CompoundPeriod</b>) in Dates at <a href=\"file://C:/buildbot/worker/package_win64/build/usr/share/julia/stdlib/v1.6/Dates/src/periods.jl\" target=\"_blank\">C:\\Users\\sfrie\\AppData\\Local\\Programs\\Julia-1.6.3\\share\\julia\\stdlib\\v1.6\\Dates\\src\\periods.jl:354</a></li> <li> +(x::<b>Dates.CompoundPeriod</b>, y::<b>Dates.TimeType</b>) in Dates at <a href=\"file://C:/buildbot/worker/package_win64/build/usr/share/julia/stdlib/v1.6/Dates/src/periods.jl\" target=\"_blank\">C:\\Users\\sfrie\\AppData\\Local\\Programs\\Julia-1.6.3\\share\\julia\\stdlib\\v1.6\\Dates\\src\\periods.jl:382</a></li> <li> +(x::<b>Rational{BigInt}</b>, y::<b>Rational{BigInt}</b>) in Base.GMP.MPQ at <a href=\"https://github.com/JuliaLang/julia/tree/ae8452a9e0b973991c30f27beb2201db1b0ea0d3/base/gmp.jl#L889\" target=\"_blank\">gmp.jl:889</a></li> <li> +(x::<b>Rational</b>) in Base at <a href=\"https://github.com/JuliaLang/julia/tree/ae8452a9e0b973991c30f27beb2201db1b0ea0d3/base/rational.jl#L268\" target=\"_blank\">rational.jl:268</a></li> <li> +(x::<b>Rational</b>, y::<b>Rational</b>) in Base at <a href=\"https://github.com/JuliaLang/julia/tree/ae8452a9e0b973991c30f27beb2201db1b0ea0d3/base/rational.jl#L284\" target=\"_blank\">rational.jl:284</a></li> <li> +(level::<b>Base.CoreLogging.LogLevel</b>, inc::<b>Integer</b>) in Base.CoreLogging at <a href=\"https://github.com/JuliaLang/julia/tree/ae8452a9e0b973991c30f27beb2201db1b0ea0d3/base/logging.jl#L131\" target=\"_blank\">logging.jl:131</a></li> <li> +(B::<b>BitMatrix</b>, J::<b>LinearAlgebra.UniformScaling</b>) in LinearAlgebra at <a href=\"file://C:/buildbot/worker/package_win64/build/usr/share/julia/stdlib/v1.6/LinearAlgebra/src/uniformscaling.jl\" target=\"_blank\">C:\\Users\\sfrie\\AppData\\Local\\Programs\\Julia-1.6.3\\share\\julia\\stdlib\\v1.6\\LinearAlgebra\\src\\uniformscaling.jl:152</a></li> <li> +(A::<b>AbstractMatrix{T} where T</b>, J::<b>LinearAlgebra.UniformScaling</b>) in LinearAlgebra at <a href=\"file://C:/buildbot/worker/package_win64/build/usr/share/julia/stdlib/v1.6/LinearAlgebra/src/uniformscaling.jl\" target=\"_blank\">C:\\Users\\sfrie\\AppData\\Local\\Programs\\Julia-1.6.3\\share\\julia\\stdlib\\v1.6\\LinearAlgebra\\src\\uniformscaling.jl:215</a></li> <li> +(x::<b>AbstractArray{var\"#s77\", N} where {var\"#s77\"<:Number, N}</b>) in Base at <a href=\"https://github.com/JuliaLang/julia/tree/ae8452a9e0b973991c30f27beb2201db1b0ea0d3/base/abstractarraymath.jl#L97\" target=\"_blank\">abstractarraymath.jl:97</a></li> <li> +(a::<b>Pkg.Resolve.VersionWeight</b>, b::<b>Pkg.Resolve.VersionWeight</b>) in Pkg.Resolve at <a href=\"file://C:/buildbot/worker/package_win64/build/usr/share/julia/stdlib/v1.6/Pkg/src/Resolve/versionweights.jl\" target=\"_blank\">C:\\Users\\sfrie\\AppData\\Local\\Programs\\Julia-1.6.3\\share\\julia\\stdlib\\v1.6\\Pkg\\src\\Resolve\\versionweights.jl:22</a></li> <li> +(x::<b>Float32</b>, y::<b>Float32</b>) in Base at <a href=\"https://github.com/JuliaLang/julia/tree/ae8452a9e0b973991c30f27beb2201db1b0ea0d3/base/float.jl#L325\" target=\"_blank\">float.jl:325</a></li> <li> +(x::<b>BigInt</b>, y::<b>BigInt</b>) in Base.GMP at <a href=\"https://github.com/JuliaLang/julia/tree/ae8452a9e0b973991c30f27beb2201db1b0ea0d3/base/gmp.jl#L479\" target=\"_blank\">gmp.jl:479</a></li> <li> +(a::<b>BigInt</b>, b::<b>BigInt</b>, c::<b>BigInt</b>) in Base.GMP at <a href=\"https://github.com/JuliaLang/julia/tree/ae8452a9e0b973991c30f27beb2201db1b0ea0d3/base/gmp.jl#L519\" target=\"_blank\">gmp.jl:519</a></li> <li> +(a::<b>BigInt</b>, b::<b>BigInt</b>, c::<b>BigInt</b>, d::<b>BigInt</b>) in Base.GMP at <a href=\"https://github.com/JuliaLang/julia/tree/ae8452a9e0b973991c30f27beb2201db1b0ea0d3/base/gmp.jl#L520\" target=\"_blank\">gmp.jl:520</a></li> <li> +(a::<b>BigInt</b>, b::<b>BigInt</b>, c::<b>BigInt</b>, d::<b>BigInt</b>, e::<b>BigInt</b>) in Base.GMP at <a href=\"https://github.com/JuliaLang/julia/tree/ae8452a9e0b973991c30f27beb2201db1b0ea0d3/base/gmp.jl#L521\" target=\"_blank\">gmp.jl:521</a></li> <li> +(x::<b>BigInt</b>, c::<b>Union{UInt16, UInt32, UInt8}</b>) in Base.GMP at <a href=\"https://github.com/JuliaLang/julia/tree/ae8452a9e0b973991c30f27beb2201db1b0ea0d3/base/gmp.jl#L527\" target=\"_blank\">gmp.jl:527</a></li> <li> +(x::<b>BigInt</b>, c::<b>Union{Int16, Int32, Int8}</b>) in Base.GMP at <a href=\"https://github.com/JuliaLang/julia/tree/ae8452a9e0b973991c30f27beb2201db1b0ea0d3/base/gmp.jl#L533\" target=\"_blank\">gmp.jl:533</a></li> <li> +(c::<b>BigInt</b>, x::<b>BigFloat</b>) in Base.MPFR at <a href=\"https://github.com/JuliaLang/julia/tree/ae8452a9e0b973991c30f27beb2201db1b0ea0d3/base/mpfr.jl#L400\" target=\"_blank\">mpfr.jl:400</a></li> <li> +(x::<b>BigFloat</b>, y::<b>BigFloat</b>) in Base.MPFR at <a href=\"https://github.com/JuliaLang/julia/tree/ae8452a9e0b973991c30f27beb2201db1b0ea0d3/base/mpfr.jl#L364\" target=\"_blank\">mpfr.jl:364</a></li> <li> +(x::<b>BigFloat</b>, c::<b>Union{UInt16, UInt32, UInt8}</b>) in Base.MPFR at <a href=\"https://github.com/JuliaLang/julia/tree/ae8452a9e0b973991c30f27beb2201db1b0ea0d3/base/mpfr.jl#L371\" target=\"_blank\">mpfr.jl:371</a></li> <li> +(x::<b>BigFloat</b>, c::<b>Union{Int16, Int32, Int8}</b>) in Base.MPFR at <a href=\"https://github.com/JuliaLang/julia/tree/ae8452a9e0b973991c30f27beb2201db1b0ea0d3/base/mpfr.jl#L379\" target=\"_blank\">mpfr.jl:379</a></li> <li> +(x::<b>BigFloat</b>, c::<b>Union{Float16, Float32, Float64}</b>) in Base.MPFR at <a href=\"https://github.com/JuliaLang/julia/tree/ae8452a9e0b973991c30f27beb2201db1b0ea0d3/base/mpfr.jl#L387\" target=\"_blank\">mpfr.jl:387</a></li> <li> +(x::<b>BigFloat</b>, c::<b>BigInt</b>) in Base.MPFR at <a href=\"https://github.com/JuliaLang/julia/tree/ae8452a9e0b973991c30f27beb2201db1b0ea0d3/base/mpfr.jl#L395\" target=\"_blank\">mpfr.jl:395</a></li> <li> +(a::<b>BigFloat</b>, b::<b>BigFloat</b>, c::<b>BigFloat</b>) in Base.MPFR at <a href=\"https://github.com/JuliaLang/julia/tree/ae8452a9e0b973991c30f27beb2201db1b0ea0d3/base/mpfr.jl#L536\" target=\"_blank\">mpfr.jl:536</a></li> <li> +(a::<b>BigFloat</b>, b::<b>BigFloat</b>, c::<b>BigFloat</b>, d::<b>BigFloat</b>) in Base.MPFR at <a href=\"https://github.com/JuliaLang/julia/tree/ae8452a9e0b973991c30f27beb2201db1b0ea0d3/base/mpfr.jl#L542\" target=\"_blank\">mpfr.jl:542</a></li> <li> +(a::<b>BigFloat</b>, b::<b>BigFloat</b>, c::<b>BigFloat</b>, d::<b>BigFloat</b>, e::<b>BigFloat</b>) in Base.MPFR at <a href=\"https://github.com/JuliaLang/julia/tree/ae8452a9e0b973991c30f27beb2201db1b0ea0d3/base/mpfr.jl#L549\" target=\"_blank\">mpfr.jl:549</a></li> <li> +(a::<b>Pkg.Resolve.FieldValue</b>, b::<b>Pkg.Resolve.FieldValue</b>) in Pkg.Resolve at <a href=\"file://C:/buildbot/worker/package_win64/build/usr/share/julia/stdlib/v1.6/Pkg/src/Resolve/fieldvalues.jl\" target=\"_blank\">C:\\Users\\sfrie\\AppData\\Local\\Programs\\Julia-1.6.3\\share\\julia\\stdlib\\v1.6\\Pkg\\src\\Resolve\\fieldvalues.jl:43</a></li> <li> +(x::<b>Bool</b>) in Base at <a href=\"https://github.com/JuliaLang/julia/tree/ae8452a9e0b973991c30f27beb2201db1b0ea0d3/base/bool.jl#L89\" target=\"_blank\">bool.jl:89</a></li> <li> +(x::<b>Integer</b>, y::<b>Ptr</b>) in Base at <a href=\"https://github.com/JuliaLang/julia/tree/ae8452a9e0b973991c30f27beb2201db1b0ea0d3/base/pointer.jl#L161\" target=\"_blank\">pointer.jl:161</a></li> <li> +(y::<b>Integer</b>, x::<b>Rational</b>) in Base at <a href=\"https://github.com/JuliaLang/julia/tree/ae8452a9e0b973991c30f27beb2201db1b0ea0d3/base/rational.jl#L296\" target=\"_blank\">rational.jl:296</a></li> <li> +(x::<b>Integer</b>, y::<b>AbstractChar</b>) in Base at <a href=\"https://github.com/JuliaLang/julia/tree/ae8452a9e0b973991c30f27beb2201db1b0ea0d3/base/char.jl#L224\" target=\"_blank\">char.jl:224</a></li> <li> +(x::<b>Bool</b>, y::<b>Bool</b>) in Base at <a href=\"https://github.com/JuliaLang/julia/tree/ae8452a9e0b973991c30f27beb2201db1b0ea0d3/base/bool.jl#L92\" target=\"_blank\">bool.jl:92</a></li> <li> +(a::<b>Integer</b>, b::<b>Integer</b>) in Base at <a href=\"https://github.com/JuliaLang/julia/tree/ae8452a9e0b973991c30f27beb2201db1b0ea0d3/base/int.jl#L919\" target=\"_blank\">int.jl:919</a></li> <li> +(x::<b>Bool</b>, y::<b>T</b>)<i> where T<:AbstractFloat</i> in Base at <a href=\"https://github.com/JuliaLang/julia/tree/ae8452a9e0b973991c30f27beb2201db1b0ea0d3/base/bool.jl#L99\" target=\"_blank\">bool.jl:99</a></li> <li> +(x::<b>Bool</b>, z::<b>Complex{Bool}</b>) in Base at <a href=\"https://github.com/JuliaLang/julia/tree/ae8452a9e0b973991c30f27beb2201db1b0ea0d3/base/complex.jl#L286\" target=\"_blank\">complex.jl:286</a></li> <li> +(x::<b>Real</b>, z::<b>Complex{Bool}</b>) in Base at <a href=\"https://github.com/JuliaLang/julia/tree/ae8452a9e0b973991c30f27beb2201db1b0ea0d3/base/complex.jl#L300\" target=\"_blank\">complex.jl:300</a></li> <li> +(x::<b>Bool</b>, z::<b>Complex</b>) in Base at <a href=\"https://github.com/JuliaLang/julia/tree/ae8452a9e0b973991c30f27beb2201db1b0ea0d3/base/complex.jl#L293\" target=\"_blank\">complex.jl:293</a></li> <li> +(x::<b>Real</b>, z::<b>Complex</b>) in Base at <a href=\"https://github.com/JuliaLang/julia/tree/ae8452a9e0b973991c30f27beb2201db1b0ea0d3/base/complex.jl#L312\" target=\"_blank\">complex.jl:312</a></li> <li> +(dt::<b>Dates.DateTime</b>, y::<b>Dates.Year</b>) in Dates at <a href=\"file://C:/buildbot/worker/package_win64/build/usr/share/julia/stdlib/v1.6/Dates/src/arithmetic.jl\" target=\"_blank\">C:\\Users\\sfrie\\AppData\\Local\\Programs\\Julia-1.6.3\\share\\julia\\stdlib\\v1.6\\Dates\\src\\arithmetic.jl:23</a></li> <li> +(dt::<b>Dates.DateTime</b>, z::<b>Dates.Month</b>) in Dates at <a href=\"file://C:/buildbot/worker/package_win64/build/usr/share/julia/stdlib/v1.6/Dates/src/arithmetic.jl\" target=\"_blank\">C:\\Users\\sfrie\\AppData\\Local\\Programs\\Julia-1.6.3\\share\\julia\\stdlib\\v1.6\\Dates\\src\\arithmetic.jl:47</a></li> <li> +(x::<b>Dates.DateTime</b>, y::<b>Dates.Quarter</b>) in Dates at <a href=\"file://C:/buildbot/worker/package_win64/build/usr/share/julia/stdlib/v1.6/Dates/src/arithmetic.jl\" target=\"_blank\">C:\\Users\\sfrie\\AppData\\Local\\Programs\\Julia-1.6.3\\share\\julia\\stdlib\\v1.6\\Dates\\src\\arithmetic.jl:75</a></li> <li> +(x::<b>Dates.DateTime</b>, y::<b>Dates.Period</b>) in Dates at <a href=\"file://C:/buildbot/worker/package_win64/build/usr/share/julia/stdlib/v1.6/Dates/src/arithmetic.jl\" target=\"_blank\">C:\\Users\\sfrie\\AppData\\Local\\Programs\\Julia-1.6.3\\share\\julia\\stdlib\\v1.6\\Dates\\src\\arithmetic.jl:81</a></li> <li> +(t::<b>Dates.Time</b>, dt::<b>Dates.Date</b>) in Dates at <a href=\"file://C:/buildbot/worker/package_win64/build/usr/share/julia/stdlib/v1.6/Dates/src/arithmetic.jl\" target=\"_blank\">C:\\Users\\sfrie\\AppData\\Local\\Programs\\Julia-1.6.3\\share\\julia\\stdlib\\v1.6\\Dates\\src\\arithmetic.jl:20</a></li> <li> +(x::<b>Dates.Time</b>, y::<b>Dates.TimePeriod</b>) in Dates at <a href=\"file://C:/buildbot/worker/package_win64/build/usr/share/julia/stdlib/v1.6/Dates/src/arithmetic.jl\" target=\"_blank\">C:\\Users\\sfrie\\AppData\\Local\\Programs\\Julia-1.6.3\\share\\julia\\stdlib\\v1.6\\Dates\\src\\arithmetic.jl:83</a></li> <li> +(dt::<b>Dates.Date</b>, t::<b>Dates.Time</b>) in Dates at <a href=\"file://C:/buildbot/worker/package_win64/build/usr/share/julia/stdlib/v1.6/Dates/src/arithmetic.jl\" target=\"_blank\">C:\\Users\\sfrie\\AppData\\Local\\Programs\\Julia-1.6.3\\share\\julia\\stdlib\\v1.6\\Dates\\src\\arithmetic.jl:19</a></li> <li> +(dt::<b>Dates.Date</b>, y::<b>Dates.Year</b>) in Dates at <a href=\"file://C:/buildbot/worker/package_win64/build/usr/share/julia/stdlib/v1.6/Dates/src/arithmetic.jl\" target=\"_blank\">C:\\Users\\sfrie\\AppData\\Local\\Programs\\Julia-1.6.3\\share\\julia\\stdlib\\v1.6\\Dates\\src\\arithmetic.jl:27</a></li> <li> +(dt::<b>Dates.Date</b>, z::<b>Dates.Month</b>) in Dates at <a href=\"file://C:/buildbot/worker/package_win64/build/usr/share/julia/stdlib/v1.6/Dates/src/arithmetic.jl\" target=\"_blank\">C:\\Users\\sfrie\\AppData\\Local\\Programs\\Julia-1.6.3\\share\\julia\\stdlib\\v1.6\\Dates\\src\\arithmetic.jl:54</a></li> <li> +(x::<b>Dates.Date</b>, y::<b>Dates.Quarter</b>) in Dates at <a href=\"file://C:/buildbot/worker/package_win64/build/usr/share/julia/stdlib/v1.6/Dates/src/arithmetic.jl\" target=\"_blank\">C:\\Users\\sfrie\\AppData\\Local\\Programs\\Julia-1.6.3\\share\\julia\\stdlib\\v1.6\\Dates\\src\\arithmetic.jl:73</a></li> <li> +(x::<b>Dates.Date</b>, y::<b>Dates.Week</b>) in Dates at <a href=\"file://C:/buildbot/worker/package_win64/build/usr/share/julia/stdlib/v1.6/Dates/src/arithmetic.jl\" target=\"_blank\">C:\\Users\\sfrie\\AppData\\Local\\Programs\\Julia-1.6.3\\share\\julia\\stdlib\\v1.6\\Dates\\src\\arithmetic.jl:77</a></li> <li> +(x::<b>Dates.Date</b>, y::<b>Dates.Day</b>) in Dates at <a href=\"file://C:/buildbot/worker/package_win64/build/usr/share/julia/stdlib/v1.6/Dates/src/arithmetic.jl\" target=\"_blank\">C:\\Users\\sfrie\\AppData\\Local\\Programs\\Julia-1.6.3\\share\\julia\\stdlib\\v1.6\\Dates\\src\\arithmetic.jl:79</a></li> <li> +(x::<b>Dates.TimeType</b>) in Dates at <a href=\"file://C:/buildbot/worker/package_win64/build/usr/share/julia/stdlib/v1.6/Dates/src/arithmetic.jl\" target=\"_blank\">C:\\Users\\sfrie\\AppData\\Local\\Programs\\Julia-1.6.3\\share\\julia\\stdlib\\v1.6\\Dates\\src\\arithmetic.jl:8</a></li> <li> +(x::<b>Dates.AbstractTime</b>, y::<b>Missing</b>) in Dates at <a href=\"file://C:/buildbot/worker/package_win64/build/usr/share/julia/stdlib/v1.6/Dates/src/arithmetic.jl\" target=\"_blank\">C:\\Users\\sfrie\\AppData\\Local\\Programs\\Julia-1.6.3\\share\\julia\\stdlib\\v1.6\\Dates\\src\\arithmetic.jl:88</a></li> <li> +(a::<b>Dates.TimeType</b>, b::<b>Dates.Period</b>, c::<b>Dates.Period</b>) in Dates at <a href=\"file://C:/buildbot/worker/package_win64/build/usr/share/julia/stdlib/v1.6/Dates/src/periods.jl\" target=\"_blank\">C:\\Users\\sfrie\\AppData\\Local\\Programs\\Julia-1.6.3\\share\\julia\\stdlib\\v1.6\\Dates\\src\\periods.jl:373</a></li> <li> +(a::<b>Dates.TimeType</b>, b::<b>Dates.Period</b>, c::<b>Dates.Period</b>, d::<b>Dates.Period...</b>) in Dates at <a href=\"file://C:/buildbot/worker/package_win64/build/usr/share/julia/stdlib/v1.6/Dates/src/periods.jl\" target=\"_blank\">C:\\Users\\sfrie\\AppData\\Local\\Programs\\Julia-1.6.3\\share\\julia\\stdlib\\v1.6\\Dates\\src\\periods.jl:374</a></li> <li> +(x::<b>Dates.TimeType</b>, y::<b>Dates.CompoundPeriod</b>) in Dates at <a href=\"file://C:/buildbot/worker/package_win64/build/usr/share/julia/stdlib/v1.6/Dates/src/periods.jl\" target=\"_blank\">C:\\Users\\sfrie\\AppData\\Local\\Programs\\Julia-1.6.3\\share\\julia\\stdlib\\v1.6\\Dates\\src\\periods.jl:376</a></li> <li> +(x::<b>Float64</b>, y::<b>Float64</b>) in Base at <a href=\"https://github.com/JuliaLang/julia/tree/ae8452a9e0b973991c30f27beb2201db1b0ea0d3/base/float.jl#L326\" target=\"_blank\">float.jl:326</a></li> <li> +(x::<b>Float16</b>, y::<b>Float16</b>) in Base at <a href=\"https://github.com/JuliaLang/julia/tree/ae8452a9e0b973991c30f27beb2201db1b0ea0d3/base/float.jl#L324\" target=\"_blank\">float.jl:324</a></li> <li> +(z::<b>Complex{Bool}</b>, x::<b>Bool</b>) in Base at <a href=\"https://github.com/JuliaLang/julia/tree/ae8452a9e0b973991c30f27beb2201db1b0ea0d3/base/complex.jl#L287\" target=\"_blank\">complex.jl:287</a></li> <li> +(z::<b>Complex</b>, x::<b>Bool</b>) in Base at <a href=\"https://github.com/JuliaLang/julia/tree/ae8452a9e0b973991c30f27beb2201db1b0ea0d3/base/complex.jl#L294\" target=\"_blank\">complex.jl:294</a></li> <li> +(z::<b>Complex{Bool}</b>, x::<b>Real</b>) in Base at <a href=\"https://github.com/JuliaLang/julia/tree/ae8452a9e0b973991c30f27beb2201db1b0ea0d3/base/complex.jl#L301\" target=\"_blank\">complex.jl:301</a></li> <li> +(z::<b>Complex</b>) in Base at <a href=\"https://github.com/JuliaLang/julia/tree/ae8452a9e0b973991c30f27beb2201db1b0ea0d3/base/complex.jl#L273\" target=\"_blank\">complex.jl:273</a></li> <li> +(x::<b>Number</b>, y::<b>Base.TwicePrecision</b>) in Base at <a href=\"https://github.com/JuliaLang/julia/tree/ae8452a9e0b973991c30f27beb2201db1b0ea0d3/base/twiceprecision.jl#L271\" target=\"_blank\">twiceprecision.jl:271</a></li> <li> +(::<b>Number</b>, ::<b>Missing</b>) in Base at <a href=\"https://github.com/JuliaLang/julia/tree/ae8452a9e0b973991c30f27beb2201db1b0ea0d3/base/missing.jl#L117\" target=\"_blank\">missing.jl:117</a></li> <li> +(x::<b>Number</b>, J::<b>LinearAlgebra.UniformScaling</b>) in LinearAlgebra at <a href=\"file://C:/buildbot/worker/package_win64/build/usr/share/julia/stdlib/v1.6/LinearAlgebra/src/uniformscaling.jl\" target=\"_blank\">C:\\Users\\sfrie\\AppData\\Local\\Programs\\Julia-1.6.3\\share\\julia\\stdlib\\v1.6\\LinearAlgebra\\src\\uniformscaling.jl:146</a></li> <li> +(z::<b>Complex</b>, x::<b>Real</b>) in Base at <a href=\"https://github.com/JuliaLang/julia/tree/ae8452a9e0b973991c30f27beb2201db1b0ea0d3/base/complex.jl#L313\" target=\"_blank\">complex.jl:313</a></li> <li> +(x::<b>Number</b>) in Base at <a href=\"https://github.com/JuliaLang/julia/tree/ae8452a9e0b973991c30f27beb2201db1b0ea0d3/base/operators.jl#L515\" target=\"_blank\">operators.jl:515</a></li> <li> +(x::<b>T</b>, y::<b>T</b>)<i> where T<:Number</i> in Base at <a href=\"https://github.com/JuliaLang/julia/tree/ae8452a9e0b973991c30f27beb2201db1b0ea0d3/base/promotion.jl#L396\" target=\"_blank\">promotion.jl:396</a></li> <li> +(x::<b>Number</b>, y::<b>Number</b>) in Base at <a href=\"https://github.com/JuliaLang/julia/tree/ae8452a9e0b973991c30f27beb2201db1b0ea0d3/base/promotion.jl#L321\" target=\"_blank\">promotion.jl:321</a></li> <li> +(::<b>Missing</b>) in Base at <a href=\"https://github.com/JuliaLang/julia/tree/ae8452a9e0b973991c30f27beb2201db1b0ea0d3/base/missing.jl#L101\" target=\"_blank\">missing.jl:101</a></li> <li> +(::<b>Missing</b>, ::<b>Missing</b>) in Base at <a href=\"https://github.com/JuliaLang/julia/tree/ae8452a9e0b973991c30f27beb2201db1b0ea0d3/base/missing.jl#L115\" target=\"_blank\">missing.jl:115</a></li> <li> +(::<b>Missing</b>, ::<b>Number</b>) in Base at <a href=\"https://github.com/JuliaLang/julia/tree/ae8452a9e0b973991c30f27beb2201db1b0ea0d3/base/missing.jl#L116\" target=\"_blank\">missing.jl:116</a></li> <li> +(x::<b>Missing</b>, y::<b>Dates.AbstractTime</b>) in Dates at <a href=\"file://C:/buildbot/worker/package_win64/build/usr/share/julia/stdlib/v1.6/Dates/src/arithmetic.jl\" target=\"_blank\">C:\\Users\\sfrie\\AppData\\Local\\Programs\\Julia-1.6.3\\share\\julia\\stdlib\\v1.6\\Dates\\src\\arithmetic.jl:89</a></li> <li> +(a, b, c, xs...) in Base at <a href=\"https://github.com/JuliaLang/julia/tree/ae8452a9e0b973991c30f27beb2201db1b0ea0d3/base/operators.jl#L560\" target=\"_blank\">operators.jl:560</a></li> </ul>"
      ],
      "text/plain": [
       "# 191 methods for generic function \"+\":\n",
       "[1] +(x::T, y::T) where T<:Union{Int128, Int16, Int32, Int64, Int8, UInt128, UInt16, UInt32, UInt64, UInt8} in Base at int.jl:87\n",
       "[2] +(c::Union{UInt16, UInt32, UInt8}, x::BigInt) in Base.GMP at gmp.jl:528\n",
       "[3] +(c::Union{Int16, Int32, Int8}, x::BigInt) in Base.GMP at gmp.jl:534\n",
       "[4] +(c::Union{UInt16, UInt32, UInt8}, x::BigFloat) in Base.MPFR at mpfr.jl:376\n",
       "[5] +(c::Union{Int16, Int32, Int8}, x::BigFloat) in Base.MPFR at mpfr.jl:384\n",
       "[6] +(c::Union{Float16, Float32, Float64}, x::BigFloat) in Base.MPFR at mpfr.jl:392\n",
       "[7] +(x::Union{Dates.CompoundPeriod, Dates.Period}) in Dates at C:\\Users\\sfrie\\AppData\\Local\\Programs\\Julia-1.6.3\\share\\julia\\stdlib\\v1.6\\Dates\\src\\periods.jl:362\n",
       "[8] +(A::LinearAlgebra.Tridiagonal, B::LinearAlgebra.Tridiagonal) in LinearAlgebra at C:\\Users\\sfrie\\AppData\\Local\\Programs\\Julia-1.6.3\\share\\julia\\stdlib\\v1.6\\LinearAlgebra\\src\\tridiag.jl:733\n",
       "[9] +(A::LinearAlgebra.Tridiagonal, B::LinearAlgebra.SymTridiagonal) in LinearAlgebra at C:\\Users\\sfrie\\AppData\\Local\\Programs\\Julia-1.6.3\\share\\julia\\stdlib\\v1.6\\LinearAlgebra\\src\\special.jl:157\n",
       "[10] +(A::LinearAlgebra.Tridiagonal, B::LinearAlgebra.Diagonal) in LinearAlgebra at C:\\Users\\sfrie\\AppData\\Local\\Programs\\Julia-1.6.3\\share\\julia\\stdlib\\v1.6\\LinearAlgebra\\src\\special.jl:173\n",
       "[11] +(A::LinearAlgebra.Tridiagonal, B::LinearAlgebra.Bidiagonal) in LinearAlgebra at C:\\Users\\sfrie\\AppData\\Local\\Programs\\Julia-1.6.3\\share\\julia\\stdlib\\v1.6\\LinearAlgebra\\src\\special.jl:193\n",
       "[12] +(A::LinearAlgebra.Tridiagonal{var\"#s814\", V} where {var\"#s814\"<:Number, V<:AbstractVector{var\"#s814\"}}, B::LinearAlgebra.UniformScaling) in LinearAlgebra at C:\\Users\\sfrie\\AppData\\Local\\Programs\\Julia-1.6.3\\share\\julia\\stdlib\\v1.6\\LinearAlgebra\\src\\special.jl:226\n",
       "[13] +(A::LinearAlgebra.Hermitian, B::LinearAlgebra.Hermitian) in LinearAlgebra at C:\\Users\\sfrie\\AppData\\Local\\Programs\\Julia-1.6.3\\share\\julia\\stdlib\\v1.6\\LinearAlgebra\\src\\symmetric.jl:469\n",
       "[14] +(H::LinearAlgebra.Hermitian, D::LinearAlgebra.Diagonal{var\"#s814\", V} where {var\"#s814\"<:Real, V<:AbstractVector{var\"#s814\"}}) in LinearAlgebra at C:\\Users\\sfrie\\AppData\\Local\\Programs\\Julia-1.6.3\\share\\julia\\stdlib\\v1.6\\LinearAlgebra\\src\\diagonal.jl:169\n",
       "[15] +(A::LinearAlgebra.Hermitian, J::LinearAlgebra.UniformScaling{var\"#s814\"} where var\"#s814\"<:Complex) in LinearAlgebra at C:\\Users\\sfrie\\AppData\\Local\\Programs\\Julia-1.6.3\\share\\julia\\stdlib\\v1.6\\LinearAlgebra\\src\\uniformscaling.jl:196\n",
       "[16] +(A::LinearAlgebra.Hermitian{var\"#s812\", var\"#s811\"} where {var\"#s812\", var\"#s811\"<:(SparseArrays.AbstractSparseMatrix{Tv, Ti} where {Tv, Ti})}, B::SparseArrays.AbstractSparseMatrix{Tv, Ti} where {Tv, Ti}) in SparseArrays at C:\\Users\\sfrie\\AppData\\Local\\Programs\\Julia-1.6.3\\share\\julia\\stdlib\\v1.6\\SparseArrays\\src\\linalg.jl:15\n",
       "[17] +(A::LinearAlgebra.Hermitian, B::SparseArrays.AbstractSparseMatrix{Tv, Ti} where {Tv, Ti}) in SparseArrays at C:\\Users\\sfrie\\AppData\\Local\\Programs\\Julia-1.6.3\\share\\julia\\stdlib\\v1.6\\SparseArrays\\src\\linalg.jl:18\n",
       "[18] +(A::LinearAlgebra.Hermitian{var\"#s802\", var\"#s801\"} where {var\"#s802\", var\"#s801\"<:(SparseArrays.AbstractSparseMatrix{Tv, Ti} where {Tv, Ti})}, B::LinearAlgebra.Symmetric{var\"#s800\", var\"#s799\"} where {var\"#s800\"<:Real, var\"#s799\"<:(SparseArrays.AbstractSparseMatrix{Tv, Ti} where {Tv, Ti})}) in SparseArrays at C:\\Users\\sfrie\\AppData\\Local\\Programs\\Julia-1.6.3\\share\\julia\\stdlib\\v1.6\\SparseArrays\\src\\linalg.jl:26\n",
       "[19] +(A::LinearAlgebra.Hermitian, B::LinearAlgebra.Symmetric{var\"#s814\", S} where {var\"#s814\"<:Real, S<:(AbstractMatrix{var\"#s814\"} where var\"#s814\"<:var\"#s814\")}) in LinearAlgebra at C:\\Users\\sfrie\\AppData\\Local\\Programs\\Julia-1.6.3\\share\\julia\\stdlib\\v1.6\\LinearAlgebra\\src\\symmetric.jl:483\n",
       "[20] +(A::LinearAlgebra.Hermitian{var\"#s810\", var\"#s809\"} where {var\"#s810\", var\"#s809\"<:(SparseArrays.AbstractSparseMatrix{Tv, Ti} where {Tv, Ti})}, B::LinearAlgebra.Symmetric{var\"#s808\", var\"#s807\"} where {var\"#s808\", var\"#s807\"<:(SparseArrays.AbstractSparseMatrix{Tv, Ti} where {Tv, Ti})}) in SparseArrays at C:\\Users\\sfrie\\AppData\\Local\\Programs\\Julia-1.6.3\\share\\julia\\stdlib\\v1.6\\SparseArrays\\src\\linalg.jl:24\n",
       "[21] +(x::T, y::Integer) where T<:AbstractChar in Base at char.jl:223\n",
       "[22] +(A::LinearAlgebra.Symmetric, B::LinearAlgebra.Symmetric) in LinearAlgebra at C:\\Users\\sfrie\\AppData\\Local\\Programs\\Julia-1.6.3\\share\\julia\\stdlib\\v1.6\\LinearAlgebra\\src\\symmetric.jl:469\n",
       "[23] +(S::LinearAlgebra.Symmetric, D::LinearAlgebra.Diagonal) in LinearAlgebra at C:\\Users\\sfrie\\AppData\\Local\\Programs\\Julia-1.6.3\\share\\julia\\stdlib\\v1.6\\LinearAlgebra\\src\\diagonal.jl:163\n",
       "[24] +(A::LinearAlgebra.Symmetric{var\"#s812\", var\"#s811\"} where {var\"#s812\", var\"#s811\"<:(SparseArrays.AbstractSparseMatrix{Tv, Ti} where {Tv, Ti})}, B::SparseArrays.AbstractSparseMatrix{Tv, Ti} where {Tv, Ti}) in SparseArrays at C:\\Users\\sfrie\\AppData\\Local\\Programs\\Julia-1.6.3\\share\\julia\\stdlib\\v1.6\\SparseArrays\\src\\linalg.jl:15\n",
       "[25] +(A::LinearAlgebra.Symmetric, B::SparseArrays.AbstractSparseMatrix{Tv, Ti} where {Tv, Ti}) in SparseArrays at C:\\Users\\sfrie\\AppData\\Local\\Programs\\Julia-1.6.3\\share\\julia\\stdlib\\v1.6\\SparseArrays\\src\\linalg.jl:18\n",
       "[26] +(A::LinearAlgebra.Symmetric{var\"#s806\", var\"#s805\"} where {var\"#s806\"<:Real, var\"#s805\"<:(SparseArrays.AbstractSparseMatrix{Tv, Ti} where {Tv, Ti})}, B::LinearAlgebra.Hermitian{var\"#s804\", var\"#s803\"} where {var\"#s804\", var\"#s803\"<:(SparseArrays.AbstractSparseMatrix{Tv, Ti} where {Tv, Ti})}) in SparseArrays at C:\\Users\\sfrie\\AppData\\Local\\Programs\\Julia-1.6.3\\share\\julia\\stdlib\\v1.6\\SparseArrays\\src\\linalg.jl:25\n",
       "[27] +(A::LinearAlgebra.Symmetric{var\"#s813\", S} where {var\"#s813\"<:Real, S<:(AbstractMatrix{var\"#s814\"} where var\"#s814\"<:var\"#s813\")}, B::LinearAlgebra.Hermitian) in LinearAlgebra at C:\\Users\\sfrie\\AppData\\Local\\Programs\\Julia-1.6.3\\share\\julia\\stdlib\\v1.6\\LinearAlgebra\\src\\symmetric.jl:484\n",
       "[28] +(A::LinearAlgebra.Symmetric{var\"#s814\", var\"#s813\"} where {var\"#s814\", var\"#s813\"<:(SparseArrays.AbstractSparseMatrix{Tv, Ti} where {Tv, Ti})}, B::LinearAlgebra.Hermitian{var\"#s812\", var\"#s811\"} where {var\"#s812\", var\"#s811\"<:(SparseArrays.AbstractSparseMatrix{Tv, Ti} where {Tv, Ti})}) in SparseArrays at C:\\Users\\sfrie\\AppData\\Local\\Programs\\Julia-1.6.3\\share\\julia\\stdlib\\v1.6\\SparseArrays\\src\\linalg.jl:23\n",
       "[29] +(x::P, y::P) where P<:Dates.Period in Dates at C:\\Users\\sfrie\\AppData\\Local\\Programs\\Julia-1.6.3\\share\\julia\\stdlib\\v1.6\\Dates\\src\\periods.jl:79\n",
       "[30] +(x::Dates.Period, y::Dates.Period) in Dates at C:\\Users\\sfrie\\AppData\\Local\\Programs\\Julia-1.6.3\\share\\julia\\stdlib\\v1.6\\Dates\\src\\periods.jl:351\n",
       "[31] +(y::Dates.Period, x::Dates.CompoundPeriod) in Dates at C:\\Users\\sfrie\\AppData\\Local\\Programs\\Julia-1.6.3\\share\\julia\\stdlib\\v1.6\\Dates\\src\\periods.jl:353\n",
       "[32] +(y::Dates.Period, x::Dates.TimeType) in Dates at C:\\Users\\sfrie\\AppData\\Local\\Programs\\Julia-1.6.3\\share\\julia\\stdlib\\v1.6\\Dates\\src\\arithmetic.jl:85\n",
       "[33] +(x::Dates.Period, r::AbstractRange{var\"#s814\"} where var\"#s814\"<:Dates.TimeType) in Dates at C:\\Users\\sfrie\\AppData\\Local\\Programs\\Julia-1.6.3\\share\\julia\\stdlib\\v1.6\\Dates\\src\\ranges.jl:62\n",
       "[34] +(y::Union{Dates.CompoundPeriod, Dates.Period}, x::AbstractArray{var\"#s814\", N} where {var\"#s814\"<:Dates.TimeType, N}) in Dates at C:\\Users\\sfrie\\AppData\\Local\\Programs\\Julia-1.6.3\\share\\julia\\stdlib\\v1.6\\Dates\\src\\deprecated.jl:14\n",
       "[35] +(x::AbstractIrrational, y::AbstractIrrational) in Base at irrationals.jl:156\n",
       "[36] +(A::LinearAlgebra.UpperHessenberg, B::LinearAlgebra.UpperHessenberg) in LinearAlgebra at C:\\Users\\sfrie\\AppData\\Local\\Programs\\Julia-1.6.3\\share\\julia\\stdlib\\v1.6\\LinearAlgebra\\src\\hessenberg.jl:101\n",
       "[37] +(H::LinearAlgebra.UpperHessenberg, J::LinearAlgebra.UniformScaling) in LinearAlgebra at C:\\Users\\sfrie\\AppData\\Local\\Programs\\Julia-1.6.3\\share\\julia\\stdlib\\v1.6\\LinearAlgebra\\src\\hessenberg.jl:106\n",
       "[38] +(A::LinearAlgebra.Bidiagonal, B::LinearAlgebra.Bidiagonal) in LinearAlgebra at C:\\Users\\sfrie\\AppData\\Local\\Programs\\Julia-1.6.3\\share\\julia\\stdlib\\v1.6\\LinearAlgebra\\src\\bidiag.jl:354\n",
       "[39] +(A::LinearAlgebra.Bidiagonal, B::LinearAlgebra.UpperTriangular) in LinearAlgebra at C:\\Users\\sfrie\\AppData\\Local\\Programs\\Julia-1.6.3\\share\\julia\\stdlib\\v1.6\\LinearAlgebra\\src\\special.jl:94\n",
       "[40] +(A::LinearAlgebra.Bidiagonal, B::LinearAlgebra.UnitUpperTriangular) in LinearAlgebra at C:\\Users\\sfrie\\AppData\\Local\\Programs\\Julia-1.6.3\\share\\julia\\stdlib\\v1.6\\LinearAlgebra\\src\\special.jl:94\n",
       "[41] +(A::LinearAlgebra.Bidiagonal, B::LinearAlgebra.LowerTriangular) in LinearAlgebra at C:\\Users\\sfrie\\AppData\\Local\\Programs\\Julia-1.6.3\\share\\julia\\stdlib\\v1.6\\LinearAlgebra\\src\\special.jl:94\n",
       "[42] +(A::LinearAlgebra.Bidiagonal, B::LinearAlgebra.UnitLowerTriangular) in LinearAlgebra at C:\\Users\\sfrie\\AppData\\Local\\Programs\\Julia-1.6.3\\share\\julia\\stdlib\\v1.6\\LinearAlgebra\\src\\special.jl:94\n",
       "[43] +(A::LinearAlgebra.Bidiagonal, B::LinearAlgebra.Diagonal) in LinearAlgebra at C:\\Users\\sfrie\\AppData\\Local\\Programs\\Julia-1.6.3\\share\\julia\\stdlib\\v1.6\\LinearAlgebra\\src\\special.jl:115\n",
       "[44] +(A::LinearAlgebra.Bidiagonal, B::LinearAlgebra.Tridiagonal) in LinearAlgebra at C:\\Users\\sfrie\\AppData\\Local\\Programs\\Julia-1.6.3\\share\\julia\\stdlib\\v1.6\\LinearAlgebra\\src\\special.jl:183\n",
       "[45] +(A::LinearAlgebra.Bidiagonal, B::LinearAlgebra.SymTridiagonal) in LinearAlgebra at C:\\Users\\sfrie\\AppData\\Local\\Programs\\Julia-1.6.3\\share\\julia\\stdlib\\v1.6\\LinearAlgebra\\src\\special.jl:203\n",
       "[46] +(A::LinearAlgebra.Bidiagonal{var\"#s814\", V} where {var\"#s814\"<:Number, V<:AbstractVector{var\"#s814\"}}, B::LinearAlgebra.UniformScaling) in LinearAlgebra at C:\\Users\\sfrie\\AppData\\Local\\Programs\\Julia-1.6.3\\share\\julia\\stdlib\\v1.6\\LinearAlgebra\\src\\special.jl:236\n",
       "[47] +(A::LinearAlgebra.SymTridiagonal, B::LinearAlgebra.SymTridiagonal) in LinearAlgebra at C:\\Users\\sfrie\\AppData\\Local\\Programs\\Julia-1.6.3\\share\\julia\\stdlib\\v1.6\\LinearAlgebra\\src\\tridiag.jl:205\n",
       "[48] +(A::LinearAlgebra.SymTridiagonal, B::LinearAlgebra.Diagonal) in LinearAlgebra at C:\\Users\\sfrie\\AppData\\Local\\Programs\\Julia-1.6.3\\share\\julia\\stdlib\\v1.6\\LinearAlgebra\\src\\special.jl:145\n",
       "[49] +(A::LinearAlgebra.SymTridiagonal, B::LinearAlgebra.Tridiagonal) in LinearAlgebra at C:\\Users\\sfrie\\AppData\\Local\\Programs\\Julia-1.6.3\\share\\julia\\stdlib\\v1.6\\LinearAlgebra\\src\\special.jl:159\n",
       "[50] +(A::LinearAlgebra.SymTridiagonal, B::LinearAlgebra.Bidiagonal) in LinearAlgebra at C:\\Users\\sfrie\\AppData\\Local\\Programs\\Julia-1.6.3\\share\\julia\\stdlib\\v1.6\\LinearAlgebra\\src\\special.jl:213\n",
       "[51] +(A::LinearAlgebra.SymTridiagonal{var\"#s814\", V} where {var\"#s814\"<:Number, V<:AbstractVector{var\"#s814\"}}, B::LinearAlgebra.UniformScaling) in LinearAlgebra at C:\\Users\\sfrie\\AppData\\Local\\Programs\\Julia-1.6.3\\share\\julia\\stdlib\\v1.6\\LinearAlgebra\\src\\special.jl:231\n",
       "[52] +(y::AbstractFloat, x::Bool) in Base at bool.jl:102\n",
       "[53] +(Da::LinearAlgebra.Diagonal, Db::LinearAlgebra.Diagonal) in LinearAlgebra at C:\\Users\\sfrie\\AppData\\Local\\Programs\\Julia-1.6.3\\share\\julia\\stdlib\\v1.6\\LinearAlgebra\\src\\diagonal.jl:156\n",
       "[54] +(D::LinearAlgebra.Diagonal, S::LinearAlgebra.Symmetric) in LinearAlgebra at C:\\Users\\sfrie\\AppData\\Local\\Programs\\Julia-1.6.3\\share\\julia\\stdlib\\v1.6\\LinearAlgebra\\src\\diagonal.jl:160\n",
       "[55] +(D::LinearAlgebra.Diagonal{var\"#s814\", V} where {var\"#s814\"<:Real, V<:AbstractVector{var\"#s814\"}}, H::LinearAlgebra.Hermitian) in LinearAlgebra at C:\\Users\\sfrie\\AppData\\Local\\Programs\\Julia-1.6.3\\share\\julia\\stdlib\\v1.6\\LinearAlgebra\\src\\diagonal.jl:166\n",
       "[56] +(A::LinearAlgebra.Diagonal, B::LinearAlgebra.Bidiagonal) in LinearAlgebra at C:\\Users\\sfrie\\AppData\\Local\\Programs\\Julia-1.6.3\\share\\julia\\stdlib\\v1.6\\LinearAlgebra\\src\\special.jl:125\n",
       "[57] +(A::LinearAlgebra.Diagonal, B::LinearAlgebra.SymTridiagonal) in LinearAlgebra at C:\\Users\\sfrie\\AppData\\Local\\Programs\\Julia-1.6.3\\share\\julia\\stdlib\\v1.6\\LinearAlgebra\\src\\special.jl:135\n",
       "[58] +(A::LinearAlgebra.Diagonal, B::LinearAlgebra.Tridiagonal) in LinearAlgebra at C:\\Users\\sfrie\\AppData\\Local\\Programs\\Julia-1.6.3\\share\\julia\\stdlib\\v1.6\\LinearAlgebra\\src\\special.jl:163\n",
       "[59] +(A::LinearAlgebra.Diagonal{var\"#s814\", V} where {var\"#s814\"<:Number, V<:AbstractVector{var\"#s814\"}}, B::LinearAlgebra.UniformScaling) in LinearAlgebra at C:\\Users\\sfrie\\AppData\\Local\\Programs\\Julia-1.6.3\\share\\julia\\stdlib\\v1.6\\LinearAlgebra\\src\\special.jl:241\n",
       "[60] +(index1::CartesianIndex{N}, index2::CartesianIndex{N}) where N in Base.IteratorsMD at multidimensional.jl:114\n",
       "[61] +(r1::OrdinalRange, r2::OrdinalRange) in Base at range.jl:1103\n",
       "[62] +(A::SparseArrays.AbstractSparseMatrixCSC, B::SparseArrays.AbstractSparseMatrixCSC) in SparseArrays at C:\\Users\\sfrie\\AppData\\Local\\Programs\\Julia-1.6.3\\share\\julia\\stdlib\\v1.6\\SparseArrays\\src\\sparsematrix.jl:1741\n",
       "[63] +(A::SparseArrays.AbstractSparseMatrixCSC, B::Array) in SparseArrays at C:\\Users\\sfrie\\AppData\\Local\\Programs\\Julia-1.6.3\\share\\julia\\stdlib\\v1.6\\SparseArrays\\src\\sparsematrix.jl:1744\n",
       "[64] +(A::SparseArrays.AbstractSparseMatrixCSC, J::LinearAlgebra.UniformScaling) in SparseArrays at C:\\Users\\sfrie\\AppData\\Local\\Programs\\Julia-1.6.3\\share\\julia\\stdlib\\v1.6\\SparseArrays\\src\\sparsematrix.jl:3797\n",
       "[65] +(F::LinearAlgebra.Hessenberg, J::LinearAlgebra.UniformScaling) in LinearAlgebra at C:\\Users\\sfrie\\AppData\\Local\\Programs\\Julia-1.6.3\\share\\julia\\stdlib\\v1.6\\LinearAlgebra\\src\\hessenberg.jl:559\n",
       "[66] +(x::Rational, y::Integer) in Base at rational.jl:289\n",
       "[67] +(z::Complex, w::Complex) in Base at complex.jl:275\n",
       "[68] +(x::Dates.Instant) in Dates at C:\\Users\\sfrie\\AppData\\Local\\Programs\\Julia-1.6.3\\share\\julia\\stdlib\\v1.6\\Dates\\src\\arithmetic.jl:4\n",
       "[69] +(A::Array, Bs::Array...) in Base at arraymath.jl:43\n",
       "[70] +(X::StridedArray{var\"#s814\", N} where {var\"#s814\"<:Union{Dates.CompoundPeriod, Dates.Period}, N}, Y::StridedArray{var\"#s813\", N} where {var\"#s813\"<:Union{Dates.CompoundPeriod, Dates.Period}, N}) in Dates at C:\\Users\\sfrie\\AppData\\Local\\Programs\\Julia-1.6.3\\share\\julia\\stdlib\\v1.6\\Dates\\src\\deprecated.jl:62\n",
       "[71] +(A::Array, B::SparseArrays.AbstractSparseMatrixCSC) in SparseArrays at C:\\Users\\sfrie\\AppData\\Local\\Programs\\Julia-1.6.3\\share\\julia\\stdlib\\v1.6\\SparseArrays\\src\\sparsematrix.jl:1745\n",
       "[72] +(x::StridedArray{var\"#s814\", N} where {var\"#s814\"<:Union{Dates.CompoundPeriod, Dates.Period}, N}) in Dates at C:\\Users\\sfrie\\AppData\\Local\\Programs\\Julia-1.6.3\\share\\julia\\stdlib\\v1.6\\Dates\\src\\deprecated.jl:55\n",
       "[73] +(x::StridedArray{var\"#s814\", N} where {var\"#s814\"<:Union{Dates.CompoundPeriod, Dates.Period}, N}, y::Dates.TimeType) in Dates at C:\\Users\\sfrie\\AppData\\Local\\Programs\\Julia-1.6.3\\share\\julia\\stdlib\\v1.6\\Dates\\src\\deprecated.jl:10\n",
       "[74] +(A::LinearAlgebra.LowerTriangular, B::LinearAlgebra.LowerTriangular) in LinearAlgebra at C:\\Users\\sfrie\\AppData\\Local\\Programs\\Julia-1.6.3\\share\\julia\\stdlib\\v1.6\\LinearAlgebra\\src\\triangular.jl:649\n",
       "[75] +(A::LinearAlgebra.LowerTriangular, B::LinearAlgebra.UnitLowerTriangular) in LinearAlgebra at C:\\Users\\sfrie\\AppData\\Local\\Programs\\Julia-1.6.3\\share\\julia\\stdlib\\v1.6\\LinearAlgebra\\src\\triangular.jl:651\n",
       "[76] +(A::LinearAlgebra.LowerTriangular, B::LinearAlgebra.Bidiagonal) in LinearAlgebra at C:\\Users\\sfrie\\AppData\\Local\\Programs\\Julia-1.6.3\\share\\julia\\stdlib\\v1.6\\LinearAlgebra\\src\\special.jl:86\n",
       "[77] +(x::SparseArrays.AbstractSparseVector{Tv, Ti} where {Tv, Ti}, y::SparseArrays.AbstractSparseVector{Tv, Ti} where {Tv, Ti}) in SparseArrays at C:\\Users\\sfrie\\AppData\\Local\\Programs\\Julia-1.6.3\\share\\julia\\stdlib\\v1.6\\SparseArrays\\src\\sparsevector.jl:1345\n",
       "[78] +(A::SparseArrays.AbstractSparseMatrix{Tv, Ti} where {Tv, Ti}, B::LinearAlgebra.Hermitian{var\"#s814\", var\"#s813\"} where {var\"#s814\", var\"#s813\"<:(SparseArrays.AbstractSparseMatrix{Tv, Ti} where {Tv, Ti})}) in SparseArrays at C:\\Users\\sfrie\\AppData\\Local\\Programs\\Julia-1.6.3\\share\\julia\\stdlib\\v1.6\\SparseArrays\\src\\linalg.jl:14\n",
       "[79] +(A::SparseArrays.AbstractSparseMatrix{Tv, Ti} where {Tv, Ti}, B::LinearAlgebra.Hermitian) in SparseArrays at C:\\Users\\sfrie\\AppData\\Local\\Programs\\Julia-1.6.3\\share\\julia\\stdlib\\v1.6\\SparseArrays\\src\\linalg.jl:17\n",
       "[80] +(A::SparseArrays.AbstractSparseMatrix{Tv, Ti} where {Tv, Ti}, B::LinearAlgebra.Symmetric{var\"#s814\", var\"#s813\"} where {var\"#s814\", var\"#s813\"<:(SparseArrays.AbstractSparseMatrix{Tv, Ti} where {Tv, Ti})}) in SparseArrays at C:\\Users\\sfrie\\AppData\\Local\\Programs\\Julia-1.6.3\\share\\julia\\stdlib\\v1.6\\SparseArrays\\src\\linalg.jl:14\n",
       "[81] +(A::SparseArrays.AbstractSparseMatrix{Tv, Ti} where {Tv, Ti}, B::LinearAlgebra.Symmetric) in SparseArrays at C:\\Users\\sfrie\\AppData\\Local\\Programs\\Julia-1.6.3\\share\\julia\\stdlib\\v1.6\\SparseArrays\\src\\linalg.jl:17\n",
       "[82] +(x::Ptr, y::Integer) in Base at pointer.jl:159\n",
       "[83] +(r::AbstractRange{var\"#s814\"} where var\"#s814\"<:Dates.TimeType, x::Dates.Period) in Dates at C:\\Users\\sfrie\\AppData\\Local\\Programs\\Julia-1.6.3\\share\\julia\\stdlib\\v1.6\\Dates\\src\\ranges.jl:63\n",
       "[84] +(A::LinearAlgebra.UpperTriangular, B::LinearAlgebra.UpperTriangular) in LinearAlgebra at C:\\Users\\sfrie\\AppData\\Local\\Programs\\Julia-1.6.3\\share\\julia\\stdlib\\v1.6\\LinearAlgebra\\src\\triangular.jl:648\n",
       "[85] +(A::LinearAlgebra.UpperTriangular, B::LinearAlgebra.UnitUpperTriangular) in LinearAlgebra at C:\\Users\\sfrie\\AppData\\Local\\Programs\\Julia-1.6.3\\share\\julia\\stdlib\\v1.6\\LinearAlgebra\\src\\triangular.jl:650\n",
       "[86] +(A::LinearAlgebra.UpperTriangular, B::LinearAlgebra.Bidiagonal) in LinearAlgebra at C:\\Users\\sfrie\\AppData\\Local\\Programs\\Julia-1.6.3\\share\\julia\\stdlib\\v1.6\\LinearAlgebra\\src\\special.jl:86\n",
       "[87] +(x::Base.TwicePrecision, y::Number) in Base at twiceprecision.jl:267\n",
       "[88] +(x::Base.TwicePrecision{T}, y::Base.TwicePrecision{T}) where T in Base at twiceprecision.jl:273\n",
       "[89] +(x::Base.TwicePrecision, y::Base.TwicePrecision) in Base at twiceprecision.jl:278\n",
       "[90] +(r1::StepRangeLen{T, R, S} where S, r2::StepRangeLen{T, R, S} where S) where {R<:Base.TwicePrecision, T} in Base at twiceprecision.jl:574\n",
       "[91] +(r1::StepRangeLen{T, S, S1} where S1, r2::StepRangeLen{T, S, S1} where S1) where {T, S} in Base at range.jl:1126\n",
       "[92] +(a::Point, b::Point) in Main at c:\\Users\\sfrie\\Ydata\\ydata_python\\lecture_6\\[Py4DP] [Lecture-6] Julia.ipynb:1\n",
       "[93] +(A::BitArray, B::BitArray) in Base at bitarray.jl:1127\n",
       "[94] +(A::LinearAlgebra.UnitUpperTriangular, B::LinearAlgebra.UpperTriangular) in LinearAlgebra at C:\\Users\\sfrie\\AppData\\Local\\Programs\\Julia-1.6.3\\share\\julia\\stdlib\\v1.6\\LinearAlgebra\\src\\triangular.jl:652\n",
       "[95] +(A::LinearAlgebra.UnitUpperTriangular, B::LinearAlgebra.UnitUpperTriangular) in LinearAlgebra at C:\\Users\\sfrie\\AppData\\Local\\Programs\\Julia-1.6.3\\share\\julia\\stdlib\\v1.6\\LinearAlgebra\\src\\triangular.jl:654\n",
       "[96] +(UL::LinearAlgebra.UnitUpperTriangular, J::LinearAlgebra.UniformScaling) in LinearAlgebra at C:\\Users\\sfrie\\AppData\\Local\\Programs\\Julia-1.6.3\\share\\julia\\stdlib\\v1.6\\LinearAlgebra\\src\\uniformscaling.jl:182\n",
       "[97] +(A::LinearAlgebra.UnitUpperTriangular, B::LinearAlgebra.Bidiagonal) in LinearAlgebra at C:\\Users\\sfrie\\AppData\\Local\\Programs\\Julia-1.6.3\\share\\julia\\stdlib\\v1.6\\LinearAlgebra\\src\\special.jl:86\n",
       "[98] +(x::AbstractArray{var\"#s814\", N} where {var\"#s814\"<:Dates.TimeType, N}, y::Union{Dates.CompoundPeriod, Dates.Period}) in Dates at C:\\Users\\sfrie\\AppData\\Local\\Programs\\Julia-1.6.3\\share\\julia\\stdlib\\v1.6\\Dates\\src\\deprecated.jl:6\n",
       "[99] +(y::Dates.TimeType, x::StridedArray{var\"#s814\", N} where {var\"#s814\"<:Union{Dates.CompoundPeriod, Dates.Period}, N}) in Dates at C:\\Users\\sfrie\\AppData\\Local\\Programs\\Julia-1.6.3\\share\\julia\\stdlib\\v1.6\\Dates\\src\\deprecated.jl:18\n",
       "[100] +(A::LinearAlgebra.UnitLowerTriangular, B::LinearAlgebra.LowerTriangular) in LinearAlgebra at C:\\Users\\sfrie\\AppData\\Local\\Programs\\Julia-1.6.3\\share\\julia\\stdlib\\v1.6\\LinearAlgebra\\src\\triangular.jl:653\n",
       "[101] +(A::LinearAlgebra.UnitLowerTriangular, B::LinearAlgebra.UnitLowerTriangular) in LinearAlgebra at C:\\Users\\sfrie\\AppData\\Local\\Programs\\Julia-1.6.3\\share\\julia\\stdlib\\v1.6\\LinearAlgebra\\src\\triangular.jl:655\n",
       "[102] +(A::LinearAlgebra.AbstractTriangular, B::LinearAlgebra.AbstractTriangular) in LinearAlgebra at C:\\Users\\sfrie\\AppData\\Local\\Programs\\Julia-1.6.3\\share\\julia\\stdlib\\v1.6\\LinearAlgebra\\src\\triangular.jl:656\n",
       "[103] +(UL::LinearAlgebra.UnitLowerTriangular, J::LinearAlgebra.UniformScaling) in LinearAlgebra at C:\\Users\\sfrie\\AppData\\Local\\Programs\\Julia-1.6.3\\share\\julia\\stdlib\\v1.6\\LinearAlgebra\\src\\uniformscaling.jl:182\n",
       "[104] +(A::LinearAlgebra.UnitLowerTriangular, B::LinearAlgebra.Bidiagonal) in LinearAlgebra at C:\\Users\\sfrie\\AppData\\Local\\Programs\\Julia-1.6.3\\share\\julia\\stdlib\\v1.6\\LinearAlgebra\\src\\special.jl:86\n",
       "[105] +(r1::LinRange{T}, r2::LinRange{T}) where T in Base at range.jl:1110\n",
       "[106] +(r1::Union{LinRange, OrdinalRange, StepRangeLen}, r2::Union{LinRange, OrdinalRange, StepRangeLen}) in Base at range.jl:1119\n",
       "[107] +(A::AbstractArray, B::AbstractArray) in Base at arraymath.jl:37\n",
       "[108] +(J::LinearAlgebra.UniformScaling) in LinearAlgebra at C:\\Users\\sfrie\\AppData\\Local\\Programs\\Julia-1.6.3\\share\\julia\\stdlib\\v1.6\\LinearAlgebra\\src\\uniformscaling.jl:150\n",
       "[109] +(J::LinearAlgebra.UniformScaling, x::Number) in LinearAlgebra at C:\\Users\\sfrie\\AppData\\Local\\Programs\\Julia-1.6.3\\share\\julia\\stdlib\\v1.6\\LinearAlgebra\\src\\uniformscaling.jl:145\n",
       "[110] +(J1::LinearAlgebra.UniformScaling, J2::LinearAlgebra.UniformScaling) in LinearAlgebra at C:\\Users\\sfrie\\AppData\\Local\\Programs\\Julia-1.6.3\\share\\julia\\stdlib\\v1.6\\LinearAlgebra\\src\\uniformscaling.jl:151\n",
       "[111] +(J::LinearAlgebra.UniformScaling, B::BitMatrix) in LinearAlgebra at C:\\Users\\sfrie\\AppData\\Local\\Programs\\Julia-1.6.3\\share\\julia\\stdlib\\v1.6\\LinearAlgebra\\src\\uniformscaling.jl:153\n",
       "[112] +(J::LinearAlgebra.UniformScaling, F::LinearAlgebra.Hessenberg) in LinearAlgebra at C:\\Users\\sfrie\\AppData\\Local\\Programs\\Julia-1.6.3\\share\\julia\\stdlib\\v1.6\\LinearAlgebra\\src\\hessenberg.jl:560\n",
       "[113] +(A::LinearAlgebra.UniformScaling, B::LinearAlgebra.Tridiagonal{var\"#s814\", V} where {var\"#s814\"<:Number, V<:AbstractVector{var\"#s814\"}}) in LinearAlgebra at C:\\Users\\sfrie\\AppData\\Local\\Programs\\Julia-1.6.3\\share\\julia\\stdlib\\v1.6\\LinearAlgebra\\src\\special.jl:245\n",
       "[114] +(A::LinearAlgebra.UniformScaling, B::LinearAlgebra.SymTridiagonal{var\"#s814\", V} where {var\"#s814\"<:Number, V<:AbstractVector{var\"#s814\"}}) in LinearAlgebra at C:\\Users\\sfrie\\AppData\\Local\\Programs\\Julia-1.6.3\\share\\julia\\stdlib\\v1.6\\LinearAlgebra\\src\\special.jl:250\n",
       "[115] +(A::LinearAlgebra.UniformScaling, B::LinearAlgebra.Bidiagonal{var\"#s814\", V} where {var\"#s814\"<:Number, V<:AbstractVector{var\"#s814\"}}) in LinearAlgebra at C:\\Users\\sfrie\\AppData\\Local\\Programs\\Julia-1.6.3\\share\\julia\\stdlib\\v1.6\\LinearAlgebra\\src\\special.jl:255\n",
       "[116] +(A::LinearAlgebra.UniformScaling, B::LinearAlgebra.Diagonal{var\"#s814\", V} where {var\"#s814\"<:Number, V<:AbstractVector{var\"#s814\"}}) in LinearAlgebra at C:\\Users\\sfrie\\AppData\\Local\\Programs\\Julia-1.6.3\\share\\julia\\stdlib\\v1.6\\LinearAlgebra\\src\\special.jl:260\n",
       "[117] +(J::LinearAlgebra.UniformScaling, A::AbstractMatrix{T} where T) in LinearAlgebra at C:\\Users\\sfrie\\AppData\\Local\\Programs\\Julia-1.6.3\\share\\julia\\stdlib\\v1.6\\LinearAlgebra\\src\\uniformscaling.jl:154\n",
       "[118] +(x::Dates.CompoundPeriod, y::Dates.Period) in Dates at C:\\Users\\sfrie\\AppData\\Local\\Programs\\Julia-1.6.3\\share\\julia\\stdlib\\v1.6\\Dates\\src\\periods.jl:352\n",
       "[119] +(x::Dates.CompoundPeriod, y::Dates.CompoundPeriod) in Dates at C:\\Users\\sfrie\\AppData\\Local\\Programs\\Julia-1.6.3\\share\\julia\\stdlib\\v1.6\\Dates\\src\\periods.jl:354\n",
       "[120] +(x::Dates.CompoundPeriod, y::Dates.TimeType) in Dates at C:\\Users\\sfrie\\AppData\\Local\\Programs\\Julia-1.6.3\\share\\julia\\stdlib\\v1.6\\Dates\\src\\periods.jl:382\n",
       "[121] +(x::Rational{BigInt}, y::Rational{BigInt}) in Base.GMP.MPQ at gmp.jl:889\n",
       "[122] +(x::Rational) in Base at rational.jl:268\n",
       "[123] +(x::Rational, y::Rational) in Base at rational.jl:284\n",
       "[124] +(level::Base.CoreLogging.LogLevel, inc::Integer) in Base.CoreLogging at logging.jl:131\n",
       "[125] +(B::BitMatrix, J::LinearAlgebra.UniformScaling) in LinearAlgebra at C:\\Users\\sfrie\\AppData\\Local\\Programs\\Julia-1.6.3\\share\\julia\\stdlib\\v1.6\\LinearAlgebra\\src\\uniformscaling.jl:152\n",
       "[126] +(A::AbstractMatrix{T} where T, J::LinearAlgebra.UniformScaling) in LinearAlgebra at C:\\Users\\sfrie\\AppData\\Local\\Programs\\Julia-1.6.3\\share\\julia\\stdlib\\v1.6\\LinearAlgebra\\src\\uniformscaling.jl:215\n",
       "[127] +(x::AbstractArray{var\"#s77\", N} where {var\"#s77\"<:Number, N}) in Base at abstractarraymath.jl:97\n",
       "[128] +(a::Pkg.Resolve.VersionWeight, b::Pkg.Resolve.VersionWeight) in Pkg.Resolve at C:\\Users\\sfrie\\AppData\\Local\\Programs\\Julia-1.6.3\\share\\julia\\stdlib\\v1.6\\Pkg\\src\\Resolve\\versionweights.jl:22\n",
       "[129] +(x::Float32, y::Float32) in Base at float.jl:325\n",
       "[130] +(x::BigInt, y::BigInt) in Base.GMP at gmp.jl:479\n",
       "[131] +(a::BigInt, b::BigInt, c::BigInt) in Base.GMP at gmp.jl:519\n",
       "[132] +(a::BigInt, b::BigInt, c::BigInt, d::BigInt) in Base.GMP at gmp.jl:520\n",
       "[133] +(a::BigInt, b::BigInt, c::BigInt, d::BigInt, e::BigInt) in Base.GMP at gmp.jl:521\n",
       "[134] +(x::BigInt, c::Union{UInt16, UInt32, UInt8}) in Base.GMP at gmp.jl:527\n",
       "[135] +(x::BigInt, c::Union{Int16, Int32, Int8}) in Base.GMP at gmp.jl:533\n",
       "[136] +(c::BigInt, x::BigFloat) in Base.MPFR at mpfr.jl:400\n",
       "[137] +(x::BigFloat, y::BigFloat) in Base.MPFR at mpfr.jl:364\n",
       "[138] +(x::BigFloat, c::Union{UInt16, UInt32, UInt8}) in Base.MPFR at mpfr.jl:371\n",
       "[139] +(x::BigFloat, c::Union{Int16, Int32, Int8}) in Base.MPFR at mpfr.jl:379\n",
       "[140] +(x::BigFloat, c::Union{Float16, Float32, Float64}) in Base.MPFR at mpfr.jl:387\n",
       "[141] +(x::BigFloat, c::BigInt) in Base.MPFR at mpfr.jl:395\n",
       "[142] +(a::BigFloat, b::BigFloat, c::BigFloat) in Base.MPFR at mpfr.jl:536\n",
       "[143] +(a::BigFloat, b::BigFloat, c::BigFloat, d::BigFloat) in Base.MPFR at mpfr.jl:542\n",
       "[144] +(a::BigFloat, b::BigFloat, c::BigFloat, d::BigFloat, e::BigFloat) in Base.MPFR at mpfr.jl:549\n",
       "[145] +(a::Pkg.Resolve.FieldValue, b::Pkg.Resolve.FieldValue) in Pkg.Resolve at C:\\Users\\sfrie\\AppData\\Local\\Programs\\Julia-1.6.3\\share\\julia\\stdlib\\v1.6\\Pkg\\src\\Resolve\\fieldvalues.jl:43\n",
       "[146] +(x::Bool) in Base at bool.jl:89\n",
       "[147] +(x::Integer, y::Ptr) in Base at pointer.jl:161\n",
       "[148] +(y::Integer, x::Rational) in Base at rational.jl:296\n",
       "[149] +(x::Integer, y::AbstractChar) in Base at char.jl:224\n",
       "[150] +(x::Bool, y::Bool) in Base at bool.jl:92\n",
       "[151] +(a::Integer, b::Integer) in Base at int.jl:919\n",
       "[152] +(x::Bool, y::T) where T<:AbstractFloat in Base at bool.jl:99\n",
       "[153] +(x::Bool, z::Complex{Bool}) in Base at complex.jl:286\n",
       "[154] +(x::Real, z::Complex{Bool}) in Base at complex.jl:300\n",
       "[155] +(x::Bool, z::Complex) in Base at complex.jl:293\n",
       "[156] +(x::Real, z::Complex) in Base at complex.jl:312\n",
       "[157] +(dt::Dates.DateTime, y::Dates.Year) in Dates at C:\\Users\\sfrie\\AppData\\Local\\Programs\\Julia-1.6.3\\share\\julia\\stdlib\\v1.6\\Dates\\src\\arithmetic.jl:23\n",
       "[158] +(dt::Dates.DateTime, z::Dates.Month) in Dates at C:\\Users\\sfrie\\AppData\\Local\\Programs\\Julia-1.6.3\\share\\julia\\stdlib\\v1.6\\Dates\\src\\arithmetic.jl:47\n",
       "[159] +(x::Dates.DateTime, y::Dates.Quarter) in Dates at C:\\Users\\sfrie\\AppData\\Local\\Programs\\Julia-1.6.3\\share\\julia\\stdlib\\v1.6\\Dates\\src\\arithmetic.jl:75\n",
       "[160] +(x::Dates.DateTime, y::Dates.Period) in Dates at C:\\Users\\sfrie\\AppData\\Local\\Programs\\Julia-1.6.3\\share\\julia\\stdlib\\v1.6\\Dates\\src\\arithmetic.jl:81\n",
       "[161] +(t::Dates.Time, dt::Dates.Date) in Dates at C:\\Users\\sfrie\\AppData\\Local\\Programs\\Julia-1.6.3\\share\\julia\\stdlib\\v1.6\\Dates\\src\\arithmetic.jl:20\n",
       "[162] +(x::Dates.Time, y::Dates.TimePeriod) in Dates at C:\\Users\\sfrie\\AppData\\Local\\Programs\\Julia-1.6.3\\share\\julia\\stdlib\\v1.6\\Dates\\src\\arithmetic.jl:83\n",
       "[163] +(dt::Dates.Date, t::Dates.Time) in Dates at C:\\Users\\sfrie\\AppData\\Local\\Programs\\Julia-1.6.3\\share\\julia\\stdlib\\v1.6\\Dates\\src\\arithmetic.jl:19\n",
       "[164] +(dt::Dates.Date, y::Dates.Year) in Dates at C:\\Users\\sfrie\\AppData\\Local\\Programs\\Julia-1.6.3\\share\\julia\\stdlib\\v1.6\\Dates\\src\\arithmetic.jl:27\n",
       "[165] +(dt::Dates.Date, z::Dates.Month) in Dates at C:\\Users\\sfrie\\AppData\\Local\\Programs\\Julia-1.6.3\\share\\julia\\stdlib\\v1.6\\Dates\\src\\arithmetic.jl:54\n",
       "[166] +(x::Dates.Date, y::Dates.Quarter) in Dates at C:\\Users\\sfrie\\AppData\\Local\\Programs\\Julia-1.6.3\\share\\julia\\stdlib\\v1.6\\Dates\\src\\arithmetic.jl:73\n",
       "[167] +(x::Dates.Date, y::Dates.Week) in Dates at C:\\Users\\sfrie\\AppData\\Local\\Programs\\Julia-1.6.3\\share\\julia\\stdlib\\v1.6\\Dates\\src\\arithmetic.jl:77\n",
       "[168] +(x::Dates.Date, y::Dates.Day) in Dates at C:\\Users\\sfrie\\AppData\\Local\\Programs\\Julia-1.6.3\\share\\julia\\stdlib\\v1.6\\Dates\\src\\arithmetic.jl:79\n",
       "[169] +(x::Dates.TimeType) in Dates at C:\\Users\\sfrie\\AppData\\Local\\Programs\\Julia-1.6.3\\share\\julia\\stdlib\\v1.6\\Dates\\src\\arithmetic.jl:8\n",
       "[170] +(x::Dates.AbstractTime, y::Missing) in Dates at C:\\Users\\sfrie\\AppData\\Local\\Programs\\Julia-1.6.3\\share\\julia\\stdlib\\v1.6\\Dates\\src\\arithmetic.jl:88\n",
       "[171] +(a::Dates.TimeType, b::Dates.Period, c::Dates.Period) in Dates at C:\\Users\\sfrie\\AppData\\Local\\Programs\\Julia-1.6.3\\share\\julia\\stdlib\\v1.6\\Dates\\src\\periods.jl:373\n",
       "[172] +(a::Dates.TimeType, b::Dates.Period, c::Dates.Period, d::Dates.Period...) in Dates at C:\\Users\\sfrie\\AppData\\Local\\Programs\\Julia-1.6.3\\share\\julia\\stdlib\\v1.6\\Dates\\src\\periods.jl:374\n",
       "[173] +(x::Dates.TimeType, y::Dates.CompoundPeriod) in Dates at C:\\Users\\sfrie\\AppData\\Local\\Programs\\Julia-1.6.3\\share\\julia\\stdlib\\v1.6\\Dates\\src\\periods.jl:376\n",
       "[174] +(x::Float64, y::Float64) in Base at float.jl:326\n",
       "[175] +(x::Float16, y::Float16) in Base at float.jl:324\n",
       "[176] +(z::Complex{Bool}, x::Bool) in Base at complex.jl:287\n",
       "[177] +(z::Complex, x::Bool) in Base at complex.jl:294\n",
       "[178] +(z::Complex{Bool}, x::Real) in Base at complex.jl:301\n",
       "[179] +(z::Complex) in Base at complex.jl:273\n",
       "[180] +(x::Number, y::Base.TwicePrecision) in Base at twiceprecision.jl:271\n",
       "[181] +(::Number, ::Missing) in Base at missing.jl:117\n",
       "[182] +(x::Number, J::LinearAlgebra.UniformScaling) in LinearAlgebra at C:\\Users\\sfrie\\AppData\\Local\\Programs\\Julia-1.6.3\\share\\julia\\stdlib\\v1.6\\LinearAlgebra\\src\\uniformscaling.jl:146\n",
       "[183] +(z::Complex, x::Real) in Base at complex.jl:313\n",
       "[184] +(x::Number) in Base at operators.jl:515\n",
       "[185] +(x::T, y::T) where T<:Number in Base at promotion.jl:396\n",
       "[186] +(x::Number, y::Number) in Base at promotion.jl:321\n",
       "[187] +(::Missing) in Base at missing.jl:101\n",
       "[188] +(::Missing, ::Missing) in Base at missing.jl:115\n",
       "[189] +(::Missing, ::Number) in Base at missing.jl:116\n",
       "[190] +(x::Missing, y::Dates.AbstractTime) in Dates at C:\\Users\\sfrie\\AppData\\Local\\Programs\\Julia-1.6.3\\share\\julia\\stdlib\\v1.6\\Dates\\src\\arithmetic.jl:89\n",
       "[191] +(a, b, c, xs...) in Base at operators.jl:560"
      ]
     },
     "metadata": {},
     "output_type": "display_data"
    }
   ],
   "source": [
    "methods(+)"
   ]
  },
  {
   "cell_type": "markdown",
   "metadata": {},
   "source": [
    "# Performance\n",
    "\n",
    "Julia is generally faster or at least on par with NumPy (even with Numba's JIT). Linear algebra and high-performance array are parts of the language:"
   ]
  },
  {
   "cell_type": "code",
   "execution_count": 16,
   "metadata": {},
   "outputs": [],
   "source": [
    "N = 1000\n",
    "a = randn(Float64, (N, N))\n",
    "b = randn(Float64, (N, N));"
   ]
  },
  {
   "cell_type": "markdown",
   "metadata": {},
   "source": [
    "Dot product:"
   ]
  },
  {
   "cell_type": "code",
   "execution_count": 17,
   "metadata": {},
   "outputs": [
    {
     "name": "stdout",
     "output_type": "stream",
     "text": [
      "  37.142 ms (3 allocations: 7.63 MiB)\n"
     ]
    },
    {
     "data": {
      "text/plain": [
       "1000×1000 Matrix{Float64}:\n",
       "  35.0719     2.55508   -23.5133   …  -16.4329     80.1428    -5.81725\n",
       "  43.4447    60.1029     88.9469      -23.5711    -58.4321   -31.5478\n",
       " -24.9623    10.848     -33.1031      -18.9542    -50.087    -47.2288\n",
       " -32.0018    52.1243    -17.0516        8.0373    -32.8635   -22.902\n",
       "  12.9622     0.705472  -29.656       -19.0333     15.9855    51.4057\n",
       " -53.8903    -0.832835   15.4248   …   37.6994      2.67829   49.2886\n",
       " -42.6571    40.271      10.0743      -48.007      31.3472   -33.8919\n",
       "   5.75821  -34.667      56.1406       -4.71211     7.22203   23.2524\n",
       "  14.0739    47.6863      7.59661      38.7782    -39.6542   -12.3448\n",
       " -18.0648    -9.49424     9.1994        4.97529    -7.96556  -30.4275\n",
       "   ⋮                               ⋱                         \n",
       "  17.394     -2.09662     9.55351      -0.841151  -28.3907    52.6158\n",
       "  -4.87735   20.752     -18.9958      -50.8547     -2.17405  -93.1279\n",
       "  11.8946   -19.9064     20.5875      -13.4281     29.76      36.0749\n",
       "  16.3301    43.6416    -30.8997       48.1604     37.0381   -13.2253\n",
       "  19.1887     4.04783    15.6423   …  -28.1425      4.88065   41.6541\n",
       "  19.6737    -2.91212    13.7358      -20.9974     76.9443    11.7404\n",
       "   4.42161  -51.6703    -19.8074       19.0196    -22.9225    27.7915\n",
       "  24.6185    26.5972     13.1291       12.8         6.44309  -10.4929\n",
       "  14.0723    75.7175    -35.7535      -20.811      16.3803     4.56126"
      ]
     },
     "metadata": {},
     "output_type": "display_data"
    }
   ],
   "source": [
    "@btime a'b"
   ]
  },
  {
   "cell_type": "markdown",
   "metadata": {},
   "source": [
    "# Vectorization and fusion\n",
    "\n",
    "Let's define a scalar function:"
   ]
  },
  {
   "cell_type": "code",
   "execution_count": 18,
   "metadata": {},
   "outputs": [
    {
     "data": {
      "text/plain": [
       "relu (generic function with 1 method)"
      ]
     },
     "metadata": {},
     "output_type": "display_data"
    }
   ],
   "source": [
    "relu(a::Number) = max(0, a)"
   ]
  },
  {
   "cell_type": "markdown",
   "metadata": {},
   "source": [
    "And vectorize (i.e. *broadcast*) it:"
   ]
  },
  {
   "cell_type": "code",
   "execution_count": 19,
   "metadata": {},
   "outputs": [
    {
     "name": "stdout",
     "output_type": "stream",
     "text": [
      "  1.820 ms (5 allocations: 7.63 MiB)\n"
     ]
    },
    {
     "data": {
      "text/plain": [
       "1000×1000 Matrix{Float64}:\n",
       " 0.0        0.0        0.0       0.0       …  0.0       0.181974   0.34207\n",
       " 0.0        0.0        0.319158  0.633009     0.0       0.0        0.0\n",
       " 0.0        0.0        0.0       0.0          0.0       0.735232   1.76079\n",
       " 0.636602   0.039068   0.0       1.53936      0.0       0.316189   0.250761\n",
       " 0.0        0.0        0.0       0.0          0.0       0.0961098  0.233341\n",
       " 0.114362   0.0        0.0       0.0       …  0.640049  0.0        0.0\n",
       " 0.0        0.470206   1.65335   0.0          0.0       0.0        0.0\n",
       " 0.0        0.0        0.0       0.607818     0.0       0.0        1.02304\n",
       " 0.0        0.0        0.0       0.0          0.013587  0.0        0.3967\n",
       " 0.0        0.61623    0.0       0.906179     1.54052   0.0        0.0\n",
       " ⋮                                         ⋱                       \n",
       " 0.0        1.42016    0.0       0.0          0.328852  0.94829    0.0\n",
       " 0.0        0.0        0.0       0.561237     0.804022  0.0        0.0\n",
       " 0.173844   0.0378839  0.611802  0.0          0.0       0.0        0.0\n",
       " 0.0927907  0.0        0.324674  0.0          0.0       0.755995   0.0\n",
       " 0.905883   0.0        0.315391  0.893641  …  0.295231  0.578268   0.0\n",
       " 0.0        0.100363   0.696192  0.0          0.0       0.612367   0.0\n",
       " 0.0        0.353553   0.0       0.348233     1.18036   0.143368   0.0\n",
       " 0.0        1.35022    0.674885  0.0          0.0       0.0        0.0\n",
       " 0.0        0.0        0.0       0.54452      0.0       0.0        0.114911"
      ]
     },
     "metadata": {},
     "output_type": "display_data"
    }
   ],
   "source": [
    "@btime relu.(a)"
   ]
  },
  {
   "cell_type": "markdown",
   "metadata": {},
   "source": [
    "Of course, we do not need a separate functions for this, cause broadcasting works as expected directly:"
   ]
  },
  {
   "cell_type": "code",
   "execution_count": 26,
   "metadata": {},
   "outputs": [
    {
     "data": {
      "text/plain": [
       "1000×1000 Array{Float64,2}:\n",
       " 0.0        0.0       0.760295   0.417175  …  1.29851     0.576061  0.0\n",
       " 0.0        0.0       0.815669   0.0          0.0         0.956743  1.89822\n",
       " 0.0        0.0       0.0        0.445039     2.07947     0.0       0.0\n",
       " 2.62331    0.781411  0.0        0.695569     0.0         0.895726  0.521313\n",
       " 0.220799   0.0       0.171349   0.169255     0.0         0.721496  0.0\n",
       " 0.0        0.420295  0.0        0.0       …  0.551026    0.0       0.0\n",
       " 0.0        0.0       0.529636   0.459494     0.0         0.469946  0.0\n",
       " 0.934899   2.34038   0.0        0.0          0.0         1.47002   0.0821255\n",
       " 0.0        0.584367  0.290647   0.640149     1.61115     0.0       0.0\n",
       " 2.04438    0.219168  0.0181634  0.0          0.256746    0.0       0.123959\n",
       " 0.0        0.0       0.686056   0.0       …  1.09091     0.0       0.64629\n",
       " 0.323789   0.097196  1.24745    0.0          0.0         0.348634  0.0\n",
       " 0.0        1.40279   3.26789    1.75513      0.0         0.237101  0.479302\n",
       " ⋮                                         ⋱                        \n",
       " 0.0        0.206799  0.0        0.402367     0.0         0.0       0.777127\n",
       " 0.0        1.62673   2.06605    0.536067     1.30908     0.0       0.0\n",
       " 0.0        1.20904   0.0        0.0       …  0.0         0.0       0.0\n",
       " 2.02766    1.84945   0.38309    0.0          1.25787     0.0       0.0\n",
       " 0.0        0.0       0.0        0.0          1.97396     0.0       0.472239\n",
       " 0.780396   0.0       0.0        0.0          0.00840295  1.33756   0.0\n",
       " 0.0        0.0       0.0        0.48038      1.72034     0.0       0.0\n",
       " 0.0795058  0.0       0.0        0.529264  …  0.0         0.274597  0.540244\n",
       " 1.42415    0.0       0.262254   0.0          1.62103     0.0       0.0138896\n",
       " 1.12571    0.169197  0.814441   0.0          0.0         0.0       0.0\n",
       " 2.22819    1.06822   0.0        0.469343     1.19285     1.2642    0.185277\n",
       " 0.753547   0.0       0.709464   0.57516      0.0         0.0       0.0398089"
      ]
     },
     "execution_count": 26,
     "metadata": {},
     "output_type": "execute_result"
    }
   ],
   "source": [
    "max.(0, a)"
   ]
  },
  {
   "cell_type": "markdown",
   "metadata": {},
   "source": [
    "This may not sound cool, unless you broadcast and *fuse* (which is generally not possible in Python):"
   ]
  },
  {
   "cell_type": "code",
   "execution_count": 27,
   "metadata": {},
   "outputs": [
    {
     "name": "stdout",
     "output_type": "stream",
     "text": [
      "  639.813 μs (7 allocations: 7.63 MiB)\n"
     ]
    },
    {
     "data": {
      "text/plain": [
       "1000×1000 Array{Float64,2}:\n",
       " 0.0        0.0       0.760295   0.417175  …  1.29851     0.576061  0.0\n",
       " 0.0        0.0       0.815669   0.0          0.0         0.956743  1.89822\n",
       " 0.0        0.0       0.0        0.445039     2.07947     0.0       0.0\n",
       " 2.62331    0.781411  0.0        0.695569     0.0         0.895726  0.521313\n",
       " 0.220799   0.0       0.171349   0.169255     0.0         0.721496  0.0\n",
       " 0.0        0.420295  0.0        0.0       …  0.551026    0.0       0.0\n",
       " 0.0        0.0       0.529636   0.459494     0.0         0.469946  0.0\n",
       " 0.934899   2.34038   0.0        0.0          0.0         1.47002   0.0821255\n",
       " 0.0        0.584367  0.290647   0.640149     1.61115     0.0       0.0\n",
       " 2.04438    0.219168  0.0181634  0.0          0.256746    0.0       0.123959\n",
       " 0.0        0.0       0.686056   0.0       …  1.09091     0.0       0.64629\n",
       " 0.323789   0.097196  1.24745    0.0          0.0         0.348634  0.0\n",
       " 0.0        1.40279   3.26789    1.75513      0.0         0.237101  0.479302\n",
       " ⋮                                         ⋱                        \n",
       " 0.0        0.206799  0.0        0.402367     0.0         0.0       0.777127\n",
       " 0.0        1.62673   2.06605    0.536067     1.30908     0.0       0.0\n",
       " 0.0        1.20904   0.0        0.0       …  0.0         0.0       0.0\n",
       " 2.02766    1.84945   0.38309    0.0          1.25787     0.0       0.0\n",
       " 0.0        0.0       0.0        0.0          1.97396     0.0       0.472239\n",
       " 0.780396   0.0       0.0        0.0          0.00840295  1.33756   0.0\n",
       " 0.0        0.0       0.0        0.48038      1.72034     0.0       0.0\n",
       " 0.0795058  0.0       0.0        0.529264  …  0.0         0.274597  0.540244\n",
       " 1.42415    0.0       0.262254   0.0          1.62103     0.0       0.0138896\n",
       " 1.12571    0.169197  0.814441   0.0          0.0         0.0       0.0\n",
       " 2.22819    1.06822   0.0        0.469343     1.19285     1.2642    0.185277\n",
       " 0.753547   0.0       0.709464   0.57516      0.0         0.0       0.0398089"
      ]
     },
     "execution_count": 27,
     "metadata": {},
     "output_type": "execute_result"
    }
   ],
   "source": [
    "@btime relu.(relu.(a))"
   ]
  },
  {
   "cell_type": "markdown",
   "metadata": {},
   "source": [
    "# Custom types\n",
    "\n",
    "Let's create a type for one-hot encoded matrix."
   ]
  },
  {
   "cell_type": "code",
   "execution_count": 28,
   "metadata": {},
   "outputs": [],
   "source": [
    "import Base: size, getindex"
   ]
  },
  {
   "cell_type": "code",
   "execution_count": 29,
   "metadata": {},
   "outputs": [],
   "source": [
    "mutable struct OneHot <: AbstractArray{AbstractFloat, 2}\n",
    "    nclasses::Int64\n",
    "    classes::Array{Int64, 1}\n",
    "\n",
    "    function OneHot(ncls, cls)\n",
    "        ncls < maximum(cls) ? throw(ErrorException(\"actual number of classes $(maximum(cls)) > $ncls\")) : new(ncls, cls)\n",
    "    end\n",
    "end\n",
    "\n",
    "size(o::OneHot) = (length(o.classes), o.nclasses)\n",
    "\n",
    "function Base.getindex(o::OneHot, i)\n",
    "    o.classes[i]\n",
    "end\n",
    "\n",
    "function Base.getindex(o::OneHot, i, j)\n",
    "    Float64(o.classes[i] == j)\n",
    "end\n"
   ]
  },
  {
   "cell_type": "code",
   "execution_count": 30,
   "metadata": {},
   "outputs": [
    {
     "ename": "LoadError",
     "evalue": "actual number of classes 3 > 2",
     "output_type": "error",
     "traceback": [
      "actual number of classes 3 > 2",
      "",
      "Stacktrace:",
      " [1] OneHot(::Int64, ::Array{Int64,1}) at ./In[29]:6",
      " [2] top-level scope at In[30]:1",
      " [3] include_string(::Function, ::Module, ::String, ::String) at ./loading.jl:1091"
     ]
    }
   ],
   "source": [
    "OneHot(2, [1, 3, 1])"
   ]
  },
  {
   "cell_type": "code",
   "execution_count": 31,
   "metadata": {},
   "outputs": [
    {
     "data": {
      "text/plain": [
       "3×2 OneHot:\n",
       " 1.0  0.0\n",
       " 0.0  1.0\n",
       " 1.0  0.0"
      ]
     },
     "execution_count": 31,
     "metadata": {},
     "output_type": "execute_result"
    }
   ],
   "source": [
    "o = OneHot(2, [1, 2, 1])"
   ]
  },
  {
   "cell_type": "code",
   "execution_count": 32,
   "metadata": {},
   "outputs": [
    {
     "data": {
      "text/plain": [
       "2"
      ]
     },
     "execution_count": 32,
     "metadata": {},
     "output_type": "execute_result"
    }
   ],
   "source": [
    "o[2]"
   ]
  },
  {
   "cell_type": "code",
   "execution_count": 33,
   "metadata": {},
   "outputs": [
    {
     "data": {
      "text/plain": [
       "3-element Array{Int64,1}:\n",
       " 1\n",
       " 2\n",
       " 3"
      ]
     },
     "execution_count": 33,
     "metadata": {},
     "output_type": "execute_result"
    }
   ],
   "source": [
    "A = [[1, 2, 3] [4, 5, 6] [7, 8, 9]]\n",
    "v = [1, 2, 3]"
   ]
  },
  {
   "cell_type": "code",
   "execution_count": 34,
   "metadata": {},
   "outputs": [
    {
     "data": {
      "text/plain": [
       "3×3 Array{Int64,2}:\n",
       " 1  4  7\n",
       " 2  5  8\n",
       " 3  6  9"
      ]
     },
     "execution_count": 34,
     "metadata": {},
     "output_type": "execute_result"
    }
   ],
   "source": [
    "A"
   ]
  },
  {
   "cell_type": "code",
   "execution_count": 35,
   "metadata": {},
   "outputs": [
    {
     "data": {
      "text/plain": [
       "3×2 Array{Any,2}:\n",
       "  8.0  4.0\n",
       " 10.0  5.0\n",
       " 12.0  6.0"
      ]
     },
     "execution_count": 35,
     "metadata": {},
     "output_type": "execute_result"
    }
   ],
   "source": [
    "A * o"
   ]
  },
  {
   "cell_type": "code",
   "execution_count": 36,
   "metadata": {},
   "outputs": [
    {
     "name": "stdout",
     "output_type": "stream",
     "text": [
      "  97.277 ns (7 allocations: 224 bytes)\n"
     ]
    },
    {
     "data": {
      "text/plain": [
       "3×2 Array{Any,2}:\n",
       "  8.0  4.0\n",
       " 10.0  5.0\n",
       " 12.0  6.0"
      ]
     },
     "execution_count": 36,
     "metadata": {},
     "output_type": "execute_result"
    }
   ],
   "source": [
    "@btime A * o"
   ]
  },
  {
   "cell_type": "code",
   "execution_count": 37,
   "metadata": {},
   "outputs": [
    {
     "data": {
      "text/plain": [
       "3×2 Array{Float64,2}:\n",
       " 1.0  0.0\n",
       " 0.0  1.0\n",
       " 1.0  0.0"
      ]
     },
     "execution_count": 37,
     "metadata": {},
     "output_type": "execute_result"
    }
   ],
   "source": [
    "o_ar = [[1., 0, 1] [0, 1, 0]]"
   ]
  },
  {
   "cell_type": "code",
   "execution_count": 38,
   "metadata": {},
   "outputs": [
    {
     "data": {
      "text/plain": [
       "3×2 Array{Float64,2}:\n",
       "  8.0  4.0\n",
       " 10.0  5.0\n",
       " 12.0  6.0"
      ]
     },
     "execution_count": 38,
     "metadata": {},
     "output_type": "execute_result"
    }
   ],
   "source": [
    "A * o_ar"
   ]
  },
  {
   "cell_type": "code",
   "execution_count": 39,
   "metadata": {},
   "outputs": [
    {
     "name": "stdout",
     "output_type": "stream",
     "text": [
      "  171.811 ns (5 allocations: 352 bytes)\n"
     ]
    },
    {
     "data": {
      "text/plain": [
       "3×2 Array{Float64,2}:\n",
       "  8.0  4.0\n",
       " 10.0  5.0\n",
       " 12.0  6.0"
      ]
     },
     "execution_count": 39,
     "metadata": {},
     "output_type": "execute_result"
    }
   ],
   "source": [
    "@btime A * o_ar"
   ]
  },
  {
   "cell_type": "code",
   "execution_count": null,
   "metadata": {},
   "outputs": [],
   "source": []
  }
 ],
 "metadata": {
  "kernelspec": {
   "display_name": "Julia 1.6.3",
   "language": "julia",
   "name": "julia-1.6"
  },
  "language_info": {
   "file_extension": ".jl",
   "mimetype": "application/julia",
   "name": "julia",
   "version": "1.6.3"
  }
 },
 "nbformat": 4,
 "nbformat_minor": 4
}
