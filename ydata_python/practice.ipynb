{
 "cells": [
  {
   "cell_type": "code",
   "execution_count": null,
   "metadata": {},
   "outputs": [],
   "source": [
    "import numpy as np"
   ]
  },
  {
   "cell_type": "code",
   "execution_count": null,
   "metadata": {},
   "outputs": [],
   "source": [
    "l = [f'{x}' for x in range(10**6)]\n",
    "b = len([x for x in l if '53' in str(x)])/10**10\n",
    "float(b)"
   ]
  },
  {
   "cell_type": "code",
   "execution_count": null,
   "metadata": {},
   "outputs": [],
   "source": [
    "avg =np.mean(array, axis = 1)\n",
    "std = np.std(array, axis = 1)\n",
    "np.vstack[(avg, std]).T"
   ]
  },
  {
   "cell_type": "code",
   "execution_count": null,
   "metadata": {},
   "outputs": [],
   "source": [
    "import numpy as np"
   ]
  },
  {
   "cell_type": "code",
   "execution_count": null,
   "metadata": {},
   "outputs": [],
   "source": [
    "%pylab inline"
   ]
  },
  {
   "cell_type": "code",
   "execution_count": null,
   "metadata": {},
   "outputs": [],
   "source": [
    "arr1 = np.random.randn(100)\n",
    "arr2 = np.random.randn(100)"
   ]
  },
  {
   "cell_type": "code",
   "execution_count": null,
   "metadata": {},
   "outputs": [],
   "source": [
    "plt.figure()\n",
    "plt.plot(arr1, arr2)"
   ]
  },
  {
   "cell_type": "code",
   "execution_count": null,
   "metadata": {},
   "outputs": [],
   "source": [
    "fig = plt.figure()\n",
    "line_plot = plt.plot(arr1)\n",
    "\n",
    "plt.title('title')\n",
    "plt.xlabel('x axis')\n",
    "plt.ylabel('y axis')\n",
    "plt.tight_layout()\n"
   ]
  },
  {
   "cell_type": "code",
   "execution_count": null,
   "metadata": {},
   "outputs": [],
   "source": []
  },
  {
   "cell_type": "code",
   "execution_count": null,
   "metadata": {},
   "outputs": [],
   "source": [
    "%pylab inline"
   ]
  },
  {
   "cell_type": "code",
   "execution_count": null,
   "metadata": {},
   "outputs": [],
   "source": [
    "x = np.linspace(0, 4*np.pi, 1000)\n",
    "\n",
    "y = np.sin(x) + np.random.normal(0, 0.1, 1000) #adding these normal numbers to each"
   ]
  },
  {
   "cell_type": "code",
   "execution_count": null,
   "metadata": {},
   "outputs": [],
   "source": [
    "plt.figure()\n",
    "plt.plot(x,y)"
   ]
  },
  {
   "cell_type": "code",
   "execution_count": null,
   "metadata": {},
   "outputs": [],
   "source": [
    "plt.figure(figsize = (6,6))\n",
    "plt.plot(x ,y, 'o', c = 'firebrick', markersize = 6, label = 'noisy')\n",
    "plt.legend(loc = 0)"
   ]
  },
  {
   "cell_type": "code",
   "execution_count": 2,
   "metadata": {},
   "outputs": [],
   "source": [
    "import numpy as np"
   ]
  },
  {
   "cell_type": "code",
   "execution_count": 5,
   "metadata": {},
   "outputs": [
    {
     "data": {
      "text/plain": [
       "array([[ 0.56812034,  0.62014627, -0.12319828,  0.90109123],\n",
       "       [ 0.70114125, -1.58197694,  0.64481777, -0.65142536],\n",
       "       [ 0.33545697,  0.23221198, -0.19374391, -1.04188983]])"
      ]
     },
     "execution_count": 5,
     "metadata": {},
     "output_type": "execute_result"
    }
   ],
   "source": [
    "n = 5\n",
    "arr = np.random.normal(size = (3,4))\n",
    "arr\n",
    "\n",
    "np.add(arr, (-(np.mean(arr) / np.std(arr))))\n"
   ]
  },
  {
   "cell_type": "code",
   "execution_count": 7,
   "metadata": {},
   "outputs": [
    {
     "data": {
      "text/plain": [
       "array([[ 0.75590272,  0.65265774,  0.22670184, -0.62144408],\n",
       "       [ 0.56737708, -1.7157411 ,  0.51105361, -0.78518952],\n",
       "       [ 0.2016928 ,  0.09844782, -0.32750807, -1.17565399]])"
      ]
     },
     "execution_count": 7,
     "metadata": {},
     "output_type": "execute_result"
    }
   ],
   "source": [
    "arr"
   ]
  },
  {
   "cell_type": "code",
   "execution_count": 53,
   "metadata": {},
   "outputs": [],
   "source": [
    "arr = np.random.normal(size = (6,3))"
   ]
  },
  {
   "cell_type": "code",
   "execution_count": 50,
   "metadata": {},
   "outputs": [
    {
     "name": "stdout",
     "output_type": "stream",
     "text": [
      "[[-0.91300153  0.64338141 -0.10411076]\n",
      " [-0.38697912  0.89493744 -1.03090983]\n",
      " [-1.16525087  1.07421816  0.22658688]\n",
      " [-0.99954743  1.36661822 -0.36716735]\n",
      " [ 0.          0.          0.        ]\n",
      " [ 0.          0.          0.        ]]\n"
     ]
    }
   ],
   "source": [
    "array = np.zeros((6,3))\n",
    "for x in range(arr.shape[0]):\n",
    "    array[x] = arr[x] - (np.mean(arr[x])/ np.std(arr[x]))\n",
    "print(array)"
   ]
  },
  {
   "cell_type": "code",
   "execution_count": 99,
   "metadata": {},
   "outputs": [],
   "source": [
    "arr = np.random.normal(size = (3,5))\n",
    "axis = 1"
   ]
  },
  {
   "cell_type": "code",
   "execution_count": 100,
   "metadata": {},
   "outputs": [
    {
     "data": {
      "text/plain": [
       "array([[-0.27632114, -0.45404551, -1.19987488, -0.82973919, -0.57519412],\n",
       "       [ 2.49806184, -3.32063483,  0.83210679,  0.17712791, -0.12998554],\n",
       "       [ 0.15110685,  0.42025453,  0.06207719, -1.50731905,  0.21811853]])"
      ]
     },
     "execution_count": 100,
     "metadata": {},
     "output_type": "execute_result"
    }
   ],
   "source": [
    "def norm(arr, axis):\n",
    "    mean = arr.mean(axis = axis)\n",
    "    std = arr.std(axis = axis)\n",
    "    if (mean/std).shape[0] == arr.shape[1]:\n",
    "        return arr- mean/std\n",
    "    else:\n",
    "       return arr - np.expand_dims(mean/std, axis = axis)\n",
    "norm(arr, axis)"
   ]
  },
  {
   "cell_type": "code",
   "execution_count": 89,
   "metadata": {},
   "outputs": [
    {
     "name": "stdout",
     "output_type": "stream",
     "text": [
      "arr : [[-1.60220419  0.80776887  0.97504854 -0.71103669 -0.82089682]\n",
      " [-0.0302185   0.03773567  1.10368127  0.41507281  0.24553008]\n",
      " [ 0.25985446 -0.13657808  1.41057576 -0.00425387  0.26998161]\n",
      " [-0.27567975  1.59763408 -1.09966659  0.40916798 -1.02532971]\n",
      " [ 0.04066404 -1.83360418  1.19069939 -1.4994716  -2.50881196]\n",
      " [-0.61411062 -1.58013567  0.31989792  0.62808726  1.27488622]\n",
      " [ 1.19459871  1.02089816  0.47707378 -0.50374834  0.04662552]\n",
      " [-0.0806043   1.51960658  1.41986428  2.52065617  0.24354646]\n",
      " [ 1.19913411 -0.39941712  3.07388453 -1.04645387 -0.2280377 ]\n",
      " [-0.06830884  0.5620006   0.77194952  0.83564675  0.58375247]\n",
      " [ 0.62965932  0.36514585  0.49886808  0.21802148 -0.51329592]\n",
      " [ 0.46426859  1.0605982  -0.20726488 -1.33575704 -2.20341172]]\n",
      "norm [-0.27068394  0.872288    0.65687012 -0.07857553 -0.68453761  0.00572734\n",
      "  0.71529488  1.19599755  0.35300483  1.67553307  0.59828553 -0.37456286]\n",
      "(12, 5)\n",
      "expanded [[-1.33152024  1.07845282  1.24573248 -0.44035274 -0.55021287]\n",
      " [-0.9025065  -0.83455232  0.23139328 -0.45721519 -0.62675792]\n",
      " [-0.39701566 -0.7934482   0.75370564 -0.66112399 -0.38688851]\n",
      " [-0.19710423  1.6762096  -1.02109106  0.48774351 -0.94675418]\n",
      " [ 0.72520165 -1.14906657  1.875237   -0.81493399 -1.82427435]\n",
      " [-0.61983795 -1.58586301  0.31417059  0.62235992  1.26915888]\n",
      " [ 0.47930382  0.30560328 -0.23822111 -1.21904322 -0.66866936]\n",
      " [-1.27660185  0.32360903  0.22386673  1.32465862 -0.95245109]\n",
      " [ 0.84612929 -0.75242194  2.7208797  -1.39945869 -0.58104252]\n",
      " [-1.74384191 -1.11353247 -0.90358355 -0.83988632 -1.09178059]\n",
      " [ 0.03137379 -0.23313969 -0.09941745 -0.38026405 -1.11158146]\n",
      " [ 0.83883146  1.43516106  0.16729798 -0.96119418 -1.82884886]]\n"
     ]
    }
   ],
   "source": [
    "print('arr :', arr)\n",
    "print('norm',  mean/std)\n",
    "print(arr.shape)\n",
    "if (mean/std).shape[0] == arr.shape[1]:\n",
    "    print('no change', arr- mean/std)\n",
    "else:\n",
    "    print('expanded', arr - np.expand_dims(mean/std, axis = axis))\n",
    "    \n"
   ]
  },
  {
   "cell_type": "code",
   "execution_count": 80,
   "metadata": {},
   "outputs": [
    {
     "data": {
      "text/plain": [
       "array([[ 0.67934055, -0.30191574, -0.91849804, -0.57416436, -0.51612423],\n",
       "       [ 0.79959267,  1.60544997, -1.35325055, -0.14188819, -0.78052554],\n",
       "       [ 1.25321396, -1.31094582,  1.73248681,  1.03007389,  0.80532363]])"
      ]
     },
     "execution_count": 80,
     "metadata": {},
     "output_type": "execute_result"
    }
   ],
   "source": [
    "arr - (mean/std)"
   ]
  },
  {
   "cell_type": "code",
   "execution_count": null,
   "metadata": {},
   "outputs": [],
   "source": []
  },
  {
   "cell_type": "code",
   "execution_count": 135,
   "metadata": {},
   "outputs": [
    {
     "data": {
      "text/plain": [
       "(array([[3, 0, 5, 1, 8],\n",
       "        [1, 5, 5, 5, 1],\n",
       "        [4, 1, 7, 6, 9]]),\n",
       " array([3, 5, 5, 4, 1]),\n",
       " array([46, 74, 85]))"
      ]
     },
     "execution_count": 135,
     "metadata": {},
     "output_type": "execute_result"
    }
   ],
   "source": [
    "arr_1d = np.random.randint(10, size = (3,5))\n",
    "arr_2d = np.random.randint(10, size = (5))\n",
    "arr_1d, arr_2d, np.dot(arr_1d, arr_2d)\n",
    "\n"
   ]
  },
  {
   "cell_type": "code",
   "execution_count": 136,
   "metadata": {},
   "outputs": [
    {
     "data": {
      "text/plain": [
       "array([46, 74, 85])"
      ]
     },
     "execution_count": 136,
     "metadata": {},
     "output_type": "execute_result"
    }
   ],
   "source": [
    "np.sum(arr_1d * arr_2d, axis = 1)"
   ]
  }
 ],
 "metadata": {
  "interpreter": {
   "hash": "b162208df198174479ad95a41e45bdbc61ac18b751563f663467e26bbab6bd1e"
  },
  "kernelspec": {
   "display_name": "Python 3.7.10 64-bit ('py4dp': conda)",
   "name": "python3"
  },
  "language_info": {
   "codemirror_mode": {
    "name": "ipython",
    "version": 3
   },
   "file_extension": ".py",
   "mimetype": "text/x-python",
   "name": "python",
   "nbconvert_exporter": "python",
   "pygments_lexer": "ipython3",
   "version": "3.7.10"
  },
  "orig_nbformat": 4
 },
 "nbformat": 4,
 "nbformat_minor": 2
}
