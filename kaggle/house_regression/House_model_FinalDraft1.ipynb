{
  "cells": [
    {
      "cell_type": "markdown",
      "metadata": {
        "id": "Fnia56o0rmmQ"
      },
      "source": [
        "# House Price Prediction: Model 1"
      ]
    },
    {
      "cell_type": "code",
      "execution_count": 1,
      "metadata": {
        "colab": {
          "base_uri": "https://localhost:8080/"
        },
        "id": "DHLpy2uRrmmS",
        "outputId": "6375349d-b6c4-4c88-e791-fb27cf84db2a"
      },
      "outputs": [],
      "source": [
        "import numpy as np\n",
        "import pandas as pd\n",
        "import matplotlib.pyplot as plt\n",
        "import seaborn as sns\n",
        "from sklearn.preprocessing import OrdinalEncoder, LabelEncoder\n",
        "from sklearn.metrics import mean_squared_log_error\n"
      ]
    },
    {
      "cell_type": "code",
      "execution_count": 2,
      "metadata": {},
      "outputs": [],
      "source": [
        "# from google.colab import drive\n",
        "\n",
        "# drive.mount('/content/drive')\n",
        "# df = pd.read_csv('/content/drive/MyDrive/YData/Kaggle/Housing/train.csv', index_col= 'Id')\n",
        "\n",
        "# y = df['SalePrice']"
      ]
    },
    {
      "cell_type": "code",
      "execution_count": 3,
      "metadata": {},
      "outputs": [],
      "source": [
        "df = pd.read_csv('train.csv', index_col= 'Id')\n",
        "y = df['SalePrice']"
      ]
    },
    {
      "cell_type": "code",
      "execution_count": 26,
      "metadata": {},
      "outputs": [
        {
          "data": {
            "text/plain": [
              "Index(['MSSubClass', 'LotFrontage', 'LotArea', 'Street', 'LotShape',\n",
              "       'LandContour', 'Utilities', 'LotConfig', 'LandSlope', 'Neighborhood',\n",
              "       'Condition1', 'Condition2', 'BldgType', 'HouseStyle', 'OverallQual',\n",
              "       'OverallCond', 'YearBuilt', 'YearRemodAdd', 'RoofStyle', 'RoofMatl',\n",
              "       'Exterior1st', 'Exterior2nd', 'MasVnrType', 'MasVnrArea', 'ExterQual',\n",
              "       'ExterCond', 'Foundation', 'BsmtQual', 'BsmtCond', 'BsmtExposure',\n",
              "       'BsmtFinType1', 'BsmtFinSF1', 'BsmtFinType2', 'BsmtFinSF2', 'BsmtUnfSF',\n",
              "       'TotalBsmtSF', 'Heating', 'HeatingQC', 'CentralAir', 'Electrical',\n",
              "       '1stFlrSF', '2ndFlrSF', 'LowQualFinSF', 'GrLivArea', 'BsmtFullBath',\n",
              "       'BsmtHalfBath', 'FullBath', 'HalfBath', 'BedroomAbvGr', 'KitchenAbvGr',\n",
              "       'KitchenQual', 'TotRmsAbvGrd', 'Functional', 'Fireplaces',\n",
              "       'FireplaceQu', 'GarageType', 'GarageYrBlt', 'GarageFinish',\n",
              "       'GarageCars', 'GarageArea', 'GarageQual', 'GarageCond', 'PavedDrive',\n",
              "       'WoodDeckSF', 'OpenPorchSF', 'EnclosedPorch', '3SsnPorch',\n",
              "       'ScreenPorch', 'PoolArea', 'PoolQC', 'Fence', 'MiscVal', 'MoSold',\n",
              "       'YrSold', 'SaleType', 'SaleCondition', 'SalePrice'],\n",
              "      dtype='object')"
            ]
          },
          "execution_count": 26,
          "metadata": {},
          "output_type": "execute_result"
        }
      ],
      "source": [
        "df.columns"
      ]
    },
    {
      "cell_type": "markdown",
      "metadata": {},
      "source": [
        "To know how to handle the data, we looked at the data description file provided, and categorized each feature to their respective categories:"
      ]
    },
    {
      "cell_type": "code",
      "execution_count": null,
      "metadata": {},
      "outputs": [],
      "source": [
        "obj_nominal      = np.array(['MSSubClass','Street', 'LotConfig','LandContour','Neighborhood','Condition1','Condition2','BldgType','HouseStyle','RoofStyle','RoofMatl','Exterior1st','Exterior2nd','GarageType','MasVnrType','Foundation','Heating','CentralAir','SaleType','SaleCondition']) \n",
        "obj_ordinal      = np.array(['LotShape','Utilities','LandSlope', 'Fence', 'FireplaceQu','ExterQual','ExterCond','BsmtQual','BsmtCond','BsmtExposure','BsmtFinType1' ,'BsmtFinType2','HeatingQC','KitchenQual','Functional','GarageFinish','GarageQual','GarageCond','PavedDrive', 'Electrical']) # PoolQC will be converted to boolean. Electrical is ordinal \n",
        "# q stands for quantitative\n",
        "obj_quantitative = np.array(['YrSold','YearBuilt','YearRemodAdd','GarageYrBlt','LotArea','OverallQual','OverallCond','MasVnrArea','BsmtFinSF1','BsmtUnfSF','BsmtFinSF2','TotalBsmtSF','1stFlrSF','2ndFlrSF','LowQualFinSF','GrLivArea','BsmtFullBath','BsmtHalfBath','FullBath','HalfBath','TotRmsAbvGrd','Fireplaces','GarageCars','GarageArea','WoodDeckSF','OpenPorchSF','EnclosedPorch','3SsnPorch','ScreenPorch','PoolArea','MiscVal']) # Bigger is \"better\". Not found 'Bedroom','Kitchen'. Weird feature: 'BsmtFinType2'. High nan rate: 'LotFrontage'\n",
        "# q_date_related   = np.array(['MoSold','YrSold','YearBuilt','YearRemodAdd','GarageYrBlt']) #For Label encoding"
      ]
    },
    {
      "cell_type": "markdown",
      "metadata": {},
      "source": [
        "Based on what type of data each feature belongs to will determine how that feature should be engineered: Ordinal Encoding, One-Hot encoding, or leaving as quantitative values"
      ]
    },
    {
      "cell_type": "markdown",
      "metadata": {
        "id": "EvFlgkk_rmmU"
      },
      "source": [
        "### Handling Null Values"
      ]
    },
    {
      "cell_type": "code",
      "execution_count": 4,
      "metadata": {
        "colab": {
          "base_uri": "https://localhost:8080/"
        },
        "id": "EOZMFVdzrmmU",
        "outputId": "9c521003-8ba5-460a-c8cc-11e0fbe937ac"
      },
      "outputs": [
        {
          "data": {
            "text/plain": [
              "Index(['LotFrontage', 'MasVnrType', 'MasVnrArea', 'BsmtQual', 'BsmtCond',\n",
              "       'BsmtExposure', 'BsmtFinType1', 'BsmtFinType2', 'Electrical',\n",
              "       'FireplaceQu', 'GarageType', 'GarageYrBlt', 'GarageFinish',\n",
              "       'GarageQual', 'GarageCond', 'PoolQC', 'Fence'],\n",
              "      dtype='object')"
            ]
          },
          "execution_count": 4,
          "metadata": {},
          "output_type": "execute_result"
        }
      ],
      "source": [
        "df.columns[df.isna().any().tolist()]"
      ]
    },
    {
      "cell_type": "markdown",
      "metadata": {
        "id": "RlE99vetrmmV"
      },
      "source": [
        "Looking at the data description,  a lot of these columns have a significant value of Na (usually means that that the house doesn't have the specificied feature), which are not just missing values. The following list explains how the null values will be handled:"
      ]
    },
    {
      "cell_type": "markdown",
      "metadata": {
        "id": "9i0SPjBRrmmW"
      },
      "source": [
        "\n",
        "**continuous**: MasVnrArea: mean()\n",
        "Lot Frontage:  mean()\n",
        "GarageYrBlt: Mode()\n",
        "\n",
        "\n",
        "**Categorical** : MasVnrType:  mode()\n",
        "Electrical : Mode()\n",
        "\n",
        "\n",
        "**Ordinal_encoding** : 'Leave NA's for the ordinal encoding\n",
        "\n",
        "'BsmtQual','BsmtCond', 'BsmtExposure','GarageFinish', 'GarageQual', 'GarageCond', 'PoolQC', 'Fence', 'FireplaceQu', 'BsmtFinType1', 'BsmtFinType2',\n",
        "\n",
        "**One_hot**: Leave NA's for the OneHot Encoding\n",
        "\n",
        "'GarageType'"
      ]
    },
    {
      "cell_type": "code",
      "execution_count": 6,
      "metadata": {
        "id": "eZeRl6udrmmX"
      },
      "outputs": [],
      "source": [
        "#Do the following, only if changing MasVnrType and GarageType NA's to 'None':\n",
        "def fillNa(df):\n",
        "    df['LotFrontage'].fillna(0, inplace= True)\n",
        "    df['MasVnrType'].fillna('None', inplace= True) \n",
        "\n",
        "    df.loc[df['MasVnrType'] == 'None', ['MasVnrArea']].fillna(0, inplace= True ) #Use .loc to get rid of the Setting on Slice warning.\n",
        "    df['MasVnrArea'].fillna(df['MasVnrArea'].mean(), inplace = True)\n",
        "    \n",
        "    df.loc[df['GarageType'] == 'None', ['GarageYrBlt']].fillna(0, inplace= True)\n",
        "    df['GarageYrBlt'].fillna(df['GarageYrBlt'].mode()[0], inplace = True) #Fix this\n",
        "\n",
        "    # df['Electrical'].fillna(df['Electrical'].mode(), inplace= True)\n",
        "    df['Electrical'].fillna('Mix', inplace= True) #Maybe switch to mode\n",
        "\n",
        "    df['MSSubClass'] = df['MSSubClass'].apply(str).fillna('None', inplace= True)\n",
        "    df[\"Functional\"] = df[\"Functional\"].fillna(df.Functional.mode())\n",
        "    \n",
        "    return df"
      ]
    },
    {
      "cell_type": "markdown",
      "metadata": {
        "id": "iZ5kSLFwrmmY"
      },
      "source": [
        "## Feature Engineering/Pre-processing"
      ]
    },
    {
      "cell_type": "markdown",
      "metadata": {
        "id": "ZThMqMaHrmmY"
      },
      "source": [
        "Preparing the Ordianl Encoding Features: "
      ]
    },
    {
      "cell_type": "code",
      "execution_count": 7,
      "metadata": {
        "id": "ViqIccsgrmmZ"
      },
      "outputs": [],
      "source": [
        "def get_ordinal_features(df_tmp, obj_ordinal): #, q_date_related\n",
        "  df = df_tmp.copy()\n",
        "  # columns = np.concatenate((obj_ordinal, q_date_related))\n",
        "  columns = obj_ordinal\n",
        "  # First encoding type\n",
        "  enc1_arr = np.array(['ExterQual','ExterCond','PoolQC', 'BsmtQual','BsmtCond','HeatingQC','KitchenQual','GarageQual','GarageCond'])\n",
        "  dct1 = {np.nan :0, 'Po':1, 'Fa':2, 'TA':3, 'Gd':4, 'Ex':5}\n",
        "\n",
        "  # Second encoding type\n",
        "  enc2_arr = np.array(['LotShape'])\n",
        "  dct2 = {'IR3':1, 'IR2':2, 'IR1':3, 'Reg':4}\n",
        "  enc3_arr = np.array(['BsmtFinType1', 'BsmtFinType2'])\n",
        "  dct3 = {np.nan : 0, \"Unf\" : 1, \"LwQ\": 2, \"Rec\" : 3, \"BLQ\" : 4, \"ALQ\" : 5, \"GLQ\" : 6}\n",
        "\n",
        "  df[enc1_arr] = df[enc1_arr].replace(dct1)\n",
        "  df[enc2_arr] = df[enc2_arr].replace(dct2)\n",
        "  df[enc3_arr] = df[enc3_arr].replace(dct3)\n",
        "\n",
        "  df = df.replace({\n",
        "                      \"BsmtExposure\" : {np.nan: 0, 'No' : 0, \"Mn\" : 1, \"Av\": 2, \"Gd\" : 3},\n",
        "                      \"Fence\" : {np.nan :1, 'MnWw':2, 'GdWo':3, 'MnPrv':4, 'GdPrv':5},\n",
        "                      \"Electrical\": {'Mix':1, 'FuseP':2, 'FuseF':3, 'FuseA':4, 'SBrkr':5},\n",
        "                      \t\n",
        "                      \"FireplaceQu\" : {np.nan : 0, \"Po\" : 1, \"Fa\" : 2, \"TA\" : 3, \"Gd\" : 4, \"Ex\" : 5},\n",
        "                      \"Functional\" : {\"Sal\" : 1, \"Sev\" : 2, \"Maj2\" : 3, \"Maj1\" : 4, \"Mod\": 5, \n",
        "                                      \"Min2\" : 6, \"Min1\" : 7, \"Typ\" : 8},\n",
        "                      # \"GarageType\"\n",
        "                      \"GarageFinish\" : {np.nan: 0, 'Unf': 1, 'RFn': 2, 'Fin': 3 },\n",
        "                       \t\n",
        "                      \"LandSlope\" : {\"Sev\" : 1, \"Mod\" : 2, \"Gtl\" : 3},\n",
        "                      \"LotShape\" : {\"IR3\" : 1, \"IR2\" : 2, \"IR1\" : 3, \"Reg\" : 4},\n",
        "                      \"PavedDrive\" : {\"N\" : 0, \"P\" : 1, \"Y\" : 2},\n",
        "                      \"Street\" : {\"Grvl\" : 1, \"Pave\" : 2},\n",
        "                      \"Utilities\" : {\"ELO\" : 1, \"NoSeWa\" : 2, \"NoSewr\" : 3, \"AllPub\" : 4}\n",
        "                    }\n",
        "                  )\n",
        "  \n",
        "  #Date related columns\n",
        "  # for c in q_date_related: \n",
        "  #   lbl = LabelEncoder() \n",
        "  #   lbl.fit(list(df[c].values)) \n",
        "  #   df[c] = lbl.transform(list(df[c].values))\n",
        "\n",
        "  return df[columns]"
      ]
    },
    {
      "cell_type": "markdown",
      "metadata": {
        "id": "KNX0YzlermmZ"
      },
      "source": [
        "Preparing the Nominal features for One-hot encoding"
      ]
    },
    {
      "cell_type": "code",
      "execution_count": 8,
      "metadata": {
        "id": "lvg_IVnxrmmZ"
      },
      "outputs": [],
      "source": [
        "def get_nominal_features(df, obj_nominal):\n",
        "  x = df.loc[:, obj_nominal]\n",
        "  x = x.astype(str) #For some reason, need to convert to string first, otherwise get an unhashable type 'Series' error.\n",
        "\n",
        "  obj_nominal_oneHot = pd.get_dummies(data=x)\n",
        "  return obj_nominal_oneHot"
      ]
    },
    {
      "cell_type": "markdown",
      "metadata": {
        "id": "3PNa-mBDrmma"
      },
      "source": [
        "Now, merge all of our transformed dataframes back together"
      ]
    },
    {
      "cell_type": "code",
      "execution_count": 9,
      "metadata": {
        "id": "zmZ2Gaaurmma"
      },
      "outputs": [],
      "source": [
        "def process_df(df):\n",
        "    filled_df = fillNa(df)\n",
        "    df_train_ordinal  = get_ordinal_features(filled_df, obj_ordinal) #, q_date_related\n",
        "    obj_nominal_oneHot = get_nominal_features(filled_df, obj_nominal)\n",
        "    df_merge = df_train_ordinal.join([df[obj_quantitative], obj_nominal_oneHot]) #, df[q_date_related]\n",
        "    return df_merge"
      ]
    },
    {
      "cell_type": "markdown",
      "metadata": {
        "id": "DN7p-wgtrmma"
      },
      "source": [
        "### Feature Pre-processing Pipeline"
      ]
    },
    {
      "cell_type": "markdown",
      "metadata": {
        "id": "hwITrjEArmma"
      },
      "source": [
        "This combines all of our pre-processing functions together. The input takes both the training set, and the testing set. We then combine them together to make sure that the transforms of the one_hot encoding are uniform, and return back the pre-processed training and testing data frames (as well as the target labels from the training set)."
      ]
    },
    {
      "cell_type": "code",
      "execution_count": 10,
      "metadata": {
        "id": "tEeFIhjRrmma"
      },
      "outputs": [],
      "source": [
        "def feature_pipeline(df_train, df_test):\n",
        "    \n",
        "    train_idx = df_train.index\n",
        "    test_idx = df_test.index\n",
        "    \n",
        "    labels = df_train.loc[:, 'SalePrice']\n",
        "    df_train = df_train.drop('SalePrice', axis = 1)\n",
        "    df = pd.concat([df_train, df_test])\n",
        "    \n",
        "    df_processed = process_df(df)\n",
        "    \n",
        "    df_train = df_processed.loc[train_idx]\n",
        "    \n",
        "    df_test = df_processed.loc[test_idx]\n",
        "    return df_train, df_test, labels\n"
      ]
    },
    {
      "cell_type": "code",
      "execution_count": 11,
      "metadata": {
        "colab": {
          "base_uri": "https://localhost:8080/"
        },
        "id": "gUAmzzQsrmmb",
        "outputId": "3f41b5fc-5833-4d31-9a4a-ef73ff2251ad"
      },
      "outputs": [],
      "source": [
        "##For working with Collab\n",
        "# train_df = pd.read_csv('train.csv', index_col = 'Id')\n",
        "# test_df = pd.read_csv('test.csv', index_col= 'Id')\n",
        "\n",
        "# train_df = pd.read_csv('/content/drive/MyDrive/YData/Kaggle/Housing/train.csv', index_col= 'Id')\n",
        "# test_df = pd.read_csv('/content/drive/MyDrive/YData/Kaggle/Housing/test.csv', index_col= 'Id')\n",
        "\n",
        "# df_train, df_test, labels = feature_pipeline(train_df, test_df)"
      ]
    },
    {
      "cell_type": "code",
      "execution_count": 12,
      "metadata": {},
      "outputs": [],
      "source": [
        "#For working on local IDE\n",
        "train_df = pd.read_csv('train.csv', index_col = 'Id')\n",
        "test_df = pd.read_csv('test.csv', index_col= 'Id')\n",
        "\n",
        "df_train, df_test, labels = feature_pipeline(train_df, test_df)"
      ]
    },
    {
      "cell_type": "markdown",
      "metadata": {
        "id": "G_PPzAXXrmmb"
      },
      "source": [
        "Double check that there are no null values in the training set:"
      ]
    },
    {
      "cell_type": "code",
      "execution_count": 13,
      "metadata": {
        "colab": {
          "base_uri": "https://localhost:8080/"
        },
        "id": "R3G-XXxQrmmb",
        "outputId": "5cfb9fa6-af1e-43d1-e873-c494b5c44164"
      },
      "outputs": [
        {
          "data": {
            "text/plain": [
              "Index([], dtype='object')"
            ]
          },
          "execution_count": 13,
          "metadata": {},
          "output_type": "execute_result"
        }
      ],
      "source": [
        "df_train.columns[df_train.isna().any().tolist()]"
      ]
    },
    {
      "cell_type": "markdown",
      "metadata": {
        "id": "wE2_71pArmmb"
      },
      "source": [
        "# Modeling"
      ]
    },
    {
      "cell_type": "code",
      "execution_count": 14,
      "metadata": {
        "id": "zNcSzERXrmmb"
      },
      "outputs": [],
      "source": [
        "from sklearn.model_selection import train_test_split\n",
        "from sklearn.metrics import classification_report, mean_squared_error"
      ]
    },
    {
      "cell_type": "markdown",
      "metadata": {
        "id": "Pw0gvX8lrmmc"
      },
      "source": [
        "#### Random Forest"
      ]
    },
    {
      "cell_type": "code",
      "execution_count": 15,
      "metadata": {
        "id": "HOPoEp6yrmmc"
      },
      "outputs": [],
      "source": [
        "from sklearn.ensemble import RandomForestRegressor\n",
        "x_train, x_test, y_train, y_test = train_test_split(df_train.values, labels, test_size= 0.2, random_state= 1) #.values on df_merge just gets rid of the clunky user warning for using a Dataframe"
      ]
    },
    {
      "cell_type": "code",
      "execution_count": 16,
      "metadata": {
        "id": "k0DhLVklrmmc"
      },
      "outputs": [],
      "source": [
        "from sklearn.model_selection import GridSearchCV\n",
        "from sklearn.metrics import make_scorer, mean_squared_log_error"
      ]
    },
    {
      "cell_type": "code",
      "execution_count": 17,
      "metadata": {
        "colab": {
          "base_uri": "https://localhost:8080/",
          "height": 380
        },
        "id": "ul_bvr4rrmmc",
        "outputId": "a9d5c926-3fb3-40b3-852c-757a07c65cf0"
      },
      "outputs": [
        {
          "name": "stdout",
          "output_type": "stream",
          "text": [
            "validation score with best parameters: 0.9105248997274333\n",
            "mean_squared_log_error 0.13913804177539935\n",
            "{'max_depth': 15, 'min_samples_leaf': 1, 'n_estimators': 200}\n"
          ]
        }
      ],
      "source": [
        "#define your own mse and set greater_is_better=False\n",
        "mse = make_scorer(mean_squared_error,greater_is_better=False)\n",
        "\n",
        "paramaters = {'n_estimators': [200,300], #, 300, 500,1000\n",
        "                'max_depth': [2, 5, 10, 15], #5, 8\n",
        "                'min_samples_leaf' : [1],\n",
        "                \n",
        "                }\n",
        "clf = GridSearchCV(RandomForestRegressor(), paramaters, n_jobs = -1, cv = 4, scoring = mse)\n",
        "clf.fit(x_train, y_train)\n",
        "\n",
        "best_rf = clf.best_estimator_.fit(x_train, y_train)\n",
        "print(f'validation score with best parameters: {best_rf.score(x_test, y_test)}')\n",
        "print('mean_squared_log_error', mean_squared_log_error(y_test, best_rf.predict(x_test), squared= False))\n",
        "\n",
        "print(clf.best_params_)\n",
        "# rf = RandomForestRegressor(**clf.best_params_)\n",
        "# rf.fit(x_train, y_train)\n",
        "# print(f'oob_score on the full training set with: {rf.oob_score_}')\n"
      ]
    },
    {
      "cell_type": "code",
      "execution_count": 18,
      "metadata": {
        "id": "T1W096y-rmmc",
        "outputId": "38a5feae-975b-417e-e6a8-38867a4822b8"
      },
      "outputs": [
        {
          "data": {
            "text/plain": [
              "<matplotlib.collections.PathCollection at 0x18b9bd6ab88>"
            ]
          },
          "execution_count": 18,
          "metadata": {},
          "output_type": "execute_result"
        },
        {
          "data": {
            "image/png": "[encoded data removed]",
            "text/plain": [
              "<Figure size 432x288 with 1 Axes>"
            ]
          },
          "metadata": {
            "needs_background": "light"
          },
          "output_type": "display_data"
        }
      ],
      "source": [
        "plt.scatter(y_test,best_rf.predict(x_test) )"
      ]
    },
    {
      "cell_type": "markdown",
      "metadata": {
        "id": "qvUSHA8Grmmc"
      },
      "source": [
        "#### XGBoost"
      ]
    },
    {
      "cell_type": "code",
      "execution_count": 19,
      "metadata": {
        "id": "pP4ZTqnKrmmd"
      },
      "outputs": [],
      "source": [
        "from xgboost.sklearn import XGBRegressor"
      ]
    },
    {
      "cell_type": "code",
      "execution_count": null,
      "metadata": {
        "id": "-_-oVKUKrmmd"
      },
      "outputs": [],
      "source": [
        "# paramaters = {'eta' : [0.3, 0.5, 0.8, 1.1, 1.2],\n",
        "#                 'n_estimators': np.arange(100,300, step = 50), \n",
        "#                 'max_depth': [2, 4, 10, 30, 50, 100], \n",
        "#                 }\n",
        "parameters = {'eta' : [0.05],\n",
        "                'n_estimators': [400,450,500], \n",
        "                'max_depth': [3,4, 5], #pretty much always is 3\n",
        "                'min_child_weight':  [2,3,4],\n",
        "                'objective' : ['reg:gamma'],\n",
        "                'colsample_bytree': [0.3,0.4, 0.5]\n",
        "                }\n",
        "\n",
        "XGB_clf = GridSearchCV(XGBRegressor(),  parameters, cv = 5, verbose= 1)\n",
        "XGB_clf.fit(x_train, y_train)\n",
        "print(XGB_clf.best_params_)\n",
        "\n",
        "XG = XGBRegressor(**XGB_clf.best_params_)\n",
        "XG.fit(x_train, y_train)\n",
        "print(f'validation score with best parameters: {XG.score(x_test, y_test)}')\n",
        "print('mean_squared_log_error', mean_squared_log_error(y_test, XG.predict(x_test), squared= False))"
      ]
    },
    {
      "cell_type": "markdown",
      "metadata": {
        "id": "7rxpSqPIwWO2"
      },
      "source": [
        "Fitting 5 folds for each of 81 candidates, totalling 405 fits\n",
        "{'colsample_bytree': 0.4, 'eta': 0.05, 'max_depth': 3, 'min_child_weight': 2, 'n_estimators': 450, 'objective': 'reg:gamma'}\n",
        "validation score with best parameters: 0.9160217600701733\n",
        "mean_squared_log_error 0.12478733604217326"
      ]
    },
    {
      "cell_type": "code",
      "execution_count": 20,
      "metadata": {
        "colab": {
          "base_uri": "https://localhost:8080/"
        },
        "id": "_sTMjKfQwYuk",
        "outputId": "1191bde7-9c8b-44c2-e4f1-d6f581bef867"
      },
      "outputs": [
        {
          "name": "stdout",
          "output_type": "stream",
          "text": [
            "validation score with best parameters: 0.9215591136461252\n",
            "mean_squared_log_error 0.1230038455970388\n"
          ]
        }
      ],
      "source": [
        "from xgboost.sklearn import XGBRegressor\n",
        "XGB_clf = XGBRegressor(colsample_bytree= 0.4, eta = 0.05, max_depth=3, min_child_weight=2 , n_estimators=450, objective='reg:gamma')\n",
        "XGB_clf.fit(x_train, y_train)\n",
        "\n",
        "print(f'validation score with best parameters: {XGB_clf.score(x_test, y_test)}')\n",
        "print('mean_squared_log_error', mean_squared_log_error(y_test, XGB_clf.predict(x_test), squared= False))"
      ]
    },
    {
      "cell_type": "code",
      "execution_count": 21,
      "metadata": {
        "colab": {
          "base_uri": "https://localhost:8080/",
          "height": 300
        },
        "id": "Hryom_8Lrmmd",
        "outputId": "1ec902e6-f1fa-4546-850d-284f1d188c3a"
      },
      "outputs": [
        {
          "name": "stdout",
          "output_type": "stream",
          "text": [
            "Mean squared error: 559435959.880\n",
            "Coefficient of determination: 0.922\n"
          ]
        },
        {
          "data": {
            "image/png": "[encoded data removed]",
            "text/plain": [
              "<Figure size 432x288 with 1 Axes>"
            ]
          },
          "metadata": {
            "needs_background": "light"
          },
          "output_type": "display_data"
        }
      ],
      "source": [
        "from sklearn.metrics import r2_score\n",
        "y_test_pred = XGB_clf.predict(x_test)\n",
        "plt.scatter(y_test, y_test_pred)\n",
        "\n",
        "# The coefficients\n",
        "# The mean squared error\n",
        "print(\"Mean squared error: %.3f\" % mean_squared_error(y_test,y_test_pred))\n",
        "# The coefficient of determination: 1 is perfect prediction\n",
        "print(\"Coefficient of determination: %.3f\" % r2_score(y_test,y_test_pred))"
      ]
    },
    {
      "cell_type": "markdown",
      "metadata": {
        "id": "jjFksZvNwFTr"
      },
      "source": [
        "# Submission"
      ]
    },
    {
      "cell_type": "code",
      "execution_count": null,
      "metadata": {
        "colab": {
          "base_uri": "https://localhost:8080/"
        },
        "id": "JkR4Kbg2rmmd",
        "outputId": "b930982c-f239-48ef-b883-aab430d2a29b"
      },
      "outputs": [
        {
          "name": "stderr",
          "output_type": "stream",
          "text": [
            "/usr/local/lib/python3.7/dist-packages/ipykernel_launcher.py:4: SettingWithCopyWarning: \n",
            "A value is trying to be set on a copy of a slice from a DataFrame.\n",
            "Try using .loc[row_indexer,col_indexer] = value instead\n",
            "\n",
            "See the caveats in the documentation: https://pandas.pydata.org/pandas-docs/stable/user_guide/indexing.html#returning-a-view-versus-a-copy\n",
            "  after removing the cwd from sys.path.\n"
          ]
        }
      ],
      "source": [
        "# test_df = pd.read_csv('/content/drive/MyDrive/YData/Kaggle/Housing/test.csv')\n",
        "# y_test_sub = XGB_clf.predict(df_test.values)\n",
        "# df_for_submission = test_df[['Id']]\n",
        "# df_for_submission['Predicted'] = y_test_sub\n",
        "# df_for_submission.set_index('Id').Predicted.to_csv('/content/drive/MyDrive/YData/Kaggle/Housing/tal_result_example4.csv')"
      ]
    },
    {
      "cell_type": "code",
      "execution_count": 25,
      "metadata": {},
      "outputs": [],
      "source": [
        "test_df = pd.read_csv('test.csv')\n",
        "y_test_sub = XGB_clf.predict(df_test.values)\n",
        "df_for_submission = test_df.loc[:, ['Id']]\n",
        "df_for_submission['Predicted'] = y_test_sub\n",
        "df_for_submission.set_index('Id').Predicted.to_csv('XGBoost_submission.csv')"
      ]
    }
  ],
  "metadata": {
    "colab": {
      "name": "House_model_FinalDraft1.ipynb",
      "provenance": []
    },
    "interpreter": {
      "hash": "b162208df198174479ad95a41e45bdbc61ac18b751563f663467e26bbab6bd1e"
    },
    "kernelspec": {
      "display_name": "Python 3.7.11 64-bit ('py4dp': conda)",
      "language": "python",
      "name": "python3"
    },
    "language_info": {
      "codemirror_mode": {
        "name": "ipython",
        "version": 3
      },
      "file_extension": ".py",
      "mimetype": "text/x-python",
      "name": "python",
      "nbconvert_exporter": "python",
      "pygments_lexer": "ipython3",
      "version": "3.7.11"
    },
    "orig_nbformat": 4
  },
  "nbformat": 4,
  "nbformat_minor": 0
}
