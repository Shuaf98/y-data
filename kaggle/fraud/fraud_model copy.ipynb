{
 "cells": [
  {
   "cell_type": "code",
   "execution_count": 1,
   "metadata": {},
   "outputs": [],
   "source": [
    "import pandas as pd\n",
    "import numpy as np\n",
    "import matplotlib.pyplot as plt\n",
    "import sklearn\n",
    "import seaborn as sns\n",
    "import gc\n"
   ]
  },
  {
   "cell_type": "markdown",
   "metadata": {},
   "source": [
    "### Big Data Import\n",
    "\n",
    "import with minimal datatypes, and only desired columns (leave out attributed time in the training set)"
   ]
  },
  {
   "cell_type": "code",
   "execution_count": 3,
   "metadata": {},
   "outputs": [],
   "source": [
    "train_cols = ['ip','app','device','os','channel','click_time','is_attributed']\n",
    "test_cols = ['ip','app','device','os','channel','click_time','click_id']\n",
    "\n",
    "dtypes = {\n",
    "        'ip'            : 'uint32',\n",
    "        'app'           : 'uint16',\n",
    "        'device'        : 'uint16',\n",
    "        'os'            : 'uint16',\n",
    "        'channel'       : 'uint16',\n",
    "        'click_id'      : 'uint32',\n",
    "        'is_attributed' : 'uint8'     # Don't import attributed_time-- not sure how it will help us in training since it isn't in test.\n",
    "        }\n",
    "original_df = pd.read_csv('train.csv', usecols= train_cols, dtype = dtypes)\n",
    "test_df = pd.read_csv('test.csv') \n"
   ]
  },
  {
   "cell_type": "code",
   "execution_count": 9,
   "metadata": {},
   "outputs": [
    {
     "data": {
      "text/plain": [
       "7    10691427\n",
       "6     9308565\n",
       "9     6877332\n",
       "Name: click_time, dtype: int64"
      ]
     },
     "execution_count": 9,
     "metadata": {},
     "output_type": "execute_result"
    }
   ],
   "source": [
    "pd.to_datetime(original_df.click_time).dt.day.value_counts()"
   ]
  },
  {
   "cell_type": "code",
   "execution_count": null,
   "metadata": {},
   "outputs": [],
   "source": [
    "original_df"
   ]
  },
  {
   "cell_type": "code",
   "execution_count": 3,
   "metadata": {},
   "outputs": [
    {
     "data": {
      "text/plain": [
       "(26877324, 7)"
      ]
     },
     "execution_count": 3,
     "metadata": {},
     "output_type": "execute_result"
    }
   ],
   "source": [
    "original_df.shape"
   ]
  },
  {
   "cell_type": "code",
   "execution_count": 4,
   "metadata": {},
   "outputs": [
    {
     "data": {
      "text/plain": [
       "0.0024196224082187498"
      ]
     },
     "execution_count": 4,
     "metadata": {},
     "output_type": "execute_result"
    }
   ],
   "source": [
    "original_df.is_attributed.value_counts()[1]/ original_df.is_attributed.value_counts()[0]"
   ]
  },
  {
   "cell_type": "markdown",
   "metadata": {},
   "source": [
    "As we saw in the EDA, our labels are imbalanced. To create a better training dataset, we will take all of the 1's from the original dataframe, and all of the 0's from the sample dataframe given to us (to keep a random distributioin of the 0's)"
   ]
  },
  {
   "cell_type": "code",
   "execution_count": 5,
   "metadata": {},
   "outputs": [],
   "source": [
    "from sklearn.model_selection import train_test_split\n",
    "y = original_df.is_attributed\n",
    "X = original_df.iloc[:,:-1]\n",
    "\n",
    "X_train, X_val, y_train, y_val = train_test_split(X,y, test_size=0.33, random_state=42)"
   ]
  },
  {
   "cell_type": "code",
   "execution_count": 6,
   "metadata": {},
   "outputs": [
    {
     "data": {
      "text/plain": [
       "21"
      ]
     },
     "execution_count": 6,
     "metadata": {},
     "output_type": "execute_result"
    }
   ],
   "source": [
    "del original_df, X, y\n",
    "gc.collect()"
   ]
  },
  {
   "cell_type": "code",
   "execution_count": 7,
   "metadata": {},
   "outputs": [
    {
     "data": {
      "text/plain": [
       "0    43237\n",
       "1    43237\n",
       "Name: is_attributed, dtype: int64"
      ]
     },
     "execution_count": 7,
     "metadata": {},
     "output_type": "execute_result"
    }
   ],
   "source": [
    "from imblearn.under_sampling import RandomUnderSampler\n",
    "rus = RandomUnderSampler(random_state=42)\n",
    "X_res, y_res = rus.fit_resample(X_train, y_train)\n",
    "\n",
    "y_res.value_counts()"
   ]
  },
  {
   "cell_type": "code",
   "execution_count": 8,
   "metadata": {},
   "outputs": [
    {
     "data": {
      "text/plain": [
       "21"
      ]
     },
     "execution_count": 8,
     "metadata": {},
     "output_type": "execute_result"
    }
   ],
   "source": [
    "del X_train, y_train\n",
    "gc.collect()"
   ]
  },
  {
   "cell_type": "markdown",
   "metadata": {},
   "source": [
    "### Feature Engineering"
   ]
  },
  {
   "cell_type": "markdown",
   "metadata": {},
   "source": [
    "To create meaningful features out of datetime given to us, we will split them up into day, hour, minutes, and seconds \n",
    "\n",
    "###### (the days should be converted from numbers to weekdays-- haven't done this yet)\n",
    "\n",
    "Then, we create a series of groupby's and merges to attempt to create more meaningful features."
   ]
  },
  {
   "cell_type": "code",
   "execution_count": 9,
   "metadata": {},
   "outputs": [],
   "source": [
    "def pre_process(X): \n",
    "    X.click_time = pd.to_datetime(X.click_time, dayfirst = True)\n",
    "    # d = X.set_index('click_time')\n",
    "    X['day'] = X['click_time'].dt.day.astype('uint8')\n",
    "    X['hour'] = X['click_time'].dt.hour.astype('uint8')\n",
    "    X['min'] = X['click_time'].dt.minute.astype('uint8')\n",
    "    X['sec'] = X['click_time'].dt.second.astype('uint8')\n",
    "\n",
    "    gb = X.groupby(['ip','day', 'hour'])[['channel']].count().reset_index().rename(index = str, columns= {'channel' : 'ip_day_hour_count'})\n",
    "    df = X.merge(gb, on=['ip','day','hour'], how='left' )\n",
    "\n",
    "    del gb\n",
    "    gc.collect()\n",
    "\n",
    "    gb = X.groupby(['ip','app', 'os'])[['channel']].count().reset_index().rename(index = str, columns= {'channel' : 'ip_app_os_count'})\n",
    "    df = df.merge(gb, on=['ip','app','os'], how='left' )\n",
    "\n",
    "    del gb\n",
    "    gc.collect()\n",
    "\n",
    "    gb = X.groupby(['ip','app', 'device'])[['channel']].count().reset_index().rename(index = str, columns= {'channel' : 'ip_app_device_count'})\n",
    "    df = df.merge(gb, on=['ip','app','device'], how='left' )\n",
    "\n",
    "    del gb\n",
    "    gc.collect()\n",
    "    gb = X.groupby(['ip','channel', 'device'])[['app']].count().reset_index().rename(index = str, columns= {'app' : 'ip_channel_device_count'})\n",
    "    df = df.merge(gb, on=['ip','channel','device'], how='left' )\n",
    "\n",
    "    del gb\n",
    "    gc.collect()\n",
    "    gb = X.groupby(['ip','channel', 'os'])[['app']].count().reset_index().rename(index = str, columns= {'app' : 'ip_channel_os_count'})\n",
    "    df = df.merge(gb, on=['ip','channel', 'os'], how='left' )\n",
    "    return df"
   ]
  },
  {
   "cell_type": "code",
   "execution_count": 10,
   "metadata": {},
   "outputs": [],
   "source": [
    "X_res = pre_process(X_res)"
   ]
  },
  {
   "cell_type": "markdown",
   "metadata": {},
   "source": [
    "We need to drop click_time, as it is date time. \n",
    "\n",
    "Should also consider dropping IP, because it will be mistaken as continuos data (haven't done this yet)"
   ]
  },
  {
   "cell_type": "code",
   "execution_count": 11,
   "metadata": {},
   "outputs": [],
   "source": [
    "X_res.drop(['click_time'], axis = 1, inplace =True)"
   ]
  },
  {
   "cell_type": "code",
   "execution_count": 12,
   "metadata": {},
   "outputs": [
    {
     "data": {
      "text/html": [
       "<div>\n",
       "<style scoped>\n",
       "    .dataframe tbody tr th:only-of-type {\n",
       "        vertical-align: middle;\n",
       "    }\n",
       "\n",
       "    .dataframe tbody tr th {\n",
       "        vertical-align: top;\n",
       "    }\n",
       "\n",
       "    .dataframe thead th {\n",
       "        text-align: right;\n",
       "    }\n",
       "</style>\n",
       "<table border=\"1\" class=\"dataframe\">\n",
       "  <thead>\n",
       "    <tr style=\"text-align: right;\">\n",
       "      <th></th>\n",
       "      <th>ip</th>\n",
       "      <th>app</th>\n",
       "      <th>device</th>\n",
       "      <th>os</th>\n",
       "      <th>channel</th>\n",
       "      <th>day</th>\n",
       "      <th>hour</th>\n",
       "      <th>min</th>\n",
       "      <th>sec</th>\n",
       "      <th>ip_day_hour_count</th>\n",
       "      <th>ip_app_os_count</th>\n",
       "      <th>ip_app_device_count</th>\n",
       "      <th>ip_channel_device_count</th>\n",
       "      <th>ip_channel_os_count</th>\n",
       "    </tr>\n",
       "  </thead>\n",
       "  <tbody>\n",
       "    <tr>\n",
       "      <th>0</th>\n",
       "      <td>169280</td>\n",
       "      <td>9</td>\n",
       "      <td>1</td>\n",
       "      <td>19</td>\n",
       "      <td>442</td>\n",
       "      <td>6</td>\n",
       "      <td>16</td>\n",
       "      <td>54</td>\n",
       "      <td>14</td>\n",
       "      <td>1</td>\n",
       "      <td>1</td>\n",
       "      <td>1</td>\n",
       "      <td>1</td>\n",
       "      <td>1</td>\n",
       "    </tr>\n",
       "    <tr>\n",
       "      <th>1</th>\n",
       "      <td>186794</td>\n",
       "      <td>11</td>\n",
       "      <td>1</td>\n",
       "      <td>19</td>\n",
       "      <td>481</td>\n",
       "      <td>6</td>\n",
       "      <td>23</td>\n",
       "      <td>27</td>\n",
       "      <td>44</td>\n",
       "      <td>2</td>\n",
       "      <td>1</td>\n",
       "      <td>1</td>\n",
       "      <td>1</td>\n",
       "      <td>1</td>\n",
       "    </tr>\n",
       "    <tr>\n",
       "      <th>2</th>\n",
       "      <td>132480</td>\n",
       "      <td>3</td>\n",
       "      <td>1</td>\n",
       "      <td>19</td>\n",
       "      <td>205</td>\n",
       "      <td>6</td>\n",
       "      <td>21</td>\n",
       "      <td>11</td>\n",
       "      <td>57</td>\n",
       "      <td>2</td>\n",
       "      <td>1</td>\n",
       "      <td>1</td>\n",
       "      <td>1</td>\n",
       "      <td>1</td>\n",
       "    </tr>\n",
       "    <tr>\n",
       "      <th>3</th>\n",
       "      <td>44433</td>\n",
       "      <td>3</td>\n",
       "      <td>1</td>\n",
       "      <td>13</td>\n",
       "      <td>452</td>\n",
       "      <td>6</td>\n",
       "      <td>23</td>\n",
       "      <td>51</td>\n",
       "      <td>15</td>\n",
       "      <td>1</td>\n",
       "      <td>1</td>\n",
       "      <td>1</td>\n",
       "      <td>1</td>\n",
       "      <td>1</td>\n",
       "    </tr>\n",
       "    <tr>\n",
       "      <th>4</th>\n",
       "      <td>20362</td>\n",
       "      <td>3</td>\n",
       "      <td>1</td>\n",
       "      <td>19</td>\n",
       "      <td>115</td>\n",
       "      <td>7</td>\n",
       "      <td>0</td>\n",
       "      <td>2</td>\n",
       "      <td>22</td>\n",
       "      <td>2</td>\n",
       "      <td>1</td>\n",
       "      <td>3</td>\n",
       "      <td>1</td>\n",
       "      <td>1</td>\n",
       "    </tr>\n",
       "    <tr>\n",
       "      <th>...</th>\n",
       "      <td>...</td>\n",
       "      <td>...</td>\n",
       "      <td>...</td>\n",
       "      <td>...</td>\n",
       "      <td>...</td>\n",
       "      <td>...</td>\n",
       "      <td>...</td>\n",
       "      <td>...</td>\n",
       "      <td>...</td>\n",
       "      <td>...</td>\n",
       "      <td>...</td>\n",
       "      <td>...</td>\n",
       "      <td>...</td>\n",
       "      <td>...</td>\n",
       "    </tr>\n",
       "    <tr>\n",
       "      <th>86469</th>\n",
       "      <td>148942</td>\n",
       "      <td>29</td>\n",
       "      <td>1</td>\n",
       "      <td>20</td>\n",
       "      <td>213</td>\n",
       "      <td>7</td>\n",
       "      <td>0</td>\n",
       "      <td>28</td>\n",
       "      <td>30</td>\n",
       "      <td>1</td>\n",
       "      <td>1</td>\n",
       "      <td>1</td>\n",
       "      <td>1</td>\n",
       "      <td>1</td>\n",
       "    </tr>\n",
       "    <tr>\n",
       "      <th>86470</th>\n",
       "      <td>143318</td>\n",
       "      <td>84</td>\n",
       "      <td>0</td>\n",
       "      <td>21</td>\n",
       "      <td>101</td>\n",
       "      <td>7</td>\n",
       "      <td>3</td>\n",
       "      <td>54</td>\n",
       "      <td>37</td>\n",
       "      <td>1</td>\n",
       "      <td>1</td>\n",
       "      <td>1</td>\n",
       "      <td>1</td>\n",
       "      <td>1</td>\n",
       "    </tr>\n",
       "    <tr>\n",
       "      <th>86471</th>\n",
       "      <td>40436</td>\n",
       "      <td>35</td>\n",
       "      <td>1</td>\n",
       "      <td>19</td>\n",
       "      <td>21</td>\n",
       "      <td>7</td>\n",
       "      <td>1</td>\n",
       "      <td>53</td>\n",
       "      <td>5</td>\n",
       "      <td>1</td>\n",
       "      <td>1</td>\n",
       "      <td>1</td>\n",
       "      <td>1</td>\n",
       "      <td>1</td>\n",
       "    </tr>\n",
       "    <tr>\n",
       "      <th>86472</th>\n",
       "      <td>197415</td>\n",
       "      <td>11</td>\n",
       "      <td>2</td>\n",
       "      <td>22</td>\n",
       "      <td>487</td>\n",
       "      <td>6</td>\n",
       "      <td>22</td>\n",
       "      <td>59</td>\n",
       "      <td>9</td>\n",
       "      <td>2</td>\n",
       "      <td>1</td>\n",
       "      <td>1</td>\n",
       "      <td>1</td>\n",
       "      <td>1</td>\n",
       "    </tr>\n",
       "    <tr>\n",
       "      <th>86473</th>\n",
       "      <td>119317</td>\n",
       "      <td>35</td>\n",
       "      <td>1</td>\n",
       "      <td>13</td>\n",
       "      <td>21</td>\n",
       "      <td>7</td>\n",
       "      <td>1</td>\n",
       "      <td>33</td>\n",
       "      <td>27</td>\n",
       "      <td>1</td>\n",
       "      <td>3</td>\n",
       "      <td>5</td>\n",
       "      <td>5</td>\n",
       "      <td>3</td>\n",
       "    </tr>\n",
       "  </tbody>\n",
       "</table>\n",
       "<p>86474 rows × 14 columns</p>\n",
       "</div>"
      ],
      "text/plain": [
       "           ip  app  device  os  channel  day  hour  min  sec  \\\n",
       "0      169280    9       1  19      442    6    16   54   14   \n",
       "1      186794   11       1  19      481    6    23   27   44   \n",
       "2      132480    3       1  19      205    6    21   11   57   \n",
       "3       44433    3       1  13      452    6    23   51   15   \n",
       "4       20362    3       1  19      115    7     0    2   22   \n",
       "...       ...  ...     ...  ..      ...  ...   ...  ...  ...   \n",
       "86469  148942   29       1  20      213    7     0   28   30   \n",
       "86470  143318   84       0  21      101    7     3   54   37   \n",
       "86471   40436   35       1  19       21    7     1   53    5   \n",
       "86472  197415   11       2  22      487    6    22   59    9   \n",
       "86473  119317   35       1  13       21    7     1   33   27   \n",
       "\n",
       "       ip_day_hour_count  ip_app_os_count  ip_app_device_count  \\\n",
       "0                      1                1                    1   \n",
       "1                      2                1                    1   \n",
       "2                      2                1                    1   \n",
       "3                      1                1                    1   \n",
       "4                      2                1                    3   \n",
       "...                  ...              ...                  ...   \n",
       "86469                  1                1                    1   \n",
       "86470                  1                1                    1   \n",
       "86471                  1                1                    1   \n",
       "86472                  2                1                    1   \n",
       "86473                  1                3                    5   \n",
       "\n",
       "       ip_channel_device_count  ip_channel_os_count  \n",
       "0                            1                    1  \n",
       "1                            1                    1  \n",
       "2                            1                    1  \n",
       "3                            1                    1  \n",
       "4                            1                    1  \n",
       "...                        ...                  ...  \n",
       "86469                        1                    1  \n",
       "86470                        1                    1  \n",
       "86471                        1                    1  \n",
       "86472                        1                    1  \n",
       "86473                        5                    3  \n",
       "\n",
       "[86474 rows x 14 columns]"
      ]
     },
     "execution_count": 12,
     "metadata": {},
     "output_type": "execute_result"
    }
   ],
   "source": [
    "X_res"
   ]
  },
  {
   "cell_type": "code",
   "execution_count": 13,
   "metadata": {},
   "outputs": [],
   "source": [
    "X_val = pre_process(X_val)\n",
    "X_val.drop('click_time', axis = 1, inplace = True)"
   ]
  },
  {
   "cell_type": "markdown",
   "metadata": {},
   "source": [
    "### Modeling"
   ]
  },
  {
   "cell_type": "code",
   "execution_count": 14,
   "metadata": {},
   "outputs": [],
   "source": [
    "from sklearn.ensemble import RandomForestClassifier\n",
    "from sklearn.metrics import roc_auc_score\n",
    "from sklearn.model_selection import GridSearchCV"
   ]
  },
  {
   "cell_type": "code",
   "execution_count": 60,
   "metadata": {},
   "outputs": [
    {
     "name": "stdout",
     "output_type": "stream",
     "text": [
      "Fitting 3 folds for each of 16 candidates, totalling 48 fits\n"
     ]
    }
   ],
   "source": [
    "parameters = { 'n_estimators': [100,300,500,1000], 'max_depth': [None, 10, 20, 50], }\n",
    "RFclf = GridSearchCV(RandomForestClassifier(), param_grid= parameters, cv = 3, scoring= 'roc_auc', n_jobs = -1, verbose = 10)\n",
    "RFclf.fit(X_res, y_res)\n",
    "\n",
    "print(RFclf.best_params_)\n",
    "# print(RFclf.score(X_val, y_val))\n",
    "# rf = RandomForestClassifier(**RFclf.best_params_, oob_score= True)\n",
    "# rf.fit(x_train, y_train)\n",
    "# rf.oob_score_"
   ]
  },
  {
   "cell_type": "code",
   "execution_count": null,
   "metadata": {},
   "outputs": [
    {
     "name": "stderr",
     "output_type": "stream",
     "text": [
      "C:\\Users\\sfrie\\anaconda3\\envs\\py4dp\\lib\\site-packages\\sklearn\\base.py:446: UserWarning: X does not have valid feature names, but RandomForestClassifier was fitted with feature names\n",
      "  \"X does not have valid feature names, but\"\n"
     ]
    },
    {
     "name": "stdout",
     "output_type": "stream",
     "text": [
      "True\n"
     ]
    },
    {
     "data": {
      "text/plain": [
       "0.9914211970065641"
      ]
     },
     "execution_count": 39,
     "metadata": {},
     "output_type": "execute_result"
    }
   ],
   "source": [
    "best_rf = RFclf.best_estimator_\n",
    "best_rf.fit(X_res, y_res)\n",
    "\n",
    "roc_auc_score(y_val, best_rf.predict_proba(X_val)[:, 1])"
   ]
  },
  {
   "cell_type": "code",
   "execution_count": null,
   "metadata": {},
   "outputs": [
    {
     "data": {
      "image/png": "[encoded data removed]",
      "text/plain": [
       "<Figure size 432x288 with 1 Axes>"
      ]
     },
     "metadata": {
      "needs_background": "light"
     },
     "output_type": "display_data"
    }
   ],
   "source": [
    "# RocCurveDisplay.from_predictions(y, scores) # Directly from preds\n",
    "from sklearn.metrics import RocCurveDisplay, roc_curve, auc\n",
    "y_pred = rf.predict_proba(x_val)[:,1]\n",
    "fpr, tpr, thresholds = roc_curve(y_val, y_pred)\n",
    "roc_auc = auc(fpr, tpr)\n",
    "\n",
    "display = RocCurveDisplay(fpr=fpr, tpr=tpr, roc_auc=roc_auc, estimator_name='Basic Model') \n",
    "display.plot()\n",
    "plt.show()"
   ]
  },
  {
   "cell_type": "code",
   "execution_count": 1,
   "metadata": {},
   "outputs": [
    {
     "ename": "NameError",
     "evalue": "name 'fpr' is not defined",
     "output_type": "error",
     "traceback": [
      "\u001b[1;31m---------------------------------------------------------------------------\u001b[0m",
      "\u001b[1;31mNameError\u001b[0m                                 Traceback (most recent call last)",
      "\u001b[1;32m~\\AppData\\Local\\Temp/ipykernel_4312/1219336227.py\u001b[0m in \u001b[0;36m<module>\u001b[1;34m\u001b[0m\n\u001b[1;32m----> 1\u001b[1;33m \u001b[0mfpr\u001b[0m\u001b[1;33m\u001b[0m\u001b[1;33m\u001b[0m\u001b[0m\n\u001b[0m",
      "\u001b[1;31mNameError\u001b[0m: name 'fpr' is not defined"
     ]
    }
   ],
   "source": [
    "fpr"
   ]
  },
  {
   "cell_type": "code",
   "execution_count": null,
   "metadata": {},
   "outputs": [
    {
     "name": "stdout",
     "output_type": "stream",
     "text": [
      "Fitting 3 folds for each of 12 candidates, totalling 36 fits\n",
      "[20:55:18] WARNING: src/objective/regression_obj.cu:152: reg:linear is now deprecated in favor of reg:squarederror.\n",
      "{'max_depth': 5, 'n_estimators': 250}\n",
      "0.9942609324178306\n"
     ]
    }
   ],
   "source": [
    "from xgboost import XGBRegressor\n",
    "parameters = { 'n_estimators': [100, 200,250], 'max_depth': [5, 10, 15,  20]}\n",
    "XGBclf = GridSearchCV(XGBRegressor(), param_grid= parameters, cv = 3, scoring= 'roc_auc', n_jobs = -1, verbose = 10)\n",
    "XGBclf.fit(x_train, y_train)\n",
    "\n",
    "print(XGBclf.best_params_)\n",
    "print(XGBclf.score(x_val, y_val)) "
   ]
  },
  {
   "cell_type": "code",
   "execution_count": null,
   "metadata": {},
   "outputs": [
    {
     "data": {
      "text/plain": [
       "0.9944152408906743"
      ]
     },
     "execution_count": 54,
     "metadata": {},
     "output_type": "execute_result"
    }
   ],
   "source": [
    "xgb = RandomForestClassifier(**XGBclf.best_params_)\n",
    "xgb.fit(x_train, y_train)\n",
    "roc_auc_score(y_val, rf.predict_proba(x_val)[:, 1])"
   ]
  },
  {
   "cell_type": "markdown",
   "metadata": {},
   "source": [
    "### Export Predictions"
   ]
  },
  {
   "cell_type": "code",
   "execution_count": null,
   "metadata": {},
   "outputs": [],
   "source": [
    "test_df = pd.read_csv('test.csv') \n",
    "test_x = pre_process(test_df)\n",
    "test_x.drop(['click_id', 'click_time'], axis = 1, inplace =True)"
   ]
  },
  {
   "cell_type": "code",
   "execution_count": null,
   "metadata": {},
   "outputs": [],
   "source": [
    "test_pred = rf.predict_proba(test_x)[:, 1]"
   ]
  },
  {
   "cell_type": "code",
   "execution_count": null,
   "metadata": {},
   "outputs": [
    {
     "data": {
      "text/plain": [
       "array([0.  , 0.01, 0.12, ..., 0.73, 0.99, 0.03])"
      ]
     },
     "execution_count": 35,
     "metadata": {},
     "output_type": "execute_result"
    }
   ],
   "source": [
    "test_pred"
   ]
  },
  {
   "cell_type": "code",
   "execution_count": null,
   "metadata": {},
   "outputs": [],
   "source": [
    "Id = test_df['click_id']"
   ]
  },
  {
   "cell_type": "code",
   "execution_count": null,
   "metadata": {},
   "outputs": [
    {
     "data": {
      "text/plain": [
       "171"
      ]
     },
     "execution_count": 41,
     "metadata": {},
     "output_type": "execute_result"
    }
   ],
   "source": [
    "del test_df\n",
    "gc.collect()"
   ]
  },
  {
   "cell_type": "code",
   "execution_count": null,
   "metadata": {},
   "outputs": [],
   "source": [
    "sub = pd.DataFrame({'Id': np.array(Id), 'Expected': test_pred})\n",
    "# sub.columns = ['Id', 'Expected']\n",
    "sub.Id = sub.Id.astype('Int64')\n",
    "# sub.set_index('Id',inplace= True)"
   ]
  },
  {
   "cell_type": "code",
   "execution_count": null,
   "metadata": {},
   "outputs": [
    {
     "data": {
      "text/html": [
       "<div>\n",
       "<style scoped>\n",
       "    .dataframe tbody tr th:only-of-type {\n",
       "        vertical-align: middle;\n",
       "    }\n",
       "\n",
       "    .dataframe tbody tr th {\n",
       "        vertical-align: top;\n",
       "    }\n",
       "\n",
       "    .dataframe thead th {\n",
       "        text-align: right;\n",
       "    }\n",
       "</style>\n",
       "<table border=\"1\" class=\"dataframe\">\n",
       "  <thead>\n",
       "    <tr style=\"text-align: right;\">\n",
       "      <th></th>\n",
       "      <th>Id</th>\n",
       "      <th>Expected</th>\n",
       "    </tr>\n",
       "  </thead>\n",
       "  <tbody>\n",
       "    <tr>\n",
       "      <th>0</th>\n",
       "      <td>2010044773365</td>\n",
       "      <td>0.27</td>\n",
       "    </tr>\n",
       "    <tr>\n",
       "      <th>1</th>\n",
       "      <td>2010044773366</td>\n",
       "      <td>0.26</td>\n",
       "    </tr>\n",
       "    <tr>\n",
       "      <th>2</th>\n",
       "      <td>2010044773367</td>\n",
       "      <td>0.11</td>\n",
       "    </tr>\n",
       "    <tr>\n",
       "      <th>3</th>\n",
       "      <td>2010044773368</td>\n",
       "      <td>0.46</td>\n",
       "    </tr>\n",
       "    <tr>\n",
       "      <th>4</th>\n",
       "      <td>2010044773369</td>\n",
       "      <td>0.17</td>\n",
       "    </tr>\n",
       "    <tr>\n",
       "      <th>...</th>\n",
       "      <td>...</td>\n",
       "      <td>...</td>\n",
       "    </tr>\n",
       "    <tr>\n",
       "      <th>3026553</th>\n",
       "      <td>2542620653135</td>\n",
       "      <td>0.09</td>\n",
       "    </tr>\n",
       "    <tr>\n",
       "      <th>3026554</th>\n",
       "      <td>2542620653136</td>\n",
       "      <td>0.13</td>\n",
       "    </tr>\n",
       "    <tr>\n",
       "      <th>3026555</th>\n",
       "      <td>2542620653137</td>\n",
       "      <td>0.18</td>\n",
       "    </tr>\n",
       "    <tr>\n",
       "      <th>3026556</th>\n",
       "      <td>2542620653138</td>\n",
       "      <td>0.10</td>\n",
       "    </tr>\n",
       "    <tr>\n",
       "      <th>3026557</th>\n",
       "      <td>2542620653139</td>\n",
       "      <td>0.12</td>\n",
       "    </tr>\n",
       "  </tbody>\n",
       "</table>\n",
       "<p>3026558 rows × 2 columns</p>\n",
       "</div>"
      ],
      "text/plain": [
       "                    Id  Expected\n",
       "0        2010044773365      0.27\n",
       "1        2010044773366      0.26\n",
       "2        2010044773367      0.11\n",
       "3        2010044773368      0.46\n",
       "4        2010044773369      0.17\n",
       "...                ...       ...\n",
       "3026553  2542620653135      0.09\n",
       "3026554  2542620653136      0.13\n",
       "3026555  2542620653137      0.18\n",
       "3026556  2542620653138      0.10\n",
       "3026557  2542620653139      0.12\n",
       "\n",
       "[3026558 rows x 2 columns]"
      ]
     },
     "execution_count": 43,
     "metadata": {},
     "output_type": "execute_result"
    }
   ],
   "source": [
    "sub"
   ]
  },
  {
   "cell_type": "code",
   "execution_count": null,
   "metadata": {},
   "outputs": [],
   "source": [
    "pd.DataFrame.to_csv(sub, 'submission', index = False)"
   ]
  },
  {
   "cell_type": "code",
   "execution_count": null,
   "metadata": {},
   "outputs": [],
   "source": []
  }
 ],
 "metadata": {
  "interpreter": {
   "hash": "b162208df198174479ad95a41e45bdbc61ac18b751563f663467e26bbab6bd1e"
  },
  "kernelspec": {
   "display_name": "Python 3.7.10 64-bit ('py4dp': conda)",
   "language": "python",
   "name": "python3"
  },
  "language_info": {
   "codemirror_mode": {
    "name": "ipython",
    "version": 3
   },
   "file_extension": ".py",
   "mimetype": "text/x-python",
   "name": "python",
   "nbconvert_exporter": "python",
   "pygments_lexer": "ipython3",
   "version": "3.7.11"
  },
  "orig_nbformat": 4
 },
 "nbformat": 4,
 "nbformat_minor": 2
}
