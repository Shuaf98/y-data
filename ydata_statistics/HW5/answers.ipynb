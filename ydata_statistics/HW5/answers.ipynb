{
 "cells": [
  {
   "cell_type": "code",
   "execution_count": 1,
   "metadata": {},
   "outputs": [
    {
     "name": "stdout",
     "output_type": "stream",
     "text": [
      "Populating the interactive namespace from numpy and matplotlib\n"
     ]
    }
   ],
   "source": [
    "%pylab inline\n",
    "import scipy.stats\n",
    "import matplotlib.pyplot as plt"
   ]
  },
  {
   "cell_type": "markdown",
   "metadata": {},
   "source": [
    "## 1) Prediction"
   ]
  },
  {
   "cell_type": "markdown",
   "metadata": {},
   "source": [
    "1) Calculate probability in each distribition.\n",
    "2) Calculate pmf (K=2) for each distribution (healthy and sick).\n",
    "3) Apply Bayes probability of P(Alive\\nodes = 2)"
   ]
  },
  {
   "cell_type": "markdown",
   "metadata": {},
   "source": [
    "Geometric Mean of \"successes\": 1/p\n",
    "\n",
    "mean alive: 2.8 = 1/p    ,   p = 1/2.8\n",
    "\n",
    "mean dead: 7.5 = 1/p   ,   p = 1/7.5"
   ]
  },
  {
   "cell_type": "code",
   "execution_count": 15,
   "metadata": {},
   "outputs": [],
   "source": [
    "#mean = 1/P    ,   mean_died = 7.5   , mean_alive = 2.8\n",
    "p_died = 1/7.5\n",
    "p_alive = 1/2.8"
   ]
  },
  {
   "cell_type": "code",
   "execution_count": 3,
   "metadata": {},
   "outputs": [],
   "source": [
    "# x = np.arange(scipy.stats.geom.ppf(0.01, p_died),\n",
    "#               scipy.stats.geom.ppf(0.99, p_died))"
   ]
  },
  {
   "cell_type": "code",
   "execution_count": 36,
   "metadata": {},
   "outputs": [
    {
     "data": {
      "text/plain": [
       "<matplotlib.collections.LineCollection at 0x1ae30cf6648>"
      ]
     },
     "execution_count": 36,
     "metadata": {},
     "output_type": "execute_result"
    },
    {
     "data": {
      "image/png": "[encoded data removed]",
      "text/plain": [
       "<Figure size 432x288 with 1 Axes>"
      ]
     },
     "metadata": {
      "needs_background": "light"
     },
     "output_type": "display_data"
    }
   ],
   "source": [
    "x = np.arange(scipy.stats.geom.ppf(0.01, p_died),\n",
    "              scipy.stats.geom.ppf(0.99, p_died))\n",
    "plt.plot(x, scipy.stats.geom.pmf(x, p_died), ms = 8, label = 'geom pmf')\n",
    "plt.vlines(x, 0 , scipy.stats.geom.pmf(x, p_died), colors = 'b', lw = 8, alpha = 0.5)\n",
    "\n",
    "x = np.arange(scipy.stats.geom.ppf(0.01, p_alive),\n",
    "              scipy.stats.geom.ppf(0.99, p_alive))\n",
    "plt.plot(x, scipy.stats.geom.pmf(x, p_alive), ms = 8, label = 'geom pmf')\n",
    "plt.vlines(x, 0 , scipy.stats.geom.pmf(x, p_alive), colors = 'r', lw = 8, alpha = 0.5)"
   ]
  },
  {
   "cell_type": "code",
   "execution_count": 17,
   "metadata": {},
   "outputs": [],
   "source": [
    "num_dead = 81/306\n",
    "num_alive = 225/306"
   ]
  },
  {
   "cell_type": "markdown",
   "metadata": {},
   "source": [
    "$$P(alive|2) = \\frac{P(alive)P(2|alive)}{P(2)}$$"
   ]
  },
  {
   "cell_type": "code",
   "execution_count": 8,
   "metadata": {},
   "outputs": [],
   "source": [
    "def bayes(x):\n",
    "    return num_alive*scipy.stats.geom.pmf(2, p_alive )/(num_alive*scipy.stats.geom.pmf(2, p_alive) + num_dead*scipy.stats.geom.pmf(2, p_died))"
   ]
  },
  {
   "cell_type": "code",
   "execution_count": 13,
   "metadata": {},
   "outputs": [
    {
     "data": {
      "text/plain": [
       "0.22959183673469385"
      ]
     },
     "execution_count": 13,
     "metadata": {},
     "output_type": "execute_result"
    }
   ],
   "source": [
    "scipy.stats.geom.pmf(2, p_alive )"
   ]
  },
  {
   "cell_type": "code",
   "execution_count": 14,
   "metadata": {},
   "outputs": [
    {
     "data": {
      "text/plain": [
       "0.11555555555555556"
      ]
     },
     "execution_count": 14,
     "metadata": {},
     "output_type": "execute_result"
    }
   ],
   "source": [
    "scipy.stats.geom.pmf(2, p_died)"
   ]
  },
  {
   "cell_type": "code",
   "execution_count": 9,
   "metadata": {},
   "outputs": [
    {
     "data": {
      "text/plain": [
       "0.8466030522862046"
      ]
     },
     "execution_count": 9,
     "metadata": {},
     "output_type": "execute_result"
    }
   ],
   "source": [
    "bayes(x)"
   ]
  },
  {
   "cell_type": "markdown",
   "metadata": {},
   "source": [
    "## Likelihood"
   ]
  },
  {
   "cell_type": "markdown",
   "metadata": {},
   "source": [
    "## Hypothesis"
   ]
  },
  {
   "cell_type": "code",
   "execution_count": 10,
   "metadata": {},
   "outputs": [],
   "source": [
    "X = np.zeros(100)\n",
    "X[:60] = 1\n",
    "\n",
    "Y = np.zeros(150)\n",
    "Y[:70] = 1"
   ]
  },
  {
   "cell_type": "code",
   "execution_count": 11,
   "metadata": {},
   "outputs": [
    {
     "data": {
      "text/plain": [
       "Ttest_indResult(statistic=2.0836798828765986, pvalue=0.03837271876454776)"
      ]
     },
     "execution_count": 11,
     "metadata": {},
     "output_type": "execute_result"
    }
   ],
   "source": [
    "scipy.stats.ttest_ind(X, Y, equal_var = False)"
   ]
  },
  {
   "cell_type": "markdown",
   "metadata": {},
   "source": [
    "This Ttest statistic is the result of the formula: \n",
    "\n",
    "$$\\frac{X1 - X2}{\\frac{S^2}{n1} + \\frac{S^2}{n1}}\n",
    "\n"
   ]
  },
  {
   "cell_type": "code",
   "execution_count": 12,
   "metadata": {},
   "outputs": [
    {
     "data": {
      "text/plain": [
       "2.0836798828765986"
      ]
     },
     "execution_count": 12,
     "metadata": {},
     "output_type": "execute_result"
    }
   ],
   "source": [
    "nomin = X.mean() - Y.mean()\n",
    " \n",
    "denom = np.sqrt((X.var(ddof = 1)/len(X) + (Y.var(ddof = 1)/len(Y)))) #ddof provides an unbiased estimator for our sample variance.\n",
    "\n",
    "nomin/denom"
   ]
  },
  {
   "cell_type": "markdown",
   "metadata": {},
   "source": [
    "Reject the Null Hypothesis that Px = Py. "
   ]
  }
 ],
 "metadata": {
  "interpreter": {
   "hash": "b162208df198174479ad95a41e45bdbc61ac18b751563f663467e26bbab6bd1e"
  },
  "kernelspec": {
   "display_name": "Python 3.7.10 64-bit ('py4dp': conda)",
   "language": "python",
   "name": "python3"
  },
  "language_info": {
   "codemirror_mode": {
    "name": "ipython",
    "version": 3
   },
   "file_extension": ".py",
   "mimetype": "text/x-python",
   "name": "python",
   "nbconvert_exporter": "python",
   "pygments_lexer": "ipython3",
   "version": "3.7.10"
  },
  "orig_nbformat": 4
 },
 "nbformat": 4,
 "nbformat_minor": 2
}
