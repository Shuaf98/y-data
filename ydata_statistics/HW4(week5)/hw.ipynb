{
 "cells": [
  {
   "cell_type": "code",
   "execution_count": 7,
   "metadata": {},
   "outputs": [
    {
     "name": "stdout",
     "output_type": "stream",
     "text": [
      "Populating the interactive namespace from numpy and matplotlib\n"
     ]
    }
   ],
   "source": [
    "%pylab inline\n",
    "plt.style.use(\"bmh\")\n",
    "from scipy import stats"
   ]
  },
  {
   "cell_type": "markdown",
   "metadata": {},
   "source": [
    "## Model Quality"
   ]
  },
  {
   "cell_type": "code",
   "execution_count": 3,
   "metadata": {},
   "outputs": [],
   "source": [
    "arr1 = np.zeros(1600)\n",
    "arr1[:1235]=1"
   ]
  },
  {
   "cell_type": "code",
   "execution_count": 4,
   "metadata": {},
   "outputs": [
    {
     "data": {
      "text/plain": [
       "0.771875"
      ]
     },
     "execution_count": 4,
     "metadata": {},
     "output_type": "execute_result"
    }
   ],
   "source": [
    "arr1.mean()"
   ]
  },
  {
   "cell_type": "code",
   "execution_count": 5,
   "metadata": {},
   "outputs": [
    {
     "data": {
      "text/plain": [
       "Ttest_1sampResult(statistic=2.084550233397783, pvalue=0.018634249756415963)"
      ]
     },
     "execution_count": 5,
     "metadata": {},
     "output_type": "execute_result"
    }
   ],
   "source": [
    "stats.ttest_1samp(arr1, 0.75, alternative= 'greater')"
   ]
  },
  {
   "cell_type": "markdown",
   "metadata": {},
   "source": [
    "we reject the null hypothesis that they are the same. "
   ]
  },
  {
   "cell_type": "code",
   "execution_count": 6,
   "metadata": {},
   "outputs": [
    {
     "ename": "KeyboardInterrupt",
     "evalue": "",
     "output_type": "error",
     "traceback": [
      "\u001b[1;31m---------------------------------------------------------------------------\u001b[0m",
      "\u001b[1;31mKeyboardInterrupt\u001b[0m                         Traceback (most recent call last)",
      "\u001b[1;32m~\\AppData\\Local\\Temp/ipykernel_7980/2143832935.py\u001b[0m in \u001b[0;36m<module>\u001b[1;34m\u001b[0m\n\u001b[1;32m----> 1\u001b[1;33m \u001b[0mbootstrapped_mean\u001b[0m \u001b[1;33m=\u001b[0m \u001b[1;33m[\u001b[0m\u001b[0mnp\u001b[0m\u001b[1;33m.\u001b[0m\u001b[0mrandom\u001b[0m\u001b[1;33m.\u001b[0m\u001b[0mchoice\u001b[0m\u001b[1;33m(\u001b[0m\u001b[0marr1\u001b[0m\u001b[1;33m,\u001b[0m\u001b[0msize\u001b[0m\u001b[1;33m=\u001b[0m\u001b[1;36m1600\u001b[0m\u001b[1;33m,\u001b[0m\u001b[0mreplace\u001b[0m\u001b[1;33m=\u001b[0m\u001b[1;32mTrue\u001b[0m\u001b[1;33m)\u001b[0m\u001b[1;33m.\u001b[0m\u001b[0mmean\u001b[0m\u001b[1;33m(\u001b[0m\u001b[1;33m)\u001b[0m \u001b[1;32mfor\u001b[0m \u001b[0mx\u001b[0m \u001b[1;32min\u001b[0m \u001b[0mrange\u001b[0m\u001b[1;33m(\u001b[0m\u001b[1;36m100000\u001b[0m\u001b[1;33m)\u001b[0m\u001b[1;33m]\u001b[0m\u001b[1;33m\u001b[0m\u001b[1;33m\u001b[0m\u001b[0m\n\u001b[0m",
      "\u001b[1;32m~\\AppData\\Local\\Temp/ipykernel_7980/2143832935.py\u001b[0m in \u001b[0;36m<listcomp>\u001b[1;34m(.0)\u001b[0m\n\u001b[1;32m----> 1\u001b[1;33m \u001b[0mbootstrapped_mean\u001b[0m \u001b[1;33m=\u001b[0m \u001b[1;33m[\u001b[0m\u001b[0mnp\u001b[0m\u001b[1;33m.\u001b[0m\u001b[0mrandom\u001b[0m\u001b[1;33m.\u001b[0m\u001b[0mchoice\u001b[0m\u001b[1;33m(\u001b[0m\u001b[0marr1\u001b[0m\u001b[1;33m,\u001b[0m\u001b[0msize\u001b[0m\u001b[1;33m=\u001b[0m\u001b[1;36m1600\u001b[0m\u001b[1;33m,\u001b[0m\u001b[0mreplace\u001b[0m\u001b[1;33m=\u001b[0m\u001b[1;32mTrue\u001b[0m\u001b[1;33m)\u001b[0m\u001b[1;33m.\u001b[0m\u001b[0mmean\u001b[0m\u001b[1;33m(\u001b[0m\u001b[1;33m)\u001b[0m \u001b[1;32mfor\u001b[0m \u001b[0mx\u001b[0m \u001b[1;32min\u001b[0m \u001b[0mrange\u001b[0m\u001b[1;33m(\u001b[0m\u001b[1;36m100000\u001b[0m\u001b[1;33m)\u001b[0m\u001b[1;33m]\u001b[0m\u001b[1;33m\u001b[0m\u001b[1;33m\u001b[0m\u001b[0m\n\u001b[0m",
      "\u001b[1;31mKeyboardInterrupt\u001b[0m: "
     ]
    }
   ],
   "source": [
    "bootstrapped_mean = [np.random.choice(arr1,size=1600,replace=True).mean() for x in range(100000)]"
   ]
  },
  {
   "cell_type": "code",
   "execution_count": null,
   "metadata": {},
   "outputs": [
    {
     "data": {
      "text/plain": [
       "0.7718942"
      ]
     },
     "execution_count": 33,
     "metadata": {},
     "output_type": "execute_result"
    }
   ],
   "source": [
    "np.mean(bootstrapped_mean)"
   ]
  },
  {
   "cell_type": "code",
   "execution_count": null,
   "metadata": {},
   "outputs": [
    {
     "data": {
      "text/plain": [
       "0.97937"
      ]
     },
     "execution_count": 185,
     "metadata": {},
     "output_type": "execute_result"
    }
   ],
   "source": [
    "a = np.array(bootstrapped_mean)\n",
    "len(a[a>0.75])/len(a)"
   ]
  },
  {
   "cell_type": "markdown",
   "metadata": {},
   "source": [
    "We get a mean greater than 0.75 in 0.97937 of the cases."
   ]
  },
  {
   "cell_type": "code",
   "execution_count": null,
   "metadata": {},
   "outputs": [],
   "source": [
    "import pandas as pd"
   ]
  },
  {
   "cell_type": "markdown",
   "metadata": {},
   "source": [
    "## Comparing salaries"
   ]
  },
  {
   "cell_type": "code",
   "execution_count": 8,
   "metadata": {},
   "outputs": [],
   "source": [
    "salaries_1 = np.loadtxt('https://gist.githubusercontent.com/avidale/11fcdcb0ed24f842a75dd3c261cdb202/raw/7220a1c692e448428432c491b245a6d97abd97ea/salaries1.txt')"
   ]
  },
  {
   "cell_type": "code",
   "execution_count": 9,
   "metadata": {},
   "outputs": [],
   "source": [
    "salaries_2= np.loadtxt('https://gist.githubusercontent.com/avidale/11fcdcb0ed24f842a75dd3c261cdb202/raw/7220a1c692e448428432c491b245a6d97abd97ea/salaries2.txt')"
   ]
  },
  {
   "cell_type": "code",
   "execution_count": 10,
   "metadata": {},
   "outputs": [
    {
     "data": {
      "text/plain": [
       "40685703.13888889"
      ]
     },
     "execution_count": 10,
     "metadata": {},
     "output_type": "execute_result"
    }
   ],
   "source": [
    "salaries_1.var()"
   ]
  },
  {
   "cell_type": "code",
   "execution_count": 11,
   "metadata": {},
   "outputs": [
    {
     "data": {
      "text/plain": [
       "50744521.323748045"
      ]
     },
     "execution_count": 11,
     "metadata": {},
     "output_type": "execute_result"
    }
   ],
   "source": [
    "salaries_2.var(ddof = 1)"
   ]
  },
  {
   "cell_type": "code",
   "execution_count": 12,
   "metadata": {},
   "outputs": [
    {
     "data": {
      "text/plain": [
       "-2.1449175086808343"
      ]
     },
     "execution_count": 12,
     "metadata": {},
     "output_type": "execute_result"
    }
   ],
   "source": [
    "#z test\n",
    "(salaries_1.mean() - salaries_2.mean()) / np.sqrt((salaries_1.var()/len(salaries_1)) + (salaries_2.var()/len(salaries_2) ))"
   ]
  },
  {
   "cell_type": "code",
   "execution_count": 13,
   "metadata": {},
   "outputs": [
    {
     "data": {
      "text/plain": [
       "-2.1449175086808348"
      ]
     },
     "execution_count": 13,
     "metadata": {},
     "output_type": "execute_result"
    }
   ],
   "source": [
    "#t test\n",
    "sp = ((((len(salaries_1) - 1)*salaries_1.var())) + (((len(salaries_2) - 1)*salaries_2.var()))) / (len(salaries_1) + len(salaries_2) - 2)\n",
    "denom = np.sqrt(sp) * np.sqrt( (1/len(salaries_1)) + (1/len(salaries_2)))\n",
    "(np.mean(salaries_1) - np.mean(salaries_2)) / denom"
   ]
  },
  {
   "cell_type": "code",
   "execution_count": null,
   "metadata": {},
   "outputs": [
    {
     "data": {
      "text/plain": [
       "Ttest_indResult(statistic=-2.129970166236807, pvalue=0.034916573358014256)"
      ]
     },
     "execution_count": 16,
     "metadata": {},
     "output_type": "execute_result"
    }
   ],
   "source": [
    "stats.ttest_ind(salaries_1, salaries_2, equal_var=False)"
   ]
  },
  {
   "cell_type": "code",
   "execution_count": null,
   "metadata": {},
   "outputs": [
    {
     "data": {
      "text/plain": [
       "Ttest_indResult(statistic=-2.1299701662368076, pvalue=0.03489814306227899)"
      ]
     },
     "execution_count": 18,
     "metadata": {},
     "output_type": "execute_result"
    }
   ],
   "source": [
    "stats.ttest_ind(salaries_1, salaries_2)"
   ]
  },
  {
   "cell_type": "markdown",
   "metadata": {},
   "source": [
    "We reject the null hypothesis that salaries are the same."
   ]
  },
  {
   "cell_type": "markdown",
   "metadata": {},
   "source": [
    "### Counting bombs"
   ]
  },
  {
   "cell_type": "code",
   "execution_count": null,
   "metadata": {},
   "outputs": [],
   "source": [
    "def f(g,n):\n",
    "    return 576*(((g**n)*(np.exp(-g)))/np.math.factorial(n))"
   ]
  },
  {
   "cell_type": "code",
   "execution_count": null,
   "metadata": {},
   "outputs": [],
   "source": [
    "import scipy.stats"
   ]
  },
  {
   "cell_type": "code",
   "execution_count": null,
   "metadata": {},
   "outputs": [],
   "source": [
    "g = 537/576 #bombs per region\n",
    "original_vals = [229,211,93,35,7,1]\n",
    "estimated_vals = [f(g,x) for x in np.arange(6)]"
   ]
  },
  {
   "cell_type": "code",
   "execution_count": null,
   "metadata": {},
   "outputs": [],
   "source": [
    "estimated_vals[-1] = [576 - sum(estimated_vals[:5])] #calculate for the 5+ category"
   ]
  },
  {
   "cell_type": "code",
   "execution_count": null,
   "metadata": {},
   "outputs": [
    {
     "data": {
      "text/plain": [
       "[226.74272258323953,\n",
       " 211.390350741666,\n",
       " 98.53873120509951,\n",
       " 30.622279315473634,\n",
       " 7.137223955038776,\n",
       " 1.568748]"
      ]
     },
     "execution_count": 99,
     "metadata": {},
     "output_type": "execute_result"
    }
   ],
   "source": [
    "estimated_vals"
   ]
  },
  {
   "cell_type": "code",
   "execution_count": null,
   "metadata": {},
   "outputs": [
    {
     "data": {
      "text/plain": [
       "<matplotlib.collections.PathCollection at 0x1b274177948>"
      ]
     },
     "execution_count": 89,
     "metadata": {},
     "output_type": "execute_result"
    },
    {
     "data": {
      "image/png": "[encoded data removed]",
      "text/plain": [
       "<Figure size 432x288 with 1 Axes>"
      ]
     },
     "metadata": {
      "needs_background": "light"
     },
     "output_type": "display_data"
    }
   ],
   "source": [
    "plt.scatter(np.arange(6),estimated_vals)\n",
    "plt.scatter(np.arange(6),original_vals)"
   ]
  },
  {
   "cell_type": "code",
   "execution_count": null,
   "metadata": {},
   "outputs": [],
   "source": [
    "out = []\n",
    "for i,v in enumerate(estimated_vals):\n",
    "    out.append(((original_vals[i] - v)**2)/v)"
   ]
  },
  {
   "cell_type": "code",
   "execution_count": null,
   "metadata": {},
   "outputs": [],
   "source": [
    "t_statistic = np.sum(out)"
   ]
  },
  {
   "cell_type": "code",
   "execution_count": null,
   "metadata": {},
   "outputs": [
    {
     "data": {
      "text/plain": [
       "1.169187800698415"
      ]
     },
     "execution_count": 92,
     "metadata": {},
     "output_type": "execute_result"
    }
   ],
   "source": [
    "t_statistic"
   ]
  },
  {
   "cell_type": "code",
   "execution_count": null,
   "metadata": {},
   "outputs": [],
   "source": [
    "# create chi2 dist with 4 dof\n",
    "rv = stats.chi2(4)"
   ]
  },
  {
   "cell_type": "code",
   "execution_count": null,
   "metadata": {},
   "outputs": [
    {
     "data": {
      "text/plain": [
       "0.883145122589309"
      ]
     },
     "execution_count": 101,
     "metadata": {},
     "output_type": "execute_result"
    }
   ],
   "source": [
    "pvalue = 1- rv.cdf(np.sum(out))\n",
    "pvalue"
   ]
  },
  {
   "cell_type": "markdown",
   "metadata": {},
   "source": [
    "We cant reject that they are the same."
   ]
  },
  {
   "cell_type": "code",
   "execution_count": null,
   "metadata": {},
   "outputs": [
    {
     "name": "stdout",
     "output_type": "stream",
     "text": [
      "\u001b[1;31mSignature:\u001b[0m       \u001b[0mstats\u001b[0m\u001b[1;33m.\u001b[0m\u001b[0mchi2\u001b[0m\u001b[1;33m(\u001b[0m\u001b[1;33m*\u001b[0m\u001b[0margs\u001b[0m\u001b[1;33m,\u001b[0m \u001b[1;33m**\u001b[0m\u001b[0mkwds\u001b[0m\u001b[1;33m)\u001b[0m\u001b[1;33m\u001b[0m\u001b[1;33m\u001b[0m\u001b[0m\n",
      "\u001b[1;31mType:\u001b[0m            chi2_gen\n",
      "\u001b[1;31mString form:\u001b[0m     <scipy.stats._continuous_distns.chi2_gen object at 0x0000014BBC5DEE20>\n",
      "\u001b[1;31mFile:\u001b[0m            c:\\users\\aaron\\anaconda3\\envs\\py4req\\lib\\site-packages\\scipy\\stats\\_continuous_distns.py\n",
      "\u001b[1;31mDocstring:\u001b[0m      \n",
      "A chi-squared continuous random variable.\n",
      "\n",
      "For the noncentral chi-square distribution, see `ncx2`.\n",
      "\n",
      "As an instance of the `rv_continuous` class, `chi2` object inherits from it\n",
      "a collection of generic methods (see below for the full list),\n",
      "and completes them with details specific for this particular distribution.\n",
      "\n",
      "Methods\n",
      "-------\n",
      "rvs(df, loc=0, scale=1, size=1, random_state=None)\n",
      "    Random variates.\n",
      "pdf(x, df, loc=0, scale=1)\n",
      "    Probability density function.\n",
      "logpdf(x, df, loc=0, scale=1)\n",
      "    Log of the probability density function.\n",
      "cdf(x, df, loc=0, scale=1)\n",
      "    Cumulative distribution function.\n",
      "logcdf(x, df, loc=0, scale=1)\n",
      "    Log of the cumulative distribution function.\n",
      "sf(x, df, loc=0, scale=1)\n",
      "    Survival function  (also defined as ``1 - cdf``, but `sf` is sometimes more accurate).\n",
      "logsf(x, df, loc=0, scale=1)\n",
      "    Log of the survival function.\n",
      "ppf(q, df, loc=0, scale=1)\n",
      "    Percent point function (inverse of ``cdf`` --- percentiles).\n",
      "isf(q, df, loc=0, scale=1)\n",
      "    Inverse survival function (inverse of ``sf``).\n",
      "moment(n, df, loc=0, scale=1)\n",
      "    Non-central moment of order n\n",
      "stats(df, loc=0, scale=1, moments='mv')\n",
      "    Mean('m'), variance('v'), skew('s'), and/or kurtosis('k').\n",
      "entropy(df, loc=0, scale=1)\n",
      "    (Differential) entropy of the RV.\n",
      "fit(data)\n",
      "    Parameter estimates for generic data.\n",
      "    See `scipy.stats.rv_continuous.fit <https://docs.scipy.org/doc/scipy/reference/generated/scipy.stats.rv_continuous.fit.html#scipy.stats.rv_continuous.fit>`__ for detailed documentation of the\n",
      "    keyword arguments.\n",
      "expect(func, args=(df,), loc=0, scale=1, lb=None, ub=None, conditional=False, **kwds)\n",
      "    Expected value of a function (of one argument) with respect to the distribution.\n",
      "median(df, loc=0, scale=1)\n",
      "    Median of the distribution.\n",
      "mean(df, loc=0, scale=1)\n",
      "    Mean of the distribution.\n",
      "var(df, loc=0, scale=1)\n",
      "    Variance of the distribution.\n",
      "std(df, loc=0, scale=1)\n",
      "    Standard deviation of the distribution.\n",
      "interval(alpha, df, loc=0, scale=1)\n",
      "    Endpoints of the range that contains alpha percent of the distribution\n",
      "\n",
      "See Also\n",
      "--------\n",
      "ncx2\n",
      "\n",
      "Notes\n",
      "-----\n",
      "The probability density function for `chi2` is:\n",
      "\n",
      ".. math::\n",
      "\n",
      "    f(x, k) = \\frac{1}{2^{k/2} \\Gamma \\left( k/2 \\right)}\n",
      "               x^{k/2-1} \\exp \\left( -x/2 \\right)\n",
      "\n",
      "for :math:`x > 0`  and :math:`k > 0` (degrees of freedom, denoted ``df``\n",
      "in the implementation).\n",
      "\n",
      "`chi2` takes ``df`` as a shape parameter.\n",
      "\n",
      "The probability density above is defined in the \"standardized\" form. To shift\n",
      "and/or scale the distribution use the ``loc`` and ``scale`` parameters.\n",
      "Specifically, ``chi2.pdf(x, df, loc, scale)`` is identically\n",
      "equivalent to ``chi2.pdf(y, df) / scale`` with\n",
      "``y = (x - loc) / scale``. Note that shifting the location of a distribution\n",
      "does not make it a \"noncentral\" distribution; noncentral generalizations of\n",
      "some distributions are available in separate classes.\n",
      "\n",
      "Examples\n",
      "--------\n",
      ">>> from scipy.stats import chi2\n",
      ">>> import matplotlib.pyplot as plt\n",
      ">>> fig, ax = plt.subplots(1, 1)\n",
      "\n",
      "Calculate a few first moments:\n",
      "\n",
      ">>> df = 55\n",
      ">>> mean, var, skew, kurt = chi2.stats(df, moments='mvsk')\n",
      "\n",
      "Display the probability density function (``pdf``):\n",
      "\n",
      ">>> x = np.linspace(chi2.ppf(0.01, df),\n",
      "...                 chi2.ppf(0.99, df), 100)\n",
      ">>> ax.plot(x, chi2.pdf(x, df),\n",
      "...        'r-', lw=5, alpha=0.6, label='chi2 pdf')\n",
      "\n",
      "Alternatively, the distribution object can be called (as a function)\n",
      "to fix the shape, location and scale parameters. This returns a \"frozen\"\n",
      "RV object holding the given parameters fixed.\n",
      "\n",
      "Freeze the distribution and display the frozen ``pdf``:\n",
      "\n",
      ">>> rv = chi2(df)\n",
      ">>> ax.plot(x, rv.pdf(x), 'k-', lw=2, label='frozen pdf')\n",
      "\n",
      "Check accuracy of ``cdf`` and ``ppf``:\n",
      "\n",
      ">>> vals = chi2.ppf([0.001, 0.5, 0.999], df)\n",
      ">>> np.allclose([0.001, 0.5, 0.999], chi2.cdf(vals, df))\n",
      "True\n",
      "\n",
      "Generate random numbers:\n",
      "\n",
      ">>> r = chi2.rvs(df, size=1000)\n",
      "\n",
      "And compare the histogram:\n",
      "\n",
      ">>> ax.hist(r, density=True, histtype='stepfilled', alpha=0.2)\n",
      ">>> ax.legend(loc='best', frameon=False)\n",
      ">>> plt.show()\n",
      "\u001b[1;31mClass docstring:\u001b[0m\n",
      "A chi-squared continuous random variable.\n",
      "\n",
      "For the noncentral chi-square distribution, see `ncx2`.\n",
      "\n",
      "%(before_notes)s\n",
      "\n",
      "See Also\n",
      "--------\n",
      "ncx2\n",
      "\n",
      "Notes\n",
      "-----\n",
      "The probability density function for `chi2` is:\n",
      "\n",
      ".. math::\n",
      "\n",
      "    f(x, k) = \\frac{1}{2^{k/2} \\Gamma \\left( k/2 \\right)}\n",
      "               x^{k/2-1} \\exp \\left( -x/2 \\right)\n",
      "\n",
      "for :math:`x > 0`  and :math:`k > 0` (degrees of freedom, denoted ``df``\n",
      "in the implementation).\n",
      "\n",
      "`chi2` takes ``df`` as a shape parameter.\n",
      "\n",
      "%(after_notes)s\n",
      "\n",
      "%(example)s\n",
      "\u001b[1;31mCall docstring:\u001b[0m \n",
      "Freeze the distribution for the given arguments.\n",
      "\n",
      "Parameters\n",
      "----------\n",
      "arg1, arg2, arg3,... : array_like\n",
      "    The shape parameter(s) for the distribution.  Should include all\n",
      "    the non-optional arguments, may include ``loc`` and ``scale``.\n",
      "\n",
      "Returns\n",
      "-------\n",
      "rv_frozen : rv_frozen instance\n",
      "    The frozen distribution.\n"
     ]
    }
   ],
   "source": [
    "stats.chi2?"
   ]
  },
  {
   "cell_type": "markdown",
   "metadata": {},
   "source": [
    "## Syndrome"
   ]
  },
  {
   "cell_type": "code",
   "execution_count": null,
   "metadata": {},
   "outputs": [],
   "source": [
    "import scipy.stats"
   ]
  },
  {
   "cell_type": "code",
   "execution_count": null,
   "metadata": {},
   "outputs": [
    {
     "data": {
      "image/png": "[encoded data removed]",
      "text/plain": [
       "<Figure size 432x288 with 1 Axes>"
      ]
     },
     "metadata": {
      "needs_background": "light"
     },
     "output_type": "display_data"
    }
   ],
   "source": [
    "N = 100000\n",
    "\n",
    "x = sorted(np.random.normal(20, np.sqrt(1), int(0.99*N)))\n",
    "normal_x = scipy.stats.norm(20, np.sqrt(1))\n",
    "plt.plot(x, normal_x.pdf(x));\n",
    "\n",
    "y = sorted(np.random.normal(25, np.sqrt(1), int(0.01*N)))\n",
    "normal_y = scipy.stats.norm(25, np.sqrt(1))\n",
    "plt.plot(y, normal_y.pdf(y));\n",
    "\n"
   ]
  },
  {
   "cell_type": "code",
   "execution_count": null,
   "metadata": {},
   "outputs": [
    {
     "data": {
      "text/plain": [
       "0.3989422804014327"
      ]
     },
     "execution_count": 21,
     "metadata": {},
     "output_type": "execute_result"
    }
   ],
   "source": [
    "normal_x.pdf(20)"
   ]
  }
 ],
 "metadata": {
  "interpreter": {
   "hash": "196156bc87d11f7989c6fb223eb7d3abde33c25c597628aa490c154023811b22"
  },
  "kernelspec": {
   "display_name": "Python 3.8.12 64-bit ('py4req': conda)",
   "name": "python3"
  },
  "language_info": {
   "codemirror_mode": {
    "name": "ipython",
    "version": 3
   },
   "file_extension": ".py",
   "mimetype": "text/x-python",
   "name": "python",
   "nbconvert_exporter": "python",
   "pygments_lexer": "ipython3",
   "version": "3.7.10"
  },
  "orig_nbformat": 4
 },
 "nbformat": 4,
 "nbformat_minor": 2
}
