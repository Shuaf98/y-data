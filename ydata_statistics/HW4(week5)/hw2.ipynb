{
 "cells": [
  {
   "cell_type": "code",
   "execution_count": 1,
   "metadata": {},
   "outputs": [
    {
     "name": "stdout",
     "output_type": "stream",
     "text": [
      "Populating the interactive namespace from numpy and matplotlib\n"
     ]
    }
   ],
   "source": [
    "%pylab inline\n",
    "plt.style.use(\"bmh\")\n",
    "from scipy import stats"
   ]
  },
  {
   "cell_type": "markdown",
   "metadata": {},
   "source": [
    "## Model Quality"
   ]
  },
  {
   "cell_type": "code",
   "execution_count": 187,
   "metadata": {},
   "outputs": [],
   "source": [
    "arr1 = np.zeros(1600)\n",
    "arr1[:1235]=1"
   ]
  },
  {
   "cell_type": "code",
   "execution_count": 188,
   "metadata": {},
   "outputs": [
    {
     "data": {
      "text/plain": [
       "Ttest_1sampResult(statistic=2.084550233397783, pvalue=0.018634249756415963)"
      ]
     },
     "execution_count": 188,
     "metadata": {},
     "output_type": "execute_result"
    }
   ],
   "source": [
    "stats.ttest_1samp(arr1, 0.75,alternative='greater')"
   ]
  },
  {
   "cell_type": "markdown",
   "metadata": {},
   "source": [
    "we reject the null hypothesis that they are the same. "
   ]
  },
  {
   "cell_type": "code",
   "execution_count": 189,
   "metadata": {},
   "outputs": [],
   "source": [
    "bootstrapped_mean = [np.random.choice(arr1,size=1600,replace=True).mean() for x in range(100000)]"
   ]
  },
  {
   "cell_type": "code",
   "execution_count": 190,
   "metadata": {},
   "outputs": [
    {
     "data": {
      "text/plain": [
       "0.97916"
      ]
     },
     "execution_count": 190,
     "metadata": {},
     "output_type": "execute_result"
    }
   ],
   "source": [
    "a = np.array(bootstrapped_mean)\n",
    "len(a[a>0.75])/len(a)"
   ]
  },
  {
   "cell_type": "markdown",
   "metadata": {},
   "source": [
    "We get a mean greater than 0.75 in 0.97937 of the cases."
   ]
  },
  {
   "cell_type": "code",
   "execution_count": 192,
   "metadata": {},
   "outputs": [],
   "source": [
    "import pandas as pd"
   ]
  },
  {
   "cell_type": "markdown",
   "metadata": {},
   "source": [
    "## Comparing salaries"
   ]
  },
  {
   "cell_type": "code",
   "execution_count": 193,
   "metadata": {},
   "outputs": [],
   "source": [
    "salaries_1 = np.loadtxt('https://gist.githubusercontent.com/avidale/11fcdcb0ed24f842a75dd3c261cdb202/raw/7220a1c692e448428432c491b245a6d97abd97ea/salaries1.txt')"
   ]
  },
  {
   "cell_type": "code",
   "execution_count": 194,
   "metadata": {},
   "outputs": [],
   "source": [
    "salaries_2= np.loadtxt('https://gist.githubusercontent.com/avidale/11fcdcb0ed24f842a75dd3c261cdb202/raw/7220a1c692e448428432c491b245a6d97abd97ea/salaries2.txt')"
   ]
  },
  {
   "cell_type": "code",
   "execution_count": 200,
   "metadata": {},
   "outputs": [
    {
     "data": {
      "text/plain": [
       "Ttest_indResult(statistic=-2.129970166236807, pvalue=0.034916573358014256)"
      ]
     },
     "execution_count": 200,
     "metadata": {},
     "output_type": "execute_result"
    }
   ],
   "source": [
    "stats.ttest_ind(salaries_1, salaries_2, equal_var=False)"
   ]
  },
  {
   "cell_type": "markdown",
   "metadata": {},
   "source": [
    "We reject the null hypothesis that salaries are the same."
   ]
  },
  {
   "cell_type": "markdown",
   "metadata": {},
   "source": [
    "### Counting bombs"
   ]
  },
  {
   "cell_type": "code",
   "execution_count": 203,
   "metadata": {},
   "outputs": [],
   "source": [
    "def f(g,n):\n",
    "    return 576*g**n*np.exp(-g)/np.math.factorial(n)"
   ]
  },
  {
   "cell_type": "code",
   "execution_count": 204,
   "metadata": {},
   "outputs": [],
   "source": [
    "g = 537/576\n",
    "original_vals = [229,211,93,35,7,1]\n",
    "estimated_vals = [f(g,x) for x in np.arange(6)]"
   ]
  },
  {
   "cell_type": "code",
   "execution_count": 205,
   "metadata": {},
   "outputs": [
    {
     "data": {
      "text/plain": [
       "<matplotlib.collections.PathCollection at 0x293ab9b6040>"
      ]
     },
     "execution_count": 205,
     "metadata": {},
     "output_type": "execute_result"
    },
    {
     "data": {
      "image/png": "[encoded data removed]",
      "text/plain": [
       "<Figure size 432x288 with 1 Axes>"
      ]
     },
     "metadata": {
      "needs_background": "light"
     },
     "output_type": "display_data"
    }
   ],
   "source": [
    "plt.scatter(np.arange(6),estimated_vals)\n",
    "plt.scatter(np.arange(6),original_vals)"
   ]
  },
  {
   "cell_type": "code",
   "execution_count": 207,
   "metadata": {},
   "outputs": [],
   "source": [
    "out = []\n",
    "for i,v in enumerate(estimated_vals):\n",
    "    out.append((original_vals[i] - v)**2/v)"
   ]
  },
  {
   "cell_type": "code",
   "execution_count": 208,
   "metadata": {},
   "outputs": [],
   "source": [
    "t_statistic = np.sum(out)"
   ]
  },
  {
   "cell_type": "code",
   "execution_count": 211,
   "metadata": {},
   "outputs": [],
   "source": [
    "# create chi2 dist with 4 dof\n",
    "rv = stats.chi2(df=4)"
   ]
  },
  {
   "cell_type": "code",
   "execution_count": 212,
   "metadata": {},
   "outputs": [
    {
     "data": {
      "text/plain": [
       "0.9028642674873831"
      ]
     },
     "execution_count": 212,
     "metadata": {},
     "output_type": "execute_result"
    }
   ],
   "source": [
    "pvalue = 1- rv.cdf(np.sum(out))\n",
    "pvalue"
   ]
  },
  {
   "cell_type": "markdown",
   "metadata": {},
   "source": [
    "We cant reject that they are the same."
   ]
  },
  {
   "cell_type": "markdown",
   "metadata": {},
   "source": [
    "## simulation of 2 ppl going to bar"
   ]
  },
  {
   "cell_type": "code",
   "execution_count": 8,
   "metadata": {},
   "outputs": [],
   "source": [
    "# simulation solution \n",
    "possible_vals = np.linspace(0,60,100000)\n",
    "def g():\n",
    "    return np.random.choice(possible_vals)-np.random.choice(possible_vals)\n",
    "\n"
   ]
  },
  {
   "cell_type": "code",
   "execution_count": 5,
   "metadata": {},
   "outputs": [],
   "source": [
    "arr = np.array([g() for x in range(100000)])\n",
    "arr_earlier = arr[arr>0]"
   ]
  },
  {
   "cell_type": "code",
   "execution_count": 6,
   "metadata": {},
   "outputs": [
    {
     "data": {
      "text/plain": [
       "0.34673"
      ]
     },
     "execution_count": 6,
     "metadata": {},
     "output_type": "execute_result"
    }
   ],
   "source": [
    "len(arr[arr>10])/len(arr)"
   ]
  },
  {
   "cell_type": "code",
   "execution_count": 11,
   "metadata": {},
   "outputs": [
    {
     "data": {
      "text/plain": [
       "array([ -6.20106201,  22.3898239 ,   1.05721057, ...,   3.26163262,\n",
       "       -31.24531245, -23.4800348 ])"
      ]
     },
     "execution_count": 11,
     "metadata": {},
     "output_type": "execute_result"
    }
   ],
   "source": [
    "arr =np.array([g() for x in range(1000000)])\n",
    "# len(arr[np.abs(arr) > 10/len(arr)])\n",
    "arr"
   ]
  },
  {
   "cell_type": "code",
   "execution_count": 13,
   "metadata": {},
   "outputs": [
    {
     "data": {
      "text/plain": [
       "0.694364"
      ]
     },
     "execution_count": 13,
     "metadata": {},
     "output_type": "execute_result"
    }
   ],
   "source": [
    "len(arr[np.abs(arr) > 10])/len(arr)\n"
   ]
  },
  {
   "cell_type": "code",
   "execution_count": 14,
   "metadata": {},
   "outputs": [
    {
     "data": {
      "text/plain": [
       "0.6944444444444445"
      ]
     },
     "execution_count": 14,
     "metadata": {},
     "output_type": "execute_result"
    }
   ],
   "source": [
    "## analytic / geometric solution\n",
    "2*(5/6)**2/2"
   ]
  },
  {
   "cell_type": "markdown",
   "metadata": {},
   "source": [
    "### Diagnostics"
   ]
  },
  {
   "cell_type": "code",
   "execution_count": 233,
   "metadata": {},
   "outputs": [],
   "source": [
    "#simulation\n",
    "\n",
    "N = 1000000\n",
    "arr = np.zeros(N)\n",
    "arr[:int(0.01*N)] = 1"
   ]
  },
  {
   "cell_type": "code",
   "execution_count": 234,
   "metadata": {},
   "outputs": [],
   "source": [
    "import pandas as pd"
   ]
  },
  {
   "cell_type": "code",
   "execution_count": 235,
   "metadata": {},
   "outputs": [],
   "source": [
    "df = pd.DataFrame(arr,columns=['is_sick'])"
   ]
  },
  {
   "cell_type": "code",
   "execution_count": 236,
   "metadata": {},
   "outputs": [],
   "source": [
    "def foo(is_sick):\n",
    "    if is_sick == 1:\n",
    "        return int(np.random.normal(25,1))\n",
    "    elif is_sick == 0:\n",
    "        return int(np.random.normal(20,1))\n"
   ]
  },
  {
   "cell_type": "code",
   "execution_count": 223,
   "metadata": {},
   "outputs": [],
   "source": [
    "# rounding\n",
    "def foo(is_sick):\n",
    "    if is_sick == 1:\n",
    "        return round(np.random.normal(25,1))\n",
    "    elif is_sick == 0:\n",
    "        return round(np.random.normal(20,1))"
   ]
  },
  {
   "cell_type": "code",
   "execution_count": 237,
   "metadata": {},
   "outputs": [],
   "source": [
    "df['prot_conc']=df.is_sick.apply(foo)\n",
    "df_sick = df[df.is_sick==1]"
   ]
  },
  {
   "cell_type": "code",
   "execution_count": 238,
   "metadata": {},
   "outputs": [
    {
     "data": {
      "text/plain": [
       "prot_conc\n",
       "14             NaN\n",
       "15             NaN\n",
       "16             NaN\n",
       "17             NaN\n",
       "18             NaN\n",
       "19             NaN\n",
       "20    5.916388e-07\n",
       "21    1.017961e-04\n",
       "22    1.028797e-02\n",
       "23    5.113212e-01\n",
       "24    9.916125e-01\n",
       "25    9.998822e-01\n",
       "26    1.000000e+00\n",
       "27    1.000000e+00\n",
       "28    1.000000e+00\n",
       "dtype: float64"
      ]
     },
     "execution_count": 238,
     "metadata": {},
     "output_type": "execute_result"
    }
   ],
   "source": [
    "df_sick.groupby('prot_conc').size()/df.groupby('prot_conc').size()"
   ]
  },
  {
   "cell_type": "markdown",
   "metadata": {},
   "source": [
    "#### P(sick|x=20) = 0.000003\n",
    "#### P(sick|x=23) = 0.501513\n",
    "#### P(sick|x=25) = 1.000000"
   ]
  },
  {
   "cell_type": "markdown",
   "metadata": {},
   "source": []
  },
  {
   "cell_type": "code",
   "execution_count": 537,
   "metadata": {},
   "outputs": [],
   "source": [
    "import seaborn as sns"
   ]
  },
  {
   "cell_type": "code",
   "execution_count": 252,
   "metadata": {},
   "outputs": [],
   "source": [
    "def foo2(x):\n",
    "    return 0.01*stats.norm.pdf(x,loc=25,scale=1)/(0.99*stats.norm.pdf(x,loc=20,scale=1) + 0.01*stats.norm.pdf(x,loc=25,scale=1))"
   ]
  },
  {
   "cell_type": "code",
   "execution_count": 254,
   "metadata": {},
   "outputs": [
    {
     "data": {
      "text/plain": [
       "[(15, 5.227833339193807e-19),\n",
       " (16, 7.758792611315248e-17),\n",
       " (17, 1.1515069222670123e-14),\n",
       " (18, 1.708987800618423e-12),\n",
       " (19, 2.5363627829364664e-10),\n",
       " (20, 3.7642959917135503e-08),\n",
       " (21, 5.586679598410775e-06),\n",
       " (22, 0.0008284544943219435),\n",
       " (23, 0.1095720515588477),\n",
       " (24, 0.9480871535685076),\n",
       " (25, 0.9996311974015023),\n",
       " (26, 0.9999975141170154),\n",
       " (27, 0.9999999832502108),\n",
       " (28, 0.9999999998871407),\n",
       " (29, 0.9999999999992395)]"
      ]
     },
     "execution_count": 254,
     "metadata": {},
     "output_type": "execute_result"
    }
   ],
   "source": [
    "[(x,foo2(x)) for x in range(15,30)]"
   ]
  },
  {
   "cell_type": "code",
   "execution_count": 242,
   "metadata": {},
   "outputs": [
    {
     "data": {
      "text/plain": [
       "0.0008284544943219435"
      ]
     },
     "execution_count": 242,
     "metadata": {},
     "output_type": "execute_result"
    }
   ],
   "source": [
    "0.01*stats.norm.pdf(23,loc=20,scale=1)/(0.99*stats.norm.pdf(23,loc=25,scale=1) + 0.01*stats.norm.pdf(23,loc=20,scale=1))"
   ]
  },
  {
   "cell_type": "code",
   "execution_count": 226,
   "metadata": {},
   "outputs": [],
   "source": [
    "def px(x):\n",
    "    return (1/(2*np.pi)**0.5)*(0.01*np.exp(-0.5*(x-25)**2) + 0.99*np.exp(-0.5*(x-20)**2))"
   ]
  },
  {
   "cell_type": "code",
   "execution_count": 167,
   "metadata": {},
   "outputs": [
    {
     "data": {
      "text/plain": [
       "0.003990894656333914"
      ]
     },
     "execution_count": 167,
     "metadata": {},
     "output_type": "execute_result"
    }
   ],
   "source": [
    "px(25)"
   ]
  },
  {
   "cell_type": "code",
   "execution_count": 228,
   "metadata": {},
   "outputs": [
    {
     "data": {
      "text/plain": [
       "[(5, 1.0083182758150755e-40),\n",
       " (6, 1.4964770069457852e-38),\n",
       " (7, 2.2209688012519246e-36),\n",
       " (8, 3.296209960620608e-34),\n",
       " (9, 4.892009333210839e-32),\n",
       " (10, 7.2603855950111e-30),\n",
       " (11, 1.0775367624584376e-27),\n",
       " (12, 1.5992063496561942e-25),\n",
       " (13, 2.373432664093755e-23),\n",
       " (14, 3.5224863959539864e-21),\n",
       " (15, 5.227833339193807e-19),\n",
       " (16, 7.758792611315248e-17),\n",
       " (17, 1.1515069222670123e-14),\n",
       " (18, 1.7089878006184226e-12),\n",
       " (19, 2.536362782936466e-10),\n",
       " (20, 3.7642959917135503e-08),\n",
       " (21, 5.586679598410775e-06),\n",
       " (22, 0.0008284544943219435),\n",
       " (23, 0.10957205155884772),\n",
       " (24, 0.9480871535685076),\n",
       " (25, 0.9996311974015021),\n",
       " (26, 0.9999975141170154),\n",
       " (27, 0.999999983250211),\n",
       " (28, 0.9999999998871407),\n",
       " (29, 0.9999999999992397)]"
      ]
     },
     "execution_count": 228,
     "metadata": {},
     "output_type": "execute_result"
    }
   ],
   "source": [
    "[(x, bayes_combine(x)) for x in range(5,30)]"
   ]
  },
  {
   "cell_type": "code",
   "execution_count": 496,
   "metadata": {},
   "outputs": [
    {
     "data": {
      "text/plain": [
       "0.9999999904225307"
      ]
     },
     "execution_count": 496,
     "metadata": {},
     "output_type": "execute_result"
    }
   ],
   "source": [
    "np.sum([px(x) for x in range(5,30)])"
   ]
  },
  {
   "cell_type": "code",
   "execution_count": 172,
   "metadata": {},
   "outputs": [],
   "source": [
    "def px(x):\n",
    "    return (1/(2*np.pi)**0.5)*(0.01*np.exp(-0.5*(x-25)**2) + 0.99*np.exp(-0.5*(x-20)**2))"
   ]
  },
  {
   "cell_type": "code",
   "execution_count": 173,
   "metadata": {},
   "outputs": [],
   "source": [
    "def px_sick(x):\n",
    "    return (1/(2*np.pi)**0.5)*(np.exp(-0.5*(x-25)**2))"
   ]
  },
  {
   "cell_type": "code",
   "execution_count": 174,
   "metadata": {},
   "outputs": [],
   "source": [
    "def px_healthy(x):\n",
    "    return (1/(2*np.pi)**0.5)*(np.exp(-0.5*(x-20)**2))"
   ]
  },
  {
   "cell_type": "code",
   "execution_count": 175,
   "metadata": {},
   "outputs": [],
   "source": [
    "def bayes_combine(x):\n",
    "    return (px_sick(x)*0.01)/px(x)"
   ]
  },
  {
   "cell_type": "code",
   "execution_count": 176,
   "metadata": {},
   "outputs": [
    {
     "data": {
      "text/plain": [
       "0.0039908946563339135"
      ]
     },
     "execution_count": 176,
     "metadata": {},
     "output_type": "execute_result"
    }
   ],
   "source": [
    "0.01*px_sick(25) + 0.99*px_healthy(25)"
   ]
  },
  {
   "cell_type": "code",
   "execution_count": 562,
   "metadata": {},
   "outputs": [],
   "source": [
    "assert px(25) - (0.01*px_sick(25) + 0.99*px_healthy(25)) <0.00001"
   ]
  },
  {
   "cell_type": "code",
   "execution_count": 558,
   "metadata": {},
   "outputs": [
    {
     "data": {
      "text/plain": [
       "0.9480871535685076"
      ]
     },
     "execution_count": 558,
     "metadata": {},
     "output_type": "execute_result"
    }
   ],
   "source": [
    "bayes_combine(24)"
   ]
  },
  {
   "cell_type": "code",
   "execution_count": 4,
   "metadata": {},
   "outputs": [
    {
     "data": {
      "text/plain": [
       "282.5760999999999"
      ]
     },
     "execution_count": 4,
     "metadata": {},
     "output_type": "execute_result"
    }
   ],
   "source": [
    "256*(0.5*1.25+0.8*0.5)**4"
   ]
  },
  {
   "cell_type": "code",
   "execution_count": 9,
   "metadata": {},
   "outputs": [
    {
     "data": {
      "text/plain": [
       "400.0"
      ]
     },
     "execution_count": 9,
     "metadata": {},
     "output_type": "execute_result"
    }
   ],
   "source": [
    "256*(1.25)**3*0.8**1"
   ]
  },
  {
   "cell_type": "code",
   "execution_count": 14,
   "metadata": {},
   "outputs": [
    {
     "data": {
      "text/plain": [
       "45.3125"
      ]
     },
     "execution_count": 14,
     "metadata": {},
     "output_type": "execute_result"
    }
   ],
   "source": [
    "0.5**4*325+4*0.5**4*100"
   ]
  },
  {
   "cell_type": "code",
   "execution_count": 15,
   "metadata": {},
   "outputs": [
    {
     "data": {
      "text/plain": [
       "332.409154364708"
      ]
     },
     "execution_count": 15,
     "metadata": {},
     "output_type": "execute_result"
    }
   ],
   "source": [
    "380*0.9-1.64*(380*0.9*0.1)**0.5"
   ]
  },
  {
   "cell_type": "code",
   "execution_count": 24,
   "metadata": {},
   "outputs": [],
   "source": [
    "from scipy import stats"
   ]
  },
  {
   "cell_type": "code",
   "execution_count": 25,
   "metadata": {},
   "outputs": [
    {
     "data": {
      "text/plain": [
       "1.978512496172632e-05"
      ]
     },
     "execution_count": 25,
     "metadata": {},
     "output_type": "execute_result"
    }
   ],
   "source": [
    "stats.norm.cdf(345, loc=370, scale=37**0.5)"
   ]
  },
  {
   "cell_type": "code",
   "execution_count": 32,
   "metadata": {},
   "outputs": [
    {
     "data": {
      "text/plain": [
       "0.4501570258236427"
      ]
     },
     "execution_count": 32,
     "metadata": {},
     "output_type": "execute_result"
    }
   ],
   "source": [
    "2*stats.norm.cdf(10.4,loc=10.5,scale=(0.0025)**0.5)+2* stats.norm.cdf(3.15,loc=3.2,scale=(0.0036)**0.5)"
   ]
  },
  {
   "cell_type": "code",
   "execution_count": 36,
   "metadata": {},
   "outputs": [
    {
     "data": {
      "text/plain": [
       "0.43174503636850714"
      ]
     },
     "execution_count": 36,
     "metadata": {},
     "output_type": "execute_result"
    }
   ],
   "source": [
    "1 - (stats.norm.cdf(10.6,loc=10.5,scale=(0.0025)**0.5)-stats.norm.cdf(10.4,loc=10.5,scale=(0.0025)**0.5))*(stats.norm.cdf(3.25,loc=3.2,scale=(0.0036)**0.5)-stats.norm.cdf(3.15,loc=3.2,scale=(0.0036)**0.5))"
   ]
  },
  {
   "cell_type": "code",
   "execution_count": 28,
   "metadata": {},
   "outputs": [
    {
     "data": {
      "text/plain": [
       "0.022750131948179653"
      ]
     },
     "execution_count": 28,
     "metadata": {},
     "output_type": "execute_result"
    }
   ],
   "source": [
    "1-stats.norm.cdf(10.6,loc=10.5,scale=(0.0025)**0.5)"
   ]
  },
  {
   "cell_type": "code",
   "execution_count": 40,
   "metadata": {},
   "outputs": [
    {
     "data": {
      "text/plain": [
       "0.05"
      ]
     },
     "execution_count": 40,
     "metadata": {},
     "output_type": "execute_result"
    }
   ],
   "source": [
    "(0.0025)**0.5"
   ]
  },
  {
   "cell_type": "code",
   "execution_count": 43,
   "metadata": {},
   "outputs": [
    {
     "data": {
      "text/plain": [
       "118.0"
      ]
     },
     "execution_count": 43,
     "metadata": {},
     "output_type": "execute_result"
    }
   ],
   "source": [
    "75+4.3*(25+75)**0.5"
   ]
  },
  {
   "cell_type": "code",
   "execution_count": 45,
   "metadata": {},
   "outputs": [
    {
     "data": {
      "text/plain": [
       "91.56104867855092"
      ]
     },
     "execution_count": 45,
     "metadata": {},
     "output_type": "execute_result"
    }
   ],
   "source": [
    "75+4.3*(44.5/3)**0.5"
   ]
  },
  {
   "cell_type": "code",
   "execution_count": 48,
   "metadata": {},
   "outputs": [],
   "source": [
    "arr = np.array([1, 1, 2, 3, 5, 8, 10, 21, 38,81])"
   ]
  },
  {
   "cell_type": "code",
   "execution_count": 52,
   "metadata": {},
   "outputs": [
    {
     "data": {
      "text/plain": [
       "640.0"
      ]
     },
     "execution_count": 52,
     "metadata": {},
     "output_type": "execute_result"
    }
   ],
   "source": [
    "((arr-arr.mean())**2).sum()/(len(arr)-1)"
   ]
  },
  {
   "cell_type": "code",
   "execution_count": 55,
   "metadata": {},
   "outputs": [
    {
     "data": {
      "text/plain": [
       "640.0"
      ]
     },
     "execution_count": 55,
     "metadata": {},
     "output_type": "execute_result"
    }
   ],
   "source": [
    "arr.var(ddof=1)"
   ]
  },
  {
   "cell_type": "code",
   "execution_count": 62,
   "metadata": {},
   "outputs": [
    {
     "data": {
      "text/plain": [
       "2.1246458865679436"
      ]
     },
     "execution_count": 62,
     "metadata": {},
     "output_type": "execute_result"
    }
   ],
   "source": [
    "17-1.96*(arr.var()/len(arr))**0.5"
   ]
  },
  {
   "cell_type": "code",
   "execution_count": 119,
   "metadata": {},
   "outputs": [],
   "source": [
    "arr = np.array([70,70,85])\n",
    "arr_mean = arr.mean()\n",
    "arr_s2 = arr.var(ddof=1)"
   ]
  },
  {
   "cell_type": "code",
   "execution_count": 65,
   "metadata": {},
   "outputs": [],
   "source": [
    "from scipy import stats "
   ]
  },
  {
   "cell_type": "code",
   "execution_count": 91,
   "metadata": {},
   "outputs": [],
   "source": [
    "dist = stats.norm.rvs(loc = arr_mean, scale = arr_s2**0.5,size=1000)"
   ]
  },
  {
   "cell_type": "code",
   "execution_count": 136,
   "metadata": {},
   "outputs": [],
   "source": [
    "dist = stats.t.rvs(loc = arr_mean, scale = arr_s2**0.5,size=1000,df=2)"
   ]
  },
  {
   "cell_type": "code",
   "execution_count": 142,
   "metadata": {},
   "outputs": [
    {
     "name": "stdout",
     "output_type": "stream",
     "text": [
      "190.97634021544275\n",
      "36.92584860985678\n"
     ]
    }
   ],
   "source": [
    "dist = stats.t.rvs(loc = arr_mean, scale = arr_s2**0.5,size=1000,df=2)\n",
    "print(75+np.quantile(dist,0.975))\n",
    "print(75-np.quantile(dist,0.025))\n"
   ]
  },
  {
   "cell_type": "code",
   "execution_count": 112,
   "metadata": {},
   "outputs": [
    {
     "data": {
      "text/plain": [
       "0.026643485265604717"
      ]
     },
     "execution_count": 112,
     "metadata": {},
     "output_type": "execute_result"
    }
   ],
   "source": [
    "stats.t.cdf(39,loc=arr_mean,scale=arr_s2**0.5,df=2)"
   ]
  },
  {
   "cell_type": "code",
   "execution_count": 125,
   "metadata": {},
   "outputs": [
    {
     "data": {
      "text/plain": [
       "53.48673635044362"
      ]
     },
     "execution_count": 125,
     "metadata": {},
     "output_type": "execute_result"
    }
   ],
   "source": [
    "stats.t.ppf(0.025,loc=arr_mean,scale=(arr_s2/3)**0.5,df=2)"
   ]
  },
  {
   "cell_type": "code",
   "execution_count": null,
   "metadata": {},
   "outputs": [],
   "source": []
  }
 ],
 "metadata": {
  "interpreter": {
   "hash": "196156bc87d11f7989c6fb223eb7d3abde33c25c597628aa490c154023811b22"
  },
  "kernelspec": {
   "display_name": "Python 3.8.12 64-bit ('py4req': conda)",
   "name": "python3"
  },
  "language_info": {
   "codemirror_mode": {
    "name": "ipython",
    "version": 3
   },
   "file_extension": ".py",
   "mimetype": "text/x-python",
   "name": "python",
   "nbconvert_exporter": "python",
   "pygments_lexer": "ipython3",
   "version": "3.7.10"
  },
  "orig_nbformat": 4
 },
 "nbformat": 4,
 "nbformat_minor": 2
}
