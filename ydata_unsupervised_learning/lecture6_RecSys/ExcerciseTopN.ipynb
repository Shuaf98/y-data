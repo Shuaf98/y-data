{
 "cells": [
  {
   "cell_type": "markdown",
   "metadata": {
    "colab_type": "text",
    "id": "RDcN431I5zC0"
   },
   "source": [
    "# Item-Item Top-N Recommendations"
   ]
  },
  {
   "cell_type": "markdown",
   "metadata": {
    "colab_type": "text",
    "id": "MiDyphhp5zC6"
   },
   "source": [
    "In this excercise we will implement a simple top-N recommender, evaluate the algorithms, and then call algorithms from the Surprise package. In top-N recommendations the algorithm is requested to produce a list of N items that the user will be interested in. \n",
    "In this particular execercise we will work with an escape room dataset.\n",
    "\n",
    "First, let's load the dataset, which is already split by time into a training set and a test set:"
   ]
  },
  {
   "cell_type": "code",
   "execution_count": 1,
   "metadata": {
    "colab": {},
    "colab_type": "code",
    "collapsed": true,
    "id": "CN1l4x4S5zC-",
    "jupyter": {
     "outputs_hidden": true
    }
   },
   "outputs": [],
   "source": [
    "import numpy as np\n",
    "import pandas as pd\n",
    "\n",
    "train_set_path = 'resources//train_numerized_with_anon.csv'\n",
    "test_set_path = 'resources//test_numerized_with_anon.csv'\n",
    "\n",
    "train_set = pd.read_csv(train_set_path, parse_dates=[3], index_col='index')\n",
    "test_set = pd.read_csv(test_set_path, parse_dates=[3], index_col='index')\n",
    "\n",
    "users_in_train = train_set.userID.unique()\n",
    "test_set = test_set[test_set.userID.isin(users_in_train)]"
   ]
  },
  {
   "cell_type": "markdown",
   "metadata": {
    "colab_type": "text",
    "id": "Uou6h0U75zDP"
   },
   "source": [
    "We can take a look at the structure of the dataset:"
   ]
  },
  {
   "cell_type": "code",
   "execution_count": 2,
   "metadata": {
    "colab": {},
    "colab_type": "code",
    "id": "mD4Io9UA5zDT",
    "outputId": "8015e618-1b9b-4cc5-a37d-366d3d3e80bf"
   },
   "outputs": [
    {
     "data": {
      "text/html": [
       "<div>\n",
       "<style scoped>\n",
       "    .dataframe tbody tr th:only-of-type {\n",
       "        vertical-align: middle;\n",
       "    }\n",
       "\n",
       "    .dataframe tbody tr th {\n",
       "        vertical-align: top;\n",
       "    }\n",
       "\n",
       "    .dataframe thead th {\n",
       "        text-align: right;\n",
       "    }\n",
       "</style>\n",
       "<table border=\"1\" class=\"dataframe\">\n",
       "  <thead>\n",
       "    <tr style=\"text-align: right;\">\n",
       "      <th></th>\n",
       "      <th>userID</th>\n",
       "      <th>itemID</th>\n",
       "      <th>rating</th>\n",
       "      <th>timestamp</th>\n",
       "    </tr>\n",
       "    <tr>\n",
       "      <th>index</th>\n",
       "      <th></th>\n",
       "      <th></th>\n",
       "      <th></th>\n",
       "      <th></th>\n",
       "    </tr>\n",
       "  </thead>\n",
       "  <tbody>\n",
       "    <tr>\n",
       "      <th>0</th>\n",
       "      <td>0</td>\n",
       "      <td>0</td>\n",
       "      <td>10</td>\n",
       "      <td>11/11/2015</td>\n",
       "    </tr>\n",
       "    <tr>\n",
       "      <th>1</th>\n",
       "      <td>1</td>\n",
       "      <td>0</td>\n",
       "      <td>10</td>\n",
       "      <td>11/11/2015</td>\n",
       "    </tr>\n",
       "    <tr>\n",
       "      <th>2</th>\n",
       "      <td>2</td>\n",
       "      <td>0</td>\n",
       "      <td>8</td>\n",
       "      <td>11/11/2015</td>\n",
       "    </tr>\n",
       "    <tr>\n",
       "      <th>3</th>\n",
       "      <td>3</td>\n",
       "      <td>0</td>\n",
       "      <td>10</td>\n",
       "      <td>11/11/2015</td>\n",
       "    </tr>\n",
       "    <tr>\n",
       "      <th>4</th>\n",
       "      <td>4</td>\n",
       "      <td>0</td>\n",
       "      <td>10</td>\n",
       "      <td>11/11/2015</td>\n",
       "    </tr>\n",
       "  </tbody>\n",
       "</table>\n",
       "</div>"
      ],
      "text/plain": [
       "       userID  itemID rating   timestamp\n",
       "index                                   \n",
       "0           0       0     10  11/11/2015\n",
       "1           1       0     10  11/11/2015\n",
       "2           2       0      8  11/11/2015\n",
       "3           3       0     10  11/11/2015\n",
       "4           4       0     10  11/11/2015"
      ]
     },
     "execution_count": 2,
     "metadata": {},
     "output_type": "execute_result"
    }
   ],
   "source": [
    "train_set.head()"
   ]
  },
  {
   "cell_type": "markdown",
   "metadata": {
    "colab_type": "text",
    "id": "Aru51gpw5zDh"
   },
   "source": [
    "## Part 1: Recommend Most Popular Items (_max score - 20 points_)"
   ]
  },
  {
   "cell_type": "markdown",
   "metadata": {
    "colab_type": "text",
    "id": "A198sQHy5zDk"
   },
   "source": [
    "Now we can begin implementing the our first algorithm, that recommends to the user the list of most popular items. Although this is not a personalized approach, in many cases, this is not a bad idea - popular items are popular because everybody choose them, so there is a high likelihood that recommended popular items will be indeed chosen by the user.\n",
    "\n",
    "In the code below, fill in the missing parts. The algorithm has a training method, where item popularity is computed, and a recommendation method, where the list of popular items."
   ]
  },
  {
   "cell_type": "code",
   "execution_count": 3,
   "metadata": {
    "colab": {},
    "colab_type": "code",
    "collapsed": true,
    "id": "SnPMdrj05zDn",
    "jupyter": {
     "outputs_hidden": true
    }
   },
   "outputs": [],
   "source": [
    "class MostPopular:\n",
    "\n",
    "    def __init__(self):\n",
    "        self.item_ratings_sorted = None\n",
    "        self.train_set = None\n",
    "\n",
    "    def learn_model(self, train_set):\n",
    "        self.train_set = train_set\n",
    "        #1) Add code to set the item_ratings_sorted to the list of items in the training set, \n",
    "        #ordered by decreasing popularity (i.e., the number of users who have chosen an item)\n",
    "        counts = self.train_set.groupby('itemID').count()['userID']\n",
    "        self.counts = counts.sort_values(ascending= False)\n",
    "\n",
    "    def get_top_n_recommendations(self, test_set, top_n):\n",
    "        result = {}\n",
    "        already_ranked_items_by_user = self.train_set.groupby('userID')['itemID'].apply(list)\n",
    "        \n",
    "        \n",
    "        #For each user in the test set compute recommendations\n",
    "        for userID in test_set.userID.unique():\n",
    "            \n",
    "            top_movies = self.counts.sort_values(ascending= False).index\n",
    "            user_movies = already_ranked_items_by_user[userID]\n",
    "            users_top_movies_idx = list(set(top_movies) - set(user_movies))\n",
    "            users_top_movies = self.counts[users_top_movies_idx].sort_values(ascending = False).index #Use the filtered movie list, reorder by the popularity, and return the indexes.\n",
    "\n",
    "\n",
    "            result[str(userID)] = list(users_top_movies[:top_n]) #return the top_n movies for each user\n",
    "            \n",
    "            #2) Add to the result the top N items from the popular list\n",
    "            #3) Remove items that the user has already chosen in the training set (already_ranked_items_by_user)\n",
    "        return result\n",
    "\n",
    "    def clone(self):\n",
    "        pass\n"
   ]
  },
  {
   "cell_type": "markdown",
   "metadata": {
    "colab_type": "text",
    "id": "3ntFJWgb5zDu"
   },
   "source": [
    "Now we can call the most popular algorithm to deliver a list of reocmmendations. The code below prints the list of top 5 recommended items for user with ID 431."
   ]
  },
  {
   "cell_type": "code",
   "execution_count": 4,
   "metadata": {
    "colab": {},
    "colab_type": "code",
    "id": "YsnRl1VU5zDw",
    "outputId": "3b1587e7-312d-4050-a656-71ef429fa6b7"
   },
   "outputs": [
    {
     "name": "stdout",
     "output_type": "stream",
     "text": [
      "[53, 26, 68, 85, 16]\n"
     ]
    }
   ],
   "source": [
    "popular = MostPopular()\n",
    "popular.learn_model(train_set)\n",
    "popular_recs = popular.get_top_n_recommendations(test_set,top_n=5)\n",
    "print(popular_recs['431'])\n",
    "assert popular_recs['431'] == [53, 26, 68, 85, 16], 'Wrong computation of popular items'"
   ]
  },
  {
   "cell_type": "markdown",
   "metadata": {
    "colab_type": "text",
    "id": "RB9d0u8E5zD6"
   },
   "source": [
    "## Part 2 - Item-Item Recommendations (_max score - 30 points_)"
   ]
  },
  {
   "cell_type": "markdown",
   "metadata": {
    "colab_type": "text",
    "id": "my9Y885z5zD9"
   },
   "source": [
    "We now learn a slightly more sophisticated model, that uses item-item similarities. Given such a similarity score, we can recommend to a user items that are most similar to the items that the user has chosen in the past. One such useful similarity metric is the Jaccard coefficient. For two items i1 and i2, the Jaccard similarity is the number of users who have chosen both i1 and i2, divided by the number of users who have chosen either i1 or i2. That is, given the list of users who have chosen i1 and the list of users who have chosen i2, the Jaccard similarity is the intersection of the lists, divided by the union of the lists.\n",
    "\n",
    "In practice, to expedite the recommendation process, and hence reduce online latency, we will compute the item-item co-occurence matrix in the model learning phase. Then, online, when recommendations are requested, we only need to compute for each item that the user has already chosen in the past, the Jaccard scores for the other items.\n",
    "\n",
    "As the user has chosen several items in the past, we need to aggregate the Jaccard scores. That is, if the user has previously chosen i1 and i2, item i3 has two scores J(i1,i3) and J(i2,i3), and an aggregation of the scores is needed. There are two popular aggregation functions - sum and max. Empirically, max typically has better perfromance.\n",
    "\n",
    "Fill in the missing parts in the code below."
   ]
  },
  {
   "cell_type": "code",
   "execution_count": 8,
   "metadata": {
    "colab": {},
    "colab_type": "code",
    "collapsed": true,
    "id": "-CfCYaCR5zD-",
    "jupyter": {
     "outputs_hidden": true
    }
   },
   "outputs": [],
   "source": [
    "from tqdm import tqdm\n",
    "import numpy as np\n",
    "import operator\n",
    "import itertools\n",
    "class Jaccard:\n",
    "\n",
    "    def __init__(self):\n",
    "        self.item_ratings_sorted = None\n",
    "        self.train_set = None\n",
    "        self.item_item_counts = dict()\n",
    "        self.item_counts = None\n",
    "\n",
    "    def learn_model(self, train_set):\n",
    "        print('Started training')\n",
    "        self.train_set = train_set\n",
    "        self.item_counts =  self.train_set.groupby('itemID')['userID'].agg('count') #count of how many users watched each movie\n",
    "        \n",
    "        maxpair = 0\n",
    "        pbar = tqdm(total=len(train_set.userID.unique())) #progress bar\n",
    "        \n",
    "        #Iterating over all item pairs is inefficient. It is better to iterate only over pairs of items that were chosen together.\n",
    "        #Instead, we will iterate over the users, and for each user, and each two items that the user has chosen, increase the count\n",
    "        for u in train_set.userID.unique():\n",
    "            pbar.update(1)\n",
    "            userData = self.train_set[self.train_set.userID == u] #dataframe of all rankings per user\n",
    "            \n",
    "            #4) For each pair of items in the user data - increase the counts in self.item_item_counts\n",
    "            ordered_values =sorted(userData.itemID.values)\n",
    "            user_pairs = list(itertools.combinations(ordered_values, 2))\n",
    "            # user_pairs =set()\n",
    " \n",
    "            # # Make all possible pairs\n",
    "            # for i in userData.itemID.values:\n",
    "            #     for j in userData.itemID.values:\n",
    "            #         user_pairs.add(np.sort((i, j)))\n",
    "                    \n",
    "            for pair in user_pairs:\n",
    "                self.item_item_counts.setdefault(pair,0)\n",
    "                self.item_item_counts[pair] +=1\n",
    "            \n",
    "\n",
    "    def get_top_n_recommendations(self, test_set, top_n):\n",
    "        print('Started computing recommendations')\n",
    "        result = {}\n",
    "        already_ranked_items_by_users = self.train_set.groupby('userID')['itemID'].apply(list)\n",
    "        \n",
    "        pbar = tqdm(total=len(test_set.userID.unique()))\n",
    "        \n",
    "        #For each user in the test set compute recommendations\n",
    "        for userID in test_set.userID.unique():\n",
    "            pbar.update(1)\n",
    "            result[str(userID)] = []\n",
    "            #maxvalues will maintain for each potential item to recommend its highest Jaccard score.\n",
    "            maxvalues = dict()\n",
    "            \n",
    "            #4) Iterate over the items that the user has already chosen.\n",
    "            #For each such item compute its Jaccard correlation to other items based on the item_item_counts.\n",
    "            #Aggregate into maxvalues using max.\n",
    "            #Avoid recommending items that the user has already chosen in the training set.\n",
    "            for users_movie in already_ranked_items_by_users[userID]:\n",
    "                for pair in self.item_item_counts.keys():\n",
    "                    # if i in pair:\n",
    "                    #     movie_a = self.item_counts[pair[0]]\n",
    "                    #     movie_b = self.item_counts[pair[1]]\n",
    "\n",
    "                    #     intersection_count = self.item_item_counts[pair]\n",
    "\n",
    "                    #     score = intersection_count / (movie_a + movie_b)\n",
    "                    #     maxvalues[pair[0]] = score\n",
    "                    if users_movie in pair:\n",
    "                        \n",
    "                        if users_movie == pair[0]: #Movie b is the one we are getting the scores of, based on their relation to a.\n",
    "                                                 # Some values can either be the first element in the dict key, or the second element. We want to make sure\n",
    "                            movie_a = pair[0]    # to account for all keys that that the user's_movie are in.\n",
    "                            movie_b = pair[1]    #Meaning If we are finding 28: (28, 0) means that 0 is coorelated to 28. But we also \n",
    "                        else:                    # want to find where it is (1, 21), to account for 1 being coorelated to 21 as well.\n",
    "                            movie_a = pair[1]\n",
    "                            movie_b = pair[0]\n",
    "\n",
    "\n",
    "                        movie_a_count = self.item_counts[movie_a] #Total amount of times User_movie is are rated.\n",
    "                        movie_b_count = self.item_counts[movie_b] #Total amount of time the Jaccard movie is rated\n",
    "\n",
    "                        intersection_count = self.item_item_counts[pair]\n",
    "\n",
    "                        score = intersection_count / (movie_a_count + movie_b_count) #calculate jaccard\n",
    "                        # maxvalues.setdefault(movie_b, 0) #\n",
    "                        maxvalues[movie_b] = score #For each movie coorelated to User_Movie, return the jaccard score\n",
    "                \n",
    "            for watched in already_ranked_items_by_users[userID]: #Remove keys which have already been viewed by the user.\n",
    "                for key in maxvalues.keys():\n",
    "                    if watched == key:\n",
    "                        maxvalues[key] = 0 #We can just set the value to zero, since we are sorting the values later to filter anyways.\n",
    "            maxvalues = {key:value for key, value in maxvalues.items() if value !=0} #Remove all keys where the value is = to 0.\n",
    "\n",
    "            #Now we just take the top N items by decreasing Jaccard\n",
    "            top_list = sorted(maxvalues.items(), key=lambda kv : -kv[1])\n",
    "            i=0\n",
    "            j=0\n",
    "            while i < top_n and j < len(top_list):\n",
    "                itemID = top_list[j][0]\n",
    "                # print(itemID)\n",
    "                j = j + 1\n",
    "                result[str(userID)].append(itemID)\n",
    "                i = i + 1\n",
    "            \n",
    "        pbar.close()\n",
    "        print('Done computing recommendations')\n",
    "        return result\n",
    "\n",
    "    \n",
    "    def clone(self):\n",
    "        pass\n"
   ]
  },
  {
   "cell_type": "code",
   "execution_count": 9,
   "metadata": {},
   "outputs": [
    {
     "data": {
      "text/plain": [
       "{2: 5}"
      ]
     },
     "execution_count": 9,
     "metadata": {},
     "output_type": "execute_result"
    }
   ],
   "source": [
    "dic = {2:5, 3:0}\n",
    "\n",
    "b = {key:value for key, value in dic.items() if value !=0}\n",
    "b"
   ]
  },
  {
   "cell_type": "code",
   "execution_count": 10,
   "metadata": {},
   "outputs": [
    {
     "name": "stdout",
     "output_type": "stream",
     "text": [
      "Started training\n"
     ]
    },
    {
     "name": "stderr",
     "output_type": "stream",
     "text": [
      "100%|██████████| 20197/20197 [00:16<00:00, 1257.47it/s]\n"
     ]
    },
    {
     "name": "stdout",
     "output_type": "stream",
     "text": [
      "Started computing recommendations\n"
     ]
    },
    {
     "name": "stderr",
     "output_type": "stream",
     "text": [
      "100%|██████████| 227/227 [04:10<00:00,  1.10s/it]"
     ]
    },
    {
     "name": "stdout",
     "output_type": "stream",
     "text": [
      "Done computing recommendations\n"
     ]
    },
    {
     "name": "stderr",
     "output_type": "stream",
     "text": [
      "\n"
     ]
    }
   ],
   "source": [
    "jaccard = Jaccard()\n",
    "jaccard.learn_model(train_set)\n",
    "jaccard_recs = jaccard.get_top_n_recommendations(test_set,top_n=5)"
   ]
  },
  {
   "cell_type": "markdown",
   "metadata": {
    "colab_type": "raw",
    "id": "qa-ZrkOT5zEF"
   },
   "source": [
    "The code below trains a Jaccard model and generates recommendations. Training will take a while, as we need to iterate over all users, and for each user go over her items in quadratic time."
   ]
  },
  {
   "cell_type": "markdown",
   "metadata": {
    "colab_type": "text",
    "id": "1hhkOlW65zEP"
   },
   "source": [
    "As a side note - as computing the ite-item counts takes a while (especially with Python), we are using here the progress bar from the tqdm package (https://pypi.org/project/tqdm/). You need to install tqdm, or remove the progress bar, which would of course is not needed for the algorithm to run."
   ]
  },
  {
   "cell_type": "markdown",
   "metadata": {
    "colab_type": "text",
    "id": "pnxthAqj5zES"
   },
   "source": [
    "## Part 3 - Comparing the Algorithms (_max score - 30 points_)"
   ]
  },
  {
   "cell_type": "markdown",
   "metadata": {
    "colab_type": "text",
    "id": "bESNd1ce5zEW"
   },
   "source": [
    "We now want to compare the recommendation lists to see which one is better. In top-N recommendations it is popular to computer the Precision@N metric - the portion of recommended items that were chosen by users in the test set. This is typically a reasonable metric for real systems, where one wants to optimize the number of recommended items that are chosen.\n",
    "\n",
    "We compute Precision@N by comparing the number of recommendations chosen by the users, divided by the number of overall recommendations.\n",
    "\n",
    "Fill in the missing parts in the code below:"
   ]
  },
  {
   "cell_type": "code",
   "execution_count": 11,
   "metadata": {
    "colab": {},
    "colab_type": "code",
    "collapsed": true,
    "id": "PbfW_Hv25zEY",
    "jupyter": {
     "outputs_hidden": true
    }
   },
   "outputs": [],
   "source": [
    "def compute_precision(test_set, recommendations):\n",
    "    #hits is the number of items that were recommended and chosen\n",
    "    hits = 0\n",
    "    #recs is the total number of recommended items\n",
    "    recs = 0\n",
    "    \n",
    "    for u in test_set.userID.unique():\n",
    "        userData = test_set[test_set.userID == u]\n",
    "        userRecs = recommendations.get(str(u))\n",
    "        #5) Compute here the number of hits. Update hits and recs accordingly.\n",
    "        hits+= len(set(userData.itemID) & set(userRecs))\n",
    "        recs+= len(userRecs)\n",
    "    return hits / recs\n",
    "        \n",
    "    "
   ]
  },
  {
   "cell_type": "code",
   "execution_count": 12,
   "metadata": {
    "colab": {},
    "colab_type": "code",
    "id": "-AJvW67S5zEe",
    "outputId": "17e4b0ff-5e0b-49d9-de38-1cdd2101bf61"
   },
   "outputs": [
    {
     "name": "stdout",
     "output_type": "stream",
     "text": [
      "Jaccard= 0.04669603524229075   Popularity= 0.027312775330396475\n"
     ]
    }
   ],
   "source": [
    "p1 = compute_precision(test_set, jaccard_recs)\n",
    "p2 = compute_precision(test_set, popular_recs)\n",
    "print(\"Jaccard=\", p1, \"  Popularity=\", p2)"
   ]
  },
  {
   "cell_type": "markdown",
   "metadata": {
    "colab_type": "text",
    "id": "6SXmVklZ5zEm"
   },
   "source": [
    "The precision values for this dataset may seem pretty low, but this is typical for many top-N problems. It is important not to compute metrics that hide the true values, such as AUC, but to acknowledge the perfromance of the system in the application."
   ]
  },
  {
   "cell_type": "markdown",
   "metadata": {
    "colab_type": "text",
    "id": "j84r4jBp5zEp"
   },
   "source": [
    "## Part 4 - Calling Algorithms from the Surprise Package (_max score - 20 points_)"
   ]
  },
  {
   "cell_type": "markdown",
   "metadata": {
    "colab_type": "text",
    "id": "mXS50Vnj5zEs"
   },
   "source": [
    "There are many existing recommendation algorithms available. We will now see how we can call algorithms from the Surprise package. \n",
    "\n",
    "The code below adds a wrapper around the algorithm to transform the resulting recommendations into our desired format."
   ]
  },
  {
   "cell_type": "markdown",
   "metadata": {
    "colab_type": "text",
    "id": "i7vTBSmw5zEs"
   },
   "source": [
    "#### NOTE: \n",
    "To run the code below you first have to install _surprise_ (http://surpriselib.com/). _Surprise_ requires scipy >=1.0, so update if needed.\n",
    "\n",
    "To install: pip install scikit-surprise or, if you're using anaconda:  conda install -c conda-forge scikit-surprise).\n",
    "\n",
    "If you have a problem in installing the _surprise_ library locally, you can use Google Colab (but there can be an OOM problem with KNNBasic algorithm - in this case, just skip this algorithm)."
   ]
  },
  {
   "cell_type": "code",
   "execution_count": 13,
   "metadata": {
    "colab": {},
    "colab_type": "code",
    "collapsed": true,
    "id": "bnOWlz-m5zEv",
    "jupyter": {
     "outputs_hidden": true
    }
   },
   "outputs": [],
   "source": [
    "import sys, string, os\n",
    "import pandas as pd\n",
    "import itertools\n",
    "from tqdm import tqdm\n",
    "import numpy as np\n",
    "import operator\n",
    "from surprise import Reader\n",
    "from surprise import Dataset\n",
    "from surprise.model_selection import PredefinedKFold\n",
    "from surprise.prediction_algorithms import *\n",
    "\n",
    "\n",
    "\n",
    "class SurpriseRecMethod():\n",
    "\n",
    "    #method will be the specific Surprise algorithm that we will call\n",
    "    def __init__(self, method):\n",
    "        self.method = method\n",
    "\n",
    "    def fit(self, train_set):\n",
    "        self.train_set = train_set\n",
    "\n",
    "\n",
    "    def get_top_n_recommendations(self, test_set, top_n):\n",
    "        self.test_set = test_set\n",
    "\n",
    "        #Surprise requires a slightly different input data format, so we use two different CSVs\n",
    "        test_path_tmp = \"resources//test_file.csv\"\n",
    "        train_path_tmp = \"resources//train_file.csv\"\n",
    "\n",
    "        self.train_set.to_csv(train_path_tmp, index=False, header=False)\n",
    "        self.test_set.to_csv(test_path_tmp, index=False, header=False)\n",
    "\n",
    "        fold_files = [(train_path_tmp, test_path_tmp)]\n",
    "        reader = Reader(rating_scale=(1, 10), line_format='user item rating', sep=',')\n",
    "        data = Dataset.load_from_folds(fold_files, reader=reader)\n",
    "\n",
    "        for trainset, testset in PredefinedKFold().split(data):\n",
    "            self.method.fit(trainset)\n",
    "\n",
    "        already_ranked_items_by_users = self.train_set.groupby('userID')['itemID'].apply(list)\n",
    "\n",
    "        recommendations = {}\n",
    "        pbar = tqdm(total=len(self.test_set.userID.unique()))\n",
    "        for userID in self.test_set.userID.unique():\n",
    "            pbar.update(1)\n",
    "\n",
    "            if userID not in self.train_set.userID.unique():\n",
    "                recommendations[str(userID)] = []\n",
    "                continue\n",
    "\n",
    "            items_expected_ranking = {}\n",
    "            for itemID in self.train_set.itemID.unique():\n",
    "                if itemID in already_ranked_items_by_users[userID]:\n",
    "                    continue\n",
    "                #We call here the specific Surprise method that we use for this model\n",
    "                #The method predicts a score for a given item\n",
    "                predicted = self.method.predict(str(userID), str(itemID), clip=False)\n",
    "                items_expected_ranking[itemID] = predicted[3]\n",
    "                \n",
    "            #Now we just sort by decreasing scores and take the top N\n",
    "            sorted_predictions = sorted(items_expected_ranking.items(), key=operator.itemgetter(1))\n",
    "            sorted_predictions.reverse()\n",
    "            sorted_predictions = [x[0] for x in sorted_predictions]\n",
    "            user_recommendations = sorted_predictions[:top_n]\n",
    "            recommendations[str(userID)] = user_recommendations\n",
    "        pbar.close()\n",
    "        return recommendations\n"
   ]
  },
  {
   "cell_type": "markdown",
   "metadata": {
    "colab_type": "text",
    "id": "3YIHU4ZL5zE5"
   },
   "source": [
    "The code below calls the package with the SlopeOne algorithm."
   ]
  },
  {
   "cell_type": "code",
   "execution_count": 14,
   "metadata": {
    "colab": {},
    "colab_type": "code",
    "id": "vsXXqfoD5zE6",
    "outputId": "6ddbe18f-7994-4c6f-828b-4ee51ee0e9e8"
   },
   "outputs": [
    {
     "name": "stderr",
     "output_type": "stream",
     "text": [
      "C:\\Users\\sfrie\\anaconda3\\envs\\py4dp\\lib\\site-packages\\ipykernel_launcher.py:39: DeprecationWarning: `np.int` is a deprecated alias for the builtin `int`. To silence this warning, use `int` by itself. Doing this will not modify any behavior and is safe. When replacing `np.int`, you may wish to use e.g. `np.int64` or `np.int32` to specify the precision. If you wish to review your current use, check the release note link for additional information.\n",
      "Deprecated in NumPy 1.20; for more details and guidance: https://numpy.org/devdocs/release/1.20.0-notes.html#deprecations\n",
      "100%|██████████| 227/227 [00:03<00:00, 61.64it/s]\n"
     ]
    }
   ],
   "source": [
    "modelSlopeOne = SurpriseRecMethod(SlopeOne())\n",
    "modelSlopeOne.fit(train_set)\n",
    "recSlopeOne = modelSlopeOne.get_top_n_recommendations(test_set, 5)\n",
    "p3 = compute_precision(test_set,recSlopeOne)"
   ]
  },
  {
   "cell_type": "markdown",
   "metadata": {
    "colab_type": "text",
    "id": "-4UeYiqg5zFE"
   },
   "source": [
    "The code below calls the package with a nearest neighbor user-item recommendation method."
   ]
  },
  {
   "cell_type": "code",
   "execution_count": 15,
   "metadata": {
    "colab": {},
    "colab_type": "code",
    "collapsed": true,
    "id": "up4c0wqr5zFH",
    "jupyter": {
     "outputs_hidden": true
    }
   },
   "outputs": [
    {
     "name": "stdout",
     "output_type": "stream",
     "text": [
      "Computing the cosine similarity matrix...\n",
      "Done computing similarity matrix.\n"
     ]
    },
    {
     "name": "stderr",
     "output_type": "stream",
     "text": [
      "100%|██████████| 227/227 [00:12<00:00, 18.68it/s]\n"
     ]
    }
   ],
   "source": [
    "modelKNNUser = SurpriseRecMethod(KNNBasic(sim_options={'name': 'cosine', 'user_based': True}))\n",
    "modelKNNUser.fit(train_set)\n",
    "recKNNUser = modelKNNUser.get_top_n_recommendations(test_set, 5)\n",
    "p4 = compute_precision(test_set,recKNNUser)"
   ]
  },
  {
   "cell_type": "markdown",
   "metadata": {
    "colab_type": "text",
    "id": "e-FDg7Sk5zFP"
   },
   "source": [
    "Let us look at the results of all algorithms together:"
   ]
  },
  {
   "cell_type": "code",
   "execution_count": 16,
   "metadata": {
    "colab": {},
    "colab_type": "code",
    "collapsed": true,
    "id": "MOrBFXVN5zFR",
    "jupyter": {
     "outputs_hidden": true
    }
   },
   "outputs": [
    {
     "data": {
      "text/html": [
       "<div>\n",
       "<style scoped>\n",
       "    .dataframe tbody tr th:only-of-type {\n",
       "        vertical-align: middle;\n",
       "    }\n",
       "\n",
       "    .dataframe tbody tr th {\n",
       "        vertical-align: top;\n",
       "    }\n",
       "\n",
       "    .dataframe thead th {\n",
       "        text-align: right;\n",
       "    }\n",
       "</style>\n",
       "<table border=\"1\" class=\"dataframe\">\n",
       "  <thead>\n",
       "    <tr style=\"text-align: right;\">\n",
       "      <th></th>\n",
       "      <th>Precision</th>\n",
       "    </tr>\n",
       "  </thead>\n",
       "  <tbody>\n",
       "    <tr>\n",
       "      <th>Jaccard</th>\n",
       "      <td>0.046696</td>\n",
       "    </tr>\n",
       "    <tr>\n",
       "      <th>Popularity</th>\n",
       "      <td>0.027313</td>\n",
       "    </tr>\n",
       "    <tr>\n",
       "      <th>SlopeOne</th>\n",
       "      <td>0.032599</td>\n",
       "    </tr>\n",
       "    <tr>\n",
       "      <th>User KNN</th>\n",
       "      <td>0.075771</td>\n",
       "    </tr>\n",
       "  </tbody>\n",
       "</table>\n",
       "</div>"
      ],
      "text/plain": [
       "            Precision\n",
       "Jaccard      0.046696\n",
       "Popularity   0.027313\n",
       "SlopeOne     0.032599\n",
       "User KNN     0.075771"
      ]
     },
     "execution_count": 16,
     "metadata": {},
     "output_type": "execute_result"
    }
   ],
   "source": [
    "pd.DataFrame.from_dict({'Jaccard':p1,'Popularity':p2,'SlopeOne':p3,'User KNN':p4}, orient='index',columns=['Precision'])"
   ]
  },
  {
   "cell_type": "markdown",
   "metadata": {
    "colab_type": "text",
    "id": "y9-JSGCE5zFY"
   },
   "source": [
    "Try the NMF (non-negative matrix factorization) algorithms from the package - https://surprise.readthedocs.io/en/stable/matrix_factorization.html#surprise.prediction_algorithms.matrix_factorization.NMF.\n"
   ]
  },
  {
   "cell_type": "code",
   "execution_count": 17,
   "metadata": {
    "colab": {},
    "colab_type": "code",
    "collapsed": true,
    "id": "IfHe-_iB5zFZ",
    "jupyter": {
     "outputs_hidden": true
    }
   },
   "outputs": [
    {
     "name": "stderr",
     "output_type": "stream",
     "text": [
      "100%|██████████| 227/227 [00:01<00:00, 115.20it/s]\n"
     ]
    },
    {
     "data": {
      "text/plain": [
       "0.03259911894273128"
      ]
     },
     "execution_count": 17,
     "metadata": {},
     "output_type": "execute_result"
    }
   ],
   "source": [
    "#Your code here\n",
    "modelKNNUser = SurpriseRecMethod(NMF())\n",
    "modelKNNUser.fit(train_set)\n",
    "recKNNUser = modelKNNUser.get_top_n_recommendations(test_set, 5)\n",
    "p5 = compute_precision(test_set,recKNNUser)\n",
    "p5"
   ]
  },
  {
   "cell_type": "markdown",
   "metadata": {
    "colab_type": "text",
    "id": "wPSTAFb15zFf"
   },
   "source": [
    "For this particular dataset, the user nearest neighbor approach worked best. Hence, should we need to choose a method to put online, we should go with this method."
   ]
  }
 ],
 "metadata": {
  "colab": {
   "name": "ExcerciseTopN.ipynb",
   "provenance": [],
   "version": "0.3.2"
  },
  "kernelspec": {
   "display_name": "Python 3",
   "language": "python",
   "name": "python3"
  },
  "language_info": {
   "codemirror_mode": {
    "name": "ipython",
    "version": 3
   },
   "file_extension": ".py",
   "mimetype": "text/x-python",
   "name": "python",
   "nbconvert_exporter": "python",
   "pygments_lexer": "ipython3",
   "version": "3.7.11"
  }
 },
 "nbformat": 4,
 "nbformat_minor": 4
}
