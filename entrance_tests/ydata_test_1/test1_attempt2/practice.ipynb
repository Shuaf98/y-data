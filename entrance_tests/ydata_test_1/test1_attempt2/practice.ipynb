{
 "cells": [
  {
   "cell_type": "code",
   "execution_count": 9,
   "source": [
    "#Upload article file, and delete the stop words.\r\n",
    "article = open(r'C:\\Users\\sfrie\\Ydata\\ydata_test_1\\test1_attempt1\\E1_Sample_Test1.txt')\r\n",
    "old_text = article\r\n",
    "\r\n",
    "stop_words = ['a', 'the', 'of', 'at', 'in', 'and', 'to']\r\n",
    "\r\n",
    "old_text = old_text.read().split()\r\n",
    "\r\n",
    "new_text = []\r\n",
    "for x in old_text:\r\n",
    "    if x not in stop_words:\r\n",
    "        new_text.append(x)\r\n",
    "\r\n"
   ],
   "outputs": [
    {
     "output_type": "stream",
     "name": "stdout",
     "text": [
      "Help on method_descriptor:\n",
      "\n",
      "values(...)\n",
      "    D.values() -> an object providing a view on D's values\n",
      "\n"
     ]
    }
   ],
   "metadata": {}
  }
 ],
 "metadata": {
  "orig_nbformat": 4,
  "language_info": {
   "name": "python"
  }
 },
 "nbformat": 4,
 "nbformat_minor": 2
}