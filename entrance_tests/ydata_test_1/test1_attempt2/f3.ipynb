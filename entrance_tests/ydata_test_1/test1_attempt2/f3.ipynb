{
 "metadata": {
  "language_info": {
   "codemirror_mode": {
    "name": "ipython",
    "version": 3
   },
   "file_extension": ".py",
   "mimetype": "text/x-python",
   "name": "python",
   "nbconvert_exporter": "python",
   "pygments_lexer": "ipython3",
   "version": "3.9.1"
  },
  "orig_nbformat": 2,
  "kernelspec": {
   "name": "python391jvsc74a57bd09b8ab61c9e77274f2d446992832627a1a97087245ff5de8b0d11c3c770be55a5",
   "display_name": "Python 3.9.1 64-bit"
  }
 },
 "nbformat": 4,
 "nbformat_minor": 2,
 "cells": [
  {
   "cell_type": "code",
   "execution_count": 16,
   "metadata": {},
   "outputs": [],
   "source": [
    "import pandas as pd\n",
    "import numpy as np"
   ]
  },
  {
   "cell_type": "code",
   "execution_count": 17,
   "metadata": {
    "tags": []
   },
   "outputs": [],
   "source": [
    "input = open('input_f3.txt').readlines()\n",
    "input = [x.split() for x in input]\n",
    "input.pop(0)\n",
    "\n",
    "\n",
    "# %%\n",
    "df = pd.read_csv('titanic_new.csv')\n",
    "df.head()\n",
    "\n",
    "\n",
    "# %%\n",
    "def similarity(id1, id2):  \n",
    "    result = 0\n",
    "    passenger_a = all_rows[id1-1]\n",
    "    passenger_b = all_rows[id2-1]  \n",
    "    if passenger_a[2] == passenger_b[2]:  \n",
    "        result += 1  \n",
    "    if passenger_a[4] == passenger_b[4]:  \n",
    "        result += 3  \n",
    "    if passenger_a[6] == passenger_b[6]:  \n",
    "        result += 1  \n",
    "    if passenger_a[7] == passenger_b[7]:  \n",
    "        result += 1  \n",
    "    result += max(0, 2 - abs(float(passenger_a[5]) - float(passenger_b[5])) / 10.0)  \n",
    "    result += max(0, 2 - abs(float(passenger_a[8]) - float(passenger_b[8])) / 5.0)  \n",
    "    return result / 10.0\n",
    "    "
   ]
  },
  {
   "cell_type": "code",
   "execution_count": 18,
   "metadata": {},
   "outputs": [],
   "source": [
    "#Make list of lists of each row, to iterate over (to find id2).\n",
    "all_rows = []\n",
    "for x in df.index:\n",
    "   all_rows.append(list(df.iloc[x]))\n"
   ]
  },
  {
   "cell_type": "code",
   "execution_count": 19,
   "metadata": {},
   "outputs": [
    {
     "output_type": "stream",
     "name": "stdout",
     "text": [
      "665\n383\n295\n"
     ]
    }
   ],
   "source": [
    "for x in input:\n",
    "    id1 = int(x[0])\n",
    "    best_score = 0\n",
    "    score_id = 0\n",
    "    for row in all_rows:\n",
    "        id2 = row[0]\n",
    "        if id1 != id2:\n",
    "            score = round(similarity(id1, id2), 2)\n",
    "            if score > best_score:\n",
    "                best_score = score\n",
    "                score_id = id2\n",
    "    print(score_id)"
   ]
  },
  {
   "cell_type": "code",
   "execution_count": null,
   "metadata": {},
   "outputs": [],
   "source": []
  }
 ]
}