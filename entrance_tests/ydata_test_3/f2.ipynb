{
 "cells": [
  {
   "cell_type": "code",
   "execution_count": 65,
   "source": [
    "import pandas as pd\r\n",
    "import math\r\n",
    "id = open('input.txt').read().strip('\\n')\r\n",
    "id = int(id)"
   ],
   "outputs": [],
   "metadata": {}
  },
  {
   "cell_type": "code",
   "execution_count": 66,
   "source": [
    "users_data = pd.read_csv('users_data.csv')\r\n",
    "calls_data = pd.read_csv('calls_data.csv')\r\n",
    "msg_data = pd.read_csv('msg_data.csv')\r\n",
    "web_data = pd.read_csv('web_data.csv')"
   ],
   "outputs": [],
   "metadata": {}
  },
  {
   "cell_type": "code",
   "execution_count": 67,
   "source": [
    "\r\n",
    "users_data = pd.read_csv('users_data.csv')\r\n",
    "calls_data = pd.read_csv('calls_data.csv')\r\n",
    "msg_data = pd.read_csv('msg_data.csv')\r\n",
    "web_data = pd.read_csv('web_data.csv')\r\n",
    "\r\n",
    "plan_type = users_data[users_data['user_id'] == id].plan.item()\r\n",
    "\r\n",
    "calls_data['duration'] = calls_data['duration'].apply(math.ceil)\r\n",
    "calls_data = calls_data[(calls_data['user_id'] == id) & (calls_data['month'] == 12)]\r\n",
    "calls = calls_data['duration'].sum()\r\n",
    "\r\n",
    "msg = len(msg_data[(msg_data['user_id'] == id) & (msg_data['month'] == 12)])\r\n",
    "\r\n",
    "web_data = web_data[(web_data['user_id'] == id) & (web_data['month'] == 12)]\r\n",
    "web = math.ceil(web_data['gb_used'].sum())\r\n",
    "\r\n",
    "\r\n",
    "\r\n"
   ],
   "outputs": [],
   "metadata": {}
  },
  {
   "cell_type": "code",
   "execution_count": 68,
   "source": [
    "print(web)"
   ],
   "outputs": [
    {
     "output_type": "stream",
     "name": "stdout",
     "text": [
      "19\n"
     ]
    }
   ],
   "metadata": {}
  },
  {
   "cell_type": "code",
   "execution_count": 73,
   "source": [
    "if plan_type == 'surf':\r\n",
    "    base = 20\r\n",
    "    if calls >500:\r\n",
    "        call = (calls- 500) *0.03\r\n",
    "    else:\r\n",
    "        calls = 0\r\n",
    "    if msg > 50:\r\n",
    "        msg = (msg - 50)* 0.03\r\n",
    "    else:\r\n",
    "        msg = 0\r\n",
    "    if web >15:\r\n",
    "        web = (web - 15)*10\r\n",
    "    else:\r\n",
    "        web = 0\r\n",
    "if plan_type == 'ultimate':\r\n",
    "    base = 70\r\n",
    "    if calls > 3000:\r\n",
    "        call = (calls- 3000) *0.01\r\n",
    "    else:\r\n",
    "        calls = 0\r\n",
    "    if msg > 1000:\r\n",
    "        msg = (msg - 1000)* 0.01\r\n",
    "    else:\r\n",
    "        msg = 0\r\n",
    "    if web >30:\r\n",
    "        (web - 30)*7\r\n",
    "    else:\r\n",
    "        web = 0\r\n",
    "total = base + calls + msg + web\r\n",
    "total\r\n",
    "    "
   ],
   "outputs": [
    {
     "output_type": "execute_result",
     "data": {
      "text/plain": [
       "60"
      ]
     },
     "metadata": {},
     "execution_count": 73
    }
   ],
   "metadata": {}
  },
  {
   "cell_type": "code",
   "execution_count": 72,
   "source": [
    "(web-15)*10"
   ],
   "outputs": [
    {
     "output_type": "execute_result",
     "data": {
      "text/plain": [
       "40"
      ]
     },
     "metadata": {},
     "execution_count": 72
    }
   ],
   "metadata": {}
  },
  {
   "cell_type": "code",
   "execution_count": 58,
   "source": [
    "calls"
   ],
   "outputs": [
    {
     "output_type": "execute_result",
     "data": {
      "text/plain": [
       "0"
      ]
     },
     "metadata": {},
     "execution_count": 58
    }
   ],
   "metadata": {}
  }
 ],
 "metadata": {
  "orig_nbformat": 4,
  "language_info": {
   "name": "python",
   "version": "3.9.1",
   "mimetype": "text/x-python",
   "codemirror_mode": {
    "name": "ipython",
    "version": 3
   },
   "pygments_lexer": "ipython3",
   "nbconvert_exporter": "python",
   "file_extension": ".py"
  },
  "kernelspec": {
   "name": "python3",
   "display_name": "Python 3.9.1 64-bit"
  },
  "interpreter": {
   "hash": "9b8ab61c9e77274f2d446992832627a1a97087245ff5de8b0d11c3c770be55a5"
  }
 },
 "nbformat": 4,
 "nbformat_minor": 2
}