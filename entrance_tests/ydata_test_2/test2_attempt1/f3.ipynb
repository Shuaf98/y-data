{
 "metadata": {
  "language_info": {
   "codemirror_mode": {
    "name": "ipython",
    "version": 3
   },
   "file_extension": ".py",
   "mimetype": "text/x-python",
   "name": "python",
   "nbconvert_exporter": "python",
   "pygments_lexer": "ipython3",
   "version": "3.9.1"
  },
  "orig_nbformat": 2,
  "kernelspec": {
   "name": "python391jvsc74a57bd09b8ab61c9e77274f2d446992832627a1a97087245ff5de8b0d11c3c770be55a5",
   "display_name": "Python 3.9.1 64-bit"
  }
 },
 "nbformat": 4,
 "nbformat_minor": 2,
 "cells": [
  {
   "cell_type": "code",
   "execution_count": 4,
   "metadata": {},
   "outputs": [],
   "source": [
    "import pandas as pd\n",
    "import numpy as np\n",
    "os.chdir(r\"C:\\Users\\sfrie\\Ydata_practice\\Test_2\")\n"
   ]
  },
  {
   "cell_type": "code",
   "execution_count": 5,
   "metadata": {},
   "outputs": [],
   "source": [
    "df= pd.read_csv('F1_schools_done.csv')\n",
    "\n",
    " #[int(x.strip('%')) for x in df['Average Proficiency Score']]\n",
    "df['Average Proficiency Score'] = df['Average Proficiency Score'].str.replace('%', '').apply(pd.to_numeric)\n",
    "df['Average Proficiency Score']\n",
    "input = open('f3_input.txt').read().split()\n",
    "input = list(map(int, input))\n"
   ]
  },
  {
   "cell_type": "code",
   "execution_count": 6,
   "metadata": {},
   "outputs": [
    {
     "output_type": "execute_result",
     "data": {
      "text/plain": [
       "Empty DataFrame\n",
       "Columns: [School Index, District, Lowest Year, Highest Year, School Income Estimate, Average Proficiency Score, Student Attendance Rate, Students Chronically Absent, Rigorous Instruction, Year 3 - All Students Tested, Year 4 - All Students Tested, Year 5 - All Students Tested, Year 6 - All Students Tested, Year 3 - Top Scoring, Year 4 - Top Scoring, Year 5 - Top Scoring, Year 6 - Top Scoring, Student Achievement Rating]\n",
       "Index: []"
      ],
      "text/html": "<div>\n<style scoped>\n    .dataframe tbody tr th:only-of-type {\n        vertical-align: middle;\n    }\n\n    .dataframe tbody tr th {\n        vertical-align: top;\n    }\n\n    .dataframe thead th {\n        text-align: right;\n    }\n</style>\n<table border=\"1\" class=\"dataframe\">\n  <thead>\n    <tr style=\"text-align: right;\">\n      <th></th>\n      <th>School Index</th>\n      <th>District</th>\n      <th>Lowest Year</th>\n      <th>Highest Year</th>\n      <th>School Income Estimate</th>\n      <th>Average Proficiency Score</th>\n      <th>Student Attendance Rate</th>\n      <th>Students Chronically Absent</th>\n      <th>Rigorous Instruction</th>\n      <th>Year 3 - All Students Tested</th>\n      <th>Year 4 - All Students Tested</th>\n      <th>Year 5 - All Students Tested</th>\n      <th>Year 6 - All Students Tested</th>\n      <th>Year 3 - Top Scoring</th>\n      <th>Year 4 - Top Scoring</th>\n      <th>Year 5 - Top Scoring</th>\n      <th>Year 6 - Top Scoring</th>\n      <th>Student Achievement Rating</th>\n    </tr>\n  </thead>\n  <tbody>\n  </tbody>\n</table>\n</div>"
     },
     "metadata": {},
     "execution_count": 6
    }
   ],
   "source": [
    "df = df[(df['District'] == input[0]) & (df['Average Proficiency Score'] >= input[1]) & (df['Average Proficiency Score'] <= input[2])]\n",
    "df.head()\n"
   ]
  },
  {
   "cell_type": "code",
   "execution_count": 7,
   "metadata": {},
   "outputs": [
    {
     "output_type": "stream",
     "name": "stdout",
     "text": [
      "0\n"
     ]
    }
   ],
   "source": [
    "if np.isnan(round(df['Student Achievement Rating'].mean(), 2)):\n",
    "    print(0)\n",
    "else:\n",
    "    print(round(df['Student Achievement Rating'].mean(), 2))\n",
    "    "
   ]
  },
  {
   "cell_type": "code",
   "execution_count": 91,
   "metadata": {},
   "outputs": [
    {
     "output_type": "execute_result",
     "data": {
      "text/plain": [
       "dtype('int64')"
      ]
     },
     "metadata": {},
     "execution_count": 91
    }
   ],
   "source": []
  },
  {
   "cell_type": "code",
   "execution_count": 8,
   "metadata": {},
   "outputs": [
    {
     "output_type": "execute_result",
     "data": {
      "text/plain": [
       "Empty DataFrame\n",
       "Columns: [School Index, District, Lowest Year, Highest Year, School Income Estimate, Average Proficiency Score, Student Attendance Rate, Students Chronically Absent, Rigorous Instruction, Year 3 - All Students Tested, Year 4 - All Students Tested, Year 5 - All Students Tested, Year 6 - All Students Tested, Year 3 - Top Scoring, Year 4 - Top Scoring, Year 5 - Top Scoring, Year 6 - Top Scoring, Student Achievement Rating]\n",
       "Index: []"
      ],
      "text/html": "<div>\n<style scoped>\n    .dataframe tbody tr th:only-of-type {\n        vertical-align: middle;\n    }\n\n    .dataframe tbody tr th {\n        vertical-align: top;\n    }\n\n    .dataframe thead th {\n        text-align: right;\n    }\n</style>\n<table border=\"1\" class=\"dataframe\">\n  <thead>\n    <tr style=\"text-align: right;\">\n      <th></th>\n      <th>School Index</th>\n      <th>District</th>\n      <th>Lowest Year</th>\n      <th>Highest Year</th>\n      <th>School Income Estimate</th>\n      <th>Average Proficiency Score</th>\n      <th>Student Attendance Rate</th>\n      <th>Students Chronically Absent</th>\n      <th>Rigorous Instruction</th>\n      <th>Year 3 - All Students Tested</th>\n      <th>Year 4 - All Students Tested</th>\n      <th>Year 5 - All Students Tested</th>\n      <th>Year 6 - All Students Tested</th>\n      <th>Year 3 - Top Scoring</th>\n      <th>Year 4 - Top Scoring</th>\n      <th>Year 5 - Top Scoring</th>\n      <th>Year 6 - Top Scoring</th>\n      <th>Student Achievement Rating</th>\n    </tr>\n  </thead>\n  <tbody>\n  </tbody>\n</table>\n</div>"
     },
     "metadata": {},
     "execution_count": 8
    }
   ],
   "source": [
    "df"
   ]
  }
 ]
}