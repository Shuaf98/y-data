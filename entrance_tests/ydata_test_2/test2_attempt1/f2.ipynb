{
 "metadata": {
  "language_info": {
   "codemirror_mode": {
    "name": "ipython",
    "version": 3
   },
   "file_extension": ".py",
   "mimetype": "text/x-python",
   "name": "python",
   "nbconvert_exporter": "python",
   "pygments_lexer": "ipython3",
   "version": "3.9.1"
  },
  "orig_nbformat": 2,
  "kernelspec": {
   "name": "python391jvsc74a57bd09b8ab61c9e77274f2d446992832627a1a97087245ff5de8b0d11c3c770be55a5",
   "display_name": "Python 3.9.1 64-bit"
  }
 },
 "nbformat": 4,
 "nbformat_minor": 2,
 "cells": [
  {
   "cell_type": "code",
   "execution_count": 65,
   "metadata": {},
   "outputs": [
    {
     "output_type": "execute_result",
     "data": {
      "text/plain": [
       "   School Index  District Lowest Year Highest Year School Income Estimate  \\\n",
       "0        310001         5           6            8                    NaN   \n",
       "1        310002         2          PK            5            $26,114.78    \n",
       "2        310003         2          PK            5           $103,399.19    \n",
       "\n",
       "   Average Proficiency Score  Student Attendance Rate  \\\n",
       "0                       0.65                     0.94   \n",
       "1                       0.69                     0.98   \n",
       "2                       0.77                     0.95   \n",
       "\n",
       "   Students Chronically Absent  Rigorous Instruction  \\\n",
       "0                         0.19                  0.97   \n",
       "1                         0.06                  0.93   \n",
       "2                         0.13                  0.97   \n",
       "\n",
       "   Year 3 - All Students Tested  Year 4 - All Students Tested  \\\n",
       "0                           0.0                           0.0   \n",
       "1                         125.0                         106.0   \n",
       "2                         105.0                         142.0   \n",
       "\n",
       "   Year 5 - All Students Tested  Year 6 - All Students Tested  \\\n",
       "0                           0.0                         104.0   \n",
       "1                         104.0                           0.0   \n",
       "2                          61.0                           0.0   \n",
       "\n",
       "   Year 3 - Top Scoring  Year 4 - Top Scoring  Year 5 - Top Scoring  \\\n",
       "0                   0.0                   0.0                   0.0   \n",
       "1                   8.0                  13.0                  11.0   \n",
       "2                   9.0                  44.0                  18.0   \n",
       "\n",
       "   Year 6 - Top Scoring  Student Achievement Rating  \n",
       "0                   8.0                         1.0  \n",
       "1                   0.0                         0.8  \n",
       "2                   0.0                         0.8  "
      ],
      "text/html": "<div>\n<style scoped>\n    .dataframe tbody tr th:only-of-type {\n        vertical-align: middle;\n    }\n\n    .dataframe tbody tr th {\n        vertical-align: top;\n    }\n\n    .dataframe thead th {\n        text-align: right;\n    }\n</style>\n<table border=\"1\" class=\"dataframe\">\n  <thead>\n    <tr style=\"text-align: right;\">\n      <th></th>\n      <th>School Index</th>\n      <th>District</th>\n      <th>Lowest Year</th>\n      <th>Highest Year</th>\n      <th>School Income Estimate</th>\n      <th>Average Proficiency Score</th>\n      <th>Student Attendance Rate</th>\n      <th>Students Chronically Absent</th>\n      <th>Rigorous Instruction</th>\n      <th>Year 3 - All Students Tested</th>\n      <th>Year 4 - All Students Tested</th>\n      <th>Year 5 - All Students Tested</th>\n      <th>Year 6 - All Students Tested</th>\n      <th>Year 3 - Top Scoring</th>\n      <th>Year 4 - Top Scoring</th>\n      <th>Year 5 - Top Scoring</th>\n      <th>Year 6 - Top Scoring</th>\n      <th>Student Achievement Rating</th>\n    </tr>\n  </thead>\n  <tbody>\n    <tr>\n      <th>0</th>\n      <td>310001</td>\n      <td>5</td>\n      <td>6</td>\n      <td>8</td>\n      <td>NaN</td>\n      <td>0.65</td>\n      <td>0.94</td>\n      <td>0.19</td>\n      <td>0.97</td>\n      <td>0.0</td>\n      <td>0.0</td>\n      <td>0.0</td>\n      <td>104.0</td>\n      <td>0.0</td>\n      <td>0.0</td>\n      <td>0.0</td>\n      <td>8.0</td>\n      <td>1.0</td>\n    </tr>\n    <tr>\n      <th>1</th>\n      <td>310002</td>\n      <td>2</td>\n      <td>PK</td>\n      <td>5</td>\n      <td>$26,114.78</td>\n      <td>0.69</td>\n      <td>0.98</td>\n      <td>0.06</td>\n      <td>0.93</td>\n      <td>125.0</td>\n      <td>106.0</td>\n      <td>104.0</td>\n      <td>0.0</td>\n      <td>8.0</td>\n      <td>13.0</td>\n      <td>11.0</td>\n      <td>0.0</td>\n      <td>0.8</td>\n    </tr>\n    <tr>\n      <th>2</th>\n      <td>310003</td>\n      <td>2</td>\n      <td>PK</td>\n      <td>5</td>\n      <td>$103,399.19</td>\n      <td>0.77</td>\n      <td>0.95</td>\n      <td>0.13</td>\n      <td>0.97</td>\n      <td>105.0</td>\n      <td>142.0</td>\n      <td>61.0</td>\n      <td>0.0</td>\n      <td>9.0</td>\n      <td>44.0</td>\n      <td>18.0</td>\n      <td>0.0</td>\n      <td>0.8</td>\n    </tr>\n  </tbody>\n</table>\n</div>"
     },
     "metadata": {},
     "execution_count": 65
    }
   ],
   "source": [
    "import pandas as pd\n",
    "import numpy as np\n",
    "df = pd.read_csv(r\"C:\\Users\\sfrie\\Ydata_practice\\Test_2\\output.csv\")\n",
    "df.head(3)"
   ]
  },
  {
   "cell_type": "code",
   "execution_count": 86,
   "metadata": {},
   "outputs": [
    {
     "output_type": "execute_result",
     "data": {
      "text/plain": [
       "3   NaN\n",
       "4   NaN\n",
       "5   NaN\n",
       "6   NaN\n",
       "Name: 310292, dtype: float64"
      ]
     },
     "metadata": {},
     "execution_count": 86
    }
   ],
   "source": [
    "ratio3 = df['Year 3 - Top Scoring']/ df['Year 3 - All Students Tested']\n",
    "ratio4 = df['Year 4 - Top Scoring'] / df['Year 4 - All Students Tested']\n",
    "ratio5 = df['Year 5 - Top Scoring'] / df['Year 5 - All Students Tested']\n",
    "ratio6 = df['Year 6 - Top Scoring'] / df['Year 6 - All Students Tested']\n",
    "\n",
    "df2 = pd.concat([ratio3, ratio4, ratio5, ratio6], axis =1).set_index(df['School Index'])\n",
    "df2.columns = ['3', '4', '5', '6']\n",
    "\n",
    "df2.loc[310292]"
   ]
  },
  {
   "cell_type": "code",
   "execution_count": 92,
   "metadata": {},
   "outputs": [
    {
     "output_type": "stream",
     "name": "stdout",
     "text": [
      "0\n"
     ]
    }
   ],
   "source": [
    "n = int(open(r\"C:\\Users\\sfrie\\Ydata_practice\\f2_input.txt\").read())\n",
    "n = 310292\n",
    "highest = df2.loc[n].max()\n",
    "\n",
    "for x in df2.loc[n]:\n",
    "    if x == highest:\n",
    "        print(df2.loc[n].idxmax(axis=1))\n",
    "        break\n",
    "else:\n",
    "    print(0)"
   ]
  },
  {
   "cell_type": "code",
   "execution_count": 73,
   "metadata": {},
   "outputs": [
    {
     "output_type": "execute_result",
     "data": {
      "text/plain": [
       "3    inf\n",
       "4    inf\n",
       "5    inf\n",
       "6    NaN\n",
       "Name: 310133, dtype: float64"
      ]
     },
     "metadata": {},
     "execution_count": 73
    }
   ],
   "source": [
    "df2.loc[310133]"
   ]
  }
 ]
}