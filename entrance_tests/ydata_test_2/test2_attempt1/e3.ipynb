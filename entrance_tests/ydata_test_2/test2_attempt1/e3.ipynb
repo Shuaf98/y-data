{
 "metadata": {
  "language_info": {
   "codemirror_mode": {
    "name": "ipython",
    "version": 3
   },
   "file_extension": ".py",
   "mimetype": "text/x-python",
   "name": "python",
   "nbconvert_exporter": "python",
   "pygments_lexer": "ipython3",
   "version": "3.9.1"
  },
  "orig_nbformat": 2,
  "kernelspec": {
   "name": "python391jvsc74a57bd09b8ab61c9e77274f2d446992832627a1a97087245ff5de8b0d11c3c770be55a5",
   "display_name": "Python 3.9.1 64-bit"
  }
 },
 "nbformat": 4,
 "nbformat_minor": 2,
 "cells": [
  {
   "cell_type": "code",
   "execution_count": 35,
   "metadata": {},
   "outputs": [
    {
     "output_type": "stream",
     "name": "stdout",
     "text": [
      "0.47\n"
     ]
    }
   ],
   "source": [
    "\n",
    "import pandas as pd\n",
    "import numpy as np\n",
    "import os\n",
    "os.chdir(r\"C:\\Users\\sfrie\\Ydata_practice\\Test_2\")\n",
    "df = pd.read_csv('purchase_data.csv')\n",
    "input = open('e1_input.txt').read()\n",
    "prod1, prod2 = input.split()\n",
    "\n",
    "members = list(df['memberID'].unique())\n",
    "\n",
    "def find_common(prod1, prod2):\n",
    "    all_members = []\n",
    "    for x in members:\n",
    "        test = df[df['memberID'] == x]\n",
    "        if int(prod1) in test['productID'].values and int(prod2) in test['productID'].values:\n",
    "            all_members.append(x)\n",
    "    if all_members != []:\n",
    "        return all_members\n",
    "    else:\n",
    "        return 0\n",
    "\n",
    "def similarity (product_1, product_2):  \n",
    "    common = find_common(product_1, product_2) \n",
    "    sum_mult =0\n",
    "    sum_sq_1=0\n",
    "    sum_sq_2=0\n",
    "    for member in common:  \n",
    "        prod1_count = len(df[(df['memberID'] == member) & (df['productID'] == int(product_1))])\n",
    "        prod2_count = len(df[(df['memberID'] == member) & (df['productID'] == int(product_2))])\n",
    "        prod1_score = int(df[df['productID'] == int(product_1)]['productScore'].unique())\n",
    "        prod2_score = int(df[df['productID'] == int(product_2)]['productScore'].unique())\n",
    "        sum_mult += (prod1_count - prod1_score) *  (prod2_count - prod2_score)  \n",
    "        sum_sq_1 += pow((prod1_count - prod1_score), 2)\n",
    "        sum_sq_2 += pow((prod2_count - prod2_score), 2)\n",
    "    similarity = sum_mult / (np.sqrt(sum_sq_1) * np.sqrt(sum_sq_2))\n",
    "    if similarity != np.nan:\n",
    "        return round(similarity, 2)\n",
    "    else:\n",
    "        return 'NA'\n",
    "if int(prod1) in list(df['productID']) and int(prod2) in list(df['productID']):\n",
    "    print(similarity(prod1, prod2))\n",
    "else:\n",
    "    print('NA')"
   ]
  },
  {
   "cell_type": "code",
   "execution_count": 31,
   "metadata": {},
   "outputs": [
    {
     "output_type": "execute_result",
     "data": {
      "text/plain": [
       "[['1', '2'], ['2', '2'], ['3', '2']]"
      ]
     },
     "metadata": {},
     "execution_count": 31
    }
   ],
   "source": [
    "import pandas as pd\n",
    "import os\n",
    "import numpy as np\n"
   ]
  },
  {
   "cell_type": "code",
   "execution_count": 51,
   "metadata": {},
   "outputs": [],
   "source": [
    "def predicted_count (new_member, candidate_product): #candidate product is a loop of each product in the excel\n",
    "    sum_mult = 0\n",
    "    sum_similarities = 0\n",
    "    predicted_count = 0\n",
    "    dict = {}\n",
    "    for line in new_member:\n",
    "        bought_product, amount = int(line[0]), int(line[1])\n",
    "\n",
    "        sum_mult += similarity(candidate_product, bought_product) * amount  \n",
    "        sum_similarities += abs(similarity(candidate_product, bought_product))  \n",
    "        predicted_count = (sum_mult / sum_similarities)\n",
    "        dict[candidate_product] == predicted_count\n",
    "        \n",
    "    return dict\n"
   ]
  },
  {
   "cell_type": "code",
   "execution_count": 52,
   "metadata": {},
   "outputs": [
    {
     "output_type": "error",
     "ename": "KeyError",
     "evalue": "10",
     "traceback": [
      "\u001b[1;31m---------------------------------------------------------------------------\u001b[0m",
      "\u001b[1;31mKeyError\u001b[0m                                  Traceback (most recent call last)",
      "\u001b[1;32m<ipython-input-52-01b3438f90cf>\u001b[0m in \u001b[0;36m<module>\u001b[1;34m\u001b[0m\n\u001b[0;32m      3\u001b[0m \u001b[0mcandidate_products\u001b[0m \u001b[1;33m=\u001b[0m \u001b[0mdf\u001b[0m\u001b[1;33m[\u001b[0m\u001b[1;34m'productID'\u001b[0m\u001b[1;33m]\u001b[0m\u001b[1;33m.\u001b[0m\u001b[0munique\u001b[0m\u001b[1;33m(\u001b[0m\u001b[1;33m)\u001b[0m\u001b[1;33m\u001b[0m\u001b[1;33m\u001b[0m\u001b[0m\n\u001b[0;32m      4\u001b[0m \u001b[1;32mfor\u001b[0m \u001b[0mcandidate_product\u001b[0m \u001b[1;32min\u001b[0m \u001b[0mcandidate_products\u001b[0m\u001b[1;33m:\u001b[0m\u001b[1;33m\u001b[0m\u001b[1;33m\u001b[0m\u001b[0m\n\u001b[1;32m----> 5\u001b[1;33m     \u001b[0mpredicted_count\u001b[0m\u001b[1;33m(\u001b[0m\u001b[0mnew_member\u001b[0m\u001b[1;33m,\u001b[0m \u001b[0mcandidate_product\u001b[0m\u001b[1;33m)\u001b[0m\u001b[1;33m\u001b[0m\u001b[1;33m\u001b[0m\u001b[0m\n\u001b[0m\u001b[0;32m      6\u001b[0m \u001b[1;33m\u001b[0m\u001b[0m\n\u001b[0;32m      7\u001b[0m \u001b[1;33m\u001b[0m\u001b[0m\n",
      "\u001b[1;32m<ipython-input-51-af5ba2437f5d>\u001b[0m in \u001b[0;36mpredicted_count\u001b[1;34m(new_member, candidate_product)\u001b[0m\n\u001b[0;32m     10\u001b[0m         \u001b[0msum_similarities\u001b[0m \u001b[1;33m+=\u001b[0m \u001b[0mabs\u001b[0m\u001b[1;33m(\u001b[0m\u001b[0msimilarity\u001b[0m\u001b[1;33m(\u001b[0m\u001b[0mcandidate_product\u001b[0m\u001b[1;33m,\u001b[0m \u001b[0mbought_product\u001b[0m\u001b[1;33m)\u001b[0m\u001b[1;33m)\u001b[0m\u001b[1;33m\u001b[0m\u001b[1;33m\u001b[0m\u001b[0m\n\u001b[0;32m     11\u001b[0m         \u001b[0mpredicted_count\u001b[0m \u001b[1;33m=\u001b[0m \u001b[1;33m(\u001b[0m\u001b[0msum_mult\u001b[0m \u001b[1;33m/\u001b[0m \u001b[0msum_similarities\u001b[0m\u001b[1;33m)\u001b[0m\u001b[1;33m\u001b[0m\u001b[1;33m\u001b[0m\u001b[0m\n\u001b[1;32m---> 12\u001b[1;33m         \u001b[0mdict\u001b[0m\u001b[1;33m[\u001b[0m\u001b[0mcandidate_product\u001b[0m\u001b[1;33m]\u001b[0m \u001b[1;33m==\u001b[0m \u001b[0mpredicted_count\u001b[0m\u001b[1;33m\u001b[0m\u001b[1;33m\u001b[0m\u001b[0m\n\u001b[0m\u001b[0;32m     13\u001b[0m \u001b[1;33m\u001b[0m\u001b[0m\n\u001b[0;32m     14\u001b[0m     \u001b[1;32mreturn\u001b[0m \u001b[0mdict\u001b[0m\u001b[1;33m\u001b[0m\u001b[1;33m\u001b[0m\u001b[0m\n",
      "\u001b[1;31mKeyError\u001b[0m: 10"
     ]
    }
   ],
   "source": [
    "new_member = open(r\"C:\\Users\\sfrie\\Ydata_practice\\Test_2\\e3_input\").readlines()\n",
    "new_member = [x.split() for x in new_member]\n",
    "candidate_products = df['productID'].unique()\n",
    "for candidate_product in candidate_products:\n",
    "    predicted_count(new_member, candidate_product)\n",
    "    \n",
    "     "
   ]
  }
 ]
}