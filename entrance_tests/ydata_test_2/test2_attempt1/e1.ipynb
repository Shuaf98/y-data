{
 "metadata": {
  "language_info": {
   "codemirror_mode": {
    "name": "ipython",
    "version": 3
   },
   "file_extension": ".py",
   "mimetype": "text/x-python",
   "name": "python",
   "nbconvert_exporter": "python",
   "pygments_lexer": "ipython3",
   "version": "3.9.1"
  },
  "orig_nbformat": 2,
  "kernelspec": {
   "name": "python391jvsc74a57bd09b8ab61c9e77274f2d446992832627a1a97087245ff5de8b0d11c3c770be55a5",
   "display_name": "Python 3.9.1 64-bit"
  }
 },
 "nbformat": 4,
 "nbformat_minor": 2,
 "cells": [
  {
   "cell_type": "code",
   "execution_count": 41,
   "metadata": {},
   "outputs": [],
   "source": [
    "import pandas as pd\n",
    "import numpy as np\n",
    "import os\n",
    "df = pd.read_csv('purchase_data.csv')\n",
    "input = open('e1_input.txt').read()\n",
    "prod1, prod2 = input.split()\n",
    "\n"
   ]
  },
  {
   "cell_type": "code",
   "execution_count": 42,
   "metadata": {},
   "outputs": [
    {
     "output_type": "execute_result",
     "data": {
      "text/plain": [
       "   timestamp  memberID  productID  productScore\n",
       "0  827500641       215         10             2\n",
       "1  827500641       215         11             4\n",
       "2  827500641       215         16             3\n",
       "3  827500641       215         21             4\n",
       "4  827500641       215         40             3"
      ],
      "text/html": "<div>\n<style scoped>\n    .dataframe tbody tr th:only-of-type {\n        vertical-align: middle;\n    }\n\n    .dataframe tbody tr th {\n        vertical-align: top;\n    }\n\n    .dataframe thead th {\n        text-align: right;\n    }\n</style>\n<table border=\"1\" class=\"dataframe\">\n  <thead>\n    <tr style=\"text-align: right;\">\n      <th></th>\n      <th>timestamp</th>\n      <th>memberID</th>\n      <th>productID</th>\n      <th>productScore</th>\n    </tr>\n  </thead>\n  <tbody>\n    <tr>\n      <th>0</th>\n      <td>827500641</td>\n      <td>215</td>\n      <td>10</td>\n      <td>2</td>\n    </tr>\n    <tr>\n      <th>1</th>\n      <td>827500641</td>\n      <td>215</td>\n      <td>11</td>\n      <td>4</td>\n    </tr>\n    <tr>\n      <th>2</th>\n      <td>827500641</td>\n      <td>215</td>\n      <td>16</td>\n      <td>3</td>\n    </tr>\n    <tr>\n      <th>3</th>\n      <td>827500641</td>\n      <td>215</td>\n      <td>21</td>\n      <td>4</td>\n    </tr>\n    <tr>\n      <th>4</th>\n      <td>827500641</td>\n      <td>215</td>\n      <td>40</td>\n      <td>3</td>\n    </tr>\n  </tbody>\n</table>\n</div>"
     },
     "metadata": {},
     "execution_count": 42
    }
   ],
   "source": [
    "df.head(5)"
   ]
  },
  {
   "cell_type": "code",
   "execution_count": 43,
   "metadata": {},
   "outputs": [],
   "source": [
    "members = list(df['memberID'].unique())\n"
   ]
  },
  {
   "cell_type": "code",
   "execution_count": 55,
   "metadata": {
    "tags": []
   },
   "outputs": [
    {
     "output_type": "stream",
     "name": "stdout",
     "text": [
      "247\n91\n119\n126\n104\n80\n1\n196\n208\n96\n174\n131\n73\n205\n78\n156\n201\n50\n132\n36\n"
     ]
    }
   ],
   "source": [
    "\n",
    "all_members = []\n",
    "for x in members:\n",
    "    test = df[df['memberID'] == x]\n",
    "    if int(prod1) in test['productID'].values and int(prod2) in test['productID'].values:\n",
    "        all_members.append(x)\n",
    "for x in all_members:\n",
    "    print(x)"
   ]
  },
  {
   "cell_type": "code",
   "execution_count": 45,
   "metadata": {},
   "outputs": [
    {
     "output_type": "execute_result",
     "data": {
      "text/plain": [
       "         timestamp  memberID  productID  productScore\n",
       "96718   1307410185        36        217             5\n",
       "96719   1307410189        36        248             2\n",
       "96720   1307410197        36        241             4\n",
       "96721   1307410202        36        190             3\n",
       "96722   1307410213        36        203             3\n",
       "...            ...       ...        ...           ...\n",
       "108554  1421341776        36        217             5\n",
       "108556  1421515557        36        325             4\n",
       "108637  1421880705        36        132             3\n",
       "108640  1422074496        36         78             5\n",
       "108883  1424305194        36        227             4\n",
       "\n",
       "[1447 rows x 4 columns]"
      ],
      "text/html": "<div>\n<style scoped>\n    .dataframe tbody tr th:only-of-type {\n        vertical-align: middle;\n    }\n\n    .dataframe tbody tr th {\n        vertical-align: top;\n    }\n\n    .dataframe thead th {\n        text-align: right;\n    }\n</style>\n<table border=\"1\" class=\"dataframe\">\n  <thead>\n    <tr style=\"text-align: right;\">\n      <th></th>\n      <th>timestamp</th>\n      <th>memberID</th>\n      <th>productID</th>\n      <th>productScore</th>\n    </tr>\n  </thead>\n  <tbody>\n    <tr>\n      <th>96718</th>\n      <td>1307410185</td>\n      <td>36</td>\n      <td>217</td>\n      <td>5</td>\n    </tr>\n    <tr>\n      <th>96719</th>\n      <td>1307410189</td>\n      <td>36</td>\n      <td>248</td>\n      <td>2</td>\n    </tr>\n    <tr>\n      <th>96720</th>\n      <td>1307410197</td>\n      <td>36</td>\n      <td>241</td>\n      <td>4</td>\n    </tr>\n    <tr>\n      <th>96721</th>\n      <td>1307410202</td>\n      <td>36</td>\n      <td>190</td>\n      <td>3</td>\n    </tr>\n    <tr>\n      <th>96722</th>\n      <td>1307410213</td>\n      <td>36</td>\n      <td>203</td>\n      <td>3</td>\n    </tr>\n    <tr>\n      <th>...</th>\n      <td>...</td>\n      <td>...</td>\n      <td>...</td>\n      <td>...</td>\n    </tr>\n    <tr>\n      <th>108554</th>\n      <td>1421341776</td>\n      <td>36</td>\n      <td>217</td>\n      <td>5</td>\n    </tr>\n    <tr>\n      <th>108556</th>\n      <td>1421515557</td>\n      <td>36</td>\n      <td>325</td>\n      <td>4</td>\n    </tr>\n    <tr>\n      <th>108637</th>\n      <td>1421880705</td>\n      <td>36</td>\n      <td>132</td>\n      <td>3</td>\n    </tr>\n    <tr>\n      <th>108640</th>\n      <td>1422074496</td>\n      <td>36</td>\n      <td>78</td>\n      <td>5</td>\n    </tr>\n    <tr>\n      <th>108883</th>\n      <td>1424305194</td>\n      <td>36</td>\n      <td>227</td>\n      <td>4</td>\n    </tr>\n  </tbody>\n</table>\n<p>1447 rows × 4 columns</p>\n</div>"
     },
     "metadata": {},
     "execution_count": 45
    }
   ],
   "source": [
    "test"
   ]
  }
 ]
}