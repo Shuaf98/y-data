{
 "cells": [
  {
   "cell_type": "markdown",
   "source": [
    "## F1"
   ],
   "metadata": {}
  },
  {
   "cell_type": "code",
   "execution_count": 27,
   "source": [
    "import pandas as pd\r\n",
    "\r\n",
    "df = pd.read_csv('rides_data.csv')\r\n",
    "df\r\n",
    "\r\n",
    "input = open('inputF1.txt').read().strip()\r\n",
    "pickup = int(input)\r\n",
    "\r\n",
    "if pickup in set(df.PICKUP_LOCATION_ID):\r\n",
    "    pl = df[df.PICKUP_LOCATION_ID == pickup]\r\n",
    "    pl = pl[pl.DROPOFF_LOCATION_ID != pickup]\r\n",
    "    print(pl.DROPOFF_LOCATION_ID.mode().item())\r\n",
    "else:\r\n",
    "    print(0)\r\n"
   ],
   "outputs": [],
   "metadata": {}
  },
  {
   "cell_type": "markdown",
   "source": [
    "## F2"
   ],
   "metadata": {}
  },
  {
   "cell_type": "code",
   "execution_count": null,
   "source": [
    "import pandas as pd\r\n",
    "\r\n",
    "df = pd.read_csv('weather_data.csv')\r\n",
    "\r\n",
    "#create the weather columns in the weather data\r\n",
    "weather = list(df['description'])\r\n",
    "def weatherType(y):\r\n",
    "    \r\n",
    "    if y == \"sky is clear\":\r\n",
    "        return 'clear'\r\n",
    "    elif y == \"mist\" or y == \"fog\" or y == \"haze\":\r\n",
    "        return 'impaired visibility'\r\n",
    "    elif 'clouds' in y:\r\n",
    "        return 'cloudy'\r\n",
    "    elif 'rain' in y or 'drizzle' in y or 'thunderstorm' in y:\r\n",
    "        return 'rainy'\r\n",
    "    elif y == \"light snow\":\r\n",
    "        return \"snow\"\r\n",
    "df['weather_type'] = df['description'].apply(weatherType)\r\n",
    "\r\n",
    "\r\n",
    "def code(x):\r\n",
    "    if x == \"clear\":\r\n",
    "        return 1\r\n",
    "    elif x == 'impaired visibility':\r\n",
    "        return 2\r\n",
    "    elif x =='cloudy':\r\n",
    "        return 3\r\n",
    "    elif x == 'rainy':\r\n",
    "        return 4\r\n",
    "    elif x == 'snowy':\r\n",
    "        return 5\r\n",
    "df['code'] = df['weather_type'].apply(code)\r\n",
    "\r\n",
    "df2 = pd.read_csv('rides_data.csv')\r\n",
    "input = open('inputF2.txt').read().strip()\r\n",
    "input = int(input)\r\n",
    "\r\n",
    "start = df2[df2['TRIP_ID'] == input].START_TS.item()\r\n",
    "\r\n",
    "\r\n",
    "index = df[df['ts'] == start].code.item()\r\n",
    "print(int(index))\r\n",
    "\r\n"
   ],
   "outputs": [],
   "metadata": {}
  }
 ],
 "metadata": {
  "orig_nbformat": 4,
  "language_info": {
   "name": "python",
   "version": "3.9.1",
   "mimetype": "text/x-python",
   "codemirror_mode": {
    "name": "ipython",
    "version": 3
   },
   "pygments_lexer": "ipython3",
   "nbconvert_exporter": "python",
   "file_extension": ".py"
  },
  "kernelspec": {
   "name": "python3",
   "display_name": "Python 3.9.1 64-bit"
  },
  "interpreter": {
   "hash": "9b8ab61c9e77274f2d446992832627a1a97087245ff5de8b0d11c3c770be55a5"
  }
 },
 "nbformat": 4,
 "nbformat_minor": 2
}