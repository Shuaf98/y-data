{
 "cells": [
  {
   "cell_type": "markdown",
   "source": [
    "## D Part1"
   ],
   "metadata": {}
  },
  {
   "cell_type": "code",
   "execution_count": 2,
   "source": [
    "#O(n^2) time complexity.\r\n",
    "input = open('inputD1.txt').read().strip().split('\\n')\r\n",
    "\r\n",
    "input = [x.split() for x in input]\r\n",
    "input = [list(map(int, x)) for x in input]\r\n",
    "x, m, n = input\r\n",
    "\r\n",
    "count = 0\r\n",
    "for num in m:\r\n",
    "    \r\n",
    "    for check in n:\r\n",
    "        if num + check == x[0]:\r\n",
    "            count +=1\r\n",
    "print(count)"
   ],
   "outputs": [
    {
     "output_type": "stream",
     "name": "stdout",
     "text": [
      "4\n"
     ]
    }
   ],
   "metadata": {}
  },
  {
   "cell_type": "markdown",
   "source": [
    "## D Part2"
   ],
   "metadata": {}
  },
  {
   "cell_type": "code",
   "execution_count": 3,
   "source": [
    "#O(n) time complexity, because of the length of the first loop.\r\n",
    "\r\n",
    "def countPairs(arr1, arr2, m, n, x):\r\n",
    "    count = 0\r\n",
    "    us = set() \r\n",
    "\r\n",
    "    for i in range(m):\r\n",
    "        us.add(arr1[i])\r\n",
    " \r\n",
    "    for j in range(n):\r\n",
    " \r\n",
    "        # find (x - arr2[j]) in 'us'\r\n",
    "        if x[0] - arr2[j] in us: #for each element in arr2, if (target - the element) in array1, then that is a valid pair.\r\n",
    "            count += 1\r\n",
    " \r\n",
    "    return count\r\n",
    "\r\n",
    "input = open('inputD1.txt').read().strip().split('\\n')\r\n",
    "\r\n",
    "input = [x.split() for x in input]\r\n",
    "input = [list(map(int, x)) for x in input]\r\n",
    "x, arr1, arr2 = input\r\n",
    "m = len(arr1)\r\n",
    "n = len(arr2)\r\n",
    "print(countPairs(arr1, arr2, m, n, x))"
   ],
   "outputs": [
    {
     "output_type": "stream",
     "name": "stdout",
     "text": [
      "4\n"
     ]
    }
   ],
   "metadata": {}
  },
  {
   "cell_type": "markdown",
   "source": [
    "## D Part 3"
   ],
   "metadata": {}
  },
  {
   "cell_type": "code",
   "execution_count": 23,
   "source": [
    "#O(n) time complexity, I think (because of the while loop)\r\n",
    "def closest(arr1, arr2, m, n, x):\r\n",
    "    arr1 = sorted(arr1)\r\n",
    "    arr2 = sorted(arr2)\r\n",
    "\r\n",
    "    l = 0\r\n",
    "    r = n-1\r\n",
    "    dif = 100000\r\n",
    "    while l <m and  r>=0:\r\n",
    "        if abs(arr1[l] + arr2[r] - x) < dif:\r\n",
    "            index1 = l\r\n",
    "            index2 = r\r\n",
    "            dif = abs(arr1[l] + arr2[r] - x)\r\n",
    "\r\n",
    "        if arr1[l] +arr2[r] > x:\r\n",
    "            r = r-1\r\n",
    "        else:\r\n",
    "            l= l+1\r\n",
    "\r\n",
    "    return arr1[index1], arr2[index2]\r\n",
    "\r\n",
    "            \r\n",
    "input = open('inputD2.txt').read().strip().split('\\n')\r\n",
    "\r\n",
    "input = [x.split() for x in input]\r\n",
    "input = [list(map(int, x)) for x in input]\r\n",
    "x, arr1, arr2 = input\r\n",
    "m = len(arr1)\r\n",
    "n = len(arr2)\r\n",
    "\r\n",
    "print(closest(arr1, arr2, m, n, x[0]))"
   ],
   "outputs": [
    {
     "output_type": "stream",
     "name": "stdout",
     "text": [
      "(7, 40)\n"
     ]
    }
   ],
   "metadata": {}
  }
 ],
 "metadata": {
  "orig_nbformat": 4,
  "language_info": {
   "name": "python",
   "version": "3.9.1",
   "mimetype": "text/x-python",
   "codemirror_mode": {
    "name": "ipython",
    "version": 3
   },
   "pygments_lexer": "ipython3",
   "nbconvert_exporter": "python",
   "file_extension": ".py"
  },
  "kernelspec": {
   "name": "python3",
   "display_name": "Python 3.9.1 64-bit"
  },
  "interpreter": {
   "hash": "9b8ab61c9e77274f2d446992832627a1a97087245ff5de8b0d11c3c770be55a5"
  }
 },
 "nbformat": 4,
 "nbformat_minor": 2
}