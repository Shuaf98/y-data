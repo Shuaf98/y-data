{
 "cells": [
  {
   "cell_type": "code",
   "execution_count": 67,
   "source": [
    "import pandas as pd\r\n",
    "df = pd.read_csv('vehicles.csv')\r\n",
    "make = list(df['model'])\r\n",
    "make = [x.split() for x in make]\r\n",
    "make = [x[0] for x in make]\r\n",
    "df['make'] = make\r\n",
    "\r\n",
    "for x in range(1,16):\r\n",
    "    most = df[(df['vehicle_age'] == x) & (df['type'] == 'sedan')]\r\n",
    "    best = most['make'].mode()\r\n",
    "    val = most['make'].value_counts().max()\r\n",
    "    \r\n",
    "    df5 = most[(most['make'] == best.item()) & (most['condition'] == 5)]\r\n",
    "    df4 = most[(most['make'] == best.item()) & (most['condition'] == 4)]\r\n",
    "    df3 = most[(most['make'] == best.item()) & (most['condition'] == 3)]\r\n",
    "    df2 = most[(most['make'] == best.item()) & (most['condition'] == 2)]\r\n",
    "    df1 = most[(most['make'] == best.item()) & (most['condition'] == 1)]\r\n",
    "    df0 = most[(most['make'] == best.item()) & (most['condition'] == 0)]\r\n",
    "\r\n",
    "    avg5 = int(df5['price'].mean())\r\n",
    "    avg4 = int(df4['price'].mean())\r\n",
    "    avg3 = int(df3['price'].mean())\r\n",
    "    avg2 = int(df2['price'].mean())\r\n",
    "    avg1 = int(df1['price'].mean())\r\n",
    "    avg0 = int(df1['price'].mean())\r\n",
    "\r\n",
    "\r\n",
    "    print(x, best.item(), avg5, avg4, avg3, avg2, avg1, avg0 )\r\n",
    "    "
   ],
   "outputs": [
    {
     "output_type": "error",
     "ename": "ValueError",
     "evalue": "cannot convert float NaN to integer",
     "traceback": [
      "\u001b[1;31m---------------------------------------------------------------------------\u001b[0m",
      "\u001b[1;31mValueError\u001b[0m                                Traceback (most recent call last)",
      "\u001b[1;32m<ipython-input-67-ef1defbb4fff>\u001b[0m in \u001b[0;36m<module>\u001b[1;34m\u001b[0m\n\u001b[0;32m     22\u001b[0m     \u001b[0mavg3\u001b[0m \u001b[1;33m=\u001b[0m \u001b[0mint\u001b[0m\u001b[1;33m(\u001b[0m\u001b[0mdf3\u001b[0m\u001b[1;33m[\u001b[0m\u001b[1;34m'price'\u001b[0m\u001b[1;33m]\u001b[0m\u001b[1;33m.\u001b[0m\u001b[0mmean\u001b[0m\u001b[1;33m(\u001b[0m\u001b[1;33m)\u001b[0m\u001b[1;33m)\u001b[0m\u001b[1;33m\u001b[0m\u001b[1;33m\u001b[0m\u001b[0m\n\u001b[0;32m     23\u001b[0m     \u001b[0mavg2\u001b[0m \u001b[1;33m=\u001b[0m \u001b[0mint\u001b[0m\u001b[1;33m(\u001b[0m\u001b[0mdf2\u001b[0m\u001b[1;33m[\u001b[0m\u001b[1;34m'price'\u001b[0m\u001b[1;33m]\u001b[0m\u001b[1;33m.\u001b[0m\u001b[0mmean\u001b[0m\u001b[1;33m(\u001b[0m\u001b[1;33m)\u001b[0m\u001b[1;33m)\u001b[0m\u001b[1;33m\u001b[0m\u001b[1;33m\u001b[0m\u001b[0m\n\u001b[1;32m---> 24\u001b[1;33m     \u001b[0mavg1\u001b[0m \u001b[1;33m=\u001b[0m \u001b[0mint\u001b[0m\u001b[1;33m(\u001b[0m\u001b[0mdf1\u001b[0m\u001b[1;33m[\u001b[0m\u001b[1;34m'price'\u001b[0m\u001b[1;33m]\u001b[0m\u001b[1;33m.\u001b[0m\u001b[0mmean\u001b[0m\u001b[1;33m(\u001b[0m\u001b[1;33m)\u001b[0m\u001b[1;33m)\u001b[0m\u001b[1;33m\u001b[0m\u001b[1;33m\u001b[0m\u001b[0m\n\u001b[0m\u001b[0;32m     25\u001b[0m     \u001b[0mavg0\u001b[0m \u001b[1;33m=\u001b[0m \u001b[0mint\u001b[0m\u001b[1;33m(\u001b[0m\u001b[0mdf1\u001b[0m\u001b[1;33m[\u001b[0m\u001b[1;34m'price'\u001b[0m\u001b[1;33m]\u001b[0m\u001b[1;33m.\u001b[0m\u001b[0mmean\u001b[0m\u001b[1;33m(\u001b[0m\u001b[1;33m)\u001b[0m\u001b[1;33m)\u001b[0m\u001b[1;33m\u001b[0m\u001b[1;33m\u001b[0m\u001b[0m\n\u001b[0;32m     26\u001b[0m \u001b[1;33m\u001b[0m\u001b[0m\n",
      "\u001b[1;31mValueError\u001b[0m: cannot convert float NaN to integer"
     ]
    }
   ],
   "metadata": {}
  },
  {
   "cell_type": "code",
   "execution_count": 106,
   "source": [
    "df = pd.read_csv('returns_data.csv')\r\n",
    "df['return'].dropna()\r\n",
    "zero = df[df['return'] == 1]\r\n",
    "\r\n",
    "df = df[df['department'] == 'outdoor furniture']\r\n",
    "df.count()\r\n",
    "# one = df[df['return'] ==1]\r\n",
    "# print(one)\r\n",
    "\r\n",
    "\r\n",
    "\r\n"
   ],
   "outputs": [
    {
     "output_type": "execute_result",
     "data": {
      "text/plain": [
       "time_of_purchase     3\n",
       "club_membership      3\n",
       "checkout_type        3\n",
       "payment_method       3\n",
       "product_code         3\n",
       "department           3\n",
       "items_in_purchase    3\n",
       "cost                 3\n",
       "cashier              3\n",
       "return               3\n",
       "dtype: int64"
      ]
     },
     "metadata": {},
     "execution_count": 106
    }
   ],
   "metadata": {}
  }
 ],
 "metadata": {
  "orig_nbformat": 4,
  "language_info": {
   "name": "python",
   "version": "3.9.1"
  },
  "kernelspec": {
   "name": "python3",
   "display_name": "Python 3.9.1 64-bit"
  },
  "interpreter": {
   "hash": "9b8ab61c9e77274f2d446992832627a1a97087245ff5de8b0d11c3c770be55a5"
  }
 },
 "nbformat": 4,
 "nbformat_minor": 2
}