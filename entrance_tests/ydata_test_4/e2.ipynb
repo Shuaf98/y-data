{
 "cells": [
  {
   "cell_type": "code",
   "execution_count": null,
   "source": [
    "import pandas as pd\r\n",
    "df = pd.read_csv('vehicles.csv')\r\n",
    "make = list(df['model'])\r\n",
    "make = [x.split() for x in make]\r\n",
    "make = [x[0] for x in make]\r\n",
    "df['make'] = make\r\n",
    "\r\n",
    "for x in range(1,16):\r\n",
    "    most = df[(df['vehicle_age'] == x) & (df['type'] == 'sedan')]\r\n",
    "    best = most['make'].mode()\r\n",
    "    val = most['make'].value_counts().max()\r\n",
    "    \r\n",
    "    df5 = most[(most['make'] == best.item()) & (most['condition'] == 5)]\r\n",
    "    df4 = most[(most['make'] == best.item()) & (most['condition'] == 4)]\r\n",
    "    df3 = most[(most['make'] == best.item()) & (most['condition'] == 3)]\r\n",
    "    df2 = most[(most['make'] == best.item()) & (most['condition'] == 2)]\r\n",
    "    df1 = most[(most['make'] == best.item()) & (most['condition'] == 1)]\r\n",
    "    df0 = most[(most['make'] == best.item()) & (most['condition'] == 0)]\r\n",
    "\r\n",
    "    avg5 = int(df5['price'].mean())\r\n",
    "    avg4 = int(df4['price'].mean())\r\n",
    "    avg3 = int(df3['price'].mean())\r\n",
    "    avg2 = int(df2['price'].mean())\r\n",
    "    avg1 = int(df1['price'].mean())\r\n",
    "    avg0 = int(df1['price'].mean())\r\n",
    "\r\n",
    "\r\n",
    "    print(x, best.item(), avg5, avg4, avg3, avg2, avg1, avg0 )\r\n",
    "    \r\n",
    "    \r\n",
    "// Don't have time to fix the Value Error: cannot convert float NAN to integer    "
   ],
   "outputs": [],
   "metadata": {}
  }
 ],
 "metadata": {
  "orig_nbformat": 4,
  "language_info": {
   "name": "python"
  }
 },
 "nbformat": 4,
 "nbformat_minor": 2
}